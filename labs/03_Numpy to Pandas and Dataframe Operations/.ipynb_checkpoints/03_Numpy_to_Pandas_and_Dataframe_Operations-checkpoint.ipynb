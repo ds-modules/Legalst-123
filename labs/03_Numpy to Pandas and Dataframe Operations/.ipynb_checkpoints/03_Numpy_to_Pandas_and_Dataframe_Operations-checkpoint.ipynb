{
 "cells": [
  {
   "cell_type": "markdown",
   "id": "9e6b96b0",
   "metadata": {
    "id": "9e6b96b0"
   },
   "source": [
    "# [LEGALST-123] Lab 03: Numpy to Pandas & DataFrame Operations"
   ]
  },
  {
   "cell_type": "code",
   "execution_count": null,
   "id": "6dd2f8d8",
   "metadata": {
    "id": "6dd2f8d8"
   },
   "outputs": [],
   "source": [
    "import datascience\n",
    "from datascience import *\n",
    "import pandas as pd\n",
    "import numpy as np\n",
    "%matplotlib inline\n",
    "import matplotlib.pyplot as plt\n",
    "import random\n",
    "from datetime import datetime"
   ]
  },
  {
   "cell_type": "markdown",
   "id": "08c03076",
   "metadata": {},
   "source": [
    "# Introduction\n",
    "In this lab, we'll be emphasizing a shift from the `datascience` package utilized in Data 8 to the `pandas` library, a more common and advanced data analysis and science library. We'll be using a sample of a dataset about Nashville police stops for this lab. The objectives of this lab are as follows:\n",
    "\n",
    "- **Understanding the Equivalent Methods of `datascience` in `pandas`**: \n",
    "    - We will be reviewing some of the major functionalities of the `datascience` package you learned about in Data 8 and comparing them to the similar methods in `pandas`. Much of this will revolve around reading in data from a CSV file, filtering rows based on certain conditions, and selecting specific rows or column to increase readability in our data analysis.\n",
    "\n",
    "- **Dealing with Null Values**:\n",
    "    - Missing values are very common in real-world datasets and can severly impact our ability to effectively perform data analysis, so we'll be using our new skills in the `pandas` library to deal with these missing values in our data.\n",
    "\n",
    "- **Visualizations**: \n",
    "    - We'll be introducing some simple visualizations that you can create with the `matplotlib.pyplot` library. In the next lab, we'll build on some of these basic techniques to learn how to make more advanced ones and stylize them to look nicer."
   ]
  },
  {
   "cell_type": "markdown",
   "id": "d31315f6",
   "metadata": {},
   "source": [
    "<br>\n",
    "\n",
    "<hr style=\"border: 1px solid #fdb515;\" />\n",
    "\n",
    "<br>"
   ]
  },
  {
   "cell_type": "markdown",
   "id": "e087890b",
   "metadata": {
    "id": "e087890b"
   },
   "source": [
    "## From `NumPy` and `datascience` to `pandas`"
   ]
  },
  {
   "cell_type": "markdown",
   "id": "c8a1a0cc",
   "metadata": {
    "id": "c8a1a0cc"
   },
   "source": [
    "### `pandas` Data Structures Overview: DataFrames, Series, Indices"
   ]
  },
  {
   "cell_type": "markdown",
   "id": "ecd76e80",
   "metadata": {
    "id": "ecd76e80"
   },
   "source": [
    "In Data 8, you learned to represent data with columns and rows in a Table object through the `datascience package`. You can get a refresher on the major functions and methods via the [Data 8 Python reference here](https://www.data8.org/fa23/reference/).\n",
    "\n",
    "`pandas` is a Python library that is commonly used for data science in industry. We will primarily be using `pandas` in the Python assignments for this class. \n",
    "\n",
    "The `pandas` version of a Table is a DataFrame. You can start familiarizing yourself with the [things you can do with a DataFrame here](https://pandas.pydata.org/docs/reference/frame.html).\n",
    "\n",
    "**How is a DataFrame different from a Table?**\n",
    "- A column in a DataFrame is a Series, while a column in a Table is an array.\n",
    "- A DataFrame has an index (represented in bold on its left side).\n",
    "\n",
    "**What is a Series?**\n",
    "- A one-dimensional array-like object that contains:\n",
    "    - a sequence of values of the same type\n",
    "    - a sequence of labels (called the index)\n",
    "- It is different from an array because it has an explicitly defined index associated with the values, whereas an array has an implicitly defined integer index associated with the values.\n",
    "\n",
    "**What is an index?**\n",
    "- Indices (plural of index) are row labels.\n",
    "- They can be numeric or non-numeric.\n",
    "- Indices can act as a row number, where all of the values are unique.\n",
    "- They can also be named and not unique (for example, if your index represents a year or a name that has multiple rows in the DataFrame)."
   ]
  },
  {
   "cell_type": "markdown",
   "id": "c2eb8315",
   "metadata": {},
   "source": [
    "### Data Exploration and Manipulation"
   ]
  },
  {
   "cell_type": "markdown",
   "id": "0c8475b2",
   "metadata": {
    "id": "0c8475b2"
   },
   "source": [
    "In this section, we'll begin taking a look at the methods that `pandas` offers for performing operations for data exploration and manipulation. In the exercises for this section, we will be performing operations in `NumPy` and `datascience`, along with `pandas`, to illustrate the translation between the two ways of performing data analysis. The section is outlined as follows:\n",
    "\n",
    "1. Reading in data from a CSV file\n",
    "1. Finding number of rows and columns\n",
    "1. Indexing\n",
    "1. Filtering\n",
    "1. Grouping"
   ]
  },
  {
   "cell_type": "markdown",
   "id": "31f897db",
   "metadata": {
    "id": "31f897db"
   },
   "source": [
    "#### 1. Reading in data from a CSV file\n",
    "- `datascience` uses `Table.read_table`.\n",
    "- `pandas` uses `pd.read_csv`."
   ]
  },
  {
   "cell_type": "markdown",
   "id": "9ae9cf86",
   "metadata": {
    "id": "9ae9cf86"
   },
   "source": [
    "**Disclaimer**: The Nashville police stop dataset is very large. If we try to load in the full dataset in this notebook as a `datascience` Table and a `pandas` dataframe, our kernel will crash. Therefore, for this notebook, we are loading in just a sample of the dataset."
   ]
  },
  {
   "cell_type": "code",
   "execution_count": null,
   "id": "26104efd",
   "metadata": {
    "colab": {
     "base_uri": "https://localhost:8080/",
     "height": 517
    },
    "id": "26104efd",
    "outputId": "c45fe714-dff6-4c17-8d4b-6043ac0554ba"
   },
   "outputs": [],
   "source": [
    "datascience_stops = Table.read_table(\"https://github.com/ds-modules/data/raw/main/LS123_nashville_sample.csv\", index_col=0)\n",
    "datascience_stops.show(5)"
   ]
  },
  {
   "cell_type": "code",
   "execution_count": null,
   "id": "f95c51de",
   "metadata": {
    "colab": {
     "base_uri": "https://localhost:8080/"
    },
    "id": "f95c51de",
    "outputId": "9c53733c-365f-4757-8967-c24ba405b489"
   },
   "outputs": [],
   "source": [
    "pandas_stops = pd.read_csv(\"https://github.com/ds-modules/data/raw/main/LS123_nashville_sample.csv\", index_col=0)\n",
    "pandas_stops.head(5)"
   ]
  },
  {
   "cell_type": "markdown",
   "id": "07ca96a7",
   "metadata": {
    "id": "07ca96a7"
   },
   "source": [
    "#### 2. Finding number of rows and columns\n",
    "Let's remind ourselves of how we found the number of rows and columns in `datascience`:\n",
    "- `datascience` uses `tbl.num_rows` to find the number of rows and `tbl.num_columns`to find the number of columns."
   ]
  },
  {
   "cell_type": "code",
   "execution_count": null,
   "id": "c51a1661",
   "metadata": {
    "colab": {
     "base_uri": "https://localhost:8080/"
    },
    "id": "c51a1661",
    "outputId": "a226ac6d-811c-4686-8d18-f4bd1f9d7aad"
   },
   "outputs": [],
   "source": [
    "# Number of rows in Table\n",
    "datascience_stops.num_rows"
   ]
  },
  {
   "cell_type": "code",
   "execution_count": null,
   "id": "f7f38603",
   "metadata": {
    "colab": {
     "base_uri": "https://localhost:8080/"
    },
    "id": "f7f38603",
    "outputId": "39beca97-6a3d-46cb-9485-44d94b482009"
   },
   "outputs": [],
   "source": [
    "# Number of columns in Table\n",
    "datascience_stops.num_columns"
   ]
  },
  {
   "cell_type": "markdown",
   "id": "-WDaJzWqxB0G",
   "metadata": {
    "id": "-WDaJzWqxB0G"
   },
   "source": [
    "Now, let's do this with `pandas`.\n",
    "\n",
    "**Question 1:** Looking at the reference sheet, what can we do to return the number of rows and columns of the DataFrame?\n",
    "\n",
    "Note that unlike `datascience`, `pandas` doesn't have a specific function that returns the number of rows or number of columns by itself. There is simply a method that returns the number of rows and column as a pair!"
   ]
  },
  {
   "cell_type": "code",
   "execution_count": null,
   "id": "5c33ba6d",
   "metadata": {
    "colab": {
     "base_uri": "https://localhost:8080/"
    },
    "id": "5c33ba6d",
    "outputId": "15e66b78-ad55-4f58-af19-d74d2b7868e6"
   },
   "outputs": [],
   "source": [
    "# YOUR CODE HERE\n"
   ]
  },
  {
   "cell_type": "markdown",
   "id": "KdoBgnywF_KC",
   "metadata": {
    "id": "KdoBgnywF_KC"
   },
   "source": [
    "**Question 2:** Since it returns a tuple (i.e. the pair of two numbers above), how would you extract the number of rows and columns? Try it out yourself."
   ]
  },
  {
   "cell_type": "code",
   "execution_count": null,
   "id": "r2AVfxTJyjiK",
   "metadata": {
    "colab": {
     "base_uri": "https://localhost:8080/"
    },
    "id": "r2AVfxTJyjiK",
    "outputId": "857881ad-dbd8-4a5f-dfa3-d57e8f857dda"
   },
   "outputs": [],
   "source": [
    "# YOUR CODE HERE\n",
    "num_rows = ...\n",
    "num_columns = ...\n",
    "print(\"Number of rows: \", num_rows, \"Number of columns: \", num_columns)"
   ]
  },
  {
   "cell_type": "markdown",
   "id": "b4aaad96",
   "metadata": {
    "id": "b4aaad96"
   },
   "source": [
    "#### 3. Indexing\n",
    "- For `datascience` Tables:\n",
    "    - Row indexing: `tbl.take(row_indices)`.\n",
    "    - Column indexing: `tbl.column(\"column_name_or_index\")` and `tbl.select(\"column_name_or_index\")`.\n",
    "\n",
    "- For `pandas` DataFrames:\n",
    "    - Label-based extractor for columns and rows: `df.loc[row_labels, \"column_labels\"]`.\n",
    "    - Index-based extractor for columns and rows: `.iloc[row_integers, column_integers]`.\n",
    "    - Context-based extraction `[ ]`."
   ]
  },
  {
   "cell_type": "markdown",
   "id": "d9f1fc45",
   "metadata": {
    "id": "d9f1fc45"
   },
   "source": [
    "The following three cells are examples of `.take()` and `.column()` in the `datascience` package."
   ]
  },
  {
   "cell_type": "code",
   "execution_count": null,
   "id": "d46b37a9",
   "metadata": {
    "colab": {
     "base_uri": "https://localhost:8080/",
     "height": 202
    },
    "id": "d46b37a9",
    "outputId": "e3c68595-ea68-4734-8307-55255749175a"
   },
   "outputs": [],
   "source": [
    "# Extracting the second row of the Table.\n",
    "# This gives us a new table with just the single row that we selected.\n",
    "datascience_stops.take(2)"
   ]
  },
  {
   "cell_type": "code",
   "execution_count": null,
   "id": "4d67e4a0",
   "metadata": {
    "colab": {
     "base_uri": "https://localhost:8080/",
     "height": 349
    },
    "id": "4d67e4a0",
    "outputId": "e8857e4f-32a2-43cb-babc-2116099be077"
   },
   "outputs": [],
   "source": [
    "# Extracting the first through fifth rows of the Table.\n",
    "# This gives us a new table with just the first five rows that we selected.\n",
    "datascience_stops.take(np.arange(0, 3))"
   ]
  },
  {
   "cell_type": "code",
   "execution_count": null,
   "id": "dd00497a",
   "metadata": {
    "colab": {
     "base_uri": "https://localhost:8080/",
     "height": 388
    },
    "id": "dd00497a",
    "outputId": "71820224-8a30-4fee-9199-c1e5f391fd03"
   },
   "outputs": [],
   "source": [
    "# This gives us a copy of the Table with only the column we selected.\n",
    "datascience_stops.select(\"location\")"
   ]
  },
  {
   "cell_type": "markdown",
   "id": "aee97294",
   "metadata": {
    "id": "aee97294"
   },
   "source": [
    "Now, let's see an example of how we get specific rows and columns within a DataFrame:"
   ]
  },
  {
   "cell_type": "markdown",
   "id": "u0uPX4Yo8UU8",
   "metadata": {
    "id": "u0uPX4Yo8UU8"
   },
   "source": [
    "The `.loc[]` method lets us extract data with **specific column or index labels**. We can extract specific rows and columns by passing in lists to the row and column arguments."
   ]
  },
  {
   "cell_type": "code",
   "execution_count": null,
   "id": "78cf9210",
   "metadata": {
    "colab": {
     "base_uri": "https://localhost:8080/",
     "height": 142
    },
    "id": "78cf9210",
    "outputId": "4871e06b-f27a-43bf-8445-6f4b421ce2c3"
   },
   "outputs": [],
   "source": [
    "# Extracting rows at indices 1, 3, and 5 with only the \"location\" and \"subject_age\" columns.\n",
    "# These are list arguments to .loc[].\n",
    "pandas_stops.loc[[1, 3, 5], [\"location\", \"subject_age\"]]"
   ]
  },
  {
   "cell_type": "markdown",
   "id": "cdbf40ad",
   "metadata": {
    "id": "cdbf40ad"
   },
   "source": [
    "If we wanted to select a sequential subset of rows or columns, we can also use slicing. Note that slicing is inclusive when using `.loc[]`, meaning that both the starting and ending rows/columns are included in our slice.\n",
    "\n",
    "An example of slicing would look like this: `pandas_stops.iloc[starting_row:ending_row, \"starting_col\":\"ending_col\"]`."
   ]
  },
  {
   "cell_type": "markdown",
   "id": "b764ea32",
   "metadata": {},
   "source": [
    "**Question 3:** Using `.loc[]`, filter the table so that you only have rows 1, 2, 3, 4, 5 and columns starting at `\"date\"` through `\"location\"`."
   ]
  },
  {
   "cell_type": "code",
   "execution_count": null,
   "id": "2fd548f6",
   "metadata": {
    "colab": {
     "base_uri": "https://localhost:8080/",
     "height": 204
    },
    "id": "2fd548f6",
    "outputId": "c1eefaf6-5ff1-4f28-86dd-f0feb97440d9"
   },
   "outputs": [],
   "source": [
    "# YOUR CODE HERE\n"
   ]
  },
  {
   "cell_type": "markdown",
   "id": "13a023de",
   "metadata": {
    "id": "13a023de"
   },
   "source": [
    "The examples above all selected multiple rows and columns, but we could also use `.loc[]` to select a single row or column."
   ]
  },
  {
   "cell_type": "markdown",
   "id": "012eb417",
   "metadata": {},
   "source": [
    "**Question 4:** Just like you did above, extract rows 1 through 5, but this time with only the `\"location\"` column."
   ]
  },
  {
   "cell_type": "code",
   "execution_count": null,
   "id": "97d3a0c6",
   "metadata": {
    "colab": {
     "base_uri": "https://localhost:8080/"
    },
    "id": "97d3a0c6",
    "outputId": "c21bd01d-8128-4a40-d5cb-d91b4b649e56"
   },
   "outputs": [],
   "source": [
    "# YOUR CODE HERE\n"
   ]
  },
  {
   "cell_type": "markdown",
   "id": "e7e824bd",
   "metadata": {
    "id": "e7e824bd"
   },
   "source": [
    "As you may have noticed after running the previous cell, when we pass in only a single column name into `.loc[]`, it returns a Series, not a DataFrame -- this is why the output doesn't look as nice. A Series is a one-dimensional array-like object that contains:\n",
    "- a sequence of values of the same type\n",
    "- a sequence of labels (called the index).\n",
    "\n",
    "**Note:** If you want the above output to look nicer by returning it as a DataFrame instead of a Series, try putting another set of square brackets [ ] around the `\"location\"` column!"
   ]
  },
  {
   "cell_type": "markdown",
   "id": "8aeed9c2",
   "metadata": {
    "id": "8aeed9c2"
   },
   "source": [
    "If we want to extract all rows or all columns, we use a colon:"
   ]
  },
  {
   "cell_type": "code",
   "execution_count": null,
   "id": "c3fda8de",
   "metadata": {
    "colab": {
     "base_uri": "https://localhost:8080/",
     "height": 419
    },
    "id": "c3fda8de",
    "outputId": "d999b242-bd45-4ea1-ec74-60613534f7bc"
   },
   "outputs": [],
   "source": [
    "# All rows for only the columns \"location\" and \"subject age\"\n",
    "pandas_stops.loc[:, [\"location\", \"subject_age\"]]"
   ]
  },
  {
   "cell_type": "markdown",
   "id": "9a1e28c8",
   "metadata": {
    "id": "9a1e28c8"
   },
   "source": [
    "The `.iloc[]` method lets us specify the **integers of rows and columns** we wish to extract. This means we are extracting the data according to its *position* in the DataFrame. Like `.loc[]`, we can pass in a list, a slice, or a single value. In the following cell, we start with lists:"
   ]
  },
  {
   "cell_type": "code",
   "execution_count": null,
   "id": "2c6ad323",
   "metadata": {
    "colab": {
     "base_uri": "https://localhost:8080/",
     "height": 142
    },
    "id": "2c6ad323",
    "outputId": "a7a06e12-3387-4c30-a301-266321f70699"
   },
   "outputs": [],
   "source": [
    "# Extracting the rows at indices 1, 2, and 3; and the columns at indices 0, 1, and 2\n",
    "pandas_stops.iloc[[1, 2, 3], [0, 1, 2]]"
   ]
  },
  {
   "cell_type": "markdown",
   "id": "7ac5a0fc",
   "metadata": {
    "id": "7ac5a0fc"
   },
   "source": [
    "**Question 5:** Now, still using `.iloc[]`, return the same DataFrame as above, **but without using any lists**.\n",
    "\n",
    "**Hint 1:** Remember that just like with `.loc[]`, you can do slicing in `.iloc[]`!\n",
    "\n",
    "**Hint 2:** Unlike `.loc[]`, `.iloc[]` is right-exclusive. This means that if you slice rows `0:5`, the row at index 5 will not be included! Only the rows at indices 0 through 4 will."
   ]
  },
  {
   "cell_type": "code",
   "execution_count": null,
   "id": "5e39fb19",
   "metadata": {
    "colab": {
     "base_uri": "https://localhost:8080/",
     "height": 142
    },
    "id": "5e39fb19",
    "outputId": "4607f424-90f7-4938-81ac-af35a293aac2"
   },
   "outputs": [],
   "source": [
    "# YOUR CODE HERE\n"
   ]
  },
  {
   "cell_type": "markdown",
   "id": "05f940e5",
   "metadata": {
    "id": "05f940e5"
   },
   "source": [
    "We can pass in single values into `.iloc[]`, which again returns a Series (not a DataFrame)."
   ]
  },
  {
   "cell_type": "code",
   "execution_count": null,
   "id": "d7be24b0",
   "metadata": {
    "colab": {
     "base_uri": "https://localhost:8080/"
    },
    "id": "d7be24b0",
    "outputId": "09b4082d-a97c-48d7-b235-29455a2568a6"
   },
   "outputs": [],
   "source": [
    "# Extracting the rows at positions 1, 2, and 3; and just the column at position 3.\n",
    "pandas_stops.iloc[[1,2,3], 3]"
   ]
  },
  {
   "cell_type": "code",
   "execution_count": null,
   "id": "2c7a02e8",
   "metadata": {
    "colab": {
     "base_uri": "https://localhost:8080/",
     "height": 35
    },
    "id": "2c7a02e8",
    "outputId": "a598e687-95f2-4f4e-d6ea-3b6c663c4ed3"
   },
   "outputs": [],
   "source": [
    "# Extracting a singular value by selecting only the row at position 1 and only the column at position 1.\n",
    "pandas_stops.iloc[1, 1]"
   ]
  },
  {
   "cell_type": "markdown",
   "id": "b76ff98d",
   "metadata": {
    "id": "b76ff98d"
   },
   "source": [
    "`[ ]` is context-dependent. Unlike `.loc[]` (which selects items by label, with the first argument being rows and the second argument being columns) and `.iloc[]` (which selects items by integer, with the first argument being rows and the second argument being columns), **`[ ]` only takes ONE argument.**"
   ]
  },
  {
   "cell_type": "markdown",
   "id": "9caa35ea",
   "metadata": {
    "id": "9caa35ea"
   },
   "source": [
    "One possible argument can be a slice of row numbers. This is like `datascience`'s `tbl.take()` method.\n",
    "\n",
    "**Note that it is right-exclusive.**"
   ]
  },
  {
   "cell_type": "code",
   "execution_count": null,
   "id": "eeadcc99",
   "metadata": {
    "colab": {
     "base_uri": "https://localhost:8080/",
     "height": 446
    },
    "id": "eeadcc99",
    "outputId": "ea5540c2-6103-4827-bf68-1587644f9e36"
   },
   "outputs": [],
   "source": [
    "# Grabbing rows 1 through 3\n",
    "pandas_stops[1:4]"
   ]
  },
  {
   "cell_type": "markdown",
   "id": "9aa367ea",
   "metadata": {
    "id": "9aa367ea"
   },
   "source": [
    "The argument can also be a list of column labels (with all rows kept). This is like `datascience`'s `tbl.select()` method."
   ]
  },
  {
   "cell_type": "code",
   "execution_count": null,
   "id": "417616fb",
   "metadata": {
    "colab": {
     "base_uri": "https://localhost:8080/",
     "height": 419
    },
    "id": "417616fb",
    "outputId": "7ee9ba3b-4bd4-4dba-982e-79abcf9dca18"
   },
   "outputs": [],
   "source": [
    "pandas_stops[[\"date\", \"time\", \"location\"]]"
   ]
  },
  {
   "cell_type": "markdown",
   "id": "ea67a193",
   "metadata": {
    "id": "ea67a193"
   },
   "source": [
    "The argument can also be a single column, which returns a Series. This is like `datascience`'s `tbl.column()` method."
   ]
  },
  {
   "cell_type": "code",
   "execution_count": null,
   "id": "ce4c5505",
   "metadata": {
    "colab": {
     "base_uri": "https://localhost:8080/"
    },
    "id": "ce4c5505",
    "outputId": "ab225d1a-5553-4663-d774-1d69d83f08c6"
   },
   "outputs": [],
   "source": [
    "pandas_stops[\"date\"]"
   ]
  },
  {
   "cell_type": "markdown",
   "id": "e8935745",
   "metadata": {
    "id": "e8935745"
   },
   "source": [
    "#### 4. Filtering"
   ]
  },
  {
   "cell_type": "markdown",
   "id": "f50785c9",
   "metadata": {
    "id": "f50785c9"
   },
   "source": [
    "To filter a table such that we only keep certain values based on a given condition:\n",
    "- `datascience` uses `tbl.where` with a predicate (i.e. `are.below(x)`, `are.between_or_equal_to(x, y)`, etc.).\n",
    "- There are multiple ways to filter a `pandas` DataFrame. We could use the `.loc[]` and `.iloc[]` functions above, but some easier methods that we'll explore below are using brackets (`df[df[\"column_name\"] condition`) or the `df.query('column_name condition')` function."
   ]
  },
  {
   "cell_type": "markdown",
   "id": "10073fa8",
   "metadata": {
    "id": "10073fa8"
   },
   "source": [
    "In the following cells, we review some examples of using the `tbl.where()` method from `datascience`. For a full list of the `are` predicates that you can use with this method, [take a look at the reference sheet here.](https://www.data8.org/fa23/reference/)"
   ]
  },
  {
   "cell_type": "code",
   "execution_count": null,
   "id": "372729fe",
   "metadata": {
    "colab": {
     "base_uri": "https://localhost:8080/",
     "height": 901
    },
    "id": "372729fe",
    "outputId": "ccf8daaa-18df-413b-e06d-0b511ad4fc4c"
   },
   "outputs": [],
   "source": [
    "# Return a copy of the Table with only the stops where the person was older than 35.\n",
    "datascience_stops.where(\"subject_age\", are.above(35))"
   ]
  },
  {
   "cell_type": "markdown",
   "id": "2162d615",
   "metadata": {
    "id": "2162d615"
   },
   "source": [
    "Now, let's see how we can do this type of filtering in `pandas`:\n",
    "\n",
    "*   We can use brackets to filter a DataFrame on a certain condition. Available operators are == (equal), != (not equal to), >, >=, <, and <=.\n",
    "*   For instance, `df[df[\"column_name\"] condition]` will return a filtered version of the DataFrame with only the rows that satisfy the condition."
   ]
  },
  {
   "cell_type": "code",
   "execution_count": null,
   "id": "96a61e42",
   "metadata": {
    "colab": {
     "base_uri": "https://localhost:8080/",
     "height": 412
    },
    "id": "96a61e42",
    "outputId": "b9e6cd8c-6fa8-404a-c0ab-f22fad391402"
   },
   "outputs": [],
   "source": [
    "# Return a DataFrame with only the stops where the person was older than 35,\n",
    "# using brackets: df[df[\"column_name\"] condition]\n",
    "filtered = pandas_stops[pandas_stops[\"subject_age\"] > 35]\n",
    "filtered.head(3)"
   ]
  },
  {
   "cell_type": "markdown",
   "id": "dac20265",
   "metadata": {
    "id": "dac20265"
   },
   "source": [
    "To filter by multiple conditions, we can use the \"&\" symbol between conditional statements. **Make sure to put the conditional statements in parentheses; otherwise you'll receive an error.**"
   ]
  },
  {
   "cell_type": "markdown",
   "id": "NjshdZnD65MU",
   "metadata": {
    "id": "NjshdZnD65MU"
   },
   "source": [
    "**Question 6:** Filter the DataFrame so that it has only the stops where the person was older than 35 and was white."
   ]
  },
  {
   "cell_type": "code",
   "execution_count": null,
   "id": "57c36468",
   "metadata": {
    "colab": {
     "base_uri": "https://localhost:8080/",
     "height": 644
    },
    "id": "57c36468",
    "outputId": "a98fc71c-e05b-474d-9d3f-1d8305fa2722"
   },
   "outputs": [],
   "source": [
    "# YOUR CODE HERE\n",
    "filtered = ... \n",
    "filtered.head(5)"
   ]
  },
  {
   "cell_type": "markdown",
   "id": "c3ef2acf",
   "metadata": {
    "id": "c3ef2acf"
   },
   "source": [
    "We can also use the `df.query()` function to do the same things as above. We put everything in quotes inside of the query function."
   ]
  },
  {
   "cell_type": "code",
   "execution_count": null,
   "id": "06c23039",
   "metadata": {
    "colab": {
     "base_uri": "https://localhost:8080/",
     "height": 627
    },
    "id": "06c23039",
    "outputId": "1f241788-328d-48fe-9455-969dd9ba4ef8"
   },
   "outputs": [],
   "source": [
    "# Filtering the dataframe with only the stops where the person was older than 35, using the query function\n",
    "filtered = pandas_stops.query(\"subject_age > 35\")\n",
    "filtered.head()"
   ]
  },
  {
   "cell_type": "markdown",
   "id": "6bf7a38f",
   "metadata": {
    "id": "6bf7a38f"
   },
   "source": [
    "#### 5. Grouping"
   ]
  },
  {
   "cell_type": "markdown",
   "id": "86a7bdec",
   "metadata": {
    "id": "86a7bdec"
   },
   "source": [
    "To group rows by unique values or combinations of values:\n",
    "- `datascience` uses `tbl.group(\"column_or_columns\", function)`.\n",
    "    - By default, the function used is count (if nothing else is passed in).\n",
    "- `pandas` uses `df.groupby(\"column_name\").function()`.\n",
    "\n",
    "[Here's an additional resource](https://www.data8.org/interactive_table_functions/) from Data 8 for understanding how grouping (as well as pivoting) works!"
   ]
  },
  {
   "cell_type": "code",
   "execution_count": null,
   "id": "36fc8520",
   "metadata": {
    "colab": {
     "base_uri": "https://localhost:8080/",
     "height": 266
    },
    "id": "36fc8520",
    "outputId": "7c05eb12-857f-4222-d179-d82cc4c82a1e"
   },
   "outputs": [],
   "source": [
    "# Grouping the table by race (gives us a table that counts the number of stops for each precinct by defualt)\n",
    "ds_race_grouped = datascience_stops.group(\"subject_race\")\n",
    "ds_race_grouped"
   ]
  },
  {
   "cell_type": "code",
   "execution_count": null,
   "id": "144049ad",
   "metadata": {
    "colab": {
     "base_uri": "https://localhost:8080/",
     "height": 266
    },
    "id": "144049ad",
    "outputId": "c1ef06c2-2dda-46c7-b0a2-a2ba000b608b"
   },
   "outputs": [],
   "source": [
    "# Note: to sort a table, we use tbl.sort(\"column_name\", descending = True/False)\n",
    "ds_race_sorted = ds_race_grouped.sort(\"count\", descending = True)\n",
    "ds_race_sorted"
   ]
  },
  {
   "cell_type": "markdown",
   "id": "xBe0_WuIN8_A",
   "metadata": {
    "id": "xBe0_WuIN8_A"
   },
   "source": [
    "Now let's try grouping in `pandas`:"
   ]
  },
  {
   "cell_type": "code",
   "execution_count": null,
   "id": "cfc432a7",
   "metadata": {
    "colab": {
     "base_uri": "https://localhost:8080/"
    },
    "id": "cfc432a7",
    "outputId": "4c1bbebf-85e2-4971-b638-e62de9611195"
   },
   "outputs": [],
   "source": [
    "# Grouping the DataFrame by \"subject_race\"\n",
    "race_pandas_series = pandas_stops.groupby(\"subject_race\").size()\n",
    "race_pandas_series"
   ]
  },
  {
   "cell_type": "markdown",
   "id": "RjNCiDUy9lNx",
   "metadata": {
    "id": "RjNCiDUy9lNx"
   },
   "source": [
    "Notice that it returns a Series. To convert the returned series into a DataFrame, we can use the `.to_frame()` method. We also can also rename this column to `\"Count\"` using `.rename()`. We pass a dictionary into the `.rename()` method of the format: {column_index: \"new_name\"}."
   ]
  },
  {
   "cell_type": "code",
   "execution_count": null,
   "id": "11ccc037",
   "metadata": {
    "colab": {
     "base_uri": "https://localhost:8080/",
     "height": 269
    },
    "id": "11ccc037",
    "outputId": "e3fa1301-0c8f-4ddd-8e82-04cebb713029"
   },
   "outputs": [],
   "source": [
    "race_grouped_frame = race_pandas_series.to_frame().rename({0: \"Count\"}, axis = 1)\n",
    "race_grouped_frame"
   ]
  },
  {
   "cell_type": "markdown",
   "id": "Yh6nzjrR92YO",
   "metadata": {
    "id": "Yh6nzjrR92YO"
   },
   "source": [
    "You may notice that the format above looks a bit strange. By default, the `.to_frame()` method is setting the grouped column as the index of our DataFrame. If we don't want this, we can use the `.reset_index()` method."
   ]
  },
  {
   "cell_type": "code",
   "execution_count": null,
   "id": "10437e12",
   "metadata": {
    "colab": {
     "base_uri": "https://localhost:8080/",
     "height": 238
    },
    "id": "10437e12",
    "outputId": "467f1fd4-74d8-44db-ee47-d1020e3a8ebe"
   },
   "outputs": [],
   "source": [
    "race_grouped_frame = race_grouped_frame.reset_index()\n",
    "race_grouped_frame"
   ]
  },
  {
   "cell_type": "markdown",
   "id": "djXEEpMH-Ljq",
   "metadata": {
    "id": "djXEEpMH-Ljq"
   },
   "source": [
    "**Question 7:** Sort the above DataFrame based on the `\"Count\"` column in descending order.\n",
    "\n",
    "**Hint:** To sort a DataFrame, we can use `df.sort_values(\"column_name\", ascending = True/False)`."
   ]
  },
  {
   "cell_type": "code",
   "execution_count": null,
   "id": "37480478",
   "metadata": {
    "colab": {
     "base_uri": "https://localhost:8080/",
     "height": 238
    },
    "id": "37480478",
    "outputId": "87476a6c-688e-47f6-95ce-b6ccce4e8022"
   },
   "outputs": [],
   "source": [
    "# YOUR CODE HERE\n",
    "race_grouped_frame = ...\n",
    "race_grouped_frame"
   ]
  },
  {
   "cell_type": "markdown",
   "id": "d9991ba8",
   "metadata": {},
   "source": [
    "<br>\n",
    "\n",
    "<hr style=\"border: 1px solid #fdb515;\" />\n",
    "\n",
    "<br>"
   ]
  },
  {
   "cell_type": "markdown",
   "id": "befAN9w-CP-w",
   "metadata": {
    "id": "befAN9w-CP-w"
   },
   "source": [
    "## Null (NaN) values in Pandas\n",
    "\n",
    "Now that we've learned how to perform basic operations in pandas, we're going to learn how to handle null / missing values.\n",
    "\n",
    "Let's begin by examining the original DataFrame:"
   ]
  },
  {
   "cell_type": "code",
   "execution_count": null,
   "id": "3KUdIulXCTs2",
   "metadata": {
    "colab": {
     "base_uri": "https://localhost:8080/",
     "height": 678
    },
    "id": "3KUdIulXCTs2",
    "outputId": "789460e4-3488-4743-e9e7-8e2a0bd75375"
   },
   "outputs": [],
   "source": [
    "pandas_stops.head()"
   ]
  },
  {
   "cell_type": "markdown",
   "id": "FhKbUBHXC6s3",
   "metadata": {
    "id": "FhKbUBHXC6s3"
   },
   "source": [
    "Upon a closer inspection, we can see that columns like `\"precinct\"`, `\"reporting_area\"`, `\"zone\"`, `\"raw_misd_state_citation_issued\"`, etc. contain `NaN` values.\n",
    "\n",
    "Based on what we've learned in this lab, let's begin by identifying which columns have the highest proportion of null values.\n",
    "Dealing with these columns can be challenging during analysis, so it's essential to prioritize them."
   ]
  },
  {
   "cell_type": "code",
   "execution_count": null,
   "id": "4bpVdndZCToA",
   "metadata": {
    "colab": {
     "base_uri": "https://localhost:8080/",
     "height": 359
    },
    "id": "4bpVdndZCToA",
    "outputId": "08915f94-d955-4ae9-c129-ff79f65067bd"
   },
   "outputs": [],
   "source": [
    "# To select relevant columns, we first start by identifying columns with null values.\n",
    "null_percentage = pandas_stops.isnull().sum() / len(pandas_stops)\n",
    "\n",
    "# We're creating a DataFrame based on what we calculated above.\n",
    "missing_value_df = pd.DataFrame({'proportion_null': null_percentage})\n",
    "\n",
    "# Sorting the table based on the null percentage.\n",
    "missing_value_df = missing_value_df.sort_values('proportion_null', ascending = False)\n",
    "missing_value_df.head(10)"
   ]
  },
  {
   "cell_type": "markdown",
   "id": "L5nTnWf0DsER",
   "metadata": {
    "id": "L5nTnWf0DsER"
   },
   "source": [
    "**Question 8:** It appears that some of the columns have a very high percentage of null values. To facilitate our analysis, let's fill all null values in our DataFrame with 0. Fill in the ellipsis below in order to replace these values.\n",
    "\n",
    "**Hint:** `pandas` provides an easy function for DataFrames that can help us accomplish this task!"
   ]
  },
  {
   "cell_type": "code",
   "execution_count": null,
   "id": "tuqLwpY-DpHZ",
   "metadata": {
    "colab": {
     "base_uri": "https://localhost:8080/",
     "height": 678
    },
    "id": "tuqLwpY-DpHZ",
    "outputId": "9e2dba04-b51d-441b-b872-62691a7f2c2b"
   },
   "outputs": [],
   "source": [
    "# YOUR CODE HERE\n",
    "pandas_stops = ...\n",
    "pandas_stops.head()"
   ]
  },
  {
   "cell_type": "markdown",
   "id": "G_WtqdtxCLac",
   "metadata": {
    "id": "G_WtqdtxCLac"
   },
   "source": [
    "**Question 9:** Why is replacing `NaN` (null) values with 0 important here? What happens if we have a high percentage of null values when doing our analysis?"
   ]
  },
  {
   "cell_type": "markdown",
   "id": "88c0e2e9",
   "metadata": {},
   "source": [
    "*YOUR ANSWER HERE*"
   ]
  },
  {
   "cell_type": "markdown",
   "id": "6d0e180c",
   "metadata": {},
   "source": [
    "<br>\n",
    "\n",
    "<hr style=\"border: 1px solid #fdb515;\" />\n",
    "\n",
    "<br>"
   ]
  },
  {
   "cell_type": "markdown",
   "id": "95a37e8c",
   "metadata": {},
   "source": [
    "## Visualizations"
   ]
  },
  {
   "cell_type": "markdown",
   "id": "6xl2LXnWHChi",
   "metadata": {
    "id": "6xl2LXnWHChi"
   },
   "source": [
    "Now that we've replaced missing values with 0, we're can get some practice with creating simple visualizations. The methods we use for creating the visualizations below are the most basic forms that come directly from the `pandas` library. In the next lab, we'll learn about some more advanced ways of creating and stylizing these graphs!"
   ]
  },
  {
   "cell_type": "markdown",
   "id": "2eb9f438",
   "metadata": {},
   "source": [
    "### Bar Charts\n",
    "\n",
    "Bar charts are a way for us to display the counts of different categories of our data. For example, below we use the `.value_counts()` method to create a Series of counts of rows for each race/ethnicity in our data. We can then use this Series to create a bar chart."
   ]
  },
  {
   "cell_type": "code",
   "execution_count": null,
   "id": "UdoUQHCVHTyL",
   "metadata": {
    "colab": {
     "base_uri": "https://localhost:8080/"
    },
    "id": "UdoUQHCVHTyL",
    "outputId": "1bb07a72-1031-4564-8cd6-7617141872f5"
   },
   "outputs": [],
   "source": [
    "hist_counts = pandas_stops['subject_race'].value_counts()\n",
    "hist_counts"
   ]
  },
  {
   "cell_type": "code",
   "execution_count": null,
   "id": "KgUhhlT1IEw7",
   "metadata": {
    "colab": {
     "base_uri": "https://localhost:8080/",
     "height": 563
    },
    "id": "KgUhhlT1IEw7",
    "outputId": "7cfe4a7e-4154-4631-bb75-46c707b432d9"
   },
   "outputs": [],
   "source": [
    "hist_counts.plot(kind = 'bar')\n",
    "plt.show()"
   ]
  },
  {
   "cell_type": "markdown",
   "id": "AHbAWwrwIFj2",
   "metadata": {
    "id": "AHbAWwrwIFj2"
   },
   "source": [
    "### Histograms\n",
    "\n",
    "Histograms are a way of display quantitative information. The x-axis is typically a quantitative variable of interest, and the y-axis is generally a frequency. Below we plot a basic histogram to see the distribution of ages in our data:"
   ]
  },
  {
   "cell_type": "code",
   "execution_count": null,
   "id": "b_gRBQZkaExJ",
   "metadata": {
    "colab": {
     "base_uri": "https://localhost:8080/",
     "height": 470
    },
    "id": "b_gRBQZkaExJ",
    "outputId": "2d0f7fa1-255f-4b48-d737-87a2b21264ce"
   },
   "outputs": [],
   "source": [
    "pandas_stops.hist(\"subject_age\");"
   ]
  },
  {
   "cell_type": "markdown",
   "id": "hRKVyyTrNThy",
   "metadata": {
    "id": "hRKVyyTrNThy"
   },
   "source": [
    "### Line Plots\n",
    "\n",
    "Line plots are generally used to relate two variables to one another. They can be useful when trying to infer relationships of variables over time or visualize simple regression (which we'll learn more about in a future lab).\n",
    "\n",
    "In this case, we will use a line plot to visualize the relationship of average subject age over time."
   ]
  },
  {
   "cell_type": "markdown",
   "id": "6259950d",
   "metadata": {},
   "source": [
    "**Note:** The first two rows in the code cell below are a bit more complex, as we're trying to create a column of just the year and then aggregate the data based on that. Don't worry too much about understanding it! Just focus on how we actually plot the line in the middle of the cell."
   ]
  },
  {
   "cell_type": "code",
   "execution_count": null,
   "id": "97cDh7xPNXxa",
   "metadata": {
    "colab": {
     "base_uri": "https://localhost:8080/",
     "height": 455
    },
    "id": "97cDh7xPNXxa",
    "outputId": "569c49a2-2e5d-4184-b206-e4fa8ac4c0de"
   },
   "outputs": [],
   "source": [
    "pandas_stops['year'] = [datetime.strptime(x, '%Y-%m-%d').year for x in pandas_stops['date']]\n",
    "average_per_date = pandas_stops.groupby(\"year\").mean(\"age\").reset_index()\n",
    "\n",
    "# The code below plots the line\n",
    "average_per_date.plot.line(x = 'year', y = 'subject_age')\n",
    "\n",
    "# Stylizing the graph -- adding axes labels and adjusting the range of the x-axis\n",
    "plt.xlabel(\"Date\")\n",
    "plt.ylabel(\"Age\")\n",
    "plt.xlim([2010, 2018])\n",
    "plt.show()"
   ]
  },
  {
   "cell_type": "markdown",
   "id": "pSP1SAAhNaiy",
   "metadata": {
    "id": "pSP1SAAhNaiy"
   },
   "source": [
    "### Box Plots\n",
    "\n",
    "Box plots can be used to get a general idea of the spread of your data and are especially useful if you need to compare across two or more categories.\n",
    "\n",
    "Let's use a box plot to compare the distributions of ages for traffic stops in which arrests were vs. were not made.\n",
    "\n",
    "We can use the `by` keyword to determine the column we would like to group by. In this case, we group by the column `\"arrest_made\"`."
   ]
  },
  {
   "cell_type": "code",
   "execution_count": null,
   "id": "xzLl8VguN_wE",
   "metadata": {
    "colab": {
     "base_uri": "https://localhost:8080/",
     "height": 496
    },
    "id": "xzLl8VguN_wE",
    "outputId": "2a0be277-4145-4960-cc60-6c0a16fca611"
   },
   "outputs": [],
   "source": [
    "pandas_stops.boxplot(column = 'subject_age', by = 'arrest_made');"
   ]
  },
  {
   "cell_type": "markdown",
   "id": "XsNiHfqvOrc-",
   "metadata": {
    "id": "XsNiHfqvOrc-"
   },
   "source": [
    "**Question 10:** Now that we have seen how to create a box plot, try creating a box plot to visualize and compare the distribution of ages grouped by the sex of the individual stopped."
   ]
  },
  {
   "cell_type": "code",
   "execution_count": null,
   "id": "oFstae6TNe_V",
   "metadata": {
    "colab": {
     "base_uri": "https://localhost:8080/",
     "height": 909
    },
    "id": "oFstae6TNe_V",
    "outputId": "cd402c6b-5eb4-4a90-8d96-ecfc5e38444f"
   },
   "outputs": [],
   "source": [
    "# YOUR CODE HERE\n"
   ]
  },
  {
   "cell_type": "markdown",
   "id": "2219b21b",
   "metadata": {},
   "source": [
    "<br>\n",
    "\n",
    "<hr style=\"border: 1px solid #fdb515;\" />\n",
    "\n",
    "<br>"
   ]
  },
  {
   "cell_type": "markdown",
   "id": "ec7393f6",
   "metadata": {},
   "source": [
    "## Congrats! You've completed Lab 3.\n",
    "\n",
    "Hopefully, you now have a better idea of how to translate the methods you learned about in Data 8 to methods within the `pandas` library, as well as one way of dealing with null values and creating simple visualizations. \n",
    "\n",
    "In the next lab, we'll discuss more advanced ways of dealing with null values and creating more complex visualizations."
   ]
  },
  {
   "cell_type": "markdown",
   "id": "acb0e38c",
   "metadata": {},
   "source": [
    "<br>\n",
    "\n",
    "<hr style=\"border: 1px solid #fdb515;\" />\n",
    "\n",
    "<br>"
   ]
  }
 ],
 "metadata": {
  "colab": {
   "collapsed_sections": [
    "9a1e28c8",
    "e8935745",
    "befAN9w-CP-w"
   ],
   "provenance": []
  },
  "kernelspec": {
   "display_name": "Python 3 (ipykernel)",
   "language": "python",
   "name": "python3"
  },
  "language_info": {
   "codemirror_mode": {
    "name": "ipython",
    "version": 3
   },
   "file_extension": ".py",
   "mimetype": "text/x-python",
   "name": "python",
   "nbconvert_exporter": "python",
   "pygments_lexer": "ipython3",
   "version": "3.11.5"
  }
 },
 "nbformat": 4,
 "nbformat_minor": 5
}
