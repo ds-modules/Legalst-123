{
  "nbformat": 4,
  "nbformat_minor": 0,
  "metadata": {
    "colab": {
      "provenance": []
    },
    "kernelspec": {
      "name": "python3",
      "display_name": "Python 3"
    },
    "language_info": {
      "name": "python"
    }
  },
  "cells": [
    {
      "cell_type": "markdown",
      "source": [
        "# Lab 11: Data Cleaning & EDA for Classification"
      ],
      "metadata": {
        "id": "heb6iFGYoYlH"
      }
    },
    {
      "cell_type": "markdown",
      "source": [
        "In this section of Lab 11, we will focus on preparing the Nashville police stops dataset (from lab3!) for classification tasks. Our primary goals are to clean the dataset by dealing with null values and to address potential issues of data leakage.\n",
        "\n"
      ],
      "metadata": {
        "id": "a2hAWY_pohGS"
      }
    },
    {
      "cell_type": "code",
      "source": [
        "# Just run this cell\n",
        "from collections import Counter\n",
        "import numpy as np\n",
        "import pandas as pd\n",
        "from scipy import stats\n",
        "import statsmodels.api as sm\n",
        "from sklearn import datasets, linear_model\n",
        "from sklearn.linear_model import LinearRegression\n",
        "%matplotlib inline\n",
        "import matplotlib.pyplot as plt\n",
        "import seaborn as sns\n",
        "\n",
        "from sklearn.metrics import mean_squared_error"
      ],
      "metadata": {
        "id": "LsOuUSdK3d8E"
      },
      "execution_count": null,
      "outputs": []
    },
    {
      "cell_type": "markdown",
      "source": [
        "We're going to be using Nashville Police Stop dataset, like we did in lab 3."
      ],
      "metadata": {
        "id": "A_ie67wypGvG"
      }
    },
    {
      "cell_type": "code",
      "source": [
        "# Loading the dataset.\n",
        "police_stops = pd.read_csv(\"https://github.com/ds-modules/data/raw/main/nashville.csv\").sample(n=1000, random_state = 42).reset_index()\n",
        "police_stops.head(5)"
      ],
      "metadata": {
        "colab": {
          "base_uri": "https://localhost:8080/",
          "height": 725
        },
        "id": "TgvrIm_-oXsT",
        "outputId": "94a3674f-5be7-4007-b859-0b2981275884"
      },
      "execution_count": null,
      "outputs": [
        {
          "output_type": "stream",
          "name": "stderr",
          "text": [
            "<ipython-input-2-454175b648f0>:2: DtypeWarning: Columns (6,8,15,16,17,22,23,24,25,29,30,31,32,33,35,36,37,38,40,41) have mixed types. Specify dtype option on import or set low_memory=False.\n",
            "  police_stops = pd.read_csv(\"https://github.com/ds-modules/data/raw/main/nashville.csv\").sample(n=1000, random_state = 42).reset_index()\n"
          ]
        },
        {
          "output_type": "execute_result",
          "data": {
            "text/plain": [
              "     index raw_row_number        date     time  \\\n",
              "0  1840907          93347  2010-04-18  13140.0   \n",
              "1   492044        2001428  2015-01-19  19920.0   \n",
              "2   431170        1996331  2015-01-15   1020.0   \n",
              "3  2066423        1319451  2013-05-17  62760.0   \n",
              "4  2899480         201349  2010-09-01  28140.0   \n",
              "\n",
              "                                            location        lat        lng  \\\n",
              "0  BURGESS AVE & WHITE BRIDGE PIKE, NASHVILLE, TN...  36.145004 -86.857970   \n",
              "1  DUE WEST AVE W & S GRAYCROFT AVE, MADISON, TN,...  36.249187 -86.734459   \n",
              "2  S GALLATIN PIKE & MADISON BLVD, MADISON, TN, 3...  36.254979 -86.715246   \n",
              "3  CHARLOTTE PIKE & W HILLWOOD DR, NASHVILLE, TN,...  36.139093 -86.880533   \n",
              "4   BELL RD & DODSON CHAPEL RD, HERMITAGE, TN, 37076  36.163310 -86.613147   \n",
              "\n",
              "  precinct  reporting_area   zone  ...  raw_traffic_citation_issued  \\\n",
              "0      1.0          5103.0  113.0  ...                        False   \n",
              "1      7.0          1797.0  723.0  ...                        False   \n",
              "2      7.0          1623.0  711.0  ...                        False   \n",
              "3      1.0          5009.0  123.0  ...                        False   \n",
              "4      5.0          9501.0  521.0  ...                        False   \n",
              "\n",
              "  raw_misd_state_citation_issued raw_suspect_ethnicity raw_driver_searched  \\\n",
              "0                            NaN                     N               False   \n",
              "1                          False                     N               False   \n",
              "2                          False                     N               False   \n",
              "3                          False                     N               False   \n",
              "4                            NaN                     N               False   \n",
              "\n",
              "  raw_passenger_searched raw_search_consent raw_search_arrest  \\\n",
              "0                  False              False             False   \n",
              "1                  False              False             False   \n",
              "2                  False              False             False   \n",
              "3                  False              False             False   \n",
              "4                  False              False             False   \n",
              "\n",
              "  raw_search_warrant raw_search_inventory raw_search_plain_view  \n",
              "0              False                False                 False  \n",
              "1              False                False                 False  \n",
              "2              False                False                 False  \n",
              "3              False                False                 False  \n",
              "4              False                False                 False  \n",
              "\n",
              "[5 rows x 43 columns]"
            ],
            "text/html": [
              "\n",
              "  <div id=\"df-c0f6a056-3fa2-42f3-a138-c583c4d115b1\" class=\"colab-df-container\">\n",
              "    <div>\n",
              "<style scoped>\n",
              "    .dataframe tbody tr th:only-of-type {\n",
              "        vertical-align: middle;\n",
              "    }\n",
              "\n",
              "    .dataframe tbody tr th {\n",
              "        vertical-align: top;\n",
              "    }\n",
              "\n",
              "    .dataframe thead th {\n",
              "        text-align: right;\n",
              "    }\n",
              "</style>\n",
              "<table border=\"1\" class=\"dataframe\">\n",
              "  <thead>\n",
              "    <tr style=\"text-align: right;\">\n",
              "      <th></th>\n",
              "      <th>index</th>\n",
              "      <th>raw_row_number</th>\n",
              "      <th>date</th>\n",
              "      <th>time</th>\n",
              "      <th>location</th>\n",
              "      <th>lat</th>\n",
              "      <th>lng</th>\n",
              "      <th>precinct</th>\n",
              "      <th>reporting_area</th>\n",
              "      <th>zone</th>\n",
              "      <th>...</th>\n",
              "      <th>raw_traffic_citation_issued</th>\n",
              "      <th>raw_misd_state_citation_issued</th>\n",
              "      <th>raw_suspect_ethnicity</th>\n",
              "      <th>raw_driver_searched</th>\n",
              "      <th>raw_passenger_searched</th>\n",
              "      <th>raw_search_consent</th>\n",
              "      <th>raw_search_arrest</th>\n",
              "      <th>raw_search_warrant</th>\n",
              "      <th>raw_search_inventory</th>\n",
              "      <th>raw_search_plain_view</th>\n",
              "    </tr>\n",
              "  </thead>\n",
              "  <tbody>\n",
              "    <tr>\n",
              "      <th>0</th>\n",
              "      <td>1840907</td>\n",
              "      <td>93347</td>\n",
              "      <td>2010-04-18</td>\n",
              "      <td>13140.0</td>\n",
              "      <td>BURGESS AVE &amp; WHITE BRIDGE PIKE, NASHVILLE, TN...</td>\n",
              "      <td>36.145004</td>\n",
              "      <td>-86.857970</td>\n",
              "      <td>1.0</td>\n",
              "      <td>5103.0</td>\n",
              "      <td>113.0</td>\n",
              "      <td>...</td>\n",
              "      <td>False</td>\n",
              "      <td>NaN</td>\n",
              "      <td>N</td>\n",
              "      <td>False</td>\n",
              "      <td>False</td>\n",
              "      <td>False</td>\n",
              "      <td>False</td>\n",
              "      <td>False</td>\n",
              "      <td>False</td>\n",
              "      <td>False</td>\n",
              "    </tr>\n",
              "    <tr>\n",
              "      <th>1</th>\n",
              "      <td>492044</td>\n",
              "      <td>2001428</td>\n",
              "      <td>2015-01-19</td>\n",
              "      <td>19920.0</td>\n",
              "      <td>DUE WEST AVE W &amp; S GRAYCROFT AVE, MADISON, TN,...</td>\n",
              "      <td>36.249187</td>\n",
              "      <td>-86.734459</td>\n",
              "      <td>7.0</td>\n",
              "      <td>1797.0</td>\n",
              "      <td>723.0</td>\n",
              "      <td>...</td>\n",
              "      <td>False</td>\n",
              "      <td>False</td>\n",
              "      <td>N</td>\n",
              "      <td>False</td>\n",
              "      <td>False</td>\n",
              "      <td>False</td>\n",
              "      <td>False</td>\n",
              "      <td>False</td>\n",
              "      <td>False</td>\n",
              "      <td>False</td>\n",
              "    </tr>\n",
              "    <tr>\n",
              "      <th>2</th>\n",
              "      <td>431170</td>\n",
              "      <td>1996331</td>\n",
              "      <td>2015-01-15</td>\n",
              "      <td>1020.0</td>\n",
              "      <td>S GALLATIN PIKE &amp; MADISON BLVD, MADISON, TN, 3...</td>\n",
              "      <td>36.254979</td>\n",
              "      <td>-86.715246</td>\n",
              "      <td>7.0</td>\n",
              "      <td>1623.0</td>\n",
              "      <td>711.0</td>\n",
              "      <td>...</td>\n",
              "      <td>False</td>\n",
              "      <td>False</td>\n",
              "      <td>N</td>\n",
              "      <td>False</td>\n",
              "      <td>False</td>\n",
              "      <td>False</td>\n",
              "      <td>False</td>\n",
              "      <td>False</td>\n",
              "      <td>False</td>\n",
              "      <td>False</td>\n",
              "    </tr>\n",
              "    <tr>\n",
              "      <th>3</th>\n",
              "      <td>2066423</td>\n",
              "      <td>1319451</td>\n",
              "      <td>2013-05-17</td>\n",
              "      <td>62760.0</td>\n",
              "      <td>CHARLOTTE PIKE &amp; W HILLWOOD DR, NASHVILLE, TN,...</td>\n",
              "      <td>36.139093</td>\n",
              "      <td>-86.880533</td>\n",
              "      <td>1.0</td>\n",
              "      <td>5009.0</td>\n",
              "      <td>123.0</td>\n",
              "      <td>...</td>\n",
              "      <td>False</td>\n",
              "      <td>False</td>\n",
              "      <td>N</td>\n",
              "      <td>False</td>\n",
              "      <td>False</td>\n",
              "      <td>False</td>\n",
              "      <td>False</td>\n",
              "      <td>False</td>\n",
              "      <td>False</td>\n",
              "      <td>False</td>\n",
              "    </tr>\n",
              "    <tr>\n",
              "      <th>4</th>\n",
              "      <td>2899480</td>\n",
              "      <td>201349</td>\n",
              "      <td>2010-09-01</td>\n",
              "      <td>28140.0</td>\n",
              "      <td>BELL RD &amp; DODSON CHAPEL RD, HERMITAGE, TN, 37076</td>\n",
              "      <td>36.163310</td>\n",
              "      <td>-86.613147</td>\n",
              "      <td>5.0</td>\n",
              "      <td>9501.0</td>\n",
              "      <td>521.0</td>\n",
              "      <td>...</td>\n",
              "      <td>False</td>\n",
              "      <td>NaN</td>\n",
              "      <td>N</td>\n",
              "      <td>False</td>\n",
              "      <td>False</td>\n",
              "      <td>False</td>\n",
              "      <td>False</td>\n",
              "      <td>False</td>\n",
              "      <td>False</td>\n",
              "      <td>False</td>\n",
              "    </tr>\n",
              "  </tbody>\n",
              "</table>\n",
              "<p>5 rows × 43 columns</p>\n",
              "</div>\n",
              "    <div class=\"colab-df-buttons\">\n",
              "\n",
              "  <div class=\"colab-df-container\">\n",
              "    <button class=\"colab-df-convert\" onclick=\"convertToInteractive('df-c0f6a056-3fa2-42f3-a138-c583c4d115b1')\"\n",
              "            title=\"Convert this dataframe to an interactive table.\"\n",
              "            style=\"display:none;\">\n",
              "\n",
              "  <svg xmlns=\"http://www.w3.org/2000/svg\" height=\"24px\" viewBox=\"0 -960 960 960\">\n",
              "    <path d=\"M120-120v-720h720v720H120Zm60-500h600v-160H180v160Zm220 220h160v-160H400v160Zm0 220h160v-160H400v160ZM180-400h160v-160H180v160Zm440 0h160v-160H620v160ZM180-180h160v-160H180v160Zm440 0h160v-160H620v160Z\"/>\n",
              "  </svg>\n",
              "    </button>\n",
              "\n",
              "  <style>\n",
              "    .colab-df-container {\n",
              "      display:flex;\n",
              "      gap: 12px;\n",
              "    }\n",
              "\n",
              "    .colab-df-convert {\n",
              "      background-color: #E8F0FE;\n",
              "      border: none;\n",
              "      border-radius: 50%;\n",
              "      cursor: pointer;\n",
              "      display: none;\n",
              "      fill: #1967D2;\n",
              "      height: 32px;\n",
              "      padding: 0 0 0 0;\n",
              "      width: 32px;\n",
              "    }\n",
              "\n",
              "    .colab-df-convert:hover {\n",
              "      background-color: #E2EBFA;\n",
              "      box-shadow: 0px 1px 2px rgba(60, 64, 67, 0.3), 0px 1px 3px 1px rgba(60, 64, 67, 0.15);\n",
              "      fill: #174EA6;\n",
              "    }\n",
              "\n",
              "    .colab-df-buttons div {\n",
              "      margin-bottom: 4px;\n",
              "    }\n",
              "\n",
              "    [theme=dark] .colab-df-convert {\n",
              "      background-color: #3B4455;\n",
              "      fill: #D2E3FC;\n",
              "    }\n",
              "\n",
              "    [theme=dark] .colab-df-convert:hover {\n",
              "      background-color: #434B5C;\n",
              "      box-shadow: 0px 1px 3px 1px rgba(0, 0, 0, 0.15);\n",
              "      filter: drop-shadow(0px 1px 2px rgba(0, 0, 0, 0.3));\n",
              "      fill: #FFFFFF;\n",
              "    }\n",
              "  </style>\n",
              "\n",
              "    <script>\n",
              "      const buttonEl =\n",
              "        document.querySelector('#df-c0f6a056-3fa2-42f3-a138-c583c4d115b1 button.colab-df-convert');\n",
              "      buttonEl.style.display =\n",
              "        google.colab.kernel.accessAllowed ? 'block' : 'none';\n",
              "\n",
              "      async function convertToInteractive(key) {\n",
              "        const element = document.querySelector('#df-c0f6a056-3fa2-42f3-a138-c583c4d115b1');\n",
              "        const dataTable =\n",
              "          await google.colab.kernel.invokeFunction('convertToInteractive',\n",
              "                                                    [key], {});\n",
              "        if (!dataTable) return;\n",
              "\n",
              "        const docLinkHtml = 'Like what you see? Visit the ' +\n",
              "          '<a target=\"_blank\" href=https://colab.research.google.com/notebooks/data_table.ipynb>data table notebook</a>'\n",
              "          + ' to learn more about interactive tables.';\n",
              "        element.innerHTML = '';\n",
              "        dataTable['output_type'] = 'display_data';\n",
              "        await google.colab.output.renderOutput(dataTable, element);\n",
              "        const docLink = document.createElement('div');\n",
              "        docLink.innerHTML = docLinkHtml;\n",
              "        element.appendChild(docLink);\n",
              "      }\n",
              "    </script>\n",
              "  </div>\n",
              "\n",
              "\n",
              "<div id=\"df-a365b851-6800-46f7-b6a9-28975506c442\">\n",
              "  <button class=\"colab-df-quickchart\" onclick=\"quickchart('df-a365b851-6800-46f7-b6a9-28975506c442')\"\n",
              "            title=\"Suggest charts\"\n",
              "            style=\"display:none;\">\n",
              "\n",
              "<svg xmlns=\"http://www.w3.org/2000/svg\" height=\"24px\"viewBox=\"0 0 24 24\"\n",
              "     width=\"24px\">\n",
              "    <g>\n",
              "        <path d=\"M19 3H5c-1.1 0-2 .9-2 2v14c0 1.1.9 2 2 2h14c1.1 0 2-.9 2-2V5c0-1.1-.9-2-2-2zM9 17H7v-7h2v7zm4 0h-2V7h2v10zm4 0h-2v-4h2v4z\"/>\n",
              "    </g>\n",
              "</svg>\n",
              "  </button>\n",
              "\n",
              "<style>\n",
              "  .colab-df-quickchart {\n",
              "      --bg-color: #E8F0FE;\n",
              "      --fill-color: #1967D2;\n",
              "      --hover-bg-color: #E2EBFA;\n",
              "      --hover-fill-color: #174EA6;\n",
              "      --disabled-fill-color: #AAA;\n",
              "      --disabled-bg-color: #DDD;\n",
              "  }\n",
              "\n",
              "  [theme=dark] .colab-df-quickchart {\n",
              "      --bg-color: #3B4455;\n",
              "      --fill-color: #D2E3FC;\n",
              "      --hover-bg-color: #434B5C;\n",
              "      --hover-fill-color: #FFFFFF;\n",
              "      --disabled-bg-color: #3B4455;\n",
              "      --disabled-fill-color: #666;\n",
              "  }\n",
              "\n",
              "  .colab-df-quickchart {\n",
              "    background-color: var(--bg-color);\n",
              "    border: none;\n",
              "    border-radius: 50%;\n",
              "    cursor: pointer;\n",
              "    display: none;\n",
              "    fill: var(--fill-color);\n",
              "    height: 32px;\n",
              "    padding: 0;\n",
              "    width: 32px;\n",
              "  }\n",
              "\n",
              "  .colab-df-quickchart:hover {\n",
              "    background-color: var(--hover-bg-color);\n",
              "    box-shadow: 0 1px 2px rgba(60, 64, 67, 0.3), 0 1px 3px 1px rgba(60, 64, 67, 0.15);\n",
              "    fill: var(--button-hover-fill-color);\n",
              "  }\n",
              "\n",
              "  .colab-df-quickchart-complete:disabled,\n",
              "  .colab-df-quickchart-complete:disabled:hover {\n",
              "    background-color: var(--disabled-bg-color);\n",
              "    fill: var(--disabled-fill-color);\n",
              "    box-shadow: none;\n",
              "  }\n",
              "\n",
              "  .colab-df-spinner {\n",
              "    border: 2px solid var(--fill-color);\n",
              "    border-color: transparent;\n",
              "    border-bottom-color: var(--fill-color);\n",
              "    animation:\n",
              "      spin 1s steps(1) infinite;\n",
              "  }\n",
              "\n",
              "  @keyframes spin {\n",
              "    0% {\n",
              "      border-color: transparent;\n",
              "      border-bottom-color: var(--fill-color);\n",
              "      border-left-color: var(--fill-color);\n",
              "    }\n",
              "    20% {\n",
              "      border-color: transparent;\n",
              "      border-left-color: var(--fill-color);\n",
              "      border-top-color: var(--fill-color);\n",
              "    }\n",
              "    30% {\n",
              "      border-color: transparent;\n",
              "      border-left-color: var(--fill-color);\n",
              "      border-top-color: var(--fill-color);\n",
              "      border-right-color: var(--fill-color);\n",
              "    }\n",
              "    40% {\n",
              "      border-color: transparent;\n",
              "      border-right-color: var(--fill-color);\n",
              "      border-top-color: var(--fill-color);\n",
              "    }\n",
              "    60% {\n",
              "      border-color: transparent;\n",
              "      border-right-color: var(--fill-color);\n",
              "    }\n",
              "    80% {\n",
              "      border-color: transparent;\n",
              "      border-right-color: var(--fill-color);\n",
              "      border-bottom-color: var(--fill-color);\n",
              "    }\n",
              "    90% {\n",
              "      border-color: transparent;\n",
              "      border-bottom-color: var(--fill-color);\n",
              "    }\n",
              "  }\n",
              "</style>\n",
              "\n",
              "  <script>\n",
              "    async function quickchart(key) {\n",
              "      const quickchartButtonEl =\n",
              "        document.querySelector('#' + key + ' button');\n",
              "      quickchartButtonEl.disabled = true;  // To prevent multiple clicks.\n",
              "      quickchartButtonEl.classList.add('colab-df-spinner');\n",
              "      try {\n",
              "        const charts = await google.colab.kernel.invokeFunction(\n",
              "            'suggestCharts', [key], {});\n",
              "      } catch (error) {\n",
              "        console.error('Error during call to suggestCharts:', error);\n",
              "      }\n",
              "      quickchartButtonEl.classList.remove('colab-df-spinner');\n",
              "      quickchartButtonEl.classList.add('colab-df-quickchart-complete');\n",
              "    }\n",
              "    (() => {\n",
              "      let quickchartButtonEl =\n",
              "        document.querySelector('#df-a365b851-6800-46f7-b6a9-28975506c442 button');\n",
              "      quickchartButtonEl.style.display =\n",
              "        google.colab.kernel.accessAllowed ? 'block' : 'none';\n",
              "    })();\n",
              "  </script>\n",
              "</div>\n",
              "    </div>\n",
              "  </div>\n"
            ]
          },
          "metadata": {},
          "execution_count": 2
        }
      ]
    },
    {
      "cell_type": "markdown",
      "source": [
        "## Data Preparation"
      ],
      "metadata": {
        "id": "xsfPUeb9oIms"
      }
    },
    {
      "cell_type": "markdown",
      "source": [
        "In revisiting the essentials of data operations from Lab 3 and Lab 6, we're reminded of the crucial role of data cleaning in enhancing our analytical outcomes. Here are some concise, yet effective strategies:"
      ],
      "metadata": {
        "id": "aNUXVgJ0oL6z"
      }
    },
    {
      "cell_type": "markdown",
      "source": [
        "\n",
        "\n",
        "1.   Addressing Missing Data\n",
        "\n",
        "    * Crucial to identify and manage missing data to avoid skewed analyses.\n",
        "    * Strategies include either removing or statistically imputing missing values, depending on their impact and prevalence.\n",
        "\n",
        "\n",
        "2.   Recode Categorical Variables\n",
        " *   Transform categorical variables into binary (0 or 1) format, known as one-hot encoding, to simplify analysis and model integration.\n",
        " * More on this later!\n",
        "\n",
        "3. Standardize Scale\n",
        "  *   Align all variables to a consistent scale for better comparability and interpretation of results.\n",
        "\n",
        "\n",
        "\n",
        "\n",
        "\n",
        "\n",
        "\n",
        "\n"
      ],
      "metadata": {
        "id": "c-1SIO4yqN5T"
      }
    },
    {
      "cell_type": "markdown",
      "source": [
        "✅ **Question 1:** Clean the dataset so that it doesn't have null values.\n",
        "\n",
        "\n",
        "Hint: There's pandas function that does this for you."
      ],
      "metadata": {
        "id": "LW6_jjlkpCVJ"
      }
    },
    {
      "cell_type": "code",
      "source": [
        "# Replace null values with zero\n",
        "police_stops.fillna(0, inplace=True)\n",
        "\n",
        "police_stops.head(3)"
      ],
      "metadata": {
        "colab": {
          "base_uri": "https://localhost:8080/",
          "height": 471
        },
        "id": "vDs7K8Kvrg1S",
        "outputId": "05191545-16a7-4456-f5f9-691310ddbd42"
      },
      "execution_count": null,
      "outputs": [
        {
          "output_type": "execute_result",
          "data": {
            "text/plain": [
              "     index raw_row_number        date     time  \\\n",
              "0  1840907          93347  2010-04-18  13140.0   \n",
              "1   492044        2001428  2015-01-19  19920.0   \n",
              "2   431170        1996331  2015-01-15   1020.0   \n",
              "\n",
              "                                            location        lat        lng  \\\n",
              "0  BURGESS AVE & WHITE BRIDGE PIKE, NASHVILLE, TN...  36.145004 -86.857970   \n",
              "1  DUE WEST AVE W & S GRAYCROFT AVE, MADISON, TN,...  36.249187 -86.734459   \n",
              "2  S GALLATIN PIKE & MADISON BLVD, MADISON, TN, 3...  36.254979 -86.715246   \n",
              "\n",
              "  precinct  reporting_area   zone  ...  raw_traffic_citation_issued  \\\n",
              "0      1.0          5103.0  113.0  ...                        False   \n",
              "1      7.0          1797.0  723.0  ...                        False   \n",
              "2      7.0          1623.0  711.0  ...                        False   \n",
              "\n",
              "  raw_misd_state_citation_issued raw_suspect_ethnicity raw_driver_searched  \\\n",
              "0                              0                     N               False   \n",
              "1                          False                     N               False   \n",
              "2                          False                     N               False   \n",
              "\n",
              "  raw_passenger_searched raw_search_consent  raw_search_arrest  \\\n",
              "0                  False              False              False   \n",
              "1                  False              False              False   \n",
              "2                  False              False              False   \n",
              "\n",
              "   raw_search_warrant  raw_search_inventory raw_search_plain_view  \n",
              "0               False                 False                 False  \n",
              "1               False                 False                 False  \n",
              "2               False                 False                 False  \n",
              "\n",
              "[3 rows x 43 columns]"
            ],
            "text/html": [
              "\n",
              "  <div id=\"df-910880a8-cb76-436f-9fd9-d3ba55946a4e\" class=\"colab-df-container\">\n",
              "    <div>\n",
              "<style scoped>\n",
              "    .dataframe tbody tr th:only-of-type {\n",
              "        vertical-align: middle;\n",
              "    }\n",
              "\n",
              "    .dataframe tbody tr th {\n",
              "        vertical-align: top;\n",
              "    }\n",
              "\n",
              "    .dataframe thead th {\n",
              "        text-align: right;\n",
              "    }\n",
              "</style>\n",
              "<table border=\"1\" class=\"dataframe\">\n",
              "  <thead>\n",
              "    <tr style=\"text-align: right;\">\n",
              "      <th></th>\n",
              "      <th>index</th>\n",
              "      <th>raw_row_number</th>\n",
              "      <th>date</th>\n",
              "      <th>time</th>\n",
              "      <th>location</th>\n",
              "      <th>lat</th>\n",
              "      <th>lng</th>\n",
              "      <th>precinct</th>\n",
              "      <th>reporting_area</th>\n",
              "      <th>zone</th>\n",
              "      <th>...</th>\n",
              "      <th>raw_traffic_citation_issued</th>\n",
              "      <th>raw_misd_state_citation_issued</th>\n",
              "      <th>raw_suspect_ethnicity</th>\n",
              "      <th>raw_driver_searched</th>\n",
              "      <th>raw_passenger_searched</th>\n",
              "      <th>raw_search_consent</th>\n",
              "      <th>raw_search_arrest</th>\n",
              "      <th>raw_search_warrant</th>\n",
              "      <th>raw_search_inventory</th>\n",
              "      <th>raw_search_plain_view</th>\n",
              "    </tr>\n",
              "  </thead>\n",
              "  <tbody>\n",
              "    <tr>\n",
              "      <th>0</th>\n",
              "      <td>1840907</td>\n",
              "      <td>93347</td>\n",
              "      <td>2010-04-18</td>\n",
              "      <td>13140.0</td>\n",
              "      <td>BURGESS AVE &amp; WHITE BRIDGE PIKE, NASHVILLE, TN...</td>\n",
              "      <td>36.145004</td>\n",
              "      <td>-86.857970</td>\n",
              "      <td>1.0</td>\n",
              "      <td>5103.0</td>\n",
              "      <td>113.0</td>\n",
              "      <td>...</td>\n",
              "      <td>False</td>\n",
              "      <td>0</td>\n",
              "      <td>N</td>\n",
              "      <td>False</td>\n",
              "      <td>False</td>\n",
              "      <td>False</td>\n",
              "      <td>False</td>\n",
              "      <td>False</td>\n",
              "      <td>False</td>\n",
              "      <td>False</td>\n",
              "    </tr>\n",
              "    <tr>\n",
              "      <th>1</th>\n",
              "      <td>492044</td>\n",
              "      <td>2001428</td>\n",
              "      <td>2015-01-19</td>\n",
              "      <td>19920.0</td>\n",
              "      <td>DUE WEST AVE W &amp; S GRAYCROFT AVE, MADISON, TN,...</td>\n",
              "      <td>36.249187</td>\n",
              "      <td>-86.734459</td>\n",
              "      <td>7.0</td>\n",
              "      <td>1797.0</td>\n",
              "      <td>723.0</td>\n",
              "      <td>...</td>\n",
              "      <td>False</td>\n",
              "      <td>False</td>\n",
              "      <td>N</td>\n",
              "      <td>False</td>\n",
              "      <td>False</td>\n",
              "      <td>False</td>\n",
              "      <td>False</td>\n",
              "      <td>False</td>\n",
              "      <td>False</td>\n",
              "      <td>False</td>\n",
              "    </tr>\n",
              "    <tr>\n",
              "      <th>2</th>\n",
              "      <td>431170</td>\n",
              "      <td>1996331</td>\n",
              "      <td>2015-01-15</td>\n",
              "      <td>1020.0</td>\n",
              "      <td>S GALLATIN PIKE &amp; MADISON BLVD, MADISON, TN, 3...</td>\n",
              "      <td>36.254979</td>\n",
              "      <td>-86.715246</td>\n",
              "      <td>7.0</td>\n",
              "      <td>1623.0</td>\n",
              "      <td>711.0</td>\n",
              "      <td>...</td>\n",
              "      <td>False</td>\n",
              "      <td>False</td>\n",
              "      <td>N</td>\n",
              "      <td>False</td>\n",
              "      <td>False</td>\n",
              "      <td>False</td>\n",
              "      <td>False</td>\n",
              "      <td>False</td>\n",
              "      <td>False</td>\n",
              "      <td>False</td>\n",
              "    </tr>\n",
              "  </tbody>\n",
              "</table>\n",
              "<p>3 rows × 43 columns</p>\n",
              "</div>\n",
              "    <div class=\"colab-df-buttons\">\n",
              "\n",
              "  <div class=\"colab-df-container\">\n",
              "    <button class=\"colab-df-convert\" onclick=\"convertToInteractive('df-910880a8-cb76-436f-9fd9-d3ba55946a4e')\"\n",
              "            title=\"Convert this dataframe to an interactive table.\"\n",
              "            style=\"display:none;\">\n",
              "\n",
              "  <svg xmlns=\"http://www.w3.org/2000/svg\" height=\"24px\" viewBox=\"0 -960 960 960\">\n",
              "    <path d=\"M120-120v-720h720v720H120Zm60-500h600v-160H180v160Zm220 220h160v-160H400v160Zm0 220h160v-160H400v160ZM180-400h160v-160H180v160Zm440 0h160v-160H620v160ZM180-180h160v-160H180v160Zm440 0h160v-160H620v160Z\"/>\n",
              "  </svg>\n",
              "    </button>\n",
              "\n",
              "  <style>\n",
              "    .colab-df-container {\n",
              "      display:flex;\n",
              "      gap: 12px;\n",
              "    }\n",
              "\n",
              "    .colab-df-convert {\n",
              "      background-color: #E8F0FE;\n",
              "      border: none;\n",
              "      border-radius: 50%;\n",
              "      cursor: pointer;\n",
              "      display: none;\n",
              "      fill: #1967D2;\n",
              "      height: 32px;\n",
              "      padding: 0 0 0 0;\n",
              "      width: 32px;\n",
              "    }\n",
              "\n",
              "    .colab-df-convert:hover {\n",
              "      background-color: #E2EBFA;\n",
              "      box-shadow: 0px 1px 2px rgba(60, 64, 67, 0.3), 0px 1px 3px 1px rgba(60, 64, 67, 0.15);\n",
              "      fill: #174EA6;\n",
              "    }\n",
              "\n",
              "    .colab-df-buttons div {\n",
              "      margin-bottom: 4px;\n",
              "    }\n",
              "\n",
              "    [theme=dark] .colab-df-convert {\n",
              "      background-color: #3B4455;\n",
              "      fill: #D2E3FC;\n",
              "    }\n",
              "\n",
              "    [theme=dark] .colab-df-convert:hover {\n",
              "      background-color: #434B5C;\n",
              "      box-shadow: 0px 1px 3px 1px rgba(0, 0, 0, 0.15);\n",
              "      filter: drop-shadow(0px 1px 2px rgba(0, 0, 0, 0.3));\n",
              "      fill: #FFFFFF;\n",
              "    }\n",
              "  </style>\n",
              "\n",
              "    <script>\n",
              "      const buttonEl =\n",
              "        document.querySelector('#df-910880a8-cb76-436f-9fd9-d3ba55946a4e button.colab-df-convert');\n",
              "      buttonEl.style.display =\n",
              "        google.colab.kernel.accessAllowed ? 'block' : 'none';\n",
              "\n",
              "      async function convertToInteractive(key) {\n",
              "        const element = document.querySelector('#df-910880a8-cb76-436f-9fd9-d3ba55946a4e');\n",
              "        const dataTable =\n",
              "          await google.colab.kernel.invokeFunction('convertToInteractive',\n",
              "                                                    [key], {});\n",
              "        if (!dataTable) return;\n",
              "\n",
              "        const docLinkHtml = 'Like what you see? Visit the ' +\n",
              "          '<a target=\"_blank\" href=https://colab.research.google.com/notebooks/data_table.ipynb>data table notebook</a>'\n",
              "          + ' to learn more about interactive tables.';\n",
              "        element.innerHTML = '';\n",
              "        dataTable['output_type'] = 'display_data';\n",
              "        await google.colab.output.renderOutput(dataTable, element);\n",
              "        const docLink = document.createElement('div');\n",
              "        docLink.innerHTML = docLinkHtml;\n",
              "        element.appendChild(docLink);\n",
              "      }\n",
              "    </script>\n",
              "  </div>\n",
              "\n",
              "\n",
              "<div id=\"df-53072b99-c730-4b24-b456-860eec0ab7ad\">\n",
              "  <button class=\"colab-df-quickchart\" onclick=\"quickchart('df-53072b99-c730-4b24-b456-860eec0ab7ad')\"\n",
              "            title=\"Suggest charts\"\n",
              "            style=\"display:none;\">\n",
              "\n",
              "<svg xmlns=\"http://www.w3.org/2000/svg\" height=\"24px\"viewBox=\"0 0 24 24\"\n",
              "     width=\"24px\">\n",
              "    <g>\n",
              "        <path d=\"M19 3H5c-1.1 0-2 .9-2 2v14c0 1.1.9 2 2 2h14c1.1 0 2-.9 2-2V5c0-1.1-.9-2-2-2zM9 17H7v-7h2v7zm4 0h-2V7h2v10zm4 0h-2v-4h2v4z\"/>\n",
              "    </g>\n",
              "</svg>\n",
              "  </button>\n",
              "\n",
              "<style>\n",
              "  .colab-df-quickchart {\n",
              "      --bg-color: #E8F0FE;\n",
              "      --fill-color: #1967D2;\n",
              "      --hover-bg-color: #E2EBFA;\n",
              "      --hover-fill-color: #174EA6;\n",
              "      --disabled-fill-color: #AAA;\n",
              "      --disabled-bg-color: #DDD;\n",
              "  }\n",
              "\n",
              "  [theme=dark] .colab-df-quickchart {\n",
              "      --bg-color: #3B4455;\n",
              "      --fill-color: #D2E3FC;\n",
              "      --hover-bg-color: #434B5C;\n",
              "      --hover-fill-color: #FFFFFF;\n",
              "      --disabled-bg-color: #3B4455;\n",
              "      --disabled-fill-color: #666;\n",
              "  }\n",
              "\n",
              "  .colab-df-quickchart {\n",
              "    background-color: var(--bg-color);\n",
              "    border: none;\n",
              "    border-radius: 50%;\n",
              "    cursor: pointer;\n",
              "    display: none;\n",
              "    fill: var(--fill-color);\n",
              "    height: 32px;\n",
              "    padding: 0;\n",
              "    width: 32px;\n",
              "  }\n",
              "\n",
              "  .colab-df-quickchart:hover {\n",
              "    background-color: var(--hover-bg-color);\n",
              "    box-shadow: 0 1px 2px rgba(60, 64, 67, 0.3), 0 1px 3px 1px rgba(60, 64, 67, 0.15);\n",
              "    fill: var(--button-hover-fill-color);\n",
              "  }\n",
              "\n",
              "  .colab-df-quickchart-complete:disabled,\n",
              "  .colab-df-quickchart-complete:disabled:hover {\n",
              "    background-color: var(--disabled-bg-color);\n",
              "    fill: var(--disabled-fill-color);\n",
              "    box-shadow: none;\n",
              "  }\n",
              "\n",
              "  .colab-df-spinner {\n",
              "    border: 2px solid var(--fill-color);\n",
              "    border-color: transparent;\n",
              "    border-bottom-color: var(--fill-color);\n",
              "    animation:\n",
              "      spin 1s steps(1) infinite;\n",
              "  }\n",
              "\n",
              "  @keyframes spin {\n",
              "    0% {\n",
              "      border-color: transparent;\n",
              "      border-bottom-color: var(--fill-color);\n",
              "      border-left-color: var(--fill-color);\n",
              "    }\n",
              "    20% {\n",
              "      border-color: transparent;\n",
              "      border-left-color: var(--fill-color);\n",
              "      border-top-color: var(--fill-color);\n",
              "    }\n",
              "    30% {\n",
              "      border-color: transparent;\n",
              "      border-left-color: var(--fill-color);\n",
              "      border-top-color: var(--fill-color);\n",
              "      border-right-color: var(--fill-color);\n",
              "    }\n",
              "    40% {\n",
              "      border-color: transparent;\n",
              "      border-right-color: var(--fill-color);\n",
              "      border-top-color: var(--fill-color);\n",
              "    }\n",
              "    60% {\n",
              "      border-color: transparent;\n",
              "      border-right-color: var(--fill-color);\n",
              "    }\n",
              "    80% {\n",
              "      border-color: transparent;\n",
              "      border-right-color: var(--fill-color);\n",
              "      border-bottom-color: var(--fill-color);\n",
              "    }\n",
              "    90% {\n",
              "      border-color: transparent;\n",
              "      border-bottom-color: var(--fill-color);\n",
              "    }\n",
              "  }\n",
              "</style>\n",
              "\n",
              "  <script>\n",
              "    async function quickchart(key) {\n",
              "      const quickchartButtonEl =\n",
              "        document.querySelector('#' + key + ' button');\n",
              "      quickchartButtonEl.disabled = true;  // To prevent multiple clicks.\n",
              "      quickchartButtonEl.classList.add('colab-df-spinner');\n",
              "      try {\n",
              "        const charts = await google.colab.kernel.invokeFunction(\n",
              "            'suggestCharts', [key], {});\n",
              "      } catch (error) {\n",
              "        console.error('Error during call to suggestCharts:', error);\n",
              "      }\n",
              "      quickchartButtonEl.classList.remove('colab-df-spinner');\n",
              "      quickchartButtonEl.classList.add('colab-df-quickchart-complete');\n",
              "    }\n",
              "    (() => {\n",
              "      let quickchartButtonEl =\n",
              "        document.querySelector('#df-53072b99-c730-4b24-b456-860eec0ab7ad button');\n",
              "      quickchartButtonEl.style.display =\n",
              "        google.colab.kernel.accessAllowed ? 'block' : 'none';\n",
              "    })();\n",
              "  </script>\n",
              "</div>\n",
              "    </div>\n",
              "  </div>\n"
            ]
          },
          "metadata": {},
          "execution_count": 3
        }
      ]
    },
    {
      "cell_type": "markdown",
      "source": [
        "## Data Preparation:"
      ],
      "metadata": {
        "id": "ME6M-Zof3BRw"
      }
    },
    {
      "cell_type": "markdown",
      "source": [
        "#### One Hot Encoding:"
      ],
      "metadata": {
        "id": "M1lMuN7tVoaJ"
      }
    },
    {
      "cell_type": "markdown",
      "source": [
        "Notice that a few of the variables that are numeric/integer actually encode categorical data. In order to analyze the dataset, we can convert these to their true categorical values. These columns include:\n",
        "\n",
        "In addition, the time field is currently in ______. In order to make this field easier to understand and analyze, we will convert it to the traditional 24 hour scale."
      ],
      "metadata": {
        "id": "wnjYGKWGUHDy"
      }
    },
    {
      "cell_type": "code",
      "source": [
        "police_stops.info()"
      ],
      "metadata": {
        "colab": {
          "base_uri": "https://localhost:8080/"
        },
        "id": "gZs7nOf4V6U9",
        "outputId": "095fa285-5e0e-4b8a-82c2-cff32fe9f443"
      },
      "execution_count": null,
      "outputs": [
        {
          "output_type": "stream",
          "name": "stdout",
          "text": [
            "<class 'pandas.core.frame.DataFrame'>\n",
            "RangeIndex: 1000 entries, 0 to 999\n",
            "Data columns (total 43 columns):\n",
            " #   Column                          Non-Null Count  Dtype  \n",
            "---  ------                          --------------  -----  \n",
            " 0   index                           1000 non-null   int64  \n",
            " 1   raw_row_number                  1000 non-null   object \n",
            " 2   date                            1000 non-null   object \n",
            " 3   time                            1000 non-null   float64\n",
            " 4   location                        1000 non-null   object \n",
            " 5   lat                             1000 non-null   float64\n",
            " 6   lng                             1000 non-null   float64\n",
            " 7   precinct                        1000 non-null   object \n",
            " 8   reporting_area                  1000 non-null   float64\n",
            " 9   zone                            1000 non-null   object \n",
            " 10  subject_age                     1000 non-null   float64\n",
            " 11  subject_race                    1000 non-null   object \n",
            " 12  subject_sex                     1000 non-null   object \n",
            " 13  officer_id_hash                 1000 non-null   object \n",
            " 14  type                            1000 non-null   object \n",
            " 15  violation                       1000 non-null   object \n",
            " 16  arrest_made                     1000 non-null   bool   \n",
            " 17  citation_issued                 1000 non-null   bool   \n",
            " 18  warning_issued                  1000 non-null   bool   \n",
            " 19  outcome                         1000 non-null   object \n",
            " 20  contraband_found                1000 non-null   object \n",
            " 21  contraband_drugs                1000 non-null   object \n",
            " 22  contraband_weapons              1000 non-null   object \n",
            " 23  frisk_performed                 1000 non-null   bool   \n",
            " 24  search_conducted                1000 non-null   bool   \n",
            " 25  search_person                   1000 non-null   bool   \n",
            " 26  search_vehicle                  1000 non-null   bool   \n",
            " 27  search_basis                    1000 non-null   object \n",
            " 28  reason_for_stop                 1000 non-null   object \n",
            " 29  vehicle_registration_state      1000 non-null   object \n",
            " 30  notes                           1000 non-null   object \n",
            " 31  raw_verbal_warning_issued       1000 non-null   bool   \n",
            " 32  raw_written_warning_issued      1000 non-null   object \n",
            " 33  raw_traffic_citation_issued     1000 non-null   bool   \n",
            " 34  raw_misd_state_citation_issued  1000 non-null   object \n",
            " 35  raw_suspect_ethnicity           1000 non-null   object \n",
            " 36  raw_driver_searched             1000 non-null   bool   \n",
            " 37  raw_passenger_searched          1000 non-null   bool   \n",
            " 38  raw_search_consent              1000 non-null   bool   \n",
            " 39  raw_search_arrest               1000 non-null   bool   \n",
            " 40  raw_search_warrant              1000 non-null   bool   \n",
            " 41  raw_search_inventory            1000 non-null   bool   \n",
            " 42  raw_search_plain_view           1000 non-null   bool   \n",
            "dtypes: bool(16), float64(5), int64(1), object(21)\n",
            "memory usage: 226.7+ KB\n"
          ]
        }
      ]
    },
    {
      "cell_type": "markdown",
      "source": [
        "Before doing analysis, we're going to decode the `time` field:\n",
        "\n",
        "1. `time`: Convert to `____`.  "
      ],
      "metadata": {
        "id": "6zqbnOepVyRz"
      }
    },
    {
      "cell_type": "code",
      "source": [
        "# Just run this cell.\n",
        "police_encoded = police_stops.replace({'' : {0 : 'no', 1 : 'yes'}})\n",
        "police_encoded.head()"
      ],
      "metadata": {
        "id": "B6V0gNRtVVOg",
        "colab": {
          "base_uri": "https://localhost:8080/",
          "height": 242
        },
        "outputId": "ba9bf8cf-b957-45d2-f4ce-a4af47006a2e"
      },
      "execution_count": null,
      "outputs": [
        {
          "output_type": "error",
          "ename": "NameError",
          "evalue": "ignored",
          "traceback": [
            "\u001b[0;31m---------------------------------------------------------------------------\u001b[0m",
            "\u001b[0;31mNameError\u001b[0m                                 Traceback (most recent call last)",
            "\u001b[0;32m<ipython-input-4-a3f8c4b58baa>\u001b[0m in \u001b[0;36m<cell line: 2>\u001b[0;34m()\u001b[0m\n\u001b[1;32m      1\u001b[0m \u001b[0;31m# Just run this cell.\u001b[0m\u001b[0;34m\u001b[0m\u001b[0;34m\u001b[0m\u001b[0m\n\u001b[0;32m----> 2\u001b[0;31m bike_encoded = bike.replace({'holiday' : {0 : 'no', 1 : 'yes'},\n\u001b[0m\u001b[1;32m      3\u001b[0m                      \u001b[0;34m'weekday'\u001b[0m \u001b[0;34m:\u001b[0m \u001b[0;34m{\u001b[0m\u001b[0;36m0\u001b[0m \u001b[0;34m:\u001b[0m \u001b[0;34m'Sun'\u001b[0m\u001b[0;34m,\u001b[0m\u001b[0;36m1\u001b[0m \u001b[0;34m:\u001b[0m \u001b[0;34m'Mon'\u001b[0m\u001b[0;34m,\u001b[0m\u001b[0;36m2\u001b[0m \u001b[0;34m:\u001b[0m \u001b[0;34m'Tue'\u001b[0m\u001b[0;34m,\u001b[0m\u001b[0;36m3\u001b[0m \u001b[0;34m:\u001b[0m \u001b[0;34m'Wed'\u001b[0m\u001b[0;34m,\u001b[0m\u001b[0;36m4\u001b[0m \u001b[0;34m:\u001b[0m \u001b[0;34m'Thu'\u001b[0m\u001b[0;34m,\u001b[0m\u001b[0;36m5\u001b[0m \u001b[0;34m:\u001b[0m \u001b[0;34m'Fri'\u001b[0m\u001b[0;34m,\u001b[0m \u001b[0;36m6\u001b[0m \u001b[0;34m:\u001b[0m \u001b[0;34m'Sat'\u001b[0m\u001b[0;34m}\u001b[0m\u001b[0;34m,\u001b[0m\u001b[0;34m\u001b[0m\u001b[0;34m\u001b[0m\u001b[0m\n\u001b[1;32m      4\u001b[0m                     \u001b[0;34m'workingday'\u001b[0m \u001b[0;34m:\u001b[0m \u001b[0;34m{\u001b[0m\u001b[0;36m0\u001b[0m \u001b[0;34m:\u001b[0m \u001b[0;34m'no'\u001b[0m\u001b[0;34m,\u001b[0m \u001b[0;36m1\u001b[0m \u001b[0;34m:\u001b[0m \u001b[0;34m'yes'\u001b[0m\u001b[0;34m}\u001b[0m\u001b[0;34m,\u001b[0m\u001b[0;34m\u001b[0m\u001b[0;34m\u001b[0m\u001b[0m\n\u001b[1;32m      5\u001b[0m                     'weathersit' : {1 : 'Clear',2 : 'Mist',3 : 'Light',4 : 'Heavy'}})\n",
            "\u001b[0;31mNameError\u001b[0m: name 'bike' is not defined"
          ]
        }
      ]
    },
    {
      "cell_type": "markdown",
      "source": [
        "### Dealing with Data Leakage"
      ],
      "metadata": {
        "id": "CKek61oIsvR8"
      }
    },
    {
      "cell_type": "markdown",
      "source": [
        "In the context of criminal justice datasets like the Nashville police stops, it's crucial to identify and eliminate data leakage to ensure our models are predictive, not just reflective of post-event outcomes."
      ],
      "metadata": {
        "id": "ZLt5xv1Esz6q"
      }
    },
    {
      "cell_type": "markdown",
      "source": [
        "\n",
        "\n",
        "*   What is Data Leakage?\n",
        "  *   Data leakage occurs when information from outside the training dataset, particularly features that would not be available at the time of prediction, inadvertently influences the model.\n",
        "  *   This can lead to overly optimistic performance estimates and poor generalization to new data.\n",
        "\n",
        "\n",
        "*  Leakage in Criminal Justice Datasets\n",
        "  *    In datasets related to criminal justice, leakage can manifest through variables that contain information about events or outcomes that occur after the police stop (e.g., the result of a legal case).\n",
        "  *   Using such data in predictive models can result in biased and unreliable predictions.\n",
        "\n",
        "\n",
        "\n",
        "\n",
        "\n",
        "\n"
      ],
      "metadata": {
        "id": "LW8hk3Q3tGfU"
      }
    },
    {
      "cell_type": "markdown",
      "source": [
        "It seems like data leakage is a crucial issue that we need to deal with! Here're some strategies to mitigate leakage.\n",
        "\n",
        "\n",
        "\n",
        "1.   Identify Potential Leaky Variables\n",
        "  * Carefully review each variable to determine if it contains post-event information or outcomes that would not be known at the time of the police stop.\n",
        "2.   Remove Leaky Variables\n",
        "  * Once identified, these variables should be removed from the dataset to prevent their influence on the model.\n",
        "\n"
      ],
      "metadata": {
        "id": "6aqGON8atjjI"
      }
    },
    {
      "cell_type": "code",
      "source": [
        "# Inspect the features of the dataset (i.e. all columns in dataset)\n",
        "police_stops.columns.values"
      ],
      "metadata": {
        "colab": {
          "base_uri": "https://localhost:8080/"
        },
        "id": "WizK7O8HszAb",
        "outputId": "14829da1-4793-49cd-8aaa-e7eaf85c0703"
      },
      "execution_count": null,
      "outputs": [
        {
          "output_type": "execute_result",
          "data": {
            "text/plain": [
              "array(['index', 'raw_row_number', 'date', 'time', 'location', 'lat',\n",
              "       'lng', 'precinct', 'reporting_area', 'zone', 'subject_age',\n",
              "       'subject_race', 'subject_sex', 'officer_id_hash', 'type',\n",
              "       'violation', 'arrest_made', 'citation_issued', 'warning_issued',\n",
              "       'outcome', 'contraband_found', 'contraband_drugs',\n",
              "       'contraband_weapons', 'frisk_performed', 'search_conducted',\n",
              "       'search_person', 'search_vehicle', 'search_basis',\n",
              "       'reason_for_stop', 'vehicle_registration_state', 'notes',\n",
              "       'raw_verbal_warning_issued', 'raw_written_warning_issued',\n",
              "       'raw_traffic_citation_issued', 'raw_misd_state_citation_issued',\n",
              "       'raw_suspect_ethnicity', 'raw_driver_searched',\n",
              "       'raw_passenger_searched', 'raw_search_consent',\n",
              "       'raw_search_arrest', 'raw_search_warrant', 'raw_search_inventory',\n",
              "       'raw_search_plain_view'], dtype=object)"
            ]
          },
          "metadata": {},
          "execution_count": 5
        }
      ]
    },
    {
      "cell_type": "markdown",
      "source": [
        "Notice this about the columns above.\n",
        "\n",
        "\n",
        "*   Outcome Variables\n",
        "    * These reflect events or decisions made during or after a police stop and would not be known beforehand.\n",
        "*   Search-Related Variables\n",
        "    * These are also tied to the outcome of a search, which is a post-event activity.\n",
        "\n",
        "Let's classify the columns into outcome variables and search related variables.\n",
        "\n"
      ],
      "metadata": {
        "id": "3VxY44uSwXHZ"
      }
    },
    {
      "cell_type": "code",
      "source": [
        "outcome_vars = ['arrest_made', 'citation_issued', 'warning_issued', 'outcome', 'contraband_found', 'contraband_drugs', 'contraband_weapons', 'frisk_performed', 'search_conducted', 'search_person', 'search_vehicle']\n",
        "search_related_vars = ['search_basis', 'raw_search_consent', 'raw_search_arrest', 'raw_search_warrant', 'raw_search_inventory', 'raw_search_plain_view']"
      ],
      "metadata": {
        "id": "D7qHHmi9vvZv"
      },
      "execution_count": null,
      "outputs": []
    },
    {
      "cell_type": "markdown",
      "source": [
        "## Feature Selection"
      ],
      "metadata": {
        "id": "O303KnabwnTt"
      }
    },
    {
      "cell_type": "markdown",
      "source": [
        "Now we're finally ready to do some analysis!\n",
        "\n",
        "In this section, we will focus on identifying which features in the Nashville police stops dataset are most relevant for predicting the outcome `search_conducted`.\n",
        "Feature selection is crucial in machine learning as it helps in reducing the dimensionality of the data, improving model performance, and enhancing interpretability."
      ],
      "metadata": {
        "id": "BbDqNEPK47wD"
      }
    },
    {
      "cell_type": "markdown",
      "source": [
        "Our goal is to use the correlation coefficient to measure the relationship between each feature and the `search_conducted` variable. This method helps in pinpointing features that have a stronger linear relationship with the target variable.\n",
        "\n",
        "To further our analysis, we're going to generate a correlation heatmap, which is a visual tool used in feature selection to identify how each feature is correlated with the target variable, which is search_conducted in our case.\n",
        "\n",
        "Don't worry if you don't really understand what we're doing here. Once you create the heatmap, we're gonna walk you through the analysis."
      ],
      "metadata": {
        "id": "GiZ4DrOu5L7I"
      }
    },
    {
      "cell_type": "markdown",
      "source": [
        "Hint: Pandas has a built-in function that computes pairwise correlation of columns.\n",
        "To learn more, visit here: [correlation](https://pandas.pydata.org/docs/reference/api/pandas.DataFrame.corr.html)\n",
        "\n",
        "To learn about seaborn's heatmap, visit here: [heatmap](https://seaborn.pydata.org/generated/seaborn.heatmap.html)\n",
        "\n",
        "You might find this helpful for one-hot encoding categorical variables: [get_dummies](https://pandas.pydata.org/docs/reference/api/pandas.get_dummies.html)"
      ],
      "metadata": {
        "id": "AvSZOala7Wn0"
      }
    },
    {
      "cell_type": "code",
      "source": [
        "# One-hot encode categorical variables\n",
        "police_stops_encoded = pd.get_dummies(police_stops, columns=['subject_race', 'subject_sex', 'reason_for_stop', 'vehicle_registration_state', 'raw_suspect_ethnicity'], drop_first=True)\n",
        "\n",
        "# Calculate the correlation matrix\n",
        "correlation_matrix = police_stops_encoded.corr()\n",
        "\n",
        "# Isolate the correlation coefficients with the target variable 'search_conducted'\n",
        "search_conducted_correlation = correlation_matrix['search_conducted'].sort_values(ascending=False)\n",
        "\n",
        "# Visualize the correlation coefficients using a heatmap\n",
        "plt.figure(figsize=(10, 8))\n",
        "sns.heatmap(search_conducted_correlation.to_frame(), annot=True, cmap='coolwarm')\n",
        "plt.title(\"Feature Correlation with Search Conducted\")\n",
        "plt.tight_layout()\n",
        "plt.show()"
      ],
      "metadata": {
        "colab": {
          "base_uri": "https://localhost:8080/",
          "height": 268
        },
        "id": "RTg_3TkH47Es",
        "outputId": "5a5aea0c-ae5b-4973-9e15-032fe75b864f"
      },
      "execution_count": null,
      "outputs": [
        {
          "output_type": "error",
          "ename": "NameError",
          "evalue": "ignored",
          "traceback": [
            "\u001b[0;31m---------------------------------------------------------------------------\u001b[0m",
            "\u001b[0;31mNameError\u001b[0m                                 Traceback (most recent call last)",
            "\u001b[0;32m<ipython-input-2-da76dee1ad4d>\u001b[0m in \u001b[0;36m<cell line: 2>\u001b[0;34m()\u001b[0m\n\u001b[1;32m      1\u001b[0m \u001b[0;31m# One-hot encode categorical variables\u001b[0m\u001b[0;34m\u001b[0m\u001b[0;34m\u001b[0m\u001b[0m\n\u001b[0;32m----> 2\u001b[0;31m \u001b[0mpolice_stops_encoded\u001b[0m \u001b[0;34m=\u001b[0m \u001b[0mpd\u001b[0m\u001b[0;34m.\u001b[0m\u001b[0mget_dummies\u001b[0m\u001b[0;34m(\u001b[0m\u001b[0mpolice_stops\u001b[0m\u001b[0;34m,\u001b[0m \u001b[0mcolumns\u001b[0m\u001b[0;34m=\u001b[0m\u001b[0;34m[\u001b[0m\u001b[0;34m'subject_race'\u001b[0m\u001b[0;34m,\u001b[0m \u001b[0;34m'subject_sex'\u001b[0m\u001b[0;34m,\u001b[0m \u001b[0;34m'reason_for_stop'\u001b[0m\u001b[0;34m,\u001b[0m \u001b[0;34m'vehicle_registration_state'\u001b[0m\u001b[0;34m,\u001b[0m \u001b[0;34m'raw_suspect_ethnicity'\u001b[0m\u001b[0;34m]\u001b[0m\u001b[0;34m,\u001b[0m \u001b[0mdrop_first\u001b[0m\u001b[0;34m=\u001b[0m\u001b[0;32mTrue\u001b[0m\u001b[0;34m)\u001b[0m\u001b[0;34m\u001b[0m\u001b[0;34m\u001b[0m\u001b[0m\n\u001b[0m\u001b[1;32m      3\u001b[0m \u001b[0;34m\u001b[0m\u001b[0m\n\u001b[1;32m      4\u001b[0m \u001b[0;31m# Calculate the correlation matrix\u001b[0m\u001b[0;34m\u001b[0m\u001b[0;34m\u001b[0m\u001b[0m\n\u001b[1;32m      5\u001b[0m \u001b[0mcorrelation_matrix\u001b[0m \u001b[0;34m=\u001b[0m \u001b[0mpolice_stops_encoded\u001b[0m\u001b[0;34m.\u001b[0m\u001b[0mcorr\u001b[0m\u001b[0;34m(\u001b[0m\u001b[0;34m)\u001b[0m\u001b[0;34m\u001b[0m\u001b[0;34m\u001b[0m\u001b[0m\n",
            "\u001b[0;31mNameError\u001b[0m: name 'police_stops' is not defined"
          ]
        }
      ]
    },
    {
      "cell_type": "markdown",
      "source": [
        "### Understanding the heatmap"
      ],
      "metadata": {
        "id": "geI3i4MBDswF"
      }
    },
    {
      "cell_type": "markdown",
      "source": [
        "Now that we've generated correlation heatmap, let's interpret the result.\n",
        "\n",
        "\n",
        "1. Understanding Correlation Heatmap\n",
        "  *   The heatmap displays the correlation coefficients between features and the target variable search_conducted.\n",
        "  *   Correlation coefficients range from -1 to 1, where values close to 1 or -1 indicate a strong relationship, and values close to 0 indicate no relationship.\n",
        "  * A positive correlation means that as one feature increases, the target variable tends to increase. A negative correlation means that as one feature increases, the target variable tends to decrease.\n",
        "\n",
        "2.   Interpreting the Results\n",
        "  *   Features that show higher absolute values of correlation are typically considered more important for prediction.\n",
        "  *   For example, features like search_person, raw_search_consent, and raw_passenger_searched have high positive correlation coefficients, suggesting they're good predictors for search_conducted.\n",
        "\n",
        "Remember to not solely rely on correlation for feature selection, as correlation does not imply causation. You should consider the context and meaning of each feature, and be aware of potential ethical and legal implications, especially in sensitive areas such as criminal justice.\n",
        "\n",
        "\n"
      ],
      "metadata": {
        "id": "6CnNZpFp7Tiy"
      }
    },
    {
      "cell_type": "markdown",
      "source": [
        "✅ Which features are most highly correlated with search_conducted? Why might these features have strong correlations?"
      ],
      "metadata": {
        "id": "jzCw-KxNBgnE"
      }
    },
    {
      "cell_type": "code",
      "source": [
        "# sample answer\n",
        "solution = \"Features such as search_person, raw_search_consent, and raw_passenger_searched might show strong correlations with search_conducted because they are directly related to the event of a search being conducted. For instance, if an officer decides to search a person, this is inherently tied to whether any search was conducted at all. These actions are part of the protocol for stops that lead to searches, hence the strong correlation.\"\n",
        "print(solution)\n",
        "\n"
      ],
      "metadata": {
        "colab": {
          "base_uri": "https://localhost:8080/"
        },
        "id": "CidIqeut4jEh",
        "outputId": "23de6eed-a756-4113-8c64-135b4f068ac3"
      },
      "execution_count": null,
      "outputs": [
        {
          "output_type": "stream",
          "name": "stdout",
          "text": [
            "Features such as search_person, raw_search_consent, and raw_passenger_searched might show strong correlations with search_conducted because they are directly related to the event of a search being conducted. For instance, if an officer decides to search a person, this is inherently tied to whether any search was conducted at all. These actions are part of the protocol for stops that lead to searches, hence the strong correlation.\n"
          ]
        }
      ]
    },
    {
      "cell_type": "markdown",
      "source": [
        "✅ Discuss the potential implications of using these features in a predictive model within the criminal justice system. How might this affect fairness and accuracy?"
      ],
      "metadata": {
        "id": "ZooGdC16B-Qv"
      }
    },
    {
      "cell_type": "code",
      "source": [
        "# sample answer\n",
        "solution = \"Using features that have strong correlations with outcomes like search_conducted in a predictive model within criminal justice can have significant implications. If the model is based on biased data, it may reinforce those biases. For example, if searches are more frequently conducted on certain demographic groups, the model may unfairly target those groups in the future. This can affect both the fairness of the model and the accuracy of its predictions, potentially leading to mistrust in the judicial system and unequal treatment under the law. It is crucial to ensure that predictive models in criminal justice are transparent, accountable, and equitable.\"\n",
        "print(solution)"
      ],
      "metadata": {
        "colab": {
          "base_uri": "https://localhost:8080/"
        },
        "id": "pC_5UW8XCReg",
        "outputId": "65cb6de5-19ca-4a5a-e479-9f6f51a8e050"
      },
      "execution_count": null,
      "outputs": [
        {
          "output_type": "stream",
          "name": "stdout",
          "text": [
            "Using features that have strong correlations with outcomes like search_conducted in a predictive model within criminal justice can have significant implications. If the model is based on biased data, it may reinforce those biases. For example, if searches are more frequently conducted on certain demographic groups, the model may unfairly target those groups in the future. This can affect both the fairness of the model and the accuracy of its predictions, potentially leading to mistrust in the judicial system and unequal treatment under the law. It is crucial to ensure that predictive models in criminal justice are transparent, accountable, and equitable.\n"
          ]
        }
      ]
    },
    {
      "cell_type": "markdown",
      "source": [
        "## Mapping for EDA"
      ],
      "metadata": {
        "id": "UGLYDO9n7UDu"
      }
    },
    {
      "cell_type": "code",
      "source": [],
      "metadata": {
        "id": "G5icSTpe7S5_"
      },
      "execution_count": null,
      "outputs": []
    }
  ]
}