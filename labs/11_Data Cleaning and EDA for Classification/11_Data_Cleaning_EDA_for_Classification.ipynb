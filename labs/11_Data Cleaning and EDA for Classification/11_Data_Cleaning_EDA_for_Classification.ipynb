{
  "cells": [
    {
      "cell_type": "markdown",
      "metadata": {
        "id": "heb6iFGYoYlH"
      },
      "source": [
        "# Lab 11: Data Cleaning & EDA for Classification"
      ]
    },
    {
      "cell_type": "markdown",
      "metadata": {
        "id": "a2hAWY_pohGS"
      },
      "source": [
        "In this section of Lab 11, we will focus on preparing the Nashville police stops dataset (from lab3!) for classification tasks. Our primary goals are to clean the dataset by dealing with null values and to address potential issues of data leakage.\n",
        "\n"
      ]
    },
    {
      "cell_type": "code",
      "execution_count": 4,
      "metadata": {
        "id": "LsOuUSdK3d8E"
      },
      "outputs": [],
      "source": [
        "# Just run this cell\n",
        "from collections import Counter\n",
        "import numpy as np\n",
        "import pandas as pd\n",
        "from scipy import stats\n",
        "import statsmodels.api as sm\n",
        "from sklearn import datasets, linear_model\n",
        "from sklearn.linear_model import LinearRegression\n",
        "%matplotlib inline\n",
        "import matplotlib.pyplot as plt\n",
        "import seaborn as sns\n",
        "\n",
        "from sklearn.metrics import mean_squared_error"
      ]
    },
    {
      "cell_type": "markdown",
      "metadata": {
        "id": "A_ie67wypGvG"
      },
      "source": [
        "We're going to be using Nashville Police Stop dataset, like we did in lab 3."
      ]
    },
    {
      "cell_type": "code",
      "execution_count": 5,
      "metadata": {
        "colab": {
          "base_uri": "https://localhost:8080/",
          "height": 725
        },
        "id": "TgvrIm_-oXsT",
        "outputId": "94a3674f-5be7-4007-b859-0b2981275884"
      },
      "outputs": [
        {
          "name": "stderr",
          "output_type": "stream",
          "text": [
            "C:\\Users\\Jessi\\AppData\\Local\\Temp\\ipykernel_60780\\383709369.py:2: DtypeWarning: Columns (6,8,15,16,17,22,23,24,25,29,30,31,32,33,35,36,37,38,40,41) have mixed types. Specify dtype option on import or set low_memory=False.\n",
            "  police_stops = pd.read_csv(\"https://github.com/ds-modules/data/raw/main/nashville.csv\").sample(n=1000, random_state = 42).reset_index()\n"
          ]
        },
        {
          "data": {
            "text/html": [
              "<div>\n",
              "<style scoped>\n",
              "    .dataframe tbody tr th:only-of-type {\n",
              "        vertical-align: middle;\n",
              "    }\n",
              "\n",
              "    .dataframe tbody tr th {\n",
              "        vertical-align: top;\n",
              "    }\n",
              "\n",
              "    .dataframe thead th {\n",
              "        text-align: right;\n",
              "    }\n",
              "</style>\n",
              "<table border=\"1\" class=\"dataframe\">\n",
              "  <thead>\n",
              "    <tr style=\"text-align: right;\">\n",
              "      <th></th>\n",
              "      <th>index</th>\n",
              "      <th>raw_row_number</th>\n",
              "      <th>date</th>\n",
              "      <th>time</th>\n",
              "      <th>location</th>\n",
              "      <th>lat</th>\n",
              "      <th>lng</th>\n",
              "      <th>precinct</th>\n",
              "      <th>reporting_area</th>\n",
              "      <th>zone</th>\n",
              "      <th>...</th>\n",
              "      <th>raw_traffic_citation_issued</th>\n",
              "      <th>raw_misd_state_citation_issued</th>\n",
              "      <th>raw_suspect_ethnicity</th>\n",
              "      <th>raw_driver_searched</th>\n",
              "      <th>raw_passenger_searched</th>\n",
              "      <th>raw_search_consent</th>\n",
              "      <th>raw_search_arrest</th>\n",
              "      <th>raw_search_warrant</th>\n",
              "      <th>raw_search_inventory</th>\n",
              "      <th>raw_search_plain_view</th>\n",
              "    </tr>\n",
              "  </thead>\n",
              "  <tbody>\n",
              "    <tr>\n",
              "      <th>0</th>\n",
              "      <td>1840907</td>\n",
              "      <td>93347</td>\n",
              "      <td>2010-04-18</td>\n",
              "      <td>13140.0</td>\n",
              "      <td>BURGESS AVE &amp; WHITE BRIDGE PIKE, NASHVILLE, TN...</td>\n",
              "      <td>36.145004</td>\n",
              "      <td>-86.857970</td>\n",
              "      <td>1.0</td>\n",
              "      <td>5103.0</td>\n",
              "      <td>113.0</td>\n",
              "      <td>...</td>\n",
              "      <td>False</td>\n",
              "      <td>NaN</td>\n",
              "      <td>N</td>\n",
              "      <td>False</td>\n",
              "      <td>False</td>\n",
              "      <td>False</td>\n",
              "      <td>False</td>\n",
              "      <td>False</td>\n",
              "      <td>False</td>\n",
              "      <td>False</td>\n",
              "    </tr>\n",
              "    <tr>\n",
              "      <th>1</th>\n",
              "      <td>492044</td>\n",
              "      <td>2001428</td>\n",
              "      <td>2015-01-19</td>\n",
              "      <td>19920.0</td>\n",
              "      <td>DUE WEST AVE W &amp; S GRAYCROFT AVE, MADISON, TN,...</td>\n",
              "      <td>36.249187</td>\n",
              "      <td>-86.734459</td>\n",
              "      <td>7.0</td>\n",
              "      <td>1797.0</td>\n",
              "      <td>723.0</td>\n",
              "      <td>...</td>\n",
              "      <td>False</td>\n",
              "      <td>False</td>\n",
              "      <td>N</td>\n",
              "      <td>False</td>\n",
              "      <td>False</td>\n",
              "      <td>False</td>\n",
              "      <td>False</td>\n",
              "      <td>False</td>\n",
              "      <td>False</td>\n",
              "      <td>False</td>\n",
              "    </tr>\n",
              "    <tr>\n",
              "      <th>2</th>\n",
              "      <td>431170</td>\n",
              "      <td>1996331</td>\n",
              "      <td>2015-01-15</td>\n",
              "      <td>1020.0</td>\n",
              "      <td>S GALLATIN PIKE &amp; MADISON BLVD, MADISON, TN, 3...</td>\n",
              "      <td>36.254979</td>\n",
              "      <td>-86.715246</td>\n",
              "      <td>7.0</td>\n",
              "      <td>1623.0</td>\n",
              "      <td>711.0</td>\n",
              "      <td>...</td>\n",
              "      <td>False</td>\n",
              "      <td>False</td>\n",
              "      <td>N</td>\n",
              "      <td>False</td>\n",
              "      <td>False</td>\n",
              "      <td>False</td>\n",
              "      <td>False</td>\n",
              "      <td>False</td>\n",
              "      <td>False</td>\n",
              "      <td>False</td>\n",
              "    </tr>\n",
              "    <tr>\n",
              "      <th>3</th>\n",
              "      <td>2066423</td>\n",
              "      <td>1319451</td>\n",
              "      <td>2013-05-17</td>\n",
              "      <td>62760.0</td>\n",
              "      <td>CHARLOTTE PIKE &amp; W HILLWOOD DR, NASHVILLE, TN,...</td>\n",
              "      <td>36.139093</td>\n",
              "      <td>-86.880533</td>\n",
              "      <td>1.0</td>\n",
              "      <td>5009.0</td>\n",
              "      <td>123.0</td>\n",
              "      <td>...</td>\n",
              "      <td>False</td>\n",
              "      <td>False</td>\n",
              "      <td>N</td>\n",
              "      <td>False</td>\n",
              "      <td>False</td>\n",
              "      <td>False</td>\n",
              "      <td>False</td>\n",
              "      <td>False</td>\n",
              "      <td>False</td>\n",
              "      <td>False</td>\n",
              "    </tr>\n",
              "    <tr>\n",
              "      <th>4</th>\n",
              "      <td>2899480</td>\n",
              "      <td>201349</td>\n",
              "      <td>2010-09-01</td>\n",
              "      <td>28140.0</td>\n",
              "      <td>BELL RD &amp; DODSON CHAPEL RD, HERMITAGE, TN, 37076</td>\n",
              "      <td>36.163310</td>\n",
              "      <td>-86.613147</td>\n",
              "      <td>5.0</td>\n",
              "      <td>9501.0</td>\n",
              "      <td>521.0</td>\n",
              "      <td>...</td>\n",
              "      <td>False</td>\n",
              "      <td>NaN</td>\n",
              "      <td>N</td>\n",
              "      <td>False</td>\n",
              "      <td>False</td>\n",
              "      <td>False</td>\n",
              "      <td>False</td>\n",
              "      <td>False</td>\n",
              "      <td>False</td>\n",
              "      <td>False</td>\n",
              "    </tr>\n",
              "  </tbody>\n",
              "</table>\n",
              "<p>5 rows × 43 columns</p>\n",
              "</div>"
            ],
            "text/plain": [
              "     index raw_row_number        date     time  \\\n",
              "0  1840907          93347  2010-04-18  13140.0   \n",
              "1   492044        2001428  2015-01-19  19920.0   \n",
              "2   431170        1996331  2015-01-15   1020.0   \n",
              "3  2066423        1319451  2013-05-17  62760.0   \n",
              "4  2899480         201349  2010-09-01  28140.0   \n",
              "\n",
              "                                            location        lat        lng  \\\n",
              "0  BURGESS AVE & WHITE BRIDGE PIKE, NASHVILLE, TN...  36.145004 -86.857970   \n",
              "1  DUE WEST AVE W & S GRAYCROFT AVE, MADISON, TN,...  36.249187 -86.734459   \n",
              "2  S GALLATIN PIKE & MADISON BLVD, MADISON, TN, 3...  36.254979 -86.715246   \n",
              "3  CHARLOTTE PIKE & W HILLWOOD DR, NASHVILLE, TN,...  36.139093 -86.880533   \n",
              "4   BELL RD & DODSON CHAPEL RD, HERMITAGE, TN, 37076  36.163310 -86.613147   \n",
              "\n",
              "  precinct  reporting_area   zone  ...  raw_traffic_citation_issued  \\\n",
              "0      1.0          5103.0  113.0  ...                        False   \n",
              "1      7.0          1797.0  723.0  ...                        False   \n",
              "2      7.0          1623.0  711.0  ...                        False   \n",
              "3      1.0          5009.0  123.0  ...                        False   \n",
              "4      5.0          9501.0  521.0  ...                        False   \n",
              "\n",
              "  raw_misd_state_citation_issued raw_suspect_ethnicity raw_driver_searched  \\\n",
              "0                            NaN                     N               False   \n",
              "1                          False                     N               False   \n",
              "2                          False                     N               False   \n",
              "3                          False                     N               False   \n",
              "4                            NaN                     N               False   \n",
              "\n",
              "  raw_passenger_searched raw_search_consent raw_search_arrest  \\\n",
              "0                  False              False             False   \n",
              "1                  False              False             False   \n",
              "2                  False              False             False   \n",
              "3                  False              False             False   \n",
              "4                  False              False             False   \n",
              "\n",
              "  raw_search_warrant raw_search_inventory raw_search_plain_view  \n",
              "0              False                False                 False  \n",
              "1              False                False                 False  \n",
              "2              False                False                 False  \n",
              "3              False                False                 False  \n",
              "4              False                False                 False  \n",
              "\n",
              "[5 rows x 43 columns]"
            ]
          },
          "execution_count": 5,
          "metadata": {},
          "output_type": "execute_result"
        }
      ],
      "source": [
        "# Loading the dataset.\n",
        "police_stops = pd.read_csv(\"https://github.com/ds-modules/data/raw/main/nashville.csv\").sample(n=1000, random_state = 42).reset_index()\n",
        "police_stops.head(5)"
      ]
    },
    {
      "cell_type": "markdown",
      "metadata": {
        "id": "xsfPUeb9oIms"
      },
      "source": [
        "## Data Preparation"
      ]
    },
    {
      "cell_type": "markdown",
      "metadata": {
        "id": "aNUXVgJ0oL6z"
      },
      "source": [
        "In revisiting the essentials of data operations from Lab 3 and Lab 6, we're reminded of the crucial role of data cleaning in enhancing our analytical outcomes. Here are some concise, yet effective strategies:"
      ]
    },
    {
      "cell_type": "markdown",
      "metadata": {
        "id": "c-1SIO4yqN5T"
      },
      "source": [
        "\n",
        "\n",
        "1.   Addressing Missing Data\n",
        "\n",
        "    * Crucial to identify and manage missing data to avoid skewed analyses.\n",
        "    * Strategies include either removing or statistically imputing missing values, depending on their impact and prevalence.\n",
        "\n",
        "\n",
        "2.   Recode Categorical Variables\n",
        " *   Transform categorical variables into binary (0 or 1) format, known as one-hot encoding, to simplify analysis and model integration.\n",
        " * More on this later!\n",
        "\n",
        "3. Standardize Scale\n",
        "  *   Align all variables to a consistent scale for better comparability and interpretation of results.\n",
        "\n",
        "\n",
        "\n",
        "\n",
        "\n",
        "\n",
        "\n",
        "\n"
      ]
    },
    {
      "cell_type": "markdown",
      "metadata": {
        "id": "LW6_jjlkpCVJ"
      },
      "source": [
        "✅ **Question 1:** Clean the dataset so that it doesn't have null values.\n",
        "\n",
        "\n",
        "Hint: There's pandas function that does this for you."
      ]
    },
    {
      "cell_type": "code",
      "execution_count": 6,
      "metadata": {
        "colab": {
          "base_uri": "https://localhost:8080/",
          "height": 471
        },
        "id": "vDs7K8Kvrg1S",
        "outputId": "05191545-16a7-4456-f5f9-691310ddbd42"
      },
      "outputs": [
        {
          "data": {
            "text/html": [
              "<div>\n",
              "<style scoped>\n",
              "    .dataframe tbody tr th:only-of-type {\n",
              "        vertical-align: middle;\n",
              "    }\n",
              "\n",
              "    .dataframe tbody tr th {\n",
              "        vertical-align: top;\n",
              "    }\n",
              "\n",
              "    .dataframe thead th {\n",
              "        text-align: right;\n",
              "    }\n",
              "</style>\n",
              "<table border=\"1\" class=\"dataframe\">\n",
              "  <thead>\n",
              "    <tr style=\"text-align: right;\">\n",
              "      <th></th>\n",
              "      <th>index</th>\n",
              "      <th>raw_row_number</th>\n",
              "      <th>date</th>\n",
              "      <th>time</th>\n",
              "      <th>location</th>\n",
              "      <th>lat</th>\n",
              "      <th>lng</th>\n",
              "      <th>precinct</th>\n",
              "      <th>reporting_area</th>\n",
              "      <th>zone</th>\n",
              "      <th>...</th>\n",
              "      <th>raw_traffic_citation_issued</th>\n",
              "      <th>raw_misd_state_citation_issued</th>\n",
              "      <th>raw_suspect_ethnicity</th>\n",
              "      <th>raw_driver_searched</th>\n",
              "      <th>raw_passenger_searched</th>\n",
              "      <th>raw_search_consent</th>\n",
              "      <th>raw_search_arrest</th>\n",
              "      <th>raw_search_warrant</th>\n",
              "      <th>raw_search_inventory</th>\n",
              "      <th>raw_search_plain_view</th>\n",
              "    </tr>\n",
              "  </thead>\n",
              "  <tbody>\n",
              "    <tr>\n",
              "      <th>0</th>\n",
              "      <td>1840907</td>\n",
              "      <td>93347</td>\n",
              "      <td>2010-04-18</td>\n",
              "      <td>13140.0</td>\n",
              "      <td>BURGESS AVE &amp; WHITE BRIDGE PIKE, NASHVILLE, TN...</td>\n",
              "      <td>36.145004</td>\n",
              "      <td>-86.857970</td>\n",
              "      <td>1.0</td>\n",
              "      <td>5103.0</td>\n",
              "      <td>113.0</td>\n",
              "      <td>...</td>\n",
              "      <td>False</td>\n",
              "      <td>NaN</td>\n",
              "      <td>N</td>\n",
              "      <td>False</td>\n",
              "      <td>False</td>\n",
              "      <td>False</td>\n",
              "      <td>False</td>\n",
              "      <td>False</td>\n",
              "      <td>False</td>\n",
              "      <td>False</td>\n",
              "    </tr>\n",
              "    <tr>\n",
              "      <th>1</th>\n",
              "      <td>492044</td>\n",
              "      <td>2001428</td>\n",
              "      <td>2015-01-19</td>\n",
              "      <td>19920.0</td>\n",
              "      <td>DUE WEST AVE W &amp; S GRAYCROFT AVE, MADISON, TN,...</td>\n",
              "      <td>36.249187</td>\n",
              "      <td>-86.734459</td>\n",
              "      <td>7.0</td>\n",
              "      <td>1797.0</td>\n",
              "      <td>723.0</td>\n",
              "      <td>...</td>\n",
              "      <td>False</td>\n",
              "      <td>False</td>\n",
              "      <td>N</td>\n",
              "      <td>False</td>\n",
              "      <td>False</td>\n",
              "      <td>False</td>\n",
              "      <td>False</td>\n",
              "      <td>False</td>\n",
              "      <td>False</td>\n",
              "      <td>False</td>\n",
              "    </tr>\n",
              "    <tr>\n",
              "      <th>2</th>\n",
              "      <td>431170</td>\n",
              "      <td>1996331</td>\n",
              "      <td>2015-01-15</td>\n",
              "      <td>1020.0</td>\n",
              "      <td>S GALLATIN PIKE &amp; MADISON BLVD, MADISON, TN, 3...</td>\n",
              "      <td>36.254979</td>\n",
              "      <td>-86.715246</td>\n",
              "      <td>7.0</td>\n",
              "      <td>1623.0</td>\n",
              "      <td>711.0</td>\n",
              "      <td>...</td>\n",
              "      <td>False</td>\n",
              "      <td>False</td>\n",
              "      <td>N</td>\n",
              "      <td>False</td>\n",
              "      <td>False</td>\n",
              "      <td>False</td>\n",
              "      <td>False</td>\n",
              "      <td>False</td>\n",
              "      <td>False</td>\n",
              "      <td>False</td>\n",
              "    </tr>\n",
              "  </tbody>\n",
              "</table>\n",
              "<p>3 rows × 43 columns</p>\n",
              "</div>"
            ],
            "text/plain": [
              "     index raw_row_number        date     time  \\\n",
              "0  1840907          93347  2010-04-18  13140.0   \n",
              "1   492044        2001428  2015-01-19  19920.0   \n",
              "2   431170        1996331  2015-01-15   1020.0   \n",
              "\n",
              "                                            location        lat        lng  \\\n",
              "0  BURGESS AVE & WHITE BRIDGE PIKE, NASHVILLE, TN...  36.145004 -86.857970   \n",
              "1  DUE WEST AVE W & S GRAYCROFT AVE, MADISON, TN,...  36.249187 -86.734459   \n",
              "2  S GALLATIN PIKE & MADISON BLVD, MADISON, TN, 3...  36.254979 -86.715246   \n",
              "\n",
              "  precinct  reporting_area   zone  ...  raw_traffic_citation_issued  \\\n",
              "0      1.0          5103.0  113.0  ...                        False   \n",
              "1      7.0          1797.0  723.0  ...                        False   \n",
              "2      7.0          1623.0  711.0  ...                        False   \n",
              "\n",
              "  raw_misd_state_citation_issued raw_suspect_ethnicity raw_driver_searched  \\\n",
              "0                            NaN                     N               False   \n",
              "1                          False                     N               False   \n",
              "2                          False                     N               False   \n",
              "\n",
              "  raw_passenger_searched raw_search_consent raw_search_arrest  \\\n",
              "0                  False              False             False   \n",
              "1                  False              False             False   \n",
              "2                  False              False             False   \n",
              "\n",
              "  raw_search_warrant raw_search_inventory raw_search_plain_view  \n",
              "0              False                False                 False  \n",
              "1              False                False                 False  \n",
              "2              False                False                 False  \n",
              "\n",
              "[3 rows x 43 columns]"
            ]
          },
          "execution_count": 6,
          "metadata": {},
          "output_type": "execute_result"
        }
      ],
      "source": [
        "# Replace null values with zero\n",
        "...\n",
        "\n",
        "police_stops.head(3)"
      ]
    },
    {
      "cell_type": "markdown",
      "metadata": {
        "id": "ME6M-Zof3BRw"
      },
      "source": [
        "## Data Preparation:"
      ]
    },
    {
      "cell_type": "markdown",
      "metadata": {
        "id": "M1lMuN7tVoaJ"
      },
      "source": [
        "#### One Hot Encoding:"
      ]
    },
    {
      "cell_type": "markdown",
      "metadata": {
        "id": "wnjYGKWGUHDy"
      },
      "source": [
        "Notice that a few of the variables that are numeric/integer actually encode categorical data. In order to analyze the dataset, we can convert these to their true categorical values.\n",
        "\n",
        "In addition, the time field is currently in ______. In order to make this field easier to understand and analyze, we will convert it to the traditional 24 hour scale."
      ]
    },
    {
      "cell_type": "code",
      "execution_count": null,
      "metadata": {
        "colab": {
          "base_uri": "https://localhost:8080/"
        },
        "id": "gZs7nOf4V6U9",
        "outputId": "095fa285-5e0e-4b8a-82c2-cff32fe9f443"
      },
      "outputs": [
        {
          "name": "stdout",
          "output_type": "stream",
          "text": [
            "<class 'pandas.core.frame.DataFrame'>\n",
            "RangeIndex: 1000 entries, 0 to 999\n",
            "Data columns (total 43 columns):\n",
            " #   Column                          Non-Null Count  Dtype  \n",
            "---  ------                          --------------  -----  \n",
            " 0   index                           1000 non-null   int64  \n",
            " 1   raw_row_number                  1000 non-null   object \n",
            " 2   date                            1000 non-null   object \n",
            " 3   time                            1000 non-null   float64\n",
            " 4   location                        1000 non-null   object \n",
            " 5   lat                             1000 non-null   float64\n",
            " 6   lng                             1000 non-null   float64\n",
            " 7   precinct                        1000 non-null   object \n",
            " 8   reporting_area                  1000 non-null   float64\n",
            " 9   zone                            1000 non-null   object \n",
            " 10  subject_age                     1000 non-null   float64\n",
            " 11  subject_race                    1000 non-null   object \n",
            " 12  subject_sex                     1000 non-null   object \n",
            " 13  officer_id_hash                 1000 non-null   object \n",
            " 14  type                            1000 non-null   object \n",
            " 15  violation                       1000 non-null   object \n",
            " 16  arrest_made                     1000 non-null   bool   \n",
            " 17  citation_issued                 1000 non-null   bool   \n",
            " 18  warning_issued                  1000 non-null   bool   \n",
            " 19  outcome                         1000 non-null   object \n",
            " 20  contraband_found                1000 non-null   object \n",
            " 21  contraband_drugs                1000 non-null   object \n",
            " 22  contraband_weapons              1000 non-null   object \n",
            " 23  frisk_performed                 1000 non-null   bool   \n",
            " 24  search_conducted                1000 non-null   bool   \n",
            " 25  search_person                   1000 non-null   bool   \n",
            " 26  search_vehicle                  1000 non-null   bool   \n",
            " 27  search_basis                    1000 non-null   object \n",
            " 28  reason_for_stop                 1000 non-null   object \n",
            " 29  vehicle_registration_state      1000 non-null   object \n",
            " 30  notes                           1000 non-null   object \n",
            " 31  raw_verbal_warning_issued       1000 non-null   bool   \n",
            " 32  raw_written_warning_issued      1000 non-null   object \n",
            " 33  raw_traffic_citation_issued     1000 non-null   bool   \n",
            " 34  raw_misd_state_citation_issued  1000 non-null   object \n",
            " 35  raw_suspect_ethnicity           1000 non-null   object \n",
            " 36  raw_driver_searched             1000 non-null   bool   \n",
            " 37  raw_passenger_searched          1000 non-null   bool   \n",
            " 38  raw_search_consent              1000 non-null   bool   \n",
            " 39  raw_search_arrest               1000 non-null   bool   \n",
            " 40  raw_search_warrant              1000 non-null   bool   \n",
            " 41  raw_search_inventory            1000 non-null   bool   \n",
            " 42  raw_search_plain_view           1000 non-null   bool   \n",
            "dtypes: bool(16), float64(5), int64(1), object(21)\n",
            "memory usage: 226.7+ KB\n"
          ]
        }
      ],
      "source": [
        "police_stops.info()"
      ]
    },
    {
      "cell_type": "markdown",
      "metadata": {
        "id": "6zqbnOepVyRz"
      },
      "source": [
        "Before doing analysis, we're going to decode the `time` field:\n",
        "\n",
        "1. `time`: Convert to `____`.  "
      ]
    },
    {
      "cell_type": "code",
      "execution_count": null,
      "metadata": {
        "colab": {
          "base_uri": "https://localhost:8080/",
          "height": 242
        },
        "id": "B6V0gNRtVVOg",
        "outputId": "ba9bf8cf-b957-45d2-f4ce-a4af47006a2e"
      },
      "outputs": [
        {
          "ename": "NameError",
          "evalue": "ignored",
          "output_type": "error",
          "traceback": [
            "\u001b[0;31m---------------------------------------------------------------------------\u001b[0m",
            "\u001b[0;31mNameError\u001b[0m                                 Traceback (most recent call last)",
            "\u001b[0;32m<ipython-input-4-a3f8c4b58baa>\u001b[0m in \u001b[0;36m<cell line: 2>\u001b[0;34m()\u001b[0m\n\u001b[1;32m      1\u001b[0m \u001b[0;31m# Just run this cell.\u001b[0m\u001b[0;34m\u001b[0m\u001b[0;34m\u001b[0m\u001b[0m\n\u001b[0;32m----> 2\u001b[0;31m bike_encoded = bike.replace({'holiday' : {0 : 'no', 1 : 'yes'},\n\u001b[0m\u001b[1;32m      3\u001b[0m                      \u001b[0;34m'weekday'\u001b[0m \u001b[0;34m:\u001b[0m \u001b[0;34m{\u001b[0m\u001b[0;36m0\u001b[0m \u001b[0;34m:\u001b[0m \u001b[0;34m'Sun'\u001b[0m\u001b[0;34m,\u001b[0m\u001b[0;36m1\u001b[0m \u001b[0;34m:\u001b[0m \u001b[0;34m'Mon'\u001b[0m\u001b[0;34m,\u001b[0m\u001b[0;36m2\u001b[0m \u001b[0;34m:\u001b[0m \u001b[0;34m'Tue'\u001b[0m\u001b[0;34m,\u001b[0m\u001b[0;36m3\u001b[0m \u001b[0;34m:\u001b[0m \u001b[0;34m'Wed'\u001b[0m\u001b[0;34m,\u001b[0m\u001b[0;36m4\u001b[0m \u001b[0;34m:\u001b[0m \u001b[0;34m'Thu'\u001b[0m\u001b[0;34m,\u001b[0m\u001b[0;36m5\u001b[0m \u001b[0;34m:\u001b[0m \u001b[0;34m'Fri'\u001b[0m\u001b[0;34m,\u001b[0m \u001b[0;36m6\u001b[0m \u001b[0;34m:\u001b[0m \u001b[0;34m'Sat'\u001b[0m\u001b[0;34m}\u001b[0m\u001b[0;34m,\u001b[0m\u001b[0;34m\u001b[0m\u001b[0;34m\u001b[0m\u001b[0m\n\u001b[1;32m      4\u001b[0m                     \u001b[0;34m'workingday'\u001b[0m \u001b[0;34m:\u001b[0m \u001b[0;34m{\u001b[0m\u001b[0;36m0\u001b[0m \u001b[0;34m:\u001b[0m \u001b[0;34m'no'\u001b[0m\u001b[0;34m,\u001b[0m \u001b[0;36m1\u001b[0m \u001b[0;34m:\u001b[0m \u001b[0;34m'yes'\u001b[0m\u001b[0;34m}\u001b[0m\u001b[0;34m,\u001b[0m\u001b[0;34m\u001b[0m\u001b[0;34m\u001b[0m\u001b[0m\n\u001b[1;32m      5\u001b[0m                     'weathersit' : {1 : 'Clear',2 : 'Mist',3 : 'Light',4 : 'Heavy'}})\n",
            "\u001b[0;31mNameError\u001b[0m: name 'bike' is not defined"
          ]
        }
      ],
      "source": [
        "# Just run this cell.\n",
        "police_encoded = police_stops.replace({'' : {0 : 'no', 1 : 'yes'}})\n",
        "police_encoded.head()"
      ]
    },
    {
      "cell_type": "markdown",
      "metadata": {
        "id": "CKek61oIsvR8"
      },
      "source": [
        "### Dealing with Data Leakage"
      ]
    },
    {
      "cell_type": "markdown",
      "metadata": {
        "id": "ZLt5xv1Esz6q"
      },
      "source": [
        "In the context of criminal justice datasets like the Nashville police stops, it's crucial to identify and eliminate data leakage to ensure our models are predictive, not just reflective of post-event outcomes."
      ]
    },
    {
      "cell_type": "markdown",
      "metadata": {
        "id": "LW8hk3Q3tGfU"
      },
      "source": [
        "\n",
        "\n",
        "*   What is Data Leakage?\n",
        "  *   Data leakage occurs when information from outside the training dataset, particularly features that would not be available at the time of prediction, inadvertently influences the model.\n",
        "  *   This can lead to overly optimistic performance estimates and poor generalization to new data.\n",
        "\n",
        "\n",
        "*  Leakage in Criminal Justice Datasets\n",
        "  *    In datasets related to criminal justice, leakage can manifest through variables that contain information about events or outcomes that occur after the police stop (e.g., the result of a legal case).\n",
        "  *   Using such data in predictive models can result in biased and unreliable predictions.\n",
        "\n",
        "\n",
        "\n",
        "\n",
        "\n",
        "\n"
      ]
    },
    {
      "cell_type": "markdown",
      "metadata": {
        "id": "6aqGON8atjjI"
      },
      "source": [
        "It seems like data leakage is a crucial issue that we need to deal with! Here're some strategies to mitigate leakage.\n",
        "\n",
        "\n",
        "\n",
        "1.   Identify Potential Leaky Variables\n",
        "  * Carefully review each variable to determine if it contains post-event information or outcomes that would not be known at the time of the police stop.\n",
        "2.   Remove Leaky Variables\n",
        "  * Once identified, these variables should be removed from the dataset to prevent their influence on the model.\n",
        "\n"
      ]
    },
    {
      "cell_type": "code",
      "execution_count": null,
      "metadata": {
        "colab": {
          "base_uri": "https://localhost:8080/"
        },
        "id": "WizK7O8HszAb",
        "outputId": "14829da1-4793-49cd-8aaa-e7eaf85c0703"
      },
      "outputs": [
        {
          "data": {
            "text/plain": [
              "array(['index', 'raw_row_number', 'date', 'time', 'location', 'lat',\n",
              "       'lng', 'precinct', 'reporting_area', 'zone', 'subject_age',\n",
              "       'subject_race', 'subject_sex', 'officer_id_hash', 'type',\n",
              "       'violation', 'arrest_made', 'citation_issued', 'warning_issued',\n",
              "       'outcome', 'contraband_found', 'contraband_drugs',\n",
              "       'contraband_weapons', 'frisk_performed', 'search_conducted',\n",
              "       'search_person', 'search_vehicle', 'search_basis',\n",
              "       'reason_for_stop', 'vehicle_registration_state', 'notes',\n",
              "       'raw_verbal_warning_issued', 'raw_written_warning_issued',\n",
              "       'raw_traffic_citation_issued', 'raw_misd_state_citation_issued',\n",
              "       'raw_suspect_ethnicity', 'raw_driver_searched',\n",
              "       'raw_passenger_searched', 'raw_search_consent',\n",
              "       'raw_search_arrest', 'raw_search_warrant', 'raw_search_inventory',\n",
              "       'raw_search_plain_view'], dtype=object)"
            ]
          },
          "execution_count": 5,
          "metadata": {},
          "output_type": "execute_result"
        }
      ],
      "source": [
        "# Inspect the features of the dataset (i.e. all columns in dataset)\n",
        "police_stops.columns.values"
      ]
    },
    {
      "cell_type": "markdown",
      "metadata": {
        "id": "3VxY44uSwXHZ"
      },
      "source": [
        "Notice this about the columns above.\n",
        "\n",
        "\n",
        "*   Outcome Variables\n",
        "    * These reflect events or decisions made during or after a police stop and would not be known beforehand.\n",
        "*   Search-Related Variables\n",
        "    * These are also tied to the outcome of a search, which is a post-event activity.\n",
        "\n",
        "Let's classify the columns into outcome variables and search related variables.\n",
        "\n"
      ]
    },
    {
      "cell_type": "code",
      "execution_count": null,
      "metadata": {
        "id": "D7qHHmi9vvZv"
      },
      "outputs": [],
      "source": [
        "outcome_vars = ['arrest_made', 'citation_issued', 'warning_issued', 'outcome', 'contraband_found', 'contraband_drugs', 'contraband_weapons', 'frisk_performed', 'search_conducted', 'search_person', 'search_vehicle']\n",
        "search_related_vars = ['search_basis', 'raw_search_consent', 'raw_search_arrest', 'raw_search_warrant', 'raw_search_inventory', 'raw_search_plain_view']"
      ]
    },
    {
      "cell_type": "markdown",
      "metadata": {
        "id": "O303KnabwnTt"
      },
      "source": [
        "## Feature Selection"
      ]
    },
    {
      "cell_type": "markdown",
      "metadata": {
        "id": "BbDqNEPK47wD"
      },
      "source": [
        "Now we're finally ready to do some analysis!\n",
        "\n",
        "In this section, we will focus on identifying which features in the Nashville police stops dataset are most relevant for predicting the outcome `search_conducted`.\n",
        "Feature selection is crucial in machine learning as it helps in reducing the dimensionality of the data, improving model performance, and enhancing interpretability."
      ]
    },
    {
      "cell_type": "markdown",
      "metadata": {
        "id": "GiZ4DrOu5L7I"
      },
      "source": [
        "Our goal is to use the correlation coefficient to measure the relationship between each feature and the `search_conducted` variable. This method helps in pinpointing features that have a stronger linear relationship with the target variable.\n",
        "\n",
        "To further our analysis, we're going to generate a correlation heatmap, which is a visual tool used in feature selection to identify how each feature is correlated with the target variable, which is search_conducted in our case.\n",
        "\n",
        "Don't worry if you don't really understand what we're doing here. Once you create the heatmap, we're gonna walk you through the analysis."
      ]
    },
    {
      "cell_type": "markdown",
      "metadata": {
        "id": "AvSZOala7Wn0"
      },
      "source": [
        "Hint: Pandas has a built-in function that computes pairwise correlation of columns.\n",
        "To learn more, visit here: [correlation](https://pandas.pydata.org/docs/reference/api/pandas.DataFrame.corr.html)\n",
        "\n",
        "To learn about seaborn's heatmap, visit here: [heatmap](https://seaborn.pydata.org/generated/seaborn.heatmap.html)\n",
        "\n",
        "You might find this helpful for one-hot encoding categorical variables: [get_dummies](https://pandas.pydata.org/docs/reference/api/pandas.get_dummies.html)"
      ]
    },
    {
      "cell_type": "code",
      "execution_count": null,
      "metadata": {
        "colab": {
          "base_uri": "https://localhost:8080/",
          "height": 268
        },
        "id": "RTg_3TkH47Es",
        "outputId": "5a5aea0c-ae5b-4973-9e15-032fe75b864f"
      },
      "outputs": [
        {
          "ename": "NameError",
          "evalue": "ignored",
          "output_type": "error",
          "traceback": [
            "\u001b[0;31m---------------------------------------------------------------------------\u001b[0m",
            "\u001b[0;31mNameError\u001b[0m                                 Traceback (most recent call last)",
            "\u001b[0;32m<ipython-input-2-da76dee1ad4d>\u001b[0m in \u001b[0;36m<cell line: 2>\u001b[0;34m()\u001b[0m\n\u001b[1;32m      1\u001b[0m \u001b[0;31m# One-hot encode categorical variables\u001b[0m\u001b[0;34m\u001b[0m\u001b[0;34m\u001b[0m\u001b[0m\n\u001b[0;32m----> 2\u001b[0;31m \u001b[0mpolice_stops_encoded\u001b[0m \u001b[0;34m=\u001b[0m \u001b[0mpd\u001b[0m\u001b[0;34m.\u001b[0m\u001b[0mget_dummies\u001b[0m\u001b[0;34m(\u001b[0m\u001b[0mpolice_stops\u001b[0m\u001b[0;34m,\u001b[0m \u001b[0mcolumns\u001b[0m\u001b[0;34m=\u001b[0m\u001b[0;34m[\u001b[0m\u001b[0;34m'subject_race'\u001b[0m\u001b[0;34m,\u001b[0m \u001b[0;34m'subject_sex'\u001b[0m\u001b[0;34m,\u001b[0m \u001b[0;34m'reason_for_stop'\u001b[0m\u001b[0;34m,\u001b[0m \u001b[0;34m'vehicle_registration_state'\u001b[0m\u001b[0;34m,\u001b[0m \u001b[0;34m'raw_suspect_ethnicity'\u001b[0m\u001b[0;34m]\u001b[0m\u001b[0;34m,\u001b[0m \u001b[0mdrop_first\u001b[0m\u001b[0;34m=\u001b[0m\u001b[0;32mTrue\u001b[0m\u001b[0;34m)\u001b[0m\u001b[0;34m\u001b[0m\u001b[0;34m\u001b[0m\u001b[0m\n\u001b[0m\u001b[1;32m      3\u001b[0m \u001b[0;34m\u001b[0m\u001b[0m\n\u001b[1;32m      4\u001b[0m \u001b[0;31m# Calculate the correlation matrix\u001b[0m\u001b[0;34m\u001b[0m\u001b[0;34m\u001b[0m\u001b[0m\n\u001b[1;32m      5\u001b[0m \u001b[0mcorrelation_matrix\u001b[0m \u001b[0;34m=\u001b[0m \u001b[0mpolice_stops_encoded\u001b[0m\u001b[0;34m.\u001b[0m\u001b[0mcorr\u001b[0m\u001b[0;34m(\u001b[0m\u001b[0;34m)\u001b[0m\u001b[0;34m\u001b[0m\u001b[0;34m\u001b[0m\u001b[0m\n",
            "\u001b[0;31mNameError\u001b[0m: name 'police_stops' is not defined"
          ]
        }
      ],
      "source": [
        "# One-hot encode categorical variables\n",
        "police_stops_encoded = pd.get_dummies(police_stops, columns=['subject_race', 'subject_sex', 'reason_for_stop', 'vehicle_registration_state', 'raw_suspect_ethnicity'], drop_first=True)\n",
        "\n",
        "# Calculate the correlation matrix\n",
        "correlation_matrix = police_stops_encoded.corr()\n",
        "\n",
        "# Isolate the correlation coefficients with the target variable 'search_conducted'\n",
        "search_conducted_correlation = correlation_matrix['search_conducted'].sort_values(ascending=False)\n",
        "\n",
        "# Visualize the correlation coefficients using a heatmap\n",
        "plt.figure(figsize=(10, 8))\n",
        "sns.heatmap(search_conducted_correlation.to_frame(), annot=True, cmap='coolwarm')\n",
        "plt.title(\"Feature Correlation with Search Conducted\")\n",
        "plt.tight_layout()\n",
        "plt.show()"
      ]
    },
    {
      "cell_type": "markdown",
      "metadata": {
        "id": "geI3i4MBDswF"
      },
      "source": [
        "### Understanding the heatmap"
      ]
    },
    {
      "cell_type": "markdown",
      "metadata": {
        "id": "6CnNZpFp7Tiy"
      },
      "source": [
        "Now that we've generated correlation heatmap, let's interpret the result.\n",
        "\n",
        "\n",
        "1. Understanding Correlation Heatmap\n",
        "  *   The heatmap displays the correlation coefficients between features and the target variable search_conducted.\n",
        "  *   Correlation coefficients range from -1 to 1, where values close to 1 or -1 indicate a strong relationship, and values close to 0 indicate no relationship.\n",
        "  * A positive correlation means that as one feature increases, the target variable tends to increase. A negative correlation means that as one feature increases, the target variable tends to decrease.\n",
        "\n",
        "2.   Interpreting the Results\n",
        "  *   Features that show higher absolute values of correlation are typically considered more important for prediction.\n",
        "  *   For example, features like search_person, raw_search_consent, and raw_passenger_searched have high positive correlation coefficients, suggesting they're good predictors for search_conducted.\n",
        "\n",
        "Remember to not solely rely on correlation for feature selection, as correlation does not imply causation. You should consider the context and meaning of each feature, and be aware of potential ethical and legal implications, especially in sensitive areas such as criminal justice.\n",
        "\n",
        "\n"
      ]
    },
    {
      "cell_type": "markdown",
      "metadata": {
        "id": "jzCw-KxNBgnE"
      },
      "source": [
        "✅ Which features are most highly correlated with search_conducted? Why might these features have strong correlations?"
      ]
    },
    {
      "cell_type": "code",
      "execution_count": null,
      "metadata": {
        "colab": {
          "base_uri": "https://localhost:8080/"
        },
        "id": "CidIqeut4jEh",
        "outputId": "23de6eed-a756-4113-8c64-135b4f068ac3"
      },
      "outputs": [
        {
          "name": "stdout",
          "output_type": "stream",
          "text": [
            "Features such as search_person, raw_search_consent, and raw_passenger_searched might show strong correlations with search_conducted because they are directly related to the event of a search being conducted. For instance, if an officer decides to search a person, this is inherently tied to whether any search was conducted at all. These actions are part of the protocol for stops that lead to searches, hence the strong correlation.\n"
          ]
        }
      ],
      "source": [
        "# sample answer\n",
        "solution = \"Features such as search_person, raw_search_consent, and raw_passenger_searched might show strong correlations with search_conducted because they are directly related to the event of a search being conducted. For instance, if an officer decides to search a person, this is inherently tied to whether any search was conducted at all. These actions are part of the protocol for stops that lead to searches, hence the strong correlation.\"\n",
        "print(solution)\n",
        "\n"
      ]
    },
    {
      "cell_type": "markdown",
      "metadata": {
        "id": "ZooGdC16B-Qv"
      },
      "source": [
        "✅ Discuss the potential implications of using these features in a predictive model within the criminal justice system. How might this affect fairness and accuracy?"
      ]
    },
    {
      "cell_type": "code",
      "execution_count": null,
      "metadata": {
        "colab": {
          "base_uri": "https://localhost:8080/"
        },
        "id": "pC_5UW8XCReg",
        "outputId": "65cb6de5-19ca-4a5a-e479-9f6f51a8e050"
      },
      "outputs": [
        {
          "name": "stdout",
          "output_type": "stream",
          "text": [
            "Using features that have strong correlations with outcomes like search_conducted in a predictive model within criminal justice can have significant implications. If the model is based on biased data, it may reinforce those biases. For example, if searches are more frequently conducted on certain demographic groups, the model may unfairly target those groups in the future. This can affect both the fairness of the model and the accuracy of its predictions, potentially leading to mistrust in the judicial system and unequal treatment under the law. It is crucial to ensure that predictive models in criminal justice are transparent, accountable, and equitable.\n"
          ]
        }
      ],
      "source": [
        "# sample answer\n",
        "solution = \"Using features that have strong correlations with outcomes like search_conducted in a predictive model within criminal justice can have significant implications. If the model is based on biased data, it may reinforce those biases. For example, if searches are more frequently conducted on certain demographic groups, the model may unfairly target those groups in the future. This can affect both the fairness of the model and the accuracy of its predictions, potentially leading to mistrust in the judicial system and unequal treatment under the law. It is crucial to ensure that predictive models in criminal justice are transparent, accountable, and equitable.\"\n",
        "print(solution)"
      ]
    },
    {
      "cell_type": "markdown",
      "metadata": {
        "id": "UGLYDO9n7UDu"
      },
      "source": [
        "## Mapping for EDA"
      ]
    },
    {
      "cell_type": "code",
      "execution_count": null,
      "metadata": {
        "id": "G5icSTpe7S5_"
      },
      "outputs": [],
      "source": []
    }
  ],
  "metadata": {
    "colab": {
      "provenance": []
    },
    "kernelspec": {
      "display_name": "Python 3",
      "name": "python3"
    },
    "language_info": {
      "codemirror_mode": {
        "name": "ipython",
        "version": 3
      },
      "file_extension": ".py",
      "mimetype": "text/x-python",
      "name": "python",
      "nbconvert_exporter": "python",
      "pygments_lexer": "ipython3",
      "version": "3.10.11"
    }
  },
  "nbformat": 4,
  "nbformat_minor": 0
}
