{
  "cells": [
    {
      "cell_type": "markdown",
      "metadata": {
        "id": "heb6iFGYoYlH"
      },
      "source": [
        "# Lab 11: Data Cleaning & EDA for Classification"
      ]
    },
    {
      "cell_type": "markdown",
      "metadata": {
        "id": "a2hAWY_pohGS"
      },
      "source": [
        "In this section of Lab 11, we will focus on preparing the Nashville police stops dataset (from lab3!) for classification tasks. Our primary goals are to clean the dataset by dealing with null values and to address potential issues of data leakage.\n",
        "\n"
      ]
    },
    {
      "cell_type": "code",
      "execution_count": null,
      "metadata": {
        "id": "LsOuUSdK3d8E"
      },
      "outputs": [],
      "source": [
        "# Just run this cell\n",
        "from collections import Counter\n",
        "import numpy as np\n",
        "import pandas as pd\n",
        "from scipy import stats\n",
        "import statsmodels.api as sm\n",
        "from sklearn import datasets, linear_model\n",
        "from sklearn.linear_model import LinearRegression\n",
        "%matplotlib inline\n",
        "import matplotlib.pyplot as plt\n",
        "import seaborn as sns\n",
        "\n",
        "from sklearn.metrics import mean_squared_error"
      ]
    },
    {
      "cell_type": "markdown",
      "metadata": {
        "id": "A_ie67wypGvG"
      },
      "source": [
        "We're going to be using Nashville Police Stop dataset, like we did in lab 3."
      ]
    },
    {
      "cell_type": "code",
      "execution_count": null,
      "metadata": {
        "colab": {
          "base_uri": "https://localhost:8080/",
          "height": 725
        },
        "id": "TgvrIm_-oXsT",
        "outputId": "94a3674f-5be7-4007-b859-0b2981275884"
      },
      "outputs": [],
      "source": [
        "# Loading the dataset.\n",
        "police_stops = pd.read_csv(\"https://github.com/ds-modules/data/raw/main/nashville.csv\").sample(n=1000, random_state = 42).reset_index()\n",
        "police_stops.head(5)"
      ]
    },
    {
      "cell_type": "markdown",
      "metadata": {
        "id": "xsfPUeb9oIms"
      },
      "source": [
        "## Data Preparation"
      ]
    },
    {
      "cell_type": "markdown",
      "metadata": {
        "id": "aNUXVgJ0oL6z"
      },
      "source": [
        "In revisiting the essentials of data operations from Lab 3 and Lab 6, we're reminded of the crucial role of data cleaning in enhancing our analytical outcomes. Here are some concise, yet effective strategies:"
      ]
    },
    {
      "cell_type": "markdown",
      "metadata": {
        "id": "c-1SIO4yqN5T"
      },
      "source": [
        "\n",
        "\n",
        "1.   Addressing Missing Data\n",
        "\n",
        "    * Crucial to identify and manage missing data to avoid skewed analyses.\n",
        "    * Strategies include either removing or statistically imputing missing values, depending on their impact and prevalence.\n",
        "\n",
        "\n",
        "2.   Recode Categorical Variables\n",
        " *   Transform categorical variables into binary (0 or 1) format, known as one-hot encoding, to simplify analysis and model integration.\n",
        " * More on this later!\n",
        "\n",
        "3. Standardize Scale\n",
        "  *   Align all variables to a consistent scale for better comparability and interpretation of results.\n",
        "\n",
        "\n",
        "\n",
        "\n",
        "\n",
        "\n",
        "\n",
        "\n"
      ]
    },
    {
      "cell_type": "markdown",
      "metadata": {
        "id": "LW6_jjlkpCVJ"
      },
      "source": [
        "✅ **Question 1:** Clean the dataset so that it doesn't have null values.\n",
        "\n",
        "\n",
        "Hint: There's pandas function that does this for you."
      ]
    },
    {
      "cell_type": "code",
      "execution_count": null,
      "metadata": {
        "colab": {
          "base_uri": "https://localhost:8080/",
          "height": 471
        },
        "id": "vDs7K8Kvrg1S",
        "outputId": "05191545-16a7-4456-f5f9-691310ddbd42"
      },
      "outputs": [],
      "source": [
        "# Replace null values with zero\n",
        "...\n",
        "\n",
        "police_stops.head(3)"
      ]
    },
    {
      "cell_type": "markdown",
      "metadata": {
        "id": "ME6M-Zof3BRw"
      },
      "source": [
        "## Data Preparation:"
      ]
    },
    {
      "cell_type": "markdown",
      "metadata": {
        "id": "M1lMuN7tVoaJ"
      },
      "source": [
        "#### One Hot Encoding:"
      ]
    },
    {
      "cell_type": "markdown",
      "metadata": {
        "id": "wnjYGKWGUHDy"
      },
      "source": [
        "Notice that a few of the variables that are numeric/integer actually encode categorical data. In order to analyze the dataset, we can convert these to their true categorical values."
      ]
    },
    {
      "cell_type": "code",
      "execution_count": null,
      "metadata": {
        "colab": {
          "base_uri": "https://localhost:8080/"
        },
        "id": "gZs7nOf4V6U9",
        "outputId": "095fa285-5e0e-4b8a-82c2-cff32fe9f443"
      },
      "outputs": [],
      "source": [
        "police_stops.info()"
      ]
    },
    {
      "cell_type": "code",
      "execution_count": null,
      "metadata": {
        "colab": {
          "base_uri": "https://localhost:8080/",
          "height": 242
        },
        "id": "B6V0gNRtVVOg",
        "outputId": "ba9bf8cf-b957-45d2-f4ce-a4af47006a2e"
      },
      "outputs": [],
      "source": [
        "# Just run this cell.\n",
        "police_encoded = police_stops.replace({'' : {0 : 'no', 1 : 'yes'}})\n",
        "police_encoded.head()"
      ]
    },
    {
      "cell_type": "markdown",
      "metadata": {
        "id": "CKek61oIsvR8"
      },
      "source": [
        "### Dealing with Data Leakage"
      ]
    },
    {
      "cell_type": "markdown",
      "metadata": {
        "id": "ZLt5xv1Esz6q"
      },
      "source": [
        "In the context of criminal justice datasets like the Nashville police stops, it's crucial to identify and eliminate data leakage to ensure our models are predictive, not just reflective of post-event outcomes."
      ]
    },
    {
      "cell_type": "markdown",
      "metadata": {
        "id": "LW8hk3Q3tGfU"
      },
      "source": [
        "\n",
        "\n",
        "*   What is Data Leakage?\n",
        "  *   Data leakage occurs when information from outside the training dataset, particularly features that would not be available at the time of prediction, inadvertently influences the model.\n",
        "  *   This can lead to overly optimistic performance estimates and poor generalization to new data.\n",
        "\n",
        "\n",
        "*  Leakage in Criminal Justice Datasets\n",
        "  *    In datasets related to criminal justice, leakage can manifest through variables that contain information about events or outcomes that occur after the police stop (e.g., the result of a legal case).\n",
        "  *   Using such data in predictive models can result in biased and unreliable predictions.\n",
        "\n",
        "\n",
        "\n",
        "\n",
        "\n",
        "\n"
      ]
    },
    {
      "cell_type": "markdown",
      "metadata": {
        "id": "6aqGON8atjjI"
      },
      "source": [
        "It seems like data leakage is a crucial issue that we need to deal with! Here're some strategies to mitigate leakage.\n",
        "\n",
        "\n",
        "\n",
        "1.   Identify Potential Leaky Variables\n",
        "  * Carefully review each variable to determine if it contains post-event information or outcomes that would not be known at the time of the police stop.\n",
        "2.   Remove Leaky Variables\n",
        "  * Once identified, these variables should be removed from the dataset to prevent their influence on the model.\n",
        "\n"
      ]
    },
    {
      "cell_type": "code",
      "execution_count": null,
      "metadata": {
        "colab": {
          "base_uri": "https://localhost:8080/"
        },
        "id": "WizK7O8HszAb",
        "outputId": "14829da1-4793-49cd-8aaa-e7eaf85c0703"
      },
      "outputs": [],
      "source": [
        "# Inspect the features of the dataset (i.e. all columns in dataset)\n",
        "police_stops.columns.values"
      ]
    },
    {
      "cell_type": "markdown",
      "metadata": {
        "id": "3VxY44uSwXHZ"
      },
      "source": [
        "Notice this about the columns above.\n",
        "\n",
        "\n",
        "*   Outcome Variables\n",
        "    * These reflect events or decisions made during or after a police stop and would not be known beforehand.\n",
        "*   Search-Related Variables\n",
        "    * These are also tied to the outcome of a search, which is a post-event activity.\n",
        "\n",
        "Let's classify the columns into outcome variables and search related variables.\n",
        "\n"
      ]
    },
    {
      "cell_type": "code",
      "execution_count": null,
      "metadata": {
        "id": "D7qHHmi9vvZv"
      },
      "outputs": [],
      "source": [
        "outcome_vars = [...]\n",
        "search_related_vars = [...]"
      ]
    },
    {
      "cell_type": "markdown",
      "metadata": {
        "id": "O303KnabwnTt"
      },
      "source": [
        "## Feature Selection"
      ]
    },
    {
      "cell_type": "markdown",
      "metadata": {
        "id": "BbDqNEPK47wD"
      },
      "source": [
        "Now we're finally ready to do some analysis!\n",
        "\n",
        "In this section, we will focus on identifying which features in the Nashville police stops dataset are most relevant for predicting the outcome `search_conducted`.\n",
        "Feature selection is crucial in machine learning as it helps in reducing the dimensionality of the data, improving model performance, and enhancing interpretability."
      ]
    },
    {
      "cell_type": "markdown",
      "metadata": {
        "id": "GiZ4DrOu5L7I"
      },
      "source": [
        "Our goal is to use the correlation coefficient to measure the relationship between each feature and the `search_conducted` variable. This method helps in pinpointing features that have a stronger linear relationship with the target variable.\n",
        "\n",
        "To further our analysis, we're going to generate a correlation heatmap, which is a visual tool used in feature selection to identify how each feature is correlated with the target variable, which is search_conducted in our case.\n",
        "\n",
        "Don't worry if you don't really understand what we're doing here. Once you create the heatmap, we're gonna walk you through the analysis."
      ]
    },
    {
      "cell_type": "markdown",
      "metadata": {
        "id": "AvSZOala7Wn0"
      },
      "source": [
        "Hint: Pandas has a built-in function that computes pairwise correlation of columns.\n",
        "To learn more, visit here: [correlation](https://pandas.pydata.org/docs/reference/api/pandas.DataFrame.corr.html)\n",
        "\n",
        "To learn about seaborn's heatmap, visit here: [heatmap](https://seaborn.pydata.org/generated/seaborn.heatmap.html)\n",
        "\n",
        "You might find this helpful for one-hot encoding categorical variables: [get_dummies](https://pandas.pydata.org/docs/reference/api/pandas.get_dummies.html)"
      ]
    },
    {
      "cell_type": "code",
      "execution_count": null,
      "metadata": {
        "colab": {
          "base_uri": "https://localhost:8080/",
          "height": 268
        },
        "id": "RTg_3TkH47Es",
        "outputId": "5a5aea0c-ae5b-4973-9e15-032fe75b864f"
      },
      "outputs": [],
      "source": [
        "# One-hot encode categorical variables\n",
        "police_stops_without_categorical = police_stops.drop(['date', 'location', 'raw_row_number', 'officer_id_hash', 'violation', 'outcome', 'search_basis', 'notes', 'type'], axis=1)\n",
        "police_stops_encoded = ...\n",
        "\n",
        "# Calculate the correlation matrix\n",
        "correlation_matrix = ...\n",
        "\n",
        "# Isolate the correlation coefficients with the target variable 'search_conducted' and sort the values\n",
        "search_conducted_correlation = ...\n",
        "\n",
        "# Visualize the correlation coefficients using a heatmap\n",
        "...\n",
        "...\n",
        "...\n",
        "...\n",
        "..."
      ]
    },
    {
      "cell_type": "markdown",
      "metadata": {
        "id": "geI3i4MBDswF"
      },
      "source": [
        "### Understanding the heatmap"
      ]
    },
    {
      "cell_type": "markdown",
      "metadata": {
        "id": "6CnNZpFp7Tiy"
      },
      "source": [
        "Now that we've generated correlation heatmap, let's interpret the result.\n",
        "\n",
        "\n",
        "1. Understanding Correlation Heatmap\n",
        "  *   The heatmap displays the correlation coefficients between features and the target variable search_conducted.\n",
        "  *   Correlation coefficients range from -1 to 1, where values close to 1 or -1 indicate a strong relationship, and values close to 0 indicate no relationship.\n",
        "  * A positive correlation means that as one feature increases, the target variable tends to increase. A negative correlation means that as one feature increases, the target variable tends to decrease.\n",
        "\n",
        "2.   Interpreting the Results\n",
        "  *   Features that show higher absolute values of correlation are typically considered more important for prediction.\n",
        "  *   For example, features like search_person, raw_search_consent, and raw_passenger_searched have high positive correlation coefficients, suggesting they're good predictors for search_conducted.\n",
        "\n",
        "Remember to not solely rely on correlation for feature selection, as correlation does not imply causation. You should consider the context and meaning of each feature, and be aware of potential ethical and legal implications, especially in sensitive areas such as criminal justice.\n",
        "\n",
        "\n"
      ]
    },
    {
      "cell_type": "markdown",
      "metadata": {
        "id": "jzCw-KxNBgnE"
      },
      "source": [
        "✅ Which features are most highly correlated with search_conducted? Why might these features have strong correlations?"
      ]
    },
    {
      "cell_type": "code",
      "execution_count": null,
      "metadata": {
        "colab": {
          "base_uri": "https://localhost:8080/"
        },
        "id": "CidIqeut4jEh",
        "outputId": "23de6eed-a756-4113-8c64-135b4f068ac3"
      },
      "outputs": [],
      "source": [
        "solution = \"\"\n",
        "print(solution)"
      ]
    },
    {
      "cell_type": "markdown",
      "metadata": {
        "id": "ZooGdC16B-Qv"
      },
      "source": [
        "✅ Discuss the potential implications of using these features in a predictive model within the criminal justice system. How might this affect fairness and accuracy?"
      ]
    },
    {
      "cell_type": "code",
      "execution_count": null,
      "metadata": {
        "colab": {
          "base_uri": "https://localhost:8080/"
        },
        "id": "pC_5UW8XCReg",
        "outputId": "65cb6de5-19ca-4a5a-e479-9f6f51a8e050"
      },
      "outputs": [],
      "source": [
        "solution = \"\"\n",
        "print(solution)"
      ]
    }
  ],
  "metadata": {
    "colab": {
      "provenance": []
    },
    "kernelspec": {
      "display_name": "Python 3",
      "name": "python3"
    },
    "language_info": {
      "codemirror_mode": {
        "name": "ipython",
        "version": 3
      },
      "file_extension": ".py",
      "mimetype": "text/x-python",
      "name": "python",
      "nbconvert_exporter": "python",
      "pygments_lexer": "ipython3",
      "version": "3.10.11"
    }
  },
  "nbformat": 4,
  "nbformat_minor": 0
}
