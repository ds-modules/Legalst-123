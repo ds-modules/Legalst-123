{
 "cells": [
  {
   "cell_type": "markdown",
   "metadata": {},
   "source": [
    "# A Visual Understanding of Linear Algebra"
   ]
  },
  {
   "cell_type": "markdown",
   "metadata": {},
   "source": [
    "What is a vector? So far for us, a vector is a list of numbers, typically written vertically, e.g., $$v = \\begin{bmatrix}1\\\\2\\\\3\\\\4\\end{bmatrix}$$, or in numpy `v = np.array([[1], [2], [3], [4]])`\n",
    "\n",
    "We can gain an intuition for vectors and matrices by restricting ourselfs to vectors in 2 dimensions, i.e., vectors with 2 numbers, like $v = \\begin{bmatrix}v_1\\\\v_2\\end{bmatrix}$. This allows us to visualize vectors as points on a Cartesian plane. Typically, vectors are drawn as arrows from the origin to their coordintes $(v_1, v_2)$.\n",
    "\n",
    "\n"
   ]
  },
  {
   "cell_type": "markdown",
   "metadata": {},
   "source": [
    "By expressing points in space in this way, we can use addition to combine vectors:\n",
    "\n",
    "$$v = \\begin{bmatrix}1\\\\2\\end{bmatrix},w=\\begin{bmatrix}5\\\\0\\end{bmatrix},v+w=\\begin{bmatrix}6\\\\2\\end{bmatrix}$$\n",
    "\n",
    "![Addition of vectors](https://upload.wikimedia.org/wikipedia/commons/thumb/e/e6/Vector_addition3.svg/360px-Vector_addition3.svg.png)\n",
    "\n",
    "and we can multiply vectors by numbers (aka \"scalars\") to scale them:\n",
    "\n",
    "$$v = \\begin{bmatrix}1\\\\2\\end{bmatrix},3v=\\begin{bmatrix}3\\\\6\\end{bmatrix}$$\n"
   ]
  },
  {
   "cell_type": "markdown",
   "metadata": {},
   "source": [
    "#### Transforming Space with Matrices\n",
    "\n",
    "Matrices are numeric representations of *linear transformations* of vectors. You can think of a matrix as a list of vectors stacked *horizontally* next to each other.\n",
    "\n",
    "$$S = \\begin{bmatrix}2&0\\\\0&4\\end{bmatrix}$$\n",
    "\n",
    "Or in numpy, `S = np.array([[2, 0], [0, 4]])`, or equivalently `S = np.hstack(([[2], [0]], [[0], [4]]))`.\n",
    "\n",
    "To use this matrix to transform a vector $v$, we left-multiply the vector by $S$, i.e. $Sv$, or `S.dot(v)` (or equivalently `S @ v`). We evaluate this multipication by using the elements of $v$ to scale the columns of $S$ respectively, and then adding the columns together:\n",
    "\n",
    "$$Sv = \\begin{bmatrix}2&0\\\\0&4\\end{bmatrix}\\begin{bmatrix}1\\\\2\\end{bmatrix} = 1\\begin{bmatrix}2\\\\0\\end{bmatrix} + 2\\begin{bmatrix}0\\\\4\\end{bmatrix} = \\begin{bmatrix}2\\\\8\\end{bmatrix}$$\n",
    "\n",
    "So, what does $S$ do, as a linear transformation? $S$ *scales* by a factor of 2 in the first coordinate, and by a factor of 4 in the second coordinate. Write this up in numpy:"
   ]
  },
  {
   "cell_type": "code",
   "execution_count": null,
   "metadata": {},
   "outputs": [],
   "source": [
    "import numpy as np\n"
   ]
  },
  {
   "cell_type": "markdown",
   "metadata": {},
   "source": [
    "To think about more complex transformations, it's useful to think about matrices as transforming the whole plane. $S$ fattens the plane by a factor of two, and scales it vertically by a factor of 4.\n",
    "\n",
    "Consider pinning the plane down at two points, then pulling those points and stretching the whole plane with them, without moving the origin. (Almost) all linear transformations can be thought of in this tactile way. $S$ is like putting a pin on $\\begin{bmatrix}1\\\\0\\end{bmatrix}$ and on $\\begin{bmatrix}0\\\\1\\end{bmatrix}$ and stretching the plane by pulling $\\begin{bmatrix}1\\\\0\\end{bmatrix}$ to $\\begin{bmatrix}2\\\\0\\end{bmatrix}$ and stretching $\\begin{bmatrix}0\\\\1\\end{bmatrix}$ to $\\begin{bmatrix}0\\\\4\\end{bmatrix}$."
   ]
  },
  {
   "cell_type": "markdown",
   "metadata": {},
   "source": [
    "It's helpful to have a visualization here (the animation is from [3Blue1Brown's YouTube series \"Essense of Linear Algebra\"](https://www.youtube.com/watch?v=fNk_zzaMoSs&list=PLZHQObOWTQDPD3MizzM2xVFitgF8hE_ab), an excellent learning resource). The following is another transformation, not just stretching but also rotating the plane. The vector that starts at $\\begin{bmatrix}1\\\\0\\end{bmatrix}$ is green in the GIF, and the one that starts at $\\begin{bmatrix}0\\\\1\\end{bmatrix}$ is red:\n",
    "\n",
    "![Stretching and rotating the plane](https://thumbs.gfycat.com/HealthyPerfectHaddock-size_restricted.gif)"
   ]
  },
  {
   "cell_type": "markdown",
   "metadata": {},
   "source": [
    "In general, a matrix $M = \\begin{bmatrix}a&b\\\\c&d\\end{bmatrix}$ transforms space by moving $\\begin{bmatrix}1\\\\0\\end{bmatrix}$ to $\\begin{bmatrix}a\\\\c\\end{bmatrix}$ and $\\begin{bmatrix}0\\\\1\\end{bmatrix}$ to $\\begin{bmatrix}b\\\\d\\end{bmatrix}$, while leaving the origin fixed. What matrix represents the transformation in the animation above?\n",
    "\n",
    "Write a numpy matrix that rotates vectors 90 degrees, and try it out it by a few example vectors."
   ]
  },
  {
   "cell_type": "code",
   "execution_count": null,
   "metadata": {},
   "outputs": [],
   "source": [
    "ex1 = np.array([[1], [2]])\n",
    "ex2 = np.array([[-4], [-1]])\n",
    "\n",
    "# Write a matrix to rotate these vectors 90 degrees,\n",
    "# and print the output you get. Confirm for yourself that\n",
    "# the new vectors you get really are a rotation of the old one\n",
    "\n",
    "# Hint: think, if you rotate the plane by dragging (1, 0) and (0, 1)\n",
    "# to two new points, where would you drag them? In other words, where does\n",
    "# (1, 0) go after you rotate the plane 90 degrees, and where does (0, 1) go?\n",
    "\n",
    "..."
   ]
  },
  {
   "cell_type": "markdown",
   "metadata": {},
   "source": [
    "### Combining transformations by multiplying matrices\n",
    "\n",
    "One way to think of the matrix product is that multiplying `A` and `B` transforms each of the columns of `B` using `A`. So if the columns of $B$ are the vectors $v_1$, $v_2$, $v_3$, i.e. $B = \\left[\\begin{array}{c|c|c}v_1 & v_2 & v_3\\end{array}\\right]$, then $AB = \\left[\\begin{array}{c|c|c}Av_1 & Av_2 & Av_3\\end{array}\\right]$. Or, in python syntax, if `B == np.hstack(v_1, v_2, v_3)`, then `A @ B == np.hstack(A @ v_1, A @ v_2, A @ v_3)`.\n",
    "\n",
    "Think for a moment--why might we combine matrices in this way?\n",
    "\n",
    "The matrix product is a useful way to combine matrices, because `(A @ B) @ x == A @ (B @ x)`. The matrix product `A @ B` stores up both a transformation by `B` and a transformation by `A` in one matrix. When we use matrices, we mostly won't be thinking of them as transformations, but they can be used as such. So if `A` represents a rotation by 30 degrees, and `B` a horizontal stretching, then `A @ B` is a matrix which stretches horizontally and then rotates 30 degrees."
   ]
  },
  {
   "cell_type": "code",
   "execution_count": null,
   "metadata": {},
   "outputs": [],
   "source": []
  },
  {
   "cell_type": "markdown",
   "metadata": {},
   "source": [
    "### Back to LS123\n",
    "\n",
    "In this class, the vectors and matrices we have are far greater than those that can be depicted in 2 dimensional space. A complex machine learning problem may have vectors with thousands of dimensions. It's harder to visualize linear transformations in higher dimensions, but the intuition of vectors as points in (usually high-dimensional) space and matrices as linear transformations of that space remains true, and may help you conceptualize linear algebra formulas."
   ]
  }
 ],
 "metadata": {
  "kernelspec": {
   "display_name": "Python 3",
   "language": "python",
   "name": "python3"
  },
  "language_info": {
   "codemirror_mode": {
    "name": "ipython",
    "version": 3
   },
   "file_extension": ".py",
   "mimetype": "text/x-python",
   "name": "python",
   "nbconvert_exporter": "python",
   "pygments_lexer": "ipython3",
   "version": "3.6.9"
  }
 },
 "nbformat": 4,
 "nbformat_minor": 4
}
