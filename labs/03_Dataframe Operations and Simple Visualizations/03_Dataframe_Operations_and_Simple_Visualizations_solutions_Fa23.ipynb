{
 "cells": [
  {
   "cell_type": "markdown",
   "id": "9e6b96b0",
   "metadata": {
    "id": "9e6b96b0"
   },
   "source": [
    "# [LEGALST-123] Lab 03: Numpy to Pandas & DataFrame Operations"
   ]
  },
  {
   "cell_type": "code",
   "execution_count": 1,
   "id": "6dd2f8d8",
   "metadata": {
    "id": "6dd2f8d8"
   },
   "outputs": [],
   "source": [
    "import datascience\n",
    "from datascience import *\n",
    "import pandas as pd\n",
    "import numpy as np\n",
    "%matplotlib inline\n",
    "import matplotlib.pyplot as plt\n",
    "import random\n",
    "from datetime import datetime"
   ]
  },
  {
   "cell_type": "markdown",
   "id": "08c03076",
   "metadata": {},
   "source": [
    "# Introduction\n",
    "In this lab, we'll be emphasizing a shift from the `datascience` library utilized in Data 8 to the `pandas` library, a more common and advanced data analysis and science library. We'll be using the Nashville police stops sample dataset for this lab. The objectives of this lab are as follows:\n",
    "\n",
    "- **Understanding the Equivalent Methods of `datascience` in `pandas`**: \n",
    "    - We will be showcasing some of the major functionalities you learned about in Data 8 from the `datascience` library and comparing them to the similar methods in `pandas`.\n",
    "\n",
    "- **Dealing with Null Values**:\n",
    "    - Missing values in data is very common when doing data analysis, so we'll be using our new skills in the `pandas` library to deal with these missing values in our data.\n",
    "\n",
    "- **Visualizations**: \n",
    "    - We'll be introducing some simple visualizations that you can create with the `matplotlib.pyplot` library. In the next lab, we'll build on some of these basic techniques to learn more advanced ones."
   ]
  },
  {
   "cell_type": "markdown",
   "id": "d31315f6",
   "metadata": {},
   "source": [
    "<br>\n",
    "\n",
    "<hr style=\"border: 1px solid #fdb515;\" />\n",
    "\n",
    "<br>"
   ]
  },
  {
   "cell_type": "markdown",
   "id": "e087890b",
   "metadata": {
    "id": "e087890b"
   },
   "source": [
    "## From Numpy and `datascience` to `pandas`"
   ]
  },
  {
   "cell_type": "markdown",
   "id": "c8a1a0cc",
   "metadata": {
    "id": "c8a1a0cc"
   },
   "source": [
    "### `pandas` Data Structures Overview\n",
    "#### DataFrame, Series, Index"
   ]
  },
  {
   "cell_type": "markdown",
   "id": "ecd76e80",
   "metadata": {
    "id": "ecd76e80"
   },
   "source": [
    "In Data 8, you learned to represent data with columns and rows in a Table, which is part of the `datascience` library. Recall functions and methods in the Data 8 Python reference here: https://www.data8.org/fa23/reference/.\n",
    "\n",
    "Pandas is another Python library that is commonly used in industry. We will be using Pandas in Legal Studies 123. The Pandas version of a Table is a DataFrame. See all of the cool things you can do with a Pandas DataFrame here: https://pandas.pydata.org/docs/reference/frame.html.\n",
    "\n",
    "**How is a DataFrame different from a Table?**\n",
    "- A column in a DataFrame is a Series, while a column in a Table is an array.\n",
    "- A DataFrame has an index (in bold on the left of the table).\n",
    "\n",
    "**What is a Series?**\n",
    "- A one-dimensional array-like object that contains:\n",
    "    - a sequence of values of the same type\n",
    "    - a sequence of labels (called the index)\n",
    "- It is different from an array because it has an explicitly defined index associated with the values, whereas an array has an implicitly defined integer index associated with the values.\n",
    "\n",
    "**What is an index?**\n",
    "- Indeces are row labels.\n",
    "- They can be numeric or non-numeric.\n",
    "- Indeces can act as a row number, where all indeces are unique.\n",
    "- They can also be named and not unique (for example, if your index represents a year or a name that has multiple rows in the DataFrame)."
   ]
  },
  {
   "cell_type": "markdown",
   "id": "0c8475b2",
   "metadata": {
    "id": "0c8475b2"
   },
   "source": [
    "### Data Exploration and Manipulation\n",
    "**I. Reading in data from a csv file**\n",
    "\n",
    "**II. Finding number of rows and columns**\n",
    "\n",
    "**III. Indexing**\n",
    "\n",
    "**IV. Filtering**\n",
    "\n",
    "**V. Grouping**"
   ]
  },
  {
   "cell_type": "markdown",
   "id": "31f897db",
   "metadata": {
    "id": "31f897db"
   },
   "source": [
    "#### I. Reading in data from a csv file\n",
    "- `datascience` uses `Table.read_table`\n",
    "- Pandas uses `pd.read_csv`"
   ]
  },
  {
   "cell_type": "markdown",
   "id": "9ae9cf86",
   "metadata": {
    "id": "9ae9cf86"
   },
   "source": [
    "**Disclaimer**: The Nashville police stop dataset is very large. In the following exercises, we will be performing operations in Data 8's Numpy/ `datascience` and Pandas to illustrate the translation between the two. If we try to load in the full dataset in this notebook as a `datascience` Table and a Pandas dataframe, our kernel will crash. So, for this notebook, we are loading in just a **random sample** of the dataset in both Numpy/ `datascience` and Pandas."
   ]
  },
  {
   "cell_type": "code",
   "execution_count": 2,
   "id": "26104efd",
   "metadata": {
    "colab": {
     "base_uri": "https://localhost:8080/",
     "height": 517
    },
    "id": "26104efd",
    "outputId": "c45fe714-dff6-4c17-8d4b-6043ac0554ba"
   },
   "outputs": [
    {
     "data": {
      "text/html": [
       "<table border=\"1\" class=\"dataframe\">\n",
       "    <thead>\n",
       "        <tr>\n",
       "            <th>index</th> <th>raw_row_number</th> <th>date</th> <th>time</th> <th>location</th> <th>lat</th> <th>lng</th> <th>precinct</th> <th>reporting_area</th> <th>zone</th> <th>subject_age</th> <th>subject_race</th> <th>subject_sex</th> <th>officer_id_hash</th> <th>type</th> <th>violation</th> <th>arrest_made</th> <th>citation_issued</th> <th>warning_issued</th> <th>outcome</th> <th>contraband_found</th> <th>contraband_drugs</th> <th>contraband_weapons</th> <th>frisk_performed</th> <th>search_conducted</th> <th>search_person</th> <th>search_vehicle</th> <th>search_basis</th> <th>reason_for_stop</th> <th>vehicle_registration_state</th> <th>notes</th> <th>raw_verbal_warning_issued</th> <th>raw_written_warning_issued</th> <th>raw_traffic_citation_issued</th> <th>raw_misd_state_citation_issued</th> <th>raw_suspect_ethnicity</th> <th>raw_driver_searched</th> <th>raw_passenger_searched</th> <th>raw_search_consent</th> <th>raw_search_arrest</th> <th>raw_search_warrant</th> <th>raw_search_inventory</th> <th>raw_search_plain_view</th>\n",
       "        </tr>\n",
       "    </thead>\n",
       "    <tbody>\n",
       "        <tr>\n",
       "            <td>1840907</td> <td>93347         </td> <td>2010-04-18</td> <td>13140</td> <td>BURGESS AVE & WHITE BRIDGE PIKE, NASHVILLE, TN, 37209</td> <td>36.145 </td> <td>-86.858 </td> <td>1       </td> <td>5103          </td> <td>113 </td> <td>23         </td> <td>white       </td> <td>male       </td> <td>88ef34d431     </td> <td>vehicular</td> <td>moving traffic violation   </td> <td>True       </td> <td>False          </td> <td>False         </td> <td>arrest </td> <td>nan             </td> <td>nan             </td> <td>nan               </td> <td>False          </td> <td>False           </td> <td>False        </td> <td>False         </td> <td>nan         </td> <td>moving traffic violation   </td> <td>TN                        </td> <td>nan           </td> <td>False                    </td> <td>0                         </td> <td>False                      </td> <td>nan                           </td> <td>N                    </td> <td>False              </td> <td>False                 </td> <td>False             </td> <td>False            </td> <td>False             </td> <td>False               </td> <td>False                </td>\n",
       "        </tr>\n",
       "        <tr>\n",
       "            <td>492044 </td> <td>2001428       </td> <td>2015-01-19</td> <td>19920</td> <td>DUE WEST AVE W & S GRAYCROFT AVE, MADISON, TN, 37115 </td> <td>36.2492</td> <td>-86.7345</td> <td>7       </td> <td>1797          </td> <td>723 </td> <td>45         </td> <td>black       </td> <td>female     </td> <td>2d9b91c2d2     </td> <td>vehicular</td> <td>vehicle equipment violation</td> <td>False      </td> <td>False          </td> <td>True          </td> <td>warning</td> <td>nan             </td> <td>nan             </td> <td>nan               </td> <td>False          </td> <td>False           </td> <td>False        </td> <td>False         </td> <td>nan         </td> <td>vehicle equipment violation</td> <td>TN                        </td> <td>tail light out</td> <td>True                     </td> <td>0                         </td> <td>False                      </td> <td>0                             </td> <td>N                    </td> <td>False              </td> <td>False                 </td> <td>False             </td> <td>False            </td> <td>False             </td> <td>False               </td> <td>False                </td>\n",
       "        </tr>\n",
       "        <tr>\n",
       "            <td>431170 </td> <td>1996331       </td> <td>2015-01-15</td> <td>1020 </td> <td>S GALLATIN PIKE & MADISON BLVD, MADISON, TN, 37115   </td> <td>36.255 </td> <td>-86.7152</td> <td>7       </td> <td>1623          </td> <td>711 </td> <td>21         </td> <td>black       </td> <td>female     </td> <td>576170def4     </td> <td>vehicular</td> <td>moving traffic violation   </td> <td>False      </td> <td>False          </td> <td>True          </td> <td>warning</td> <td>nan             </td> <td>nan             </td> <td>nan               </td> <td>False          </td> <td>False           </td> <td>False        </td> <td>False         </td> <td>nan         </td> <td>moving traffic violation   </td> <td>TN                        </td> <td>nan           </td> <td>True                     </td> <td>0                         </td> <td>False                      </td> <td>0                             </td> <td>N                    </td> <td>False              </td> <td>False                 </td> <td>False             </td> <td>False            </td> <td>False             </td> <td>False               </td> <td>False                </td>\n",
       "        </tr>\n",
       "        <tr>\n",
       "            <td>2066423</td> <td>1319451       </td> <td>2013-05-17</td> <td>62760</td> <td>CHARLOTTE PIKE & W HILLWOOD DR, NASHVILLE, TN, 37209 </td> <td>36.1391</td> <td>-86.8805</td> <td>1       </td> <td>5009          </td> <td>123 </td> <td>35         </td> <td>white       </td> <td>male       </td> <td>b91c7a6f67     </td> <td>vehicular</td> <td>vehicle equipment violation</td> <td>False      </td> <td>False          </td> <td>True          </td> <td>warning</td> <td>nan             </td> <td>nan             </td> <td>nan               </td> <td>False          </td> <td>False           </td> <td>False        </td> <td>False         </td> <td>nan         </td> <td>vehicle equipment violation</td> <td>TN                        </td> <td>nan           </td> <td>True                     </td> <td>0                         </td> <td>False                      </td> <td>0                             </td> <td>N                    </td> <td>False              </td> <td>False                 </td> <td>False             </td> <td>False            </td> <td>False             </td> <td>False               </td> <td>False                </td>\n",
       "        </tr>\n",
       "        <tr>\n",
       "            <td>2899480</td> <td>201349        </td> <td>2010-09-01</td> <td>28140</td> <td>BELL RD & DODSON CHAPEL RD, HERMITAGE, TN, 37076     </td> <td>36.1633</td> <td>-86.6131</td> <td>5       </td> <td>9501          </td> <td>521 </td> <td>53         </td> <td>white       </td> <td>female     </td> <td>fc43f6017d     </td> <td>vehicular</td> <td>moving traffic violation   </td> <td>False      </td> <td>False          </td> <td>True          </td> <td>warning</td> <td>nan             </td> <td>nan             </td> <td>nan               </td> <td>False          </td> <td>False           </td> <td>False        </td> <td>False         </td> <td>nan         </td> <td>moving traffic violation   </td> <td>TN                        </td> <td>nan           </td> <td>True                     </td> <td>0                         </td> <td>False                      </td> <td>nan                           </td> <td>N                    </td> <td>False              </td> <td>False                 </td> <td>False             </td> <td>False            </td> <td>False             </td> <td>False               </td> <td>False                </td>\n",
       "        </tr>\n",
       "    </tbody>\n",
       "</table>\n",
       "<p>... (995 rows omitted)</p>"
      ],
      "text/plain": [
       "<IPython.core.display.HTML object>"
      ]
     },
     "metadata": {},
     "output_type": "display_data"
    }
   ],
   "source": [
    "datascience_stops = Table.read_table(\"https://github.com/ds-modules/data/raw/main/nashville_sample.csv\", index_col=0)\n",
    "datascience_stops.show(5)"
   ]
  },
  {
   "cell_type": "code",
   "execution_count": 3,
   "id": "f95c51de",
   "metadata": {
    "colab": {
     "base_uri": "https://localhost:8080/"
    },
    "id": "f95c51de",
    "outputId": "9c53733c-365f-4757-8967-c24ba405b489"
   },
   "outputs": [
    {
     "data": {
      "text/html": [
       "<div>\n",
       "<style scoped>\n",
       "    .dataframe tbody tr th:only-of-type {\n",
       "        vertical-align: middle;\n",
       "    }\n",
       "\n",
       "    .dataframe tbody tr th {\n",
       "        vertical-align: top;\n",
       "    }\n",
       "\n",
       "    .dataframe thead th {\n",
       "        text-align: right;\n",
       "    }\n",
       "</style>\n",
       "<table border=\"1\" class=\"dataframe\">\n",
       "  <thead>\n",
       "    <tr style=\"text-align: right;\">\n",
       "      <th></th>\n",
       "      <th>index</th>\n",
       "      <th>raw_row_number</th>\n",
       "      <th>date</th>\n",
       "      <th>time</th>\n",
       "      <th>location</th>\n",
       "      <th>lat</th>\n",
       "      <th>lng</th>\n",
       "      <th>precinct</th>\n",
       "      <th>reporting_area</th>\n",
       "      <th>zone</th>\n",
       "      <th>...</th>\n",
       "      <th>raw_traffic_citation_issued</th>\n",
       "      <th>raw_misd_state_citation_issued</th>\n",
       "      <th>raw_suspect_ethnicity</th>\n",
       "      <th>raw_driver_searched</th>\n",
       "      <th>raw_passenger_searched</th>\n",
       "      <th>raw_search_consent</th>\n",
       "      <th>raw_search_arrest</th>\n",
       "      <th>raw_search_warrant</th>\n",
       "      <th>raw_search_inventory</th>\n",
       "      <th>raw_search_plain_view</th>\n",
       "    </tr>\n",
       "  </thead>\n",
       "  <tbody>\n",
       "    <tr>\n",
       "      <th>0</th>\n",
       "      <td>1840907</td>\n",
       "      <td>93347</td>\n",
       "      <td>2010-04-18</td>\n",
       "      <td>13140.0</td>\n",
       "      <td>BURGESS AVE &amp; WHITE BRIDGE PIKE, NASHVILLE, TN...</td>\n",
       "      <td>36.145004</td>\n",
       "      <td>-86.857970</td>\n",
       "      <td>1.0</td>\n",
       "      <td>5103.0</td>\n",
       "      <td>113.0</td>\n",
       "      <td>...</td>\n",
       "      <td>False</td>\n",
       "      <td>NaN</td>\n",
       "      <td>N</td>\n",
       "      <td>False</td>\n",
       "      <td>False</td>\n",
       "      <td>False</td>\n",
       "      <td>False</td>\n",
       "      <td>False</td>\n",
       "      <td>False</td>\n",
       "      <td>False</td>\n",
       "    </tr>\n",
       "    <tr>\n",
       "      <th>1</th>\n",
       "      <td>492044</td>\n",
       "      <td>2001428</td>\n",
       "      <td>2015-01-19</td>\n",
       "      <td>19920.0</td>\n",
       "      <td>DUE WEST AVE W &amp; S GRAYCROFT AVE, MADISON, TN,...</td>\n",
       "      <td>36.249187</td>\n",
       "      <td>-86.734459</td>\n",
       "      <td>7.0</td>\n",
       "      <td>1797.0</td>\n",
       "      <td>723.0</td>\n",
       "      <td>...</td>\n",
       "      <td>False</td>\n",
       "      <td>False</td>\n",
       "      <td>N</td>\n",
       "      <td>False</td>\n",
       "      <td>False</td>\n",
       "      <td>False</td>\n",
       "      <td>False</td>\n",
       "      <td>False</td>\n",
       "      <td>False</td>\n",
       "      <td>False</td>\n",
       "    </tr>\n",
       "    <tr>\n",
       "      <th>2</th>\n",
       "      <td>431170</td>\n",
       "      <td>1996331</td>\n",
       "      <td>2015-01-15</td>\n",
       "      <td>1020.0</td>\n",
       "      <td>S GALLATIN PIKE &amp; MADISON BLVD, MADISON, TN, 3...</td>\n",
       "      <td>36.254979</td>\n",
       "      <td>-86.715246</td>\n",
       "      <td>7.0</td>\n",
       "      <td>1623.0</td>\n",
       "      <td>711.0</td>\n",
       "      <td>...</td>\n",
       "      <td>False</td>\n",
       "      <td>False</td>\n",
       "      <td>N</td>\n",
       "      <td>False</td>\n",
       "      <td>False</td>\n",
       "      <td>False</td>\n",
       "      <td>False</td>\n",
       "      <td>False</td>\n",
       "      <td>False</td>\n",
       "      <td>False</td>\n",
       "    </tr>\n",
       "    <tr>\n",
       "      <th>3</th>\n",
       "      <td>2066423</td>\n",
       "      <td>1319451</td>\n",
       "      <td>2013-05-17</td>\n",
       "      <td>62760.0</td>\n",
       "      <td>CHARLOTTE PIKE &amp; W HILLWOOD DR, NASHVILLE, TN,...</td>\n",
       "      <td>36.139093</td>\n",
       "      <td>-86.880533</td>\n",
       "      <td>1.0</td>\n",
       "      <td>5009.0</td>\n",
       "      <td>123.0</td>\n",
       "      <td>...</td>\n",
       "      <td>False</td>\n",
       "      <td>False</td>\n",
       "      <td>N</td>\n",
       "      <td>False</td>\n",
       "      <td>False</td>\n",
       "      <td>False</td>\n",
       "      <td>False</td>\n",
       "      <td>False</td>\n",
       "      <td>False</td>\n",
       "      <td>False</td>\n",
       "    </tr>\n",
       "    <tr>\n",
       "      <th>4</th>\n",
       "      <td>2899480</td>\n",
       "      <td>201349</td>\n",
       "      <td>2010-09-01</td>\n",
       "      <td>28140.0</td>\n",
       "      <td>BELL RD &amp; DODSON CHAPEL RD, HERMITAGE, TN, 37076</td>\n",
       "      <td>36.163310</td>\n",
       "      <td>-86.613147</td>\n",
       "      <td>5.0</td>\n",
       "      <td>9501.0</td>\n",
       "      <td>521.0</td>\n",
       "      <td>...</td>\n",
       "      <td>False</td>\n",
       "      <td>NaN</td>\n",
       "      <td>N</td>\n",
       "      <td>False</td>\n",
       "      <td>False</td>\n",
       "      <td>False</td>\n",
       "      <td>False</td>\n",
       "      <td>False</td>\n",
       "      <td>False</td>\n",
       "      <td>False</td>\n",
       "    </tr>\n",
       "  </tbody>\n",
       "</table>\n",
       "<p>5 rows × 43 columns</p>\n",
       "</div>"
      ],
      "text/plain": [
       "     index raw_row_number        date     time  \\\n",
       "0  1840907          93347  2010-04-18  13140.0   \n",
       "1   492044        2001428  2015-01-19  19920.0   \n",
       "2   431170        1996331  2015-01-15   1020.0   \n",
       "3  2066423        1319451  2013-05-17  62760.0   \n",
       "4  2899480         201349  2010-09-01  28140.0   \n",
       "\n",
       "                                            location        lat        lng  \\\n",
       "0  BURGESS AVE & WHITE BRIDGE PIKE, NASHVILLE, TN...  36.145004 -86.857970   \n",
       "1  DUE WEST AVE W & S GRAYCROFT AVE, MADISON, TN,...  36.249187 -86.734459   \n",
       "2  S GALLATIN PIKE & MADISON BLVD, MADISON, TN, 3...  36.254979 -86.715246   \n",
       "3  CHARLOTTE PIKE & W HILLWOOD DR, NASHVILLE, TN,...  36.139093 -86.880533   \n",
       "4   BELL RD & DODSON CHAPEL RD, HERMITAGE, TN, 37076  36.163310 -86.613147   \n",
       "\n",
       "   precinct  reporting_area   zone  ...  raw_traffic_citation_issued  \\\n",
       "0       1.0          5103.0  113.0  ...                        False   \n",
       "1       7.0          1797.0  723.0  ...                        False   \n",
       "2       7.0          1623.0  711.0  ...                        False   \n",
       "3       1.0          5009.0  123.0  ...                        False   \n",
       "4       5.0          9501.0  521.0  ...                        False   \n",
       "\n",
       "  raw_misd_state_citation_issued raw_suspect_ethnicity raw_driver_searched  \\\n",
       "0                            NaN                     N               False   \n",
       "1                          False                     N               False   \n",
       "2                          False                     N               False   \n",
       "3                          False                     N               False   \n",
       "4                            NaN                     N               False   \n",
       "\n",
       "  raw_passenger_searched raw_search_consent  raw_search_arrest  \\\n",
       "0                  False              False              False   \n",
       "1                  False              False              False   \n",
       "2                  False              False              False   \n",
       "3                  False              False              False   \n",
       "4                  False              False              False   \n",
       "\n",
       "   raw_search_warrant  raw_search_inventory raw_search_plain_view  \n",
       "0               False                 False                 False  \n",
       "1               False                 False                 False  \n",
       "2               False                 False                 False  \n",
       "3               False                 False                 False  \n",
       "4               False                 False                 False  \n",
       "\n",
       "[5 rows x 43 columns]"
      ]
     },
     "execution_count": 3,
     "metadata": {},
     "output_type": "execute_result"
    }
   ],
   "source": [
    "pandas_stops = pd.read_csv(\"https://github.com/ds-modules/data/raw/main/nashville_sample.csv\", index_col=0)\n",
    "pandas_stops.head(5)"
   ]
  },
  {
   "cell_type": "markdown",
   "id": "07ca96a7",
   "metadata": {
    "id": "07ca96a7"
   },
   "source": [
    "#### II. Finding number of rows and columns\n",
    "Let's remind ourselves of how we found the number of rows and columns in `datascience`.\n",
    "- `datascience` uses `tbl.num_rows` to find the number of rows and `tbl.num_columns`to find the number of columns\n"
   ]
  },
  {
   "cell_type": "code",
   "execution_count": 4,
   "id": "c51a1661",
   "metadata": {
    "colab": {
     "base_uri": "https://localhost:8080/"
    },
    "id": "c51a1661",
    "outputId": "a226ac6d-811c-4686-8d18-f4bd1f9d7aad"
   },
   "outputs": [
    {
     "data": {
      "text/plain": [
       "1000"
      ]
     },
     "execution_count": 4,
     "metadata": {},
     "output_type": "execute_result"
    }
   ],
   "source": [
    "# Number of rows in Table\n",
    "datascience_stops.num_rows"
   ]
  },
  {
   "cell_type": "code",
   "execution_count": 5,
   "id": "f7f38603",
   "metadata": {
    "colab": {
     "base_uri": "https://localhost:8080/"
    },
    "id": "f7f38603",
    "outputId": "39beca97-6a3d-46cb-9485-44d94b482009"
   },
   "outputs": [
    {
     "data": {
      "text/plain": [
       "43"
      ]
     },
     "execution_count": 5,
     "metadata": {},
     "output_type": "execute_result"
    }
   ],
   "source": [
    "# Number of columns in Table\n",
    "datascience_stops.num_columns"
   ]
  },
  {
   "cell_type": "markdown",
   "id": "-WDaJzWqxB0G",
   "metadata": {
    "id": "-WDaJzWqxB0G"
   },
   "source": [
    "Now let's do this with pandas.\n",
    "\n",
    "✅ Looking at the reference sheet, what can we do to return the number of rows and columns of the dataframe?\n",
    "\n",
    "Note that unlike `datascience`, pandas doesn't have a specific function that returns the number of rows or number of columns by itself."
   ]
  },
  {
   "cell_type": "code",
   "execution_count": 6,
   "id": "5c33ba6d",
   "metadata": {
    "colab": {
     "base_uri": "https://localhost:8080/"
    },
    "id": "5c33ba6d",
    "outputId": "15e66b78-ad55-4f58-af19-d74d2b7868e6"
   },
   "outputs": [
    {
     "data": {
      "text/plain": [
       "(1000, 43)"
      ]
     },
     "execution_count": 6,
     "metadata": {},
     "output_type": "execute_result"
    }
   ],
   "source": [
    "## Solution ##\n",
    "pandas_stops.shape"
   ]
  },
  {
   "cell_type": "markdown",
   "id": "KdoBgnywF_KC",
   "metadata": {
    "id": "KdoBgnywF_KC"
   },
   "source": [
    "✅ Since it returns a tuple, how would you extract the number of rows and columns? Try it out yourself."
   ]
  },
  {
   "cell_type": "code",
   "execution_count": 7,
   "id": "r2AVfxTJyjiK",
   "metadata": {
    "colab": {
     "base_uri": "https://localhost:8080/"
    },
    "id": "r2AVfxTJyjiK",
    "outputId": "857881ad-dbd8-4a5f-dfa3-d57e8f857dda"
   },
   "outputs": [
    {
     "name": "stdout",
     "output_type": "stream",
     "text": [
      "num_rows:  1000 num_columns:  43\n"
     ]
    }
   ],
   "source": [
    "## Solution ##\n",
    "num_rows = pandas_stops.shape[0]\n",
    "num_columns = pandas_stops.shape[1]\n",
    "\n",
    "print(\"num_rows: \", num_rows, \"num_columns: \", num_columns)"
   ]
  },
  {
   "cell_type": "markdown",
   "id": "011caadc",
   "metadata": {
    "id": "011caadc"
   },
   "source": [
    "*Note: Because of the way we sampled earlier to make the dataset smaller, the Table and the DataFrame do not have the same exact number of rows.*"
   ]
  },
  {
   "cell_type": "markdown",
   "id": "b4aaad96",
   "metadata": {
    "id": "b4aaad96"
   },
   "source": [
    "#### III. Indexing\n",
    "- `datascience` Tables:\n",
    "    - Row indexing: `tbl.take(row_indeces)`\n",
    "    - Column indexing: `tbl.column(column_name_or_index)` and `tbl.select(column_name_or_index`\n",
    "\n",
    "- Pandas DataFrames:\n",
    "    - Label based extractor for columns and rows: `df.loc[row_labels, column_labels]`\n",
    "    - Index based extractor for columns and rows: `.iloc[row_integers, column_integers]`\n",
    "    - Context based extraction `[ ]`"
   ]
  },
  {
   "cell_type": "markdown",
   "id": "d9f1fc45",
   "metadata": {
    "id": "d9f1fc45"
   },
   "source": [
    "**`datascience`**"
   ]
  },
  {
   "cell_type": "code",
   "execution_count": 8,
   "id": "d46b37a9",
   "metadata": {
    "colab": {
     "base_uri": "https://localhost:8080/",
     "height": 202
    },
    "id": "d46b37a9",
    "outputId": "e3c68595-ea68-4734-8307-55255749175a"
   },
   "outputs": [
    {
     "data": {
      "text/html": [
       "<table border=\"1\" class=\"dataframe\">\n",
       "    <thead>\n",
       "        <tr>\n",
       "            <th>index</th> <th>raw_row_number</th> <th>date</th> <th>time</th> <th>location</th> <th>lat</th> <th>lng</th> <th>precinct</th> <th>reporting_area</th> <th>zone</th> <th>subject_age</th> <th>subject_race</th> <th>subject_sex</th> <th>officer_id_hash</th> <th>type</th> <th>violation</th> <th>arrest_made</th> <th>citation_issued</th> <th>warning_issued</th> <th>outcome</th> <th>contraband_found</th> <th>contraband_drugs</th> <th>contraband_weapons</th> <th>frisk_performed</th> <th>search_conducted</th> <th>search_person</th> <th>search_vehicle</th> <th>search_basis</th> <th>reason_for_stop</th> <th>vehicle_registration_state</th> <th>notes</th> <th>raw_verbal_warning_issued</th> <th>raw_written_warning_issued</th> <th>raw_traffic_citation_issued</th> <th>raw_misd_state_citation_issued</th> <th>raw_suspect_ethnicity</th> <th>raw_driver_searched</th> <th>raw_passenger_searched</th> <th>raw_search_consent</th> <th>raw_search_arrest</th> <th>raw_search_warrant</th> <th>raw_search_inventory</th> <th>raw_search_plain_view</th>\n",
       "        </tr>\n",
       "    </thead>\n",
       "    <tbody>\n",
       "        <tr>\n",
       "            <td>431170</td> <td>1996331       </td> <td>2015-01-15</td> <td>1020</td> <td>S GALLATIN PIKE & MADISON BLVD, MADISON, TN, 37115</td> <td>36.255</td> <td>-86.7152</td> <td>7       </td> <td>1623          </td> <td>711 </td> <td>21         </td> <td>black       </td> <td>female     </td> <td>576170def4     </td> <td>vehicular</td> <td>moving traffic violation</td> <td>False      </td> <td>False          </td> <td>True          </td> <td>warning</td> <td>nan             </td> <td>nan             </td> <td>nan               </td> <td>False          </td> <td>False           </td> <td>False        </td> <td>False         </td> <td>nan         </td> <td>moving traffic violation</td> <td>TN                        </td> <td>nan  </td> <td>True                     </td> <td>0                         </td> <td>False                      </td> <td>0                             </td> <td>N                    </td> <td>False              </td> <td>False                 </td> <td>False             </td> <td>False            </td> <td>False             </td> <td>False               </td> <td>False                </td>\n",
       "        </tr>\n",
       "    </tbody>\n",
       "</table>"
      ],
      "text/plain": [
       "index  | raw_row_number | date       | time | location                                           | lat    | lng      | precinct | reporting_area | zone | subject_age | subject_race | subject_sex | officer_id_hash | type      | violation                | arrest_made | citation_issued | warning_issued | outcome | contraband_found | contraband_drugs | contraband_weapons | frisk_performed | search_conducted | search_person | search_vehicle | search_basis | reason_for_stop          | vehicle_registration_state | notes | raw_verbal_warning_issued | raw_written_warning_issued | raw_traffic_citation_issued | raw_misd_state_citation_issued | raw_suspect_ethnicity | raw_driver_searched | raw_passenger_searched | raw_search_consent | raw_search_arrest | raw_search_warrant | raw_search_inventory | raw_search_plain_view\n",
       "431170 | 1996331        | 2015-01-15 | 1020 | S GALLATIN PIKE & MADISON BLVD, MADISON, TN, 37115 | 36.255 | -86.7152 | 7        | 1623           | 711  | 21          | black        | female      | 576170def4      | vehicular | moving traffic violation | False       | False           | True           | warning | nan              | nan              | nan                | False           | False            | False         | False          | nan          | moving traffic violation | TN                         | nan   | True                      | 0                          | False                       | 0                              | N                     | False               | False                  | False              | False             | False              | False                | False"
      ]
     },
     "execution_count": 8,
     "metadata": {},
     "output_type": "execute_result"
    }
   ],
   "source": [
    "# Extracting the second row of the Table.\n",
    "# This gives us a new table with just the single row that we selected.\n",
    "datascience_stops.take(2)"
   ]
  },
  {
   "cell_type": "code",
   "execution_count": 9,
   "id": "4d67e4a0",
   "metadata": {
    "colab": {
     "base_uri": "https://localhost:8080/",
     "height": 349
    },
    "id": "4d67e4a0",
    "outputId": "e8857e4f-32a2-43cb-babc-2116099be077"
   },
   "outputs": [
    {
     "data": {
      "text/html": [
       "<table border=\"1\" class=\"dataframe\">\n",
       "    <thead>\n",
       "        <tr>\n",
       "            <th>index</th> <th>raw_row_number</th> <th>date</th> <th>time</th> <th>location</th> <th>lat</th> <th>lng</th> <th>precinct</th> <th>reporting_area</th> <th>zone</th> <th>subject_age</th> <th>subject_race</th> <th>subject_sex</th> <th>officer_id_hash</th> <th>type</th> <th>violation</th> <th>arrest_made</th> <th>citation_issued</th> <th>warning_issued</th> <th>outcome</th> <th>contraband_found</th> <th>contraband_drugs</th> <th>contraband_weapons</th> <th>frisk_performed</th> <th>search_conducted</th> <th>search_person</th> <th>search_vehicle</th> <th>search_basis</th> <th>reason_for_stop</th> <th>vehicle_registration_state</th> <th>notes</th> <th>raw_verbal_warning_issued</th> <th>raw_written_warning_issued</th> <th>raw_traffic_citation_issued</th> <th>raw_misd_state_citation_issued</th> <th>raw_suspect_ethnicity</th> <th>raw_driver_searched</th> <th>raw_passenger_searched</th> <th>raw_search_consent</th> <th>raw_search_arrest</th> <th>raw_search_warrant</th> <th>raw_search_inventory</th> <th>raw_search_plain_view</th>\n",
       "        </tr>\n",
       "    </thead>\n",
       "    <tbody>\n",
       "        <tr>\n",
       "            <td>1840907</td> <td>93347         </td> <td>2010-04-18</td> <td>13140</td> <td>BURGESS AVE & WHITE BRIDGE PIKE, NASHVILLE, TN, 37209</td> <td>36.145 </td> <td>-86.858 </td> <td>1       </td> <td>5103          </td> <td>113 </td> <td>23         </td> <td>white       </td> <td>male       </td> <td>88ef34d431     </td> <td>vehicular</td> <td>moving traffic violation   </td> <td>True       </td> <td>False          </td> <td>False         </td> <td>arrest </td> <td>nan             </td> <td>nan             </td> <td>nan               </td> <td>False          </td> <td>False           </td> <td>False        </td> <td>False         </td> <td>nan         </td> <td>moving traffic violation   </td> <td>TN                        </td> <td>nan           </td> <td>False                    </td> <td>0                         </td> <td>False                      </td> <td>nan                           </td> <td>N                    </td> <td>False              </td> <td>False                 </td> <td>False             </td> <td>False            </td> <td>False             </td> <td>False               </td> <td>False                </td>\n",
       "        </tr>\n",
       "        <tr>\n",
       "            <td>492044 </td> <td>2001428       </td> <td>2015-01-19</td> <td>19920</td> <td>DUE WEST AVE W & S GRAYCROFT AVE, MADISON, TN, 37115 </td> <td>36.2492</td> <td>-86.7345</td> <td>7       </td> <td>1797          </td> <td>723 </td> <td>45         </td> <td>black       </td> <td>female     </td> <td>2d9b91c2d2     </td> <td>vehicular</td> <td>vehicle equipment violation</td> <td>False      </td> <td>False          </td> <td>True          </td> <td>warning</td> <td>nan             </td> <td>nan             </td> <td>nan               </td> <td>False          </td> <td>False           </td> <td>False        </td> <td>False         </td> <td>nan         </td> <td>vehicle equipment violation</td> <td>TN                        </td> <td>tail light out</td> <td>True                     </td> <td>0                         </td> <td>False                      </td> <td>0                             </td> <td>N                    </td> <td>False              </td> <td>False                 </td> <td>False             </td> <td>False            </td> <td>False             </td> <td>False               </td> <td>False                </td>\n",
       "        </tr>\n",
       "        <tr>\n",
       "            <td>431170 </td> <td>1996331       </td> <td>2015-01-15</td> <td>1020 </td> <td>S GALLATIN PIKE & MADISON BLVD, MADISON, TN, 37115   </td> <td>36.255 </td> <td>-86.7152</td> <td>7       </td> <td>1623          </td> <td>711 </td> <td>21         </td> <td>black       </td> <td>female     </td> <td>576170def4     </td> <td>vehicular</td> <td>moving traffic violation   </td> <td>False      </td> <td>False          </td> <td>True          </td> <td>warning</td> <td>nan             </td> <td>nan             </td> <td>nan               </td> <td>False          </td> <td>False           </td> <td>False        </td> <td>False         </td> <td>nan         </td> <td>moving traffic violation   </td> <td>TN                        </td> <td>nan           </td> <td>True                     </td> <td>0                         </td> <td>False                      </td> <td>0                             </td> <td>N                    </td> <td>False              </td> <td>False                 </td> <td>False             </td> <td>False            </td> <td>False             </td> <td>False               </td> <td>False                </td>\n",
       "        </tr>\n",
       "    </tbody>\n",
       "</table>"
      ],
      "text/plain": [
       "index   | raw_row_number | date       | time  | location                                              | lat     | lng      | precinct | reporting_area | zone | subject_age | subject_race | subject_sex | officer_id_hash | type      | violation                   | arrest_made | citation_issued | warning_issued | outcome | contraband_found | contraband_drugs | contraband_weapons | frisk_performed | search_conducted | search_person | search_vehicle | search_basis | reason_for_stop             | vehicle_registration_state | notes          | raw_verbal_warning_issued | raw_written_warning_issued | raw_traffic_citation_issued | raw_misd_state_citation_issued | raw_suspect_ethnicity | raw_driver_searched | raw_passenger_searched | raw_search_consent | raw_search_arrest | raw_search_warrant | raw_search_inventory | raw_search_plain_view\n",
       "1840907 | 93347          | 2010-04-18 | 13140 | BURGESS AVE & WHITE BRIDGE PIKE, NASHVILLE, TN, 37209 | 36.145  | -86.858  | 1        | 5103           | 113  | 23          | white        | male        | 88ef34d431      | vehicular | moving traffic violation    | True        | False           | False          | arrest  | nan              | nan              | nan                | False           | False            | False         | False          | nan          | moving traffic violation    | TN                         | nan            | False                     | 0                          | False                       | nan                            | N                     | False               | False                  | False              | False             | False              | False                | False\n",
       "492044  | 2001428        | 2015-01-19 | 19920 | DUE WEST AVE W & S GRAYCROFT AVE, MADISON, TN, 37115  | 36.2492 | -86.7345 | 7        | 1797           | 723  | 45          | black        | female      | 2d9b91c2d2      | vehicular | vehicle equipment violation | False       | False           | True           | warning | nan              | nan              | nan                | False           | False            | False         | False          | nan          | vehicle equipment violation | TN                         | tail light out | True                      | 0                          | False                       | 0                              | N                     | False               | False                  | False              | False             | False              | False                | False\n",
       "431170  | 1996331        | 2015-01-15 | 1020  | S GALLATIN PIKE & MADISON BLVD, MADISON, TN, 37115    | 36.255  | -86.7152 | 7        | 1623           | 711  | 21          | black        | female      | 576170def4      | vehicular | moving traffic violation    | False       | False           | True           | warning | nan              | nan              | nan                | False           | False            | False         | False          | nan          | moving traffic violation    | TN                         | nan            | True                      | 0                          | False                       | 0                              | N                     | False               | False                  | False              | False             | False              | False                | False"
      ]
     },
     "execution_count": 9,
     "metadata": {},
     "output_type": "execute_result"
    }
   ],
   "source": [
    "# Extracting the first through fifth rows of the Table.\n",
    "# This gives us a new table with just the first five rows that we selected.\n",
    "datascience_stops.take(np.arange(0,3))"
   ]
  },
  {
   "cell_type": "code",
   "execution_count": 10,
   "id": "dd00497a",
   "metadata": {
    "colab": {
     "base_uri": "https://localhost:8080/",
     "height": 388
    },
    "id": "dd00497a",
    "outputId": "71820224-8a30-4fee-9199-c1e5f391fd03"
   },
   "outputs": [
    {
     "data": {
      "text/html": [
       "<table border=\"1\" class=\"dataframe\">\n",
       "    <thead>\n",
       "        <tr>\n",
       "            <th>location</th>\n",
       "        </tr>\n",
       "    </thead>\n",
       "    <tbody>\n",
       "        <tr>\n",
       "            <td>BURGESS AVE & WHITE BRIDGE PIKE, NASHVILLE, TN, 37209       </td>\n",
       "        </tr>\n",
       "        <tr>\n",
       "            <td>DUE WEST AVE W & S GRAYCROFT AVE, MADISON, TN, 37115        </td>\n",
       "        </tr>\n",
       "        <tr>\n",
       "            <td>S GALLATIN PIKE & MADISON BLVD, MADISON, TN, 37115          </td>\n",
       "        </tr>\n",
       "        <tr>\n",
       "            <td>CHARLOTTE PIKE & W HILLWOOD DR, NASHVILLE, TN, 37209        </td>\n",
       "        </tr>\n",
       "        <tr>\n",
       "            <td>BELL RD & DODSON CHAPEL RD, HERMITAGE, TN, 37076            </td>\n",
       "        </tr>\n",
       "        <tr>\n",
       "            <td>3RD AVE S & ASH ST, NASHVILLE, TN, 37210                    </td>\n",
       "        </tr>\n",
       "        <tr>\n",
       "            <td>BELL RD & DODSON CHAPEL RD, HERMITAGE, TN, 37076            </td>\n",
       "        </tr>\n",
       "        <tr>\n",
       "            <td>W TRINITY LN & BAPTIST WORLD CENTER DR, NASHVILLE, TN, 37207</td>\n",
       "        </tr>\n",
       "        <tr>\n",
       "            <td>6TH AVE S & LAFAYETTE ST, NASHVILLE, TN, 37203              </td>\n",
       "        </tr>\n",
       "        <tr>\n",
       "            <td>BRILEY PKWY N & MCGAVOCK PIKE, NASHVILLE, TN, 37214         </td>\n",
       "        </tr>\n",
       "    </tbody>\n",
       "</table>\n",
       "<p>... (990 rows omitted)</p>"
      ],
      "text/plain": [
       "location\n",
       "BURGESS AVE & WHITE BRIDGE PIKE, NASHVILLE, TN, 37209\n",
       "DUE WEST AVE W & S GRAYCROFT AVE, MADISON, TN, 37115\n",
       "S GALLATIN PIKE & MADISON BLVD, MADISON, TN, 37115\n",
       "CHARLOTTE PIKE & W HILLWOOD DR, NASHVILLE, TN, 37209\n",
       "BELL RD & DODSON CHAPEL RD, HERMITAGE, TN, 37076\n",
       "3RD AVE S & ASH ST, NASHVILLE, TN, 37210\n",
       "BELL RD & DODSON CHAPEL RD, HERMITAGE, TN, 37076\n",
       "W TRINITY LN & BAPTIST WORLD CENTER DR, NASHVILLE, TN, 37207\n",
       "6TH AVE S & LAFAYETTE ST, NASHVILLE, TN, 37203\n",
       "BRILEY PKWY N & MCGAVOCK PIKE, NASHVILLE, TN, 37214\n",
       "... (990 rows omitted)"
      ]
     },
     "execution_count": 10,
     "metadata": {},
     "output_type": "execute_result"
    }
   ],
   "source": [
    "# This gives us a copy of the Table with only the column we selected.\n",
    "datascience_stops.select(\"location\")"
   ]
  },
  {
   "cell_type": "markdown",
   "id": "aee97294",
   "metadata": {
    "id": "aee97294"
   },
   "source": [
    "**Pandas**\n",
    "\n",
    "\n"
   ]
  },
  {
   "cell_type": "markdown",
   "id": "u0uPX4Yo8UU8",
   "metadata": {
    "id": "u0uPX4Yo8UU8"
   },
   "source": [
    "##### `.loc` lets us extract data with specific column or index LABELS.\n",
    "We can extract specific rows and columns by passing in lists to the row and column arguments."
   ]
  },
  {
   "cell_type": "code",
   "execution_count": 11,
   "id": "78cf9210",
   "metadata": {
    "colab": {
     "base_uri": "https://localhost:8080/",
     "height": 142
    },
    "id": "78cf9210",
    "outputId": "4871e06b-f27a-43bf-8445-6f4b421ce2c3"
   },
   "outputs": [
    {
     "data": {
      "text/html": [
       "<div>\n",
       "<style scoped>\n",
       "    .dataframe tbody tr th:only-of-type {\n",
       "        vertical-align: middle;\n",
       "    }\n",
       "\n",
       "    .dataframe tbody tr th {\n",
       "        vertical-align: top;\n",
       "    }\n",
       "\n",
       "    .dataframe thead th {\n",
       "        text-align: right;\n",
       "    }\n",
       "</style>\n",
       "<table border=\"1\" class=\"dataframe\">\n",
       "  <thead>\n",
       "    <tr style=\"text-align: right;\">\n",
       "      <th></th>\n",
       "      <th>location</th>\n",
       "      <th>subject_age</th>\n",
       "    </tr>\n",
       "  </thead>\n",
       "  <tbody>\n",
       "    <tr>\n",
       "      <th>1</th>\n",
       "      <td>DUE WEST AVE W &amp; S GRAYCROFT AVE, MADISON, TN,...</td>\n",
       "      <td>45.0</td>\n",
       "    </tr>\n",
       "    <tr>\n",
       "      <th>3</th>\n",
       "      <td>CHARLOTTE PIKE &amp; W HILLWOOD DR, NASHVILLE, TN,...</td>\n",
       "      <td>35.0</td>\n",
       "    </tr>\n",
       "    <tr>\n",
       "      <th>5</th>\n",
       "      <td>3RD AVE S &amp; ASH ST, NASHVILLE, TN, 37210</td>\n",
       "      <td>26.0</td>\n",
       "    </tr>\n",
       "  </tbody>\n",
       "</table>\n",
       "</div>"
      ],
      "text/plain": [
       "                                            location  subject_age\n",
       "1  DUE WEST AVE W & S GRAYCROFT AVE, MADISON, TN,...         45.0\n",
       "3  CHARLOTTE PIKE & W HILLWOOD DR, NASHVILLE, TN,...         35.0\n",
       "5           3RD AVE S & ASH ST, NASHVILLE, TN, 37210         26.0"
      ]
     },
     "execution_count": 11,
     "metadata": {},
     "output_type": "execute_result"
    }
   ],
   "source": [
    "#Extracting rows 1, 3, and 5 with only the \"location\" and \"subject_age\" columns\n",
    "#These are list arguments to .loc.\n",
    "pandas_stops.loc[[1, 3, 5], [\"location\", \"subject_age\"]]"
   ]
  },
  {
   "cell_type": "markdown",
   "id": "cdbf40ad",
   "metadata": {
    "id": "cdbf40ad"
   },
   "source": [
    "We can also use slicing if we want to extract X through X rows or columns. Slicing is inclusive when using `.loc`.\n",
    "\n",
    "✅ Using `.loc`, filter the table so that you only have rows 1, 2, 3, 4, 5 and columns starting at \"date\" to \"location\".\n"
   ]
  },
  {
   "cell_type": "code",
   "execution_count": 12,
   "id": "2fd548f6",
   "metadata": {
    "colab": {
     "base_uri": "https://localhost:8080/",
     "height": 204
    },
    "id": "2fd548f6",
    "outputId": "c1eefaf6-5ff1-4f28-86dd-f0feb97440d9"
   },
   "outputs": [
    {
     "data": {
      "text/html": [
       "<div>\n",
       "<style scoped>\n",
       "    .dataframe tbody tr th:only-of-type {\n",
       "        vertical-align: middle;\n",
       "    }\n",
       "\n",
       "    .dataframe tbody tr th {\n",
       "        vertical-align: top;\n",
       "    }\n",
       "\n",
       "    .dataframe thead th {\n",
       "        text-align: right;\n",
       "    }\n",
       "</style>\n",
       "<table border=\"1\" class=\"dataframe\">\n",
       "  <thead>\n",
       "    <tr style=\"text-align: right;\">\n",
       "      <th></th>\n",
       "      <th>date</th>\n",
       "      <th>time</th>\n",
       "      <th>location</th>\n",
       "    </tr>\n",
       "  </thead>\n",
       "  <tbody>\n",
       "    <tr>\n",
       "      <th>1</th>\n",
       "      <td>2015-01-19</td>\n",
       "      <td>19920.0</td>\n",
       "      <td>DUE WEST AVE W &amp; S GRAYCROFT AVE, MADISON, TN,...</td>\n",
       "    </tr>\n",
       "    <tr>\n",
       "      <th>2</th>\n",
       "      <td>2015-01-15</td>\n",
       "      <td>1020.0</td>\n",
       "      <td>S GALLATIN PIKE &amp; MADISON BLVD, MADISON, TN, 3...</td>\n",
       "    </tr>\n",
       "    <tr>\n",
       "      <th>3</th>\n",
       "      <td>2013-05-17</td>\n",
       "      <td>62760.0</td>\n",
       "      <td>CHARLOTTE PIKE &amp; W HILLWOOD DR, NASHVILLE, TN,...</td>\n",
       "    </tr>\n",
       "    <tr>\n",
       "      <th>4</th>\n",
       "      <td>2010-09-01</td>\n",
       "      <td>28140.0</td>\n",
       "      <td>BELL RD &amp; DODSON CHAPEL RD, HERMITAGE, TN, 37076</td>\n",
       "    </tr>\n",
       "    <tr>\n",
       "      <th>5</th>\n",
       "      <td>2012-12-13</td>\n",
       "      <td>67560.0</td>\n",
       "      <td>3RD AVE S &amp; ASH ST, NASHVILLE, TN, 37210</td>\n",
       "    </tr>\n",
       "  </tbody>\n",
       "</table>\n",
       "</div>"
      ],
      "text/plain": [
       "         date     time                                           location\n",
       "1  2015-01-19  19920.0  DUE WEST AVE W & S GRAYCROFT AVE, MADISON, TN,...\n",
       "2  2015-01-15   1020.0  S GALLATIN PIKE & MADISON BLVD, MADISON, TN, 3...\n",
       "3  2013-05-17  62760.0  CHARLOTTE PIKE & W HILLWOOD DR, NASHVILLE, TN,...\n",
       "4  2010-09-01  28140.0   BELL RD & DODSON CHAPEL RD, HERMITAGE, TN, 37076\n",
       "5  2012-12-13  67560.0           3RD AVE S & ASH ST, NASHVILLE, TN, 37210"
      ]
     },
     "execution_count": 12,
     "metadata": {},
     "output_type": "execute_result"
    }
   ],
   "source": [
    "## SOLUTION ##\n",
    "pandas_stops.loc[1:5, \"date\":\"location\"]"
   ]
  },
  {
   "cell_type": "markdown",
   "id": "13a023de",
   "metadata": {
    "id": "13a023de"
   },
   "source": [
    "We can also pass in only a single row or column.\n",
    "\n",
    "✅ Just like you did above, extract rows from 1 to 5, but this time with only the \"location\" column."
   ]
  },
  {
   "cell_type": "code",
   "execution_count": 13,
   "id": "97d3a0c6",
   "metadata": {
    "colab": {
     "base_uri": "https://localhost:8080/"
    },
    "id": "97d3a0c6",
    "outputId": "c21bd01d-8128-4a40-d5cb-d91b4b649e56"
   },
   "outputs": [
    {
     "data": {
      "text/plain": [
       "1    DUE WEST AVE W & S GRAYCROFT AVE, MADISON, TN,...\n",
       "2    S GALLATIN PIKE & MADISON BLVD, MADISON, TN, 3...\n",
       "3    CHARLOTTE PIKE & W HILLWOOD DR, NASHVILLE, TN,...\n",
       "4     BELL RD & DODSON CHAPEL RD, HERMITAGE, TN, 37076\n",
       "5             3RD AVE S & ASH ST, NASHVILLE, TN, 37210\n",
       "Name: location, dtype: object"
      ]
     },
     "execution_count": 13,
     "metadata": {},
     "output_type": "execute_result"
    }
   ],
   "source": [
    "## SOLUTION ##\n",
    "pandas_stops.loc[1:5, \"location\"]"
   ]
  },
  {
   "cell_type": "markdown",
   "id": "e7e824bd",
   "metadata": {
    "id": "e7e824bd"
   },
   "source": [
    "When we pass in only a single column name into `.loc`, it returns a Series, not a DataFrame. A Series is a one-dimensional array-like object that contains:\n",
    "- a sequence of values of the same type\n",
    "- a sequence of labels (called the index)"
   ]
  },
  {
   "cell_type": "markdown",
   "id": "8aeed9c2",
   "metadata": {
    "id": "8aeed9c2"
   },
   "source": [
    "To extract *all* rows or *all* columns, we use a colon."
   ]
  },
  {
   "cell_type": "code",
   "execution_count": 14,
   "id": "c3fda8de",
   "metadata": {
    "colab": {
     "base_uri": "https://localhost:8080/",
     "height": 419
    },
    "id": "c3fda8de",
    "outputId": "d999b242-bd45-4ea1-ec74-60613534f7bc"
   },
   "outputs": [
    {
     "data": {
      "text/html": [
       "<div>\n",
       "<style scoped>\n",
       "    .dataframe tbody tr th:only-of-type {\n",
       "        vertical-align: middle;\n",
       "    }\n",
       "\n",
       "    .dataframe tbody tr th {\n",
       "        vertical-align: top;\n",
       "    }\n",
       "\n",
       "    .dataframe thead th {\n",
       "        text-align: right;\n",
       "    }\n",
       "</style>\n",
       "<table border=\"1\" class=\"dataframe\">\n",
       "  <thead>\n",
       "    <tr style=\"text-align: right;\">\n",
       "      <th></th>\n",
       "      <th>location</th>\n",
       "      <th>subject_age</th>\n",
       "    </tr>\n",
       "  </thead>\n",
       "  <tbody>\n",
       "    <tr>\n",
       "      <th>0</th>\n",
       "      <td>BURGESS AVE &amp; WHITE BRIDGE PIKE, NASHVILLE, TN...</td>\n",
       "      <td>23.0</td>\n",
       "    </tr>\n",
       "    <tr>\n",
       "      <th>1</th>\n",
       "      <td>DUE WEST AVE W &amp; S GRAYCROFT AVE, MADISON, TN,...</td>\n",
       "      <td>45.0</td>\n",
       "    </tr>\n",
       "    <tr>\n",
       "      <th>2</th>\n",
       "      <td>S GALLATIN PIKE &amp; MADISON BLVD, MADISON, TN, 3...</td>\n",
       "      <td>21.0</td>\n",
       "    </tr>\n",
       "    <tr>\n",
       "      <th>3</th>\n",
       "      <td>CHARLOTTE PIKE &amp; W HILLWOOD DR, NASHVILLE, TN,...</td>\n",
       "      <td>35.0</td>\n",
       "    </tr>\n",
       "    <tr>\n",
       "      <th>4</th>\n",
       "      <td>BELL RD &amp; DODSON CHAPEL RD, HERMITAGE, TN, 37076</td>\n",
       "      <td>53.0</td>\n",
       "    </tr>\n",
       "    <tr>\n",
       "      <th>...</th>\n",
       "      <td>...</td>\n",
       "      <td>...</td>\n",
       "    </tr>\n",
       "    <tr>\n",
       "      <th>995</th>\n",
       "      <td>17TH AVE S &amp; BROADWAY, NASHVILLE, TN, 37203</td>\n",
       "      <td>26.0</td>\n",
       "    </tr>\n",
       "    <tr>\n",
       "      <th>996</th>\n",
       "      <td>LINCOLN ST &amp; TRIMBLE ST, NASHVILLE, TN, 37210</td>\n",
       "      <td>41.0</td>\n",
       "    </tr>\n",
       "    <tr>\n",
       "      <th>997</th>\n",
       "      <td>MURFREESBORO PIKE &amp; PIN HOOK RD, ANTIOCH, TN, ...</td>\n",
       "      <td>44.0</td>\n",
       "    </tr>\n",
       "    <tr>\n",
       "      <th>998</th>\n",
       "      <td>819 S GALLATIN PIKE, MADISON, TN, 37115</td>\n",
       "      <td>29.0</td>\n",
       "    </tr>\n",
       "    <tr>\n",
       "      <th>999</th>\n",
       "      <td>DEBOW ST &amp; ROBINSON RD, OLD HICKORY, TN, 37138</td>\n",
       "      <td>30.0</td>\n",
       "    </tr>\n",
       "  </tbody>\n",
       "</table>\n",
       "<p>1000 rows × 2 columns</p>\n",
       "</div>"
      ],
      "text/plain": [
       "                                              location  subject_age\n",
       "0    BURGESS AVE & WHITE BRIDGE PIKE, NASHVILLE, TN...         23.0\n",
       "1    DUE WEST AVE W & S GRAYCROFT AVE, MADISON, TN,...         45.0\n",
       "2    S GALLATIN PIKE & MADISON BLVD, MADISON, TN, 3...         21.0\n",
       "3    CHARLOTTE PIKE & W HILLWOOD DR, NASHVILLE, TN,...         35.0\n",
       "4     BELL RD & DODSON CHAPEL RD, HERMITAGE, TN, 37076         53.0\n",
       "..                                                 ...          ...\n",
       "995        17TH AVE S & BROADWAY, NASHVILLE, TN, 37203         26.0\n",
       "996      LINCOLN ST & TRIMBLE ST, NASHVILLE, TN, 37210         41.0\n",
       "997  MURFREESBORO PIKE & PIN HOOK RD, ANTIOCH, TN, ...         44.0\n",
       "998            819 S GALLATIN PIKE, MADISON, TN, 37115         29.0\n",
       "999     DEBOW ST & ROBINSON RD, OLD HICKORY, TN, 37138         30.0\n",
       "\n",
       "[1000 rows x 2 columns]"
      ]
     },
     "execution_count": 14,
     "metadata": {},
     "output_type": "execute_result"
    }
   ],
   "source": [
    "# All rows for only the columns \"location\" and \"subject age\"\n",
    "pandas_stops.loc[:, [\"location\", \"subject_age\"]]"
   ]
  },
  {
   "cell_type": "markdown",
   "id": "9a1e28c8",
   "metadata": {
    "id": "9a1e28c8"
   },
   "source": [
    "##### `.iloc` lets us specify the *integers* of rows and columns we wish to extract.\n",
    "This means we are extracting according to data according to its *position* in the DataFrame. Like `.loc`, we can pass in a list, a slice, or a single value into `.iloc`."
   ]
  },
  {
   "cell_type": "markdown",
   "id": "92573101",
   "metadata": {
    "id": "92573101"
   },
   "source": [
    "We can pass in lists to `.iloc`."
   ]
  },
  {
   "cell_type": "code",
   "execution_count": 15,
   "id": "2c6ad323",
   "metadata": {
    "colab": {
     "base_uri": "https://localhost:8080/",
     "height": 142
    },
    "id": "2c6ad323",
    "outputId": "a7a06e12-3387-4c30-a301-266321f70699"
   },
   "outputs": [
    {
     "data": {
      "text/html": [
       "<div>\n",
       "<style scoped>\n",
       "    .dataframe tbody tr th:only-of-type {\n",
       "        vertical-align: middle;\n",
       "    }\n",
       "\n",
       "    .dataframe tbody tr th {\n",
       "        vertical-align: top;\n",
       "    }\n",
       "\n",
       "    .dataframe thead th {\n",
       "        text-align: right;\n",
       "    }\n",
       "</style>\n",
       "<table border=\"1\" class=\"dataframe\">\n",
       "  <thead>\n",
       "    <tr style=\"text-align: right;\">\n",
       "      <th></th>\n",
       "      <th>index</th>\n",
       "      <th>raw_row_number</th>\n",
       "      <th>date</th>\n",
       "    </tr>\n",
       "  </thead>\n",
       "  <tbody>\n",
       "    <tr>\n",
       "      <th>1</th>\n",
       "      <td>492044</td>\n",
       "      <td>2001428</td>\n",
       "      <td>2015-01-19</td>\n",
       "    </tr>\n",
       "    <tr>\n",
       "      <th>2</th>\n",
       "      <td>431170</td>\n",
       "      <td>1996331</td>\n",
       "      <td>2015-01-15</td>\n",
       "    </tr>\n",
       "    <tr>\n",
       "      <th>3</th>\n",
       "      <td>2066423</td>\n",
       "      <td>1319451</td>\n",
       "      <td>2013-05-17</td>\n",
       "    </tr>\n",
       "  </tbody>\n",
       "</table>\n",
       "</div>"
      ],
      "text/plain": [
       "     index raw_row_number        date\n",
       "1   492044        2001428  2015-01-19\n",
       "2   431170        1996331  2015-01-15\n",
       "3  2066423        1319451  2013-05-17"
      ]
     },
     "execution_count": 15,
     "metadata": {},
     "output_type": "execute_result"
    }
   ],
   "source": [
    "# Extracting rows at positions 1, 2, and 3 and the columns at positions 0, 1, and 2\n",
    "pandas_stops.iloc[[1,2,3], [0,1,2]]"
   ]
  },
  {
   "cell_type": "markdown",
   "id": "7ac5a0fc",
   "metadata": {
    "id": "7ac5a0fc"
   },
   "source": [
    "✅ Now, still using `.iloc`, return the same dataframe from above, without passing lists into `.iloc`.\n",
    "\n",
    "Hint 1: You can do slicing in `.iloc`.\n",
    "\n",
    "Hint 2: Remember that `.iloc` is right-exclusive."
   ]
  },
  {
   "cell_type": "code",
   "execution_count": 16,
   "id": "5e39fb19",
   "metadata": {
    "colab": {
     "base_uri": "https://localhost:8080/",
     "height": 142
    },
    "id": "5e39fb19",
    "outputId": "4607f424-90f7-4938-81ac-af35a293aac2"
   },
   "outputs": [
    {
     "data": {
      "text/html": [
       "<div>\n",
       "<style scoped>\n",
       "    .dataframe tbody tr th:only-of-type {\n",
       "        vertical-align: middle;\n",
       "    }\n",
       "\n",
       "    .dataframe tbody tr th {\n",
       "        vertical-align: top;\n",
       "    }\n",
       "\n",
       "    .dataframe thead th {\n",
       "        text-align: right;\n",
       "    }\n",
       "</style>\n",
       "<table border=\"1\" class=\"dataframe\">\n",
       "  <thead>\n",
       "    <tr style=\"text-align: right;\">\n",
       "      <th></th>\n",
       "      <th>index</th>\n",
       "      <th>raw_row_number</th>\n",
       "      <th>date</th>\n",
       "    </tr>\n",
       "  </thead>\n",
       "  <tbody>\n",
       "    <tr>\n",
       "      <th>1</th>\n",
       "      <td>492044</td>\n",
       "      <td>2001428</td>\n",
       "      <td>2015-01-19</td>\n",
       "    </tr>\n",
       "    <tr>\n",
       "      <th>2</th>\n",
       "      <td>431170</td>\n",
       "      <td>1996331</td>\n",
       "      <td>2015-01-15</td>\n",
       "    </tr>\n",
       "    <tr>\n",
       "      <th>3</th>\n",
       "      <td>2066423</td>\n",
       "      <td>1319451</td>\n",
       "      <td>2013-05-17</td>\n",
       "    </tr>\n",
       "  </tbody>\n",
       "</table>\n",
       "</div>"
      ],
      "text/plain": [
       "     index raw_row_number        date\n",
       "1   492044        2001428  2015-01-19\n",
       "2   431170        1996331  2015-01-15\n",
       "3  2066423        1319451  2013-05-17"
      ]
     },
     "execution_count": 16,
     "metadata": {},
     "output_type": "execute_result"
    }
   ],
   "source": [
    "### SOLUTION ###\n",
    "pandas_stops.iloc[1:4, 0:3]"
   ]
  },
  {
   "cell_type": "markdown",
   "id": "05f940e5",
   "metadata": {
    "id": "05f940e5"
   },
   "source": [
    "We can pass in single values into `.iloc`, which again returns a Series (not a DataFrame)."
   ]
  },
  {
   "cell_type": "code",
   "execution_count": 17,
   "id": "d7be24b0",
   "metadata": {
    "colab": {
     "base_uri": "https://localhost:8080/"
    },
    "id": "d7be24b0",
    "outputId": "09b4082d-a97c-48d7-b235-29455a2568a6"
   },
   "outputs": [
    {
     "data": {
      "text/plain": [
       "1    19920.0\n",
       "2     1020.0\n",
       "3    62760.0\n",
       "Name: time, dtype: float64"
      ]
     },
     "execution_count": 17,
     "metadata": {},
     "output_type": "execute_result"
    }
   ],
   "source": [
    "# Extracting rows at positions 1, 2, and 3 and just column at position 3.\n",
    "pandas_stops.iloc[[1,2,3], 3]"
   ]
  },
  {
   "cell_type": "code",
   "execution_count": 18,
   "id": "2c7a02e8",
   "metadata": {
    "colab": {
     "base_uri": "https://localhost:8080/",
     "height": 35
    },
    "id": "2c7a02e8",
    "outputId": "a598e687-95f2-4f4e-d6ea-3b6c663c4ed3"
   },
   "outputs": [
    {
     "data": {
      "text/plain": [
       "'2001428'"
      ]
     },
     "execution_count": 18,
     "metadata": {},
     "output_type": "execute_result"
    }
   ],
   "source": [
    "# Extracting a single value by selecting a single row in position 1 and a single column in position 1.\n",
    "pandas_stops.iloc[1, 1]"
   ]
  },
  {
   "cell_type": "markdown",
   "id": "b76ff98d",
   "metadata": {
    "id": "b76ff98d"
   },
   "source": [
    "`[ ]` is context-dependent. Unlike `.loc` (which selects items by label with the first argument being rows and the second argument being columns) and `.iloc` (which selects items by integer with the first argument being rows and the second argument being columns), `[ ]` only takes ONE argument."
   ]
  },
  {
   "cell_type": "markdown",
   "id": "9caa35ea",
   "metadata": {
    "id": "9caa35ea"
   },
   "source": [
    "The argument can be a slice of row numbers. Note that it is right exclusive. (This is like `datascience`'s `tbl.take()`)"
   ]
  },
  {
   "cell_type": "code",
   "execution_count": 19,
   "id": "eeadcc99",
   "metadata": {
    "colab": {
     "base_uri": "https://localhost:8080/",
     "height": 446
    },
    "id": "eeadcc99",
    "outputId": "ea5540c2-6103-4827-bf68-1587644f9e36"
   },
   "outputs": [
    {
     "data": {
      "text/html": [
       "<div>\n",
       "<style scoped>\n",
       "    .dataframe tbody tr th:only-of-type {\n",
       "        vertical-align: middle;\n",
       "    }\n",
       "\n",
       "    .dataframe tbody tr th {\n",
       "        vertical-align: top;\n",
       "    }\n",
       "\n",
       "    .dataframe thead th {\n",
       "        text-align: right;\n",
       "    }\n",
       "</style>\n",
       "<table border=\"1\" class=\"dataframe\">\n",
       "  <thead>\n",
       "    <tr style=\"text-align: right;\">\n",
       "      <th></th>\n",
       "      <th>index</th>\n",
       "      <th>raw_row_number</th>\n",
       "      <th>date</th>\n",
       "      <th>time</th>\n",
       "      <th>location</th>\n",
       "      <th>lat</th>\n",
       "      <th>lng</th>\n",
       "      <th>precinct</th>\n",
       "      <th>reporting_area</th>\n",
       "      <th>zone</th>\n",
       "      <th>...</th>\n",
       "      <th>raw_traffic_citation_issued</th>\n",
       "      <th>raw_misd_state_citation_issued</th>\n",
       "      <th>raw_suspect_ethnicity</th>\n",
       "      <th>raw_driver_searched</th>\n",
       "      <th>raw_passenger_searched</th>\n",
       "      <th>raw_search_consent</th>\n",
       "      <th>raw_search_arrest</th>\n",
       "      <th>raw_search_warrant</th>\n",
       "      <th>raw_search_inventory</th>\n",
       "      <th>raw_search_plain_view</th>\n",
       "    </tr>\n",
       "  </thead>\n",
       "  <tbody>\n",
       "    <tr>\n",
       "      <th>1</th>\n",
       "      <td>492044</td>\n",
       "      <td>2001428</td>\n",
       "      <td>2015-01-19</td>\n",
       "      <td>19920.0</td>\n",
       "      <td>DUE WEST AVE W &amp; S GRAYCROFT AVE, MADISON, TN,...</td>\n",
       "      <td>36.249187</td>\n",
       "      <td>-86.734459</td>\n",
       "      <td>7.0</td>\n",
       "      <td>1797.0</td>\n",
       "      <td>723.0</td>\n",
       "      <td>...</td>\n",
       "      <td>False</td>\n",
       "      <td>False</td>\n",
       "      <td>N</td>\n",
       "      <td>False</td>\n",
       "      <td>False</td>\n",
       "      <td>False</td>\n",
       "      <td>False</td>\n",
       "      <td>False</td>\n",
       "      <td>False</td>\n",
       "      <td>False</td>\n",
       "    </tr>\n",
       "    <tr>\n",
       "      <th>2</th>\n",
       "      <td>431170</td>\n",
       "      <td>1996331</td>\n",
       "      <td>2015-01-15</td>\n",
       "      <td>1020.0</td>\n",
       "      <td>S GALLATIN PIKE &amp; MADISON BLVD, MADISON, TN, 3...</td>\n",
       "      <td>36.254979</td>\n",
       "      <td>-86.715246</td>\n",
       "      <td>7.0</td>\n",
       "      <td>1623.0</td>\n",
       "      <td>711.0</td>\n",
       "      <td>...</td>\n",
       "      <td>False</td>\n",
       "      <td>False</td>\n",
       "      <td>N</td>\n",
       "      <td>False</td>\n",
       "      <td>False</td>\n",
       "      <td>False</td>\n",
       "      <td>False</td>\n",
       "      <td>False</td>\n",
       "      <td>False</td>\n",
       "      <td>False</td>\n",
       "    </tr>\n",
       "    <tr>\n",
       "      <th>3</th>\n",
       "      <td>2066423</td>\n",
       "      <td>1319451</td>\n",
       "      <td>2013-05-17</td>\n",
       "      <td>62760.0</td>\n",
       "      <td>CHARLOTTE PIKE &amp; W HILLWOOD DR, NASHVILLE, TN,...</td>\n",
       "      <td>36.139093</td>\n",
       "      <td>-86.880533</td>\n",
       "      <td>1.0</td>\n",
       "      <td>5009.0</td>\n",
       "      <td>123.0</td>\n",
       "      <td>...</td>\n",
       "      <td>False</td>\n",
       "      <td>False</td>\n",
       "      <td>N</td>\n",
       "      <td>False</td>\n",
       "      <td>False</td>\n",
       "      <td>False</td>\n",
       "      <td>False</td>\n",
       "      <td>False</td>\n",
       "      <td>False</td>\n",
       "      <td>False</td>\n",
       "    </tr>\n",
       "  </tbody>\n",
       "</table>\n",
       "<p>3 rows × 43 columns</p>\n",
       "</div>"
      ],
      "text/plain": [
       "     index raw_row_number        date     time  \\\n",
       "1   492044        2001428  2015-01-19  19920.0   \n",
       "2   431170        1996331  2015-01-15   1020.0   \n",
       "3  2066423        1319451  2013-05-17  62760.0   \n",
       "\n",
       "                                            location        lat        lng  \\\n",
       "1  DUE WEST AVE W & S GRAYCROFT AVE, MADISON, TN,...  36.249187 -86.734459   \n",
       "2  S GALLATIN PIKE & MADISON BLVD, MADISON, TN, 3...  36.254979 -86.715246   \n",
       "3  CHARLOTTE PIKE & W HILLWOOD DR, NASHVILLE, TN,...  36.139093 -86.880533   \n",
       "\n",
       "   precinct  reporting_area   zone  ...  raw_traffic_citation_issued  \\\n",
       "1       7.0          1797.0  723.0  ...                        False   \n",
       "2       7.0          1623.0  711.0  ...                        False   \n",
       "3       1.0          5009.0  123.0  ...                        False   \n",
       "\n",
       "  raw_misd_state_citation_issued raw_suspect_ethnicity raw_driver_searched  \\\n",
       "1                          False                     N               False   \n",
       "2                          False                     N               False   \n",
       "3                          False                     N               False   \n",
       "\n",
       "  raw_passenger_searched raw_search_consent  raw_search_arrest  \\\n",
       "1                  False              False              False   \n",
       "2                  False              False              False   \n",
       "3                  False              False              False   \n",
       "\n",
       "   raw_search_warrant  raw_search_inventory raw_search_plain_view  \n",
       "1               False                 False                 False  \n",
       "2               False                 False                 False  \n",
       "3               False                 False                 False  \n",
       "\n",
       "[3 rows x 43 columns]"
      ]
     },
     "execution_count": 19,
     "metadata": {},
     "output_type": "execute_result"
    }
   ],
   "source": [
    "# Grabbing rows 1 through 3\n",
    "pandas_stops[1:4]"
   ]
  },
  {
   "cell_type": "markdown",
   "id": "9aa367ea",
   "metadata": {
    "id": "9aa367ea"
   },
   "source": [
    "The argument can also be a list of column labels (all rows kept but only certain columns selected). This is like `datascience`'s `tbl.select()`."
   ]
  },
  {
   "cell_type": "code",
   "execution_count": 20,
   "id": "417616fb",
   "metadata": {
    "colab": {
     "base_uri": "https://localhost:8080/",
     "height": 419
    },
    "id": "417616fb",
    "outputId": "7ee9ba3b-4bd4-4dba-982e-79abcf9dca18"
   },
   "outputs": [
    {
     "data": {
      "text/html": [
       "<div>\n",
       "<style scoped>\n",
       "    .dataframe tbody tr th:only-of-type {\n",
       "        vertical-align: middle;\n",
       "    }\n",
       "\n",
       "    .dataframe tbody tr th {\n",
       "        vertical-align: top;\n",
       "    }\n",
       "\n",
       "    .dataframe thead th {\n",
       "        text-align: right;\n",
       "    }\n",
       "</style>\n",
       "<table border=\"1\" class=\"dataframe\">\n",
       "  <thead>\n",
       "    <tr style=\"text-align: right;\">\n",
       "      <th></th>\n",
       "      <th>date</th>\n",
       "      <th>time</th>\n",
       "      <th>location</th>\n",
       "    </tr>\n",
       "  </thead>\n",
       "  <tbody>\n",
       "    <tr>\n",
       "      <th>0</th>\n",
       "      <td>2010-04-18</td>\n",
       "      <td>13140.0</td>\n",
       "      <td>BURGESS AVE &amp; WHITE BRIDGE PIKE, NASHVILLE, TN...</td>\n",
       "    </tr>\n",
       "    <tr>\n",
       "      <th>1</th>\n",
       "      <td>2015-01-19</td>\n",
       "      <td>19920.0</td>\n",
       "      <td>DUE WEST AVE W &amp; S GRAYCROFT AVE, MADISON, TN,...</td>\n",
       "    </tr>\n",
       "    <tr>\n",
       "      <th>2</th>\n",
       "      <td>2015-01-15</td>\n",
       "      <td>1020.0</td>\n",
       "      <td>S GALLATIN PIKE &amp; MADISON BLVD, MADISON, TN, 3...</td>\n",
       "    </tr>\n",
       "    <tr>\n",
       "      <th>3</th>\n",
       "      <td>2013-05-17</td>\n",
       "      <td>62760.0</td>\n",
       "      <td>CHARLOTTE PIKE &amp; W HILLWOOD DR, NASHVILLE, TN,...</td>\n",
       "    </tr>\n",
       "    <tr>\n",
       "      <th>4</th>\n",
       "      <td>2010-09-01</td>\n",
       "      <td>28140.0</td>\n",
       "      <td>BELL RD &amp; DODSON CHAPEL RD, HERMITAGE, TN, 37076</td>\n",
       "    </tr>\n",
       "    <tr>\n",
       "      <th>...</th>\n",
       "      <td>...</td>\n",
       "      <td>...</td>\n",
       "      <td>...</td>\n",
       "    </tr>\n",
       "    <tr>\n",
       "      <th>995</th>\n",
       "      <td>2012-07-01</td>\n",
       "      <td>6360.0</td>\n",
       "      <td>17TH AVE S &amp; BROADWAY, NASHVILLE, TN, 37203</td>\n",
       "    </tr>\n",
       "    <tr>\n",
       "      <th>996</th>\n",
       "      <td>2012-01-10</td>\n",
       "      <td>65220.0</td>\n",
       "      <td>LINCOLN ST &amp; TRIMBLE ST, NASHVILLE, TN, 37210</td>\n",
       "    </tr>\n",
       "    <tr>\n",
       "      <th>997</th>\n",
       "      <td>2016-08-12</td>\n",
       "      <td>78420.0</td>\n",
       "      <td>MURFREESBORO PIKE &amp; PIN HOOK RD, ANTIOCH, TN, ...</td>\n",
       "    </tr>\n",
       "    <tr>\n",
       "      <th>998</th>\n",
       "      <td>2011-08-24</td>\n",
       "      <td>11460.0</td>\n",
       "      <td>819 S GALLATIN PIKE, MADISON, TN, 37115</td>\n",
       "    </tr>\n",
       "    <tr>\n",
       "      <th>999</th>\n",
       "      <td>2012-09-12</td>\n",
       "      <td>1920.0</td>\n",
       "      <td>DEBOW ST &amp; ROBINSON RD, OLD HICKORY, TN, 37138</td>\n",
       "    </tr>\n",
       "  </tbody>\n",
       "</table>\n",
       "<p>1000 rows × 3 columns</p>\n",
       "</div>"
      ],
      "text/plain": [
       "           date     time                                           location\n",
       "0    2010-04-18  13140.0  BURGESS AVE & WHITE BRIDGE PIKE, NASHVILLE, TN...\n",
       "1    2015-01-19  19920.0  DUE WEST AVE W & S GRAYCROFT AVE, MADISON, TN,...\n",
       "2    2015-01-15   1020.0  S GALLATIN PIKE & MADISON BLVD, MADISON, TN, 3...\n",
       "3    2013-05-17  62760.0  CHARLOTTE PIKE & W HILLWOOD DR, NASHVILLE, TN,...\n",
       "4    2010-09-01  28140.0   BELL RD & DODSON CHAPEL RD, HERMITAGE, TN, 37076\n",
       "..          ...      ...                                                ...\n",
       "995  2012-07-01   6360.0        17TH AVE S & BROADWAY, NASHVILLE, TN, 37203\n",
       "996  2012-01-10  65220.0      LINCOLN ST & TRIMBLE ST, NASHVILLE, TN, 37210\n",
       "997  2016-08-12  78420.0  MURFREESBORO PIKE & PIN HOOK RD, ANTIOCH, TN, ...\n",
       "998  2011-08-24  11460.0            819 S GALLATIN PIKE, MADISON, TN, 37115\n",
       "999  2012-09-12   1920.0     DEBOW ST & ROBINSON RD, OLD HICKORY, TN, 37138\n",
       "\n",
       "[1000 rows x 3 columns]"
      ]
     },
     "execution_count": 20,
     "metadata": {},
     "output_type": "execute_result"
    }
   ],
   "source": [
    "pandas_stops[[\"date\", \"time\", \"location\"]]"
   ]
  },
  {
   "cell_type": "markdown",
   "id": "ea67a193",
   "metadata": {
    "id": "ea67a193"
   },
   "source": [
    "The argument can also be a single column, which returns a Series. This is like `datascience`'s `tbl.column()`."
   ]
  },
  {
   "cell_type": "code",
   "execution_count": 21,
   "id": "ce4c5505",
   "metadata": {
    "colab": {
     "base_uri": "https://localhost:8080/"
    },
    "id": "ce4c5505",
    "outputId": "ab225d1a-5553-4663-d774-1d69d83f08c6"
   },
   "outputs": [
    {
     "data": {
      "text/plain": [
       "0      2010-04-18\n",
       "1      2015-01-19\n",
       "2      2015-01-15\n",
       "3      2013-05-17\n",
       "4      2010-09-01\n",
       "          ...    \n",
       "995    2012-07-01\n",
       "996    2012-01-10\n",
       "997    2016-08-12\n",
       "998    2011-08-24\n",
       "999    2012-09-12\n",
       "Name: date, Length: 1000, dtype: object"
      ]
     },
     "execution_count": 21,
     "metadata": {},
     "output_type": "execute_result"
    }
   ],
   "source": [
    "pandas_stops[\"date\"]"
   ]
  },
  {
   "cell_type": "markdown",
   "id": "e8935745",
   "metadata": {
    "id": "e8935745"
   },
   "source": [
    "#### IV. Filtering"
   ]
  },
  {
   "cell_type": "markdown",
   "id": "f50785c9",
   "metadata": {
    "id": "f50785c9"
   },
   "source": [
    "To filter a table such that we only keep certain values in it based on a given condition:\n",
    "- `datascience` uses `tbl.where` with a predicate (i.e. `are.below(x)`, `are.between_or_equal_to(x,y)`, etc.)\n",
    "- There are multiple ways to filter a Pandas DataFrame. We could use the `.loc` and `.iloc` functions above, but we could also use brackets (`df[df[condition]`) or the `df.query('column_name condition')` function."
   ]
  },
  {
   "cell_type": "markdown",
   "id": "10073fa8",
   "metadata": {
    "id": "10073fa8"
   },
   "source": [
    "**`datascience`**"
   ]
  },
  {
   "cell_type": "markdown",
   "id": "0402553b",
   "metadata": {
    "id": "0402553b"
   },
   "source": [
    "For the full list of `tbl.where` predicates, see: https://www.data8.org/fa23/reference/"
   ]
  },
  {
   "cell_type": "code",
   "execution_count": 22,
   "id": "372729fe",
   "metadata": {
    "colab": {
     "base_uri": "https://localhost:8080/",
     "height": 901
    },
    "id": "372729fe",
    "outputId": "ccf8daaa-18df-413b-e06d-0b511ad4fc4c"
   },
   "outputs": [
    {
     "data": {
      "text/html": [
       "<table border=\"1\" class=\"dataframe\">\n",
       "    <thead>\n",
       "        <tr>\n",
       "            <th>index</th> <th>raw_row_number</th> <th>date</th> <th>time</th> <th>location</th> <th>lat</th> <th>lng</th> <th>precinct</th> <th>reporting_area</th> <th>zone</th> <th>subject_age</th> <th>subject_race</th> <th>subject_sex</th> <th>officer_id_hash</th> <th>type</th> <th>violation</th> <th>arrest_made</th> <th>citation_issued</th> <th>warning_issued</th> <th>outcome</th> <th>contraband_found</th> <th>contraband_drugs</th> <th>contraband_weapons</th> <th>frisk_performed</th> <th>search_conducted</th> <th>search_person</th> <th>search_vehicle</th> <th>search_basis</th> <th>reason_for_stop</th> <th>vehicle_registration_state</th> <th>notes</th> <th>raw_verbal_warning_issued</th> <th>raw_written_warning_issued</th> <th>raw_traffic_citation_issued</th> <th>raw_misd_state_citation_issued</th> <th>raw_suspect_ethnicity</th> <th>raw_driver_searched</th> <th>raw_passenger_searched</th> <th>raw_search_consent</th> <th>raw_search_arrest</th> <th>raw_search_warrant</th> <th>raw_search_inventory</th> <th>raw_search_plain_view</th>\n",
       "        </tr>\n",
       "    </thead>\n",
       "    <tbody>\n",
       "        <tr>\n",
       "            <td>492044 </td> <td>2001428       </td> <td>2015-01-19</td> <td>19920</td> <td>DUE WEST AVE W & S GRAYCROFT AVE, MADISON, TN, 37115      </td> <td>36.2492</td> <td>-86.7345</td> <td>7       </td> <td>1797          </td> <td>723 </td> <td>45         </td> <td>black                 </td> <td>female     </td> <td>2d9b91c2d2     </td> <td>vehicular</td> <td>vehicle equipment violation</td> <td>False      </td> <td>False          </td> <td>True          </td> <td>warning </td> <td>nan             </td> <td>nan             </td> <td>nan               </td> <td>False          </td> <td>False           </td> <td>False        </td> <td>False         </td> <td>nan         </td> <td>vehicle equipment violation</td> <td>TN                        </td> <td>tail light out</td> <td>True                     </td> <td>0                         </td> <td>False                      </td> <td>0                             </td> <td>N                    </td> <td>False              </td> <td>False                 </td> <td>False             </td> <td>False            </td> <td>False             </td> <td>False               </td> <td>False                </td>\n",
       "        </tr>\n",
       "        <tr>\n",
       "            <td>2899480</td> <td>201349        </td> <td>2010-09-01</td> <td>28140</td> <td>BELL RD & DODSON CHAPEL RD, HERMITAGE, TN, 37076          </td> <td>36.1633</td> <td>-86.6131</td> <td>5       </td> <td>9501          </td> <td>521 </td> <td>53         </td> <td>white                 </td> <td>female     </td> <td>fc43f6017d     </td> <td>vehicular</td> <td>moving traffic violation   </td> <td>False      </td> <td>False          </td> <td>True          </td> <td>warning </td> <td>nan             </td> <td>nan             </td> <td>nan               </td> <td>False          </td> <td>False           </td> <td>False        </td> <td>False         </td> <td>nan         </td> <td>moving traffic violation   </td> <td>TN                        </td> <td>nan           </td> <td>True                     </td> <td>0                         </td> <td>False                      </td> <td>nan                           </td> <td>N                    </td> <td>False              </td> <td>False                 </td> <td>False             </td> <td>False            </td> <td>False             </td> <td>False               </td> <td>False                </td>\n",
       "        </tr>\n",
       "        <tr>\n",
       "            <td>1036418</td> <td>2826256       </td> <td>2017-09-25</td> <td>75600</td> <td>6TH AVE S & LAFAYETTE ST, NASHVILLE, TN, 37203            </td> <td>36.1533</td> <td>-86.7757</td> <td>4       </td> <td>4039          </td> <td>425 </td> <td>58         </td> <td>white                 </td> <td>female     </td> <td>a7a90aec7d     </td> <td>vehicular</td> <td>moving traffic violation   </td> <td>False      </td> <td>False          </td> <td>True          </td> <td>warning </td> <td>nan             </td> <td>nan             </td> <td>nan               </td> <td>False          </td> <td>False           </td> <td>False        </td> <td>False         </td> <td>nan         </td> <td>moving traffic violation   </td> <td>TN                        </td> <td>nan           </td> <td>True                     </td> <td>nan                       </td> <td>False                      </td> <td>0                             </td> <td>N                    </td> <td>False              </td> <td>False                 </td> <td>False             </td> <td>False            </td> <td>False             </td> <td>False               </td> <td>False                </td>\n",
       "        </tr>\n",
       "        <tr>\n",
       "            <td>889536 </td> <td>2679164       </td> <td>2017-02-24</td> <td>33600</td> <td>BRILEY PKWY N & MCGAVOCK PIKE, NASHVILLE, TN, 37214       </td> <td>36.2173</td> <td>-86.6933</td> <td>5       </td> <td>92941         </td> <td>515 </td> <td>44         </td> <td>white                 </td> <td>female     </td> <td>53d89d125a     </td> <td>vehicular</td> <td>moving traffic violation   </td> <td>False      </td> <td>False          </td> <td>True          </td> <td>warning </td> <td>nan             </td> <td>nan             </td> <td>nan               </td> <td>False          </td> <td>False           </td> <td>False        </td> <td>False         </td> <td>nan         </td> <td>moving traffic violation   </td> <td>KY                        </td> <td>nan           </td> <td>True                     </td> <td>nan                       </td> <td>False                      </td> <td>0                             </td> <td>N                    </td> <td>False              </td> <td>False                 </td> <td>False             </td> <td>False            </td> <td>False             </td> <td>False               </td> <td>False                </td>\n",
       "        </tr>\n",
       "        <tr>\n",
       "            <td>2200690</td> <td>104718        </td> <td>2010-05-06</td> <td>47280</td> <td>ELYSIAN FIELDS RD & NOLENSVILLE PIKE, NASHVILLE, TN, 37211</td> <td>36.0869</td> <td>-86.7302</td> <td>nan     </td> <td>nan           </td> <td>nan </td> <td>37         </td> <td>other                 </td> <td>male       </td> <td>5966fe24c8     </td> <td>vehicular</td> <td>moving traffic violation   </td> <td>False      </td> <td>True           </td> <td>False         </td> <td>citation</td> <td>nan             </td> <td>nan             </td> <td>nan               </td> <td>False          </td> <td>False           </td> <td>False        </td> <td>False         </td> <td>nan         </td> <td>moving traffic violation   </td> <td>TN                        </td> <td>nan           </td> <td>False                    </td> <td>0                         </td> <td>True                       </td> <td>nan                           </td> <td>N                    </td> <td>False              </td> <td>False                 </td> <td>False             </td> <td>False            </td> <td>False             </td> <td>False               </td> <td>False                </td>\n",
       "        </tr>\n",
       "        <tr>\n",
       "            <td>1083267</td> <td>2873186       </td> <td>2017-12-12</td> <td>78180</td> <td>MILLWOOD DR & MURFREESBORO PIKE, NASHVILLE, TN, 37217     </td> <td>36.1295</td> <td>-86.7147</td> <td>5       </td> <td>8815          </td> <td>531 </td> <td>43         </td> <td>asian/pacific islander</td> <td>male       </td> <td>97117e47ab     </td> <td>vehicular</td> <td>vehicle equipment violation</td> <td>False      </td> <td>False          </td> <td>True          </td> <td>warning </td> <td>nan             </td> <td>nan             </td> <td>nan               </td> <td>False          </td> <td>False           </td> <td>False        </td> <td>False         </td> <td>nan         </td> <td>vehicle equipment violation</td> <td>TN                        </td> <td>nan           </td> <td>True                     </td> <td>nan                       </td> <td>False                      </td> <td>0                             </td> <td>N                    </td> <td>False              </td> <td>False                 </td> <td>False             </td> <td>False            </td> <td>False             </td> <td>False               </td> <td>False                </td>\n",
       "        </tr>\n",
       "        <tr>\n",
       "            <td>877329 </td> <td>2666942       </td> <td>2017-02-09</td> <td>12960</td> <td>BRICK CHURCH PIKE & W TRINITY LN, NASHVILLE, TN, 37207    </td> <td>36.2067</td> <td>-86.778 </td> <td>6       </td> <td>3007          </td> <td>621 </td> <td>41         </td> <td>black                 </td> <td>male       </td> <td>81ffb8487e     </td> <td>vehicular</td> <td>vehicle equipment violation</td> <td>False      </td> <td>False          </td> <td>True          </td> <td>warning </td> <td>nan             </td> <td>nan             </td> <td>nan               </td> <td>False          </td> <td>False           </td> <td>False        </td> <td>False         </td> <td>nan         </td> <td>vehicle equipment violation</td> <td>TN                        </td> <td>nan           </td> <td>True                     </td> <td>nan                       </td> <td>False                      </td> <td>0                             </td> <td>N                    </td> <td>False              </td> <td>False                 </td> <td>False             </td> <td>False            </td> <td>False             </td> <td>False               </td> <td>False                </td>\n",
       "        </tr>\n",
       "        <tr>\n",
       "            <td>337803 </td> <td>1522789       </td> <td>2013-11-22</td> <td>57000</td> <td>26TH AVE N & CHARLOTTE AVE, NASHVILLE, TN, 37209          </td> <td>36.1545</td> <td>-86.8155</td> <td>6       </td> <td>5315          </td> <td>615 </td> <td>62         </td> <td>black                 </td> <td>male       </td> <td>41a15946a7     </td> <td>vehicular</td> <td>registration               </td> <td>False      </td> <td>False          </td> <td>True          </td> <td>warning </td> <td>nan             </td> <td>nan             </td> <td>nan               </td> <td>False          </td> <td>False           </td> <td>False        </td> <td>False         </td> <td>nan         </td> <td>registration               </td> <td>TN                        </td> <td>nan           </td> <td>True                     </td> <td>0                         </td> <td>False                      </td> <td>0                             </td> <td>N                    </td> <td>False              </td> <td>False                 </td> <td>False             </td> <td>False            </td> <td>False             </td> <td>False               </td> <td>False                </td>\n",
       "        </tr>\n",
       "        <tr>\n",
       "            <td>1563352</td> <td>2055265       </td> <td>2015-03-13</td> <td>31140</td> <td>49TH AVE N & CHARLOTTE AVE, NASHVILLE, TN, 37209          </td> <td>36.1521</td> <td>-86.846 </td> <td>1       </td> <td>5129          </td> <td>113 </td> <td>53         </td> <td>black                 </td> <td>female     </td> <td>2699ef149f     </td> <td>vehicular</td> <td>vehicle equipment violation</td> <td>False      </td> <td>False          </td> <td>True          </td> <td>warning </td> <td>nan             </td> <td>nan             </td> <td>nan               </td> <td>False          </td> <td>False           </td> <td>False        </td> <td>False         </td> <td>nan         </td> <td>vehicle equipment violation</td> <td>TN                        </td> <td>nan           </td> <td>True                     </td> <td>0                         </td> <td>False                      </td> <td>0                             </td> <td>N                    </td> <td>False              </td> <td>False                 </td> <td>False             </td> <td>False            </td> <td>False             </td> <td>False               </td> <td>False                </td>\n",
       "        </tr>\n",
       "        <tr>\n",
       "            <td>2106123</td> <td>1720890       </td> <td>2014-05-02</td> <td>32460</td> <td>BRICK CHURCH PIKE & FERNCO DR, NASHVILLE, TN, 37207       </td> <td>36.2199</td> <td>-86.7823</td> <td>6       </td> <td>3047          </td> <td>621 </td> <td>46         </td> <td>white                 </td> <td>male       </td> <td>0c43101255     </td> <td>vehicular</td> <td>moving traffic violation   </td> <td>False      </td> <td>False          </td> <td>True          </td> <td>warning </td> <td>nan             </td> <td>nan             </td> <td>nan               </td> <td>False          </td> <td>False           </td> <td>False        </td> <td>False         </td> <td>nan         </td> <td>moving traffic violation   </td> <td>TN                        </td> <td>nan           </td> <td>True                     </td> <td>0                         </td> <td>False                      </td> <td>0                             </td> <td>N                    </td> <td>False              </td> <td>False                 </td> <td>False             </td> <td>False            </td> <td>False             </td> <td>False               </td> <td>False                </td>\n",
       "        </tr>\n",
       "    </tbody>\n",
       "</table>\n",
       "<p>... (444 rows omitted)</p>"
      ],
      "text/plain": [
       "index   | raw_row_number | date       | time  | location                                                   | lat     | lng      | precinct | reporting_area | zone | subject_age | subject_race           | subject_sex | officer_id_hash | type      | violation                   | arrest_made | citation_issued | warning_issued | outcome  | contraband_found | contraband_drugs | contraband_weapons | frisk_performed | search_conducted | search_person | search_vehicle | search_basis | reason_for_stop             | vehicle_registration_state | notes          | raw_verbal_warning_issued | raw_written_warning_issued | raw_traffic_citation_issued | raw_misd_state_citation_issued | raw_suspect_ethnicity | raw_driver_searched | raw_passenger_searched | raw_search_consent | raw_search_arrest | raw_search_warrant | raw_search_inventory | raw_search_plain_view\n",
       "492044  | 2001428        | 2015-01-19 | 19920 | DUE WEST AVE W & S GRAYCROFT AVE, MADISON, TN, 37115       | 36.2492 | -86.7345 | 7        | 1797           | 723  | 45          | black                  | female      | 2d9b91c2d2      | vehicular | vehicle equipment violation | False       | False           | True           | warning  | nan              | nan              | nan                | False           | False            | False         | False          | nan          | vehicle equipment violation | TN                         | tail light out | True                      | 0                          | False                       | 0                              | N                     | False               | False                  | False              | False             | False              | False                | False\n",
       "2899480 | 201349         | 2010-09-01 | 28140 | BELL RD & DODSON CHAPEL RD, HERMITAGE, TN, 37076           | 36.1633 | -86.6131 | 5        | 9501           | 521  | 53          | white                  | female      | fc43f6017d      | vehicular | moving traffic violation    | False       | False           | True           | warning  | nan              | nan              | nan                | False           | False            | False         | False          | nan          | moving traffic violation    | TN                         | nan            | True                      | 0                          | False                       | nan                            | N                     | False               | False                  | False              | False             | False              | False                | False\n",
       "1036418 | 2826256        | 2017-09-25 | 75600 | 6TH AVE S & LAFAYETTE ST, NASHVILLE, TN, 37203             | 36.1533 | -86.7757 | 4        | 4039           | 425  | 58          | white                  | female      | a7a90aec7d      | vehicular | moving traffic violation    | False       | False           | True           | warning  | nan              | nan              | nan                | False           | False            | False         | False          | nan          | moving traffic violation    | TN                         | nan            | True                      | nan                        | False                       | 0                              | N                     | False               | False                  | False              | False             | False              | False                | False\n",
       "889536  | 2679164        | 2017-02-24 | 33600 | BRILEY PKWY N & MCGAVOCK PIKE, NASHVILLE, TN, 37214        | 36.2173 | -86.6933 | 5        | 92941          | 515  | 44          | white                  | female      | 53d89d125a      | vehicular | moving traffic violation    | False       | False           | True           | warning  | nan              | nan              | nan                | False           | False            | False         | False          | nan          | moving traffic violation    | KY                         | nan            | True                      | nan                        | False                       | 0                              | N                     | False               | False                  | False              | False             | False              | False                | False\n",
       "2200690 | 104718         | 2010-05-06 | 47280 | ELYSIAN FIELDS RD & NOLENSVILLE PIKE, NASHVILLE, TN, 37211 | 36.0869 | -86.7302 | nan      | nan            | nan  | 37          | other                  | male        | 5966fe24c8      | vehicular | moving traffic violation    | False       | True            | False          | citation | nan              | nan              | nan                | False           | False            | False         | False          | nan          | moving traffic violation    | TN                         | nan            | False                     | 0                          | True                        | nan                            | N                     | False               | False                  | False              | False             | False              | False                | False\n",
       "1083267 | 2873186        | 2017-12-12 | 78180 | MILLWOOD DR & MURFREESBORO PIKE, NASHVILLE, TN, 37217      | 36.1295 | -86.7147 | 5        | 8815           | 531  | 43          | asian/pacific islander | male        | 97117e47ab      | vehicular | vehicle equipment violation | False       | False           | True           | warning  | nan              | nan              | nan                | False           | False            | False         | False          | nan          | vehicle equipment violation | TN                         | nan            | True                      | nan                        | False                       | 0                              | N                     | False               | False                  | False              | False             | False              | False                | False\n",
       "877329  | 2666942        | 2017-02-09 | 12960 | BRICK CHURCH PIKE & W TRINITY LN, NASHVILLE, TN, 37207     | 36.2067 | -86.778  | 6        | 3007           | 621  | 41          | black                  | male        | 81ffb8487e      | vehicular | vehicle equipment violation | False       | False           | True           | warning  | nan              | nan              | nan                | False           | False            | False         | False          | nan          | vehicle equipment violation | TN                         | nan            | True                      | nan                        | False                       | 0                              | N                     | False               | False                  | False              | False             | False              | False                | False\n",
       "337803  | 1522789        | 2013-11-22 | 57000 | 26TH AVE N & CHARLOTTE AVE, NASHVILLE, TN, 37209           | 36.1545 | -86.8155 | 6        | 5315           | 615  | 62          | black                  | male        | 41a15946a7      | vehicular | registration                | False       | False           | True           | warning  | nan              | nan              | nan                | False           | False            | False         | False          | nan          | registration                | TN                         | nan            | True                      | 0                          | False                       | 0                              | N                     | False               | False                  | False              | False             | False              | False                | False\n",
       "1563352 | 2055265        | 2015-03-13 | 31140 | 49TH AVE N & CHARLOTTE AVE, NASHVILLE, TN, 37209           | 36.1521 | -86.846  | 1        | 5129           | 113  | 53          | black                  | female      | 2699ef149f      | vehicular | vehicle equipment violation | False       | False           | True           | warning  | nan              | nan              | nan                | False           | False            | False         | False          | nan          | vehicle equipment violation | TN                         | nan            | True                      | 0                          | False                       | 0                              | N                     | False               | False                  | False              | False             | False              | False                | False\n",
       "2106123 | 1720890        | 2014-05-02 | 32460 | BRICK CHURCH PIKE & FERNCO DR, NASHVILLE, TN, 37207        | 36.2199 | -86.7823 | 6        | 3047           | 621  | 46          | white                  | male        | 0c43101255      | vehicular | moving traffic violation    | False       | False           | True           | warning  | nan              | nan              | nan                | False           | False            | False         | False          | nan          | moving traffic violation    | TN                         | nan            | True                      | 0                          | False                       | 0                              | N                     | False               | False                  | False              | False             | False              | False                | False\n",
       "... (444 rows omitted)"
      ]
     },
     "execution_count": 22,
     "metadata": {},
     "output_type": "execute_result"
    }
   ],
   "source": [
    "# Return a copy of the Table with only the stops where the person was older than 35.\n",
    "datascience_stops.where(\"subject_age\", are.above(35))"
   ]
  },
  {
   "cell_type": "markdown",
   "id": "ca0914c1",
   "metadata": {
    "id": "ca0914c1"
   },
   "source": [
    "**Pandas**"
   ]
  },
  {
   "cell_type": "markdown",
   "id": "2162d615",
   "metadata": {
    "id": "2162d615"
   },
   "source": [
    "*   We can use brackets to filter a dataframe on a certain condition. Available operators are == (equal), != (not equal to), >, >=, <, and <=.\n",
    "*   For instance, `df[df[column_name] condition]` will return a filtered version of the dataframe where that column satisfies the condition."
   ]
  },
  {
   "cell_type": "code",
   "execution_count": 23,
   "id": "96a61e42",
   "metadata": {
    "colab": {
     "base_uri": "https://localhost:8080/",
     "height": 412
    },
    "id": "96a61e42",
    "outputId": "b9e6cd8c-6fa8-404a-c0ab-f22fad391402"
   },
   "outputs": [
    {
     "data": {
      "text/html": [
       "<div>\n",
       "<style scoped>\n",
       "    .dataframe tbody tr th:only-of-type {\n",
       "        vertical-align: middle;\n",
       "    }\n",
       "\n",
       "    .dataframe tbody tr th {\n",
       "        vertical-align: top;\n",
       "    }\n",
       "\n",
       "    .dataframe thead th {\n",
       "        text-align: right;\n",
       "    }\n",
       "</style>\n",
       "<table border=\"1\" class=\"dataframe\">\n",
       "  <thead>\n",
       "    <tr style=\"text-align: right;\">\n",
       "      <th></th>\n",
       "      <th>index</th>\n",
       "      <th>raw_row_number</th>\n",
       "      <th>date</th>\n",
       "      <th>time</th>\n",
       "      <th>location</th>\n",
       "      <th>lat</th>\n",
       "      <th>lng</th>\n",
       "      <th>precinct</th>\n",
       "      <th>reporting_area</th>\n",
       "      <th>zone</th>\n",
       "      <th>...</th>\n",
       "      <th>raw_traffic_citation_issued</th>\n",
       "      <th>raw_misd_state_citation_issued</th>\n",
       "      <th>raw_suspect_ethnicity</th>\n",
       "      <th>raw_driver_searched</th>\n",
       "      <th>raw_passenger_searched</th>\n",
       "      <th>raw_search_consent</th>\n",
       "      <th>raw_search_arrest</th>\n",
       "      <th>raw_search_warrant</th>\n",
       "      <th>raw_search_inventory</th>\n",
       "      <th>raw_search_plain_view</th>\n",
       "    </tr>\n",
       "  </thead>\n",
       "  <tbody>\n",
       "    <tr>\n",
       "      <th>1</th>\n",
       "      <td>492044</td>\n",
       "      <td>2001428</td>\n",
       "      <td>2015-01-19</td>\n",
       "      <td>19920.0</td>\n",
       "      <td>DUE WEST AVE W &amp; S GRAYCROFT AVE, MADISON, TN,...</td>\n",
       "      <td>36.249187</td>\n",
       "      <td>-86.734459</td>\n",
       "      <td>7.0</td>\n",
       "      <td>1797.0</td>\n",
       "      <td>723.0</td>\n",
       "      <td>...</td>\n",
       "      <td>False</td>\n",
       "      <td>False</td>\n",
       "      <td>N</td>\n",
       "      <td>False</td>\n",
       "      <td>False</td>\n",
       "      <td>False</td>\n",
       "      <td>False</td>\n",
       "      <td>False</td>\n",
       "      <td>False</td>\n",
       "      <td>False</td>\n",
       "    </tr>\n",
       "    <tr>\n",
       "      <th>4</th>\n",
       "      <td>2899480</td>\n",
       "      <td>201349</td>\n",
       "      <td>2010-09-01</td>\n",
       "      <td>28140.0</td>\n",
       "      <td>BELL RD &amp; DODSON CHAPEL RD, HERMITAGE, TN, 37076</td>\n",
       "      <td>36.163310</td>\n",
       "      <td>-86.613147</td>\n",
       "      <td>5.0</td>\n",
       "      <td>9501.0</td>\n",
       "      <td>521.0</td>\n",
       "      <td>...</td>\n",
       "      <td>False</td>\n",
       "      <td>NaN</td>\n",
       "      <td>N</td>\n",
       "      <td>False</td>\n",
       "      <td>False</td>\n",
       "      <td>False</td>\n",
       "      <td>False</td>\n",
       "      <td>False</td>\n",
       "      <td>False</td>\n",
       "      <td>False</td>\n",
       "    </tr>\n",
       "    <tr>\n",
       "      <th>8</th>\n",
       "      <td>1036418</td>\n",
       "      <td>2826256</td>\n",
       "      <td>2017-09-25</td>\n",
       "      <td>75600.0</td>\n",
       "      <td>6TH AVE S &amp; LAFAYETTE ST, NASHVILLE, TN, 37203</td>\n",
       "      <td>36.153309</td>\n",
       "      <td>-86.775682</td>\n",
       "      <td>4.0</td>\n",
       "      <td>4039.0</td>\n",
       "      <td>425.0</td>\n",
       "      <td>...</td>\n",
       "      <td>False</td>\n",
       "      <td>False</td>\n",
       "      <td>N</td>\n",
       "      <td>False</td>\n",
       "      <td>False</td>\n",
       "      <td>False</td>\n",
       "      <td>False</td>\n",
       "      <td>False</td>\n",
       "      <td>False</td>\n",
       "      <td>False</td>\n",
       "    </tr>\n",
       "  </tbody>\n",
       "</table>\n",
       "<p>3 rows × 43 columns</p>\n",
       "</div>"
      ],
      "text/plain": [
       "     index raw_row_number        date     time  \\\n",
       "1   492044        2001428  2015-01-19  19920.0   \n",
       "4  2899480         201349  2010-09-01  28140.0   \n",
       "8  1036418        2826256  2017-09-25  75600.0   \n",
       "\n",
       "                                            location        lat        lng  \\\n",
       "1  DUE WEST AVE W & S GRAYCROFT AVE, MADISON, TN,...  36.249187 -86.734459   \n",
       "4   BELL RD & DODSON CHAPEL RD, HERMITAGE, TN, 37076  36.163310 -86.613147   \n",
       "8     6TH AVE S & LAFAYETTE ST, NASHVILLE, TN, 37203  36.153309 -86.775682   \n",
       "\n",
       "   precinct  reporting_area   zone  ...  raw_traffic_citation_issued  \\\n",
       "1       7.0          1797.0  723.0  ...                        False   \n",
       "4       5.0          9501.0  521.0  ...                        False   \n",
       "8       4.0          4039.0  425.0  ...                        False   \n",
       "\n",
       "  raw_misd_state_citation_issued raw_suspect_ethnicity raw_driver_searched  \\\n",
       "1                          False                     N               False   \n",
       "4                            NaN                     N               False   \n",
       "8                          False                     N               False   \n",
       "\n",
       "  raw_passenger_searched raw_search_consent  raw_search_arrest  \\\n",
       "1                  False              False              False   \n",
       "4                  False              False              False   \n",
       "8                  False              False              False   \n",
       "\n",
       "   raw_search_warrant  raw_search_inventory raw_search_plain_view  \n",
       "1               False                 False                 False  \n",
       "4               False                 False                 False  \n",
       "8               False                 False                 False  \n",
       "\n",
       "[3 rows x 43 columns]"
      ]
     },
     "execution_count": 23,
     "metadata": {},
     "output_type": "execute_result"
    }
   ],
   "source": [
    "# Return a dataframe with only the stops where the person was older than 35,\n",
    "# using brackets: df[df[column_name] condition]\n",
    "filtered = pandas_stops[pandas_stops[\"subject_age\"] > 35]\n",
    "filtered.head(3)"
   ]
  },
  {
   "cell_type": "markdown",
   "id": "dac20265",
   "metadata": {
    "id": "dac20265"
   },
   "source": [
    "* To filter by multiple conditions, use the & symbol between conditional statements."
   ]
  },
  {
   "cell_type": "markdown",
   "id": "NjshdZnD65MU",
   "metadata": {
    "id": "NjshdZnD65MU"
   },
   "source": [
    "✅ Filter the dataframe so that it has only the stops where the person was older than 35 and the person was white."
   ]
  },
  {
   "cell_type": "code",
   "execution_count": 24,
   "id": "57c36468",
   "metadata": {
    "colab": {
     "base_uri": "https://localhost:8080/",
     "height": 644
    },
    "id": "57c36468",
    "outputId": "a98fc71c-e05b-474d-9d3f-1d8305fa2722"
   },
   "outputs": [
    {
     "data": {
      "text/html": [
       "<div>\n",
       "<style scoped>\n",
       "    .dataframe tbody tr th:only-of-type {\n",
       "        vertical-align: middle;\n",
       "    }\n",
       "\n",
       "    .dataframe tbody tr th {\n",
       "        vertical-align: top;\n",
       "    }\n",
       "\n",
       "    .dataframe thead th {\n",
       "        text-align: right;\n",
       "    }\n",
       "</style>\n",
       "<table border=\"1\" class=\"dataframe\">\n",
       "  <thead>\n",
       "    <tr style=\"text-align: right;\">\n",
       "      <th></th>\n",
       "      <th>index</th>\n",
       "      <th>raw_row_number</th>\n",
       "      <th>date</th>\n",
       "      <th>time</th>\n",
       "      <th>location</th>\n",
       "      <th>lat</th>\n",
       "      <th>lng</th>\n",
       "      <th>precinct</th>\n",
       "      <th>reporting_area</th>\n",
       "      <th>zone</th>\n",
       "      <th>...</th>\n",
       "      <th>raw_traffic_citation_issued</th>\n",
       "      <th>raw_misd_state_citation_issued</th>\n",
       "      <th>raw_suspect_ethnicity</th>\n",
       "      <th>raw_driver_searched</th>\n",
       "      <th>raw_passenger_searched</th>\n",
       "      <th>raw_search_consent</th>\n",
       "      <th>raw_search_arrest</th>\n",
       "      <th>raw_search_warrant</th>\n",
       "      <th>raw_search_inventory</th>\n",
       "      <th>raw_search_plain_view</th>\n",
       "    </tr>\n",
       "  </thead>\n",
       "  <tbody>\n",
       "    <tr>\n",
       "      <th>4</th>\n",
       "      <td>2899480</td>\n",
       "      <td>201349</td>\n",
       "      <td>2010-09-01</td>\n",
       "      <td>28140.0</td>\n",
       "      <td>BELL RD &amp; DODSON CHAPEL RD, HERMITAGE, TN, 37076</td>\n",
       "      <td>36.163310</td>\n",
       "      <td>-86.613147</td>\n",
       "      <td>5.0</td>\n",
       "      <td>9501.0</td>\n",
       "      <td>521.0</td>\n",
       "      <td>...</td>\n",
       "      <td>False</td>\n",
       "      <td>NaN</td>\n",
       "      <td>N</td>\n",
       "      <td>False</td>\n",
       "      <td>False</td>\n",
       "      <td>False</td>\n",
       "      <td>False</td>\n",
       "      <td>False</td>\n",
       "      <td>False</td>\n",
       "      <td>False</td>\n",
       "    </tr>\n",
       "    <tr>\n",
       "      <th>8</th>\n",
       "      <td>1036418</td>\n",
       "      <td>2826256</td>\n",
       "      <td>2017-09-25</td>\n",
       "      <td>75600.0</td>\n",
       "      <td>6TH AVE S &amp; LAFAYETTE ST, NASHVILLE, TN, 37203</td>\n",
       "      <td>36.153309</td>\n",
       "      <td>-86.775682</td>\n",
       "      <td>4.0</td>\n",
       "      <td>4039.0</td>\n",
       "      <td>425.0</td>\n",
       "      <td>...</td>\n",
       "      <td>False</td>\n",
       "      <td>False</td>\n",
       "      <td>N</td>\n",
       "      <td>False</td>\n",
       "      <td>False</td>\n",
       "      <td>False</td>\n",
       "      <td>False</td>\n",
       "      <td>False</td>\n",
       "      <td>False</td>\n",
       "      <td>False</td>\n",
       "    </tr>\n",
       "    <tr>\n",
       "      <th>9</th>\n",
       "      <td>889536</td>\n",
       "      <td>2679164</td>\n",
       "      <td>2017-02-24</td>\n",
       "      <td>33600.0</td>\n",
       "      <td>BRILEY PKWY N &amp; MCGAVOCK PIKE, NASHVILLE, TN, ...</td>\n",
       "      <td>36.217310</td>\n",
       "      <td>-86.693259</td>\n",
       "      <td>5.0</td>\n",
       "      <td>92941.0</td>\n",
       "      <td>515.0</td>\n",
       "      <td>...</td>\n",
       "      <td>False</td>\n",
       "      <td>False</td>\n",
       "      <td>N</td>\n",
       "      <td>False</td>\n",
       "      <td>False</td>\n",
       "      <td>False</td>\n",
       "      <td>False</td>\n",
       "      <td>False</td>\n",
       "      <td>False</td>\n",
       "      <td>False</td>\n",
       "    </tr>\n",
       "    <tr>\n",
       "      <th>27</th>\n",
       "      <td>2106123</td>\n",
       "      <td>1720890</td>\n",
       "      <td>2014-05-02</td>\n",
       "      <td>32460.0</td>\n",
       "      <td>BRICK CHURCH PIKE &amp; FERNCO DR, NASHVILLE, TN, ...</td>\n",
       "      <td>36.219947</td>\n",
       "      <td>-86.782303</td>\n",
       "      <td>6.0</td>\n",
       "      <td>3047.0</td>\n",
       "      <td>621.0</td>\n",
       "      <td>...</td>\n",
       "      <td>False</td>\n",
       "      <td>False</td>\n",
       "      <td>N</td>\n",
       "      <td>False</td>\n",
       "      <td>False</td>\n",
       "      <td>False</td>\n",
       "      <td>False</td>\n",
       "      <td>False</td>\n",
       "      <td>False</td>\n",
       "      <td>False</td>\n",
       "    </tr>\n",
       "    <tr>\n",
       "      <th>28</th>\n",
       "      <td>2804967</td>\n",
       "      <td>993808</td>\n",
       "      <td>2012-08-27</td>\n",
       "      <td>68820.0</td>\n",
       "      <td>EDWARDS AVE &amp; HART LN, NASHVILLE, TN, 37216</td>\n",
       "      <td>36.216866</td>\n",
       "      <td>-86.739579</td>\n",
       "      <td>2.0</td>\n",
       "      <td>1847.0</td>\n",
       "      <td>225.0</td>\n",
       "      <td>...</td>\n",
       "      <td>False</td>\n",
       "      <td>False</td>\n",
       "      <td>N</td>\n",
       "      <td>False</td>\n",
       "      <td>False</td>\n",
       "      <td>False</td>\n",
       "      <td>False</td>\n",
       "      <td>False</td>\n",
       "      <td>False</td>\n",
       "      <td>False</td>\n",
       "    </tr>\n",
       "  </tbody>\n",
       "</table>\n",
       "<p>5 rows × 43 columns</p>\n",
       "</div>"
      ],
      "text/plain": [
       "      index raw_row_number        date     time  \\\n",
       "4   2899480         201349  2010-09-01  28140.0   \n",
       "8   1036418        2826256  2017-09-25  75600.0   \n",
       "9    889536        2679164  2017-02-24  33600.0   \n",
       "27  2106123        1720890  2014-05-02  32460.0   \n",
       "28  2804967         993808  2012-08-27  68820.0   \n",
       "\n",
       "                                             location        lat        lng  \\\n",
       "4    BELL RD & DODSON CHAPEL RD, HERMITAGE, TN, 37076  36.163310 -86.613147   \n",
       "8      6TH AVE S & LAFAYETTE ST, NASHVILLE, TN, 37203  36.153309 -86.775682   \n",
       "9   BRILEY PKWY N & MCGAVOCK PIKE, NASHVILLE, TN, ...  36.217310 -86.693259   \n",
       "27  BRICK CHURCH PIKE & FERNCO DR, NASHVILLE, TN, ...  36.219947 -86.782303   \n",
       "28        EDWARDS AVE & HART LN, NASHVILLE, TN, 37216  36.216866 -86.739579   \n",
       "\n",
       "    precinct  reporting_area   zone  ...  raw_traffic_citation_issued  \\\n",
       "4        5.0          9501.0  521.0  ...                        False   \n",
       "8        4.0          4039.0  425.0  ...                        False   \n",
       "9        5.0         92941.0  515.0  ...                        False   \n",
       "27       6.0          3047.0  621.0  ...                        False   \n",
       "28       2.0          1847.0  225.0  ...                        False   \n",
       "\n",
       "   raw_misd_state_citation_issued raw_suspect_ethnicity raw_driver_searched  \\\n",
       "4                             NaN                     N               False   \n",
       "8                           False                     N               False   \n",
       "9                           False                     N               False   \n",
       "27                          False                     N               False   \n",
       "28                          False                     N               False   \n",
       "\n",
       "   raw_passenger_searched raw_search_consent  raw_search_arrest  \\\n",
       "4                   False              False              False   \n",
       "8                   False              False              False   \n",
       "9                   False              False              False   \n",
       "27                  False              False              False   \n",
       "28                  False              False              False   \n",
       "\n",
       "    raw_search_warrant  raw_search_inventory raw_search_plain_view  \n",
       "4                False                 False                 False  \n",
       "8                False                 False                 False  \n",
       "9                False                 False                 False  \n",
       "27               False                 False                 False  \n",
       "28               False                 False                 False  \n",
       "\n",
       "[5 rows x 43 columns]"
      ]
     },
     "execution_count": 24,
     "metadata": {},
     "output_type": "execute_result"
    }
   ],
   "source": [
    "### SOLUTION ###\n",
    "filtered = pandas_stops[(pandas_stops[\"subject_age\"] > 35) & (pandas_stops[\"subject_race\"]==\"white\")]\n",
    "filtered.head(5)"
   ]
  },
  {
   "cell_type": "markdown",
   "id": "c3ef2acf",
   "metadata": {
    "id": "c3ef2acf"
   },
   "source": [
    "We can also use the `df.query` function to do the same things as above. We put everything in quotes inside of the query function."
   ]
  },
  {
   "cell_type": "code",
   "execution_count": 25,
   "id": "06c23039",
   "metadata": {
    "colab": {
     "base_uri": "https://localhost:8080/",
     "height": 627
    },
    "id": "06c23039",
    "outputId": "1f241788-328d-48fe-9455-969dd9ba4ef8"
   },
   "outputs": [
    {
     "data": {
      "text/html": [
       "<div>\n",
       "<style scoped>\n",
       "    .dataframe tbody tr th:only-of-type {\n",
       "        vertical-align: middle;\n",
       "    }\n",
       "\n",
       "    .dataframe tbody tr th {\n",
       "        vertical-align: top;\n",
       "    }\n",
       "\n",
       "    .dataframe thead th {\n",
       "        text-align: right;\n",
       "    }\n",
       "</style>\n",
       "<table border=\"1\" class=\"dataframe\">\n",
       "  <thead>\n",
       "    <tr style=\"text-align: right;\">\n",
       "      <th></th>\n",
       "      <th>index</th>\n",
       "      <th>raw_row_number</th>\n",
       "      <th>date</th>\n",
       "      <th>time</th>\n",
       "      <th>location</th>\n",
       "      <th>lat</th>\n",
       "      <th>lng</th>\n",
       "      <th>precinct</th>\n",
       "      <th>reporting_area</th>\n",
       "      <th>zone</th>\n",
       "      <th>...</th>\n",
       "      <th>raw_traffic_citation_issued</th>\n",
       "      <th>raw_misd_state_citation_issued</th>\n",
       "      <th>raw_suspect_ethnicity</th>\n",
       "      <th>raw_driver_searched</th>\n",
       "      <th>raw_passenger_searched</th>\n",
       "      <th>raw_search_consent</th>\n",
       "      <th>raw_search_arrest</th>\n",
       "      <th>raw_search_warrant</th>\n",
       "      <th>raw_search_inventory</th>\n",
       "      <th>raw_search_plain_view</th>\n",
       "    </tr>\n",
       "  </thead>\n",
       "  <tbody>\n",
       "    <tr>\n",
       "      <th>1</th>\n",
       "      <td>492044</td>\n",
       "      <td>2001428</td>\n",
       "      <td>2015-01-19</td>\n",
       "      <td>19920.0</td>\n",
       "      <td>DUE WEST AVE W &amp; S GRAYCROFT AVE, MADISON, TN,...</td>\n",
       "      <td>36.249187</td>\n",
       "      <td>-86.734459</td>\n",
       "      <td>7.0</td>\n",
       "      <td>1797.0</td>\n",
       "      <td>723.0</td>\n",
       "      <td>...</td>\n",
       "      <td>False</td>\n",
       "      <td>False</td>\n",
       "      <td>N</td>\n",
       "      <td>False</td>\n",
       "      <td>False</td>\n",
       "      <td>False</td>\n",
       "      <td>False</td>\n",
       "      <td>False</td>\n",
       "      <td>False</td>\n",
       "      <td>False</td>\n",
       "    </tr>\n",
       "    <tr>\n",
       "      <th>4</th>\n",
       "      <td>2899480</td>\n",
       "      <td>201349</td>\n",
       "      <td>2010-09-01</td>\n",
       "      <td>28140.0</td>\n",
       "      <td>BELL RD &amp; DODSON CHAPEL RD, HERMITAGE, TN, 37076</td>\n",
       "      <td>36.163310</td>\n",
       "      <td>-86.613147</td>\n",
       "      <td>5.0</td>\n",
       "      <td>9501.0</td>\n",
       "      <td>521.0</td>\n",
       "      <td>...</td>\n",
       "      <td>False</td>\n",
       "      <td>NaN</td>\n",
       "      <td>N</td>\n",
       "      <td>False</td>\n",
       "      <td>False</td>\n",
       "      <td>False</td>\n",
       "      <td>False</td>\n",
       "      <td>False</td>\n",
       "      <td>False</td>\n",
       "      <td>False</td>\n",
       "    </tr>\n",
       "    <tr>\n",
       "      <th>8</th>\n",
       "      <td>1036418</td>\n",
       "      <td>2826256</td>\n",
       "      <td>2017-09-25</td>\n",
       "      <td>75600.0</td>\n",
       "      <td>6TH AVE S &amp; LAFAYETTE ST, NASHVILLE, TN, 37203</td>\n",
       "      <td>36.153309</td>\n",
       "      <td>-86.775682</td>\n",
       "      <td>4.0</td>\n",
       "      <td>4039.0</td>\n",
       "      <td>425.0</td>\n",
       "      <td>...</td>\n",
       "      <td>False</td>\n",
       "      <td>False</td>\n",
       "      <td>N</td>\n",
       "      <td>False</td>\n",
       "      <td>False</td>\n",
       "      <td>False</td>\n",
       "      <td>False</td>\n",
       "      <td>False</td>\n",
       "      <td>False</td>\n",
       "      <td>False</td>\n",
       "    </tr>\n",
       "    <tr>\n",
       "      <th>9</th>\n",
       "      <td>889536</td>\n",
       "      <td>2679164</td>\n",
       "      <td>2017-02-24</td>\n",
       "      <td>33600.0</td>\n",
       "      <td>BRILEY PKWY N &amp; MCGAVOCK PIKE, NASHVILLE, TN, ...</td>\n",
       "      <td>36.217310</td>\n",
       "      <td>-86.693259</td>\n",
       "      <td>5.0</td>\n",
       "      <td>92941.0</td>\n",
       "      <td>515.0</td>\n",
       "      <td>...</td>\n",
       "      <td>False</td>\n",
       "      <td>False</td>\n",
       "      <td>N</td>\n",
       "      <td>False</td>\n",
       "      <td>False</td>\n",
       "      <td>False</td>\n",
       "      <td>False</td>\n",
       "      <td>False</td>\n",
       "      <td>False</td>\n",
       "      <td>False</td>\n",
       "    </tr>\n",
       "    <tr>\n",
       "      <th>13</th>\n",
       "      <td>2200690</td>\n",
       "      <td>104718</td>\n",
       "      <td>2010-05-06</td>\n",
       "      <td>47280.0</td>\n",
       "      <td>ELYSIAN FIELDS RD &amp; NOLENSVILLE PIKE, NASHVILL...</td>\n",
       "      <td>36.086891</td>\n",
       "      <td>-86.730210</td>\n",
       "      <td>NaN</td>\n",
       "      <td>NaN</td>\n",
       "      <td>NaN</td>\n",
       "      <td>...</td>\n",
       "      <td>True</td>\n",
       "      <td>NaN</td>\n",
       "      <td>N</td>\n",
       "      <td>False</td>\n",
       "      <td>False</td>\n",
       "      <td>False</td>\n",
       "      <td>False</td>\n",
       "      <td>False</td>\n",
       "      <td>False</td>\n",
       "      <td>False</td>\n",
       "    </tr>\n",
       "    <tr>\n",
       "      <th>...</th>\n",
       "      <td>...</td>\n",
       "      <td>...</td>\n",
       "      <td>...</td>\n",
       "      <td>...</td>\n",
       "      <td>...</td>\n",
       "      <td>...</td>\n",
       "      <td>...</td>\n",
       "      <td>...</td>\n",
       "      <td>...</td>\n",
       "      <td>...</td>\n",
       "      <td>...</td>\n",
       "      <td>...</td>\n",
       "      <td>...</td>\n",
       "      <td>...</td>\n",
       "      <td>...</td>\n",
       "      <td>...</td>\n",
       "      <td>...</td>\n",
       "      <td>...</td>\n",
       "      <td>...</td>\n",
       "      <td>...</td>\n",
       "      <td>...</td>\n",
       "    </tr>\n",
       "    <tr>\n",
       "      <th>989</th>\n",
       "      <td>2138911</td>\n",
       "      <td>884262</td>\n",
       "      <td>2012-05-26</td>\n",
       "      <td>67200.0</td>\n",
       "      <td>HARDING PL &amp; NOLENSVILLE PIKE, NASHVILLE, TN, ...</td>\n",
       "      <td>36.079630</td>\n",
       "      <td>-86.726407</td>\n",
       "      <td>8.0</td>\n",
       "      <td>8501.0</td>\n",
       "      <td>831.0</td>\n",
       "      <td>...</td>\n",
       "      <td>False</td>\n",
       "      <td>False</td>\n",
       "      <td>N</td>\n",
       "      <td>False</td>\n",
       "      <td>False</td>\n",
       "      <td>False</td>\n",
       "      <td>False</td>\n",
       "      <td>False</td>\n",
       "      <td>False</td>\n",
       "      <td>False</td>\n",
       "    </tr>\n",
       "    <tr>\n",
       "      <th>993</th>\n",
       "      <td>276405</td>\n",
       "      <td>1088845</td>\n",
       "      <td>2012-11-16</td>\n",
       "      <td>68400.0</td>\n",
       "      <td>ELM ST &amp; LAFAYETTE ST, NASHVILLE, TN, 37203</td>\n",
       "      <td>36.152611</td>\n",
       "      <td>-86.773667</td>\n",
       "      <td>4.0</td>\n",
       "      <td>4039.0</td>\n",
       "      <td>425.0</td>\n",
       "      <td>...</td>\n",
       "      <td>False</td>\n",
       "      <td>False</td>\n",
       "      <td>N</td>\n",
       "      <td>False</td>\n",
       "      <td>False</td>\n",
       "      <td>False</td>\n",
       "      <td>False</td>\n",
       "      <td>False</td>\n",
       "      <td>False</td>\n",
       "      <td>False</td>\n",
       "    </tr>\n",
       "    <tr>\n",
       "      <th>994</th>\n",
       "      <td>703996</td>\n",
       "      <td>1184847</td>\n",
       "      <td>2013-01-25</td>\n",
       "      <td>40860.0</td>\n",
       "      <td>BRILEY PKWY N &amp; ELM HILL PIKE, NASHVILLE, TN, ...</td>\n",
       "      <td>36.153834</td>\n",
       "      <td>-86.685459</td>\n",
       "      <td>5.0</td>\n",
       "      <td>9196.0</td>\n",
       "      <td>513.0</td>\n",
       "      <td>...</td>\n",
       "      <td>False</td>\n",
       "      <td>False</td>\n",
       "      <td>N</td>\n",
       "      <td>False</td>\n",
       "      <td>False</td>\n",
       "      <td>False</td>\n",
       "      <td>False</td>\n",
       "      <td>False</td>\n",
       "      <td>False</td>\n",
       "      <td>False</td>\n",
       "    </tr>\n",
       "    <tr>\n",
       "      <th>996</th>\n",
       "      <td>211168</td>\n",
       "      <td>1145747</td>\n",
       "      <td>2012-01-10</td>\n",
       "      <td>65220.0</td>\n",
       "      <td>LINCOLN ST &amp; TRIMBLE ST, NASHVILLE, TN, 37210</td>\n",
       "      <td>36.146199</td>\n",
       "      <td>-86.760518</td>\n",
       "      <td>3.0</td>\n",
       "      <td>8145.0</td>\n",
       "      <td>311.0</td>\n",
       "      <td>...</td>\n",
       "      <td>True</td>\n",
       "      <td>True</td>\n",
       "      <td>N</td>\n",
       "      <td>True</td>\n",
       "      <td>True</td>\n",
       "      <td>True</td>\n",
       "      <td>False</td>\n",
       "      <td>False</td>\n",
       "      <td>False</td>\n",
       "      <td>False</td>\n",
       "    </tr>\n",
       "    <tr>\n",
       "      <th>997</th>\n",
       "      <td>2697517</td>\n",
       "      <td>2534242</td>\n",
       "      <td>2016-08-12</td>\n",
       "      <td>78420.0</td>\n",
       "      <td>MURFREESBORO PIKE &amp; PIN HOOK RD, ANTIOCH, TN, ...</td>\n",
       "      <td>36.050494</td>\n",
       "      <td>-86.614764</td>\n",
       "      <td>3.0</td>\n",
       "      <td>8927.0</td>\n",
       "      <td>335.0</td>\n",
       "      <td>...</td>\n",
       "      <td>False</td>\n",
       "      <td>False</td>\n",
       "      <td>N</td>\n",
       "      <td>False</td>\n",
       "      <td>False</td>\n",
       "      <td>False</td>\n",
       "      <td>False</td>\n",
       "      <td>False</td>\n",
       "      <td>False</td>\n",
       "      <td>False</td>\n",
       "    </tr>\n",
       "  </tbody>\n",
       "</table>\n",
       "<p>454 rows × 43 columns</p>\n",
       "</div>"
      ],
      "text/plain": [
       "       index raw_row_number        date     time  \\\n",
       "1     492044        2001428  2015-01-19  19920.0   \n",
       "4    2899480         201349  2010-09-01  28140.0   \n",
       "8    1036418        2826256  2017-09-25  75600.0   \n",
       "9     889536        2679164  2017-02-24  33600.0   \n",
       "13   2200690         104718  2010-05-06  47280.0   \n",
       "..       ...            ...         ...      ...   \n",
       "989  2138911         884262  2012-05-26  67200.0   \n",
       "993   276405        1088845  2012-11-16  68400.0   \n",
       "994   703996        1184847  2013-01-25  40860.0   \n",
       "996   211168        1145747  2012-01-10  65220.0   \n",
       "997  2697517        2534242  2016-08-12  78420.0   \n",
       "\n",
       "                                              location        lat        lng  \\\n",
       "1    DUE WEST AVE W & S GRAYCROFT AVE, MADISON, TN,...  36.249187 -86.734459   \n",
       "4     BELL RD & DODSON CHAPEL RD, HERMITAGE, TN, 37076  36.163310 -86.613147   \n",
       "8       6TH AVE S & LAFAYETTE ST, NASHVILLE, TN, 37203  36.153309 -86.775682   \n",
       "9    BRILEY PKWY N & MCGAVOCK PIKE, NASHVILLE, TN, ...  36.217310 -86.693259   \n",
       "13   ELYSIAN FIELDS RD & NOLENSVILLE PIKE, NASHVILL...  36.086891 -86.730210   \n",
       "..                                                 ...        ...        ...   \n",
       "989  HARDING PL & NOLENSVILLE PIKE, NASHVILLE, TN, ...  36.079630 -86.726407   \n",
       "993        ELM ST & LAFAYETTE ST, NASHVILLE, TN, 37203  36.152611 -86.773667   \n",
       "994  BRILEY PKWY N & ELM HILL PIKE, NASHVILLE, TN, ...  36.153834 -86.685459   \n",
       "996      LINCOLN ST & TRIMBLE ST, NASHVILLE, TN, 37210  36.146199 -86.760518   \n",
       "997  MURFREESBORO PIKE & PIN HOOK RD, ANTIOCH, TN, ...  36.050494 -86.614764   \n",
       "\n",
       "     precinct  reporting_area   zone  ...  raw_traffic_citation_issued  \\\n",
       "1         7.0          1797.0  723.0  ...                        False   \n",
       "4         5.0          9501.0  521.0  ...                        False   \n",
       "8         4.0          4039.0  425.0  ...                        False   \n",
       "9         5.0         92941.0  515.0  ...                        False   \n",
       "13        NaN             NaN    NaN  ...                         True   \n",
       "..        ...             ...    ...  ...                          ...   \n",
       "989       8.0          8501.0  831.0  ...                        False   \n",
       "993       4.0          4039.0  425.0  ...                        False   \n",
       "994       5.0          9196.0  513.0  ...                        False   \n",
       "996       3.0          8145.0  311.0  ...                         True   \n",
       "997       3.0          8927.0  335.0  ...                        False   \n",
       "\n",
       "    raw_misd_state_citation_issued raw_suspect_ethnicity raw_driver_searched  \\\n",
       "1                            False                     N               False   \n",
       "4                              NaN                     N               False   \n",
       "8                            False                     N               False   \n",
       "9                            False                     N               False   \n",
       "13                             NaN                     N               False   \n",
       "..                             ...                   ...                 ...   \n",
       "989                          False                     N               False   \n",
       "993                          False                     N               False   \n",
       "994                          False                     N               False   \n",
       "996                           True                     N                True   \n",
       "997                          False                     N               False   \n",
       "\n",
       "    raw_passenger_searched raw_search_consent  raw_search_arrest  \\\n",
       "1                    False              False              False   \n",
       "4                    False              False              False   \n",
       "8                    False              False              False   \n",
       "9                    False              False              False   \n",
       "13                   False              False              False   \n",
       "..                     ...                ...                ...   \n",
       "989                  False              False              False   \n",
       "993                  False              False              False   \n",
       "994                  False              False              False   \n",
       "996                   True               True              False   \n",
       "997                  False              False              False   \n",
       "\n",
       "     raw_search_warrant  raw_search_inventory raw_search_plain_view  \n",
       "1                 False                 False                 False  \n",
       "4                 False                 False                 False  \n",
       "8                 False                 False                 False  \n",
       "9                 False                 False                 False  \n",
       "13                False                 False                 False  \n",
       "..                  ...                   ...                   ...  \n",
       "989               False                 False                 False  \n",
       "993               False                 False                 False  \n",
       "994               False                 False                 False  \n",
       "996               False                 False                 False  \n",
       "997               False                 False                 False  \n",
       "\n",
       "[454 rows x 43 columns]"
      ]
     },
     "execution_count": 25,
     "metadata": {},
     "output_type": "execute_result"
    }
   ],
   "source": [
    "# Filtering the dataframe with only the stops where the person was older than 35, using the query function\n",
    "filtered = pandas_stops.query(\"subject_age > 35\")\n",
    "filtered"
   ]
  },
  {
   "cell_type": "markdown",
   "id": "6bf7a38f",
   "metadata": {
    "id": "6bf7a38f"
   },
   "source": [
    "#### V. Grouping"
   ]
  },
  {
   "cell_type": "markdown",
   "id": "86a7bdec",
   "metadata": {
    "id": "86a7bdec"
   },
   "source": [
    "To group rows by unique values or combinations of values:\n",
    "- `datascience` uses `tbl.group(column_or_columns, function)`\n",
    "    - By default, the function used is count (if nothing else is passed in).\n",
    "- Pandas uses `df.groupby(column_name).function()`\n",
    "\n",
    "[Here's an additional resource](https://www.data8.org/interactive_table_functions/) from Data 8 for understanding how grouping (as well as pivoting) works!"
   ]
  },
  {
   "cell_type": "code",
   "execution_count": 26,
   "id": "36fc8520",
   "metadata": {
    "colab": {
     "base_uri": "https://localhost:8080/",
     "height": 266
    },
    "id": "36fc8520",
    "outputId": "7c05eb12-857f-4222-d179-d82cc4c82a1e"
   },
   "outputs": [
    {
     "data": {
      "text/html": [
       "<table border=\"1\" class=\"dataframe\">\n",
       "    <thead>\n",
       "        <tr>\n",
       "            <th>subject_race</th> <th>count</th>\n",
       "        </tr>\n",
       "    </thead>\n",
       "    <tbody>\n",
       "        <tr>\n",
       "            <td>asian/pacific islander</td> <td>20   </td>\n",
       "        </tr>\n",
       "        <tr>\n",
       "            <td>black                 </td> <td>389  </td>\n",
       "        </tr>\n",
       "        <tr>\n",
       "            <td>hispanic              </td> <td>55   </td>\n",
       "        </tr>\n",
       "        <tr>\n",
       "            <td>other                 </td> <td>6    </td>\n",
       "        </tr>\n",
       "        <tr>\n",
       "            <td>unknown               </td> <td>12   </td>\n",
       "        </tr>\n",
       "        <tr>\n",
       "            <td>white                 </td> <td>518  </td>\n",
       "        </tr>\n",
       "    </tbody>\n",
       "</table>"
      ],
      "text/plain": [
       "subject_race           | count\n",
       "asian/pacific islander | 20\n",
       "black                  | 389\n",
       "hispanic               | 55\n",
       "other                  | 6\n",
       "unknown                | 12\n",
       "white                  | 518"
      ]
     },
     "execution_count": 26,
     "metadata": {},
     "output_type": "execute_result"
    }
   ],
   "source": [
    "# Grouping the table by race (gives us a table that counts the number of stops for each precinct by defualt)\n",
    "ds_race_grouped = datascience_stops.group(\"subject_race\")\n",
    "ds_race_grouped"
   ]
  },
  {
   "cell_type": "code",
   "execution_count": 27,
   "id": "144049ad",
   "metadata": {
    "colab": {
     "base_uri": "https://localhost:8080/",
     "height": 266
    },
    "id": "144049ad",
    "outputId": "c1ef06c2-2dda-46c7-b0a2-a2ba000b608b"
   },
   "outputs": [
    {
     "data": {
      "text/html": [
       "<table border=\"1\" class=\"dataframe\">\n",
       "    <thead>\n",
       "        <tr>\n",
       "            <th>subject_race</th> <th>count</th>\n",
       "        </tr>\n",
       "    </thead>\n",
       "    <tbody>\n",
       "        <tr>\n",
       "            <td>white                 </td> <td>518  </td>\n",
       "        </tr>\n",
       "        <tr>\n",
       "            <td>black                 </td> <td>389  </td>\n",
       "        </tr>\n",
       "        <tr>\n",
       "            <td>hispanic              </td> <td>55   </td>\n",
       "        </tr>\n",
       "        <tr>\n",
       "            <td>asian/pacific islander</td> <td>20   </td>\n",
       "        </tr>\n",
       "        <tr>\n",
       "            <td>unknown               </td> <td>12   </td>\n",
       "        </tr>\n",
       "        <tr>\n",
       "            <td>other                 </td> <td>6    </td>\n",
       "        </tr>\n",
       "    </tbody>\n",
       "</table>"
      ],
      "text/plain": [
       "subject_race           | count\n",
       "white                  | 518\n",
       "black                  | 389\n",
       "hispanic               | 55\n",
       "asian/pacific islander | 20\n",
       "unknown                | 12\n",
       "other                  | 6"
      ]
     },
     "execution_count": 27,
     "metadata": {},
     "output_type": "execute_result"
    }
   ],
   "source": [
    "# Note: to sort a table, we use tbl.sort(column_name, descending=True/False)\n",
    "ds_race_sorted = ds_race_grouped.sort(\"count\", descending=True)\n",
    "ds_race_sorted"
   ]
  },
  {
   "cell_type": "markdown",
   "id": "xBe0_WuIN8_A",
   "metadata": {
    "id": "xBe0_WuIN8_A"
   },
   "source": [
    "Now let's do this in pandas."
   ]
  },
  {
   "cell_type": "code",
   "execution_count": 28,
   "id": "cfc432a7",
   "metadata": {
    "colab": {
     "base_uri": "https://localhost:8080/"
    },
    "id": "cfc432a7",
    "outputId": "4c1bbebf-85e2-4971-b638-e62de9611195"
   },
   "outputs": [
    {
     "data": {
      "text/plain": [
       "subject_race\n",
       "asian/pacific islander     20\n",
       "black                     389\n",
       "hispanic                   55\n",
       "other                       6\n",
       "unknown                    12\n",
       "white                     518\n",
       "dtype: int64"
      ]
     },
     "execution_count": 28,
     "metadata": {},
     "output_type": "execute_result"
    }
   ],
   "source": [
    "# Grouping the dataframe by precinct\n",
    "race_pandas_series = pandas_stops.groupby(\"subject_race\").size()\n",
    "race_pandas_series"
   ]
  },
  {
   "cell_type": "markdown",
   "id": "RjNCiDUy9lNx",
   "metadata": {
    "id": "RjNCiDUy9lNx"
   },
   "source": [
    "Notice how it returns a Series. To convert the returned series into a dataframe, we're going to be using `.to_frame()`. We also rename this column to \"Count\" using `.rename()` ."
   ]
  },
  {
   "cell_type": "code",
   "execution_count": 29,
   "id": "11ccc037",
   "metadata": {
    "colab": {
     "base_uri": "https://localhost:8080/",
     "height": 269
    },
    "id": "11ccc037",
    "outputId": "e3fa1301-0c8f-4ddd-8e82-04cebb713029"
   },
   "outputs": [
    {
     "data": {
      "text/html": [
       "<div>\n",
       "<style scoped>\n",
       "    .dataframe tbody tr th:only-of-type {\n",
       "        vertical-align: middle;\n",
       "    }\n",
       "\n",
       "    .dataframe tbody tr th {\n",
       "        vertical-align: top;\n",
       "    }\n",
       "\n",
       "    .dataframe thead th {\n",
       "        text-align: right;\n",
       "    }\n",
       "</style>\n",
       "<table border=\"1\" class=\"dataframe\">\n",
       "  <thead>\n",
       "    <tr style=\"text-align: right;\">\n",
       "      <th></th>\n",
       "      <th>Count</th>\n",
       "    </tr>\n",
       "    <tr>\n",
       "      <th>subject_race</th>\n",
       "      <th></th>\n",
       "    </tr>\n",
       "  </thead>\n",
       "  <tbody>\n",
       "    <tr>\n",
       "      <th>asian/pacific islander</th>\n",
       "      <td>20</td>\n",
       "    </tr>\n",
       "    <tr>\n",
       "      <th>black</th>\n",
       "      <td>389</td>\n",
       "    </tr>\n",
       "    <tr>\n",
       "      <th>hispanic</th>\n",
       "      <td>55</td>\n",
       "    </tr>\n",
       "    <tr>\n",
       "      <th>other</th>\n",
       "      <td>6</td>\n",
       "    </tr>\n",
       "    <tr>\n",
       "      <th>unknown</th>\n",
       "      <td>12</td>\n",
       "    </tr>\n",
       "    <tr>\n",
       "      <th>white</th>\n",
       "      <td>518</td>\n",
       "    </tr>\n",
       "  </tbody>\n",
       "</table>\n",
       "</div>"
      ],
      "text/plain": [
       "                        Count\n",
       "subject_race                 \n",
       "asian/pacific islander     20\n",
       "black                     389\n",
       "hispanic                   55\n",
       "other                       6\n",
       "unknown                    12\n",
       "white                     518"
      ]
     },
     "execution_count": 29,
     "metadata": {},
     "output_type": "execute_result"
    }
   ],
   "source": [
    "race_grouped_frame = race_pandas_series.to_frame().rename({0: \"Count\"}, axis = 1)\n",
    "race_grouped_frame"
   ]
  },
  {
   "cell_type": "markdown",
   "id": "Yh6nzjrR92YO",
   "metadata": {
    "id": "Yh6nzjrR92YO"
   },
   "source": [
    "Pandas `.to_frame()` makes the grouped column the index of our dataframe. If we don't want this, we can use `.reset_index()`."
   ]
  },
  {
   "cell_type": "code",
   "execution_count": 30,
   "id": "10437e12",
   "metadata": {
    "colab": {
     "base_uri": "https://localhost:8080/",
     "height": 238
    },
    "id": "10437e12",
    "outputId": "467f1fd4-74d8-44db-ee47-d1020e3a8ebe"
   },
   "outputs": [
    {
     "data": {
      "text/html": [
       "<div>\n",
       "<style scoped>\n",
       "    .dataframe tbody tr th:only-of-type {\n",
       "        vertical-align: middle;\n",
       "    }\n",
       "\n",
       "    .dataframe tbody tr th {\n",
       "        vertical-align: top;\n",
       "    }\n",
       "\n",
       "    .dataframe thead th {\n",
       "        text-align: right;\n",
       "    }\n",
       "</style>\n",
       "<table border=\"1\" class=\"dataframe\">\n",
       "  <thead>\n",
       "    <tr style=\"text-align: right;\">\n",
       "      <th></th>\n",
       "      <th>subject_race</th>\n",
       "      <th>Count</th>\n",
       "    </tr>\n",
       "  </thead>\n",
       "  <tbody>\n",
       "    <tr>\n",
       "      <th>0</th>\n",
       "      <td>asian/pacific islander</td>\n",
       "      <td>20</td>\n",
       "    </tr>\n",
       "    <tr>\n",
       "      <th>1</th>\n",
       "      <td>black</td>\n",
       "      <td>389</td>\n",
       "    </tr>\n",
       "    <tr>\n",
       "      <th>2</th>\n",
       "      <td>hispanic</td>\n",
       "      <td>55</td>\n",
       "    </tr>\n",
       "    <tr>\n",
       "      <th>3</th>\n",
       "      <td>other</td>\n",
       "      <td>6</td>\n",
       "    </tr>\n",
       "    <tr>\n",
       "      <th>4</th>\n",
       "      <td>unknown</td>\n",
       "      <td>12</td>\n",
       "    </tr>\n",
       "    <tr>\n",
       "      <th>5</th>\n",
       "      <td>white</td>\n",
       "      <td>518</td>\n",
       "    </tr>\n",
       "  </tbody>\n",
       "</table>\n",
       "</div>"
      ],
      "text/plain": [
       "             subject_race  Count\n",
       "0  asian/pacific islander     20\n",
       "1                   black    389\n",
       "2                hispanic     55\n",
       "3                   other      6\n",
       "4                 unknown     12\n",
       "5                   white    518"
      ]
     },
     "execution_count": 30,
     "metadata": {},
     "output_type": "execute_result"
    }
   ],
   "source": [
    "race_grouped_frame = race_grouped_frame.reset_index()\n",
    "race_grouped_frame"
   ]
  },
  {
   "cell_type": "markdown",
   "id": "djXEEpMH-Ljq",
   "metadata": {
    "id": "djXEEpMH-Ljq"
   },
   "source": [
    "✅ Sort the above dataframe based on the count (column named \"Count\" in our dataframe) in descending order.\n",
    "\n",
    "Hint: To sort in Pandas, we use `.sort_values(column_name, ascending = True/False`."
   ]
  },
  {
   "cell_type": "code",
   "execution_count": 31,
   "id": "37480478",
   "metadata": {
    "colab": {
     "base_uri": "https://localhost:8080/",
     "height": 238
    },
    "id": "37480478",
    "outputId": "87476a6c-688e-47f6-95ce-b6ccce4e8022"
   },
   "outputs": [
    {
     "data": {
      "text/html": [
       "<div>\n",
       "<style scoped>\n",
       "    .dataframe tbody tr th:only-of-type {\n",
       "        vertical-align: middle;\n",
       "    }\n",
       "\n",
       "    .dataframe tbody tr th {\n",
       "        vertical-align: top;\n",
       "    }\n",
       "\n",
       "    .dataframe thead th {\n",
       "        text-align: right;\n",
       "    }\n",
       "</style>\n",
       "<table border=\"1\" class=\"dataframe\">\n",
       "  <thead>\n",
       "    <tr style=\"text-align: right;\">\n",
       "      <th></th>\n",
       "      <th>subject_race</th>\n",
       "      <th>Count</th>\n",
       "    </tr>\n",
       "  </thead>\n",
       "  <tbody>\n",
       "    <tr>\n",
       "      <th>5</th>\n",
       "      <td>white</td>\n",
       "      <td>518</td>\n",
       "    </tr>\n",
       "    <tr>\n",
       "      <th>1</th>\n",
       "      <td>black</td>\n",
       "      <td>389</td>\n",
       "    </tr>\n",
       "    <tr>\n",
       "      <th>2</th>\n",
       "      <td>hispanic</td>\n",
       "      <td>55</td>\n",
       "    </tr>\n",
       "    <tr>\n",
       "      <th>0</th>\n",
       "      <td>asian/pacific islander</td>\n",
       "      <td>20</td>\n",
       "    </tr>\n",
       "    <tr>\n",
       "      <th>4</th>\n",
       "      <td>unknown</td>\n",
       "      <td>12</td>\n",
       "    </tr>\n",
       "    <tr>\n",
       "      <th>3</th>\n",
       "      <td>other</td>\n",
       "      <td>6</td>\n",
       "    </tr>\n",
       "  </tbody>\n",
       "</table>\n",
       "</div>"
      ],
      "text/plain": [
       "             subject_race  Count\n",
       "5                   white    518\n",
       "1                   black    389\n",
       "2                hispanic     55\n",
       "0  asian/pacific islander     20\n",
       "4                 unknown     12\n",
       "3                   other      6"
      ]
     },
     "execution_count": 31,
     "metadata": {},
     "output_type": "execute_result"
    }
   ],
   "source": [
    "### SOLUTION ###\n",
    "race_grouped_frame = race_grouped_frame.sort_values(\"Count\", ascending=False)\n",
    "race_grouped_frame"
   ]
  },
  {
   "cell_type": "markdown",
   "id": "ae1fa9b4",
   "metadata": {
    "id": "ae1fa9b4"
   },
   "source": [
    "✅ What's the difference between `.size()` and `.count()` in Pandas?"
   ]
  },
  {
   "cell_type": "code",
   "execution_count": 32,
   "id": "DnQtypSDAyOl",
   "metadata": {
    "id": "DnQtypSDAyOl"
   },
   "outputs": [],
   "source": [
    "### SOLUTION ###\n",
    "# .size() counts the number of rows contained in a group, regardless of NaN values.\n",
    "# .count() automatically excludes NaN values from the count.'"
   ]
  },
  {
   "cell_type": "markdown",
   "id": "d9991ba8",
   "metadata": {},
   "source": [
    "<br>\n",
    "\n",
    "<hr style=\"border: 1px solid #fdb515;\" />\n",
    "\n",
    "<br>"
   ]
  },
  {
   "cell_type": "markdown",
   "id": "befAN9w-CP-w",
   "metadata": {
    "id": "befAN9w-CP-w"
   },
   "source": [
    "## Null (NaN) values in Pandas\n",
    "\n",
    "Now that we've learned how to perform basic operations in pandas, we're going to learn how to handle null values.\n",
    "\n",
    "Let's begin by examining the original table."
   ]
  },
  {
   "cell_type": "code",
   "execution_count": 33,
   "id": "3KUdIulXCTs2",
   "metadata": {
    "colab": {
     "base_uri": "https://localhost:8080/",
     "height": 678
    },
    "id": "3KUdIulXCTs2",
    "outputId": "789460e4-3488-4743-e9e7-8e2a0bd75375"
   },
   "outputs": [
    {
     "data": {
      "text/html": [
       "<div>\n",
       "<style scoped>\n",
       "    .dataframe tbody tr th:only-of-type {\n",
       "        vertical-align: middle;\n",
       "    }\n",
       "\n",
       "    .dataframe tbody tr th {\n",
       "        vertical-align: top;\n",
       "    }\n",
       "\n",
       "    .dataframe thead th {\n",
       "        text-align: right;\n",
       "    }\n",
       "</style>\n",
       "<table border=\"1\" class=\"dataframe\">\n",
       "  <thead>\n",
       "    <tr style=\"text-align: right;\">\n",
       "      <th></th>\n",
       "      <th>index</th>\n",
       "      <th>raw_row_number</th>\n",
       "      <th>date</th>\n",
       "      <th>time</th>\n",
       "      <th>location</th>\n",
       "      <th>lat</th>\n",
       "      <th>lng</th>\n",
       "      <th>precinct</th>\n",
       "      <th>reporting_area</th>\n",
       "      <th>zone</th>\n",
       "      <th>...</th>\n",
       "      <th>raw_traffic_citation_issued</th>\n",
       "      <th>raw_misd_state_citation_issued</th>\n",
       "      <th>raw_suspect_ethnicity</th>\n",
       "      <th>raw_driver_searched</th>\n",
       "      <th>raw_passenger_searched</th>\n",
       "      <th>raw_search_consent</th>\n",
       "      <th>raw_search_arrest</th>\n",
       "      <th>raw_search_warrant</th>\n",
       "      <th>raw_search_inventory</th>\n",
       "      <th>raw_search_plain_view</th>\n",
       "    </tr>\n",
       "  </thead>\n",
       "  <tbody>\n",
       "    <tr>\n",
       "      <th>0</th>\n",
       "      <td>1840907</td>\n",
       "      <td>93347</td>\n",
       "      <td>2010-04-18</td>\n",
       "      <td>13140.0</td>\n",
       "      <td>BURGESS AVE &amp; WHITE BRIDGE PIKE, NASHVILLE, TN...</td>\n",
       "      <td>36.145004</td>\n",
       "      <td>-86.857970</td>\n",
       "      <td>1.0</td>\n",
       "      <td>5103.0</td>\n",
       "      <td>113.0</td>\n",
       "      <td>...</td>\n",
       "      <td>False</td>\n",
       "      <td>NaN</td>\n",
       "      <td>N</td>\n",
       "      <td>False</td>\n",
       "      <td>False</td>\n",
       "      <td>False</td>\n",
       "      <td>False</td>\n",
       "      <td>False</td>\n",
       "      <td>False</td>\n",
       "      <td>False</td>\n",
       "    </tr>\n",
       "    <tr>\n",
       "      <th>1</th>\n",
       "      <td>492044</td>\n",
       "      <td>2001428</td>\n",
       "      <td>2015-01-19</td>\n",
       "      <td>19920.0</td>\n",
       "      <td>DUE WEST AVE W &amp; S GRAYCROFT AVE, MADISON, TN,...</td>\n",
       "      <td>36.249187</td>\n",
       "      <td>-86.734459</td>\n",
       "      <td>7.0</td>\n",
       "      <td>1797.0</td>\n",
       "      <td>723.0</td>\n",
       "      <td>...</td>\n",
       "      <td>False</td>\n",
       "      <td>False</td>\n",
       "      <td>N</td>\n",
       "      <td>False</td>\n",
       "      <td>False</td>\n",
       "      <td>False</td>\n",
       "      <td>False</td>\n",
       "      <td>False</td>\n",
       "      <td>False</td>\n",
       "      <td>False</td>\n",
       "    </tr>\n",
       "    <tr>\n",
       "      <th>2</th>\n",
       "      <td>431170</td>\n",
       "      <td>1996331</td>\n",
       "      <td>2015-01-15</td>\n",
       "      <td>1020.0</td>\n",
       "      <td>S GALLATIN PIKE &amp; MADISON BLVD, MADISON, TN, 3...</td>\n",
       "      <td>36.254979</td>\n",
       "      <td>-86.715246</td>\n",
       "      <td>7.0</td>\n",
       "      <td>1623.0</td>\n",
       "      <td>711.0</td>\n",
       "      <td>...</td>\n",
       "      <td>False</td>\n",
       "      <td>False</td>\n",
       "      <td>N</td>\n",
       "      <td>False</td>\n",
       "      <td>False</td>\n",
       "      <td>False</td>\n",
       "      <td>False</td>\n",
       "      <td>False</td>\n",
       "      <td>False</td>\n",
       "      <td>False</td>\n",
       "    </tr>\n",
       "    <tr>\n",
       "      <th>3</th>\n",
       "      <td>2066423</td>\n",
       "      <td>1319451</td>\n",
       "      <td>2013-05-17</td>\n",
       "      <td>62760.0</td>\n",
       "      <td>CHARLOTTE PIKE &amp; W HILLWOOD DR, NASHVILLE, TN,...</td>\n",
       "      <td>36.139093</td>\n",
       "      <td>-86.880533</td>\n",
       "      <td>1.0</td>\n",
       "      <td>5009.0</td>\n",
       "      <td>123.0</td>\n",
       "      <td>...</td>\n",
       "      <td>False</td>\n",
       "      <td>False</td>\n",
       "      <td>N</td>\n",
       "      <td>False</td>\n",
       "      <td>False</td>\n",
       "      <td>False</td>\n",
       "      <td>False</td>\n",
       "      <td>False</td>\n",
       "      <td>False</td>\n",
       "      <td>False</td>\n",
       "    </tr>\n",
       "    <tr>\n",
       "      <th>4</th>\n",
       "      <td>2899480</td>\n",
       "      <td>201349</td>\n",
       "      <td>2010-09-01</td>\n",
       "      <td>28140.0</td>\n",
       "      <td>BELL RD &amp; DODSON CHAPEL RD, HERMITAGE, TN, 37076</td>\n",
       "      <td>36.163310</td>\n",
       "      <td>-86.613147</td>\n",
       "      <td>5.0</td>\n",
       "      <td>9501.0</td>\n",
       "      <td>521.0</td>\n",
       "      <td>...</td>\n",
       "      <td>False</td>\n",
       "      <td>NaN</td>\n",
       "      <td>N</td>\n",
       "      <td>False</td>\n",
       "      <td>False</td>\n",
       "      <td>False</td>\n",
       "      <td>False</td>\n",
       "      <td>False</td>\n",
       "      <td>False</td>\n",
       "      <td>False</td>\n",
       "    </tr>\n",
       "  </tbody>\n",
       "</table>\n",
       "<p>5 rows × 43 columns</p>\n",
       "</div>"
      ],
      "text/plain": [
       "     index raw_row_number        date     time  \\\n",
       "0  1840907          93347  2010-04-18  13140.0   \n",
       "1   492044        2001428  2015-01-19  19920.0   \n",
       "2   431170        1996331  2015-01-15   1020.0   \n",
       "3  2066423        1319451  2013-05-17  62760.0   \n",
       "4  2899480         201349  2010-09-01  28140.0   \n",
       "\n",
       "                                            location        lat        lng  \\\n",
       "0  BURGESS AVE & WHITE BRIDGE PIKE, NASHVILLE, TN...  36.145004 -86.857970   \n",
       "1  DUE WEST AVE W & S GRAYCROFT AVE, MADISON, TN,...  36.249187 -86.734459   \n",
       "2  S GALLATIN PIKE & MADISON BLVD, MADISON, TN, 3...  36.254979 -86.715246   \n",
       "3  CHARLOTTE PIKE & W HILLWOOD DR, NASHVILLE, TN,...  36.139093 -86.880533   \n",
       "4   BELL RD & DODSON CHAPEL RD, HERMITAGE, TN, 37076  36.163310 -86.613147   \n",
       "\n",
       "   precinct  reporting_area   zone  ...  raw_traffic_citation_issued  \\\n",
       "0       1.0          5103.0  113.0  ...                        False   \n",
       "1       7.0          1797.0  723.0  ...                        False   \n",
       "2       7.0          1623.0  711.0  ...                        False   \n",
       "3       1.0          5009.0  123.0  ...                        False   \n",
       "4       5.0          9501.0  521.0  ...                        False   \n",
       "\n",
       "  raw_misd_state_citation_issued raw_suspect_ethnicity raw_driver_searched  \\\n",
       "0                            NaN                     N               False   \n",
       "1                          False                     N               False   \n",
       "2                          False                     N               False   \n",
       "3                          False                     N               False   \n",
       "4                            NaN                     N               False   \n",
       "\n",
       "  raw_passenger_searched raw_search_consent  raw_search_arrest  \\\n",
       "0                  False              False              False   \n",
       "1                  False              False              False   \n",
       "2                  False              False              False   \n",
       "3                  False              False              False   \n",
       "4                  False              False              False   \n",
       "\n",
       "   raw_search_warrant  raw_search_inventory raw_search_plain_view  \n",
       "0               False                 False                 False  \n",
       "1               False                 False                 False  \n",
       "2               False                 False                 False  \n",
       "3               False                 False                 False  \n",
       "4               False                 False                 False  \n",
       "\n",
       "[5 rows x 43 columns]"
      ]
     },
     "execution_count": 33,
     "metadata": {},
     "output_type": "execute_result"
    }
   ],
   "source": [
    "pandas_stops.head()"
   ]
  },
  {
   "cell_type": "markdown",
   "id": "FhKbUBHXC6s3",
   "metadata": {
    "id": "FhKbUBHXC6s3"
   },
   "source": [
    "Notice how columns like precinct, reporting_area, zone, raw_misd_state_citation_issued, etc., contain NaN values.\n",
    "\n",
    "Based on what we've learned in this lab, let's begin by identifying which columns have the highest proportion of null values.\n",
    "Dealing with these columns can be challenging during analysis, so it's essential to prioritize them."
   ]
  },
  {
   "cell_type": "code",
   "execution_count": 34,
   "id": "4bpVdndZCToA",
   "metadata": {
    "colab": {
     "base_uri": "https://localhost:8080/",
     "height": 359
    },
    "id": "4bpVdndZCToA",
    "outputId": "08915f94-d955-4ae9-c129-ff79f65067bd"
   },
   "outputs": [
    {
     "data": {
      "text/html": [
       "<div>\n",
       "<style scoped>\n",
       "    .dataframe tbody tr th:only-of-type {\n",
       "        vertical-align: middle;\n",
       "    }\n",
       "\n",
       "    .dataframe tbody tr th {\n",
       "        vertical-align: top;\n",
       "    }\n",
       "\n",
       "    .dataframe thead th {\n",
       "        text-align: right;\n",
       "    }\n",
       "</style>\n",
       "<table border=\"1\" class=\"dataframe\">\n",
       "  <thead>\n",
       "    <tr style=\"text-align: right;\">\n",
       "      <th></th>\n",
       "      <th>proportion_null</th>\n",
       "    </tr>\n",
       "  </thead>\n",
       "  <tbody>\n",
       "    <tr>\n",
       "      <th>contraband_found</th>\n",
       "      <td>0.960</td>\n",
       "    </tr>\n",
       "    <tr>\n",
       "      <th>contraband_weapons</th>\n",
       "      <td>0.960</td>\n",
       "    </tr>\n",
       "    <tr>\n",
       "      <th>contraband_drugs</th>\n",
       "      <td>0.960</td>\n",
       "    </tr>\n",
       "    <tr>\n",
       "      <th>search_basis</th>\n",
       "      <td>0.960</td>\n",
       "    </tr>\n",
       "    <tr>\n",
       "      <th>notes</th>\n",
       "      <td>0.828</td>\n",
       "    </tr>\n",
       "    <tr>\n",
       "      <th>raw_misd_state_citation_issued</th>\n",
       "      <td>0.220</td>\n",
       "    </tr>\n",
       "    <tr>\n",
       "      <th>raw_written_warning_issued</th>\n",
       "      <td>0.176</td>\n",
       "    </tr>\n",
       "    <tr>\n",
       "      <th>precinct</th>\n",
       "      <td>0.113</td>\n",
       "    </tr>\n",
       "    <tr>\n",
       "      <th>zone</th>\n",
       "      <td>0.113</td>\n",
       "    </tr>\n",
       "    <tr>\n",
       "      <th>reporting_area</th>\n",
       "      <td>0.097</td>\n",
       "    </tr>\n",
       "  </tbody>\n",
       "</table>\n",
       "</div>"
      ],
      "text/plain": [
       "                                proportion_null\n",
       "contraband_found                          0.960\n",
       "contraband_weapons                        0.960\n",
       "contraband_drugs                          0.960\n",
       "search_basis                              0.960\n",
       "notes                                     0.828\n",
       "raw_misd_state_citation_issued            0.220\n",
       "raw_written_warning_issued                0.176\n",
       "precinct                                  0.113\n",
       "zone                                      0.113\n",
       "reporting_area                            0.097"
      ]
     },
     "execution_count": 34,
     "metadata": {},
     "output_type": "execute_result"
    }
   ],
   "source": [
    "# To select relevant columns, we first start by identifying columns with null values.\n",
    "null_percentage = pandas_stops.isnull().sum() / len(pandas_stops)\n",
    "\n",
    "# We're creating a dataframe based on what we calculated above.\n",
    "missing_value_df = pd.DataFrame({'proportion_null': null_percentage})\n",
    "# Sorting the table based on the null percentage.\n",
    "missing_value_df = missing_value_df.sort_values('proportion_null', ascending=False)\n",
    "missing_value_df.head(10)"
   ]
  },
  {
   "cell_type": "markdown",
   "id": "L5nTnWf0DsER",
   "metadata": {
    "id": "L5nTnWf0DsER"
   },
   "source": [
    "✅ It appears that some of the columns have a very high percentage of null values. To facilitate our analysis, let's fill the null values with 0.\n",
    "\n",
    "Hint: Pandas provides a function that can help us accomplish this task."
   ]
  },
  {
   "cell_type": "code",
   "execution_count": 35,
   "id": "tuqLwpY-DpHZ",
   "metadata": {
    "colab": {
     "base_uri": "https://localhost:8080/",
     "height": 678
    },
    "id": "tuqLwpY-DpHZ",
    "outputId": "9e2dba04-b51d-441b-b872-62691a7f2c2b"
   },
   "outputs": [
    {
     "data": {
      "text/html": [
       "<div>\n",
       "<style scoped>\n",
       "    .dataframe tbody tr th:only-of-type {\n",
       "        vertical-align: middle;\n",
       "    }\n",
       "\n",
       "    .dataframe tbody tr th {\n",
       "        vertical-align: top;\n",
       "    }\n",
       "\n",
       "    .dataframe thead th {\n",
       "        text-align: right;\n",
       "    }\n",
       "</style>\n",
       "<table border=\"1\" class=\"dataframe\">\n",
       "  <thead>\n",
       "    <tr style=\"text-align: right;\">\n",
       "      <th></th>\n",
       "      <th>index</th>\n",
       "      <th>raw_row_number</th>\n",
       "      <th>date</th>\n",
       "      <th>time</th>\n",
       "      <th>location</th>\n",
       "      <th>lat</th>\n",
       "      <th>lng</th>\n",
       "      <th>precinct</th>\n",
       "      <th>reporting_area</th>\n",
       "      <th>zone</th>\n",
       "      <th>...</th>\n",
       "      <th>raw_traffic_citation_issued</th>\n",
       "      <th>raw_misd_state_citation_issued</th>\n",
       "      <th>raw_suspect_ethnicity</th>\n",
       "      <th>raw_driver_searched</th>\n",
       "      <th>raw_passenger_searched</th>\n",
       "      <th>raw_search_consent</th>\n",
       "      <th>raw_search_arrest</th>\n",
       "      <th>raw_search_warrant</th>\n",
       "      <th>raw_search_inventory</th>\n",
       "      <th>raw_search_plain_view</th>\n",
       "    </tr>\n",
       "  </thead>\n",
       "  <tbody>\n",
       "    <tr>\n",
       "      <th>0</th>\n",
       "      <td>1840907</td>\n",
       "      <td>93347</td>\n",
       "      <td>2010-04-18</td>\n",
       "      <td>13140.0</td>\n",
       "      <td>BURGESS AVE &amp; WHITE BRIDGE PIKE, NASHVILLE, TN...</td>\n",
       "      <td>36.145004</td>\n",
       "      <td>-86.857970</td>\n",
       "      <td>1.0</td>\n",
       "      <td>5103.0</td>\n",
       "      <td>113.0</td>\n",
       "      <td>...</td>\n",
       "      <td>False</td>\n",
       "      <td>0</td>\n",
       "      <td>N</td>\n",
       "      <td>False</td>\n",
       "      <td>False</td>\n",
       "      <td>False</td>\n",
       "      <td>False</td>\n",
       "      <td>False</td>\n",
       "      <td>False</td>\n",
       "      <td>False</td>\n",
       "    </tr>\n",
       "    <tr>\n",
       "      <th>1</th>\n",
       "      <td>492044</td>\n",
       "      <td>2001428</td>\n",
       "      <td>2015-01-19</td>\n",
       "      <td>19920.0</td>\n",
       "      <td>DUE WEST AVE W &amp; S GRAYCROFT AVE, MADISON, TN,...</td>\n",
       "      <td>36.249187</td>\n",
       "      <td>-86.734459</td>\n",
       "      <td>7.0</td>\n",
       "      <td>1797.0</td>\n",
       "      <td>723.0</td>\n",
       "      <td>...</td>\n",
       "      <td>False</td>\n",
       "      <td>False</td>\n",
       "      <td>N</td>\n",
       "      <td>False</td>\n",
       "      <td>False</td>\n",
       "      <td>False</td>\n",
       "      <td>False</td>\n",
       "      <td>False</td>\n",
       "      <td>False</td>\n",
       "      <td>False</td>\n",
       "    </tr>\n",
       "    <tr>\n",
       "      <th>2</th>\n",
       "      <td>431170</td>\n",
       "      <td>1996331</td>\n",
       "      <td>2015-01-15</td>\n",
       "      <td>1020.0</td>\n",
       "      <td>S GALLATIN PIKE &amp; MADISON BLVD, MADISON, TN, 3...</td>\n",
       "      <td>36.254979</td>\n",
       "      <td>-86.715246</td>\n",
       "      <td>7.0</td>\n",
       "      <td>1623.0</td>\n",
       "      <td>711.0</td>\n",
       "      <td>...</td>\n",
       "      <td>False</td>\n",
       "      <td>False</td>\n",
       "      <td>N</td>\n",
       "      <td>False</td>\n",
       "      <td>False</td>\n",
       "      <td>False</td>\n",
       "      <td>False</td>\n",
       "      <td>False</td>\n",
       "      <td>False</td>\n",
       "      <td>False</td>\n",
       "    </tr>\n",
       "    <tr>\n",
       "      <th>3</th>\n",
       "      <td>2066423</td>\n",
       "      <td>1319451</td>\n",
       "      <td>2013-05-17</td>\n",
       "      <td>62760.0</td>\n",
       "      <td>CHARLOTTE PIKE &amp; W HILLWOOD DR, NASHVILLE, TN,...</td>\n",
       "      <td>36.139093</td>\n",
       "      <td>-86.880533</td>\n",
       "      <td>1.0</td>\n",
       "      <td>5009.0</td>\n",
       "      <td>123.0</td>\n",
       "      <td>...</td>\n",
       "      <td>False</td>\n",
       "      <td>False</td>\n",
       "      <td>N</td>\n",
       "      <td>False</td>\n",
       "      <td>False</td>\n",
       "      <td>False</td>\n",
       "      <td>False</td>\n",
       "      <td>False</td>\n",
       "      <td>False</td>\n",
       "      <td>False</td>\n",
       "    </tr>\n",
       "    <tr>\n",
       "      <th>4</th>\n",
       "      <td>2899480</td>\n",
       "      <td>201349</td>\n",
       "      <td>2010-09-01</td>\n",
       "      <td>28140.0</td>\n",
       "      <td>BELL RD &amp; DODSON CHAPEL RD, HERMITAGE, TN, 37076</td>\n",
       "      <td>36.163310</td>\n",
       "      <td>-86.613147</td>\n",
       "      <td>5.0</td>\n",
       "      <td>9501.0</td>\n",
       "      <td>521.0</td>\n",
       "      <td>...</td>\n",
       "      <td>False</td>\n",
       "      <td>0</td>\n",
       "      <td>N</td>\n",
       "      <td>False</td>\n",
       "      <td>False</td>\n",
       "      <td>False</td>\n",
       "      <td>False</td>\n",
       "      <td>False</td>\n",
       "      <td>False</td>\n",
       "      <td>False</td>\n",
       "    </tr>\n",
       "  </tbody>\n",
       "</table>\n",
       "<p>5 rows × 43 columns</p>\n",
       "</div>"
      ],
      "text/plain": [
       "     index raw_row_number        date     time  \\\n",
       "0  1840907          93347  2010-04-18  13140.0   \n",
       "1   492044        2001428  2015-01-19  19920.0   \n",
       "2   431170        1996331  2015-01-15   1020.0   \n",
       "3  2066423        1319451  2013-05-17  62760.0   \n",
       "4  2899480         201349  2010-09-01  28140.0   \n",
       "\n",
       "                                            location        lat        lng  \\\n",
       "0  BURGESS AVE & WHITE BRIDGE PIKE, NASHVILLE, TN...  36.145004 -86.857970   \n",
       "1  DUE WEST AVE W & S GRAYCROFT AVE, MADISON, TN,...  36.249187 -86.734459   \n",
       "2  S GALLATIN PIKE & MADISON BLVD, MADISON, TN, 3...  36.254979 -86.715246   \n",
       "3  CHARLOTTE PIKE & W HILLWOOD DR, NASHVILLE, TN,...  36.139093 -86.880533   \n",
       "4   BELL RD & DODSON CHAPEL RD, HERMITAGE, TN, 37076  36.163310 -86.613147   \n",
       "\n",
       "   precinct  reporting_area   zone  ...  raw_traffic_citation_issued  \\\n",
       "0       1.0          5103.0  113.0  ...                        False   \n",
       "1       7.0          1797.0  723.0  ...                        False   \n",
       "2       7.0          1623.0  711.0  ...                        False   \n",
       "3       1.0          5009.0  123.0  ...                        False   \n",
       "4       5.0          9501.0  521.0  ...                        False   \n",
       "\n",
       "  raw_misd_state_citation_issued raw_suspect_ethnicity raw_driver_searched  \\\n",
       "0                              0                     N               False   \n",
       "1                          False                     N               False   \n",
       "2                          False                     N               False   \n",
       "3                          False                     N               False   \n",
       "4                              0                     N               False   \n",
       "\n",
       "  raw_passenger_searched raw_search_consent  raw_search_arrest  \\\n",
       "0                  False              False              False   \n",
       "1                  False              False              False   \n",
       "2                  False              False              False   \n",
       "3                  False              False              False   \n",
       "4                  False              False              False   \n",
       "\n",
       "   raw_search_warrant  raw_search_inventory raw_search_plain_view  \n",
       "0               False                 False                 False  \n",
       "1               False                 False                 False  \n",
       "2               False                 False                 False  \n",
       "3               False                 False                 False  \n",
       "4               False                 False                 False  \n",
       "\n",
       "[5 rows x 43 columns]"
      ]
     },
     "execution_count": 35,
     "metadata": {},
     "output_type": "execute_result"
    }
   ],
   "source": [
    "### SOLUTION ###\n",
    "# Maybe just let students fill data[column].fillna(0) part\n",
    "\n",
    "def replace_null_with_0(column_list, data):\n",
    "  for column in column_list:\n",
    "    data[column] = data[column].fillna(0)\n",
    "  return data\n",
    "\n",
    "pandas_stops = replace_null_with_0(pandas_stops.columns, pandas_stops)\n",
    "pandas_stops.head()"
   ]
  },
  {
   "cell_type": "markdown",
   "id": "G_WtqdtxCLac",
   "metadata": {
    "id": "G_WtqdtxCLac"
   },
   "source": [
    "✅ Why is replacing NaN (Null) values with 0 important here? What happens if we have high percentage of null values when doing our analysis?"
   ]
  },
  {
   "cell_type": "code",
   "execution_count": 36,
   "id": "KJmldiF7NwcV",
   "metadata": {
    "colab": {
     "base_uri": "https://localhost:8080/"
    },
    "id": "KJmldiF7NwcV",
    "outputId": "754ae457-27e2-46fb-acf5-47b021a3463d"
   },
   "outputs": [
    {
     "name": "stdout",
     "output_type": "stream",
     "text": [
      "Replacing NaN with 0 prevents errors but can distort analysis with high null percentages.\n"
     ]
    }
   ],
   "source": [
    "### SOLUTION ###\n",
    "solution = 'Replacing NaN with 0 prevents errors but can distort analysis with high null percentages.'\n",
    "print(solution)"
   ]
  },
  {
   "cell_type": "markdown",
   "id": "6d0e180c",
   "metadata": {},
   "source": [
    "<br>\n",
    "\n",
    "<hr style=\"border: 1px solid #fdb515;\" />\n",
    "\n",
    "<br>"
   ]
  },
  {
   "cell_type": "markdown",
   "id": "6xl2LXnWHChi",
   "metadata": {
    "id": "6xl2LXnWHChi"
   },
   "source": [
    "## Visualizations\n",
    "\n",
    "Now that we've replaced missing values with 0, we're finally ready to do some simple visualizations!"
   ]
  },
  {
   "cell_type": "code",
   "execution_count": 37,
   "id": "UdoUQHCVHTyL",
   "metadata": {
    "colab": {
     "base_uri": "https://localhost:8080/"
    },
    "id": "UdoUQHCVHTyL",
    "outputId": "1bb07a72-1031-4564-8cd6-7617141872f5"
   },
   "outputs": [
    {
     "data": {
      "text/plain": [
       "white                     518\n",
       "black                     389\n",
       "hispanic                   55\n",
       "asian/pacific islander     20\n",
       "unknown                    12\n",
       "other                       6\n",
       "Name: subject_race, dtype: int64"
      ]
     },
     "execution_count": 37,
     "metadata": {},
     "output_type": "execute_result"
    }
   ],
   "source": [
    "hist_counts = pandas_stops['subject_race'].value_counts()\n",
    "hist_counts"
   ]
  },
  {
   "cell_type": "code",
   "execution_count": 38,
   "id": "KgUhhlT1IEw7",
   "metadata": {
    "colab": {
     "base_uri": "https://localhost:8080/",
     "height": 563
    },
    "id": "KgUhhlT1IEw7",
    "outputId": "7cfe4a7e-4154-4631-bb75-46c707b432d9"
   },
   "outputs": [
    {
     "data": {
      "image/png": "[encoded data removed]",
      "text/plain": [
       "<Figure size 640x480 with 1 Axes>"
      ]
     },
     "metadata": {},
     "output_type": "display_data"
    }
   ],
   "source": [
    "hist_counts.plot(kind='bar')\n",
    "plt.show()"
   ]
  },
  {
   "cell_type": "markdown",
   "id": "AHbAWwrwIFj2",
   "metadata": {
    "id": "AHbAWwrwIFj2"
   },
   "source": [
    "### Histograms\n",
    "\n",
    "Histograms are a nifty way to display quantitative information. The x-axis is typically a quantitative variable of interest, and the y-axis is generally a frequency. Plot a histogram, and then experiment with the bin sizes."
   ]
  },
  {
   "cell_type": "code",
   "execution_count": 39,
   "id": "b_gRBQZkaExJ",
   "metadata": {
    "colab": {
     "base_uri": "https://localhost:8080/",
     "height": 470
    },
    "id": "b_gRBQZkaExJ",
    "outputId": "2d0f7fa1-255f-4b48-d737-87a2b21264ce"
   },
   "outputs": [
    {
     "data": {
      "image/png": "[encoded data removed]",
      "text/plain": [
       "<Figure size 640x480 with 1 Axes>"
      ]
     },
     "metadata": {},
     "output_type": "display_data"
    }
   ],
   "source": [
    "pandas_stops.hist(\"subject_age\");"
   ]
  },
  {
   "cell_type": "markdown",
   "id": "hRKVyyTrNThy",
   "metadata": {
    "id": "hRKVyyTrNThy"
   },
   "source": [
    "### Line Plots\n",
    "\n",
    "Line plots are generally used to relate two variables to one another. They can be useful when trying to infer relationships between variables, visualize simple regressions, and get a general sense of the \"spread\" of your data.\n",
    "\n",
    "In this case, we will use a line plot to visualize the relationship of average subject age over time."
   ]
  },
  {
   "cell_type": "markdown",
   "id": "6259950d",
   "metadata": {},
   "source": [
    "**Note:** The first two rows in the code cell below are a bit more complex, as we're trying to create a column of just the year and then aggregate the data based on that. Don't worry too much about understanding it! Just focus on how we actually plot the line in the middle of the cell."
   ]
  },
  {
   "cell_type": "code",
   "execution_count": 40,
   "id": "97cDh7xPNXxa",
   "metadata": {
    "colab": {
     "base_uri": "https://localhost:8080/",
     "height": 455
    },
    "id": "97cDh7xPNXxa",
    "outputId": "569c49a2-2e5d-4184-b206-e4fa8ac4c0de"
   },
   "outputs": [
    {
     "data": {
      "image/png": "[encoded data removed]",
      "text/plain": [
       "<Figure size 640x480 with 1 Axes>"
      ]
     },
     "metadata": {},
     "output_type": "display_data"
    }
   ],
   "source": [
    "pandas_stops['year'] = [datetime.strptime(x, '%Y-%m-%d').year for x in pandas_stops['date']]\n",
    "average_per_date = pandas_stops.groupby(\"year\").mean(\"age\").reset_index()\n",
    "\n",
    "# The code below plots the line\n",
    "average_per_date.plot.line(x ='year', y ='subject_age')\n",
    "\n",
    "# Stylizing the graph -- adding axes labels and adjusting the range of the x-axis\n",
    "plt.xlabel(\"Date\")\n",
    "plt.ylabel(\"Age\")\n",
    "plt.xlim([2010, 2018])\n",
    "plt.show()"
   ]
  },
  {
   "cell_type": "markdown",
   "id": "pSP1SAAhNaiy",
   "metadata": {
    "id": "pSP1SAAhNaiy"
   },
   "source": [
    "## Boxplots\n",
    "\n",
    "Boxplots can be used to get a general idea of the spread of your data, and are especially useful if you need to compare across more than two categories.\n",
    "\n",
    "Let's use a boxplot to show the distribution of ages of those stopped in traffic stops in the dataset, found in the column \"subject_age\", when arrests are and are not made.\n",
    "\n",
    "We can use the by keyword to determine the column we would like to group by. In this case, we group by the column \"arrest_made\"."
   ]
  },
  {
   "cell_type": "code",
   "execution_count": 41,
   "id": "xzLl8VguN_wE",
   "metadata": {
    "colab": {
     "base_uri": "https://localhost:8080/",
     "height": 496
    },
    "id": "xzLl8VguN_wE",
    "outputId": "2a0be277-4145-4960-cc60-6c0a16fca611"
   },
   "outputs": [
    {
     "data": {
      "image/png": "[encoded data removed]",
      "text/plain": [
       "<Figure size 640x480 with 1 Axes>"
      ]
     },
     "metadata": {},
     "output_type": "display_data"
    }
   ],
   "source": [
    "pandas_stops.boxplot(column = 'subject_age', by = 'arrest_made');"
   ]
  },
  {
   "cell_type": "markdown",
   "id": "XsNiHfqvOrc-",
   "metadata": {
    "id": "XsNiHfqvOrc-"
   },
   "source": [
    "✅  Now that we have seen how to use a boxplot, try creating a two boxplots to visualize and compare the distribution of ages, found in the column \"subject_age\", groupled by the sex of those stopped in the traffic stops, found in the column \"subject_sex\"."
   ]
  },
  {
   "cell_type": "code",
   "execution_count": 42,
   "id": "oFstae6TNe_V",
   "metadata": {
    "colab": {
     "base_uri": "https://localhost:8080/",
     "height": 909
    },
    "id": "oFstae6TNe_V",
    "outputId": "cd402c6b-5eb4-4a90-8d96-ecfc5e38444f"
   },
   "outputs": [
    {
     "data": {
      "image/png": "[encoded data removed]",
      "text/plain": [
       "<Figure size 640x480 with 1 Axes>"
      ]
     },
     "metadata": {},
     "output_type": "display_data"
    }
   ],
   "source": [
    "## SOLUTION ##\n",
    "pandas_stops.boxplot(column = 'subject_age', by = 'subject_sex');"
   ]
  }
 ],
 "metadata": {
  "colab": {
   "collapsed_sections": [
    "9a1e28c8",
    "e8935745",
    "befAN9w-CP-w"
   ],
   "provenance": []
  },
  "kernelspec": {
   "display_name": "Python 3 (ipykernel)",
   "language": "python",
   "name": "python3"
  },
  "language_info": {
   "codemirror_mode": {
    "name": "ipython",
    "version": 3
   },
   "file_extension": ".py",
   "mimetype": "text/x-python",
   "name": "python",
   "nbconvert_exporter": "python",
   "pygments_lexer": "ipython3",
   "version": "3.9.15"
  }
 },
 "nbformat": 4,
 "nbformat_minor": 5
}
