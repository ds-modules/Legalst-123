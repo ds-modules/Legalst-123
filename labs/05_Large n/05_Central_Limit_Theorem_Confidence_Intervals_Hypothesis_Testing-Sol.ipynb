{
 "cells": [
  {
   "cell_type": "markdown",
   "metadata": {},
   "source": [
    "# [LEGALST-123] Lab 05: Central Limit Theorem, Confidence Intervals, Hypothesis Testing"
   ]
  },
  {
   "cell_type": "code",
   "execution_count": 2,
   "metadata": {},
   "outputs": [
    {
     "name": "stderr",
     "output_type": "stream",
     "text": [
      "/Library/Frameworks/Python.framework/Versions/3.9/lib/python3.9/site-packages/scipy/__init__.py:132: UserWarning: A NumPy version >=1.21.6 and <1.28.0 is required for this version of SciPy (detected version 1.21.2)\n",
      "  warnings.warn(f\"A NumPy version >={np_minversion} and <{np_maxversion}\"\n"
     ]
    }
   ],
   "source": [
    "from datascience import *\n",
    "from collections import Counter\n",
    "import numpy as np\n",
    "import pandas as pd\n",
    "from scipy import stats\n",
    "%matplotlib inline\n",
    "import matplotlib.pyplot as plots\n",
    "plots.style.use('fivethirtyeight')"
   ]
  },
  {
   "cell_type": "markdown",
   "metadata": {},
   "source": [
    "## Introduction\n",
    "In this lab, we aim to prepare students for prediction exercises in PSET 1 and PSET 2 by allowing students to contextualize the statistical ideas of the Central Limit Theorem and hypothesis testing by using a dataset containing continuous variables. \n",
    "\n",
    "**Data & EDA**: \n",
    "... explanation needed ... \n",
    "\n",
    "**Bootsrapping**:\n",
    "... explanation needed ... \n",
    "\n",
    "**Confidence Interval**: \n",
    "... explanation needed ... \n",
    "\n",
    "**Central Limit Theorem**: \n",
    "... explanation needed ... "
   ]
  },
  {
   "cell_type": "markdown",
   "metadata": {},
   "source": [
    "<br/>\n",
    "\n",
    "<hr style=\"border: 1px solid #fdb515;\" />"
   ]
  },
  {
   "cell_type": "markdown",
   "metadata": {},
   "source": [
    "## Data"
   ]
  },
  {
   "cell_type": "markdown",
   "metadata": {},
   "source": [
    "For this lab, we'll be using the same datasets used in our previous labs, the Nashville's police stops dataset. Run the following cell below to read the `DataFrame`."
   ]
  },
  {
   "cell_type": "code",
   "execution_count": 4,
   "metadata": {},
   "outputs": [
    {
     "data": {
      "text/html": [
       "<div>\n",
       "<style scoped>\n",
       "    .dataframe tbody tr th:only-of-type {\n",
       "        vertical-align: middle;\n",
       "    }\n",
       "\n",
       "    .dataframe tbody tr th {\n",
       "        vertical-align: top;\n",
       "    }\n",
       "\n",
       "    .dataframe thead th {\n",
       "        text-align: right;\n",
       "    }\n",
       "</style>\n",
       "<table border=\"1\" class=\"dataframe\">\n",
       "  <thead>\n",
       "    <tr style=\"text-align: right;\">\n",
       "      <th></th>\n",
       "      <th>index</th>\n",
       "      <th>raw_row_number</th>\n",
       "      <th>date</th>\n",
       "      <th>time</th>\n",
       "      <th>location</th>\n",
       "      <th>lat</th>\n",
       "      <th>lng</th>\n",
       "      <th>precinct</th>\n",
       "      <th>reporting_area</th>\n",
       "      <th>zone</th>\n",
       "      <th>...</th>\n",
       "      <th>raw_traffic_citation_issued</th>\n",
       "      <th>raw_misd_state_citation_issued</th>\n",
       "      <th>raw_suspect_ethnicity</th>\n",
       "      <th>raw_driver_searched</th>\n",
       "      <th>raw_passenger_searched</th>\n",
       "      <th>raw_search_consent</th>\n",
       "      <th>raw_search_arrest</th>\n",
       "      <th>raw_search_warrant</th>\n",
       "      <th>raw_search_inventory</th>\n",
       "      <th>raw_search_plain_view</th>\n",
       "    </tr>\n",
       "  </thead>\n",
       "  <tbody>\n",
       "    <tr>\n",
       "      <th>0</th>\n",
       "      <td>1840907</td>\n",
       "      <td>93347</td>\n",
       "      <td>2010-04-18</td>\n",
       "      <td>13140.0</td>\n",
       "      <td>BURGESS AVE &amp; WHITE BRIDGE PIKE, NASHVILLE, TN...</td>\n",
       "      <td>36.145004</td>\n",
       "      <td>-86.857970</td>\n",
       "      <td>1.0</td>\n",
       "      <td>5103.0</td>\n",
       "      <td>113.0</td>\n",
       "      <td>...</td>\n",
       "      <td>False</td>\n",
       "      <td>NaN</td>\n",
       "      <td>N</td>\n",
       "      <td>False</td>\n",
       "      <td>False</td>\n",
       "      <td>False</td>\n",
       "      <td>False</td>\n",
       "      <td>False</td>\n",
       "      <td>False</td>\n",
       "      <td>False</td>\n",
       "    </tr>\n",
       "    <tr>\n",
       "      <th>1</th>\n",
       "      <td>492044</td>\n",
       "      <td>2001428</td>\n",
       "      <td>2015-01-19</td>\n",
       "      <td>19920.0</td>\n",
       "      <td>DUE WEST AVE W &amp; S GRAYCROFT AVE, MADISON, TN,...</td>\n",
       "      <td>36.249187</td>\n",
       "      <td>-86.734459</td>\n",
       "      <td>7.0</td>\n",
       "      <td>1797.0</td>\n",
       "      <td>723.0</td>\n",
       "      <td>...</td>\n",
       "      <td>False</td>\n",
       "      <td>False</td>\n",
       "      <td>N</td>\n",
       "      <td>False</td>\n",
       "      <td>False</td>\n",
       "      <td>False</td>\n",
       "      <td>False</td>\n",
       "      <td>False</td>\n",
       "      <td>False</td>\n",
       "      <td>False</td>\n",
       "    </tr>\n",
       "    <tr>\n",
       "      <th>2</th>\n",
       "      <td>431170</td>\n",
       "      <td>1996331</td>\n",
       "      <td>2015-01-15</td>\n",
       "      <td>1020.0</td>\n",
       "      <td>S GALLATIN PIKE &amp; MADISON BLVD, MADISON, TN, 3...</td>\n",
       "      <td>36.254979</td>\n",
       "      <td>-86.715246</td>\n",
       "      <td>7.0</td>\n",
       "      <td>1623.0</td>\n",
       "      <td>711.0</td>\n",
       "      <td>...</td>\n",
       "      <td>False</td>\n",
       "      <td>False</td>\n",
       "      <td>N</td>\n",
       "      <td>False</td>\n",
       "      <td>False</td>\n",
       "      <td>False</td>\n",
       "      <td>False</td>\n",
       "      <td>False</td>\n",
       "      <td>False</td>\n",
       "      <td>False</td>\n",
       "    </tr>\n",
       "    <tr>\n",
       "      <th>3</th>\n",
       "      <td>2066423</td>\n",
       "      <td>1319451</td>\n",
       "      <td>2013-05-17</td>\n",
       "      <td>62760.0</td>\n",
       "      <td>CHARLOTTE PIKE &amp; W HILLWOOD DR, NASHVILLE, TN,...</td>\n",
       "      <td>36.139093</td>\n",
       "      <td>-86.880533</td>\n",
       "      <td>1.0</td>\n",
       "      <td>5009.0</td>\n",
       "      <td>123.0</td>\n",
       "      <td>...</td>\n",
       "      <td>False</td>\n",
       "      <td>False</td>\n",
       "      <td>N</td>\n",
       "      <td>False</td>\n",
       "      <td>False</td>\n",
       "      <td>False</td>\n",
       "      <td>False</td>\n",
       "      <td>False</td>\n",
       "      <td>False</td>\n",
       "      <td>False</td>\n",
       "    </tr>\n",
       "    <tr>\n",
       "      <th>4</th>\n",
       "      <td>2899480</td>\n",
       "      <td>201349</td>\n",
       "      <td>2010-09-01</td>\n",
       "      <td>28140.0</td>\n",
       "      <td>BELL RD &amp; DODSON CHAPEL RD, HERMITAGE, TN, 37076</td>\n",
       "      <td>36.163310</td>\n",
       "      <td>-86.613147</td>\n",
       "      <td>5.0</td>\n",
       "      <td>9501.0</td>\n",
       "      <td>521.0</td>\n",
       "      <td>...</td>\n",
       "      <td>False</td>\n",
       "      <td>NaN</td>\n",
       "      <td>N</td>\n",
       "      <td>False</td>\n",
       "      <td>False</td>\n",
       "      <td>False</td>\n",
       "      <td>False</td>\n",
       "      <td>False</td>\n",
       "      <td>False</td>\n",
       "      <td>False</td>\n",
       "    </tr>\n",
       "  </tbody>\n",
       "</table>\n",
       "<p>5 rows × 43 columns</p>\n",
       "</div>"
      ],
      "text/plain": [
       "     index raw_row_number        date     time  \\\n",
       "0  1840907          93347  2010-04-18  13140.0   \n",
       "1   492044        2001428  2015-01-19  19920.0   \n",
       "2   431170        1996331  2015-01-15   1020.0   \n",
       "3  2066423        1319451  2013-05-17  62760.0   \n",
       "4  2899480         201349  2010-09-01  28140.0   \n",
       "\n",
       "                                            location        lat        lng  \\\n",
       "0  BURGESS AVE & WHITE BRIDGE PIKE, NASHVILLE, TN...  36.145004 -86.857970   \n",
       "1  DUE WEST AVE W & S GRAYCROFT AVE, MADISON, TN,...  36.249187 -86.734459   \n",
       "2  S GALLATIN PIKE & MADISON BLVD, MADISON, TN, 3...  36.254979 -86.715246   \n",
       "3  CHARLOTTE PIKE & W HILLWOOD DR, NASHVILLE, TN,...  36.139093 -86.880533   \n",
       "4   BELL RD & DODSON CHAPEL RD, HERMITAGE, TN, 37076  36.163310 -86.613147   \n",
       "\n",
       "   precinct  reporting_area   zone  ...  raw_traffic_citation_issued  \\\n",
       "0       1.0          5103.0  113.0  ...                        False   \n",
       "1       7.0          1797.0  723.0  ...                        False   \n",
       "2       7.0          1623.0  711.0  ...                        False   \n",
       "3       1.0          5009.0  123.0  ...                        False   \n",
       "4       5.0          9501.0  521.0  ...                        False   \n",
       "\n",
       "  raw_misd_state_citation_issued raw_suspect_ethnicity raw_driver_searched  \\\n",
       "0                            NaN                     N               False   \n",
       "1                          False                     N               False   \n",
       "2                          False                     N               False   \n",
       "3                          False                     N               False   \n",
       "4                            NaN                     N               False   \n",
       "\n",
       "  raw_passenger_searched raw_search_consent  raw_search_arrest  \\\n",
       "0                  False              False              False   \n",
       "1                  False              False              False   \n",
       "2                  False              False              False   \n",
       "3                  False              False              False   \n",
       "4                  False              False              False   \n",
       "\n",
       "   raw_search_warrant  raw_search_inventory raw_search_plain_view  \n",
       "0               False                 False                 False  \n",
       "1               False                 False                 False  \n",
       "2               False                 False                 False  \n",
       "3               False                 False                 False  \n",
       "4               False                 False                 False  \n",
       "\n",
       "[5 rows x 43 columns]"
      ]
     },
     "execution_count": 4,
     "metadata": {},
     "output_type": "execute_result"
    }
   ],
   "source": [
    "# Issue loading; Will work in Datahub.\n",
    "# stops = pd.read_csv(\"https://github.com/ds-modules/data/raw/main/nashville_sample.csv\")\n",
    "\n",
    "user = \"suminpark\" #insert your user name\n",
    "path = \"/Users/\" + user +  \"/Documents/GitHub/Modules/Legalst-123/labs/data\" #edit this later for the actual lab. \n",
    "# user = \"fionaaaaa_mei\" #insert your user name\n",
    "# path = \"/Users/\" + user +  \"/Documents/GitHub/Legalst-123/labs/data\" #edit this later for the actual lab. \n",
    "stops = pd.read_csv(path + \"/stops_sample.csv\", index_col = 0)\n",
    "stops.head()"
   ]
  },
  {
   "cell_type": "markdown",
   "metadata": {},
   "source": [
    "## Exploratory Data Analysis"
   ]
  },
  {
   "cell_type": "markdown",
   "metadata": {},
   "source": [
    "Let's refer back to our last lab, when we explored different distributions using histogram. In particular, we looked at distribution of stops counts for `subject_sex`. For this notebook, let's look at the distribution of `subject_race` and `subject_age`. "
   ]
  },
  {
   "cell_type": "markdown",
   "metadata": {},
   "source": [
    "<!-- BEGIN QUESTION -->\n",
    "<div class=“alert alert-warning”>\n",
    "\n",
    "#### **Question 1.1**:\n",
    "Before explore these variables, let's clean the dataset. In the code cell below, drop any columns that has \"raw\" in their column names. Then, drop the rows with *any* null values EXCEPT for the columns` \"contraband_found\"`, `\"contraband_drugs\"`, `\"contraband_weapons\"`, `\"search_basis\"`, and `\"notes\"`.\n",
    "</div>\n",
    "\n",
    "Hint 1: Look at lab 04 question 1.1 and question 1.2! It should be very similar. "
   ]
  },
  {
   "cell_type": "code",
   "execution_count": 5,
   "metadata": {},
   "outputs": [],
   "source": [
    "# YOUR CODE HERE. You can use multiple lines than given lines. \n",
    "# ... \n",
    "# ...\n",
    "# stops = ..."
   ]
  },
  {
   "cell_type": "code",
   "execution_count": 6,
   "metadata": {},
   "outputs": [
    {
     "data": {
      "text/plain": [
       "Timestamp('2010-04-18 00:00:00')"
      ]
     },
     "execution_count": 6,
     "metadata": {},
     "output_type": "execute_result"
    }
   ],
   "source": [
    "#### just a sec, working on time series to check something.\n",
    "time_series_df = stops.copy()\n",
    "time_series_df['datetime'] = pd.to_datetime(time_series_df['date'], format='%Y-%m-%d')\n",
    "time_series_df['datetime'][0] #taking the first itme out from the \"date\" Series, the object should be a timestamp."
   ]
  },
  {
   "cell_type": "code",
   "execution_count": 21,
   "metadata": {},
   "outputs": [
    {
     "data": {
      "text/plain": [
       "datetime\n",
       "2010-04-18    Apr 2010\n",
       "2015-01-19    Jan 2015\n",
       "2015-01-15    Jan 2015\n",
       "2013-05-17    May 2013\n",
       "2010-09-01    Sep 2010\n",
       "                ...   \n",
       "2012-07-01    Jul 2012\n",
       "2012-01-10    Jan 2012\n",
       "2016-08-12    Aug 2016\n",
       "2011-08-24    Aug 2011\n",
       "2012-09-12    Sep 2012\n",
       "Name: adjusted_datetime, Length: 1000, dtype: object"
      ]
     },
     "execution_count": 21,
     "metadata": {},
     "output_type": "execute_result"
    }
   ],
   "source": [
    "time_series_df['datetime'][0].strftime('%b %Y')\n",
    "time_series_df['adjusted_datetime'] = [time_series_df['datetime'][index].strftime('%b %Y') for index in np.arange(time_series_df.shape[0])]\n",
    "time_series_df['adjusted_datetime']"
   ]
  },
  {
   "cell_type": "code",
   "execution_count": 23,
   "metadata": {},
   "outputs": [
    {
     "data": {
      "text/html": [
       "<div>\n",
       "<style scoped>\n",
       "    .dataframe tbody tr th:only-of-type {\n",
       "        vertical-align: middle;\n",
       "    }\n",
       "\n",
       "    .dataframe tbody tr th {\n",
       "        vertical-align: top;\n",
       "    }\n",
       "\n",
       "    .dataframe thead th {\n",
       "        text-align: right;\n",
       "    }\n",
       "</style>\n",
       "<table border=\"1\" class=\"dataframe\">\n",
       "  <thead>\n",
       "    <tr style=\"text-align: right;\">\n",
       "      <th></th>\n",
       "      <th>raw_row_number</th>\n",
       "      <th>date</th>\n",
       "      <th>time</th>\n",
       "      <th>location</th>\n",
       "      <th>lat</th>\n",
       "      <th>lng</th>\n",
       "      <th>precinct</th>\n",
       "      <th>reporting_area</th>\n",
       "      <th>zone</th>\n",
       "      <th>subject_age</th>\n",
       "      <th>...</th>\n",
       "      <th>raw_misd_state_citation_issued</th>\n",
       "      <th>raw_suspect_ethnicity</th>\n",
       "      <th>raw_driver_searched</th>\n",
       "      <th>raw_passenger_searched</th>\n",
       "      <th>raw_search_consent</th>\n",
       "      <th>raw_search_arrest</th>\n",
       "      <th>raw_search_warrant</th>\n",
       "      <th>raw_search_inventory</th>\n",
       "      <th>raw_search_plain_view</th>\n",
       "      <th>datetime</th>\n",
       "    </tr>\n",
       "    <tr>\n",
       "      <th>adjusted_datetime</th>\n",
       "      <th></th>\n",
       "      <th></th>\n",
       "      <th></th>\n",
       "      <th></th>\n",
       "      <th></th>\n",
       "      <th></th>\n",
       "      <th></th>\n",
       "      <th></th>\n",
       "      <th></th>\n",
       "      <th></th>\n",
       "      <th></th>\n",
       "      <th></th>\n",
       "      <th></th>\n",
       "      <th></th>\n",
       "      <th></th>\n",
       "      <th></th>\n",
       "      <th></th>\n",
       "      <th></th>\n",
       "      <th></th>\n",
       "      <th></th>\n",
       "      <th></th>\n",
       "    </tr>\n",
       "  </thead>\n",
       "  <tbody>\n",
       "    <tr>\n",
       "      <th>Apr 2010</th>\n",
       "      <td>10</td>\n",
       "      <td>10</td>\n",
       "      <td>10</td>\n",
       "      <td>10</td>\n",
       "      <td>10</td>\n",
       "      <td>10</td>\n",
       "      <td>10</td>\n",
       "      <td>10</td>\n",
       "      <td>10</td>\n",
       "      <td>10</td>\n",
       "      <td>...</td>\n",
       "      <td>0</td>\n",
       "      <td>10</td>\n",
       "      <td>10</td>\n",
       "      <td>10</td>\n",
       "      <td>10</td>\n",
       "      <td>10</td>\n",
       "      <td>10</td>\n",
       "      <td>10</td>\n",
       "      <td>10</td>\n",
       "      <td>10</td>\n",
       "    </tr>\n",
       "    <tr>\n",
       "      <th>Apr 2011</th>\n",
       "      <td>11</td>\n",
       "      <td>11</td>\n",
       "      <td>11</td>\n",
       "      <td>11</td>\n",
       "      <td>11</td>\n",
       "      <td>11</td>\n",
       "      <td>8</td>\n",
       "      <td>8</td>\n",
       "      <td>8</td>\n",
       "      <td>11</td>\n",
       "      <td>...</td>\n",
       "      <td>1</td>\n",
       "      <td>11</td>\n",
       "      <td>11</td>\n",
       "      <td>11</td>\n",
       "      <td>11</td>\n",
       "      <td>11</td>\n",
       "      <td>11</td>\n",
       "      <td>11</td>\n",
       "      <td>11</td>\n",
       "      <td>11</td>\n",
       "    </tr>\n",
       "    <tr>\n",
       "      <th>Apr 2012</th>\n",
       "      <td>10</td>\n",
       "      <td>10</td>\n",
       "      <td>10</td>\n",
       "      <td>10</td>\n",
       "      <td>10</td>\n",
       "      <td>10</td>\n",
       "      <td>10</td>\n",
       "      <td>10</td>\n",
       "      <td>10</td>\n",
       "      <td>10</td>\n",
       "      <td>...</td>\n",
       "      <td>10</td>\n",
       "      <td>10</td>\n",
       "      <td>10</td>\n",
       "      <td>10</td>\n",
       "      <td>10</td>\n",
       "      <td>10</td>\n",
       "      <td>10</td>\n",
       "      <td>10</td>\n",
       "      <td>10</td>\n",
       "      <td>10</td>\n",
       "    </tr>\n",
       "    <tr>\n",
       "      <th>Apr 2013</th>\n",
       "      <td>15</td>\n",
       "      <td>15</td>\n",
       "      <td>15</td>\n",
       "      <td>15</td>\n",
       "      <td>15</td>\n",
       "      <td>15</td>\n",
       "      <td>14</td>\n",
       "      <td>14</td>\n",
       "      <td>14</td>\n",
       "      <td>15</td>\n",
       "      <td>...</td>\n",
       "      <td>15</td>\n",
       "      <td>15</td>\n",
       "      <td>15</td>\n",
       "      <td>15</td>\n",
       "      <td>15</td>\n",
       "      <td>15</td>\n",
       "      <td>15</td>\n",
       "      <td>15</td>\n",
       "      <td>15</td>\n",
       "      <td>15</td>\n",
       "    </tr>\n",
       "    <tr>\n",
       "      <th>Apr 2014</th>\n",
       "      <td>13</td>\n",
       "      <td>13</td>\n",
       "      <td>13</td>\n",
       "      <td>13</td>\n",
       "      <td>12</td>\n",
       "      <td>12</td>\n",
       "      <td>11</td>\n",
       "      <td>12</td>\n",
       "      <td>11</td>\n",
       "      <td>13</td>\n",
       "      <td>...</td>\n",
       "      <td>13</td>\n",
       "      <td>13</td>\n",
       "      <td>13</td>\n",
       "      <td>13</td>\n",
       "      <td>13</td>\n",
       "      <td>13</td>\n",
       "      <td>13</td>\n",
       "      <td>13</td>\n",
       "      <td>13</td>\n",
       "      <td>13</td>\n",
       "    </tr>\n",
       "    <tr>\n",
       "      <th>...</th>\n",
       "      <td>...</td>\n",
       "      <td>...</td>\n",
       "      <td>...</td>\n",
       "      <td>...</td>\n",
       "      <td>...</td>\n",
       "      <td>...</td>\n",
       "      <td>...</td>\n",
       "      <td>...</td>\n",
       "      <td>...</td>\n",
       "      <td>...</td>\n",
       "      <td>...</td>\n",
       "      <td>...</td>\n",
       "      <td>...</td>\n",
       "      <td>...</td>\n",
       "      <td>...</td>\n",
       "      <td>...</td>\n",
       "      <td>...</td>\n",
       "      <td>...</td>\n",
       "      <td>...</td>\n",
       "      <td>...</td>\n",
       "      <td>...</td>\n",
       "    </tr>\n",
       "    <tr>\n",
       "      <th>Sep 2014</th>\n",
       "      <td>12</td>\n",
       "      <td>12</td>\n",
       "      <td>12</td>\n",
       "      <td>12</td>\n",
       "      <td>11</td>\n",
       "      <td>11</td>\n",
       "      <td>9</td>\n",
       "      <td>10</td>\n",
       "      <td>9</td>\n",
       "      <td>12</td>\n",
       "      <td>...</td>\n",
       "      <td>12</td>\n",
       "      <td>12</td>\n",
       "      <td>12</td>\n",
       "      <td>12</td>\n",
       "      <td>12</td>\n",
       "      <td>12</td>\n",
       "      <td>12</td>\n",
       "      <td>12</td>\n",
       "      <td>12</td>\n",
       "      <td>12</td>\n",
       "    </tr>\n",
       "    <tr>\n",
       "      <th>Sep 2015</th>\n",
       "      <td>10</td>\n",
       "      <td>10</td>\n",
       "      <td>10</td>\n",
       "      <td>10</td>\n",
       "      <td>9</td>\n",
       "      <td>9</td>\n",
       "      <td>9</td>\n",
       "      <td>9</td>\n",
       "      <td>9</td>\n",
       "      <td>10</td>\n",
       "      <td>...</td>\n",
       "      <td>10</td>\n",
       "      <td>10</td>\n",
       "      <td>10</td>\n",
       "      <td>10</td>\n",
       "      <td>10</td>\n",
       "      <td>10</td>\n",
       "      <td>10</td>\n",
       "      <td>10</td>\n",
       "      <td>10</td>\n",
       "      <td>10</td>\n",
       "    </tr>\n",
       "    <tr>\n",
       "      <th>Sep 2016</th>\n",
       "      <td>6</td>\n",
       "      <td>6</td>\n",
       "      <td>6</td>\n",
       "      <td>6</td>\n",
       "      <td>4</td>\n",
       "      <td>4</td>\n",
       "      <td>5</td>\n",
       "      <td>5</td>\n",
       "      <td>5</td>\n",
       "      <td>6</td>\n",
       "      <td>...</td>\n",
       "      <td>6</td>\n",
       "      <td>6</td>\n",
       "      <td>6</td>\n",
       "      <td>6</td>\n",
       "      <td>6</td>\n",
       "      <td>6</td>\n",
       "      <td>6</td>\n",
       "      <td>6</td>\n",
       "      <td>6</td>\n",
       "      <td>6</td>\n",
       "    </tr>\n",
       "    <tr>\n",
       "      <th>Sep 2017</th>\n",
       "      <td>8</td>\n",
       "      <td>8</td>\n",
       "      <td>8</td>\n",
       "      <td>8</td>\n",
       "      <td>7</td>\n",
       "      <td>7</td>\n",
       "      <td>8</td>\n",
       "      <td>8</td>\n",
       "      <td>8</td>\n",
       "      <td>8</td>\n",
       "      <td>...</td>\n",
       "      <td>8</td>\n",
       "      <td>8</td>\n",
       "      <td>8</td>\n",
       "      <td>8</td>\n",
       "      <td>8</td>\n",
       "      <td>8</td>\n",
       "      <td>8</td>\n",
       "      <td>8</td>\n",
       "      <td>8</td>\n",
       "      <td>8</td>\n",
       "    </tr>\n",
       "    <tr>\n",
       "      <th>Sep 2018</th>\n",
       "      <td>6</td>\n",
       "      <td>6</td>\n",
       "      <td>6</td>\n",
       "      <td>6</td>\n",
       "      <td>5</td>\n",
       "      <td>5</td>\n",
       "      <td>6</td>\n",
       "      <td>6</td>\n",
       "      <td>6</td>\n",
       "      <td>6</td>\n",
       "      <td>...</td>\n",
       "      <td>6</td>\n",
       "      <td>6</td>\n",
       "      <td>6</td>\n",
       "      <td>6</td>\n",
       "      <td>6</td>\n",
       "      <td>6</td>\n",
       "      <td>6</td>\n",
       "      <td>6</td>\n",
       "      <td>6</td>\n",
       "      <td>6</td>\n",
       "    </tr>\n",
       "  </tbody>\n",
       "</table>\n",
       "<p>111 rows × 43 columns</p>\n",
       "</div>"
      ],
      "text/plain": [
       "                   raw_row_number  date  time  location  lat  lng  precinct  \\\n",
       "adjusted_datetime                                                             \n",
       "Apr 2010                       10    10    10        10   10   10        10   \n",
       "Apr 2011                       11    11    11        11   11   11         8   \n",
       "Apr 2012                       10    10    10        10   10   10        10   \n",
       "Apr 2013                       15    15    15        15   15   15        14   \n",
       "Apr 2014                       13    13    13        13   12   12        11   \n",
       "...                           ...   ...   ...       ...  ...  ...       ...   \n",
       "Sep 2014                       12    12    12        12   11   11         9   \n",
       "Sep 2015                       10    10    10        10    9    9         9   \n",
       "Sep 2016                        6     6     6         6    4    4         5   \n",
       "Sep 2017                        8     8     8         8    7    7         8   \n",
       "Sep 2018                        6     6     6         6    5    5         6   \n",
       "\n",
       "                   reporting_area  zone  subject_age  ...  \\\n",
       "adjusted_datetime                                     ...   \n",
       "Apr 2010                       10    10           10  ...   \n",
       "Apr 2011                        8     8           11  ...   \n",
       "Apr 2012                       10    10           10  ...   \n",
       "Apr 2013                       14    14           15  ...   \n",
       "Apr 2014                       12    11           13  ...   \n",
       "...                           ...   ...          ...  ...   \n",
       "Sep 2014                       10     9           12  ...   \n",
       "Sep 2015                        9     9           10  ...   \n",
       "Sep 2016                        5     5            6  ...   \n",
       "Sep 2017                        8     8            8  ...   \n",
       "Sep 2018                        6     6            6  ...   \n",
       "\n",
       "                   raw_misd_state_citation_issued  raw_suspect_ethnicity  \\\n",
       "adjusted_datetime                                                          \n",
       "Apr 2010                                        0                     10   \n",
       "Apr 2011                                        1                     11   \n",
       "Apr 2012                                       10                     10   \n",
       "Apr 2013                                       15                     15   \n",
       "Apr 2014                                       13                     13   \n",
       "...                                           ...                    ...   \n",
       "Sep 2014                                       12                     12   \n",
       "Sep 2015                                       10                     10   \n",
       "Sep 2016                                        6                      6   \n",
       "Sep 2017                                        8                      8   \n",
       "Sep 2018                                        6                      6   \n",
       "\n",
       "                   raw_driver_searched  raw_passenger_searched  \\\n",
       "adjusted_datetime                                                \n",
       "Apr 2010                            10                      10   \n",
       "Apr 2011                            11                      11   \n",
       "Apr 2012                            10                      10   \n",
       "Apr 2013                            15                      15   \n",
       "Apr 2014                            13                      13   \n",
       "...                                ...                     ...   \n",
       "Sep 2014                            12                      12   \n",
       "Sep 2015                            10                      10   \n",
       "Sep 2016                             6                       6   \n",
       "Sep 2017                             8                       8   \n",
       "Sep 2018                             6                       6   \n",
       "\n",
       "                   raw_search_consent  raw_search_arrest  raw_search_warrant  \\\n",
       "adjusted_datetime                                                              \n",
       "Apr 2010                           10                 10                  10   \n",
       "Apr 2011                           11                 11                  11   \n",
       "Apr 2012                           10                 10                  10   \n",
       "Apr 2013                           15                 15                  15   \n",
       "Apr 2014                           13                 13                  13   \n",
       "...                               ...                ...                 ...   \n",
       "Sep 2014                           12                 12                  12   \n",
       "Sep 2015                           10                 10                  10   \n",
       "Sep 2016                            6                  6                   6   \n",
       "Sep 2017                            8                  8                   8   \n",
       "Sep 2018                            6                  6                   6   \n",
       "\n",
       "                   raw_search_inventory  raw_search_plain_view  datetime  \n",
       "adjusted_datetime                                                         \n",
       "Apr 2010                             10                     10        10  \n",
       "Apr 2011                             11                     11        11  \n",
       "Apr 2012                             10                     10        10  \n",
       "Apr 2013                             15                     15        15  \n",
       "Apr 2014                             13                     13        13  \n",
       "...                                 ...                    ...       ...  \n",
       "Sep 2014                             12                     12        12  \n",
       "Sep 2015                             10                     10        10  \n",
       "Sep 2016                              6                      6         6  \n",
       "Sep 2017                              8                      8         8  \n",
       "Sep 2018                              6                      6         6  \n",
       "\n",
       "[111 rows x 43 columns]"
      ]
     },
     "execution_count": 23,
     "metadata": {},
     "output_type": "execute_result"
    }
   ],
   "source": [
    "time_series_df.index = time_series_df['datetime']\n",
    "groupedby_count = time_series_df.groupby('adjusted_datetime').count()\n",
    "\n",
    "groupedby_count\n"
   ]
  },
  {
   "cell_type": "code",
   "execution_count": 31,
   "metadata": {},
   "outputs": [
    {
     "ename": "ConversionError",
     "evalue": "Failed to convert value(s) to axis units: Index(['Apr 2010', 'Apr 2011', 'Apr 2012', 'Apr 2013', 'Apr 2014', 'Apr 2015',\n       'Apr 2016', 'Apr 2017', 'Apr 2018', 'Aug 2010',\n       ...\n       'Oct 2018', 'Sep 2010', 'Sep 2011', 'Sep 2012', 'Sep 2013', 'Sep 2014',\n       'Sep 2015', 'Sep 2016', 'Sep 2017', 'Sep 2018'],\n      dtype='object', name='adjusted_datetime', length=111)",
     "output_type": "error",
     "traceback": [
      "\u001b[0;31m---------------------------------------------------------------------------\u001b[0m",
      "\u001b[0;31mValueError\u001b[0m                                Traceback (most recent call last)",
      "\u001b[0;32m/Library/Frameworks/Python.framework/Versions/3.9/lib/python3.9/site-packages/matplotlib/axis.py\u001b[0m in \u001b[0;36mconvert_units\u001b[0;34m(self, x)\u001b[0m\n\u001b[1;32m   1768\u001b[0m         \u001b[0;32mtry\u001b[0m\u001b[0;34m:\u001b[0m\u001b[0;34m\u001b[0m\u001b[0;34m\u001b[0m\u001b[0m\n\u001b[0;32m-> 1769\u001b[0;31m             \u001b[0mret\u001b[0m \u001b[0;34m=\u001b[0m \u001b[0mself\u001b[0m\u001b[0;34m.\u001b[0m\u001b[0mconverter\u001b[0m\u001b[0;34m.\u001b[0m\u001b[0mconvert\u001b[0m\u001b[0;34m(\u001b[0m\u001b[0mx\u001b[0m\u001b[0;34m,\u001b[0m \u001b[0mself\u001b[0m\u001b[0;34m.\u001b[0m\u001b[0munits\u001b[0m\u001b[0;34m,\u001b[0m \u001b[0mself\u001b[0m\u001b[0;34m)\u001b[0m\u001b[0;34m\u001b[0m\u001b[0;34m\u001b[0m\u001b[0m\n\u001b[0m\u001b[1;32m   1770\u001b[0m         \u001b[0;32mexcept\u001b[0m \u001b[0mException\u001b[0m \u001b[0;32mas\u001b[0m \u001b[0me\u001b[0m\u001b[0;34m:\u001b[0m\u001b[0;34m\u001b[0m\u001b[0;34m\u001b[0m\u001b[0m\n",
      "\u001b[0;32m/Library/Frameworks/Python.framework/Versions/3.9/lib/python3.9/site-packages/matplotlib/category.py\u001b[0m in \u001b[0;36mconvert\u001b[0;34m(value, unit, axis)\u001b[0m\n\u001b[1;32m     48\u001b[0m         \u001b[0;32mif\u001b[0m \u001b[0munit\u001b[0m \u001b[0;32mis\u001b[0m \u001b[0;32mNone\u001b[0m\u001b[0;34m:\u001b[0m\u001b[0;34m\u001b[0m\u001b[0;34m\u001b[0m\u001b[0m\n\u001b[0;32m---> 49\u001b[0;31m             raise ValueError(\n\u001b[0m\u001b[1;32m     50\u001b[0m                 \u001b[0;34m'Missing category information for StrCategoryConverter; '\u001b[0m\u001b[0;34m\u001b[0m\u001b[0;34m\u001b[0m\u001b[0m\n",
      "\u001b[0;31mValueError\u001b[0m: Missing category information for StrCategoryConverter; this might be caused by unintendedly mixing categorical and numeric data",
      "\nThe above exception was the direct cause of the following exception:\n",
      "\u001b[0;31mConversionError\u001b[0m                           Traceback (most recent call last)",
      "\u001b[0;32m/var/folders/qj/1mxrck1x3fg7s25g3g04md640000gn/T/ipykernel_3698/1190785757.py\u001b[0m in \u001b[0;36m<module>\u001b[0;34m\u001b[0m\n\u001b[1;32m     11\u001b[0m \u001b[0;34m\u001b[0m\u001b[0m\n\u001b[1;32m     12\u001b[0m \u001b[0;31m# Adds the time on the x-axis\u001b[0m\u001b[0;34m\u001b[0m\u001b[0;34m\u001b[0m\u001b[0;34m\u001b[0m\u001b[0m\n\u001b[0;32m---> 13\u001b[0;31m \u001b[0msub_plot\u001b[0m\u001b[0;34m.\u001b[0m\u001b[0mset_xticks\u001b[0m\u001b[0;34m(\u001b[0m\u001b[0mgroupedby_count\u001b[0m\u001b[0;34m.\u001b[0m\u001b[0mindex\u001b[0m\u001b[0;34m)\u001b[0m\u001b[0;34m\u001b[0m\u001b[0;34m\u001b[0m\u001b[0m\n\u001b[0m\u001b[1;32m     14\u001b[0m \u001b[0;34m\u001b[0m\u001b[0m\n\u001b[1;32m     15\u001b[0m \u001b[0;34m\u001b[0m\u001b[0m\n",
      "\u001b[0;32m/Library/Frameworks/Python.framework/Versions/3.9/lib/python3.9/site-packages/matplotlib/axes/_base.py\u001b[0m in \u001b[0;36mwrapper\u001b[0;34m(self, *args, **kwargs)\u001b[0m\n\u001b[1;32m     71\u001b[0m \u001b[0;34m\u001b[0m\u001b[0m\n\u001b[1;32m     72\u001b[0m         \u001b[0;32mdef\u001b[0m \u001b[0mwrapper\u001b[0m\u001b[0;34m(\u001b[0m\u001b[0mself\u001b[0m\u001b[0;34m,\u001b[0m \u001b[0;34m*\u001b[0m\u001b[0margs\u001b[0m\u001b[0;34m,\u001b[0m \u001b[0;34m**\u001b[0m\u001b[0mkwargs\u001b[0m\u001b[0;34m)\u001b[0m\u001b[0;34m:\u001b[0m\u001b[0;34m\u001b[0m\u001b[0;34m\u001b[0m\u001b[0m\n\u001b[0;32m---> 73\u001b[0;31m             \u001b[0;32mreturn\u001b[0m \u001b[0mget_method\u001b[0m\u001b[0;34m(\u001b[0m\u001b[0mself\u001b[0m\u001b[0;34m)\u001b[0m\u001b[0;34m(\u001b[0m\u001b[0;34m*\u001b[0m\u001b[0margs\u001b[0m\u001b[0;34m,\u001b[0m \u001b[0;34m**\u001b[0m\u001b[0mkwargs\u001b[0m\u001b[0;34m)\u001b[0m\u001b[0;34m\u001b[0m\u001b[0;34m\u001b[0m\u001b[0m\n\u001b[0m\u001b[1;32m     74\u001b[0m \u001b[0;34m\u001b[0m\u001b[0m\n\u001b[1;32m     75\u001b[0m         \u001b[0mwrapper\u001b[0m\u001b[0;34m.\u001b[0m\u001b[0m__module__\u001b[0m \u001b[0;34m=\u001b[0m \u001b[0mowner\u001b[0m\u001b[0;34m.\u001b[0m\u001b[0m__module__\u001b[0m\u001b[0;34m\u001b[0m\u001b[0;34m\u001b[0m\u001b[0m\n",
      "\u001b[0;32m/Library/Frameworks/Python.framework/Versions/3.9/lib/python3.9/site-packages/matplotlib/axis.py\u001b[0m in \u001b[0;36mset_ticks\u001b[0;34m(self, ticks, labels, minor, **kwargs)\u001b[0m\n\u001b[1;32m   2136\u001b[0m                 \u001b[0;34m\"other than 'minor' modify the text labels and can only be used if \"\u001b[0m\u001b[0;34m\u001b[0m\u001b[0;34m\u001b[0m\u001b[0m\n\u001b[1;32m   2137\u001b[0m                 \"'labels' are passed as well.\")\n\u001b[0;32m-> 2138\u001b[0;31m         \u001b[0mresult\u001b[0m \u001b[0;34m=\u001b[0m \u001b[0mself\u001b[0m\u001b[0;34m.\u001b[0m\u001b[0m_set_tick_locations\u001b[0m\u001b[0;34m(\u001b[0m\u001b[0mticks\u001b[0m\u001b[0;34m,\u001b[0m \u001b[0mminor\u001b[0m\u001b[0;34m=\u001b[0m\u001b[0mminor\u001b[0m\u001b[0;34m)\u001b[0m\u001b[0;34m\u001b[0m\u001b[0;34m\u001b[0m\u001b[0m\n\u001b[0m\u001b[1;32m   2139\u001b[0m         \u001b[0;32mif\u001b[0m \u001b[0mlabels\u001b[0m \u001b[0;32mis\u001b[0m \u001b[0;32mnot\u001b[0m \u001b[0;32mNone\u001b[0m\u001b[0;34m:\u001b[0m\u001b[0;34m\u001b[0m\u001b[0;34m\u001b[0m\u001b[0m\n\u001b[1;32m   2140\u001b[0m             \u001b[0mself\u001b[0m\u001b[0;34m.\u001b[0m\u001b[0mset_ticklabels\u001b[0m\u001b[0;34m(\u001b[0m\u001b[0mlabels\u001b[0m\u001b[0;34m,\u001b[0m \u001b[0mminor\u001b[0m\u001b[0;34m=\u001b[0m\u001b[0mminor\u001b[0m\u001b[0;34m,\u001b[0m \u001b[0;34m**\u001b[0m\u001b[0mkwargs\u001b[0m\u001b[0;34m)\u001b[0m\u001b[0;34m\u001b[0m\u001b[0;34m\u001b[0m\u001b[0m\n",
      "\u001b[0;32m/Library/Frameworks/Python.framework/Versions/3.9/lib/python3.9/site-packages/matplotlib/axis.py\u001b[0m in \u001b[0;36m_set_tick_locations\u001b[0;34m(self, ticks, minor)\u001b[0m\n\u001b[1;32m   2075\u001b[0m \u001b[0;34m\u001b[0m\u001b[0m\n\u001b[1;32m   2076\u001b[0m         \u001b[0;31m# XXX if the user changes units, the information will be lost here\u001b[0m\u001b[0;34m\u001b[0m\u001b[0;34m\u001b[0m\u001b[0;34m\u001b[0m\u001b[0m\n\u001b[0;32m-> 2077\u001b[0;31m         \u001b[0mticks\u001b[0m \u001b[0;34m=\u001b[0m \u001b[0mself\u001b[0m\u001b[0;34m.\u001b[0m\u001b[0mconvert_units\u001b[0m\u001b[0;34m(\u001b[0m\u001b[0mticks\u001b[0m\u001b[0;34m)\u001b[0m\u001b[0;34m\u001b[0m\u001b[0;34m\u001b[0m\u001b[0m\n\u001b[0m\u001b[1;32m   2078\u001b[0m         \u001b[0mlocator\u001b[0m \u001b[0;34m=\u001b[0m \u001b[0mmticker\u001b[0m\u001b[0;34m.\u001b[0m\u001b[0mFixedLocator\u001b[0m\u001b[0;34m(\u001b[0m\u001b[0mticks\u001b[0m\u001b[0;34m)\u001b[0m  \u001b[0;31m# validate ticks early.\u001b[0m\u001b[0;34m\u001b[0m\u001b[0;34m\u001b[0m\u001b[0m\n\u001b[1;32m   2079\u001b[0m         \u001b[0;32mif\u001b[0m \u001b[0mlen\u001b[0m\u001b[0;34m(\u001b[0m\u001b[0mticks\u001b[0m\u001b[0;34m)\u001b[0m\u001b[0;34m:\u001b[0m\u001b[0;34m\u001b[0m\u001b[0;34m\u001b[0m\u001b[0m\n",
      "\u001b[0;32m/Library/Frameworks/Python.framework/Versions/3.9/lib/python3.9/site-packages/matplotlib/axis.py\u001b[0m in \u001b[0;36mconvert_units\u001b[0;34m(self, x)\u001b[0m\n\u001b[1;32m   1769\u001b[0m             \u001b[0mret\u001b[0m \u001b[0;34m=\u001b[0m \u001b[0mself\u001b[0m\u001b[0;34m.\u001b[0m\u001b[0mconverter\u001b[0m\u001b[0;34m.\u001b[0m\u001b[0mconvert\u001b[0m\u001b[0;34m(\u001b[0m\u001b[0mx\u001b[0m\u001b[0;34m,\u001b[0m \u001b[0mself\u001b[0m\u001b[0;34m.\u001b[0m\u001b[0munits\u001b[0m\u001b[0;34m,\u001b[0m \u001b[0mself\u001b[0m\u001b[0;34m)\u001b[0m\u001b[0;34m\u001b[0m\u001b[0;34m\u001b[0m\u001b[0m\n\u001b[1;32m   1770\u001b[0m         \u001b[0;32mexcept\u001b[0m \u001b[0mException\u001b[0m \u001b[0;32mas\u001b[0m \u001b[0me\u001b[0m\u001b[0;34m:\u001b[0m\u001b[0;34m\u001b[0m\u001b[0;34m\u001b[0m\u001b[0m\n\u001b[0;32m-> 1771\u001b[0;31m             raise munits.ConversionError('Failed to convert value(s) to axis '\n\u001b[0m\u001b[1;32m   1772\u001b[0m                                          f'units: {x!r}') from e\n\u001b[1;32m   1773\u001b[0m         \u001b[0;32mreturn\u001b[0m \u001b[0mret\u001b[0m\u001b[0;34m\u001b[0m\u001b[0;34m\u001b[0m\u001b[0m\n",
      "\u001b[0;31mConversionError\u001b[0m: Failed to convert value(s) to axis units: Index(['Apr 2010', 'Apr 2011', 'Apr 2012', 'Apr 2013', 'Apr 2014', 'Apr 2015',\n       'Apr 2016', 'Apr 2017', 'Apr 2018', 'Aug 2010',\n       ...\n       'Oct 2018', 'Sep 2010', 'Sep 2011', 'Sep 2012', 'Sep 2013', 'Sep 2014',\n       'Sep 2015', 'Sep 2016', 'Sep 2017', 'Sep 2018'],\n      dtype='object', name='adjusted_datetime', length=111)"
     ]
    },
    {
     "data": {
      "image/png": "[encoded data removed]",
      "text/plain": [
       "<Figure size 1800x576 with 1 Axes>"
      ]
     },
     "metadata": {},
     "output_type": "display_data"
    }
   ],
   "source": [
    "sub_plot = groupedby_count.plot(y='raw_row_number', use_index=True,figsize = (25, 8))\n",
    "# Adds a x-axis label\n",
    "sub_plot.set_xlabel(\"Time\")\n",
    "\n",
    "# Adds a y-axis label\n",
    "sub_plot.set_ylabel(\"count\")\n",
    "\n",
    "# Adds a title to our line plot\n",
    "sub_plot.set_title(\"time analysis on police count\")\n",
    "\n",
    "\n",
    "# Adds the time on the x-axis\n",
    "sub_plot.set_xticks(groupedby_count.index)\n",
    "\n",
    "\n",
    "# Sets the size of the x-axis\n",
    "sub_plot.tick_params(axis='x', labelsize=13)"
   ]
  },
  {
   "cell_type": "code",
   "execution_count": 11,
   "metadata": {},
   "outputs": [],
   "source": [
    "#SOLUTION \n",
    "raw_columns = [col for col in stops.columns if 'raw_' in col]\n",
    "necessary_cols = stops.columns.drop([\"contraband_found\", \"contraband_drugs\", \"contraband_weapons\", \"search_basis\", \"notes\"]) #SOLUTION \n",
    "stops = stops.dropna(subset=necessary_cols,axis=0)\n",
    "stops = stops.drop(raw_columns, axis=1)"
   ]
  },
  {
   "cell_type": "code",
   "execution_count": 12,
   "metadata": {},
   "outputs": [
    {
     "data": {
      "text/html": [
       "<div>\n",
       "<style scoped>\n",
       "    .dataframe tbody tr th:only-of-type {\n",
       "        vertical-align: middle;\n",
       "    }\n",
       "\n",
       "    .dataframe tbody tr th {\n",
       "        vertical-align: top;\n",
       "    }\n",
       "\n",
       "    .dataframe thead th {\n",
       "        text-align: right;\n",
       "    }\n",
       "</style>\n",
       "<table border=\"1\" class=\"dataframe\">\n",
       "  <thead>\n",
       "    <tr style=\"text-align: right;\">\n",
       "      <th></th>\n",
       "      <th>index</th>\n",
       "      <th>time</th>\n",
       "      <th>lat</th>\n",
       "      <th>lng</th>\n",
       "      <th>precinct</th>\n",
       "      <th>reporting_area</th>\n",
       "      <th>zone</th>\n",
       "      <th>subject_age</th>\n",
       "    </tr>\n",
       "  </thead>\n",
       "  <tbody>\n",
       "    <tr>\n",
       "      <th>count</th>\n",
       "      <td>4.890000e+02</td>\n",
       "      <td>489.000000</td>\n",
       "      <td>489.000000</td>\n",
       "      <td>489.000000</td>\n",
       "      <td>489.000000</td>\n",
       "      <td>489.000000</td>\n",
       "      <td>489.000000</td>\n",
       "      <td>489.000000</td>\n",
       "    </tr>\n",
       "    <tr>\n",
       "      <th>mean</th>\n",
       "      <td>1.623813e+06</td>\n",
       "      <td>47010.429448</td>\n",
       "      <td>36.151011</td>\n",
       "      <td>-86.749530</td>\n",
       "      <td>4.498978</td>\n",
       "      <td>7262.711656</td>\n",
       "      <td>470.546012</td>\n",
       "      <td>37.075665</td>\n",
       "    </tr>\n",
       "    <tr>\n",
       "      <th>std</th>\n",
       "      <td>9.293382e+05</td>\n",
       "      <td>25074.932653</td>\n",
       "      <td>0.067460</td>\n",
       "      <td>0.070825</td>\n",
       "      <td>2.238930</td>\n",
       "      <td>11272.749123</td>\n",
       "      <td>225.083587</td>\n",
       "      <td>13.562258</td>\n",
       "    </tr>\n",
       "    <tr>\n",
       "      <th>min</th>\n",
       "      <td>1.025100e+04</td>\n",
       "      <td>60.000000</td>\n",
       "      <td>35.727554</td>\n",
       "      <td>-87.010664</td>\n",
       "      <td>1.000000</td>\n",
       "      <td>889.000000</td>\n",
       "      <td>111.000000</td>\n",
       "      <td>16.000000</td>\n",
       "    </tr>\n",
       "    <tr>\n",
       "      <th>25%</th>\n",
       "      <td>6.790540e+05</td>\n",
       "      <td>30720.000000</td>\n",
       "      <td>36.115037</td>\n",
       "      <td>-86.785525</td>\n",
       "      <td>3.000000</td>\n",
       "      <td>3021.000000</td>\n",
       "      <td>311.000000</td>\n",
       "      <td>26.000000</td>\n",
       "    </tr>\n",
       "    <tr>\n",
       "      <th>50%</th>\n",
       "      <td>1.747782e+06</td>\n",
       "      <td>48660.000000</td>\n",
       "      <td>36.155076</td>\n",
       "      <td>-86.752310</td>\n",
       "      <td>5.000000</td>\n",
       "      <td>5413.000000</td>\n",
       "      <td>511.000000</td>\n",
       "      <td>34.000000</td>\n",
       "    </tr>\n",
       "    <tr>\n",
       "      <th>75%</th>\n",
       "      <td>2.421645e+06</td>\n",
       "      <td>68340.000000</td>\n",
       "      <td>36.186962</td>\n",
       "      <td>-86.711017</td>\n",
       "      <td>6.000000</td>\n",
       "      <td>8810.000000</td>\n",
       "      <td>621.000000</td>\n",
       "      <td>46.000000</td>\n",
       "    </tr>\n",
       "    <tr>\n",
       "      <th>max</th>\n",
       "      <td>3.082012e+06</td>\n",
       "      <td>86280.000000</td>\n",
       "      <td>36.342921</td>\n",
       "      <td>-86.590802</td>\n",
       "      <td>8.000000</td>\n",
       "      <td>92960.000000</td>\n",
       "      <td>835.000000</td>\n",
       "      <td>82.000000</td>\n",
       "    </tr>\n",
       "  </tbody>\n",
       "</table>\n",
       "</div>"
      ],
      "text/plain": [
       "              index          time         lat         lng    precinct  \\\n",
       "count  4.890000e+02    489.000000  489.000000  489.000000  489.000000   \n",
       "mean   1.623813e+06  47010.429448   36.151011  -86.749530    4.498978   \n",
       "std    9.293382e+05  25074.932653    0.067460    0.070825    2.238930   \n",
       "min    1.025100e+04     60.000000   35.727554  -87.010664    1.000000   \n",
       "25%    6.790540e+05  30720.000000   36.115037  -86.785525    3.000000   \n",
       "50%    1.747782e+06  48660.000000   36.155076  -86.752310    5.000000   \n",
       "75%    2.421645e+06  68340.000000   36.186962  -86.711017    6.000000   \n",
       "max    3.082012e+06  86280.000000   36.342921  -86.590802    8.000000   \n",
       "\n",
       "       reporting_area        zone  subject_age  \n",
       "count      489.000000  489.000000   489.000000  \n",
       "mean      7262.711656  470.546012    37.075665  \n",
       "std      11272.749123  225.083587    13.562258  \n",
       "min        889.000000  111.000000    16.000000  \n",
       "25%       3021.000000  311.000000    26.000000  \n",
       "50%       5413.000000  511.000000    34.000000  \n",
       "75%       8810.000000  621.000000    46.000000  \n",
       "max      92960.000000  835.000000    82.000000  "
      ]
     },
     "execution_count": 12,
     "metadata": {},
     "output_type": "execute_result"
    }
   ],
   "source": [
    "stops.describe()"
   ]
  },
  {
   "cell_type": "markdown",
   "metadata": {},
   "source": [
    "<!-- BEGIN QUESTION -->\n",
    "<div class=“alert alert-warning”>\n",
    "\n",
    "#### **Question 1.2**:\n",
    "....\n",
    "\n",
    "</div>"
   ]
  },
  {
   "cell_type": "code",
   "execution_count": 4,
   "metadata": {},
   "outputs": [
    {
     "data": {
      "text/plain": [
       "Index(['index', 'raw_row_number', 'date', 'time', 'location', 'lat', 'lng',\n",
       "       'precinct', 'reporting_area', 'zone', 'subject_age', 'subject_race',\n",
       "       'subject_sex', 'officer_id_hash', 'type', 'violation', 'arrest_made',\n",
       "       'citation_issued', 'warning_issued', 'outcome', 'contraband_found',\n",
       "       'contraband_drugs', 'contraband_weapons', 'frisk_performed',\n",
       "       'search_conducted', 'search_person', 'search_vehicle', 'search_basis',\n",
       "       'reason_for_stop', 'vehicle_registration_state', 'notes',\n",
       "       'raw_verbal_warning_issued', 'raw_written_warning_issued',\n",
       "       'raw_traffic_citation_issued', 'raw_misd_state_citation_issued',\n",
       "       'raw_suspect_ethnicity', 'raw_driver_searched',\n",
       "       'raw_passenger_searched', 'raw_search_consent', 'raw_search_arrest',\n",
       "       'raw_search_warrant', 'raw_search_inventory', 'raw_search_plain_view'],\n",
       "      dtype='object')"
      ]
     },
     "execution_count": 4,
     "metadata": {},
     "output_type": "execute_result"
    }
   ],
   "source": [
    "stops.columns"
   ]
  },
  {
   "cell_type": "code",
   "execution_count": null,
   "metadata": {},
   "outputs": [],
   "source": [
    "stops.pivot_table(\"index = \"subject_race\", columns= \"violation\", values = \"search_conducted\"\")"
   ]
  },
  {
   "cell_type": "code",
   "execution_count": null,
   "metadata": {
    "collapsed": true
   },
   "outputs": [],
   "source": [
    "# Histogram code\n",
    "\n",
    "\n",
    "\n",
    "plt.hist(male_stops['subject_age'], label = \"male\", alpha = 0.5,  bins=num_bins, range=hist_range, edgecolor='k') #SOLUTOIN \n",
    "plt.xlabel('age')\n",
    "plt.ylabel('count')\n",
    "plt.show()"
   ]
  },
  {
   "cell_type": "markdown",
   "metadata": {},
   "source": [
    "What is the shape of the plot?"
   ]
  },
  {
   "cell_type": "markdown",
   "metadata": {},
   "source": []
  },
  {
   "cell_type": "markdown",
   "metadata": {},
   "source": [
    "Report the 25th, 50th, and 75th percentiles. Keep in mind that valid answers have domain [0,100]."
   ]
  },
  {
   "cell_type": "code",
   "execution_count": null,
   "metadata": {
    "collapsed": true
   },
   "outputs": [],
   "source": [
    "# Save column into an object called 'obama'\n",
    "\n",
    "# Find 25th percentile"
   ]
  },
  {
   "cell_type": "code",
   "execution_count": null,
   "metadata": {
    "collapsed": true
   },
   "outputs": [],
   "source": [
    "# Find 50th percentile"
   ]
  },
  {
   "cell_type": "code",
   "execution_count": null,
   "metadata": {
    "collapsed": true
   },
   "outputs": [],
   "source": [
    "# Find 75th percentile"
   ]
  },
  {
   "cell_type": "markdown",
   "metadata": {},
   "source": [
    "What does this distrubtion tell you about the American peoples' thoughts on Obama?"
   ]
  },
  {
   "cell_type": "markdown",
   "metadata": {},
   "source": []
  },
  {
   "cell_type": "markdown",
   "metadata": {},
   "source": [
    "### Question 1"
   ]
  },
  {
   "cell_type": "markdown",
   "metadata": {},
   "source": [
    "Now do the same for \"Feeling Thermometer - Donald Trump.\""
   ]
  },
  {
   "cell_type": "code",
   "execution_count": null,
   "metadata": {
    "collapsed": true
   },
   "outputs": [],
   "source": [
    "# Histogram"
   ]
  },
  {
   "cell_type": "code",
   "execution_count": null,
   "metadata": {
    "collapsed": true
   },
   "outputs": [],
   "source": [
    "# Save an object called 'trump'\n",
    "\n",
    "# Find 25th percentile"
   ]
  },
  {
   "cell_type": "code",
   "execution_count": null,
   "metadata": {
    "collapsed": true
   },
   "outputs": [],
   "source": [
    "# Find 50th percentile"
   ]
  },
  {
   "cell_type": "code",
   "execution_count": null,
   "metadata": {
    "collapsed": true
   },
   "outputs": [],
   "source": [
    "# Find 75th percentile"
   ]
  },
  {
   "cell_type": "markdown",
   "metadata": {},
   "source": [
    "How do the two distributions compare?"
   ]
  },
  {
   "cell_type": "markdown",
   "metadata": {},
   "source": []
  },
  {
   "cell_type": "markdown",
   "metadata": {},
   "source": [
    "Both distributions have a significant amount of their points at the two extremes (0 or 100). What does this tell you about the standard deviation of the data? Do the American people have strong opinions regarding these two candidates?"
   ]
  },
  {
   "cell_type": "markdown",
   "metadata": {},
   "source": []
  },
  {
   "cell_type": "markdown",
   "metadata": {},
   "source": [
    "## Bootstrap"
   ]
  },
  {
   "cell_type": "markdown",
   "metadata": {},
   "source": [
    "Write code that resamples the \"ftobama\" distribution, then plot a histogram. Be sure to resample the number of rows that exist in the dataset, with replacement."
   ]
  },
  {
   "cell_type": "code",
   "execution_count": null,
   "metadata": {
    "collapsed": true
   },
   "outputs": [],
   "source": [
    "# Find number of rows"
   ]
  },
  {
   "cell_type": "code",
   "execution_count": null,
   "metadata": {
    "collapsed": true
   },
   "outputs": [],
   "source": [
    "# Resample the data"
   ]
  },
  {
   "cell_type": "code",
   "execution_count": null,
   "metadata": {
    "collapsed": true
   },
   "outputs": [],
   "source": [
    "# Histogram"
   ]
  },
  {
   "cell_type": "code",
   "execution_count": null,
   "metadata": {
    "collapsed": true
   },
   "outputs": [],
   "source": [
    "# 50th percentile/median"
   ]
  },
  {
   "cell_type": "markdown",
   "metadata": {},
   "source": [
    "### Question 2"
   ]
  },
  {
   "cell_type": "markdown",
   "metadata": {},
   "source": [
    "How does the resampled median compare to the original median? Does this result make sense?"
   ]
  },
  {
   "cell_type": "markdown",
   "metadata": {},
   "source": []
  },
  {
   "cell_type": "markdown",
   "metadata": {},
   "source": [
    "Now, define a function titled \"bootstrap_median\" that takes the original sample, the column name we're concerned with, and the number of resamples as arguments. The function should calculate simulated medians and return them in an array."
   ]
  },
  {
   "cell_type": "code",
   "execution_count": null,
   "metadata": {
    "collapsed": true
   },
   "outputs": [],
   "source": [
    "# Define a function \"bootstrap_median\" with arguments \"original_sample\", \"label\", and \"replications\" \n",
    "# that returns an array with the medians found in replications\n",
    "def bootstrap_median(original_sample, label, replications):\n",
    "    \"\"\"Returns an array of bootstrapped sample medians:\n",
    "    original_sample: table containing the original sample\n",
    "    label: label of column containing the variable\n",
    "    replications: number of bootstrap samples\n",
    "    \"\"\"\n",
    "    just_one_column = original_sample.loc[:, label]\n",
    "    medians = []\n",
    "    for i in np.arange(replications):\n",
    "        ...\n",
    "\n",
    "    return ..."
   ]
  },
  {
   "cell_type": "markdown",
   "metadata": {},
   "source": [
    "Replicate the bootstrap 10,000 times, then save the results."
   ]
  },
  {
   "cell_type": "code",
   "execution_count": null,
   "metadata": {
    "collapsed": true
   },
   "outputs": [],
   "source": [
    "# Resample 10,000 times"
   ]
  },
  {
   "cell_type": "markdown",
   "metadata": {},
   "source": [
    "Plot a histogram of the resampled medians, and plot the 95% confidence interval. (hint: to plot the confidence interval, try using the 2.5 percentile and 97.5 percentile values in a numpy array)"
   ]
  },
  {
   "cell_type": "code",
   "execution_count": null,
   "metadata": {
    "collapsed": true
   },
   "outputs": [],
   "source": [
    "# Plot medians\n",
    "...\n",
    "plots.plot(np.array([pd.Series(medians).quantile(q=.025), pd.Series(medians).quantile(q=.975)]), np.array([0, 0]), color='yellow', lw=10, zorder=1)"
   ]
  },
  {
   "cell_type": "markdown",
   "metadata": {},
   "source": [
    "### Question 3"
   ]
  },
  {
   "cell_type": "markdown",
   "metadata": {},
   "source": [
    "What can you infer about the likely population median given the above distribution?"
   ]
  },
  {
   "cell_type": "markdown",
   "metadata": {},
   "source": []
  },
  {
   "cell_type": "markdown",
   "metadata": {},
   "source": [
    "Finally, write a simulation that constructs 100 confidence intervals. (Remember to use the 2.5 and 97.5 percentiles!)"
   ]
  },
  {
   "cell_type": "code",
   "execution_count": null,
   "metadata": {
    "collapsed": true
   },
   "outputs": [],
   "source": [
    "# Construct 100 confidence intervals\n",
    "left_ends = []\n",
    "right_ends = []\n",
    "\n",
    "for i in np.arange(100):\n",
    "    ...\n",
    "    \n",
    "intervals = pd.DataFrame(data={\"Left\": left_ends, \"Right\": right_ends})"
   ]
  },
  {
   "cell_type": "markdown",
   "metadata": {},
   "source": [
    "#### Question 4"
   ]
  },
  {
   "cell_type": "markdown",
   "metadata": {},
   "source": [
    "Finally, plot 100 confidence intervals (stacked on top of each other). What can you conclude about the median?"
   ]
  },
  {
   "cell_type": "markdown",
   "metadata": {},
   "source": []
  },
  {
   "cell_type": "code",
   "execution_count": null,
   "metadata": {
    "collapsed": true
   },
   "outputs": [],
   "source": [
    "# Plot the confidence intervals\n",
    "plots.figure(figsize=(8,8))\n",
    "for i in np.arange(100):\n",
    "    ends = ...\n",
    "    plots.plot(ends, np.array([i + 1, i + 1]), color='gold')\n",
    "plots.xlabel('Median')\n",
    "plots.ylabel('Replication')\n",
    "plots.title('Population Median and Intervals of Estimates');"
   ]
  },
  {
   "cell_type": "markdown",
   "metadata": {},
   "source": [
    "## Confidence Interval"
   ]
  },
  {
   "cell_type": "code",
   "execution_count": null,
   "metadata": {
    "collapsed": true
   },
   "outputs": [],
   "source": []
  },
  {
   "cell_type": "markdown",
   "metadata": {},
   "source": [
    "## Central Limit Theorem (CLT)"
   ]
  },
  {
   "cell_type": "markdown",
   "metadata": {},
   "source": []
  }
 ],
 "metadata": {
  "kernelspec": {
   "display_name": "Python 3.9.0 64-bit",
   "language": "python",
   "name": "python3"
  },
  "language_info": {
   "codemirror_mode": {
    "name": "ipython",
    "version": 3
   },
   "file_extension": ".py",
   "mimetype": "text/x-python",
   "name": "python",
   "nbconvert_exporter": "python",
   "pygments_lexer": "ipython3",
   "version": "3.9.0"
  },
  "vscode": {
   "interpreter": {
    "hash": "aee8b7b246df8f9039afb4144a1f6fd8d2ca17a180786b69acc140d282b71a49"
   }
  }
 },
 "nbformat": 4,
 "nbformat_minor": 2
}
