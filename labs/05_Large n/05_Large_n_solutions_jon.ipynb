{
 "cells": [
  {
   "cell_type": "markdown",
   "metadata": {},
   "source": [
    "# [LEGALST-123] Lab 05: Large N and Hypothesis Testing"
   ]
  },
  {
   "cell_type": "markdown",
   "metadata": {},
   "source": [
    "This lab will cover the basics of statistical sampling, the law of averages, and hypothesis testing. You should gain an intuition around how samples relate to populations, and the basics of statistical inference in the social sciences."
   ]
  },
  {
   "cell_type": "code",
   "execution_count": 2,
   "metadata": {},
   "outputs": [],
   "source": [
    "from collections import Counter\n",
    "import numpy as np\n",
    "import pandas as pd\n",
    "from scipy import stats\n",
    "%matplotlib inline\n",
    "import matplotlib.pyplot as plot\n",
    "plot.style.use('fivethirtyeight')"
   ]
  },
  {
   "cell_type": "markdown",
   "metadata": {},
   "source": [
    "## Data"
   ]
  },
  {
   "cell_type": "markdown",
   "metadata": {},
   "source": [
    "We'll continue using the ANES data for this lab!"
   ]
  },
  {
   "cell_type": "code",
   "execution_count": 3,
   "metadata": {},
   "outputs": [
    {
     "data": {
      "text/html": [
       "<div>\n",
       "<style scoped>\n",
       "    .dataframe tbody tr th:only-of-type {\n",
       "        vertical-align: middle;\n",
       "    }\n",
       "\n",
       "    .dataframe tbody tr th {\n",
       "        vertical-align: top;\n",
       "    }\n",
       "\n",
       "    .dataframe thead th {\n",
       "        text-align: right;\n",
       "    }\n",
       "</style>\n",
       "<table border=\"1\" class=\"dataframe\">\n",
       "  <thead>\n",
       "    <tr style=\"text-align: right;\">\n",
       "      <th></th>\n",
       "      <th>Unnamed: 0</th>\n",
       "      <th>pre_election_weight_ftf</th>\n",
       "      <th>post_election_weight_ftf</th>\n",
       "      <th>pre_voting_status</th>\n",
       "      <th>pre_economy_last_year</th>\n",
       "      <th>pre_party_id</th>\n",
       "      <th>pre_gun_access_importance</th>\n",
       "      <th>pre_unauthorized_immigrants</th>\n",
       "      <th>pre_birthright_citizenship</th>\n",
       "      <th>pre_govt_assist_to_blacks</th>\n",
       "      <th>...</th>\n",
       "      <th>post_discrim_christian</th>\n",
       "      <th>post_discrim_transgender</th>\n",
       "      <th>post_discrim_personal</th>\n",
       "      <th>post_skintone</th>\n",
       "      <th>post_discrim_skintone</th>\n",
       "      <th>post_support_trump</th>\n",
       "      <th>post_gender</th>\n",
       "      <th>post_age_est</th>\n",
       "      <th>post_inform_level</th>\n",
       "      <th>post_intelligence</th>\n",
       "    </tr>\n",
       "  </thead>\n",
       "  <tbody>\n",
       "    <tr>\n",
       "      <th>0</th>\n",
       "      <td>0</td>\n",
       "      <td>0.887</td>\n",
       "      <td>0.927</td>\n",
       "      <td>3</td>\n",
       "      <td>5.0</td>\n",
       "      <td>7.0</td>\n",
       "      <td>2.0</td>\n",
       "      <td>3.0</td>\n",
       "      <td>4.0</td>\n",
       "      <td>7.0</td>\n",
       "      <td>...</td>\n",
       "      <td>4.0</td>\n",
       "      <td>4.0</td>\n",
       "      <td>NaN</td>\n",
       "      <td>3.0</td>\n",
       "      <td>4.0</td>\n",
       "      <td>NaN</td>\n",
       "      <td>NaN</td>\n",
       "      <td>NaN</td>\n",
       "      <td>4.0</td>\n",
       "      <td>4.0</td>\n",
       "    </tr>\n",
       "    <tr>\n",
       "      <th>1</th>\n",
       "      <td>1</td>\n",
       "      <td>1.160</td>\n",
       "      <td>1.084</td>\n",
       "      <td>3</td>\n",
       "      <td>3.0</td>\n",
       "      <td>6.0</td>\n",
       "      <td>1.0</td>\n",
       "      <td>1.0</td>\n",
       "      <td>1.0</td>\n",
       "      <td>7.0</td>\n",
       "      <td>...</td>\n",
       "      <td>4.0</td>\n",
       "      <td>1.0</td>\n",
       "      <td>NaN</td>\n",
       "      <td>3.0</td>\n",
       "      <td>4.0</td>\n",
       "      <td>NaN</td>\n",
       "      <td>NaN</td>\n",
       "      <td>NaN</td>\n",
       "      <td>1.0</td>\n",
       "      <td>2.0</td>\n",
       "    </tr>\n",
       "    <tr>\n",
       "      <th>2</th>\n",
       "      <td>2</td>\n",
       "      <td>0.416</td>\n",
       "      <td>0.398</td>\n",
       "      <td>1</td>\n",
       "      <td>3.0</td>\n",
       "      <td>3.0</td>\n",
       "      <td>2.0</td>\n",
       "      <td>1.0</td>\n",
       "      <td>7.0</td>\n",
       "      <td>7.0</td>\n",
       "      <td>...</td>\n",
       "      <td>2.0</td>\n",
       "      <td>1.0</td>\n",
       "      <td>NaN</td>\n",
       "      <td>2.0</td>\n",
       "      <td>4.0</td>\n",
       "      <td>NaN</td>\n",
       "      <td>NaN</td>\n",
       "      <td>NaN</td>\n",
       "      <td>4.0</td>\n",
       "      <td>3.0</td>\n",
       "    </tr>\n",
       "    <tr>\n",
       "      <th>3</th>\n",
       "      <td>3</td>\n",
       "      <td>0.385</td>\n",
       "      <td>0.418</td>\n",
       "      <td>4</td>\n",
       "      <td>3.0</td>\n",
       "      <td>5.0</td>\n",
       "      <td>1.0</td>\n",
       "      <td>3.0</td>\n",
       "      <td>4.0</td>\n",
       "      <td>5.0</td>\n",
       "      <td>...</td>\n",
       "      <td>3.0</td>\n",
       "      <td>2.0</td>\n",
       "      <td>NaN</td>\n",
       "      <td>4.0</td>\n",
       "      <td>4.0</td>\n",
       "      <td>NaN</td>\n",
       "      <td>NaN</td>\n",
       "      <td>NaN</td>\n",
       "      <td>2.0</td>\n",
       "      <td>2.0</td>\n",
       "    </tr>\n",
       "    <tr>\n",
       "      <th>4</th>\n",
       "      <td>4</td>\n",
       "      <td>0.693</td>\n",
       "      <td>0.726</td>\n",
       "      <td>3</td>\n",
       "      <td>3.0</td>\n",
       "      <td>3.0</td>\n",
       "      <td>1.0</td>\n",
       "      <td>3.0</td>\n",
       "      <td>6.0</td>\n",
       "      <td>7.0</td>\n",
       "      <td>...</td>\n",
       "      <td>2.0</td>\n",
       "      <td>3.0</td>\n",
       "      <td>NaN</td>\n",
       "      <td>2.0</td>\n",
       "      <td>5.0</td>\n",
       "      <td>NaN</td>\n",
       "      <td>NaN</td>\n",
       "      <td>NaN</td>\n",
       "      <td>4.0</td>\n",
       "      <td>3.0</td>\n",
       "    </tr>\n",
       "  </tbody>\n",
       "</table>\n",
       "<p>5 rows × 206 columns</p>\n",
       "</div>"
      ],
      "text/plain": [
       "   Unnamed: 0  pre_election_weight_ftf  post_election_weight_ftf  \\\n",
       "0           0                    0.887                     0.927   \n",
       "1           1                    1.160                     1.084   \n",
       "2           2                    0.416                     0.398   \n",
       "3           3                    0.385                     0.418   \n",
       "4           4                    0.693                     0.726   \n",
       "\n",
       "   pre_voting_status  pre_economy_last_year  pre_party_id  \\\n",
       "0                  3                    5.0           7.0   \n",
       "1                  3                    3.0           6.0   \n",
       "2                  1                    3.0           3.0   \n",
       "3                  4                    3.0           5.0   \n",
       "4                  3                    3.0           3.0   \n",
       "\n",
       "   pre_gun_access_importance  pre_unauthorized_immigrants  \\\n",
       "0                        2.0                          3.0   \n",
       "1                        1.0                          1.0   \n",
       "2                        2.0                          1.0   \n",
       "3                        1.0                          3.0   \n",
       "4                        1.0                          3.0   \n",
       "\n",
       "   pre_birthright_citizenship  pre_govt_assist_to_blacks  ...  \\\n",
       "0                         4.0                        7.0  ...   \n",
       "1                         1.0                        7.0  ...   \n",
       "2                         7.0                        7.0  ...   \n",
       "3                         4.0                        5.0  ...   \n",
       "4                         6.0                        7.0  ...   \n",
       "\n",
       "   post_discrim_christian  post_discrim_transgender  post_discrim_personal  \\\n",
       "0                     4.0                       4.0                    NaN   \n",
       "1                     4.0                       1.0                    NaN   \n",
       "2                     2.0                       1.0                    NaN   \n",
       "3                     3.0                       2.0                    NaN   \n",
       "4                     2.0                       3.0                    NaN   \n",
       "\n",
       "   post_skintone  post_discrim_skintone  post_support_trump  post_gender  \\\n",
       "0            3.0                    4.0                 NaN          NaN   \n",
       "1            3.0                    4.0                 NaN          NaN   \n",
       "2            2.0                    4.0                 NaN          NaN   \n",
       "3            4.0                    4.0                 NaN          NaN   \n",
       "4            2.0                    5.0                 NaN          NaN   \n",
       "\n",
       "   post_age_est  post_inform_level  post_intelligence  \n",
       "0           NaN                4.0                4.0  \n",
       "1           NaN                1.0                2.0  \n",
       "2           NaN                4.0                3.0  \n",
       "3           NaN                2.0                2.0  \n",
       "4           NaN                4.0                3.0  \n",
       "\n",
       "[5 rows x 206 columns]"
      ]
     },
     "execution_count": 3,
     "metadata": {},
     "output_type": "execute_result"
    }
   ],
   "source": [
    "anes = pd.read_csv('../data/anes/ANES_legalst123_cleaned.csv')\n",
    "anes.head()"
   ]
  },
  {
   "cell_type": "code",
   "execution_count": 57,
   "metadata": {},
   "outputs": [
    {
     "data": {
      "text/plain": [
       "['Unnamed: 0',\n",
       " 'pre_election_weight_ftf',\n",
       " 'post_election_weight_ftf',\n",
       " 'pre_voting_status',\n",
       " 'pre_economy_last_year',\n",
       " 'pre_party_id',\n",
       " 'pre_gun_access_importance',\n",
       " 'pre_unauthorized_immigrants',\n",
       " 'pre_birthright_citizenship',\n",
       " 'pre_govt_assist_to_blacks',\n",
       " 'pre_affirmative_action',\n",
       " 'pre_crime_budget',\n",
       " 'pre_welfare_budget',\n",
       " 'pre_childcare_budget',\n",
       " 'pre_aid_to_poor_budget',\n",
       " 'pre_environment_budget',\n",
       " 'pre_troops_to_fight_isis',\n",
       " 'pre_syrian_refugees',\n",
       " 'pre_trust_washington',\n",
       " 'pre_interests_of_few_or_many',\n",
       " 'pre_govt_waste_tax_money',\n",
       " 'pre_govt_corruption',\n",
       " 'pre_are_people_trustworthy',\n",
       " 'pre_govt_attention',\n",
       " 'pre_global_warming',\n",
       " 'pre_govt_action_rising_temp',\n",
       " 'pre_govt_services_same_sex_couples',\n",
       " 'pre_transgender_policy',\n",
       " 'pre_lgbt_protection_laws',\n",
       " 'pre_gay_marriage',\n",
       " 'pre_abortion',\n",
       " 'pre_death_penalty',\n",
       " 'pre_economy_since_2008',\n",
       " 'pre_angry_at_obama',\n",
       " 'pre_proud_of_obama',\n",
       " 'pre_religion_importance',\n",
       " 'pre_religion_provides_guidance',\n",
       " 'pre_bible_word_of_got_or_men',\n",
       " 'pre_attend_religions_services',\n",
       " 'pre_how_often_religious_services',\n",
       " 'pre_major_religious_groups',\n",
       " 'pre_age_group',\n",
       " 'pre_marital_status',\n",
       " 'pre_education_level',\n",
       " 'pre_occupation_status',\n",
       " 'pre_social_class',\n",
       " 'pre_race',\n",
       " 'pre_place_of_birth',\n",
       " 'pre_children_in_household',\n",
       " 'pre_home_internet_use',\n",
       " 'pre_cell_or_landline',\n",
       " 'pre_length_in_current_coummunity',\n",
       " 'pre_home_ownership',\n",
       " 'pre_unexpired_passport',\n",
       " 'pre_gender',\n",
       " 'pre_roughing_up_protestors',\n",
       " 'pre_justified_use_of_violence',\n",
       " 'pre_feminist',\n",
       " 'pre_income',\n",
       " 'pre_political_correctnses',\n",
       " 'pre_gun_ownership',\n",
       " 'pre_sexist_remarks',\n",
       " 'pre_women_appreciating_men',\n",
       " 'pre_women_power_over_men',\n",
       " 'pre_men_on_leash',\n",
       " 'pre_sexual_orientation',\n",
       " 'pre_party_representation_house',\n",
       " 'pre_party_representation_senate',\n",
       " 'pre_general_satisfaction',\n",
       " 'pre_talk_about_voting',\n",
       " 'pre_political_meetings',\n",
       " 'pre_political_visibility',\n",
       " 'pre_work_for_party',\n",
       " 'pre_monetary_contribution_to_party',\n",
       " 'pre_party_contributed_to',\n",
       " 'post_monetary_contribution_to_party',\n",
       " 'post_party_contributed_to',\n",
       " 'post_protest_participation',\n",
       " 'post_signed_petition',\n",
       " 'post_give_money_to_relig_org',\n",
       " 'post_give_money_to_soc_pol_org',\n",
       " 'post_social_media_political_message',\n",
       " 'post_contact_representative',\n",
       " 'post_party_registration',\n",
       " 'post_voted_in_2016',\n",
       " 'post_pres_vote_self_rep',\n",
       " 'post_pres_vote_admin',\n",
       " 'post_strength_of_vote',\n",
       " 'post_house_vote',\n",
       " 'post_senate_vote',\n",
       " 'post_governor_vote',\n",
       " 'post_reason_not_registered',\n",
       " 'post_clinton_rating',\n",
       " 'post_trump_rating',\n",
       " 'post_christian_fundamentalist_rating',\n",
       " 'post_feminist_rating',\n",
       " 'post_liberal_rating',\n",
       " 'post_labor_unions_rating',\n",
       " 'post_poor_people_rating',\n",
       " 'post_big_business_rating',\n",
       " 'post_conservative_rating',\n",
       " 'post_supreme_court_rating',\n",
       " 'post_lgbt_rating',\n",
       " 'post_congress_rating',\n",
       " 'post_rich_people_rating',\n",
       " 'post_muslims_rating',\n",
       " 'post_christians_rating',\n",
       " 'post_jews_rating',\n",
       " 'post_tea_party_rating',\n",
       " 'post_police_rating',\n",
       " 'post_transgender_rating',\n",
       " 'post_scientists_rating',\n",
       " 'post_blm_rating',\n",
       " 'post_world_like_america',\n",
       " 'post_american_flag',\n",
       " 'post_american_flag_summary',\n",
       " 'post_economic_mobility',\n",
       " 'post_vaccines',\n",
       " 'post_gender_income_equality',\n",
       " 'post_immigration_levels',\n",
       " 'post_immigration_takes_away_jobs',\n",
       " 'post_worry_terrorist_attack',\n",
       " 'post_need_free_thinkers',\n",
       " 'post_rotten_apples',\n",
       " 'post_strong_leader',\n",
       " 'post_liberal_conservative',\n",
       " 'post_discuss_politics',\n",
       " 'post_wiretaps',\n",
       " 'post_marijuana',\n",
       " 'post_bank_regulation',\n",
       " 'post_trump_towards_women',\n",
       " 'post_which_is_conservative_party',\n",
       " 'post_healthcare_spending',\n",
       " 'post_attitude_toward_changing_world',\n",
       " 'post_tolerate_other_morals',\n",
       " 'post_trad_values',\n",
       " 'post_no_favors_for_blacks',\n",
       " 'post_slavery_impact',\n",
       " 'post_blacks_deserve_more',\n",
       " 'post_blacks_should_try_harder',\n",
       " 'post_bond_with_child',\n",
       " 'post_man_works',\n",
       " 'post_women_discrimination',\n",
       " 'post_preferential_hiring',\n",
       " 'post_child_indep_respect',\n",
       " 'post_child_curiosity_manners',\n",
       " 'post_child_obedience_self_reliance',\n",
       " 'post_child_considerate_behave',\n",
       " 'post_govt_knew_9_11',\n",
       " 'post_obama_muslim',\n",
       " 'post_politicians_are_problem',\n",
       " 'post_strong_leader_bend_rules',\n",
       " 'post_minorities_should_adapt',\n",
       " 'post_immigrants_good_for_economy',\n",
       " 'post_immigrants_harm_culture',\n",
       " 'post_immigrants_increase_crime',\n",
       " 'post_truly_american_us_born',\n",
       " 'post_truly_american_us_ancestry',\n",
       " 'post_truly_american_speak_english',\n",
       " 'post_truly_american_follow_trad',\n",
       " 'post_satisfied_with_democracy',\n",
       " 'post_asian_american_feeling_therm',\n",
       " 'post_hispanics_feeling_therm',\n",
       " 'post_blacks_feeling_therm',\n",
       " 'post_illegal_imm_feeling_therm',\n",
       " 'post_whites_feeling_therm',\n",
       " 'post_whites_work_together',\n",
       " 'post_hiring_minorities',\n",
       " 'post_govt_treatment_whites_blacks',\n",
       " 'post_govt_treatment_degree',\n",
       " 'post_police_treatment_whites_blacks',\n",
       " 'post_police_treatment_degree',\n",
       " 'post_white_influence',\n",
       " 'post_black_influence',\n",
       " 'post_hispanic_influence',\n",
       " 'post_asian_influence',\n",
       " 'post_whites_hardworking',\n",
       " 'post_blacks_hardworking',\n",
       " 'post_hispanics_hardworking',\n",
       " 'post_asians_hardworking',\n",
       " 'post_whites_violent',\n",
       " 'post_blacks_violent',\n",
       " 'post_hispanics_violent',\n",
       " 'post_asians_violent',\n",
       " 'post_muslims_violent',\n",
       " 'post_christians_violent',\n",
       " 'post_muslims_patriotic',\n",
       " 'post_christians_patriotic',\n",
       " 'post_discrim_blacks',\n",
       " 'post_discrim_hispanics',\n",
       " 'post_discrim_asians',\n",
       " 'post_discrim_whites',\n",
       " 'post_discrim_lgbt',\n",
       " 'post_discrim_women',\n",
       " 'post_discrim_men',\n",
       " 'post_discrim_muslim',\n",
       " 'post_discrim_christian',\n",
       " 'post_discrim_transgender',\n",
       " 'post_discrim_personal',\n",
       " 'post_skintone',\n",
       " 'post_discrim_skintone',\n",
       " 'post_support_trump',\n",
       " 'post_gender',\n",
       " 'post_age_est',\n",
       " 'post_inform_level',\n",
       " 'post_intelligence']"
      ]
     },
     "execution_count": 57,
     "metadata": {},
     "output_type": "execute_result"
    }
   ],
   "source": [
    "anes.columns.tolist()"
   ]
  },
  {
   "cell_type": "code",
   "execution_count": null,
   "metadata": {},
   "outputs": [],
   "source": []
  },
  {
   "cell_type": "markdown",
   "metadata": {},
   "source": [
    "## Sampling and Empirical Distributions"
   ]
  },
  {
   "cell_type": "markdown",
   "metadata": {},
   "source": [
    "### Data Manipulation and Plotting Review"
   ]
  },
  {
   "cell_type": "markdown",
   "metadata": {},
   "source": [
    "Let's look at how liberal respondents characterized themselves as post-election. Write code that saves the \"post_liberal_rating\" column in the ANES data to a Series variable. Keep in mind that valid answers have domain [0,100] so be sure to subset to only those values."
   ]
  },
  {
   "cell_type": "code",
   "execution_count": 4,
   "metadata": {},
   "outputs": [],
   "source": [
    "liberal = anes.loc[:, \"post_liberal_rating\"]\n",
    "liberal = liberal.where(liberal < 150)"
   ]
  },
  {
   "cell_type": "markdown",
   "metadata": {},
   "source": [
    "Plot a histogram of the data:"
   ]
  },
  {
   "cell_type": "code",
   "execution_count": 5,
   "metadata": {},
   "outputs": [
    {
     "data": {
      "text/plain": [
       "<AxesSubplot:>"
      ]
     },
     "execution_count": 5,
     "metadata": {},
     "output_type": "execute_result"
    },
    {
     "data": {
      "image/png": "[encoded data removed]",
      "text/plain": [
       "<Figure size 432x288 with 1 Axes>"
      ]
     },
     "metadata": {},
     "output_type": "display_data"
    }
   ],
   "source": [
    "liberal.hist()"
   ]
  },
  {
   "cell_type": "markdown",
   "metadata": {},
   "source": [
    "### Question 1"
   ]
  },
  {
   "cell_type": "markdown",
   "metadata": {},
   "source": [
    "What patterns do you notice? Where is the center of the distribution? What does this suggest about how Americans tend to self-identify?"
   ]
  },
  {
   "cell_type": "markdown",
   "metadata": {},
   "source": [
    "Answer: The data are unimodal, with responses around \"50\" being the most common. In part, this may be because people tend to offer middle options when presented with these sorts of survey questions. It could also suggest that Americans tend to identify more toward the middle of the political spectrum than either end of it."
   ]
  },
  {
   "cell_type": "markdown",
   "metadata": {},
   "source": [
    "### Law of Averages"
   ]
  },
  {
   "cell_type": "markdown",
   "metadata": {},
   "source": [
    "Write a function, \"empirical_hist_anes\" that takes a Series and a sample size as its argument, and then draws a histogram based on the results. Consult Adhikari and DeNero for help!"
   ]
  },
  {
   "cell_type": "code",
   "execution_count": 6,
   "metadata": {},
   "outputs": [],
   "source": [
    "def empirical_hist_anes(series, n):\n",
    "    series.sample(n).hist()"
   ]
  },
  {
   "cell_type": "markdown",
   "metadata": {},
   "source": [
    "Check how many rows are in the table with the \"size\" method, and then use your self-defined function to plot histograms taking sample sizes 10, 100, 1000, and the total number of rows."
   ]
  },
  {
   "cell_type": "code",
   "execution_count": 7,
   "metadata": {},
   "outputs": [
    {
     "data": {
      "text/plain": [
       "4271"
      ]
     },
     "execution_count": 7,
     "metadata": {},
     "output_type": "execute_result"
    }
   ],
   "source": [
    "liberal.size"
   ]
  },
  {
   "cell_type": "code",
   "execution_count": 8,
   "metadata": {},
   "outputs": [
    {
     "data": {
      "image/png": "[encoded data removed]",
      "text/plain": [
       "<Figure size 432x288 with 1 Axes>"
      ]
     },
     "metadata": {},
     "output_type": "display_data"
    }
   ],
   "source": [
    "empirical_hist_anes(liberal, 10)"
   ]
  },
  {
   "cell_type": "code",
   "execution_count": 9,
   "metadata": {},
   "outputs": [
    {
     "data": {
      "image/png": "[encoded data removed]",
      "text/plain": [
       "<Figure size 432x288 with 1 Axes>"
      ]
     },
     "metadata": {},
     "output_type": "display_data"
    }
   ],
   "source": [
    "empirical_hist_anes(liberal, 100)"
   ]
  },
  {
   "cell_type": "code",
   "execution_count": 10,
   "metadata": {},
   "outputs": [
    {
     "data": {
      "image/png": "[encoded data removed]",
      "text/plain": [
       "<Figure size 432x288 with 1 Axes>"
      ]
     },
     "metadata": {},
     "output_type": "display_data"
    }
   ],
   "source": [
    "empirical_hist_anes(liberal, 1000)"
   ]
  },
  {
   "cell_type": "code",
   "execution_count": 11,
   "metadata": {
    "scrolled": true
   },
   "outputs": [
    {
     "data": {
      "image/png": "[encoded data removed]",
      "text/plain": [
       "<Figure size 432x288 with 1 Axes>"
      ]
     },
     "metadata": {},
     "output_type": "display_data"
    }
   ],
   "source": [
    "empirical_hist_anes(liberal, liberal.size)"
   ]
  },
  {
   "cell_type": "markdown",
   "metadata": {},
   "source": [
    "### Question 2"
   ]
  },
  {
   "cell_type": "markdown",
   "metadata": {},
   "source": [
    "What happens to the histograms (compared to the original in Q1) as you increase the sample size? How does this relate to the Law of Averages? What is the relationship between sample size and population parameter estimation?"
   ]
  },
  {
   "cell_type": "markdown",
   "metadata": {},
   "source": []
  },
  {
   "cell_type": "markdown",
   "metadata": {},
   "source": [
    "## Hypothesis Testing"
   ]
  },
  {
   "cell_type": "markdown",
   "metadata": {},
   "source": [
    "In this section, we'll cover the basic tools for hypothesis testing. \n",
    "\n",
    "The goal in conducting a hypothesis test is to answer the question, \"Was it likely to observe my test statistic due to chance?\" We say something is statistically significant if it is sufficiently far enough away from the center of an empirical distribution, and therefore unlikely to have occurred just by chance.\n",
    "\n",
    "The basic way to frame a hypothesis test is as follows:\n",
    "\n",
    "1. Define a null $(H_O)$ and alternative $(H_A)$ hypothesis. The null hypothesis is usually framed as \"no statistical relationship between the observed data and the background distribution\" and the alternative hypothesis is the opposite. More concretely, the null is our default position, and assumes that the observed statistic likely came from the background distribution.\n",
    "\n",
    "2. Calculate a test statistic (for example, t-test, $\\chi^2$, etc.)\n",
    "\n",
    "3. Check if the test statistic is far enough away from the center of the distribution. Traditionally, this was done by checking against a reference table, but in Python, we'll use p-values. Typically, a p value of less than .05 (meaning that only 5% of observations should fall where the test statistic does) is used as the threshold for statistical significance in the social sciences.\n",
    "\n",
    "4. Either reject or fail to reject the null hypothesis."
   ]
  },
  {
   "cell_type": "markdown",
   "metadata": {},
   "source": [
    "### Jury Selection"
   ]
  },
  {
   "cell_type": "markdown",
   "metadata": {},
   "source": [
    "First, we'll use the jury selection example from the Adhikari and DeNero book. This example is based on the U.S. Supreme Court case, Swain v. Alabama. Robert Swain was convicted by an all-white jury, and challenged his conviction on the basis that it was statistically unlikely that a jury would be all-white by chance, given that the racial composition of the county was 18% black. Juries were selected from a panel of 100. In this case, only 8 jurors on the panel were black.\n",
    "\n",
    "Was it likely that the panel would only include 8 black jurors out of 100, given that 18% of the county was black?"
   ]
  },
  {
   "cell_type": "code",
   "execution_count": 12,
   "metadata": {},
   "outputs": [
    {
     "data": {
      "text/html": [
       "<div>\n",
       "<style scoped>\n",
       "    .dataframe tbody tr th:only-of-type {\n",
       "        vertical-align: middle;\n",
       "    }\n",
       "\n",
       "    .dataframe tbody tr th {\n",
       "        vertical-align: top;\n",
       "    }\n",
       "\n",
       "    .dataframe thead th {\n",
       "        text-align: right;\n",
       "    }\n",
       "</style>\n",
       "<table border=\"1\" class=\"dataframe\">\n",
       "  <thead>\n",
       "    <tr style=\"text-align: right;\">\n",
       "      <th></th>\n",
       "      <th>Ethnicity</th>\n",
       "      <th>Eligible</th>\n",
       "      <th>Panels</th>\n",
       "    </tr>\n",
       "  </thead>\n",
       "  <tbody>\n",
       "    <tr>\n",
       "      <th>0</th>\n",
       "      <td>Asian</td>\n",
       "      <td>0.15</td>\n",
       "      <td>0.26</td>\n",
       "    </tr>\n",
       "    <tr>\n",
       "      <th>1</th>\n",
       "      <td>Black</td>\n",
       "      <td>0.18</td>\n",
       "      <td>0.08</td>\n",
       "    </tr>\n",
       "    <tr>\n",
       "      <th>2</th>\n",
       "      <td>Latino</td>\n",
       "      <td>0.12</td>\n",
       "      <td>0.08</td>\n",
       "    </tr>\n",
       "    <tr>\n",
       "      <th>3</th>\n",
       "      <td>White</td>\n",
       "      <td>0.54</td>\n",
       "      <td>0.54</td>\n",
       "    </tr>\n",
       "    <tr>\n",
       "      <th>4</th>\n",
       "      <td>Other</td>\n",
       "      <td>0.01</td>\n",
       "      <td>0.04</td>\n",
       "    </tr>\n",
       "  </tbody>\n",
       "</table>\n",
       "</div>"
      ],
      "text/plain": [
       "  Ethnicity  Eligible  Panels\n",
       "0     Asian      0.15    0.26\n",
       "1     Black      0.18    0.08\n",
       "2    Latino      0.12    0.08\n",
       "3     White      0.54    0.54\n",
       "4     Other      0.01    0.04"
      ]
     },
     "execution_count": 12,
     "metadata": {},
     "output_type": "execute_result"
    }
   ],
   "source": [
    "# Create the table\n",
    "jury = pd.DataFrame(data = {'Ethnicity': ['Asian', 'Black', 'Latino', 'White', 'Other'],\n",
    "                           'Eligible': [0.15, 0.18, 0.12, 0.54, 0.01],\n",
    "                           'Panels': [0.26, 0.08, 0.08, 0.54, 0.04]}\n",
    ")\n",
    "\n",
    "jury"
   ]
  },
  {
   "cell_type": "code",
   "execution_count": 13,
   "metadata": {},
   "outputs": [
    {
     "data": {
      "text/plain": [
       "<AxesSubplot:ylabel='Ethnicity'>"
      ]
     },
     "execution_count": 13,
     "metadata": {},
     "output_type": "execute_result"
    },
    {
     "data": {
      "image/png": "[encoded data removed]",
      "text/plain": [
       "<Figure size 432x288 with 1 Axes>"
      ]
     },
     "metadata": {},
     "output_type": "display_data"
    }
   ],
   "source": [
    "# Horizontal Bar Chart\n",
    "jury.plot.barh('Ethnicity')"
   ]
  },
  {
   "cell_type": "code",
   "execution_count": 14,
   "metadata": {},
   "outputs": [
    {
     "data": {
      "text/html": [
       "<div>\n",
       "<style scoped>\n",
       "    .dataframe tbody tr th:only-of-type {\n",
       "        vertical-align: middle;\n",
       "    }\n",
       "\n",
       "    .dataframe tbody tr th {\n",
       "        vertical-align: top;\n",
       "    }\n",
       "\n",
       "    .dataframe thead th {\n",
       "        text-align: right;\n",
       "    }\n",
       "</style>\n",
       "<table border=\"1\" class=\"dataframe\">\n",
       "  <thead>\n",
       "    <tr style=\"text-align: right;\">\n",
       "      <th></th>\n",
       "      <th>Ethnicity</th>\n",
       "      <th>Eligible</th>\n",
       "      <th>Panels</th>\n",
       "      <th>Difference</th>\n",
       "    </tr>\n",
       "  </thead>\n",
       "  <tbody>\n",
       "    <tr>\n",
       "      <th>0</th>\n",
       "      <td>Asian</td>\n",
       "      <td>0.15</td>\n",
       "      <td>0.26</td>\n",
       "      <td>0.11</td>\n",
       "    </tr>\n",
       "    <tr>\n",
       "      <th>1</th>\n",
       "      <td>Black</td>\n",
       "      <td>0.18</td>\n",
       "      <td>0.08</td>\n",
       "      <td>-0.10</td>\n",
       "    </tr>\n",
       "    <tr>\n",
       "      <th>2</th>\n",
       "      <td>Latino</td>\n",
       "      <td>0.12</td>\n",
       "      <td>0.08</td>\n",
       "      <td>-0.04</td>\n",
       "    </tr>\n",
       "    <tr>\n",
       "      <th>3</th>\n",
       "      <td>White</td>\n",
       "      <td>0.54</td>\n",
       "      <td>0.54</td>\n",
       "      <td>0.00</td>\n",
       "    </tr>\n",
       "    <tr>\n",
       "      <th>4</th>\n",
       "      <td>Other</td>\n",
       "      <td>0.01</td>\n",
       "      <td>0.04</td>\n",
       "      <td>0.03</td>\n",
       "    </tr>\n",
       "  </tbody>\n",
       "</table>\n",
       "</div>"
      ],
      "text/plain": [
       "  Ethnicity  Eligible  Panels  Difference\n",
       "0     Asian      0.15    0.26        0.11\n",
       "1     Black      0.18    0.08       -0.10\n",
       "2    Latino      0.12    0.08       -0.04\n",
       "3     White      0.54    0.54        0.00\n",
       "4     Other      0.01    0.04        0.03"
      ]
     },
     "execution_count": 14,
     "metadata": {},
     "output_type": "execute_result"
    }
   ],
   "source": [
    "# Augment with the difference between the \"panels\" columns and \"eligible\" column\n",
    "jury_with_diffs = jury.assign(Difference = jury.loc[:, 'Panels'] - jury.loc[:, 'Eligible'])\n",
    "jury_with_diffs"
   ]
  },
  {
   "cell_type": "markdown",
   "metadata": {},
   "source": [
    "**Testing the hypothesis:**\n",
    "In this scenario, the null hypothesis is that the jury panel was drawn uniformly from the eligible jury pool. Think of this as a statistical model. We will ask: under a model of uniform jury selection, how likely is it that Swain's jury panel would be selected? If we find it to be sufficiently unlikely, you may conclude that the model does not describe reality, i.e. that his jury panel was not selected uniformly.\n",
    "\n",
    "**Simulate selection of 1000 jury panels uniformly from the eligible jury pool.** This should generate a DataFrame with a column for each race, and each row describing the proportion of each race represented in one jury panel."
   ]
  },
  {
   "cell_type": "code",
   "execution_count": 15,
   "metadata": {},
   "outputs": [
    {
     "data": {
      "text/html": [
       "<div>\n",
       "<style scoped>\n",
       "    .dataframe tbody tr th:only-of-type {\n",
       "        vertical-align: middle;\n",
       "    }\n",
       "\n",
       "    .dataframe tbody tr th {\n",
       "        vertical-align: top;\n",
       "    }\n",
       "\n",
       "    .dataframe thead th {\n",
       "        text-align: right;\n",
       "    }\n",
       "</style>\n",
       "<table border=\"1\" class=\"dataframe\">\n",
       "  <thead>\n",
       "    <tr style=\"text-align: right;\">\n",
       "      <th>Ethnicity</th>\n",
       "      <th>Asian</th>\n",
       "      <th>Black</th>\n",
       "      <th>Latino</th>\n",
       "      <th>White</th>\n",
       "      <th>Other</th>\n",
       "    </tr>\n",
       "  </thead>\n",
       "  <tbody>\n",
       "    <tr>\n",
       "      <th>0</th>\n",
       "      <td>0.17</td>\n",
       "      <td>0.16</td>\n",
       "      <td>0.12</td>\n",
       "      <td>0.55</td>\n",
       "      <td>0.00</td>\n",
       "    </tr>\n",
       "    <tr>\n",
       "      <th>1</th>\n",
       "      <td>0.09</td>\n",
       "      <td>0.26</td>\n",
       "      <td>0.11</td>\n",
       "      <td>0.51</td>\n",
       "      <td>0.03</td>\n",
       "    </tr>\n",
       "  </tbody>\n",
       "</table>\n",
       "</div>"
      ],
      "text/plain": [
       "Ethnicity  Asian  Black  Latino  White  Other\n",
       "0           0.17   0.16    0.12   0.55   0.00\n",
       "1           0.09   0.26    0.11   0.51   0.03"
      ]
     },
     "execution_count": 15,
     "metadata": {},
     "output_type": "execute_result"
    }
   ],
   "source": [
    "def sample_proportions(probabilities, samples):\n",
    "    # You may have used datascience.sample_proportions; this is how it works.\n",
    "    # Read more here https://docs.scipy.org/doc/numpy-1.15.0/reference/generated/numpy.random.multinomial.html\n",
    "    return np.random.multinomial(samples, probabilities) / samples\n",
    "\n",
    "def sample_jury_panel(panel_size=100):\n",
    "    \"\"\"\n",
    "    Generate one sample panel of potential jurors by race,\n",
    "    drawn uniformly from the eligble pool\n",
    "    \"\"\"\n",
    "    return sample_proportions(jury['Eligible'], panel_size)\n",
    "\n",
    "simulated_fair_panels = pd.DataFrame([ sample_jury_panel() for _ in range(1000) ], columns=jury['Ethnicity'])\n",
    "\n",
    "simulated_fair_panels.head(2)"
   ]
  },
  {
   "cell_type": "markdown",
   "metadata": {},
   "source": [
    "**Visualize the distribution for each race.** As a first look, how common would a panel like the one in Swain v. Alabama appear to be?"
   ]
  },
  {
   "cell_type": "code",
   "execution_count": 16,
   "metadata": {},
   "outputs": [
    {
     "data": {
      "text/plain": [
       "<AxesSubplot:>"
      ]
     },
     "execution_count": 16,
     "metadata": {},
     "output_type": "execute_result"
    },
    {
     "data": {
      "image/png": "[encoded data removed]",
      "text/plain": [
       "<Figure size 432x288 with 1 Axes>"
      ]
     },
     "metadata": {},
     "output_type": "display_data"
    }
   ],
   "source": [
    "simulated_fair_panels.boxplot()"
   ]
  },
  {
   "cell_type": "markdown",
   "metadata": {},
   "source": [
    "We can't quite compute a t-test yet. We have a set of samples from our simulation of colorblind jury selection, and we have a single sample of a real jury panel. t-tests are for comparing a pair of sample sets which each have a large number of samples.\n",
    "\n",
    "Ideally, we would have use the set of real jury panels from the jurisdiction in question as another sample set, and run a t-test between that sample set and the 1000 simulated jury panels. As a *substitute* for this, assume that the particular jury panel in Swain's case is *representative* of jury panels in the district (ask yourself: is this a fair assumption?); simulate the selection of jury panels with a mean of `jury['Panel']`, and run a t-test between those juries and your simulated fair juries. You should get very confident p-values. Why?\n",
    "\n",
    "Hint: use https://docs.scipy.org/doc/scipy-0.15.1/reference/generated/scipy.stats.ttest_ind.html#scipy.stats.ttest_ind"
   ]
  },
  {
   "cell_type": "code",
   "execution_count": 17,
   "metadata": {
    "scrolled": true
   },
   "outputs": [
    {
     "data": {
      "text/plain": [
       "Ttest_indResult(statistic=array([-62.90971706,  67.91911964,  29.43012759,   0.44004366,\n",
       "       -43.09214666]), pvalue=array([0.00000000e+000, 0.00000000e+000, 6.90994380e-158, 6.59953270e-001,\n",
       "       1.44815629e-267]))"
      ]
     },
     "execution_count": 17,
     "metadata": {},
     "output_type": "execute_result"
    }
   ],
   "source": [
    "unfair_panels = pd.DataFrame([ sample_proportions(jury['Panels'], 100) for _ in range(1000) ], columns=jury['Ethnicity'])\n",
    "\n",
    "stats.ttest_ind(simulated_fair_panels, unfair_panels, equal_var=False)"
   ]
  },
  {
   "cell_type": "code",
   "execution_count": 18,
   "metadata": {},
   "outputs": [
    {
     "data": {
      "text/plain": [
       "Power_divergenceResult(statistic=23.955555555555556, pvalue=8.153001814610022e-05)"
      ]
     },
     "execution_count": 18,
     "metadata": {},
     "output_type": "execute_result"
    }
   ],
   "source": [
    "# try a chi square test for seeing whether we can reject the null that the draw came from the known population\n",
    "newjury = 100*jury\n",
    "stats.chisquare(newjury['Panels'], f_exp=newjury['Eligible'], ddof=0, axis=0)\n",
    "#note that the chisquare test assumes values larger than 5, and since these are percentages we can express them\n",
    "# as jurors out of 100 people drawn"
   ]
  },
  {
   "cell_type": "markdown",
   "metadata": {},
   "source": [
    "Since the legal question in this case is concerned with specifically the representation of black jurors, specifically on Swain's jury panel, we can use some simpler statistics. **Visualize the distribution of the 'Black' column in the simulated jury panels, and compute the portion of simulated jury panels having under 9% black jurors.**"
   ]
  },
  {
   "cell_type": "code",
   "execution_count": 19,
   "metadata": {
    "scrolled": true
   },
   "outputs": [
    {
     "name": "stdout",
     "output_type": "stream",
     "text": [
      "Portion of uniformly selected panels with under 9% black jurors:  0.001\n"
     ]
    },
    {
     "data": {
      "text/plain": [
       "<AxesSubplot:>"
      ]
     },
     "execution_count": 19,
     "metadata": {},
     "output_type": "execute_result"
    },
    {
     "data": {
      "image/png": "[encoded data removed]",
      "text/plain": [
       "<Figure size 432x288 with 1 Axes>"
      ]
     },
     "metadata": {},
     "output_type": "display_data"
    }
   ],
   "source": [
    "print(\n",
    "    \"Portion of uniformly selected panels with under 9% black jurors: \",\n",
    "    simulated_fair_panels[simulated_fair_panels['Black'] < 0.09].count()['Black'] / simulated_fair_panels['Black'].count()\n",
    ")\n",
    "\n",
    "simulated_fair_panels['Black'].hist(bins=[ n / 100 for n in range(0, 40, 5) ])"
   ]
  },
  {
   "cell_type": "markdown",
   "metadata": {},
   "source": [
    "### Hypothesis Testing on ANES Data"
   ]
  },
  {
   "cell_type": "markdown",
   "metadata": {},
   "source": [
    "Now let's try with the ANES data! Write code that creates a new DataFrame with the \"post_liberal_rating\" and \"post_conservative_rating\" as columns, and only includes values below 150."
   ]
  },
  {
   "cell_type": "code",
   "execution_count": 20,
   "metadata": {},
   "outputs": [
    {
     "data": {
      "text/html": [
       "<div>\n",
       "<style scoped>\n",
       "    .dataframe tbody tr th:only-of-type {\n",
       "        vertical-align: middle;\n",
       "    }\n",
       "\n",
       "    .dataframe tbody tr th {\n",
       "        vertical-align: top;\n",
       "    }\n",
       "\n",
       "    .dataframe thead th {\n",
       "        text-align: right;\n",
       "    }\n",
       "</style>\n",
       "<table border=\"1\" class=\"dataframe\">\n",
       "  <thead>\n",
       "    <tr style=\"text-align: right;\">\n",
       "      <th></th>\n",
       "      <th>post_liberal_rating</th>\n",
       "      <th>post_conservative_rating</th>\n",
       "    </tr>\n",
       "  </thead>\n",
       "  <tbody>\n",
       "    <tr>\n",
       "      <th>0</th>\n",
       "      <td>50.0</td>\n",
       "      <td>70.0</td>\n",
       "    </tr>\n",
       "    <tr>\n",
       "      <th>1</th>\n",
       "      <td>50.0</td>\n",
       "      <td>60.0</td>\n",
       "    </tr>\n",
       "    <tr>\n",
       "      <th>2</th>\n",
       "      <td>50.0</td>\n",
       "      <td>50.0</td>\n",
       "    </tr>\n",
       "    <tr>\n",
       "      <th>3</th>\n",
       "      <td>50.0</td>\n",
       "      <td>50.0</td>\n",
       "    </tr>\n",
       "    <tr>\n",
       "      <th>4</th>\n",
       "      <td>70.0</td>\n",
       "      <td>70.0</td>\n",
       "    </tr>\n",
       "  </tbody>\n",
       "</table>\n",
       "</div>"
      ],
      "text/plain": [
       "   post_liberal_rating  post_conservative_rating\n",
       "0                 50.0                      70.0\n",
       "1                 50.0                      60.0\n",
       "2                 50.0                      50.0\n",
       "3                 50.0                      50.0\n",
       "4                 70.0                      70.0"
      ]
     },
     "execution_count": 20,
     "metadata": {},
     "output_type": "execute_result"
    }
   ],
   "source": [
    "liberal_v_conservative = anes.loc[:, [\"post_liberal_rating\", \"post_conservative_rating\"]]\n",
    "liberal_v_conservative = liberal_v_conservative.where(liberal_v_conservative[\"post_liberal_rating\"] < 150)\n",
    "liberal_v_conservative = liberal_v_conservative.where(liberal_v_conservative[\"post_conservative_rating\"] < 150)\n",
    "\n",
    "liberal_v_conservative.head()"
   ]
  },
  {
   "cell_type": "markdown",
   "metadata": {},
   "source": [
    "### Question 3"
   ]
  },
  {
   "cell_type": "markdown",
   "metadata": {},
   "source": [
    "Plot a histogram of both the post liberal rating and post conservative rating side by side. Experiment with different bin widths. Visually, what can you infer about the shape of each data?"
   ]
  },
  {
   "cell_type": "code",
   "execution_count": 21,
   "metadata": {},
   "outputs": [
    {
     "data": {
      "text/plain": [
       "array([[<AxesSubplot:title={'center':'post_liberal_rating'}>,\n",
       "        <AxesSubplot:title={'center':'post_conservative_rating'}>]],\n",
       "      dtype=object)"
      ]
     },
     "execution_count": 21,
     "metadata": {},
     "output_type": "execute_result"
    },
    {
     "data": {
      "image/png": "[encoded data removed]",
      "text/plain": [
       "<Figure size 432x288 with 2 Axes>"
      ]
     },
     "metadata": {},
     "output_type": "display_data"
    }
   ],
   "source": [
    "liberal_v_conservative.hist(sharex=True, sharey=True)"
   ]
  },
  {
   "cell_type": "markdown",
   "metadata": {},
   "source": [
    "### Question 4"
   ]
  },
  {
   "cell_type": "markdown",
   "metadata": {},
   "source": [
    "Now write code to do a t-test between liberal and conservative. For the t-test to work, you have to remove NaN values first."
   ]
  },
  {
   "cell_type": "code",
   "execution_count": 22,
   "metadata": {},
   "outputs": [],
   "source": [
    "liberal_v_conservative.dropna(inplace=True)"
   ]
  },
  {
   "cell_type": "code",
   "execution_count": 23,
   "metadata": {},
   "outputs": [
    {
     "data": {
      "text/plain": [
       "Ttest_indResult(statistic=-7.614943160878035, pvalue=2.979529907898513e-14)"
      ]
     },
     "execution_count": 23,
     "metadata": {},
     "output_type": "execute_result"
    }
   ],
   "source": [
    "stats.ttest_ind(liberal_v_conservative['post_liberal_rating'], liberal_v_conservative['post_conservative_rating'], equal_var = False)"
   ]
  },
  {
   "cell_type": "markdown",
   "metadata": {},
   "source": [
    "What does the pvalue of this t-test indicate? Can we reject the null hypothesis that the mean of the two distributions differs significantly among samples given a 95% confidence?"
   ]
  },
  {
   "cell_type": "markdown",
   "metadata": {
    "collapsed": true
   },
   "source": [
    "### Sort of odd way to use a t-test; maybe let's fix this to show Republican vs Democrat feeling thermometer on \"liberals\"\n",
    "Wilson fixed the problem above, but here what are we really asking? We are only asking are these two means drawn from the same underlying population but it is two different feeling thermometer questions.We have not defined the groups we are comparing! \n",
    "\n",
    "We can't really interpret what this means, since we want to know whether we can distinguish two groups in the population using a particular measure, like a feeling thermometer. So we actually need to do some more work, like choosing groups to see if they differ on a variable. Political party ID seems like a good choice!"
   ]
  },
  {
   "cell_type": "code",
   "execution_count": 24,
   "metadata": {},
   "outputs": [
    {
     "data": {
      "text/plain": [
       "<AxesSubplot:>"
      ]
     },
     "execution_count": 24,
     "metadata": {},
     "output_type": "execute_result"
    },
    {
     "data": {
      "image/png": "[encoded data removed]",
      "text/plain": [
       "<Figure size 432x288 with 1 Axes>"
      ]
     },
     "metadata": {},
     "output_type": "display_data"
    }
   ],
   "source": [
    "# what does the pre_party_id variable look like? this is the 7-pt scale summary measure (V161158x in codebook)\n",
    "anes[\"pre_party_id\"].hist()"
   ]
  },
  {
   "cell_type": "code",
   "execution_count": 25,
   "metadata": {},
   "outputs": [
    {
     "data": {
      "text/plain": [
       "<AxesSubplot:>"
      ]
     },
     "execution_count": 25,
     "metadata": {},
     "output_type": "execute_result"
    },
    {
     "data": {
      "image/png": "[encoded data removed]",
      "text/plain": [
       "<Figure size 432x288 with 1 Axes>"
      ]
     },
     "metadata": {},
     "output_type": "display_data"
    }
   ],
   "source": [
    "# we need to recode the pre_party_id variable so that it is just Democrat, Republican, Independent\n",
    "def change_values(column, new_values):\n",
    "    anes[column] = anes[column].map(new_values, na_action=\"ignore\")\n",
    "    \n",
    "parties = {\n",
    "    1.0: \"dem\",\n",
    "    2.0: \"dem\",\n",
    "    3.0: \"dem\",\n",
    "    4.0: \"ind\",\n",
    "    5.0: \"rep\",\n",
    "    6.0: 'rep',\n",
    "    7.0: 'rep'\n",
    "}\n",
    "change_values(\"pre_party_id\", parties)\n",
    "anes['pre_party_id'].hist()"
   ]
  },
  {
   "cell_type": "code",
   "execution_count": 39,
   "metadata": {},
   "outputs": [
    {
     "data": {
      "text/html": [
       "<div>\n",
       "<style scoped>\n",
       "    .dataframe tbody tr th:only-of-type {\n",
       "        vertical-align: middle;\n",
       "    }\n",
       "\n",
       "    .dataframe tbody tr th {\n",
       "        vertical-align: top;\n",
       "    }\n",
       "\n",
       "    .dataframe thead th {\n",
       "        text-align: right;\n",
       "    }\n",
       "</style>\n",
       "<table border=\"1\" class=\"dataframe\">\n",
       "  <thead>\n",
       "    <tr style=\"text-align: right;\">\n",
       "      <th></th>\n",
       "      <th>post_liberal_rating</th>\n",
       "      <th>post_conservative_rating</th>\n",
       "      <th>pre_party_id</th>\n",
       "    </tr>\n",
       "  </thead>\n",
       "  <tbody>\n",
       "    <tr>\n",
       "      <th>0</th>\n",
       "      <td>50.0</td>\n",
       "      <td>70.0</td>\n",
       "      <td>rep</td>\n",
       "    </tr>\n",
       "    <tr>\n",
       "      <th>1</th>\n",
       "      <td>50.0</td>\n",
       "      <td>60.0</td>\n",
       "      <td>rep</td>\n",
       "    </tr>\n",
       "    <tr>\n",
       "      <th>2</th>\n",
       "      <td>50.0</td>\n",
       "      <td>50.0</td>\n",
       "      <td>dem</td>\n",
       "    </tr>\n",
       "    <tr>\n",
       "      <th>3</th>\n",
       "      <td>50.0</td>\n",
       "      <td>50.0</td>\n",
       "      <td>rep</td>\n",
       "    </tr>\n",
       "    <tr>\n",
       "      <th>4</th>\n",
       "      <td>70.0</td>\n",
       "      <td>70.0</td>\n",
       "      <td>dem</td>\n",
       "    </tr>\n",
       "  </tbody>\n",
       "</table>\n",
       "</div>"
      ],
      "text/plain": [
       "   post_liberal_rating  post_conservative_rating pre_party_id\n",
       "0                 50.0                      70.0          rep\n",
       "1                 50.0                      60.0          rep\n",
       "2                 50.0                      50.0          dem\n",
       "3                 50.0                      50.0          rep\n",
       "4                 70.0                      70.0          dem"
      ]
     },
     "execution_count": 39,
     "metadata": {},
     "output_type": "execute_result"
    }
   ],
   "source": [
    "# add the pre_party_id variable to the liberal_v_conservative dataframe\n",
    "liberal_v_conservative['pre_party_id'] = anes['pre_party_id']\n",
    "liberal_v_conservative.dropna(inplace=True)\n",
    "liberal_v_conservative.head()"
   ]
  },
  {
   "cell_type": "code",
   "execution_count": 40,
   "metadata": {},
   "outputs": [
    {
     "data": {
      "text/plain": [
       "<AxesSubplot:title={'center':'post_liberal_rating'}, xlabel='pre_party_id'>"
      ]
     },
     "execution_count": 40,
     "metadata": {},
     "output_type": "execute_result"
    },
    {
     "data": {
      "image/png": "[encoded data removed]",
      "text/plain": [
       "<Figure size 648x432 with 1 Axes>"
      ]
     },
     "metadata": {},
     "output_type": "display_data"
    }
   ],
   "source": [
    "# now we can do a boxplot to see what the mean liberal feeling thermom. \n",
    "# and conservative feeling thermometer scores look like\n",
    "# liberal_v_conservative\n",
    "liberal_v_conservative.boxplot(column='post_liberal_rating', by='pre_party_id', figsize=(9,6))"
   ]
  },
  {
   "cell_type": "code",
   "execution_count": 52,
   "metadata": {},
   "outputs": [
    {
     "data": {
      "text/plain": [
       "<AxesSubplot:title={'center':'post_conservative_rating'}, xlabel='pre_party_id'>"
      ]
     },
     "execution_count": 52,
     "metadata": {},
     "output_type": "execute_result"
    },
    {
     "data": {
      "image/png": "[encoded data removed]",
      "text/plain": [
       "<Figure size 648x432 with 1 Axes>"
      ]
     },
     "metadata": {},
     "output_type": "display_data"
    }
   ],
   "source": [
    "liberal_v_conservative.boxplot(column='post_conservative_rating', by='pre_party_id', figsize=(9,6))"
   ]
  },
  {
   "cell_type": "code",
   "execution_count": 51,
   "metadata": {},
   "outputs": [
    {
     "name": "stdout",
     "output_type": "stream",
     "text": [
      "mean Democrat feeling thermometer toward liberals 67.27533577533578\n",
      "mean Republican feeling thermometer toward liberals 34.54876373626374\n",
      "mean Independent feeling thermometer toward liberals 48.995652173913044\n",
      "type variable dems_on_liberal <class 'pandas.core.series.Series'>\n",
      "length of dems_on_liberal  1638\n",
      "length of reps_on_liberal  1456\n",
      "length of inds_on_liberal  460\n",
      "two sample t-test for Dems & Reps  Ttest_indResult(statistic=41.62520620736783, pvalue=1.7596700020318004e-297)\n",
      "two sample t-test for Dems & Inds  Ttest_indResult(statistic=16.162974062711868, pvalue=3.8216692845978447e-50)\n",
      "two sample t-test for Inds & Reps  Ttest_indResult(statistic=12.218794760429523, pvalue=1.211146748412656e-31)\n"
     ]
    }
   ],
   "source": [
    "# now we can do a two sample t-test to see whether we can reject the idea at a 95% confidence level that dem and rep \n",
    "# partisan identifiers represent the same underlying population\n",
    "\n",
    "# first, for clarity, get the series of feeling thermometer ratings on liberals for dems and reps, even though\n",
    "# this just makes it easier on the eyes--Pythonic way is not to create new variables\n",
    "dems_on_liberal = liberal_v_conservative['post_liberal_rating'].where(liberal_v_conservative['pre_party_id']=='dem')\n",
    "reps_on_liberal = liberal_v_conservative['post_liberal_rating'].where(liberal_v_conservative['pre_party_id']=='rep')\n",
    "inds_on_liberal = liberal_v_conservative['post_liberal_rating'].where(liberal_v_conservative['pre_party_id']=='ind')\n",
    "# using .where method seems to result in a series with lots of NaN wherever condition is not met\n",
    "# should probably use another method, right?\n",
    "\n",
    "# get rid of the NaN values in each vector of feeling thermometer scores\n",
    "dems_on_liberal.dropna(inplace=True)\n",
    "reps_on_liberal.dropna(inplace=True)\n",
    "inds_on_liberal.dropna(inplace=True)\n",
    "\n",
    "print(\"mean Democrat feeling thermometer toward liberals\", dems_on_liberal.mean())\n",
    "print(\"mean Republican feeling thermometer toward liberals\", reps_on_liberal.mean())\n",
    "print(\"mean Independent feeling thermometer toward liberals\", inds_on_liberal.mean())\n",
    "\n",
    "print(\"type variable dems_on_liberal\", type(dems_on_liberal))\n",
    "print(\"length of dems_on_liberal \", len(dems_on_liberal))\n",
    "print(\"length of reps_on_liberal \", len(reps_on_liberal))\n",
    "print(\"length of inds_on_liberal \", len(inds_on_liberal))\n",
    "print(\"two sample t-test for Dems & Reps \", stats.ttest_ind(dems_on_liberal, reps_on_liberal, equal_var = False, nan_policy='raise'))\n",
    "print(\"two sample t-test for Dems & Inds \", stats.ttest_ind(dems_on_liberal, inds_on_liberal, equal_var = False, nan_policy='raise'))\n",
    "print(\"two sample t-test for Inds & Reps \", stats.ttest_ind(inds_on_liberal, reps_on_liberal, equal_var = False, nan_policy='raise'))"
   ]
  },
  {
   "cell_type": "code",
   "execution_count": 53,
   "metadata": {},
   "outputs": [
    {
     "name": "stdout",
     "output_type": "stream",
     "text": [
      "mean Democrat feeling thermometer toward conservatives 43.83516483516483\n",
      "mean Republican feeling thermometer toward conservatives 71.13598901098901\n",
      "mean Independent feeling thermometer toward conservatives 52.70434782608696\n",
      "length of dems_on_conserv  1638\n",
      "length of reps_on_conserv  1456\n",
      "length of inds_on_conserv  460\n",
      "two sample t-test for Dems & Reps  Ttest_indResult(statistic=-35.27607422909027, pvalue=2.1714668300549203e-229)\n",
      "two sample t-test for Dems & Inds  Ttest_indResult(statistic=-8.054456835201403, pvalue=2.8463634054013797e-15)\n",
      "two sample t-test for Inds & Reps  Ttest_indResult(statistic=-16.962326020460775, pvalue=4.4524448034717116e-55)\n"
     ]
    }
   ],
   "source": [
    "# now let's do feeling thermometer ratings on conservatives for dems, inds, reps, even though\n",
    "# this just makes it easier on the eyes--Pythonic way is not to create new variables\n",
    "dems_on_conserv = liberal_v_conservative['post_conservative_rating'].where(liberal_v_conservative['pre_party_id']=='dem')\n",
    "reps_on_conserv = liberal_v_conservative['post_conservative_rating'].where(liberal_v_conservative['pre_party_id']=='rep')\n",
    "inds_on_conserv = liberal_v_conservative['post_conservative_rating'].where(liberal_v_conservative['pre_party_id']=='ind')\n",
    "# using .where method seems to result in a series with lots of NaN wherever condition is not met\n",
    "# should probably use another method, right?\n",
    "\n",
    "# get rid of the NaN values in each vector of feeling thermometer scores\n",
    "dems_on_conserv.dropna(inplace=True)\n",
    "reps_on_conserv.dropna(inplace=True)\n",
    "inds_on_conserv.dropna(inplace=True)\n",
    "\n",
    "print(\"mean Democrat feeling thermometer toward conservatives\", dems_on_conserv.mean())\n",
    "print(\"mean Republican feeling thermometer toward conservatives\", reps_on_conserv.mean())\n",
    "print(\"mean Independent feeling thermometer toward conservatives\", inds_on_conserv.mean())\n",
    "\n",
    "print(\"length of dems_on_conserv \", len(dems_on_conserv))\n",
    "print(\"length of reps_on_conserv \", len(reps_on_conserv))\n",
    "print(\"length of inds_on_conserv \", len(inds_on_conserv))\n",
    "print(\"two sample t-test for Dems & Reps \", stats.ttest_ind(dems_on_conserv, reps_on_conserv, equal_var = False, nan_policy='raise'))\n",
    "print(\"two sample t-test for Dems & Inds \", stats.ttest_ind(dems_on_conserv, inds_on_conserv, equal_var = False, nan_policy='raise'))\n",
    "print(\"two sample t-test for Inds & Reps \", stats.ttest_ind(inds_on_conserv, reps_on_conserv, equal_var = False, nan_policy='raise'))"
   ]
  },
  {
   "cell_type": "code",
   "execution_count": 63,
   "metadata": {},
   "outputs": [
    {
     "data": {
      "text/html": [
       "<div>\n",
       "<style scoped>\n",
       "    .dataframe tbody tr th:only-of-type {\n",
       "        vertical-align: middle;\n",
       "    }\n",
       "\n",
       "    .dataframe tbody tr th {\n",
       "        vertical-align: top;\n",
       "    }\n",
       "\n",
       "    .dataframe thead th {\n",
       "        text-align: right;\n",
       "    }\n",
       "</style>\n",
       "<table border=\"1\" class=\"dataframe\">\n",
       "  <thead>\n",
       "    <tr style=\"text-align: right;\">\n",
       "      <th></th>\n",
       "      <th>post_liberal_rating</th>\n",
       "      <th>post_conservative_rating</th>\n",
       "      <th>pre_party_id</th>\n",
       "      <th>post_scientists</th>\n",
       "    </tr>\n",
       "  </thead>\n",
       "  <tbody>\n",
       "    <tr>\n",
       "      <th>0</th>\n",
       "      <td>50.0</td>\n",
       "      <td>70.0</td>\n",
       "      <td>rep</td>\n",
       "      <td>70.0</td>\n",
       "    </tr>\n",
       "    <tr>\n",
       "      <th>1</th>\n",
       "      <td>50.0</td>\n",
       "      <td>60.0</td>\n",
       "      <td>rep</td>\n",
       "      <td>70.0</td>\n",
       "    </tr>\n",
       "    <tr>\n",
       "      <th>2</th>\n",
       "      <td>50.0</td>\n",
       "      <td>50.0</td>\n",
       "      <td>dem</td>\n",
       "      <td>70.0</td>\n",
       "    </tr>\n",
       "    <tr>\n",
       "      <th>3</th>\n",
       "      <td>50.0</td>\n",
       "      <td>50.0</td>\n",
       "      <td>rep</td>\n",
       "      <td>50.0</td>\n",
       "    </tr>\n",
       "    <tr>\n",
       "      <th>4</th>\n",
       "      <td>70.0</td>\n",
       "      <td>70.0</td>\n",
       "      <td>dem</td>\n",
       "      <td>85.0</td>\n",
       "    </tr>\n",
       "  </tbody>\n",
       "</table>\n",
       "</div>"
      ],
      "text/plain": [
       "   post_liberal_rating  post_conservative_rating pre_party_id  post_scientists\n",
       "0                 50.0                      70.0          rep             70.0\n",
       "1                 50.0                      60.0          rep             70.0\n",
       "2                 50.0                      50.0          dem             70.0\n",
       "3                 50.0                      50.0          rep             50.0\n",
       "4                 70.0                      70.0          dem             85.0"
      ]
     },
     "execution_count": 63,
     "metadata": {},
     "output_type": "execute_result"
    }
   ],
   "source": [
    "# add the post_scientists feeling thermometer variable to the liberal_v_conservative dataframe\n",
    "liberal_v_conservative['post_scientists'] = anes['post_scientists_rating'].where(anes['post_scientists_rating']<150)\n",
    "liberal_v_conservative.dropna(inplace=True)\n",
    "liberal_v_conservative.head()"
   ]
  },
  {
   "cell_type": "code",
   "execution_count": 64,
   "metadata": {},
   "outputs": [
    {
     "data": {
      "text/plain": [
       "<AxesSubplot:title={'center':'post_scientists'}, xlabel='pre_party_id'>"
      ]
     },
     "execution_count": 64,
     "metadata": {},
     "output_type": "execute_result"
    },
    {
     "data": {
      "image/png": "[encoded data removed]",
      "text/plain": [
       "<Figure size 648x432 with 1 Axes>"
      ]
     },
     "metadata": {},
     "output_type": "display_data"
    }
   ],
   "source": [
    "# now let's do feeling thermometer ratings on scientists for dems, inds, reps, even though\n",
    "# this feeling thermometer should have less partisan divide\n",
    "\n",
    "liberal_v_conservative.boxplot(column='post_scientists', by='pre_party_id', figsize=(9,6))"
   ]
  },
  {
   "cell_type": "code",
   "execution_count": 65,
   "metadata": {},
   "outputs": [
    {
     "name": "stdout",
     "output_type": "stream",
     "text": [
      "mean Democrat feeling thermometer toward scientists 81.15441176470588\n",
      "mean Republican feeling thermometer toward scientists 72.90940525587828\n",
      "mean Independent feeling thermometer toward scientists 72.97167755991285\n",
      "length of dems_on_scientists  1632\n",
      "length of reps_on_scientists  1446\n",
      "length of inds_on_scientists  459\n",
      "two sample t-test for Dems & Reps  Ttest_indResult(statistic=12.252411018356398, pvalue=1.0302943527228108e-33)\n",
      "two sample t-test for Dems & Inds  Ttest_indResult(statistic=7.398930877999001, pvalue=4.2448383839853157e-13)\n",
      "two sample t-test for Inds & Reps  Ttest_indResult(statistic=0.055284015609172926, pvalue=0.9559280585900818)\n"
     ]
    }
   ],
   "source": [
    "# here we should expect not to be able to reject the hypothesis of no difference in underlying pop means,\n",
    "# but that seems to be true only for Republicans and Independents\n",
    "\n",
    "dems_on_scientists = liberal_v_conservative['post_scientists'].where(liberal_v_conservative['pre_party_id']=='dem')\n",
    "reps_on_scientists = liberal_v_conservative['post_scientists'].where(liberal_v_conservative['pre_party_id']=='rep')\n",
    "inds_on_scientists = liberal_v_conservative['post_scientists'].where(liberal_v_conservative['pre_party_id']=='ind')\n",
    "# using .where method seems to result in a series with lots of NaN wherever condition is not met\n",
    "# should probably use another method, right?\n",
    "\n",
    "# get rid of the NaN values in each vector of feeling thermometer scores\n",
    "dems_on_scientists.dropna(inplace=True)\n",
    "reps_on_scientists.dropna(inplace=True)\n",
    "inds_on_scientists.dropna(inplace=True)\n",
    "\n",
    "print(\"mean Democrat feeling thermometer toward scientists\", dems_on_scientists.mean())\n",
    "print(\"mean Republican feeling thermometer toward scientists\", reps_on_scientists.mean())\n",
    "print(\"mean Independent feeling thermometer toward scientists\", inds_on_scientists.mean())\n",
    "\n",
    "print(\"length of dems_on_scientists \", len(dems_on_scientists))\n",
    "print(\"length of reps_on_scientists \", len(reps_on_scientists))\n",
    "print(\"length of inds_on_scientists \", len(inds_on_scientists))\n",
    "print(\"two sample t-test for Dems & Reps \", stats.ttest_ind(dems_on_scientists, reps_on_scientists, equal_var = False, nan_policy='raise'))\n",
    "print(\"two sample t-test for Dems & Inds \", stats.ttest_ind(dems_on_scientists, inds_on_scientists, equal_var = False, nan_policy='raise'))\n",
    "print(\"two sample t-test for Inds & Reps \", stats.ttest_ind(inds_on_scientists, reps_on_scientists, equal_var = False, nan_policy='raise'))"
   ]
  },
  {
   "cell_type": "markdown",
   "metadata": {},
   "source": [
    "## Central Limit Theorem"
   ]
  },
  {
   "cell_type": "markdown",
   "metadata": {},
   "source": [
    "The central limit theorem (CLT) is a fundamental concept in statistics. It basically says that the means of repeated samples will converge upon a normal distribution centered around the population mean. This is a powerful result that allows us to use a sample mean without measuring other sample means. This insight is particularly important in the social sciences, and justifies the use of regression for causal inference."
   ]
  },
  {
   "cell_type": "markdown",
   "metadata": {},
   "source": [
    "Using liberal respondents (\"post_liberal_rating\") again, let's illustrate this concept. Write code that does the following:\n",
    "\n",
    "1. Define a sample size, and number of repetitions. Also, create an empty array to store the sample means.\n",
    "\n",
    "2. Write a for loop that loops over the number of repetitions and:\n",
    "    a. Samples the liberal respondents by the sample size\n",
    "    b. Calculates its mean\n",
    "    c. Appends the calculated mean to the array that stores sample means\n",
    "\n",
    "Using this code, experiment with various sample sizes and number of repetitions. Plot each result. For instance, try the following:\n",
    "\n",
    "1. Sample size = 20, repetititon = 10\n",
    "2. Sample size = 100, repetitions = 10\n",
    "3. Sample size = 100, repetitions = 100000\n",
    "4. Sample size = 500, repetitions = 100000\n",
    "5. Sample size = 1000, repetitions = 150000"
   ]
  },
  {
   "cell_type": "code",
   "execution_count": 23,
   "metadata": {},
   "outputs": [
    {
     "data": {
      "text/plain": [
       "(array([ 1.,  0.,  1.,  5.,  0.,  0.,  1.,  0.,  0.,  2.]),\n",
       " array([ 40.33333333,  42.00666667,  43.68      ,  45.35333333,\n",
       "         47.02666667,  48.7       ,  50.37333333,  52.04666667,\n",
       "         53.72      ,  55.39333333,  57.06666667]),\n",
       " <a list of 10 Patch objects>)"
      ]
     },
     "execution_count": 23,
     "metadata": {},
     "output_type": "execute_result"
    },
    {
     "data": {
      "image/png": "[encoded data removed]",
      "text/plain": [
       "<matplotlib.figure.Figure at 0x1a0e444dd8>"
      ]
     },
     "metadata": {},
     "output_type": "display_data"
    }
   ],
   "source": [
    "sample_size = 20\n",
    "repetitions = 10\n",
    "\n",
    "means = []\n",
    "\n",
    "for i in np.arange(repetitions):\n",
    "    sample = liberal.sample(sample_size)\n",
    "    new_mean = np.mean(sample)\n",
    "    means = np.append(means, new_mean)\n",
    "\n",
    "plot.hist(means)"
   ]
  },
  {
   "cell_type": "code",
   "execution_count": 24,
   "metadata": {},
   "outputs": [
    {
     "data": {
      "text/plain": [
       "(array([ 2.,  0.,  1.,  1.,  2.,  0.,  1.,  0.,  1.,  2.]),\n",
       " array([ 50.65116279,  51.02994895,  51.40873511,  51.78752127,\n",
       "         52.16630743,  52.54509359,  52.92387975,  53.30266591,\n",
       "         53.68145207,  54.06023823,  54.43902439]),\n",
       " <a list of 10 Patch objects>)"
      ]
     },
     "execution_count": 24,
     "metadata": {},
     "output_type": "execute_result"
    },
    {
     "data": {
      "image/png": "[encoded data removed]",
      "text/plain": [
       "<matplotlib.figure.Figure at 0x1a0e6bf470>"
      ]
     },
     "metadata": {},
     "output_type": "display_data"
    }
   ],
   "source": [
    "sample_size = 100\n",
    "repetitions = 10\n",
    "\n",
    "means = []\n",
    "\n",
    "for i in np.arange(repetitions):\n",
    "    sample = liberal.sample(sample_size)\n",
    "    new_mean = np.mean(sample)\n",
    "    means = np.append(means, new_mean)\n",
    "\n",
    "plot.hist(means)"
   ]
  },
  {
   "cell_type": "code",
   "execution_count": 25,
   "metadata": {},
   "outputs": [
    {
     "data": {
      "text/plain": [
       "(array([  2.10000000e+01,   3.51000000e+02,   2.91400000e+03,\n",
       "          1.20460000e+04,   2.72000000e+04,   3.17930000e+04,\n",
       "          1.89300000e+04,   5.79000000e+03,   9.02000000e+02,\n",
       "          5.30000000e+01]),\n",
       " array([ 38.98765432,  41.38544061,  43.78322691,  46.1810132 ,\n",
       "         48.57879949,  50.97658578,  53.37437207,  55.77215837,\n",
       "         58.16994466,  60.56773095,  62.96551724]),\n",
       " <a list of 10 Patch objects>)"
      ]
     },
     "execution_count": 25,
     "metadata": {},
     "output_type": "execute_result"
    },
    {
     "data": {
      "image/png": "[encoded data removed]",
      "text/plain": [
       "<matplotlib.figure.Figure at 0x1a0e7736a0>"
      ]
     },
     "metadata": {},
     "output_type": "display_data"
    }
   ],
   "source": [
    "sample_size = 100\n",
    "repetitions = 100000\n",
    "\n",
    "means = []\n",
    "\n",
    "for i in np.arange(repetitions):\n",
    "    sample = liberal.sample(sample_size)\n",
    "    new_mean = np.mean(sample)\n",
    "    means = np.append(means, new_mean)\n",
    "\n",
    "plot.hist(means)"
   ]
  },
  {
   "cell_type": "code",
   "execution_count": 26,
   "metadata": {
    "scrolled": true
   },
   "outputs": [
    {
     "data": {
      "text/plain": [
       "(array([  2.10000000e+01,   4.12000000e+02,   3.53100000e+03,\n",
       "          1.44590000e+04,   3.06830000e+04,   3.10380000e+04,\n",
       "          1.55380000e+04,   3.80200000e+03,   4.83000000e+02,\n",
       "          3.30000000e+01]),\n",
       " array([ 46.17857143,  47.23711331,  48.2956552 ,  49.35419708,\n",
       "         50.41273896,  51.47128085,  52.52982273,  53.58836462,\n",
       "         54.6469065 ,  55.70544838,  56.76399027]),\n",
       " <a list of 10 Patch objects>)"
      ]
     },
     "execution_count": 26,
     "metadata": {},
     "output_type": "execute_result"
    },
    {
     "data": {
      "image/png": "[encoded data removed]",
      "text/plain": [
       "<matplotlib.figure.Figure at 0x1a0e34c400>"
      ]
     },
     "metadata": {},
     "output_type": "display_data"
    }
   ],
   "source": [
    "sample_size = 500\n",
    "repetitions = 100000\n",
    "\n",
    "means = []\n",
    "\n",
    "for i in np.arange(repetitions):\n",
    "    sample = liberal.sample(sample_size)\n",
    "    new_mean = np.mean(sample)\n",
    "    means = np.append(means, new_mean)\n",
    "\n",
    "plot.hist(means)"
   ]
  },
  {
   "cell_type": "code",
   "execution_count": 27,
   "metadata": {
    "scrolled": true
   },
   "outputs": [
    {
     "data": {
      "text/plain": [
       "(array([  1.60000000e+01,   3.50000000e+02,   3.54400000e+03,\n",
       "          1.77780000e+04,   4.23240000e+04,   4.92910000e+04,\n",
       "          2.81250000e+04,   7.48800000e+03,   1.03200000e+03,\n",
       "          5.20000000e+01]),\n",
       " array([ 48.76069731,  49.28752846,  49.81435962,  50.34119077,\n",
       "         50.86802193,  51.39485308,  51.92168424,  52.4485154 ,\n",
       "         52.97534655,  53.50217771,  54.02900886]),\n",
       " <a list of 10 Patch objects>)"
      ]
     },
     "execution_count": 27,
     "metadata": {},
     "output_type": "execute_result"
    },
    {
     "data": {
      "image/png": "[encoded data removed]",
      "text/plain": [
       "<matplotlib.figure.Figure at 0x1a0f809ba8>"
      ]
     },
     "metadata": {},
     "output_type": "display_data"
    }
   ],
   "source": [
    "sample_size = 1500\n",
    "repetitions = 150000\n",
    "\n",
    "means = []\n",
    "\n",
    "for i in np.arange(repetitions):\n",
    "    sample = liberal.sample(sample_size)\n",
    "    new_mean = np.mean(sample)\n",
    "    means = np.append(means, new_mean)\n",
    "\n",
    "plot.hist(means)"
   ]
  },
  {
   "cell_type": "markdown",
   "metadata": {},
   "source": [
    "### Question 5: What happens as you increase the sample size and number of repetitions? How does this property justify the use of statistical methods across a range of problems?"
   ]
  },
  {
   "cell_type": "markdown",
   "metadata": {},
   "source": [
    "Answer:"
   ]
  }
 ],
 "metadata": {
  "history": [
   {
    "code": "stats.chisquare(jury['Eligible'], f_exp=jury['Panels'], ddof=0, axis=0)",
    "id": "7c848de8f1e8489a804581aaaa5db523",
    "idx": 40,
    "time": "2021-01-30T01:48:49.651Z",
    "type": "execution"
   },
   {
    "id": "7c848de8f1e8489a804581aaaa5db523",
    "time": "2021-01-30T01:48:49.784Z",
    "type": "completion"
   },
   {
    "code": "from collections import Counter\nimport numpy as np\nimport pandas as pd\nfrom scipy import stats\n%matplotlib inline\nimport matplotlib.pyplot as plot\nplot.style.use('fivethirtyeight')",
    "id": "bdb2aca1cb38448286e35e1cc19ae80d",
    "idx": 2,
    "time": "2021-01-30T01:48:59.187Z",
    "type": "execution"
   },
   {
    "code": "anes = pd.read_csv('../data/anes/ANES_legalst123_cleaned.csv')\nanes.head()",
    "id": "144fa81f211040af84a196bdc1a53fe5",
    "idx": 5,
    "time": "2021-01-30T01:48:59.191Z",
    "type": "execution"
   },
   {
    "code": "liberal = anes.loc[:, \"post_liberal_rating\"]\nliberal = liberal.where(liberal < 150)",
    "id": "f50dce3431654ccc864e23ed6378d996",
    "idx": 9,
    "time": "2021-01-30T01:48:59.197Z",
    "type": "execution"
   },
   {
    "code": "liberal.hist()",
    "id": "5ba46ca0e7074f129139f78b9b5a5ee3",
    "idx": 11,
    "time": "2021-01-30T01:48:59.200Z",
    "type": "execution"
   },
   {
    "code": "def empirical_hist_anes(series, n):\n    series.sample(n).hist()",
    "id": "b90adaf840b94fbb895042667961324d",
    "idx": 17,
    "time": "2021-01-30T01:48:59.204Z",
    "type": "execution"
   },
   {
    "code": "liberal.size",
    "id": "014b3d5e340e43738ff62ff19c26f788",
    "idx": 19,
    "time": "2021-01-30T01:48:59.207Z",
    "type": "execution"
   },
   {
    "code": "empirical_hist_anes(liberal, 10)",
    "id": "031199f2ec2f4c46b6c3641208901db0",
    "idx": 20,
    "time": "2021-01-30T01:48:59.209Z",
    "type": "execution"
   },
   {
    "code": "empirical_hist_anes(liberal, 100)",
    "id": "d8f66903b6bf47e2853f629d11da6b70",
    "idx": 21,
    "time": "2021-01-30T01:48:59.211Z",
    "type": "execution"
   },
   {
    "code": "empirical_hist_anes(liberal, 1000)",
    "id": "98b7925a8a794422908f1608607dfae1",
    "idx": 22,
    "time": "2021-01-30T01:48:59.213Z",
    "type": "execution"
   },
   {
    "code": "empirical_hist_anes(liberal, liberal.size)",
    "id": "0914863e2517413daa21eabf1ecb4518",
    "idx": 23,
    "time": "2021-01-30T01:48:59.215Z",
    "type": "execution"
   },
   {
    "code": "# Create the table\njury = pd.DataFrame(data = {'Ethnicity': ['Asian', 'Black', 'Latino', 'White', 'Other'],\n                           'Eligible': [0.15, 0.18, 0.12, 0.54, 0.01],\n                           'Panels': [0.26, 0.08, 0.08, 0.54, 0.04]}\n)\n\njury",
    "id": "b1b4e8cdad0c473381577c2a42b9f9d8",
    "idx": 31,
    "time": "2021-01-30T01:48:59.220Z",
    "type": "execution"
   },
   {
    "code": "# Horizontal Bar Chart\njury.plot.barh('Ethnicity')",
    "id": "e653bbee0b814e048204af81a5a0c2cf",
    "idx": 32,
    "time": "2021-01-30T01:48:59.222Z",
    "type": "execution"
   },
   {
    "code": "# Augment with the difference between the \"panels\" columns and \"eligible\" column\njury_with_diffs = jury.assign(Difference = jury.loc[:, 'Panels'] - jury.loc[:, 'Eligible'])\njury_with_diffs",
    "id": "2c0740376687419a83172eec6b4437f6",
    "idx": 33,
    "time": "2021-01-30T01:48:59.224Z",
    "type": "execution"
   },
   {
    "code": "def sample_proportions(probabilities, samples):\n    # You may have used datascience.sample_proportions; this is how it works.\n    # Read more here https://docs.scipy.org/doc/numpy-1.15.0/reference/generated/numpy.random.multinomial.html\n    return np.random.multinomial(samples, probabilities) / samples\n\ndef sample_jury_panel(panel_size=100):\n    \"\"\"\n    Generate one sample panel of potential jurors by race,\n    drawn uniformly from the eligble pool\n    \"\"\"\n    return sample_proportions(jury['Eligible'], panel_size)\n\nsimulated_fair_panels = pd.DataFrame([ sample_jury_panel() for _ in range(1000) ], columns=jury['Ethnicity'])\n\nsimulated_fair_panels.head(2)",
    "id": "abfffab517f84bf888c6394730e4f56d",
    "idx": 35,
    "time": "2021-01-30T01:48:59.227Z",
    "type": "execution"
   },
   {
    "code": "simulated_fair_panels.boxplot()",
    "id": "73aeafab79f84266a0154578c076d4dc",
    "idx": 37,
    "time": "2021-01-30T01:48:59.229Z",
    "type": "execution"
   },
   {
    "code": "unfair_panels = pd.DataFrame([ sample_proportions(jury['Panels'], 100) for _ in range(1000) ], columns=jury['Ethnicity'])\n\nstats.ttest_ind(simulated_fair_panels, unfair_panels, equal_var=False)",
    "id": "72abc2929f704460b2c5a5d9469df042",
    "idx": 39,
    "time": "2021-01-30T01:48:59.231Z",
    "type": "execution"
   },
   {
    "id": "bdb2aca1cb38448286e35e1cc19ae80d",
    "time": "2021-01-30T01:49:00.113Z",
    "type": "completion"
   },
   {
    "id": "144fa81f211040af84a196bdc1a53fe5",
    "time": "2021-01-30T01:49:00.328Z",
    "type": "completion"
   },
   {
    "id": "f50dce3431654ccc864e23ed6378d996",
    "time": "2021-01-30T01:49:00.330Z",
    "type": "completion"
   },
   {
    "id": "5ba46ca0e7074f129139f78b9b5a5ee3",
    "time": "2021-01-30T01:49:00.480Z",
    "type": "completion"
   },
   {
    "id": "b90adaf840b94fbb895042667961324d",
    "time": "2021-01-30T01:49:00.481Z",
    "type": "completion"
   },
   {
    "id": "014b3d5e340e43738ff62ff19c26f788",
    "time": "2021-01-30T01:49:00.526Z",
    "type": "completion"
   },
   {
    "id": "031199f2ec2f4c46b6c3641208901db0",
    "time": "2021-01-30T01:49:00.623Z",
    "type": "completion"
   },
   {
    "id": "d8f66903b6bf47e2853f629d11da6b70",
    "time": "2021-01-30T01:49:00.760Z",
    "type": "completion"
   },
   {
    "id": "98b7925a8a794422908f1608607dfae1",
    "time": "2021-01-30T01:49:00.888Z",
    "type": "completion"
   },
   {
    "id": "0914863e2517413daa21eabf1ecb4518",
    "time": "2021-01-30T01:49:01.026Z",
    "type": "completion"
   },
   {
    "id": "b1b4e8cdad0c473381577c2a42b9f9d8",
    "time": "2021-01-30T01:49:01.038Z",
    "type": "completion"
   },
   {
    "id": "e653bbee0b814e048204af81a5a0c2cf",
    "time": "2021-01-30T01:49:01.203Z",
    "type": "completion"
   },
   {
    "id": "2c0740376687419a83172eec6b4437f6",
    "time": "2021-01-30T01:49:01.258Z",
    "type": "completion"
   },
   {
    "id": "abfffab517f84bf888c6394730e4f56d",
    "time": "2021-01-30T01:49:01.265Z",
    "type": "completion"
   },
   {
    "id": "73aeafab79f84266a0154578c076d4dc",
    "time": "2021-01-30T01:49:01.438Z",
    "type": "completion"
   },
   {
    "id": "72abc2929f704460b2c5a5d9469df042",
    "time": "2021-01-30T01:49:01.480Z",
    "type": "completion"
   },
   {
    "code": "stats.chisquare(jury['Eligible'], f_exp=jury['Panels'], ddof=0, axis=0)",
    "id": "7c848de8f1e8489a804581aaaa5db523",
    "idx": 40,
    "time": "2021-01-30T01:49:23.654Z",
    "type": "execution"
   },
   {
    "id": "7c848de8f1e8489a804581aaaa5db523",
    "time": "2021-01-30T01:49:23.738Z",
    "type": "completion"
   },
   {
    "code": "stats.chisquare(jury['Panels'], f_exp=jury['Eligible'], ddof=0, axis=0)",
    "id": "7c848de8f1e8489a804581aaaa5db523",
    "idx": 40,
    "time": "2021-01-30T01:49:54.294Z",
    "type": "execution"
   },
   {
    "id": "7c848de8f1e8489a804581aaaa5db523",
    "time": "2021-01-30T01:49:54.362Z",
    "type": "completion"
   },
   {
    "code": "stats.chisquare(jury['Panels']*100, f_exp=jury['Eligible']*100, ddof=0, axis=0)",
    "id": "7c848de8f1e8489a804581aaaa5db523",
    "idx": 40,
    "time": "2021-01-30T01:54:42.148Z",
    "type": "execution"
   },
   {
    "id": "7c848de8f1e8489a804581aaaa5db523",
    "time": "2021-01-30T01:54:42.225Z",
    "type": "completion"
   },
   {
    "code": "stats.chisquare(jury['Panels']*1000, f_exp=jury['Eligible']*1000, ddof=0, axis=0)\n#note that the chisquare test assumes values larger than 5, and since these are proportions we need to multiply",
    "id": "7c848de8f1e8489a804581aaaa5db523",
    "idx": 40,
    "time": "2021-01-30T02:02:50.513Z",
    "type": "execution"
   },
   {
    "id": "7c848de8f1e8489a804581aaaa5db523",
    "time": "2021-01-30T02:02:50.596Z",
    "type": "completion"
   },
   {
    "code": "stats.chisquare(jury['Panels']*100, f_exp=jury['Eligible']*100, ddof=0, axis=0)\n#note that the chisquare test assumes values larger than 5, and since these are proportions we need to multiply",
    "id": "7c848de8f1e8489a804581aaaa5db523",
    "idx": 40,
    "time": "2021-01-30T02:03:42.962Z",
    "type": "execution"
   },
   {
    "id": "7c848de8f1e8489a804581aaaa5db523",
    "time": "2021-01-30T02:03:43.040Z",
    "type": "completion"
   },
   {
    "code": "newjury = 100*jury\nstats.chisquare(newjury['Panels'], f_exp=newjury['Eligible'], ddof=0, axis=0)\n#note that the chisquare test assumes values larger than 5, and since these are proportions we need to multiply",
    "id": "7c848de8f1e8489a804581aaaa5db523",
    "idx": 40,
    "time": "2021-01-30T02:06:43.625Z",
    "type": "execution"
   },
   {
    "id": "7c848de8f1e8489a804581aaaa5db523",
    "time": "2021-01-30T02:06:43.706Z",
    "type": "completion"
   },
   {
    "code": "from collections import Counter\nimport numpy as np\nimport pandas as pd\nfrom scipy import stats\n%matplotlib inline\nimport matplotlib.pyplot as plot\nplot.style.use('fivethirtyeight')",
    "id": "0b648742cb934e9584c031f59a8efe9e",
    "idx": 2,
    "time": "2021-01-30T18:25:24.571Z",
    "type": "execution"
   },
   {
    "code": "anes = pd.read_csv('../data/anes/ANES_legalst123_cleaned.csv')\nanes.head()",
    "id": "001678af825548f98f48e85878a4e904",
    "idx": 5,
    "time": "2021-01-30T18:25:24.579Z",
    "type": "execution"
   },
   {
    "code": "liberal = anes.loc[:, \"post_liberal_rating\"]\nliberal = liberal.where(liberal < 150)",
    "id": "49f29e35f98d49499e9a429726250a20",
    "idx": 9,
    "time": "2021-01-30T18:25:24.582Z",
    "type": "execution"
   },
   {
    "code": "liberal.hist()",
    "id": "fb1ee0fae549406a8f3a9cf2bf0535d6",
    "idx": 11,
    "time": "2021-01-30T18:25:24.586Z",
    "type": "execution"
   },
   {
    "code": "def empirical_hist_anes(series, n):\n    series.sample(n).hist()",
    "id": "37b2dc80be9746c88fc964c9297484b3",
    "idx": 17,
    "time": "2021-01-30T18:25:24.591Z",
    "type": "execution"
   },
   {
    "code": "liberal.size",
    "id": "bd6ada0e437845bf9f53070c52465407",
    "idx": 19,
    "time": "2021-01-30T18:25:24.593Z",
    "type": "execution"
   },
   {
    "code": "empirical_hist_anes(liberal, 10)",
    "id": "e61a43ed87764980805647ed8fdb5e79",
    "idx": 20,
    "time": "2021-01-30T18:25:24.594Z",
    "type": "execution"
   },
   {
    "code": "empirical_hist_anes(liberal, 100)",
    "id": "1093244237ae452b9778ad0d44b164cf",
    "idx": 21,
    "time": "2021-01-30T18:25:24.596Z",
    "type": "execution"
   },
   {
    "code": "empirical_hist_anes(liberal, 1000)",
    "id": "5939049f1895477c80b21908fa67784b",
    "idx": 22,
    "time": "2021-01-30T18:25:24.599Z",
    "type": "execution"
   },
   {
    "code": "empirical_hist_anes(liberal, liberal.size)",
    "id": "81e2b1fdccb54947b229f547e1a42ecf",
    "idx": 23,
    "time": "2021-01-30T18:25:24.600Z",
    "type": "execution"
   },
   {
    "code": "# Create the table\njury = pd.DataFrame(data = {'Ethnicity': ['Asian', 'Black', 'Latino', 'White', 'Other'],\n                           'Eligible': [0.15, 0.18, 0.12, 0.54, 0.01],\n                           'Panels': [0.26, 0.08, 0.08, 0.54, 0.04]}\n)\n\njury",
    "id": "97b138dbd83c4f078f4ec25d09d928e6",
    "idx": 31,
    "time": "2021-01-30T18:25:24.605Z",
    "type": "execution"
   },
   {
    "code": "# Horizontal Bar Chart\njury.plot.barh('Ethnicity')",
    "id": "4b6e5d66990e4aaf98c593df864abaca",
    "idx": 32,
    "time": "2021-01-30T18:25:24.607Z",
    "type": "execution"
   },
   {
    "code": "# Augment with the difference between the \"panels\" columns and \"eligible\" column\njury_with_diffs = jury.assign(Difference = jury.loc[:, 'Panels'] - jury.loc[:, 'Eligible'])\njury_with_diffs",
    "id": "67de448be8a5491eab13ab5244492561",
    "idx": 33,
    "time": "2021-01-30T18:25:24.609Z",
    "type": "execution"
   },
   {
    "code": "def sample_proportions(probabilities, samples):\n    # You may have used datascience.sample_proportions; this is how it works.\n    # Read more here https://docs.scipy.org/doc/numpy-1.15.0/reference/generated/numpy.random.multinomial.html\n    return np.random.multinomial(samples, probabilities) / samples\n\ndef sample_jury_panel(panel_size=100):\n    \"\"\"\n    Generate one sample panel of potential jurors by race,\n    drawn uniformly from the eligble pool\n    \"\"\"\n    return sample_proportions(jury['Eligible'], panel_size)\n\nsimulated_fair_panels = pd.DataFrame([ sample_jury_panel() for _ in range(1000) ], columns=jury['Ethnicity'])\n\nsimulated_fair_panels.head(2)",
    "id": "307cafb515da478e92c0541597622a28",
    "idx": 35,
    "time": "2021-01-30T18:25:24.611Z",
    "type": "execution"
   },
   {
    "code": "simulated_fair_panels.boxplot()",
    "id": "bcf79fcdb354479f8e1cd9bb0e3eed26",
    "idx": 37,
    "time": "2021-01-30T18:25:24.614Z",
    "type": "execution"
   },
   {
    "code": "unfair_panels = pd.DataFrame([ sample_proportions(jury['Panels'], 100) for _ in range(1000) ], columns=jury['Ethnicity'])\n\nstats.ttest_ind(simulated_fair_panels, unfair_panels, equal_var=False)",
    "id": "cb9df0571849498f8a8e6ba219565a9f",
    "idx": 39,
    "time": "2021-01-30T18:25:24.615Z",
    "type": "execution"
   },
   {
    "code": "# try a chi square test for seeing whether we can reject the null that the draw came from the known population\nnewjury = 100*jury\nstats.chisquare(newjury['Panels'], f_exp=newjury['Eligible'], ddof=0, axis=0)\n#note that the chisquare test assumes values larger than 5, and since these are percentages we can express them\n# as jurors out of 100 people drawn",
    "id": "805e0b987363408c96928c309f6c6810",
    "idx": 40,
    "time": "2021-01-30T18:25:24.617Z",
    "type": "execution"
   },
   {
    "code": "print(\n    \"Portion of uniformly selected panels with under 9% black jurors: \",\n    simulated_fair_panels[simulated_fair_panels['Black'] < 0.09].count()['Black'] / simulated_fair_panels['Black'].count()\n)\n\nsimulated_fair_panels['Black'].hist(bins=[ n / 100 for n in range(0, 40, 5) ])",
    "id": "038938dfd5824cb1841119ef6b54e15e",
    "idx": 42,
    "time": "2021-01-30T18:25:24.620Z",
    "type": "execution"
   },
   {
    "code": "liberal_v_conservative = anes.loc[:, [\"post_liberal_rating\", \"post_conservative_rating\"]]\nliberal_v_conservative = liberal_v_conservative.where(liberal_v_conservative[\"post_liberal_rating\"] < 150)\nliberal_v_conservative = liberal_v_conservative.where(liberal_v_conservative[\"post_conservative_rating\"] < 150)\n\nliberal_v_conservative.head()",
    "id": "c43a88e3fadd41a4b48304127f02079b",
    "idx": 45,
    "time": "2021-01-30T18:25:24.622Z",
    "type": "execution"
   },
   {
    "code": "liberal_v_conservative.hist(sharex=True, sharey=True)",
    "id": "ce0fbe1a5b4643e28c80dccfabcfe588",
    "idx": 48,
    "time": "2021-01-30T18:25:24.624Z",
    "type": "execution"
   },
   {
    "code": "liberal_v_conservative.dropna(inplace=True)",
    "id": "f1c4ffe6d0634600ae80dbdd0bc6d0a5",
    "idx": 51,
    "time": "2021-01-30T18:25:24.628Z",
    "type": "execution"
   },
   {
    "code": "stats.ttest_ind(liberal_v_conservative['post_liberal_rating'], liberal_v_conservative['post_conservative_rating'], equal_var = False)",
    "id": "fb27f185fa6e4a9eaab042de178b8220",
    "idx": 52,
    "time": "2021-01-30T18:25:24.631Z",
    "type": "execution"
   },
   {
    "id": "0b648742cb934e9584c031f59a8efe9e",
    "time": "2021-01-30T18:25:25.527Z",
    "type": "completion"
   },
   {
    "id": "001678af825548f98f48e85878a4e904",
    "time": "2021-01-30T18:25:25.687Z",
    "type": "completion"
   },
   {
    "id": "49f29e35f98d49499e9a429726250a20",
    "time": "2021-01-30T18:25:25.728Z",
    "type": "completion"
   },
   {
    "id": "fb1ee0fae549406a8f3a9cf2bf0535d6",
    "time": "2021-01-30T18:25:25.831Z",
    "type": "completion"
   },
   {
    "id": "37b2dc80be9746c88fc964c9297484b3",
    "time": "2021-01-30T18:25:25.833Z",
    "type": "completion"
   },
   {
    "id": "bd6ada0e437845bf9f53070c52465407",
    "time": "2021-01-30T18:25:25.836Z",
    "type": "completion"
   },
   {
    "id": "e61a43ed87764980805647ed8fdb5e79",
    "time": "2021-01-30T18:25:25.954Z",
    "type": "completion"
   },
   {
    "id": "1093244237ae452b9778ad0d44b164cf",
    "time": "2021-01-30T18:25:26.106Z",
    "type": "completion"
   },
   {
    "id": "5939049f1895477c80b21908fa67784b",
    "time": "2021-01-30T18:25:26.234Z",
    "type": "completion"
   },
   {
    "id": "81e2b1fdccb54947b229f547e1a42ecf",
    "time": "2021-01-30T18:25:26.356Z",
    "type": "completion"
   },
   {
    "id": "97b138dbd83c4f078f4ec25d09d928e6",
    "time": "2021-01-30T18:25:26.371Z",
    "type": "completion"
   },
   {
    "id": "4b6e5d66990e4aaf98c593df864abaca",
    "time": "2021-01-30T18:25:26.531Z",
    "type": "completion"
   },
   {
    "id": "67de448be8a5491eab13ab5244492561",
    "time": "2021-01-30T18:25:26.547Z",
    "type": "completion"
   },
   {
    "id": "307cafb515da478e92c0541597622a28",
    "time": "2021-01-30T18:25:26.614Z",
    "type": "completion"
   },
   {
    "id": "bcf79fcdb354479f8e1cd9bb0e3eed26",
    "time": "2021-01-30T18:25:26.768Z",
    "type": "completion"
   },
   {
    "id": "cb9df0571849498f8a8e6ba219565a9f",
    "time": "2021-01-30T18:25:26.820Z",
    "type": "completion"
   },
   {
    "id": "805e0b987363408c96928c309f6c6810",
    "time": "2021-01-30T18:25:26.824Z",
    "type": "completion"
   },
   {
    "id": "038938dfd5824cb1841119ef6b54e15e",
    "time": "2021-01-30T18:25:26.966Z",
    "type": "completion"
   },
   {
    "id": "c43a88e3fadd41a4b48304127f02079b",
    "time": "2021-01-30T18:25:26.983Z",
    "type": "completion"
   },
   {
    "id": "ce0fbe1a5b4643e28c80dccfabcfe588",
    "time": "2021-01-30T18:25:27.201Z",
    "type": "completion"
   },
   {
    "id": "f1c4ffe6d0634600ae80dbdd0bc6d0a5",
    "time": "2021-01-30T18:25:27.202Z",
    "type": "completion"
   },
   {
    "id": "fb27f185fa6e4a9eaab042de178b8220",
    "time": "2021-01-30T18:25:27.208Z",
    "type": "completion"
   },
   {
    "code": "# what does the pre_party_id variable look like? this is the 7-pt scale summary measure (V161158x in codebook)\nanes[\"pre_party_id\"].hist()",
    "id": "299fca3d037e4bd0b93136a47eeea7b6",
    "idx": 55,
    "time": "2021-01-30T18:26:21.238Z",
    "type": "execution"
   },
   {
    "id": "299fca3d037e4bd0b93136a47eeea7b6",
    "time": "2021-01-30T18:26:21.439Z",
    "type": "completion"
   },
   {
    "code": "# we need to recode the pre_party_id variable so that it is just Democrat, Republican, Independent\ndef change_values(column, new_values):\n    anes[column] = anes[column].map(new_values, na_action=\"ignore\")\n    \nparties = {\n    1.0: \"dem\",\n    2.0: \"dem\",\n    3.0: \"dem\",\n    4.0: \"ind\",\n    5.0: \"rep\",\n    6.0: 'rep',\n    7.0: 'rep'\n}\nchange_values(\"pre_party_id\", parties)\nanes['pre_party_id'].hist()",
    "id": "69db54825adf434f890bdc8963af32a6",
    "idx": 56,
    "time": "2021-01-30T18:31:49.251Z",
    "type": "execution"
   },
   {
    "id": "69db54825adf434f890bdc8963af32a6",
    "time": "2021-01-30T18:31:49.497Z",
    "type": "completion"
   },
   {
    "code": "# add the pre_party_id variable to the liberal_v_conservative dataframe\nliberal_v_conservative.append(anes['pre_party_id'])\nliberal_v_conservative.head()",
    "id": "ac969b5da1ce47e283c1f62e6d7e57f7",
    "idx": 57,
    "time": "2021-01-30T18:37:17.107Z",
    "type": "execution"
   },
   {
    "id": "ac969b5da1ce47e283c1f62e6d7e57f7",
    "time": "2021-01-30T18:37:18.308Z",
    "type": "completion"
   },
   {
    "code": "# add the pre_party_id variable to the liberal_v_conservative dataframe\nliberal_v_conservative['pre_party_id'] = anes['pre_party_id']\nliberal_v_conservative.head()",
    "id": "ac969b5da1ce47e283c1f62e6d7e57f7",
    "idx": 57,
    "time": "2021-01-30T18:38:48.301Z",
    "type": "execution"
   },
   {
    "id": "ac969b5da1ce47e283c1f62e6d7e57f7",
    "time": "2021-01-30T18:38:48.375Z",
    "type": "completion"
   },
   {
    "code": "# add the pre_party_id variable to the liberal_v_conservative dataframe\nliberal_v_conservative['pre_party_id'] = anes['pre_party_id']\nliberal_v_conservative.dropna()\nliberal_v_conservative.head()",
    "id": "ac969b5da1ce47e283c1f62e6d7e57f7",
    "idx": 57,
    "time": "2021-01-30T18:40:54.116Z",
    "type": "execution"
   },
   {
    "id": "ac969b5da1ce47e283c1f62e6d7e57f7",
    "time": "2021-01-30T18:40:54.193Z",
    "type": "completion"
   },
   {
    "code": "# now we can do a boxplot to see what the mean liberal feeling thermom. \n# and conservative feeling thermometer scores look like\n# liberal_v_conservative\nliberal_v_conservative.boxplot(column='post_liberal_rating', by='pre_party_id')",
    "id": "5b3c41a2584c421abf48f67edcbd6212",
    "idx": 58,
    "time": "2021-01-30T20:06:53.952Z",
    "type": "execution"
   },
   {
    "id": "5b3c41a2584c421abf48f67edcbd6212",
    "time": "2021-01-30T20:06:54.080Z",
    "type": "completion"
   },
   {
    "code": "from collections import Counter\nimport numpy as np\nimport pandas as pd\nfrom scipy import stats\n%matplotlib inline\nimport matplotlib.pyplot as plot\nplot.style.use('fivethirtyeight')",
    "id": "553a7fdea99741fe81e172c168149414",
    "idx": 2,
    "time": "2021-01-30T20:07:05.548Z",
    "type": "execution"
   },
   {
    "code": "anes = pd.read_csv('../data/anes/ANES_legalst123_cleaned.csv')\nanes.head()",
    "id": "50c869bb14174e328320de157434592e",
    "idx": 5,
    "time": "2021-01-30T20:07:05.552Z",
    "type": "execution"
   },
   {
    "code": "liberal = anes.loc[:, \"post_liberal_rating\"]\nliberal = liberal.where(liberal < 150)",
    "id": "e6114bb3e6df4435bec8a17b4b99791f",
    "idx": 9,
    "time": "2021-01-30T20:07:05.557Z",
    "type": "execution"
   },
   {
    "code": "liberal.hist()",
    "id": "ecb3661eb249406a88006756419d1190",
    "idx": 11,
    "time": "2021-01-30T20:07:05.560Z",
    "type": "execution"
   },
   {
    "code": "def empirical_hist_anes(series, n):\n    series.sample(n).hist()",
    "id": "8b88a3c87ad84d758a429a60db58df57",
    "idx": 17,
    "time": "2021-01-30T20:07:05.563Z",
    "type": "execution"
   },
   {
    "code": "liberal.size",
    "id": "2d399222a0ba4faa8dd0ca6e9b50211a",
    "idx": 19,
    "time": "2021-01-30T20:07:05.566Z",
    "type": "execution"
   },
   {
    "code": "empirical_hist_anes(liberal, 10)",
    "id": "97a7fd715001415398cef4496226aa40",
    "idx": 20,
    "time": "2021-01-30T20:07:05.568Z",
    "type": "execution"
   },
   {
    "code": "empirical_hist_anes(liberal, 100)",
    "id": "0521aceef4df40e68eeb2153b2a308b6",
    "idx": 21,
    "time": "2021-01-30T20:07:05.570Z",
    "type": "execution"
   },
   {
    "code": "empirical_hist_anes(liberal, 1000)",
    "id": "1f1865a72a414bc6980273ce872895c7",
    "idx": 22,
    "time": "2021-01-30T20:07:05.571Z",
    "type": "execution"
   },
   {
    "code": "empirical_hist_anes(liberal, liberal.size)",
    "id": "afb64dfff5e342368e6cf97d40516d74",
    "idx": 23,
    "time": "2021-01-30T20:07:05.573Z",
    "type": "execution"
   },
   {
    "code": "# Create the table\njury = pd.DataFrame(data = {'Ethnicity': ['Asian', 'Black', 'Latino', 'White', 'Other'],\n                           'Eligible': [0.15, 0.18, 0.12, 0.54, 0.01],\n                           'Panels': [0.26, 0.08, 0.08, 0.54, 0.04]}\n)\n\njury",
    "id": "7296f49368c44fd8a32578bfe1d79962",
    "idx": 31,
    "time": "2021-01-30T20:07:05.579Z",
    "type": "execution"
   },
   {
    "code": "# Horizontal Bar Chart\njury.plot.barh('Ethnicity')",
    "id": "d8a60efc76fa4a058ffc10746d25da5c",
    "idx": 32,
    "time": "2021-01-30T20:07:05.581Z",
    "type": "execution"
   },
   {
    "code": "# Augment with the difference between the \"panels\" columns and \"eligible\" column\njury_with_diffs = jury.assign(Difference = jury.loc[:, 'Panels'] - jury.loc[:, 'Eligible'])\njury_with_diffs",
    "id": "b9f27dd4111646298f78bde984b4333a",
    "idx": 33,
    "time": "2021-01-30T20:07:05.582Z",
    "type": "execution"
   },
   {
    "code": "def sample_proportions(probabilities, samples):\n    # You may have used datascience.sample_proportions; this is how it works.\n    # Read more here https://docs.scipy.org/doc/numpy-1.15.0/reference/generated/numpy.random.multinomial.html\n    return np.random.multinomial(samples, probabilities) / samples\n\ndef sample_jury_panel(panel_size=100):\n    \"\"\"\n    Generate one sample panel of potential jurors by race,\n    drawn uniformly from the eligble pool\n    \"\"\"\n    return sample_proportions(jury['Eligible'], panel_size)\n\nsimulated_fair_panels = pd.DataFrame([ sample_jury_panel() for _ in range(1000) ], columns=jury['Ethnicity'])\n\nsimulated_fair_panels.head(2)",
    "id": "f1d156d3dd184c5ba35311d1bda654b3",
    "idx": 35,
    "time": "2021-01-30T20:07:05.585Z",
    "type": "execution"
   },
   {
    "code": "simulated_fair_panels.boxplot()",
    "id": "fbffdc77c96d4ac58291ac3b6d0f9d29",
    "idx": 37,
    "time": "2021-01-30T20:07:05.587Z",
    "type": "execution"
   },
   {
    "code": "unfair_panels = pd.DataFrame([ sample_proportions(jury['Panels'], 100) for _ in range(1000) ], columns=jury['Ethnicity'])\n\nstats.ttest_ind(simulated_fair_panels, unfair_panels, equal_var=False)",
    "id": "e65355ec27e64d448d23c255fcfa8c91",
    "idx": 39,
    "time": "2021-01-30T20:07:05.589Z",
    "type": "execution"
   },
   {
    "code": "# try a chi square test for seeing whether we can reject the null that the draw came from the known population\nnewjury = 100*jury\nstats.chisquare(newjury['Panels'], f_exp=newjury['Eligible'], ddof=0, axis=0)\n#note that the chisquare test assumes values larger than 5, and since these are percentages we can express them\n# as jurors out of 100 people drawn",
    "id": "ed09b5834cdd4885858f70a8c61dd82a",
    "idx": 40,
    "time": "2021-01-30T20:07:05.592Z",
    "type": "execution"
   },
   {
    "code": "print(\n    \"Portion of uniformly selected panels with under 9% black jurors: \",\n    simulated_fair_panels[simulated_fair_panels['Black'] < 0.09].count()['Black'] / simulated_fair_panels['Black'].count()\n)\n\nsimulated_fair_panels['Black'].hist(bins=[ n / 100 for n in range(0, 40, 5) ])",
    "id": "d99d5014526b4b3f8f32ca7ca74c8986",
    "idx": 42,
    "time": "2021-01-30T20:07:05.594Z",
    "type": "execution"
   },
   {
    "code": "liberal_v_conservative = anes.loc[:, [\"post_liberal_rating\", \"post_conservative_rating\"]]\nliberal_v_conservative = liberal_v_conservative.where(liberal_v_conservative[\"post_liberal_rating\"] < 150)\nliberal_v_conservative = liberal_v_conservative.where(liberal_v_conservative[\"post_conservative_rating\"] < 150)\n\nliberal_v_conservative.head()",
    "id": "4e63244c2de1413eaa98b158069ed814",
    "idx": 45,
    "time": "2021-01-30T20:07:05.596Z",
    "type": "execution"
   },
   {
    "code": "liberal_v_conservative.hist(sharex=True, sharey=True)",
    "id": "ef5e94a8390b4cdc85d4dbbff6c536e4",
    "idx": 48,
    "time": "2021-01-30T20:07:05.599Z",
    "type": "execution"
   },
   {
    "code": "liberal_v_conservative.dropna(inplace=True)",
    "id": "f07b25100103466aaffe8afcedab2a8e",
    "idx": 51,
    "time": "2021-01-30T20:07:05.602Z",
    "type": "execution"
   },
   {
    "code": "stats.ttest_ind(liberal_v_conservative['post_liberal_rating'], liberal_v_conservative['post_conservative_rating'], equal_var = False)",
    "id": "7402ecb33d314d6dbb6373ddaadfc39b",
    "idx": 52,
    "time": "2021-01-30T20:07:05.603Z",
    "type": "execution"
   },
   {
    "code": "# what does the pre_party_id variable look like? this is the 7-pt scale summary measure (V161158x in codebook)\nanes[\"pre_party_id\"].hist()",
    "id": "4cd2bc1c014f459e95ab26051cf37b10",
    "idx": 55,
    "time": "2021-01-30T20:07:05.605Z",
    "type": "execution"
   },
   {
    "code": "# we need to recode the pre_party_id variable so that it is just Democrat, Republican, Independent\ndef change_values(column, new_values):\n    anes[column] = anes[column].map(new_values, na_action=\"ignore\")\n    \nparties = {\n    1.0: \"dem\",\n    2.0: \"dem\",\n    3.0: \"dem\",\n    4.0: \"ind\",\n    5.0: \"rep\",\n    6.0: 'rep',\n    7.0: 'rep'\n}\nchange_values(\"pre_party_id\", parties)\nanes['pre_party_id'].hist()",
    "id": "9ff7ae1d28e84f2ca8b124b27d3f0f37",
    "idx": 56,
    "time": "2021-01-30T20:07:05.607Z",
    "type": "execution"
   },
   {
    "code": "# add the pre_party_id variable to the liberal_v_conservative dataframe\nliberal_v_conservative['pre_party_id'] = anes['pre_party_id']\nliberal_v_conservative.dropna()\nliberal_v_conservative.head()",
    "id": "5fa578b2b5e741d9a5ea6f9559f6a019",
    "idx": 57,
    "time": "2021-01-30T20:07:05.609Z",
    "type": "execution"
   },
   {
    "id": "553a7fdea99741fe81e172c168149414",
    "time": "2021-01-30T20:07:06.560Z",
    "type": "completion"
   },
   {
    "id": "50c869bb14174e328320de157434592e",
    "time": "2021-01-30T20:07:06.670Z",
    "type": "completion"
   },
   {
    "id": "e6114bb3e6df4435bec8a17b4b99791f",
    "time": "2021-01-30T20:07:06.709Z",
    "type": "completion"
   },
   {
    "id": "ecb3661eb249406a88006756419d1190",
    "time": "2021-01-30T20:07:06.820Z",
    "type": "completion"
   },
   {
    "id": "8b88a3c87ad84d758a429a60db58df57",
    "time": "2021-01-30T20:07:06.822Z",
    "type": "completion"
   },
   {
    "id": "2d399222a0ba4faa8dd0ca6e9b50211a",
    "time": "2021-01-30T20:07:06.843Z",
    "type": "completion"
   },
   {
    "id": "97a7fd715001415398cef4496226aa40",
    "time": "2021-01-30T20:07:06.959Z",
    "type": "completion"
   },
   {
    "id": "0521aceef4df40e68eeb2153b2a308b6",
    "time": "2021-01-30T20:07:07.116Z",
    "type": "completion"
   },
   {
    "id": "1f1865a72a414bc6980273ce872895c7",
    "time": "2021-01-30T20:07:07.256Z",
    "type": "completion"
   },
   {
    "id": "afb64dfff5e342368e6cf97d40516d74",
    "time": "2021-01-30T20:07:07.388Z",
    "type": "completion"
   },
   {
    "id": "7296f49368c44fd8a32578bfe1d79962",
    "time": "2021-01-30T20:07:07.398Z",
    "type": "completion"
   },
   {
    "id": "d8a60efc76fa4a058ffc10746d25da5c",
    "time": "2021-01-30T20:07:07.558Z",
    "type": "completion"
   },
   {
    "id": "b9f27dd4111646298f78bde984b4333a",
    "time": "2021-01-30T20:07:07.576Z",
    "type": "completion"
   },
   {
    "id": "f1d156d3dd184c5ba35311d1bda654b3",
    "time": "2021-01-30T20:07:07.648Z",
    "type": "completion"
   },
   {
    "id": "fbffdc77c96d4ac58291ac3b6d0f9d29",
    "time": "2021-01-30T20:07:07.810Z",
    "type": "completion"
   },
   {
    "id": "e65355ec27e64d448d23c255fcfa8c91",
    "time": "2021-01-30T20:07:07.860Z",
    "type": "completion"
   },
   {
    "id": "ed09b5834cdd4885858f70a8c61dd82a",
    "time": "2021-01-30T20:07:07.866Z",
    "type": "completion"
   },
   {
    "id": "d99d5014526b4b3f8f32ca7ca74c8986",
    "time": "2021-01-30T20:07:08.014Z",
    "type": "completion"
   },
   {
    "id": "4e63244c2de1413eaa98b158069ed814",
    "time": "2021-01-30T20:07:08.033Z",
    "type": "completion"
   },
   {
    "id": "ef5e94a8390b4cdc85d4dbbff6c536e4",
    "time": "2021-01-30T20:07:08.257Z",
    "type": "completion"
   },
   {
    "id": "f07b25100103466aaffe8afcedab2a8e",
    "time": "2021-01-30T20:07:08.258Z",
    "type": "completion"
   },
   {
    "id": "7402ecb33d314d6dbb6373ddaadfc39b",
    "time": "2021-01-30T20:07:08.290Z",
    "type": "completion"
   },
   {
    "id": "4cd2bc1c014f459e95ab26051cf37b10",
    "time": "2021-01-30T20:07:08.398Z",
    "type": "completion"
   },
   {
    "id": "9ff7ae1d28e84f2ca8b124b27d3f0f37",
    "time": "2021-01-30T20:07:08.588Z",
    "type": "completion"
   },
   {
    "id": "5fa578b2b5e741d9a5ea6f9559f6a019",
    "time": "2021-01-30T20:07:08.599Z",
    "type": "completion"
   },
   {
    "code": "# now we can do a boxplot to see what the mean liberal feeling thermom. \n# and conservative feeling thermometer scores look like\n# liberal_v_conservative\nliberal_v_conservative.boxplot(column='post_liberal_rating', by='pre_party_id')",
    "id": "5b3c41a2584c421abf48f67edcbd6212",
    "idx": 58,
    "time": "2021-01-30T20:07:36.249Z",
    "type": "execution"
   },
   {
    "id": "5b3c41a2584c421abf48f67edcbd6212",
    "time": "2021-01-30T20:07:36.533Z",
    "type": "completion"
   },
   {
    "code": "# now we can do a boxplot to see what the mean liberal feeling thermom. \n# and conservative feeling thermometer scores look like\n# liberal_v_conservative\nliberal_v_conservative.boxplot(column='post_liberal_rating', by='pre_party_id', figsize=(9,6))",
    "id": "5b3c41a2584c421abf48f67edcbd6212",
    "idx": 58,
    "time": "2021-01-30T20:08:30.999Z",
    "type": "execution"
   },
   {
    "id": "5b3c41a2584c421abf48f67edcbd6212",
    "time": "2021-01-30T20:08:31.307Z",
    "type": "completion"
   },
   {
    "code": "# now we can do a two sample t-test to see whether we can reject the idea at a 95% confidence level that dem and rep \n# partisan identifiers represent the same underlying population\ndems_on_liberal = liberal_v_conservative['post_liberal_rating'].where(liberal_v_conservative['pre_party_id']=='dem')\n\n#stats.ttest_ind(liberal_v_conservative['post_liberal_rating'], liberal_v_conservative['post_conservative_rating'], equal_var = False)",
    "id": "0c839a102a424e6fba6ef194732bb45f",
    "idx": 59,
    "time": "2021-01-30T22:20:49.238Z",
    "type": "execution"
   },
   {
    "id": "0c839a102a424e6fba6ef194732bb45f",
    "time": "2021-01-30T22:20:49.367Z",
    "type": "completion"
   },
   {
    "code": "from collections import Counter\nimport numpy as np\nimport pandas as pd\nfrom scipy import stats\n%matplotlib inline\nimport matplotlib.pyplot as plot\nplot.style.use('fivethirtyeight')",
    "id": "bd2675fbd7e84a2eb258138a92cf1986",
    "idx": 2,
    "time": "2021-01-30T22:20:54.572Z",
    "type": "execution"
   },
   {
    "code": "anes = pd.read_csv('../data/anes/ANES_legalst123_cleaned.csv')\nanes.head()",
    "id": "9679ac5bc3b7414faf7d49b807f3323a",
    "idx": 5,
    "time": "2021-01-30T22:20:54.577Z",
    "type": "execution"
   },
   {
    "code": "liberal = anes.loc[:, \"post_liberal_rating\"]\nliberal = liberal.where(liberal < 150)",
    "id": "74b008ef18b3460b99288a0e1b74548e",
    "idx": 9,
    "time": "2021-01-30T22:20:54.581Z",
    "type": "execution"
   },
   {
    "code": "liberal.hist()",
    "id": "8a5e2cf3a2d948368dd0cdcc16f34aae",
    "idx": 11,
    "time": "2021-01-30T22:20:54.584Z",
    "type": "execution"
   },
   {
    "code": "def empirical_hist_anes(series, n):\n    series.sample(n).hist()",
    "id": "933fceb9d72f4594814c6bbaf85cca8d",
    "idx": 17,
    "time": "2021-01-30T22:20:54.588Z",
    "type": "execution"
   },
   {
    "code": "liberal.size",
    "id": "2523c66cfc7c48068c678bcb1e7bdbb4",
    "idx": 19,
    "time": "2021-01-30T22:20:54.590Z",
    "type": "execution"
   },
   {
    "code": "empirical_hist_anes(liberal, 10)",
    "id": "6b2f76902b464b1f82c9d3abd8a91e0e",
    "idx": 20,
    "time": "2021-01-30T22:20:54.592Z",
    "type": "execution"
   },
   {
    "code": "empirical_hist_anes(liberal, 100)",
    "id": "0df39485b2f54ec5b30c4a8c986068c5",
    "idx": 21,
    "time": "2021-01-30T22:20:54.593Z",
    "type": "execution"
   },
   {
    "code": "empirical_hist_anes(liberal, 1000)",
    "id": "12970a18c83d4fe08149587c35ae5585",
    "idx": 22,
    "time": "2021-01-30T22:20:54.596Z",
    "type": "execution"
   },
   {
    "code": "empirical_hist_anes(liberal, liberal.size)",
    "id": "43e16e27e6fe46bb98b134a6bd2be972",
    "idx": 23,
    "time": "2021-01-30T22:20:54.598Z",
    "type": "execution"
   },
   {
    "code": "# Create the table\njury = pd.DataFrame(data = {'Ethnicity': ['Asian', 'Black', 'Latino', 'White', 'Other'],\n                           'Eligible': [0.15, 0.18, 0.12, 0.54, 0.01],\n                           'Panels': [0.26, 0.08, 0.08, 0.54, 0.04]}\n)\n\njury",
    "id": "7b2df9f6d1f7478f87f77d6cc30206b1",
    "idx": 31,
    "time": "2021-01-30T22:20:54.603Z",
    "type": "execution"
   },
   {
    "code": "# Horizontal Bar Chart\njury.plot.barh('Ethnicity')",
    "id": "dec102bfec0542cb8c68dc683f405502",
    "idx": 32,
    "time": "2021-01-30T22:20:54.605Z",
    "type": "execution"
   },
   {
    "code": "# Augment with the difference between the \"panels\" columns and \"eligible\" column\njury_with_diffs = jury.assign(Difference = jury.loc[:, 'Panels'] - jury.loc[:, 'Eligible'])\njury_with_diffs",
    "id": "74c1975e8acc4b08809cccc9a66da479",
    "idx": 33,
    "time": "2021-01-30T22:20:54.606Z",
    "type": "execution"
   },
   {
    "code": "def sample_proportions(probabilities, samples):\n    # You may have used datascience.sample_proportions; this is how it works.\n    # Read more here https://docs.scipy.org/doc/numpy-1.15.0/reference/generated/numpy.random.multinomial.html\n    return np.random.multinomial(samples, probabilities) / samples\n\ndef sample_jury_panel(panel_size=100):\n    \"\"\"\n    Generate one sample panel of potential jurors by race,\n    drawn uniformly from the eligble pool\n    \"\"\"\n    return sample_proportions(jury['Eligible'], panel_size)\n\nsimulated_fair_panels = pd.DataFrame([ sample_jury_panel() for _ in range(1000) ], columns=jury['Ethnicity'])\n\nsimulated_fair_panels.head(2)",
    "id": "952539dcc07645e58b610d147a1d32cb",
    "idx": 35,
    "time": "2021-01-30T22:20:54.609Z",
    "type": "execution"
   },
   {
    "code": "simulated_fair_panels.boxplot()",
    "id": "94084767f21e4c0987a09683dd1167fc",
    "idx": 37,
    "time": "2021-01-30T22:20:54.611Z",
    "type": "execution"
   },
   {
    "code": "unfair_panels = pd.DataFrame([ sample_proportions(jury['Panels'], 100) for _ in range(1000) ], columns=jury['Ethnicity'])\n\nstats.ttest_ind(simulated_fair_panels, unfair_panels, equal_var=False)",
    "id": "431b8fee7f7141228d313a38519678f9",
    "idx": 39,
    "time": "2021-01-30T22:20:54.612Z",
    "type": "execution"
   },
   {
    "code": "# try a chi square test for seeing whether we can reject the null that the draw came from the known population\nnewjury = 100*jury\nstats.chisquare(newjury['Panels'], f_exp=newjury['Eligible'], ddof=0, axis=0)\n#note that the chisquare test assumes values larger than 5, and since these are percentages we can express them\n# as jurors out of 100 people drawn",
    "id": "fa90666e73184286853f8a3e2439064b",
    "idx": 40,
    "time": "2021-01-30T22:20:54.615Z",
    "type": "execution"
   },
   {
    "code": "print(\n    \"Portion of uniformly selected panels with under 9% black jurors: \",\n    simulated_fair_panels[simulated_fair_panels['Black'] < 0.09].count()['Black'] / simulated_fair_panels['Black'].count()\n)\n\nsimulated_fair_panels['Black'].hist(bins=[ n / 100 for n in range(0, 40, 5) ])",
    "id": "6a0236fab10141de8d771bac117da105",
    "idx": 42,
    "time": "2021-01-30T22:20:54.616Z",
    "type": "execution"
   },
   {
    "code": "liberal_v_conservative = anes.loc[:, [\"post_liberal_rating\", \"post_conservative_rating\"]]\nliberal_v_conservative = liberal_v_conservative.where(liberal_v_conservative[\"post_liberal_rating\"] < 150)\nliberal_v_conservative = liberal_v_conservative.where(liberal_v_conservative[\"post_conservative_rating\"] < 150)\n\nliberal_v_conservative.head()",
    "id": "eef9598ecfc3471e97c7dd1c17ffd6b3",
    "idx": 45,
    "time": "2021-01-30T22:20:54.618Z",
    "type": "execution"
   },
   {
    "code": "liberal_v_conservative.hist(sharex=True, sharey=True)",
    "id": "cf63bf9eef6541498abbe66f21cc659f",
    "idx": 48,
    "time": "2021-01-30T22:20:54.621Z",
    "type": "execution"
   },
   {
    "code": "liberal_v_conservative.dropna(inplace=True)",
    "id": "6b476611d7ed46b1b00f126976caeb04",
    "idx": 51,
    "time": "2021-01-30T22:20:54.623Z",
    "type": "execution"
   },
   {
    "code": "stats.ttest_ind(liberal_v_conservative['post_liberal_rating'], liberal_v_conservative['post_conservative_rating'], equal_var = False)",
    "id": "65deaeb1ec6547ae8cb6e68adb6d12cd",
    "idx": 52,
    "time": "2021-01-30T22:20:54.625Z",
    "type": "execution"
   },
   {
    "code": "# what does the pre_party_id variable look like? this is the 7-pt scale summary measure (V161158x in codebook)\nanes[\"pre_party_id\"].hist()",
    "id": "2c22966567d244588b5f023c247fbdcd",
    "idx": 55,
    "time": "2021-01-30T22:20:54.628Z",
    "type": "execution"
   },
   {
    "code": "# we need to recode the pre_party_id variable so that it is just Democrat, Republican, Independent\ndef change_values(column, new_values):\n    anes[column] = anes[column].map(new_values, na_action=\"ignore\")\n    \nparties = {\n    1.0: \"dem\",\n    2.0: \"dem\",\n    3.0: \"dem\",\n    4.0: \"ind\",\n    5.0: \"rep\",\n    6.0: 'rep',\n    7.0: 'rep'\n}\nchange_values(\"pre_party_id\", parties)\nanes['pre_party_id'].hist()",
    "id": "1f5e5788c392461e8826d1ebe7f5cb98",
    "idx": 56,
    "time": "2021-01-30T22:20:54.629Z",
    "type": "execution"
   },
   {
    "code": "# add the pre_party_id variable to the liberal_v_conservative dataframe\nliberal_v_conservative['pre_party_id'] = anes['pre_party_id']\nliberal_v_conservative.dropna()\nliberal_v_conservative.head()",
    "id": "4c43d96433624df98e6a9b47c7f85c3e",
    "idx": 57,
    "time": "2021-01-30T22:20:54.632Z",
    "type": "execution"
   },
   {
    "code": "# now we can do a boxplot to see what the mean liberal feeling thermom. \n# and conservative feeling thermometer scores look like\n# liberal_v_conservative\nliberal_v_conservative.boxplot(column='post_liberal_rating', by='pre_party_id', figsize=(9,6))",
    "id": "6d428d06d82446b687f7d18f6d74e3ff",
    "idx": 58,
    "time": "2021-01-30T22:20:54.633Z",
    "type": "execution"
   },
   {
    "id": "bd2675fbd7e84a2eb258138a92cf1986",
    "time": "2021-01-30T22:20:55.469Z",
    "type": "completion"
   },
   {
    "id": "9679ac5bc3b7414faf7d49b807f3323a",
    "time": "2021-01-30T22:20:55.633Z",
    "type": "completion"
   },
   {
    "id": "74b008ef18b3460b99288a0e1b74548e",
    "time": "2021-01-30T22:20:55.674Z",
    "type": "completion"
   },
   {
    "id": "8a5e2cf3a2d948368dd0cdcc16f34aae",
    "time": "2021-01-30T22:20:55.778Z",
    "type": "completion"
   },
   {
    "id": "933fceb9d72f4594814c6bbaf85cca8d",
    "time": "2021-01-30T22:20:55.830Z",
    "type": "completion"
   },
   {
    "id": "2523c66cfc7c48068c678bcb1e7bdbb4",
    "time": "2021-01-30T22:20:55.832Z",
    "type": "completion"
   },
   {
    "id": "6b2f76902b464b1f82c9d3abd8a91e0e",
    "time": "2021-01-30T22:20:55.908Z",
    "type": "completion"
   },
   {
    "id": "0df39485b2f54ec5b30c4a8c986068c5",
    "time": "2021-01-30T22:20:56.037Z",
    "type": "completion"
   },
   {
    "id": "12970a18c83d4fe08149587c35ae5585",
    "time": "2021-01-30T22:20:56.184Z",
    "type": "completion"
   },
   {
    "id": "43e16e27e6fe46bb98b134a6bd2be972",
    "time": "2021-01-30T22:20:56.319Z",
    "type": "completion"
   },
   {
    "id": "7b2df9f6d1f7478f87f77d6cc30206b1",
    "time": "2021-01-30T22:20:56.368Z",
    "type": "completion"
   },
   {
    "id": "dec102bfec0542cb8c68dc683f405502",
    "time": "2021-01-30T22:20:56.545Z",
    "type": "completion"
   },
   {
    "id": "74c1975e8acc4b08809cccc9a66da479",
    "time": "2021-01-30T22:20:56.547Z",
    "type": "completion"
   },
   {
    "id": "952539dcc07645e58b610d147a1d32cb",
    "time": "2021-01-30T22:20:56.566Z",
    "type": "completion"
   },
   {
    "id": "94084767f21e4c0987a09683dd1167fc",
    "time": "2021-01-30T22:20:56.781Z",
    "type": "completion"
   },
   {
    "id": "431b8fee7f7141228d313a38519678f9",
    "time": "2021-01-30T22:20:56.783Z",
    "type": "completion"
   },
   {
    "id": "fa90666e73184286853f8a3e2439064b",
    "time": "2021-01-30T22:20:56.792Z",
    "type": "completion"
   },
   {
    "id": "6a0236fab10141de8d771bac117da105",
    "time": "2021-01-30T22:20:56.931Z",
    "type": "completion"
   },
   {
    "id": "eef9598ecfc3471e97c7dd1c17ffd6b3",
    "time": "2021-01-30T22:20:56.979Z",
    "type": "completion"
   },
   {
    "id": "cf63bf9eef6541498abbe66f21cc659f",
    "time": "2021-01-30T22:20:57.163Z",
    "type": "completion"
   },
   {
    "id": "6b476611d7ed46b1b00f126976caeb04",
    "time": "2021-01-30T22:20:57.213Z",
    "type": "completion"
   },
   {
    "id": "65deaeb1ec6547ae8cb6e68adb6d12cd",
    "time": "2021-01-30T22:20:57.215Z",
    "type": "completion"
   },
   {
    "id": "2c22966567d244588b5f023c247fbdcd",
    "time": "2021-01-30T22:20:57.308Z",
    "type": "completion"
   },
   {
    "id": "1f5e5788c392461e8826d1ebe7f5cb98",
    "time": "2021-01-30T22:20:57.480Z",
    "type": "completion"
   },
   {
    "id": "4c43d96433624df98e6a9b47c7f85c3e",
    "time": "2021-01-30T22:20:57.500Z",
    "type": "completion"
   },
   {
    "id": "6d428d06d82446b687f7d18f6d74e3ff",
    "time": "2021-01-30T22:20:57.718Z",
    "type": "completion"
   },
   {
    "code": "# now we can do a two sample t-test to see whether we can reject the idea at a 95% confidence level that dem and rep \n# partisan identifiers represent the same underlying population\ndems_on_liberal = liberal_v_conservative['post_liberal_rating'].where(liberal_v_conservative['pre_party_id']=='dem')\n\n#stats.ttest_ind(liberal_v_conservative['post_liberal_rating'], liberal_v_conservative['post_conservative_rating'], equal_var = False)",
    "id": "0c839a102a424e6fba6ef194732bb45f",
    "idx": 59,
    "time": "2021-01-30T22:21:22.501Z",
    "type": "execution"
   },
   {
    "id": "0c839a102a424e6fba6ef194732bb45f",
    "time": "2021-01-30T22:21:22.571Z",
    "type": "completion"
   },
   {
    "code": "# now we can do a two sample t-test to see whether we can reject the idea at a 95% confidence level that dem and rep \n# partisan identifiers represent the same underlying population\n\n# first, for clarity, get the series of feeling thermometer ratings on liberals for dems and reps\ndems_on_liberal = liberal_v_conservative['post_liberal_rating'].where(liberal_v_conservative['pre_party_id']=='dem')\nreps_on_liberal = liberal_v_conservative['post_liberal_rating'].where(liberal_v_conservative['pre_party_id']=='rep')\nprint(\"mean Democrat feeling thermometer toward liberals\", dems_on_liberal.mean())\nprint(\"mean Republican feeling thermometer toward liberals\", reps_on_liberal.mean())\n\n#stats.ttest_ind(liberal_v_conservative['post_liberal_rating'], liberal_v_conservative['post_conservative_rating'], equal_var = False)",
    "id": "0c839a102a424e6fba6ef194732bb45f",
    "idx": 59,
    "time": "2021-01-30T22:25:29.282Z",
    "type": "execution"
   },
   {
    "id": "0c839a102a424e6fba6ef194732bb45f",
    "time": "2021-01-30T22:25:29.364Z",
    "type": "completion"
   },
   {
    "code": "# now we can do a two sample t-test to see whether we can reject the idea at a 95% confidence level that dem and rep \n# partisan identifiers represent the same underlying population\n\n# first, for clarity, get the series of feeling thermometer ratings on liberals for dems and reps, even though\n# this just makes it easier on the eyes--Pythonic way is not to create new variables\ndems_on_liberal = liberal_v_conservative['post_liberal_rating'].where(liberal_v_conservative['pre_party_id']=='dem')\nreps_on_liberal = liberal_v_conservative['post_liberal_rating'].where(liberal_v_conservative['pre_party_id']=='rep')\nprint(\"mean Democrat feeling thermometer toward liberals\", dems_on_liberal.mean())\nprint(\"mean Republican feeling thermometer toward liberals\", reps_on_liberal.mean())\n\nstats.ttest_ind(dems_on_liberal, reps_on_liberal, equal_var = True)",
    "id": "0c839a102a424e6fba6ef194732bb45f",
    "idx": 59,
    "time": "2021-01-30T22:28:39.630Z",
    "type": "execution"
   },
   {
    "id": "0c839a102a424e6fba6ef194732bb45f",
    "time": "2021-01-30T22:28:39.716Z",
    "type": "completion"
   },
   {
    "code": "# now we can do a two sample t-test to see whether we can reject the idea at a 95% confidence level that dem and rep \n# partisan identifiers represent the same underlying population\n\n# first, for clarity, get the series of feeling thermometer ratings on liberals for dems and reps, even though\n# this just makes it easier on the eyes--Pythonic way is not to create new variables\ndems_on_liberal = liberal_v_conservative['post_liberal_rating'].where(liberal_v_conservative['pre_party_id']=='dem')\nreps_on_liberal = liberal_v_conservative['post_liberal_rating'].where(liberal_v_conservative['pre_party_id']=='rep')\nprint(\"mean Democrat feeling thermometer toward liberals\", dems_on_liberal.mean())\nprint(\"mean Republican feeling thermometer toward liberals\", reps_on_liberal.mean())\n\nstats.ttest_ind(dems_on_liberal, reps_on_liberal, equal_var = False)",
    "id": "0c839a102a424e6fba6ef194732bb45f",
    "idx": 59,
    "time": "2021-01-30T22:28:55.183Z",
    "type": "execution"
   },
   {
    "id": "0c839a102a424e6fba6ef194732bb45f",
    "time": "2021-01-30T22:28:55.265Z",
    "type": "completion"
   },
   {
    "code": "# now we can do a two sample t-test to see whether we can reject the idea at a 95% confidence level that dem and rep \n# partisan identifiers represent the same underlying population\n\n# first, for clarity, get the series of feeling thermometer ratings on liberals for dems and reps, even though\n# this just makes it easier on the eyes--Pythonic way is not to create new variables\ndems_on_liberal = liberal_v_conservative['post_liberal_rating'].where(liberal_v_conservative['pre_party_id']=='dem')\nreps_on_liberal = liberal_v_conservative['post_liberal_rating'].where(liberal_v_conservative['pre_party_id']=='rep')\nprint(\"mean Democrat feeling thermometer toward liberals\", dems_on_liberal.mean())\nprint(\"mean Republican feeling thermometer toward liberals\", reps_on_liberal.mean())\nprint(\"type variable dems_on_liberal\", type(dems_on_liberal))\n#stats.ttest_ind(dems_on_liberal, reps_on_liberal, equal_var = False)",
    "id": "0c839a102a424e6fba6ef194732bb45f",
    "idx": 59,
    "time": "2021-01-30T22:30:52.262Z",
    "type": "execution"
   },
   {
    "id": "0c839a102a424e6fba6ef194732bb45f",
    "time": "2021-01-30T22:30:52.345Z",
    "type": "completion"
   },
   {
    "code": "# now we can do a two sample t-test to see whether we can reject the idea at a 95% confidence level that dem and rep \n# partisan identifiers represent the same underlying population\n\n# first, for clarity, get the series of feeling thermometer ratings on liberals for dems and reps, even though\n# this just makes it easier on the eyes--Pythonic way is not to create new variables\ndems_on_liberal = liberal_v_conservative['post_liberal_rating'].where(liberal_v_conservative['pre_party_id']=='dem')\nreps_on_liberal = liberal_v_conservative['post_liberal_rating'].where(liberal_v_conservative['pre_party_id']=='rep')\nprint(\"mean Democrat feeling thermometer toward liberals\", dems_on_liberal.mean())\nprint(\"mean Republican feeling thermometer toward liberals\", reps_on_liberal.mean())\nprint(\"type variable dems_on_liberal\", type(dems_on_liberal))\nprint(\"shape of dems_on_liberal \", shape(dems_on_liberal))\nprint(\"shape of reps_on_liberal \", shape(reps_on_liberal))\n\n#stats.ttest_ind(dems_on_liberal, reps_on_liberal, equal_var = False)",
    "id": "0c839a102a424e6fba6ef194732bb45f",
    "idx": 59,
    "time": "2021-01-30T22:33:36.714Z",
    "type": "execution"
   },
   {
    "id": "0c839a102a424e6fba6ef194732bb45f",
    "time": "2021-01-30T22:33:36.868Z",
    "type": "completion"
   },
   {
    "code": "# now we can do a two sample t-test to see whether we can reject the idea at a 95% confidence level that dem and rep \n# partisan identifiers represent the same underlying population\n\n# first, for clarity, get the series of feeling thermometer ratings on liberals for dems and reps, even though\n# this just makes it easier on the eyes--Pythonic way is not to create new variables\ndems_on_liberal = liberal_v_conservative['post_liberal_rating'].where(liberal_v_conservative['pre_party_id']=='dem')\nreps_on_liberal = liberal_v_conservative['post_liberal_rating'].where(liberal_v_conservative['pre_party_id']=='rep')\nprint(\"mean Democrat feeling thermometer toward liberals\", dems_on_liberal.mean())\nprint(\"mean Republican feeling thermometer toward liberals\", reps_on_liberal.mean())\nprint(\"type variable dems_on_liberal\", type(dems_on_liberal))\nprint(\"shape of dems_on_liberal \", size(dems_on_liberal))\nprint(\"shape of reps_on_liberal \", size(reps_on_liberal))\n\n#stats.ttest_ind(dems_on_liberal, reps_on_liberal, equal_var = False)",
    "id": "0c839a102a424e6fba6ef194732bb45f",
    "idx": 59,
    "time": "2021-01-30T22:34:04.047Z",
    "type": "execution"
   },
   {
    "id": "0c839a102a424e6fba6ef194732bb45f",
    "time": "2021-01-30T22:34:04.136Z",
    "type": "completion"
   },
   {
    "code": "# now we can do a two sample t-test to see whether we can reject the idea at a 95% confidence level that dem and rep \n# partisan identifiers represent the same underlying population\n\n# first, for clarity, get the series of feeling thermometer ratings on liberals for dems and reps, even though\n# this just makes it easier on the eyes--Pythonic way is not to create new variables\ndems_on_liberal = liberal_v_conservative['post_liberal_rating'].where(liberal_v_conservative['pre_party_id']=='dem')\nreps_on_liberal = liberal_v_conservative['post_liberal_rating'].where(liberal_v_conservative['pre_party_id']=='rep')\nprint(\"mean Democrat feeling thermometer toward liberals\", dems_on_liberal.mean())\nprint(\"mean Republican feeling thermometer toward liberals\", reps_on_liberal.mean())\nprint(\"type variable dems_on_liberal\", type(dems_on_liberal))\nprint(\"shape of dems_on_liberal \", dems_on_liberal.shape())\nprint(\"shape of reps_on_liberal \", reps_on_liberal.shape())\n\n#stats.ttest_ind(dems_on_liberal, reps_on_liberal, equal_var = False)",
    "id": "0c839a102a424e6fba6ef194732bb45f",
    "idx": 59,
    "time": "2021-01-30T22:34:31.809Z",
    "type": "execution"
   },
   {
    "id": "0c839a102a424e6fba6ef194732bb45f",
    "time": "2021-01-30T22:34:31.907Z",
    "type": "completion"
   },
   {
    "code": "# now we can do a two sample t-test to see whether we can reject the idea at a 95% confidence level that dem and rep \n# partisan identifiers represent the same underlying population\n\n# first, for clarity, get the series of feeling thermometer ratings on liberals for dems and reps, even though\n# this just makes it easier on the eyes--Pythonic way is not to create new variables\ndems_on_liberal = liberal_v_conservative['post_liberal_rating'].where(liberal_v_conservative['pre_party_id']=='dem')\nreps_on_liberal = liberal_v_conservative['post_liberal_rating'].where(liberal_v_conservative['pre_party_id']=='rep')\nprint(\"mean Democrat feeling thermometer toward liberals\", dems_on_liberal.mean())\nprint(\"mean Republican feeling thermometer toward liberals\", reps_on_liberal.mean())\nprint(\"type variable dems_on_liberal\", type(dems_on_liberal))\nprint(\"length of dems_on_liberal \", len(dems_on_liberal))\nprint(\"length of reps_on_liberal \", len(reps_on_liberal))\n\n#stats.ttest_ind(dems_on_liberal, reps_on_liberal, equal_var = False)",
    "id": "0c839a102a424e6fba6ef194732bb45f",
    "idx": 59,
    "time": "2021-01-30T22:35:21.226Z",
    "type": "execution"
   },
   {
    "id": "0c839a102a424e6fba6ef194732bb45f",
    "time": "2021-01-30T22:35:21.314Z",
    "type": "completion"
   },
   {
    "code": "# now we can do a two sample t-test to see whether we can reject the idea at a 95% confidence level that dem and rep \n# partisan identifiers represent the same underlying population\n\n# first, for clarity, get the series of feeling thermometer ratings on liberals for dems and reps, even though\n# this just makes it easier on the eyes--Pythonic way is not to create new variables\ndems_on_liberal = liberal_v_conservative['post_liberal_rating'].where(liberal_v_conservative['pre_party_id']=='dem')\nreps_on_liberal = liberal_v_conservative['post_liberal_rating'].where(liberal_v_conservative['pre_party_id']=='rep')\nprint(\"mean Democrat feeling thermometer toward liberals\", dems_on_liberal.mean())\nprint(\"mean Republican feeling thermometer toward liberals\", reps_on_liberal.mean())\nprint(\"type variable dems_on_liberal\", type(dems_on_liberal))\nprint(\"length of dems_on_liberal \", len(dems_on_liberal))\nprint(\"length of reps_on_liberal \", len(reps_on_liberal))\n\nstats.ttest_ind(dems_on_liberal, reps_on_liberal, equal_var = False)",
    "id": "0c839a102a424e6fba6ef194732bb45f",
    "idx": 59,
    "time": "2021-01-30T22:38:32.818Z",
    "type": "execution"
   },
   {
    "id": "0c839a102a424e6fba6ef194732bb45f",
    "time": "2021-01-30T22:38:32.906Z",
    "type": "completion"
   },
   {
    "code": "# now we can do a two sample t-test to see whether we can reject the idea at a 95% confidence level that dem and rep \n# partisan identifiers represent the same underlying population\n\n# first, for clarity, get the series of feeling thermometer ratings on liberals for dems and reps, even though\n# this just makes it easier on the eyes--Pythonic way is not to create new variables\ndems_on_liberal = liberal_v_conservative['post_liberal_rating'].where(liberal_v_conservative['pre_party_id']=='dem')\nreps_on_liberal = liberal_v_conservative['post_liberal_rating'].where(liberal_v_conservative['pre_party_id']=='rep')\nprint(\"mean Democrat feeling thermometer toward liberals\", dems_on_liberal.mean())\nprint(\"mean Republican feeling thermometer toward liberals\", reps_on_liberal.mean())\nprint(\"type variable dems_on_liberal\", type(dems_on_liberal))\nprint(\"length of dems_on_liberal \", len(dems_on_liberal))\nprint(\"length of reps_on_liberal \", len(reps_on_liberal))\n\n#stats.ttest_ind(dems_on_liberal, reps_on_liberal, equal_var = False)\nstats.ttest_ind(liberal_v_conservative['post_liberal_rating'].where(liberal_v_conservative['pre_party_id']=='dem'), liberal_v_conservative['post_liberal_rating'].where(liberal_v_conservative['pre_party_id']=='rep'), equal_var = False)",
    "id": "0c839a102a424e6fba6ef194732bb45f",
    "idx": 59,
    "time": "2021-01-30T22:39:58.030Z",
    "type": "execution"
   },
   {
    "id": "0c839a102a424e6fba6ef194732bb45f",
    "time": "2021-01-30T22:39:58.114Z",
    "type": "completion"
   },
   {
    "code": "# add the pre_party_id variable to the liberal_v_conservative dataframe\nliberal_v_conservative['pre_party_id'] = anes['pre_party_id']\nliberal_v_conservative.dropna(inplace=True)\nliberal_v_conservative.head()",
    "id": "4c43d96433624df98e6a9b47c7f85c3e",
    "idx": 57,
    "time": "2021-01-30T22:41:45.408Z",
    "type": "execution"
   },
   {
    "id": "4c43d96433624df98e6a9b47c7f85c3e",
    "time": "2021-01-30T22:41:45.484Z",
    "type": "completion"
   },
   {
    "code": "# now we can do a boxplot to see what the mean liberal feeling thermom. \n# and conservative feeling thermometer scores look like\n# liberal_v_conservative\nliberal_v_conservative.boxplot(column='post_liberal_rating', by='pre_party_id', figsize=(9,6))",
    "id": "6d428d06d82446b687f7d18f6d74e3ff",
    "idx": 58,
    "time": "2021-01-30T22:41:48.683Z",
    "type": "execution"
   },
   {
    "id": "6d428d06d82446b687f7d18f6d74e3ff",
    "time": "2021-01-30T22:41:48.975Z",
    "type": "completion"
   },
   {
    "code": "# now we can do a two sample t-test to see whether we can reject the idea at a 95% confidence level that dem and rep \n# partisan identifiers represent the same underlying population\n\n# first, for clarity, get the series of feeling thermometer ratings on liberals for dems and reps, even though\n# this just makes it easier on the eyes--Pythonic way is not to create new variables\ndems_on_liberal = liberal_v_conservative['post_liberal_rating'].where(liberal_v_conservative['pre_party_id']=='dem')\nreps_on_liberal = liberal_v_conservative['post_liberal_rating'].where(liberal_v_conservative['pre_party_id']=='rep')\nprint(\"mean Democrat feeling thermometer toward liberals\", dems_on_liberal.mean())\nprint(\"mean Republican feeling thermometer toward liberals\", reps_on_liberal.mean())\nprint(\"type variable dems_on_liberal\", type(dems_on_liberal))\nprint(\"length of dems_on_liberal \", len(dems_on_liberal))\nprint(\"length of reps_on_liberal \", len(reps_on_liberal))\n\n#stats.ttest_ind(dems_on_liberal, reps_on_liberal, equal_var = False)\n",
    "id": "0c839a102a424e6fba6ef194732bb45f",
    "idx": 59,
    "time": "2021-01-30T22:41:55.574Z",
    "type": "execution"
   },
   {
    "id": "0c839a102a424e6fba6ef194732bb45f",
    "time": "2021-01-30T22:41:55.660Z",
    "type": "completion"
   },
   {
    "code": "# now we can do a two sample t-test to see whether we can reject the idea at a 95% confidence level that dem and rep \n# partisan identifiers represent the same underlying population\n\n# first, for clarity, get the series of feeling thermometer ratings on liberals for dems and reps, even though\n# this just makes it easier on the eyes--Pythonic way is not to create new variables\ndems_on_liberal = liberal_v_conservative['post_liberal_rating'].where(liberal_v_conservative['pre_party_id']=='dem')\nreps_on_liberal = liberal_v_conservative['post_liberal_rating'].where(liberal_v_conservative['pre_party_id']=='rep')\nprint(\"mean Democrat feeling thermometer toward liberals\", dems_on_liberal.mean())\nprint(\"mean Republican feeling thermometer toward liberals\", reps_on_liberal.mean())\nprint(\"type variable dems_on_liberal\", type(dems_on_liberal))\nprint(\"length of dems_on_liberal \", len(dems_on_liberal))\nprint(\"length of reps_on_liberal \", len(reps_on_liberal))\n\nstats.ttest_ind(dems_on_liberal, reps_on_liberal, equal_var = False)\n",
    "id": "0c839a102a424e6fba6ef194732bb45f",
    "idx": 59,
    "time": "2021-01-30T22:42:02.821Z",
    "type": "execution"
   },
   {
    "id": "0c839a102a424e6fba6ef194732bb45f",
    "time": "2021-01-30T22:42:02.909Z",
    "type": "completion"
   },
   {
    "code": "# now we can do a two sample t-test to see whether we can reject the idea at a 95% confidence level that dem and rep \n# partisan identifiers represent the same underlying population\n\n# first, for clarity, get the series of feeling thermometer ratings on liberals for dems and reps, even though\n# this just makes it easier on the eyes--Pythonic way is not to create new variables\ndems_on_liberal = liberal_v_conservative['post_liberal_rating'].where(liberal_v_conservative['pre_party_id']=='dem')\nreps_on_liberal = liberal_v_conservative['post_liberal_rating'].where(liberal_v_conservative['pre_party_id']=='rep')\nprint(\"mean Democrat feeling thermometer toward liberals\", dems_on_liberal.mean())\nprint(\"mean Republican feeling thermometer toward liberals\", reps_on_liberal.mean())\nprint(\"type variable dems_on_liberal\", type(dems_on_liberal))\nprint(\"length of dems_on_liberal \", len(dems_on_liberal))\nprint(\"length of reps_on_liberal \", len(reps_on_liberal))\n\nstats.ttest_ind(dems_on_liberal, reps_on_liberal, equal_var = False, nan_policy='raise')\n",
    "id": "0c839a102a424e6fba6ef194732bb45f",
    "idx": 59,
    "time": "2021-01-30T22:45:39.191Z",
    "type": "execution"
   },
   {
    "id": "0c839a102a424e6fba6ef194732bb45f",
    "time": "2021-01-30T22:45:39.330Z",
    "type": "completion"
   },
   {
    "code": "# now we can do a two sample t-test to see whether we can reject the idea at a 95% confidence level that dem and rep \n# partisan identifiers represent the same underlying population\n\n# first, for clarity, get the series of feeling thermometer ratings on liberals for dems and reps, even though\n# this just makes it easier on the eyes--Pythonic way is not to create new variables\ndems_on_liberal = liberal_v_conservative['post_liberal_rating'].where(liberal_v_conservative['pre_party_id']=='dem')\nreps_on_liberal = liberal_v_conservative['post_liberal_rating'].where(liberal_v_conservative['pre_party_id']=='rep')\ndems_on_liberal.dropna(inplace=True)\nprint(\"mean Democrat feeling thermometer toward liberals\", dems_on_liberal.mean())\nprint(\"mean Republican feeling thermometer toward liberals\", reps_on_liberal.mean())\nprint(\"type variable dems_on_liberal\", type(dems_on_liberal))\nprint(\"length of dems_on_liberal \", len(dems_on_liberal))\nprint(\"length of reps_on_liberal \", len(reps_on_liberal))\n\nstats.ttest_ind(dems_on_liberal, reps_on_liberal, equal_var = False, nan_policy='raise')\n",
    "id": "0c839a102a424e6fba6ef194732bb45f",
    "idx": 59,
    "time": "2021-01-30T22:50:46.121Z",
    "type": "execution"
   },
   {
    "id": "0c839a102a424e6fba6ef194732bb45f",
    "time": "2021-01-30T22:50:46.260Z",
    "type": "completion"
   },
   {
    "code": "# now we can do a two sample t-test to see whether we can reject the idea at a 95% confidence level that dem and rep \n# partisan identifiers represent the same underlying population\n\n# first, for clarity, get the series of feeling thermometer ratings on liberals for dems and reps, even though\n# this just makes it easier on the eyes--Pythonic way is not to create new variables\ndems_on_liberal = liberal_v_conservative['post_liberal_rating'].where(liberal_v_conservative['pre_party_id']=='dem')\nreps_on_liberal = liberal_v_conservative['post_liberal_rating'].where(liberal_v_conservative['pre_party_id']=='rep')\ndems_on_liberal.dropna(inplace=True)\nreps_on_liberal.dropna(inplace=True)\nprint(\"mean Democrat feeling thermometer toward liberals\", dems_on_liberal.mean())\nprint(\"mean Republican feeling thermometer toward liberals\", reps_on_liberal.mean())\nprint(\"type variable dems_on_liberal\", type(dems_on_liberal))\nprint(\"length of dems_on_liberal \", len(dems_on_liberal))\nprint(\"length of reps_on_liberal \", len(reps_on_liberal))\n\nstats.ttest_ind(dems_on_liberal, reps_on_liberal, equal_var = False, nan_policy='raise')\n",
    "id": "0c839a102a424e6fba6ef194732bb45f",
    "idx": 59,
    "time": "2021-01-30T22:51:20.737Z",
    "type": "execution"
   },
   {
    "id": "0c839a102a424e6fba6ef194732bb45f",
    "time": "2021-01-30T22:51:20.837Z",
    "type": "completion"
   },
   {
    "code": "# now we can do a two sample t-test to see whether we can reject the idea at a 95% confidence level that dem and rep \n# partisan identifiers represent the same underlying population\n\n# first, for clarity, get the series of feeling thermometer ratings on liberals for dems and reps, even though\n# this just makes it easier on the eyes--Pythonic way is not to create new variables\ndems_on_liberal = liberal_v_conservative['post_liberal_rating'].where(liberal_v_conservative['pre_party_id']=='dem')\nreps_on_liberal = liberal_v_conservative['post_liberal_rating'].where(liberal_v_conservative['pre_party_id']=='rep')\ninds_on_liberal = liberal_v_conservative['post_liberal_rating'].where(liberal_v_conservative['pre_party_id']=='ind')\n# using .where method seems to result in a series with lots of NaN wherever condition is not met\n# should probably use another method, right?\n\n# get rid of the NaN values in each vector of feeling thermometer scores\ndems_on_liberal.dropna(inplace=True)\nreps_on_liberal.dropna(inplace=True)\ninds_on_liberal.dropna(inplace=True)\n\nprint(\"mean Democrat feeling thermometer toward liberals\", dems_on_liberal.mean())\nprint(\"mean Republican feeling thermometer toward liberals\", reps_on_liberal.mean())\nprint(\"mean Independent feeling thermometer toward liberals\", inds_on_liberal.mean())\n\nprint(\"type variable dems_on_liberal\", type(dems_on_liberal))\nprint(\"length of dems_on_liberal \", len(dems_on_liberal))\nprint(\"length of reps_on_liberal \", len(reps_on_liberal))\nprint(\"length of inds_on_liberal \", len(inds_on_liberal))\nprint(\"two sample t-test for Dems & Reps \",stats.ttest_ind(dems_on_liberal, reps_on_liberal, equal_var = False, nan_policy='raise')\nprint(\"two sample t-test for Dems & Inds \",stats.ttest_ind(dems_on_liberal, inds_on_liberal, equal_var = False, nan_policy='raise')",
    "id": "0c839a102a424e6fba6ef194732bb45f",
    "idx": 59,
    "time": "2021-01-30T22:57:39.766Z",
    "type": "execution"
   },
   {
    "id": "0c839a102a424e6fba6ef194732bb45f",
    "time": "2021-01-30T22:57:39.842Z",
    "type": "completion"
   },
   {
    "code": "# now we can do a two sample t-test to see whether we can reject the idea at a 95% confidence level that dem and rep \n# partisan identifiers represent the same underlying population\n\n# first, for clarity, get the series of feeling thermometer ratings on liberals for dems and reps, even though\n# this just makes it easier on the eyes--Pythonic way is not to create new variables\ndems_on_liberal = liberal_v_conservative['post_liberal_rating'].where(liberal_v_conservative['pre_party_id']=='dem')\nreps_on_liberal = liberal_v_conservative['post_liberal_rating'].where(liberal_v_conservative['pre_party_id']=='rep')\ninds_on_liberal = liberal_v_conservative['post_liberal_rating'].where(liberal_v_conservative['pre_party_id']=='ind')\n# using .where method seems to result in a series with lots of NaN wherever condition is not met\n# should probably use another method, right?\n\n# get rid of the NaN values in each vector of feeling thermometer scores\ndems_on_liberal.dropna(inplace=True)\nreps_on_liberal.dropna(inplace=True)\ninds_on_liberal.dropna(inplace=True)\n\nprint(\"mean Democrat feeling thermometer toward liberals\", dems_on_liberal.mean())\nprint(\"mean Republican feeling thermometer toward liberals\", reps_on_liberal.mean())\nprint(\"mean Independent feeling thermometer toward liberals\", inds_on_liberal.mean())\n\nprint(\"type variable dems_on_liberal\", type(dems_on_liberal))\nprint(\"length of dems_on_liberal \", len(dems_on_liberal))\nprint(\"length of reps_on_liberal \", len(reps_on_liberal))\nprint(\"length of inds_on_liberal \", len(inds_on_liberal))\nprint(\"two sample t-test for Dems & Reps \",stats.ttest_ind(dems_on_liberal, reps_on_liberal, equal_var = False, nan_policy='raise');\nprint(\"two sample t-test for Dems & Inds \",stats.ttest_ind(dems_on_liberal, inds_on_liberal, equal_var = False, nan_policy='raise')",
    "id": "0c839a102a424e6fba6ef194732bb45f",
    "idx": 59,
    "time": "2021-01-30T22:58:21.859Z",
    "type": "execution"
   },
   {
    "id": "0c839a102a424e6fba6ef194732bb45f",
    "time": "2021-01-30T22:58:21.949Z",
    "type": "completion"
   },
   {
    "code": "# now we can do a two sample t-test to see whether we can reject the idea at a 95% confidence level that dem and rep \n# partisan identifiers represent the same underlying population\n\n# first, for clarity, get the series of feeling thermometer ratings on liberals for dems and reps, even though\n# this just makes it easier on the eyes--Pythonic way is not to create new variables\ndems_on_liberal = liberal_v_conservative['post_liberal_rating'].where(liberal_v_conservative['pre_party_id']=='dem')\nreps_on_liberal = liberal_v_conservative['post_liberal_rating'].where(liberal_v_conservative['pre_party_id']=='rep')\ninds_on_liberal = liberal_v_conservative['post_liberal_rating'].where(liberal_v_conservative['pre_party_id']=='ind')\n# using .where method seems to result in a series with lots of NaN wherever condition is not met\n# should probably use another method, right?\n\n# get rid of the NaN values in each vector of feeling thermometer scores\ndems_on_liberal.dropna(inplace=True)\nreps_on_liberal.dropna(inplace=True)\ninds_on_liberal.dropna(inplace=True)\n\nprint(\"mean Democrat feeling thermometer toward liberals\", dems_on_liberal.mean())\nprint(\"mean Republican feeling thermometer toward liberals\", reps_on_liberal.mean())\nprint(\"mean Independent feeling thermometer toward liberals\", inds_on_liberal.mean())\n\nprint(\"type variable dems_on_liberal\", type(dems_on_liberal))\nprint(\"length of dems_on_liberal \", len(dems_on_liberal))\nprint(\"length of reps_on_liberal \", len(reps_on_liberal))\nprint(\"length of inds_on_liberal \", len(inds_on_liberal))\nprint(\"two sample t-test for Dems & Reps \",stats.ttest_ind(dems_on_liberal, reps_on_liberal, equal_var = False, nan_policy='raise')\nprint(\"two sample t-test for Dems & Inds \",stats.ttest_ind(dems_on_liberal, inds_on_liberal, equal_var = False, nan_policy='raise')",
    "id": "0c839a102a424e6fba6ef194732bb45f",
    "idx": 59,
    "time": "2021-01-30T22:58:51.754Z",
    "type": "execution"
   },
   {
    "id": "0c839a102a424e6fba6ef194732bb45f",
    "time": "2021-01-30T22:58:51.840Z",
    "type": "completion"
   },
   {
    "code": "# now we can do a two sample t-test to see whether we can reject the idea at a 95% confidence level that dem and rep \n# partisan identifiers represent the same underlying population\n\n# first, for clarity, get the series of feeling thermometer ratings on liberals for dems and reps, even though\n# this just makes it easier on the eyes--Pythonic way is not to create new variables\ndems_on_liberal = liberal_v_conservative['post_liberal_rating'].where(liberal_v_conservative['pre_party_id']=='dem')\nreps_on_liberal = liberal_v_conservative['post_liberal_rating'].where(liberal_v_conservative['pre_party_id']=='rep')\ninds_on_liberal = liberal_v_conservative['post_liberal_rating'].where(liberal_v_conservative['pre_party_id']=='ind')\n# using .where method seems to result in a series with lots of NaN wherever condition is not met\n# should probably use another method, right?\n\n# get rid of the NaN values in each vector of feeling thermometer scores\ndems_on_liberal.dropna(inplace=True)\nreps_on_liberal.dropna(inplace=True)\ninds_on_liberal.dropna(inplace=True)\n\nprint(\"mean Democrat feeling thermometer toward liberals\", dems_on_liberal.mean())\nprint(\"mean Republican feeling thermometer toward liberals\", reps_on_liberal.mean())\nprint(\"mean Independent feeling thermometer toward liberals\", inds_on_liberal.mean())\n\nprint(\"type variable dems_on_liberal\", type(dems_on_liberal))\nprint(\"length of dems_on_liberal \", len(dems_on_liberal))\nprint(\"length of reps_on_liberal \", len(reps_on_liberal))\nprint(\"length of inds_on_liberal \", len(inds_on_liberal))\nprint(\"two sample t-test for Dems & Reps \",stats.ttest_ind(dems_on_liberal, reps_on_liberal, equal_var = False, nan_policy='raise')\n",
    "id": "0c839a102a424e6fba6ef194732bb45f",
    "idx": 59,
    "time": "2021-01-30T22:59:15.926Z",
    "type": "execution"
   },
   {
    "id": "0c839a102a424e6fba6ef194732bb45f",
    "time": "2021-01-30T22:59:16.014Z",
    "type": "completion"
   },
   {
    "code": "# now we can do a two sample t-test to see whether we can reject the idea at a 95% confidence level that dem and rep \n# partisan identifiers represent the same underlying population\n\n# first, for clarity, get the series of feeling thermometer ratings on liberals for dems and reps, even though\n# this just makes it easier on the eyes--Pythonic way is not to create new variables\ndems_on_liberal = liberal_v_conservative['post_liberal_rating'].where(liberal_v_conservative['pre_party_id']=='dem')\nreps_on_liberal = liberal_v_conservative['post_liberal_rating'].where(liberal_v_conservative['pre_party_id']=='rep')\ninds_on_liberal = liberal_v_conservative['post_liberal_rating'].where(liberal_v_conservative['pre_party_id']=='ind')\n# using .where method seems to result in a series with lots of NaN wherever condition is not met\n# should probably use another method, right?\n\n# get rid of the NaN values in each vector of feeling thermometer scores\ndems_on_liberal.dropna(inplace=True)\nreps_on_liberal.dropna(inplace=True)\ninds_on_liberal.dropna(inplace=True)\n\nprint(\"mean Democrat feeling thermometer toward liberals\", dems_on_liberal.mean())\nprint(\"mean Republican feeling thermometer toward liberals\", reps_on_liberal.mean())\nprint(\"mean Independent feeling thermometer toward liberals\", inds_on_liberal.mean())\n\nprint(\"type variable dems_on_liberal\", type(dems_on_liberal))\nprint(\"length of dems_on_liberal \", len(dems_on_liberal))\nprint(\"length of reps_on_liberal \", len(reps_on_liberal))\nprint(\"length of inds_on_liberal \", len(inds_on_liberal))\nprint(\"two sample t-test for Dems & Reps \", stats.ttest_ind(dems_on_liberal, reps_on_liberal, equal_var = False, nan_policy='raise'))\nprint(\"two sample t-test for Dems & Inds \", stats.ttest_ind(dems_on_liberal, inds_on_liberal, equal_var = False, nan_policy='raise'))\n",
    "id": "0c839a102a424e6fba6ef194732bb45f",
    "idx": 59,
    "time": "2021-01-30T23:00:02.673Z",
    "type": "execution"
   },
   {
    "id": "0c839a102a424e6fba6ef194732bb45f",
    "time": "2021-01-30T23:00:02.766Z",
    "type": "completion"
   },
   {
    "code": "# now we can do a two sample t-test to see whether we can reject the idea at a 95% confidence level that dem and rep \n# partisan identifiers represent the same underlying population\n\n# first, for clarity, get the series of feeling thermometer ratings on liberals for dems and reps, even though\n# this just makes it easier on the eyes--Pythonic way is not to create new variables\ndems_on_liberal = liberal_v_conservative['post_liberal_rating'].where(liberal_v_conservative['pre_party_id']=='dem')\nreps_on_liberal = liberal_v_conservative['post_liberal_rating'].where(liberal_v_conservative['pre_party_id']=='rep')\ninds_on_liberal = liberal_v_conservative['post_liberal_rating'].where(liberal_v_conservative['pre_party_id']=='ind')\n# using .where method seems to result in a series with lots of NaN wherever condition is not met\n# should probably use another method, right?\n\n# get rid of the NaN values in each vector of feeling thermometer scores\ndems_on_liberal.dropna(inplace=True)\nreps_on_liberal.dropna(inplace=True)\ninds_on_liberal.dropna(inplace=True)\n\nprint(\"mean Democrat feeling thermometer toward liberals\", dems_on_liberal.mean())\nprint(\"mean Republican feeling thermometer toward liberals\", reps_on_liberal.mean())\nprint(\"mean Independent feeling thermometer toward liberals\", inds_on_liberal.mean())\n\nprint(\"type variable dems_on_liberal\", type(dems_on_liberal))\nprint(\"length of dems_on_liberal \", len(dems_on_liberal))\nprint(\"length of reps_on_liberal \", len(reps_on_liberal))\nprint(\"length of inds_on_liberal \", len(inds_on_liberal))\nprint(\"two sample t-test for Dems & Reps \", stats.ttest_ind(dems_on_liberal, reps_on_liberal, equal_var = False, nan_policy='raise'))\nprint(\"two sample t-test for Dems & Inds \", stats.ttest_ind(dems_on_liberal, inds_on_liberal, equal_var = False, nan_policy='raise'))\nprint(\"two sample t-test for Inds & Reps \", stats.ttest_ind(inds_on_liberal, reps_on_liberal, equal_var = False, nan_policy='raise'))",
    "id": "0c839a102a424e6fba6ef194732bb45f",
    "idx": 59,
    "time": "2021-01-30T23:01:41.129Z",
    "type": "execution"
   },
   {
    "id": "0c839a102a424e6fba6ef194732bb45f",
    "time": "2021-01-30T23:01:41.225Z",
    "type": "completion"
   },
   {
    "code": "liberal_v_conservative.boxplot(column='post_conservative_rating', by='pre_party_id', figsize=(9,6))",
    "id": "db21bffc6a2e450daa80ac1d946953d6",
    "idx": 59,
    "time": "2021-01-30T23:07:30.530Z",
    "type": "execution"
   },
   {
    "id": "db21bffc6a2e450daa80ac1d946953d6",
    "time": "2021-01-30T23:07:30.855Z",
    "type": "completion"
   },
   {
    "code": "# now let's do feeling thermometer ratings on conservatives for dems, inds, reps, even though\n# this just makes it easier on the eyes--Pythonic way is not to create new variables\ndems_on_conserv = liberal_v_conservative['post_conservative_rating'].where(liberal_v_conservative['pre_party_id']=='dem')\nreps_on_conserv = liberal_v_conservative['post_conservative_rating'].where(liberal_v_conservative['pre_party_id']=='rep')\ninds_on_conserv = liberal_v_conservative['post_conservative_rating'].where(liberal_v_conservative['pre_party_id']=='ind')\n# using .where method seems to result in a series with lots of NaN wherever condition is not met\n# should probably use another method, right?\n\n# get rid of the NaN values in each vector of feeling thermometer scores\ndems_on_conserv.dropna(inplace=True)\nreps_on_conserv.dropna(inplace=True)\ninds_on_conserv.dropna(inplace=True)\n\nprint(\"mean Democrat feeling thermometer toward conservatives\", dems_on_conserv.mean())\nprint(\"mean Republican feeling thermometer toward conservatives\", reps_on_conserv.mean())\nprint(\"mean Independent feeling thermometer toward conservatives\", inds_on_conserv.mean())\n\nprint(\"length of dems_on_conserv \", len(dems_on_conserv))\nprint(\"length of reps_on_conserv \", len(reps_on_conserv))\nprint(\"length of inds_on_conserv \", len(inds_on_conserv))\nprint(\"two sample t-test for Dems & Reps \", stats.ttest_ind(dems_on_conserv, reps_on_conserv, equal_var = False, nan_policy='raise'))\nprint(\"two sample t-test for Dems & Inds \", stats.ttest_ind(dems_on_conserv, inds_on_conserv, equal_var = False, nan_policy='raise'))\nprint(\"two sample t-test for Inds & Reps \", stats.ttest_ind(inds_on_conserv, reps_on_conserv, equal_var = False, nan_policy='raise'))",
    "id": "e41220ab8c564e448da926fca01c2105",
    "idx": 61,
    "time": "2021-01-30T23:09:36.656Z",
    "type": "execution"
   },
   {
    "id": "e41220ab8c564e448da926fca01c2105",
    "time": "2021-01-30T23:09:36.755Z",
    "type": "completion"
   },
   {
    "code": "anes.columns",
    "id": "7f8a9c59ba3843e98fc5f433f8ea9089",
    "idx": 6,
    "time": "2021-01-30T23:15:08.971Z",
    "type": "execution"
   },
   {
    "id": "7f8a9c59ba3843e98fc5f433f8ea9089",
    "time": "2021-01-30T23:15:09.041Z",
    "type": "completion"
   },
   {
    "code": "print(anes.columns)",
    "id": "7f8a9c59ba3843e98fc5f433f8ea9089",
    "idx": 6,
    "time": "2021-01-30T23:18:59.253Z",
    "type": "execution"
   },
   {
    "id": "7f8a9c59ba3843e98fc5f433f8ea9089",
    "time": "2021-01-30T23:18:59.349Z",
    "type": "completion"
   },
   {
    "code": "print(anes.columns, sep='/n')",
    "id": "7f8a9c59ba3843e98fc5f433f8ea9089",
    "idx": 6,
    "time": "2021-01-30T23:20:22.440Z",
    "type": "execution"
   },
   {
    "id": "7f8a9c59ba3843e98fc5f433f8ea9089",
    "time": "2021-01-30T23:20:22.527Z",
    "type": "completion"
   },
   {
    "code": "anes.columns.tolist()",
    "id": "7f8a9c59ba3843e98fc5f433f8ea9089",
    "idx": 6,
    "time": "2021-01-30T23:21:32.310Z",
    "type": "execution"
   },
   {
    "id": "7f8a9c59ba3843e98fc5f433f8ea9089",
    "time": "2021-01-30T23:21:32.398Z",
    "type": "completion"
   },
   {
    "code": "liberal_v_conservative.boxplot(column='post_scientists_rating', by='pre_party_id', figsize=(9,6))",
    "id": "cdb72f216104436a830fb1db54e24f9f",
    "idx": 64,
    "time": "2021-01-30T23:24:49.851Z",
    "type": "execution"
   },
   {
    "id": "cdb72f216104436a830fb1db54e24f9f",
    "time": "2021-01-30T23:24:50.070Z",
    "type": "completion"
   },
   {
    "code": "# add the post_scientists feeling thermometer variable to the liberal_v_conservative dataframe\nliberal_v_conservative['post_scientists'] = anes['post_scientists']\nliberal_v_conservative.dropna(inplace=True)\nliberal_v_conservative.head()",
    "id": "76da962eb3034caaa2159b24c16116ec",
    "idx": 64,
    "time": "2021-01-30T23:26:52.017Z",
    "type": "execution"
   },
   {
    "id": "76da962eb3034caaa2159b24c16116ec",
    "time": "2021-01-30T23:26:52.148Z",
    "type": "completion"
   },
   {
    "code": "# add the post_scientists feeling thermometer variable to the liberal_v_conservative dataframe\nliberal_v_conservative['post_scientists'] = anes['post_scientists_rating']\nliberal_v_conservative.dropna(inplace=True)\nliberal_v_conservative.head()",
    "id": "76da962eb3034caaa2159b24c16116ec",
    "idx": 64,
    "time": "2021-01-30T23:27:46.613Z",
    "type": "execution"
   },
   {
    "id": "76da962eb3034caaa2159b24c16116ec",
    "time": "2021-01-30T23:27:46.717Z",
    "type": "completion"
   },
   {
    "code": "liberal_v_conservative.boxplot(column='post_scientists', by='pre_party_id', figsize=(9,6))",
    "id": "cdb72f216104436a830fb1db54e24f9f",
    "idx": 65,
    "time": "2021-01-30T23:28:00.765Z",
    "type": "execution"
   },
   {
    "id": "cdb72f216104436a830fb1db54e24f9f",
    "time": "2021-01-30T23:28:01.061Z",
    "type": "completion"
   },
   {
    "code": "# add the post_scientists feeling thermometer variable to the liberal_v_conservative dataframe\nliberal_v_conservative['post_scientists'] = anes['post_scientists_rating'].where(anes['post_scientists_rating'])<150\nliberal_v_conservative.dropna(inplace=True)\nliberal_v_conservative.head()",
    "id": "76da962eb3034caaa2159b24c16116ec",
    "idx": 64,
    "time": "2021-01-30T23:29:10.900Z",
    "type": "execution"
   },
   {
    "id": "76da962eb3034caaa2159b24c16116ec",
    "time": "2021-01-30T23:29:11.028Z",
    "type": "completion"
   },
   {
    "code": "# add the post_scientists feeling thermometer variable to the liberal_v_conservative dataframe\nliberal_v_conservative['post_scientists'] = anes['post_scientists_rating'].where(anes['post_scientists_rating']<150)\nliberal_v_conservative.dropna(inplace=True)\nliberal_v_conservative.head()",
    "id": "76da962eb3034caaa2159b24c16116ec",
    "idx": 64,
    "time": "2021-01-30T23:30:24.867Z",
    "type": "execution"
   },
   {
    "id": "76da962eb3034caaa2159b24c16116ec",
    "time": "2021-01-30T23:30:24.959Z",
    "type": "completion"
   },
   {
    "code": "liberal_v_conservative.boxplot(column='post_scientists', by='pre_party_id', figsize=(9,6))",
    "id": "cdb72f216104436a830fb1db54e24f9f",
    "idx": 65,
    "time": "2021-01-30T23:30:31.430Z",
    "type": "execution"
   },
   {
    "id": "cdb72f216104436a830fb1db54e24f9f",
    "time": "2021-01-30T23:30:31.732Z",
    "type": "completion"
   },
   {
    "code": "# here we should expect not to be able to reject the hypothesis of no difference in underlying pop means\n\ndems_on_scientists = liberal_v_conservative['post_scientists'].where(liberal_v_conservative['pre_party_id']=='dem')\nreps_on_scientists = liberal_v_conservative['post_scientists'].where(liberal_v_conservative['pre_party_id']=='rep')\ninds_on_scientists = liberal_v_conservative['post_scientists'].where(liberal_v_conservative['pre_party_id']=='ind')\n# using .where method seems to result in a series with lots of NaN wherever condition is not met\n# should probably use another method, right?\n\n# get rid of the NaN values in each vector of feeling thermometer scores\ndems_on_scientists.dropna(inplace=True)\nreps_on_scientists.dropna(inplace=True)\ninds_on_scientists.dropna(inplace=True)\n\nprint(\"mean Democrat feeling thermometer toward scientists\", dems_on_scientists.mean())\nprint(\"mean Republican feeling thermometer toward scientists\", reps_on_scientists.mean())\nprint(\"mean Independent feeling thermometer toward scientists\", inds_on_scientists.mean())\n\nprint(\"length of dems_on_scientists \", len(dems_on_scientists))\nprint(\"length of reps_on_scientists \", len(reps_on_scientists))\nprint(\"length of inds_on_scientists \", len(inds_on_scientists))\nprint(\"two sample t-test for Dems & Reps \", stats.ttest_ind(dems_on_scientists, reps_on_scientists, equal_var = False, nan_policy='raise'))\nprint(\"two sample t-test for Dems & Inds \", stats.ttest_ind(dems_on_scientists, inds_on_scientists, equal_var = False, nan_policy='raise'))\nprint(\"two sample t-test for Inds & Reps \", stats.ttest_ind(inds_on_scientists, reps_on_scientists, equal_var = False, nan_policy='raise'))",
    "id": "49f10abd6745402e8f26275dd216d89d",
    "idx": 66,
    "time": "2021-01-30T23:35:01.770Z",
    "type": "execution"
   },
   {
    "id": "49f10abd6745402e8f26275dd216d89d",
    "time": "2021-01-30T23:35:01.870Z",
    "type": "completion"
   }
  ],
  "kernelspec": {
   "display_name": "Python 3.9.2 64-bit",
   "name": "python392jvsc74a57bd0aee8b7b246df8f9039afb4144a1f6fd8d2ca17a180786b69acc140d282b71a49"
  },
  "language_info": {
   "name": "python",
   "version": ""
  },
  "metadata": {
   "interpreter": {
    "hash": "aee8b7b246df8f9039afb4144a1f6fd8d2ca17a180786b69acc140d282b71a49"
   }
  }
 },
 "nbformat": 4,
 "nbformat_minor": 2
}