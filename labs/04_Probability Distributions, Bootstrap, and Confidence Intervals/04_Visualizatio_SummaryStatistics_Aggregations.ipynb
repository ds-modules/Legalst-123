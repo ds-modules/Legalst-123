{
 "cells": [
  {
   "cell_type": "markdown",
   "metadata": {},
   "source": [
    "# [LEGALST-123] Lab 04: Probability Distributions, Bootstrap, and Confidence Intervals"
   ]
  },
  {
   "cell_type": "code",
   "execution_count": 26,
   "metadata": {},
   "outputs": [],
   "source": [
    "from datascience import *\n",
    "from collections import Counter\n",
    "import numpy as np\n",
    "import pandas as pd\n",
    "from scipy import stats\n",
    "%matplotlib inline\n",
    "import matplotlib.pyplot as plots\n",
    "plots.style.use('fivethirtyeight')"
   ]
  },
  {
   "cell_type": "markdown",
   "metadata": {},
   "source": [
    "# Introduction\n",
    "In this lab, we aim to prepare students for prediction exercises in PSET 1 and PSET 2 by focusing on several key aspects of exploratory data analysis (EDA) and data manipulation using the Nashville police stops dataset. The objectives of this lab are as follows:\n",
    "\n",
    "**Data Cleaning**:\n",
    "(Continuing from Lab 3): We will continue the data cleaning process by addressing issues not covered in Lab 3. This includes handling missing values through imputation or dropping as appropriate. During the data cleaning process, we will refer to simple plot exercises, such as scatter plots, box plots, and histograms, to make data-driven decisions.\n",
    "\n",
    "**Summary Statistics**:\n",
    "We will compute and display summary statistics for relevant columns, particularly 'age' and 'year.' This includes calculating the mean and median for these columns and explaining their significance in the context of the dataset. Visualizations: We will create visualizations, including histograms for 'column1' and 'column2' columns, scatter plots to visualize relationships between specific variables, and box plots to display data distributions. Interpretations of these visualizations will be provided.\n",
    "\n",
    "**Aggregating Data**:\n",
    "We will introduce data aggregation using Python libraries like pandas. Techniques such as grouping data using the groupby function in pandas will be explored, along with examples of aggregating data to gain insights. We will also explain the use of pivot tables in pandas for data aggregation.\n",
    "\n",
    "**Time Series Analysis**:\n",
    "Introduce time series data analysis using a specific example from the dataset. We will analyze and visualize police stop trends over time, such as monthly or yearly trends, using time-specific data to demonstrate aggregation techniques. Line plots will be created to visualize time series data."
   ]
  },
  {
   "cell_type": "markdown",
   "metadata": {},
   "source": [
    "## Data Cleaning (Continuing from Lab 3) #to_be_erased"
   ]
  },
  {
   "cell_type": "markdown",
   "metadata": {},
   "source": [
    "## Summary -- To be erased\n",
    "\n",
    "Load the Nashville police stops dataset. \n",
    "\n",
    "\n",
    "Continue data cleaning by addressing issues not covered in Lab 3.\n",
    "\n",
    "\n",
    "Handle missing values by either imputation or dropping, as appropriate.\n",
    "\n",
    "\n",
    "Referring to simple plot exercises (scatter, box, histogram) during the data cleaning process.\n",
    "Describe the dataset and its columns.\n",
    "\n",
    "\n",
    "Provide explanations for data cleaning decisions, emphasizing their impact on visualization and analysis."
   ]
  },
  {
   "cell_type": "code",
   "execution_count": 45,
   "metadata": {},
   "outputs": [
    {
     "data": {
      "text/html": [
       "<div>\n",
       "<style scoped>\n",
       "    .dataframe tbody tr th:only-of-type {\n",
       "        vertical-align: middle;\n",
       "    }\n",
       "\n",
       "    .dataframe tbody tr th {\n",
       "        vertical-align: top;\n",
       "    }\n",
       "\n",
       "    .dataframe thead th {\n",
       "        text-align: right;\n",
       "    }\n",
       "</style>\n",
       "<table border=\"1\" class=\"dataframe\">\n",
       "  <thead>\n",
       "    <tr style=\"text-align: right;\">\n",
       "      <th></th>\n",
       "      <th>index</th>\n",
       "      <th>raw_row_number</th>\n",
       "      <th>date</th>\n",
       "      <th>time</th>\n",
       "      <th>location</th>\n",
       "      <th>lat</th>\n",
       "      <th>lng</th>\n",
       "      <th>precinct</th>\n",
       "      <th>reporting_area</th>\n",
       "      <th>zone</th>\n",
       "      <th>...</th>\n",
       "      <th>raw_traffic_citation_issued</th>\n",
       "      <th>raw_misd_state_citation_issued</th>\n",
       "      <th>raw_suspect_ethnicity</th>\n",
       "      <th>raw_driver_searched</th>\n",
       "      <th>raw_passenger_searched</th>\n",
       "      <th>raw_search_consent</th>\n",
       "      <th>raw_search_arrest</th>\n",
       "      <th>raw_search_warrant</th>\n",
       "      <th>raw_search_inventory</th>\n",
       "      <th>raw_search_plain_view</th>\n",
       "    </tr>\n",
       "  </thead>\n",
       "  <tbody>\n",
       "    <tr>\n",
       "      <th>0</th>\n",
       "      <td>1840907</td>\n",
       "      <td>93347</td>\n",
       "      <td>2010-04-18</td>\n",
       "      <td>13140.0</td>\n",
       "      <td>BURGESS AVE &amp; WHITE BRIDGE PIKE, NASHVILLE, TN...</td>\n",
       "      <td>36.145004</td>\n",
       "      <td>-86.857970</td>\n",
       "      <td>1.0</td>\n",
       "      <td>5103.0</td>\n",
       "      <td>113.0</td>\n",
       "      <td>...</td>\n",
       "      <td>False</td>\n",
       "      <td>NaN</td>\n",
       "      <td>N</td>\n",
       "      <td>False</td>\n",
       "      <td>False</td>\n",
       "      <td>False</td>\n",
       "      <td>False</td>\n",
       "      <td>False</td>\n",
       "      <td>False</td>\n",
       "      <td>False</td>\n",
       "    </tr>\n",
       "    <tr>\n",
       "      <th>1</th>\n",
       "      <td>492044</td>\n",
       "      <td>2001428</td>\n",
       "      <td>2015-01-19</td>\n",
       "      <td>19920.0</td>\n",
       "      <td>DUE WEST AVE W &amp; S GRAYCROFT AVE, MADISON, TN,...</td>\n",
       "      <td>36.249187</td>\n",
       "      <td>-86.734459</td>\n",
       "      <td>7.0</td>\n",
       "      <td>1797.0</td>\n",
       "      <td>723.0</td>\n",
       "      <td>...</td>\n",
       "      <td>False</td>\n",
       "      <td>False</td>\n",
       "      <td>N</td>\n",
       "      <td>False</td>\n",
       "      <td>False</td>\n",
       "      <td>False</td>\n",
       "      <td>False</td>\n",
       "      <td>False</td>\n",
       "      <td>False</td>\n",
       "      <td>False</td>\n",
       "    </tr>\n",
       "    <tr>\n",
       "      <th>2</th>\n",
       "      <td>431170</td>\n",
       "      <td>1996331</td>\n",
       "      <td>2015-01-15</td>\n",
       "      <td>1020.0</td>\n",
       "      <td>S GALLATIN PIKE &amp; MADISON BLVD, MADISON, TN, 3...</td>\n",
       "      <td>36.254979</td>\n",
       "      <td>-86.715246</td>\n",
       "      <td>7.0</td>\n",
       "      <td>1623.0</td>\n",
       "      <td>711.0</td>\n",
       "      <td>...</td>\n",
       "      <td>False</td>\n",
       "      <td>False</td>\n",
       "      <td>N</td>\n",
       "      <td>False</td>\n",
       "      <td>False</td>\n",
       "      <td>False</td>\n",
       "      <td>False</td>\n",
       "      <td>False</td>\n",
       "      <td>False</td>\n",
       "      <td>False</td>\n",
       "    </tr>\n",
       "    <tr>\n",
       "      <th>3</th>\n",
       "      <td>2066423</td>\n",
       "      <td>1319451</td>\n",
       "      <td>2013-05-17</td>\n",
       "      <td>62760.0</td>\n",
       "      <td>CHARLOTTE PIKE &amp; W HILLWOOD DR, NASHVILLE, TN,...</td>\n",
       "      <td>36.139093</td>\n",
       "      <td>-86.880533</td>\n",
       "      <td>1.0</td>\n",
       "      <td>5009.0</td>\n",
       "      <td>123.0</td>\n",
       "      <td>...</td>\n",
       "      <td>False</td>\n",
       "      <td>False</td>\n",
       "      <td>N</td>\n",
       "      <td>False</td>\n",
       "      <td>False</td>\n",
       "      <td>False</td>\n",
       "      <td>False</td>\n",
       "      <td>False</td>\n",
       "      <td>False</td>\n",
       "      <td>False</td>\n",
       "    </tr>\n",
       "    <tr>\n",
       "      <th>4</th>\n",
       "      <td>2899480</td>\n",
       "      <td>201349</td>\n",
       "      <td>2010-09-01</td>\n",
       "      <td>28140.0</td>\n",
       "      <td>BELL RD &amp; DODSON CHAPEL RD, HERMITAGE, TN, 37076</td>\n",
       "      <td>36.163310</td>\n",
       "      <td>-86.613147</td>\n",
       "      <td>5.0</td>\n",
       "      <td>9501.0</td>\n",
       "      <td>521.0</td>\n",
       "      <td>...</td>\n",
       "      <td>False</td>\n",
       "      <td>NaN</td>\n",
       "      <td>N</td>\n",
       "      <td>False</td>\n",
       "      <td>False</td>\n",
       "      <td>False</td>\n",
       "      <td>False</td>\n",
       "      <td>False</td>\n",
       "      <td>False</td>\n",
       "      <td>False</td>\n",
       "    </tr>\n",
       "  </tbody>\n",
       "</table>\n",
       "<p>5 rows × 43 columns</p>\n",
       "</div>"
      ],
      "text/plain": [
       "     index raw_row_number        date     time  \\\n",
       "0  1840907          93347  2010-04-18  13140.0   \n",
       "1   492044        2001428  2015-01-19  19920.0   \n",
       "2   431170        1996331  2015-01-15   1020.0   \n",
       "3  2066423        1319451  2013-05-17  62760.0   \n",
       "4  2899480         201349  2010-09-01  28140.0   \n",
       "\n",
       "                                            location        lat        lng  \\\n",
       "0  BURGESS AVE & WHITE BRIDGE PIKE, NASHVILLE, TN...  36.145004 -86.857970   \n",
       "1  DUE WEST AVE W & S GRAYCROFT AVE, MADISON, TN,...  36.249187 -86.734459   \n",
       "2  S GALLATIN PIKE & MADISON BLVD, MADISON, TN, 3...  36.254979 -86.715246   \n",
       "3  CHARLOTTE PIKE & W HILLWOOD DR, NASHVILLE, TN,...  36.139093 -86.880533   \n",
       "4   BELL RD & DODSON CHAPEL RD, HERMITAGE, TN, 37076  36.163310 -86.613147   \n",
       "\n",
       "   precinct  reporting_area   zone  ...  raw_traffic_citation_issued  \\\n",
       "0       1.0          5103.0  113.0  ...                        False   \n",
       "1       7.0          1797.0  723.0  ...                        False   \n",
       "2       7.0          1623.0  711.0  ...                        False   \n",
       "3       1.0          5009.0  123.0  ...                        False   \n",
       "4       5.0          9501.0  521.0  ...                        False   \n",
       "\n",
       "  raw_misd_state_citation_issued raw_suspect_ethnicity raw_driver_searched  \\\n",
       "0                            NaN                     N               False   \n",
       "1                          False                     N               False   \n",
       "2                          False                     N               False   \n",
       "3                          False                     N               False   \n",
       "4                            NaN                     N               False   \n",
       "\n",
       "  raw_passenger_searched raw_search_consent  raw_search_arrest  \\\n",
       "0                  False              False              False   \n",
       "1                  False              False              False   \n",
       "2                  False              False              False   \n",
       "3                  False              False              False   \n",
       "4                  False              False              False   \n",
       "\n",
       "   raw_search_warrant  raw_search_inventory raw_search_plain_view  \n",
       "0               False                 False                 False  \n",
       "1               False                 False                 False  \n",
       "2               False                 False                 False  \n",
       "3               False                 False                 False  \n",
       "4               False                 False                 False  \n",
       "\n",
       "[5 rows x 43 columns]"
      ]
     },
     "execution_count": 45,
     "metadata": {},
     "output_type": "execute_result"
    }
   ],
   "source": [
    "# load the data - To be erased\n",
    "user = \"suminpark\" #insert your user name\n",
    "path = \"/Users/\" + user +  \"/Documents/GitHub/Modules/Legalst-123/labs/data\"\n",
    "stops = pd.read_csv(path + \"/stops_sample.csv\", index_col = 0)\n",
    "stops.head()"
   ]
  },
  {
   "cell_type": "markdown",
   "metadata": {},
   "source": [
    "## Summary Statistics"
   ]
  },
  {
   "cell_type": "markdown",
   "metadata": {},
   "source": [
    "### Part 1: Acquiring Data\n",
    "1. **Obtain Data** - to retrive the dataset, we will now load the CSV file we have into a `pandas.DataFrame` object and start exploring the data!\n",
    "We will use `path` vairable to traverse to the directory where our CSV file is located and use `pd.read_csv` to read our view our files!"
   ]
  },
  {
   "cell_type": "code",
   "execution_count": 77,
   "metadata": {},
   "outputs": [
    {
     "data": {
      "text/html": [
       "<div>\n",
       "<style scoped>\n",
       "    .dataframe tbody tr th:only-of-type {\n",
       "        vertical-align: middle;\n",
       "    }\n",
       "\n",
       "    .dataframe tbody tr th {\n",
       "        vertical-align: top;\n",
       "    }\n",
       "\n",
       "    .dataframe thead th {\n",
       "        text-align: right;\n",
       "    }\n",
       "</style>\n",
       "<table border=\"1\" class=\"dataframe\">\n",
       "  <thead>\n",
       "    <tr style=\"text-align: right;\">\n",
       "      <th></th>\n",
       "      <th>index</th>\n",
       "      <th>raw_row_number</th>\n",
       "      <th>date</th>\n",
       "      <th>time</th>\n",
       "      <th>location</th>\n",
       "      <th>lat</th>\n",
       "      <th>lng</th>\n",
       "      <th>precinct</th>\n",
       "      <th>reporting_area</th>\n",
       "      <th>zone</th>\n",
       "      <th>...</th>\n",
       "      <th>raw_traffic_citation_issued</th>\n",
       "      <th>raw_misd_state_citation_issued</th>\n",
       "      <th>raw_suspect_ethnicity</th>\n",
       "      <th>raw_driver_searched</th>\n",
       "      <th>raw_passenger_searched</th>\n",
       "      <th>raw_search_consent</th>\n",
       "      <th>raw_search_arrest</th>\n",
       "      <th>raw_search_warrant</th>\n",
       "      <th>raw_search_inventory</th>\n",
       "      <th>raw_search_plain_view</th>\n",
       "    </tr>\n",
       "  </thead>\n",
       "  <tbody>\n",
       "    <tr>\n",
       "      <th>0</th>\n",
       "      <td>1840907</td>\n",
       "      <td>93347</td>\n",
       "      <td>2010-04-18</td>\n",
       "      <td>13140.0</td>\n",
       "      <td>BURGESS AVE &amp; WHITE BRIDGE PIKE, NASHVILLE, TN...</td>\n",
       "      <td>36.145004</td>\n",
       "      <td>-86.857970</td>\n",
       "      <td>1.0</td>\n",
       "      <td>5103.0</td>\n",
       "      <td>113.0</td>\n",
       "      <td>...</td>\n",
       "      <td>False</td>\n",
       "      <td>NaN</td>\n",
       "      <td>N</td>\n",
       "      <td>False</td>\n",
       "      <td>False</td>\n",
       "      <td>False</td>\n",
       "      <td>False</td>\n",
       "      <td>False</td>\n",
       "      <td>False</td>\n",
       "      <td>False</td>\n",
       "    </tr>\n",
       "    <tr>\n",
       "      <th>1</th>\n",
       "      <td>492044</td>\n",
       "      <td>2001428</td>\n",
       "      <td>2015-01-19</td>\n",
       "      <td>19920.0</td>\n",
       "      <td>DUE WEST AVE W &amp; S GRAYCROFT AVE, MADISON, TN,...</td>\n",
       "      <td>36.249187</td>\n",
       "      <td>-86.734459</td>\n",
       "      <td>7.0</td>\n",
       "      <td>1797.0</td>\n",
       "      <td>723.0</td>\n",
       "      <td>...</td>\n",
       "      <td>False</td>\n",
       "      <td>False</td>\n",
       "      <td>N</td>\n",
       "      <td>False</td>\n",
       "      <td>False</td>\n",
       "      <td>False</td>\n",
       "      <td>False</td>\n",
       "      <td>False</td>\n",
       "      <td>False</td>\n",
       "      <td>False</td>\n",
       "    </tr>\n",
       "    <tr>\n",
       "      <th>2</th>\n",
       "      <td>431170</td>\n",
       "      <td>1996331</td>\n",
       "      <td>2015-01-15</td>\n",
       "      <td>1020.0</td>\n",
       "      <td>S GALLATIN PIKE &amp; MADISON BLVD, MADISON, TN, 3...</td>\n",
       "      <td>36.254979</td>\n",
       "      <td>-86.715246</td>\n",
       "      <td>7.0</td>\n",
       "      <td>1623.0</td>\n",
       "      <td>711.0</td>\n",
       "      <td>...</td>\n",
       "      <td>False</td>\n",
       "      <td>False</td>\n",
       "      <td>N</td>\n",
       "      <td>False</td>\n",
       "      <td>False</td>\n",
       "      <td>False</td>\n",
       "      <td>False</td>\n",
       "      <td>False</td>\n",
       "      <td>False</td>\n",
       "      <td>False</td>\n",
       "    </tr>\n",
       "    <tr>\n",
       "      <th>3</th>\n",
       "      <td>2066423</td>\n",
       "      <td>1319451</td>\n",
       "      <td>2013-05-17</td>\n",
       "      <td>62760.0</td>\n",
       "      <td>CHARLOTTE PIKE &amp; W HILLWOOD DR, NASHVILLE, TN,...</td>\n",
       "      <td>36.139093</td>\n",
       "      <td>-86.880533</td>\n",
       "      <td>1.0</td>\n",
       "      <td>5009.0</td>\n",
       "      <td>123.0</td>\n",
       "      <td>...</td>\n",
       "      <td>False</td>\n",
       "      <td>False</td>\n",
       "      <td>N</td>\n",
       "      <td>False</td>\n",
       "      <td>False</td>\n",
       "      <td>False</td>\n",
       "      <td>False</td>\n",
       "      <td>False</td>\n",
       "      <td>False</td>\n",
       "      <td>False</td>\n",
       "    </tr>\n",
       "    <tr>\n",
       "      <th>4</th>\n",
       "      <td>2899480</td>\n",
       "      <td>201349</td>\n",
       "      <td>2010-09-01</td>\n",
       "      <td>28140.0</td>\n",
       "      <td>BELL RD &amp; DODSON CHAPEL RD, HERMITAGE, TN, 37076</td>\n",
       "      <td>36.163310</td>\n",
       "      <td>-86.613147</td>\n",
       "      <td>5.0</td>\n",
       "      <td>9501.0</td>\n",
       "      <td>521.0</td>\n",
       "      <td>...</td>\n",
       "      <td>False</td>\n",
       "      <td>NaN</td>\n",
       "      <td>N</td>\n",
       "      <td>False</td>\n",
       "      <td>False</td>\n",
       "      <td>False</td>\n",
       "      <td>False</td>\n",
       "      <td>False</td>\n",
       "      <td>False</td>\n",
       "      <td>False</td>\n",
       "    </tr>\n",
       "  </tbody>\n",
       "</table>\n",
       "<p>5 rows × 43 columns</p>\n",
       "</div>"
      ],
      "text/plain": [
       "     index raw_row_number        date     time  \\\n",
       "0  1840907          93347  2010-04-18  13140.0   \n",
       "1   492044        2001428  2015-01-19  19920.0   \n",
       "2   431170        1996331  2015-01-15   1020.0   \n",
       "3  2066423        1319451  2013-05-17  62760.0   \n",
       "4  2899480         201349  2010-09-01  28140.0   \n",
       "\n",
       "                                            location        lat        lng  \\\n",
       "0  BURGESS AVE & WHITE BRIDGE PIKE, NASHVILLE, TN...  36.145004 -86.857970   \n",
       "1  DUE WEST AVE W & S GRAYCROFT AVE, MADISON, TN,...  36.249187 -86.734459   \n",
       "2  S GALLATIN PIKE & MADISON BLVD, MADISON, TN, 3...  36.254979 -86.715246   \n",
       "3  CHARLOTTE PIKE & W HILLWOOD DR, NASHVILLE, TN,...  36.139093 -86.880533   \n",
       "4   BELL RD & DODSON CHAPEL RD, HERMITAGE, TN, 37076  36.163310 -86.613147   \n",
       "\n",
       "   precinct  reporting_area   zone  ...  raw_traffic_citation_issued  \\\n",
       "0       1.0          5103.0  113.0  ...                        False   \n",
       "1       7.0          1797.0  723.0  ...                        False   \n",
       "2       7.0          1623.0  711.0  ...                        False   \n",
       "3       1.0          5009.0  123.0  ...                        False   \n",
       "4       5.0          9501.0  521.0  ...                        False   \n",
       "\n",
       "  raw_misd_state_citation_issued raw_suspect_ethnicity raw_driver_searched  \\\n",
       "0                            NaN                     N               False   \n",
       "1                          False                     N               False   \n",
       "2                          False                     N               False   \n",
       "3                          False                     N               False   \n",
       "4                            NaN                     N               False   \n",
       "\n",
       "  raw_passenger_searched raw_search_consent  raw_search_arrest  \\\n",
       "0                  False              False              False   \n",
       "1                  False              False              False   \n",
       "2                  False              False              False   \n",
       "3                  False              False              False   \n",
       "4                  False              False              False   \n",
       "\n",
       "   raw_search_warrant  raw_search_inventory raw_search_plain_view  \n",
       "0               False                 False                 False  \n",
       "1               False                 False                 False  \n",
       "2               False                 False                 False  \n",
       "3               False                 False                 False  \n",
       "4               False                 False                 False  \n",
       "\n",
       "[5 rows x 43 columns]"
      ]
     },
     "execution_count": 77,
     "metadata": {},
     "output_type": "execute_result"
    }
   ],
   "source": [
    "user = \"suminpark\" #insert your user name\n",
    "path = \"/Users/\" + user +  \"/Documents/GitHub/Modules/Legalst-123/labs/data\"\n",
    "stops = pd.read_csv(path + \"/stops_sample.csv\", index_col = 0) #edit this later for the actual lab. \n",
    "stops.head()"
   ]
  },
  {
   "cell_type": "markdown",
   "metadata": {},
   "source": [
    "### Part 2: Clean and Explore the Data"
   ]
  },
  {
   "cell_type": "markdown",
   "metadata": {},
   "source": [
    "From loading our csv file and using `.head()`, we see that the fields include variables such as the longitude and latitude, the subject's race/age,  and the date and time of the offense.\n",
    "\n",
    "Let's also check some basic information about this DataFrame using the `DataFrame.info` ([documentation](https://pandas.pydata.org/pandas-docs/stable/reference/api/pandas.DataFrame.info.html)) and `DataFrame.describe` methods ([documentation](https://pandas.pydata.org/pandas-docs/stable/reference/api/pandas.DataFrame.describe.html))."
   ]
  },
  {
   "cell_type": "code",
   "execution_count": 78,
   "metadata": {},
   "outputs": [
    {
     "name": "stdout",
     "output_type": "stream",
     "text": [
      "<class 'pandas.core.frame.DataFrame'>\n",
      "Int64Index: 1000 entries, 0 to 999\n",
      "Data columns (total 43 columns):\n",
      " #   Column                          Non-Null Count  Dtype  \n",
      "---  ------                          --------------  -----  \n",
      " 0   index                           1000 non-null   int64  \n",
      " 1   raw_row_number                  1000 non-null   object \n",
      " 2   date                            1000 non-null   object \n",
      " 3   time                            996 non-null    float64\n",
      " 4   location                        1000 non-null   object \n",
      " 5   lat                             940 non-null    float64\n",
      " 6   lng                             940 non-null    float64\n",
      " 7   precinct                        887 non-null    float64\n",
      " 8   reporting_area                  903 non-null    float64\n",
      " 9   zone                            887 non-null    float64\n",
      " 10  subject_age                     999 non-null    float64\n",
      " 11  subject_race                    1000 non-null   object \n",
      " 12  subject_sex                     998 non-null    object \n",
      " 13  officer_id_hash                 1000 non-null   object \n",
      " 14  type                            1000 non-null   object \n",
      " 15  violation                       998 non-null    object \n",
      " 16  arrest_made                     1000 non-null   bool   \n",
      " 17  citation_issued                 1000 non-null   bool   \n",
      " 18  warning_issued                  1000 non-null   bool   \n",
      " 19  outcome                         999 non-null    object \n",
      " 20  contraband_found                40 non-null     object \n",
      " 21  contraband_drugs                40 non-null     object \n",
      " 22  contraband_weapons              40 non-null     object \n",
      " 23  frisk_performed                 1000 non-null   bool   \n",
      " 24  search_conducted                1000 non-null   bool   \n",
      " 25  search_person                   1000 non-null   bool   \n",
      " 26  search_vehicle                  1000 non-null   bool   \n",
      " 27  search_basis                    40 non-null     object \n",
      " 28  reason_for_stop                 998 non-null    object \n",
      " 29  vehicle_registration_state      987 non-null    object \n",
      " 30  notes                           172 non-null    object \n",
      " 31  raw_verbal_warning_issued       1000 non-null   bool   \n",
      " 32  raw_written_warning_issued      824 non-null    object \n",
      " 33  raw_traffic_citation_issued     1000 non-null   bool   \n",
      " 34  raw_misd_state_citation_issued  780 non-null    object \n",
      " 35  raw_suspect_ethnicity           1000 non-null   object \n",
      " 36  raw_driver_searched             1000 non-null   bool   \n",
      " 37  raw_passenger_searched          1000 non-null   bool   \n",
      " 38  raw_search_consent              1000 non-null   bool   \n",
      " 39  raw_search_arrest               1000 non-null   bool   \n",
      " 40  raw_search_warrant              1000 non-null   bool   \n",
      " 41  raw_search_inventory            1000 non-null   bool   \n",
      " 42  raw_search_plain_view           1000 non-null   bool   \n",
      "dtypes: bool(16), float64(7), int64(1), object(19)\n",
      "memory usage: 234.4+ KB\n"
     ]
    }
   ],
   "source": [
    "# df.info() displays\n",
    "# name and type of each column, \n",
    "# number of non-null entries, and \n",
    "# size of dataframe\n",
    "stops.info()"
   ]
  },
  {
   "cell_type": "markdown",
   "metadata": {},
   "source": [
    "Note that each columns sometimes different count of non-null counts. For instance, `raw_row_number` column has 1000 non-null counts while `zone` has only 887 non-null counts. This is because the `.info()` method only counts non-null entries."
   ]
  },
  {
   "cell_type": "code",
   "execution_count": 79,
   "metadata": {},
   "outputs": [
    {
     "data": {
      "text/html": [
       "<div>\n",
       "<style scoped>\n",
       "    .dataframe tbody tr th:only-of-type {\n",
       "        vertical-align: middle;\n",
       "    }\n",
       "\n",
       "    .dataframe tbody tr th {\n",
       "        vertical-align: top;\n",
       "    }\n",
       "\n",
       "    .dataframe thead th {\n",
       "        text-align: right;\n",
       "    }\n",
       "</style>\n",
       "<table border=\"1\" class=\"dataframe\">\n",
       "  <thead>\n",
       "    <tr style=\"text-align: right;\">\n",
       "      <th></th>\n",
       "      <th>index</th>\n",
       "      <th>time</th>\n",
       "      <th>lat</th>\n",
       "      <th>lng</th>\n",
       "      <th>precinct</th>\n",
       "      <th>reporting_area</th>\n",
       "      <th>zone</th>\n",
       "      <th>subject_age</th>\n",
       "    </tr>\n",
       "  </thead>\n",
       "  <tbody>\n",
       "    <tr>\n",
       "      <th>count</th>\n",
       "      <td>1.000000e+03</td>\n",
       "      <td>996.000000</td>\n",
       "      <td>940.000000</td>\n",
       "      <td>940.000000</td>\n",
       "      <td>887.000000</td>\n",
       "      <td>903.000000</td>\n",
       "      <td>887.000000</td>\n",
       "      <td>999.000000</td>\n",
       "    </tr>\n",
       "    <tr>\n",
       "      <th>mean</th>\n",
       "      <td>1.491263e+06</td>\n",
       "      <td>47195.963855</td>\n",
       "      <td>36.146446</td>\n",
       "      <td>-86.762884</td>\n",
       "      <td>4.401353</td>\n",
       "      <td>7770.545958</td>\n",
       "      <td>460.828636</td>\n",
       "      <td>36.811812</td>\n",
       "    </tr>\n",
       "    <tr>\n",
       "      <th>std</th>\n",
       "      <td>8.823683e+05</td>\n",
       "      <td>24555.357937</td>\n",
       "      <td>0.115117</td>\n",
       "      <td>0.376956</td>\n",
       "      <td>2.248430</td>\n",
       "      <td>12490.193085</td>\n",
       "      <td>225.863415</td>\n",
       "      <td>13.748406</td>\n",
       "    </tr>\n",
       "    <tr>\n",
       "      <th>min</th>\n",
       "      <td>1.425000e+03</td>\n",
       "      <td>60.000000</td>\n",
       "      <td>33.522888</td>\n",
       "      <td>-97.407823</td>\n",
       "      <td>1.000000</td>\n",
       "      <td>889.000000</td>\n",
       "      <td>111.000000</td>\n",
       "      <td>16.000000</td>\n",
       "    </tr>\n",
       "    <tr>\n",
       "      <th>25%</th>\n",
       "      <td>7.216352e+05</td>\n",
       "      <td>30660.000000</td>\n",
       "      <td>36.109700</td>\n",
       "      <td>-86.789033</td>\n",
       "      <td>2.000000</td>\n",
       "      <td>3020.000000</td>\n",
       "      <td>227.000000</td>\n",
       "      <td>26.000000</td>\n",
       "    </tr>\n",
       "    <tr>\n",
       "      <th>50%</th>\n",
       "      <td>1.456574e+06</td>\n",
       "      <td>48810.000000</td>\n",
       "      <td>36.154908</td>\n",
       "      <td>-86.751799</td>\n",
       "      <td>4.000000</td>\n",
       "      <td>5501.000000</td>\n",
       "      <td>425.000000</td>\n",
       "      <td>34.000000</td>\n",
       "    </tr>\n",
       "    <tr>\n",
       "      <th>75%</th>\n",
       "      <td>2.282808e+06</td>\n",
       "      <td>67755.000000</td>\n",
       "      <td>36.190809</td>\n",
       "      <td>-86.703740</td>\n",
       "      <td>6.000000</td>\n",
       "      <td>8815.000000</td>\n",
       "      <td>621.000000</td>\n",
       "      <td>46.000000</td>\n",
       "    </tr>\n",
       "    <tr>\n",
       "      <th>max</th>\n",
       "      <td>3.091709e+06</td>\n",
       "      <td>86280.000000</td>\n",
       "      <td>36.373107</td>\n",
       "      <td>-84.751067</td>\n",
       "      <td>8.000000</td>\n",
       "      <td>95020.000000</td>\n",
       "      <td>835.000000</td>\n",
       "      <td>82.000000</td>\n",
       "    </tr>\n",
       "  </tbody>\n",
       "</table>\n",
       "</div>"
      ],
      "text/plain": [
       "              index          time         lat         lng    precinct  \\\n",
       "count  1.000000e+03    996.000000  940.000000  940.000000  887.000000   \n",
       "mean   1.491263e+06  47195.963855   36.146446  -86.762884    4.401353   \n",
       "std    8.823683e+05  24555.357937    0.115117    0.376956    2.248430   \n",
       "min    1.425000e+03     60.000000   33.522888  -97.407823    1.000000   \n",
       "25%    7.216352e+05  30660.000000   36.109700  -86.789033    2.000000   \n",
       "50%    1.456574e+06  48810.000000   36.154908  -86.751799    4.000000   \n",
       "75%    2.282808e+06  67755.000000   36.190809  -86.703740    6.000000   \n",
       "max    3.091709e+06  86280.000000   36.373107  -84.751067    8.000000   \n",
       "\n",
       "       reporting_area        zone  subject_age  \n",
       "count      903.000000  887.000000   999.000000  \n",
       "mean      7770.545958  460.828636    36.811812  \n",
       "std      12490.193085  225.863415    13.748406  \n",
       "min        889.000000  111.000000    16.000000  \n",
       "25%       3020.000000  227.000000    26.000000  \n",
       "50%       5501.000000  425.000000    34.000000  \n",
       "75%       8815.000000  621.000000    46.000000  \n",
       "max      95020.000000  835.000000    82.000000  "
      ]
     },
     "execution_count": 79,
     "metadata": {},
     "output_type": "execute_result"
    }
   ],
   "source": [
    "stops.describe()"
   ]
  },
  {
   "cell_type": "markdown",
   "metadata": {},
   "source": [
    "Notice that the functions above reveal type information for the columns, as well as some basic statistics about the numerical columns found in the DataFrame. However, we still need more information about what each column represents. Let’s explore the data further in Question 1!"
   ]
  },
  {
   "cell_type": "code",
   "execution_count": 54,
   "metadata": {},
   "outputs": [
    {
     "data": {
      "text/html": [
       "<div>\n",
       "<style scoped>\n",
       "    .dataframe tbody tr th:only-of-type {\n",
       "        vertical-align: middle;\n",
       "    }\n",
       "\n",
       "    .dataframe tbody tr th {\n",
       "        vertical-align: top;\n",
       "    }\n",
       "\n",
       "    .dataframe thead th {\n",
       "        text-align: right;\n",
       "    }\n",
       "</style>\n",
       "<table border=\"1\" class=\"dataframe\">\n",
       "  <thead>\n",
       "    <tr style=\"text-align: right;\">\n",
       "      <th></th>\n",
       "      <th>raw_row_number</th>\n",
       "    </tr>\n",
       "  </thead>\n",
       "  <tbody>\n",
       "    <tr>\n",
       "      <th>0</th>\n",
       "      <td>93347</td>\n",
       "    </tr>\n",
       "    <tr>\n",
       "      <th>1</th>\n",
       "      <td>2001428</td>\n",
       "    </tr>\n",
       "    <tr>\n",
       "      <th>2</th>\n",
       "      <td>1996331</td>\n",
       "    </tr>\n",
       "    <tr>\n",
       "      <th>3</th>\n",
       "      <td>1319451</td>\n",
       "    </tr>\n",
       "    <tr>\n",
       "      <th>4</th>\n",
       "      <td>201349</td>\n",
       "    </tr>\n",
       "    <tr>\n",
       "      <th>...</th>\n",
       "      <td>...</td>\n",
       "    </tr>\n",
       "    <tr>\n",
       "      <th>995</th>\n",
       "      <td>929050</td>\n",
       "    </tr>\n",
       "    <tr>\n",
       "      <th>996</th>\n",
       "      <td>1145747</td>\n",
       "    </tr>\n",
       "    <tr>\n",
       "      <th>997</th>\n",
       "      <td>2534242</td>\n",
       "    </tr>\n",
       "    <tr>\n",
       "      <th>998</th>\n",
       "      <td>566920</td>\n",
       "    </tr>\n",
       "    <tr>\n",
       "      <th>999</th>\n",
       "      <td>1010625</td>\n",
       "    </tr>\n",
       "  </tbody>\n",
       "</table>\n",
       "<p>1000 rows × 1 columns</p>\n",
       "</div>"
      ],
      "text/plain": [
       "    raw_row_number\n",
       "0            93347\n",
       "1          2001428\n",
       "2          1996331\n",
       "3          1319451\n",
       "4           201349\n",
       "..             ...\n",
       "995         929050\n",
       "996        1145747\n",
       "997        2534242\n",
       "998         566920\n",
       "999        1010625\n",
       "\n",
       "[1000 rows x 1 columns]"
      ]
     },
     "execution_count": 54,
     "metadata": {},
     "output_type": "execute_result"
    }
   ],
   "source": [
    "stops[[\"raw_row_number\"]]"
   ]
  },
  {
   "cell_type": "code",
   "execution_count": 31,
   "metadata": {},
   "outputs": [
    {
     "data": {
      "text/html": [
       "<div>\n",
       "<style scoped>\n",
       "    .dataframe tbody tr th:only-of-type {\n",
       "        vertical-align: middle;\n",
       "    }\n",
       "\n",
       "    .dataframe tbody tr th {\n",
       "        vertical-align: top;\n",
       "    }\n",
       "\n",
       "    .dataframe thead th {\n",
       "        text-align: right;\n",
       "    }\n",
       "</style>\n",
       "<table border=\"1\" class=\"dataframe\">\n",
       "  <thead>\n",
       "    <tr style=\"text-align: right;\">\n",
       "      <th></th>\n",
       "      <th>subject_age</th>\n",
       "    </tr>\n",
       "    <tr>\n",
       "      <th>subject_race</th>\n",
       "      <th></th>\n",
       "    </tr>\n",
       "  </thead>\n",
       "  <tbody>\n",
       "    <tr>\n",
       "      <th>asian/pacific islander</th>\n",
       "      <td>35.450000</td>\n",
       "    </tr>\n",
       "    <tr>\n",
       "      <th>black</th>\n",
       "      <td>35.506427</td>\n",
       "    </tr>\n",
       "    <tr>\n",
       "      <th>hispanic</th>\n",
       "      <td>30.963636</td>\n",
       "    </tr>\n",
       "    <tr>\n",
       "      <th>other</th>\n",
       "      <td>32.500000</td>\n",
       "    </tr>\n",
       "    <tr>\n",
       "      <th>unknown</th>\n",
       "      <td>37.083333</td>\n",
       "    </tr>\n",
       "    <tr>\n",
       "      <th>white</th>\n",
       "      <td>38.512573</td>\n",
       "    </tr>\n",
       "  </tbody>\n",
       "</table>\n",
       "</div>"
      ],
      "text/plain": [
       "                        subject_age\n",
       "subject_race                       \n",
       "asian/pacific islander    35.450000\n",
       "black                     35.506427\n",
       "hispanic                  30.963636\n",
       "other                     32.500000\n",
       "unknown                   37.083333\n",
       "white                     38.512573"
      ]
     },
     "execution_count": 31,
     "metadata": {},
     "output_type": "execute_result"
    }
   ],
   "source": [
    "stop = stops[[\"subject_age\", \"subject_race\"]]\n",
    "stop.groupby(['subject_race']).mean()"
   ]
  },
  {
   "cell_type": "code",
   "execution_count": 32,
   "metadata": {},
   "outputs": [
    {
     "data": {
      "text/html": [
       "<div>\n",
       "<style scoped>\n",
       "    .dataframe tbody tr th:only-of-type {\n",
       "        vertical-align: middle;\n",
       "    }\n",
       "\n",
       "    .dataframe tbody tr th {\n",
       "        vertical-align: top;\n",
       "    }\n",
       "\n",
       "    .dataframe thead th {\n",
       "        text-align: right;\n",
       "    }\n",
       "</style>\n",
       "<table border=\"1\" class=\"dataframe\">\n",
       "  <thead>\n",
       "    <tr style=\"text-align: right;\">\n",
       "      <th></th>\n",
       "      <th>subject_age</th>\n",
       "    </tr>\n",
       "    <tr>\n",
       "      <th>subject_race</th>\n",
       "      <th></th>\n",
       "    </tr>\n",
       "  </thead>\n",
       "  <tbody>\n",
       "    <tr>\n",
       "      <th>asian/pacific islander</th>\n",
       "      <td>33.0</td>\n",
       "    </tr>\n",
       "    <tr>\n",
       "      <th>black</th>\n",
       "      <td>32.0</td>\n",
       "    </tr>\n",
       "    <tr>\n",
       "      <th>hispanic</th>\n",
       "      <td>31.0</td>\n",
       "    </tr>\n",
       "    <tr>\n",
       "      <th>other</th>\n",
       "      <td>33.0</td>\n",
       "    </tr>\n",
       "    <tr>\n",
       "      <th>unknown</th>\n",
       "      <td>37.5</td>\n",
       "    </tr>\n",
       "    <tr>\n",
       "      <th>white</th>\n",
       "      <td>35.0</td>\n",
       "    </tr>\n",
       "  </tbody>\n",
       "</table>\n",
       "</div>"
      ],
      "text/plain": [
       "                        subject_age\n",
       "subject_race                       \n",
       "asian/pacific islander         33.0\n",
       "black                          32.0\n",
       "hispanic                       31.0\n",
       "other                          33.0\n",
       "unknown                        37.5\n",
       "white                          35.0"
      ]
     },
     "execution_count": 32,
     "metadata": {},
     "output_type": "execute_result"
    }
   ],
   "source": [
    "stop.groupby(['subject_race']).median()"
   ]
  },
  {
   "cell_type": "markdown",
   "metadata": {},
   "source": [
    "Notice that the functions above reveal type information for the columns, as well as some basic statistics about the numerical columns found in the DataFrame. However, if we want to explore more on the mean or median of the specific varibles, we can use the groupby function. \n",
    "\n",
    "In the below example let's use the groupby function to find the age mean/median for each race. "
   ]
  },
  {
   "cell_type": "markdown",
   "metadata": {},
   "source": [
    "Compute and display summary statistics for relevant columns, such as 'age' and 'year.'\n",
    "\n",
    "Calculate the mean and median for these columns.\n",
    "\n",
    "Explain the significance of mean and median in the context of the dataset."
   ]
  },
  {
   "cell_type": "markdown",
   "metadata": {},
   "source": [
    "## Exploratory Data Analysis"
   ]
  },
  {
   "cell_type": "markdown",
   "metadata": {},
   "source": [
    "### 1. Visualizations"
   ]
  },
  {
   "cell_type": "markdown",
   "metadata": {},
   "source": [
    "#### **1.1 Histograms:** Create histograms for 'column1' and 'column2' columns."
   ]
  },
  {
   "cell_type": "markdown",
   "metadata": {},
   "source": [
    "Interpret the distributions of these variables."
   ]
  },
  {
   "cell_type": "code",
   "execution_count": 33,
   "metadata": {},
   "outputs": [],
   "source": [
    "# HISTOGRAM CODE"
   ]
  },
  {
   "cell_type": "markdown",
   "metadata": {},
   "source": [
    "#### **1.2 Scatter Plots:** Generate sccatter plots to visualize relationships between specific variables. "
   ]
  },
  {
   "cell_type": "markdown",
   "metadata": {},
   "source": [
    "Discuss any insights gained from scatter plots."
   ]
  },
  {
   "cell_type": "code",
   "execution_count": 34,
   "metadata": {},
   "outputs": [],
   "source": [
    "# SCATTER CODE"
   ]
  },
  {
   "cell_type": "markdown",
   "metadata": {},
   "source": [
    "#### 1.3 **Box Plots:** Create a box plots for relevant columns. "
   ]
  },
  {
   "cell_type": "markdown",
   "metadata": {},
   "source": [
    "Explain the concept of box plots and their use in displaying data distributions. Interpret the box plots and identify outliers if present. What is the shape of the plot?"
   ]
  },
  {
   "cell_type": "code",
   "execution_count": 35,
   "metadata": {},
   "outputs": [],
   "source": [
    "# BOX CODE"
   ]
  },
  {
   "cell_type": "markdown",
   "metadata": {},
   "source": [
    "### 2. Aggregating Data: "
   ]
  },
  {
   "cell_type": "markdown",
   "metadata": {},
   "source": [
    "Introduction to aggregating data using Python libraries like pandas.\n",
    "\n",
    "Explore techniques such as grouping data using the groupby function in pandas.\n",
    "\n",
    "Provide examples of aggregating data to gain insights.\n",
    "\n",
    "Explain the use of pivot tables in pandas for data aggregation"
   ]
  },
  {
   "cell_type": "code",
   "execution_count": 36,
   "metadata": {},
   "outputs": [],
   "source": [
    "# HERE"
   ]
  },
  {
   "cell_type": "markdown",
   "metadata": {},
   "source": [
    "### 3. Time Series Analysis: \n",
    "Introduce time series data analysis using a specific example from the dataset.\n",
    "\n",
    "Analyze and visualize police stop trends over time (e.g., monthly or yearly).\n",
    "\n",
    "Use time-specific data to demonstrate aggregation techniques.\n",
    "\n",
    "Create line plots to visualize time series data."
   ]
  },
  {
   "cell_type": "markdown",
   "metadata": {},
   "source": [
    "**Question 1.5.1**: \n",
    "Can you provide a specific example from the Nashville dataset that highlights the importance of time series analysis, using columns like 'date' and 'time'? \n",
    "\n",
    "Hint: \n",
    "1. You can explore how police stops have evolved over time by focusing on the 'date' and 'time' columns. Look for temporal trends that may require time series analysis. \n",
    "2. Use column \"citation_issued\""
   ]
  },
  {
   "cell_type": "code",
   "execution_count": 71,
   "metadata": {},
   "outputs": [],
   "source": [
    "# Extract time-related columns, e.g., 'date' and 'time', and other relevant data\n",
    "time_series_data = stops[['date', 'time', 'citation_issued']]\n",
    "\n",
    "# Further data processing and analysis\n",
    "# ..."
   ]
  },
  {
   "cell_type": "markdown",
   "metadata": {},
   "source": [
    "WRITE SOMETHING ABOUT CHANGING TO DATE TIME AND PUTTING THAT TO INDEX. "
   ]
  },
  {
   "cell_type": "code",
   "execution_count": 72,
   "metadata": {},
   "outputs": [
    {
     "data": {
      "text/html": [
       "<div>\n",
       "<style scoped>\n",
       "    .dataframe tbody tr th:only-of-type {\n",
       "        vertical-align: middle;\n",
       "    }\n",
       "\n",
       "    .dataframe tbody tr th {\n",
       "        vertical-align: top;\n",
       "    }\n",
       "\n",
       "    .dataframe thead th {\n",
       "        text-align: right;\n",
       "    }\n",
       "</style>\n",
       "<table border=\"1\" class=\"dataframe\">\n",
       "  <thead>\n",
       "    <tr style=\"text-align: right;\">\n",
       "      <th></th>\n",
       "      <th>time</th>\n",
       "      <th>citation_issued</th>\n",
       "    </tr>\n",
       "    <tr>\n",
       "      <th>date</th>\n",
       "      <th></th>\n",
       "      <th></th>\n",
       "    </tr>\n",
       "  </thead>\n",
       "  <tbody>\n",
       "    <tr>\n",
       "      <th>2010-04-18</th>\n",
       "      <td>13140.0</td>\n",
       "      <td>False</td>\n",
       "    </tr>\n",
       "    <tr>\n",
       "      <th>2015-01-19</th>\n",
       "      <td>19920.0</td>\n",
       "      <td>False</td>\n",
       "    </tr>\n",
       "    <tr>\n",
       "      <th>2015-01-15</th>\n",
       "      <td>1020.0</td>\n",
       "      <td>False</td>\n",
       "    </tr>\n",
       "    <tr>\n",
       "      <th>2013-05-17</th>\n",
       "      <td>62760.0</td>\n",
       "      <td>False</td>\n",
       "    </tr>\n",
       "    <tr>\n",
       "      <th>2010-09-01</th>\n",
       "      <td>28140.0</td>\n",
       "      <td>False</td>\n",
       "    </tr>\n",
       "    <tr>\n",
       "      <th>...</th>\n",
       "      <td>...</td>\n",
       "      <td>...</td>\n",
       "    </tr>\n",
       "    <tr>\n",
       "      <th>2012-07-01</th>\n",
       "      <td>6360.0</td>\n",
       "      <td>False</td>\n",
       "    </tr>\n",
       "    <tr>\n",
       "      <th>2012-01-10</th>\n",
       "      <td>65220.0</td>\n",
       "      <td>True</td>\n",
       "    </tr>\n",
       "    <tr>\n",
       "      <th>2016-08-12</th>\n",
       "      <td>78420.0</td>\n",
       "      <td>False</td>\n",
       "    </tr>\n",
       "    <tr>\n",
       "      <th>2011-08-24</th>\n",
       "      <td>11460.0</td>\n",
       "      <td>False</td>\n",
       "    </tr>\n",
       "    <tr>\n",
       "      <th>2012-09-12</th>\n",
       "      <td>1920.0</td>\n",
       "      <td>False</td>\n",
       "    </tr>\n",
       "  </tbody>\n",
       "</table>\n",
       "<p>1000 rows × 2 columns</p>\n",
       "</div>"
      ],
      "text/plain": [
       "               time  citation_issued\n",
       "date                                \n",
       "2010-04-18  13140.0            False\n",
       "2015-01-19  19920.0            False\n",
       "2015-01-15   1020.0            False\n",
       "2013-05-17  62760.0            False\n",
       "2010-09-01  28140.0            False\n",
       "...             ...              ...\n",
       "2012-07-01   6360.0            False\n",
       "2012-01-10  65220.0             True\n",
       "2016-08-12  78420.0            False\n",
       "2011-08-24  11460.0            False\n",
       "2012-09-12   1920.0            False\n",
       "\n",
       "[1000 rows x 2 columns]"
      ]
     },
     "execution_count": 72,
     "metadata": {},
     "output_type": "execute_result"
    }
   ],
   "source": [
    "time_series_data.index = pd.to_datetime(time_series_data[\"date\"])\n",
    "time_series_data = time_series_data.drop(\"date\", axis=1)\n",
    "time_series_data"
   ]
  },
  {
   "cell_type": "markdown",
   "metadata": {},
   "source": [
    "**Question 1.5.2**: How can we effectively group the data to analyze police stop trends on a monthly or yearly basis using the 'date' column, and what insights can such analysis provide?\n",
    "\n",
    "Hint: \n",
    "1. Consider using the 'date' column to group data into monthly or yearly intervals. \n",
    "2. Create line plots to visualize how police stop trends change over time.\n",
    "3. Using column \"citation_issues\"\n"
   ]
  },
  {
   "cell_type": "code",
   "execution_count": 75,
   "metadata": {},
   "outputs": [
    {
     "data": {
      "image/png": "[encoded data removed]",
      "text/plain": [
       "<Figure size 432x288 with 1 Axes>"
      ]
     },
     "metadata": {},
     "output_type": "display_data"
    }
   ],
   "source": [
    "# Sample code to group data and create time series visualizations\n",
    "import matplotlib.pyplot as plt\n",
    "\n",
    "# Group data by month and analyze trends\n",
    "monthly_data = time_series_data.resample('M').count()  # Resample data to monthly frequency\n",
    "\n",
    "# Create a line plot to visualize monthly trends\n",
    "plt.plot(monthly_data.index, monthly_data['citation_issued'])\n",
    "plt.xlabel('Month')\n",
    "plt.ylabel('Police Stops Count')\n",
    "plt.title('Police Stop Trends Over Time')\n",
    "plt.show()"
   ]
  },
  {
   "cell_type": "markdown",
   "metadata": {},
   "source": [
    "**Question 1.5.3**: What are some key aggregation techniques that can be applied to the time-specific data in this dataset, particularly using the 'date' column, and why are they important for understanding the dataset?\n",
    "\n",
    "Hint: \n",
    "1. Consider aggregation methods such as count or mean to analyze the dataset over time, focusing on the 'date' column.\n",
    "2. Use \"citation_issued\" for 'your_column_of_interest'\n",
    "3. Use Sum as 'your_aggregation_function' with the specific variables you are interested in analyzing within your dataset."
   ]
  },
  {
   "cell_type": "code",
   "execution_count": 24,
   "metadata": {},
   "outputs": [
    {
     "ename": "NameError",
     "evalue": "name 'time_series_data' is not defined",
     "output_type": "error",
     "traceback": [
      "\u001b[0;31m---------------------------------------------------------------------------\u001b[0m",
      "\u001b[0;31mNameError\u001b[0m                                 Traceback (most recent call last)",
      "\u001b[0;32m/var/folders/qj/1mxrck1x3fg7s25g3g04md640000gn/T/ipykernel_6113/4147837692.py\u001b[0m in \u001b[0;36m<module>\u001b[0;34m\u001b[0m\n\u001b[1;32m      1\u001b[0m \u001b[0;31m# Sample code for demonstrating aggregation techniques\u001b[0m\u001b[0;34m\u001b[0m\u001b[0;34m\u001b[0m\u001b[0;34m\u001b[0m\u001b[0m\n\u001b[0;32m----> 2\u001b[0;31m \u001b[0maggregated_data\u001b[0m \u001b[0;34m=\u001b[0m \u001b[0mtime_series_data\u001b[0m\u001b[0;34m.\u001b[0m\u001b[0mgroupby\u001b[0m\u001b[0;34m(\u001b[0m\u001b[0;34m'date'\u001b[0m\u001b[0;34m)\u001b[0m\u001b[0;34m.\u001b[0m\u001b[0magg\u001b[0m\u001b[0;34m(\u001b[0m\u001b[0;34m{\u001b[0m\u001b[0;34m'your_column_of_interest'\u001b[0m\u001b[0;34m:\u001b[0m \u001b[0;34m'your_aggregation_function'\u001b[0m\u001b[0;34m}\u001b[0m\u001b[0;34m)\u001b[0m\u001b[0;34m\u001b[0m\u001b[0;34m\u001b[0m\u001b[0m\n\u001b[0m",
      "\u001b[0;31mNameError\u001b[0m: name 'time_series_data' is not defined"
     ]
    }
   ],
   "source": [
    "# Sample code for demonstrating aggregation techniques\n",
    "aggregated_data = time_series_data.groupby('date').agg({'your_column_of_interest': 'your_aggregation_function'})"
   ]
  },
  {
   "cell_type": "markdown",
   "metadata": {},
   "source": [
    "**Question 1.5.4**: Could you explain the process of creating line plots to visualize time series data based on the 'date' column, and provide an example of what a line plot might reveal about the data over time?\n",
    "\n",
    "Hint: \n",
    "1. Use the aggregated data from Section 3 and create line plots to visually represent trends over time.\n",
    "2. Use \"citation_issued\" as 'your_column_of_interest'."
   ]
  },
  {
   "cell_type": "code",
   "execution_count": 25,
   "metadata": {},
   "outputs": [
    {
     "ename": "NameError",
     "evalue": "name 'aggregated_data' is not defined",
     "output_type": "error",
     "traceback": [
      "\u001b[0;31m---------------------------------------------------------------------------\u001b[0m",
      "\u001b[0;31mNameError\u001b[0m                                 Traceback (most recent call last)",
      "\u001b[0;32m/var/folders/qj/1mxrck1x3fg7s25g3g04md640000gn/T/ipykernel_6113/2522848043.py\u001b[0m in \u001b[0;36m<module>\u001b[0;34m\u001b[0m\n\u001b[1;32m      1\u001b[0m \u001b[0;31m# Sample code for creating line plots to visualize time series data\u001b[0m\u001b[0;34m\u001b[0m\u001b[0;34m\u001b[0m\u001b[0;34m\u001b[0m\u001b[0m\n\u001b[0;32m----> 2\u001b[0;31m \u001b[0mplt\u001b[0m\u001b[0;34m.\u001b[0m\u001b[0mplot\u001b[0m\u001b[0;34m(\u001b[0m\u001b[0maggregated_data\u001b[0m\u001b[0;34m.\u001b[0m\u001b[0mindex\u001b[0m\u001b[0;34m,\u001b[0m \u001b[0maggregated_data\u001b[0m\u001b[0;34m[\u001b[0m\u001b[0;34m'your_column_of_interest'\u001b[0m\u001b[0;34m]\u001b[0m\u001b[0;34m)\u001b[0m\u001b[0;34m\u001b[0m\u001b[0;34m\u001b[0m\u001b[0m\n\u001b[0m\u001b[1;32m      3\u001b[0m \u001b[0mplt\u001b[0m\u001b[0;34m.\u001b[0m\u001b[0mxlabel\u001b[0m\u001b[0;34m(\u001b[0m\u001b[0;34m'Date'\u001b[0m\u001b[0;34m)\u001b[0m\u001b[0;34m\u001b[0m\u001b[0;34m\u001b[0m\u001b[0m\n\u001b[1;32m      4\u001b[0m \u001b[0mplt\u001b[0m\u001b[0;34m.\u001b[0m\u001b[0mylabel\u001b[0m\u001b[0;34m(\u001b[0m\u001b[0;34m'Your Y-axis Label'\u001b[0m\u001b[0;34m)\u001b[0m\u001b[0;34m\u001b[0m\u001b[0;34m\u001b[0m\u001b[0m\n\u001b[1;32m      5\u001b[0m \u001b[0mplt\u001b[0m\u001b[0;34m.\u001b[0m\u001b[0mtitle\u001b[0m\u001b[0;34m(\u001b[0m\u001b[0;34m'Time Series Data Visualization'\u001b[0m\u001b[0;34m)\u001b[0m\u001b[0;34m\u001b[0m\u001b[0;34m\u001b[0m\u001b[0m\n",
      "\u001b[0;31mNameError\u001b[0m: name 'aggregated_data' is not defined"
     ]
    }
   ],
   "source": [
    "# Sample code for creating line plots to visualize time series data\n",
    "plt.plot(aggregated_data.index, aggregated_data['your_column_of_interest'])\n",
    "plt.xlabel('Date')\n",
    "plt.ylabel('Your Y-axis Label')\n",
    "plt.title('Time Series Data Visualization')\n",
    "plt.show()"
   ]
  },
  {
   "cell_type": "markdown",
   "metadata": {},
   "source": [
    "## Conclusion "
   ]
  },
  {
   "cell_type": "markdown",
   "metadata": {},
   "source": [
    "Summarize key findings from the data analysis. Discuss insights or patterns observed during the analysis.\n",
    "\n",
    "Reflect on the importance of data cleaning, summary statistics, visualization, and data aggregation in exploratory data analysis.\n",
    "\n"
   ]
  },
  {
   "cell_type": "code",
   "execution_count": 31,
   "metadata": {},
   "outputs": [],
   "source": [
    "# HERE"
   ]
  },
  {
   "cell_type": "markdown",
   "metadata": {},
   "source": [
    "## References"
   ]
  },
  {
   "cell_type": "markdown",
   "metadata": {},
   "source": [
    "Include references or data sources used in the lab, such as the Stanford traffic stop data library and relevant documents related to Nashville policing practices for traffic stops."
   ]
  },
  {
   "cell_type": "markdown",
   "metadata": {},
   "source": []
  }
 ],
 "metadata": {
  "kernelspec": {
   "display_name": "Python 3.9.0 64-bit",
   "language": "python",
   "name": "python3"
  },
  "language_info": {
   "codemirror_mode": {
    "name": "ipython",
    "version": 3
   },
   "file_extension": ".py",
   "mimetype": "text/x-python",
   "name": "python",
   "nbconvert_exporter": "python",
   "pygments_lexer": "ipython3",
   "version": "3.9.0"
  },
  "vscode": {
   "interpreter": {
    "hash": "aee8b7b246df8f9039afb4144a1f6fd8d2ca17a180786b69acc140d282b71a49"
   }
  }
 },
 "nbformat": 4,
 "nbformat_minor": 2
}
