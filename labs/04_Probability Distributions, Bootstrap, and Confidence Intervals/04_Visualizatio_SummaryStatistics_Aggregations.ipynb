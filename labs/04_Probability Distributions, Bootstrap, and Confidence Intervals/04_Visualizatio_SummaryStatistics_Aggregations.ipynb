{
 "cells": [
  {
   "cell_type": "markdown",
   "metadata": {},
   "source": [
    "# [LEGALST-123] Lab 04: Probability Distributions, Bootstrap, and Confidence Intervals"
   ]
  },
  {
   "cell_type": "code",
   "execution_count": 17,
   "metadata": {},
   "outputs": [],
   "source": [
    "from datascience import *\n",
    "from collections import Counter\n",
    "import numpy as np\n",
    "import pandas as pd\n",
    "from scipy import stats\n",
    "%matplotlib inline\n",
    "import matplotlib.pyplot as plots\n",
    "plots.style.use('fivethirtyeight')"
   ]
  },
  {
   "cell_type": "markdown",
   "metadata": {},
   "source": [
    "# Introduction\n",
    "In this lab, we aim to prepare students for prediction exercises in PSET 1 and PSET 2 by focusing on several key aspects of exploratory data analysis (EDA) and data manipulation using the Nashville police stops dataset. The objectives of this lab are as follows:\n",
    "\n",
    "**Data Cleaning**:\n",
    "(Continuing from Lab 3): We will continue the data cleaning process by addressing issues not covered in Lab 3. This includes handling missing values through imputation or dropping as appropriate. During the data cleaning process, we will refer to simple plot exercises, such as scatter plots, box plots, and histograms, to make data-driven decisions.\n",
    "\n",
    "**Summary Statistics**:\n",
    "We will compute and display summary statistics for relevant columns, particularly 'age' and 'year.' This includes calculating the mean and median for these columns and explaining their significance in the context of the dataset. Visualizations: We will create visualizations, including histograms for 'column1' and 'column2' columns, scatter plots to visualize relationships between specific variables, and box plots to display data distributions. Interpretations of these visualizations will be provided.\n",
    "\n",
    "**Aggregating Data**:\n",
    "We will introduce data aggregation using Python libraries like pandas. Techniques such as grouping data using the groupby function in pandas will be explored, along with examples of aggregating data to gain insights. We will also explain the use of pivot tables in pandas for data aggregation.\n",
    "\n",
    "**Time Series Analysis**:\n",
    "Introduce time series data analysis using a specific example from the dataset. We will analyze and visualize police stop trends over time, such as monthly or yearly trends, using time-specific data to demonstrate aggregation techniques. Line plots will be created to visualize time series data."
   ]
  },
  {
   "cell_type": "markdown",
   "metadata": {},
   "source": [
    "## Data Cleaning (Continuing from Lab 3)"
   ]
  },
  {
   "cell_type": "markdown",
   "metadata": {},
   "source": [
    "Load the Nashville police stops dataset.\n",
    "\n",
    "\n",
    "Continue data cleaning by addressing issues not covered in Lab 3.\n",
    "\n",
    "\n",
    "Handle missing values by either imputation or dropping, as appropriate.\n",
    "\n",
    "\n",
    "Referring to simple plot exercises (scatter, box, histogram) during the data cleaning process.\n",
    "Describe the dataset and its columns.\n",
    "\n",
    "\n",
    "Provide explanations for data cleaning decisions, emphasizing their impact on visualization and analysis."
   ]
  },
  {
   "cell_type": "code",
   "execution_count": 25,
   "metadata": {},
   "outputs": [
    {
     "name": "stderr",
     "output_type": "stream",
     "text": [
      "/Library/Frameworks/Python.framework/Versions/3.9/lib/python3.9/site-packages/IPython/core/interactiveshell.py:3444: DtypeWarning: Columns (6,8,15,16,17,22,23,24,25,29,30,31,32,33,35,36,37,38,40,41) have mixed types.Specify dtype option on import or set low_memory=False.\n",
      "  exec(code_obj, self.user_global_ns, self.user_ns)\n"
     ]
    },
    {
     "data": {
      "text/html": [
       "<div>\n",
       "<style scoped>\n",
       "    .dataframe tbody tr th:only-of-type {\n",
       "        vertical-align: middle;\n",
       "    }\n",
       "\n",
       "    .dataframe tbody tr th {\n",
       "        vertical-align: top;\n",
       "    }\n",
       "\n",
       "    .dataframe thead th {\n",
       "        text-align: right;\n",
       "    }\n",
       "</style>\n",
       "<table border=\"1\" class=\"dataframe\">\n",
       "  <thead>\n",
       "    <tr style=\"text-align: right;\">\n",
       "      <th></th>\n",
       "      <th>date</th>\n",
       "      <th>time</th>\n",
       "      <th>location</th>\n",
       "      <th>lat</th>\n",
       "      <th>lng</th>\n",
       "      <th>precinct</th>\n",
       "      <th>reporting_area</th>\n",
       "      <th>zone</th>\n",
       "      <th>subject_age</th>\n",
       "      <th>subject_race</th>\n",
       "      <th>...</th>\n",
       "      <th>raw_traffic_citation_issued</th>\n",
       "      <th>raw_misd_state_citation_issued</th>\n",
       "      <th>raw_suspect_ethnicity</th>\n",
       "      <th>raw_driver_searched</th>\n",
       "      <th>raw_passenger_searched</th>\n",
       "      <th>raw_search_consent</th>\n",
       "      <th>raw_search_arrest</th>\n",
       "      <th>raw_search_warrant</th>\n",
       "      <th>raw_search_inventory</th>\n",
       "      <th>raw_search_plain_view</th>\n",
       "    </tr>\n",
       "    <tr>\n",
       "      <th>raw_row_number</th>\n",
       "      <th></th>\n",
       "      <th></th>\n",
       "      <th></th>\n",
       "      <th></th>\n",
       "      <th></th>\n",
       "      <th></th>\n",
       "      <th></th>\n",
       "      <th></th>\n",
       "      <th></th>\n",
       "      <th></th>\n",
       "      <th></th>\n",
       "      <th></th>\n",
       "      <th></th>\n",
       "      <th></th>\n",
       "      <th></th>\n",
       "      <th></th>\n",
       "      <th></th>\n",
       "      <th></th>\n",
       "      <th></th>\n",
       "      <th></th>\n",
       "      <th></th>\n",
       "    </tr>\n",
       "  </thead>\n",
       "  <tbody>\n",
       "    <tr>\n",
       "      <th>232947</th>\n",
       "      <td>2010-10-10</td>\n",
       "      <td>NaN</td>\n",
       "      <td>DOMINICAN DR &amp; ROSA L PARKS BLVD, NASHVILLE, T...</td>\n",
       "      <td>36.187925</td>\n",
       "      <td>-86.798519</td>\n",
       "      <td>6.0</td>\n",
       "      <td>4403.0</td>\n",
       "      <td>611.0</td>\n",
       "      <td>27.0</td>\n",
       "      <td>black</td>\n",
       "      <td>...</td>\n",
       "      <td>False</td>\n",
       "      <td>NaN</td>\n",
       "      <td>N</td>\n",
       "      <td>False</td>\n",
       "      <td>False</td>\n",
       "      <td>False</td>\n",
       "      <td>False</td>\n",
       "      <td>False</td>\n",
       "      <td>False</td>\n",
       "      <td>False</td>\n",
       "    </tr>\n",
       "    <tr>\n",
       "      <th>237161</th>\n",
       "      <td>2010-10-10</td>\n",
       "      <td>36000.0</td>\n",
       "      <td>1122 LEBANON PIKE, NASHVILLE, TN, 37210</td>\n",
       "      <td>36.155521</td>\n",
       "      <td>-86.735902</td>\n",
       "      <td>5.0</td>\n",
       "      <td>9035.0</td>\n",
       "      <td>513.0</td>\n",
       "      <td>18.0</td>\n",
       "      <td>white</td>\n",
       "      <td>...</td>\n",
       "      <td>True</td>\n",
       "      <td>NaN</td>\n",
       "      <td>N</td>\n",
       "      <td>False</td>\n",
       "      <td>False</td>\n",
       "      <td>False</td>\n",
       "      <td>False</td>\n",
       "      <td>False</td>\n",
       "      <td>False</td>\n",
       "      <td>False</td>\n",
       "    </tr>\n",
       "    <tr>\n",
       "      <th>232902</th>\n",
       "      <td>2010-10-10</td>\n",
       "      <td>36000.0</td>\n",
       "      <td>898 DAVIDSON DR, , TN, 37205</td>\n",
       "      <td>36.117420</td>\n",
       "      <td>-86.895593</td>\n",
       "      <td>1.0</td>\n",
       "      <td>5005.0</td>\n",
       "      <td>121.0</td>\n",
       "      <td>52.0</td>\n",
       "      <td>white</td>\n",
       "      <td>...</td>\n",
       "      <td>False</td>\n",
       "      <td>NaN</td>\n",
       "      <td>N</td>\n",
       "      <td>False</td>\n",
       "      <td>False</td>\n",
       "      <td>False</td>\n",
       "      <td>False</td>\n",
       "      <td>False</td>\n",
       "      <td>False</td>\n",
       "      <td>False</td>\n",
       "    </tr>\n",
       "    <tr>\n",
       "      <th>233219</th>\n",
       "      <td>2010-10-10</td>\n",
       "      <td>79200.0</td>\n",
       "      <td>MURFREESBORO PIKE &amp; NASHBORO BLVD, ANTIOCH, TN...</td>\n",
       "      <td>36.086799</td>\n",
       "      <td>-86.648581</td>\n",
       "      <td>3.0</td>\n",
       "      <td>8891.0</td>\n",
       "      <td>325.0</td>\n",
       "      <td>25.0</td>\n",
       "      <td>white</td>\n",
       "      <td>...</td>\n",
       "      <td>False</td>\n",
       "      <td>NaN</td>\n",
       "      <td>N</td>\n",
       "      <td>False</td>\n",
       "      <td>False</td>\n",
       "      <td>False</td>\n",
       "      <td>False</td>\n",
       "      <td>False</td>\n",
       "      <td>False</td>\n",
       "      <td>False</td>\n",
       "    </tr>\n",
       "    <tr>\n",
       "      <th>232780</th>\n",
       "      <td>2010-10-10</td>\n",
       "      <td>3600.0</td>\n",
       "      <td>BUCHANAN ST, NORTH, TN, 37208</td>\n",
       "      <td>36.180038</td>\n",
       "      <td>-86.809109</td>\n",
       "      <td>NaN</td>\n",
       "      <td>NaN</td>\n",
       "      <td>NaN</td>\n",
       "      <td>21.0</td>\n",
       "      <td>black</td>\n",
       "      <td>...</td>\n",
       "      <td>False</td>\n",
       "      <td>NaN</td>\n",
       "      <td>N</td>\n",
       "      <td>True</td>\n",
       "      <td>True</td>\n",
       "      <td>False</td>\n",
       "      <td>False</td>\n",
       "      <td>False</td>\n",
       "      <td>False</td>\n",
       "      <td>False</td>\n",
       "    </tr>\n",
       "  </tbody>\n",
       "</table>\n",
       "<p>5 rows × 41 columns</p>\n",
       "</div>"
      ],
      "text/plain": [
       "                      date     time  \\\n",
       "raw_row_number                        \n",
       "232947          2010-10-10      NaN   \n",
       "237161          2010-10-10  36000.0   \n",
       "232902          2010-10-10  36000.0   \n",
       "233219          2010-10-10  79200.0   \n",
       "232780          2010-10-10   3600.0   \n",
       "\n",
       "                                                         location        lat  \\\n",
       "raw_row_number                                                                 \n",
       "232947          DOMINICAN DR & ROSA L PARKS BLVD, NASHVILLE, T...  36.187925   \n",
       "237161                    1122 LEBANON PIKE, NASHVILLE, TN, 37210  36.155521   \n",
       "232902                               898 DAVIDSON DR, , TN, 37205  36.117420   \n",
       "233219          MURFREESBORO PIKE & NASHBORO BLVD, ANTIOCH, TN...  36.086799   \n",
       "232780                              BUCHANAN ST, NORTH, TN, 37208  36.180038   \n",
       "\n",
       "                      lng precinct  reporting_area   zone  subject_age  \\\n",
       "raw_row_number                                                           \n",
       "232947         -86.798519      6.0          4403.0  611.0         27.0   \n",
       "237161         -86.735902      5.0          9035.0  513.0         18.0   \n",
       "232902         -86.895593      1.0          5005.0  121.0         52.0   \n",
       "233219         -86.648581      3.0          8891.0  325.0         25.0   \n",
       "232780         -86.809109      NaN             NaN    NaN         21.0   \n",
       "\n",
       "               subject_race  ... raw_traffic_citation_issued  \\\n",
       "raw_row_number               ...                               \n",
       "232947                black  ...                       False   \n",
       "237161                white  ...                        True   \n",
       "232902                white  ...                       False   \n",
       "233219                white  ...                       False   \n",
       "232780                black  ...                       False   \n",
       "\n",
       "               raw_misd_state_citation_issued raw_suspect_ethnicity  \\\n",
       "raw_row_number                                                        \n",
       "232947                                    NaN                     N   \n",
       "237161                                    NaN                     N   \n",
       "232902                                    NaN                     N   \n",
       "233219                                    NaN                     N   \n",
       "232780                                    NaN                     N   \n",
       "\n",
       "               raw_driver_searched raw_passenger_searched raw_search_consent  \\\n",
       "raw_row_number                                                                 \n",
       "232947                       False                  False              False   \n",
       "237161                       False                  False              False   \n",
       "232902                       False                  False              False   \n",
       "233219                       False                  False              False   \n",
       "232780                        True                   True              False   \n",
       "\n",
       "               raw_search_arrest raw_search_warrant raw_search_inventory  \\\n",
       "raw_row_number                                                             \n",
       "232947                     False              False                False   \n",
       "237161                     False              False                False   \n",
       "232902                     False              False                False   \n",
       "233219                     False              False                False   \n",
       "232780                     False              False                False   \n",
       "\n",
       "               raw_search_plain_view  \n",
       "raw_row_number                        \n",
       "232947                         False  \n",
       "237161                         False  \n",
       "232902                         False  \n",
       "233219                         False  \n",
       "232780                         False  \n",
       "\n",
       "[5 rows x 41 columns]"
      ]
     },
     "execution_count": 25,
     "metadata": {},
     "output_type": "execute_result"
    }
   ],
   "source": [
    "# load the data\n",
    "user = \"suminpark\" #insert your user name\n",
    "path = \"/Users/\" + user +  \"/Documents/GitHub/Modules/Legalst-123/labs/data\"\n",
    "stops = pd.read_csv(path + \"/nashville.txt\", index_col = 0)\n",
    "stops.head()"
   ]
  },
  {
   "cell_type": "markdown",
   "metadata": {},
   "source": [
    "## Summary Statistics"
   ]
  },
  {
   "cell_type": "markdown",
   "metadata": {},
   "source": [
    "Compute and display summary statistics for relevant columns, such as 'age' and 'year.'\n",
    "\n",
    "Calculate the mean and median for these columns.\n",
    "\n",
    "Explain the significance of mean and median in the context of the dataset."
   ]
  },
  {
   "cell_type": "markdown",
   "metadata": {},
   "source": [
    "## Exploratory Data Analysis"
   ]
  },
  {
   "cell_type": "markdown",
   "metadata": {},
   "source": [
    "### 1. Visualizations"
   ]
  },
  {
   "cell_type": "markdown",
   "metadata": {},
   "source": [
    "#### **1.1 Histograms:** Create histograms for 'column1' and 'column2' columns."
   ]
  },
  {
   "cell_type": "markdown",
   "metadata": {},
   "source": [
    "Interpret the distributions of these variables."
   ]
  },
  {
   "cell_type": "code",
   "execution_count": 30,
   "metadata": {},
   "outputs": [],
   "source": [
    "# HISTOGRAM CODE"
   ]
  },
  {
   "cell_type": "markdown",
   "metadata": {},
   "source": [
    "#### **1.2 Scatter Plots:** Generate sccatter plots to visualize relationships between specific variables. "
   ]
  },
  {
   "cell_type": "markdown",
   "metadata": {},
   "source": [
    "Discuss any insights gained from scatter plots."
   ]
  },
  {
   "cell_type": "code",
   "execution_count": 29,
   "metadata": {},
   "outputs": [],
   "source": [
    "# SCATTER CODE"
   ]
  },
  {
   "cell_type": "markdown",
   "metadata": {},
   "source": [
    "#### 1.3 **Box Plots:** Create a box plots for relevant columns. "
   ]
  },
  {
   "cell_type": "markdown",
   "metadata": {},
   "source": [
    "Explain the concept of box plots and their use in displaying data distributions. Interpret the box plots and identify outliers if present. What is the shape of the plot?"
   ]
  },
  {
   "cell_type": "code",
   "execution_count": 35,
   "metadata": {},
   "outputs": [],
   "source": [
    "# BOX CODE"
   ]
  },
  {
   "cell_type": "markdown",
   "metadata": {},
   "source": [
    "### 2. Aggregating Data: "
   ]
  },
  {
   "cell_type": "markdown",
   "metadata": {},
   "source": [
    "Introduction to aggregating data using Python libraries like pandas.\n",
    "\n",
    "Explore techniques such as grouping data using the groupby function in pandas.\n",
    "\n",
    "Provide examples of aggregating data to gain insights.\n",
    "\n",
    "Explain the use of pivot tables in pandas for data aggregation"
   ]
  },
  {
   "cell_type": "code",
   "execution_count": 33,
   "metadata": {},
   "outputs": [],
   "source": [
    "# HERE"
   ]
  },
  {
   "cell_type": "markdown",
   "metadata": {},
   "source": [
    "### 3. Time Series Analysis: \n",
    "Introduce time series data analysis using a specific example from the dataset.\n",
    "\n",
    "Analyze and visualize police stop trends over time (e.g., monthly or yearly).\n",
    "\n",
    "Use time-specific data to demonstrate aggregation techniques.\n",
    "\n",
    "Create line plots to visualize time series data."
   ]
  },
  {
   "cell_type": "code",
   "execution_count": 32,
   "metadata": {},
   "outputs": [],
   "source": [
    "# HERE"
   ]
  },
  {
   "cell_type": "markdown",
   "metadata": {},
   "source": [
    "## Conclusion "
   ]
  },
  {
   "cell_type": "markdown",
   "metadata": {},
   "source": [
    "Summarize key findings from the data analysis. Discuss insights or patterns observed during the analysis.\n",
    "\n",
    "Reflect on the importance of data cleaning, summary statistics, visualization, and data aggregation in exploratory data analysis.\n",
    "\n"
   ]
  },
  {
   "cell_type": "code",
   "execution_count": 31,
   "metadata": {},
   "outputs": [],
   "source": [
    "# HERE"
   ]
  },
  {
   "cell_type": "markdown",
   "metadata": {},
   "source": [
    "## References"
   ]
  },
  {
   "cell_type": "markdown",
   "metadata": {},
   "source": [
    "Include references or data sources used in the lab, such as the Stanford traffic stop data library and relevant documents related to Nashville policing practices for traffic stops."
   ]
  },
  {
   "cell_type": "markdown",
   "metadata": {},
   "source": []
  }
 ],
 "metadata": {
  "kernelspec": {
   "display_name": "Python 3.9.0 64-bit",
   "language": "python",
   "name": "python3"
  },
  "language_info": {
   "codemirror_mode": {
    "name": "ipython",
    "version": 3
   },
   "file_extension": ".py",
   "mimetype": "text/x-python",
   "name": "python",
   "nbconvert_exporter": "python",
   "pygments_lexer": "ipython3",
   "version": "3.9.0"
  },
  "vscode": {
   "interpreter": {
    "hash": "aee8b7b246df8f9039afb4144a1f6fd8d2ca17a180786b69acc140d282b71a49"
   }
  }
 },
 "nbformat": 4,
 "nbformat_minor": 2
}
