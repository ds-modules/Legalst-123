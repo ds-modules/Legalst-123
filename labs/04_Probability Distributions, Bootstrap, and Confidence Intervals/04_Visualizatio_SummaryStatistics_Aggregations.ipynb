{
 "cells": [
  {
   "cell_type": "markdown",
   "metadata": {},
   "source": [
    "# [LEGALST-123] Lab 04: Summary Statistics & Aggregating Data & Visualizations"
   ]
  },
  {
   "cell_type": "code",
   "execution_count": 472,
   "metadata": {},
   "outputs": [],
   "source": [
    "from datascience import *\n",
    "from collections import Counter\n",
    "import numpy as np\n",
    "import pandas as pd\n",
    "from scipy import stats\n",
    "%matplotlib inline\n",
    "import matplotlib.pyplot as plt\n",
    "plots.style.use('fivethirtyeight')"
   ]
  },
  {
   "cell_type": "markdown",
   "metadata": {},
   "source": [
    "COMMENTED OUT PAST INTRODUCTION IN THIS CELL [click the Markdown cell to see]\n",
    "\n",
    "<!-- # Introduction\n",
    "In this lab, we aim to prepare students for prediction exercises in PSET 1 and PSET 2 by focusing on several key aspects of exploratory data analysis (EDA) and data manipulation using the Nashville police stops dataset. The objectives of this lab are as follows:\n",
    "\n",
    "**Summary Statistics**:\n",
    "We will compute and display summary statistics for relevant columns, particularly 'age' and 'year.' This includes calculating the mean and median for these columns and explaining their significance in the context of the dataset. Visualizations: We will create visualizations, including histograms for 'column1' and 'column2' columns, scatter plots to visualize relationships between specific variables, and box plots to display data distributions. Interpretations of these visualizations will be provided.\n",
    "\n",
    "**Aggregating Data**:\n",
    "We will introduce data aggregation using Python libraries like pandas. Techniques such as grouping data using the groupby function in pandas will be explored, along with examples of aggregating data to gain insights. We will also explain the use of pivot tables in pandas for data aggregation.\n",
    "\n",
    "**Time Series Analysis**:\n",
    "Introduce time series data analysis using a specific example from the dataset. We will analyze and visualize police stop trends over time, such as monthly or yearly trends, using time-specific data to demonstrate aggregation techniques. Line plots will be created to visualize time series data. -->\n"
   ]
  },
  {
   "cell_type": "markdown",
   "metadata": {},
   "source": [
    "[Reorganized Version]\n",
    "# Introduction\n",
    "In this lab, we aim to prepare students for prediction exercises in PSET 1 and PSET 2 by focusing on several key aspects of exploratory data analysis (EDA) and data manipulation using the Nashville police stops dataset. The objectives of this lab are as follows:\n",
    "\n",
    "**Summary Statistics**: \n",
    "We will introduce the basic skills to explore data, and review how to clean our data including how to handle the missing data. In this section, we will find summary statistics using built-in functions in Python libaries like pandas. \n",
    "\n",
    "**Aggregating Data**:\n",
    "We will introduce data aggregation using Python libraries like pandas. Techniques such as grouping data using the groupby function in pandas will be explored, along with examples of aggregating data to gain insights. We will also explain the use of pivot tables in pandas for data aggregation. By exploring the aggregation, we will calculate our own summary statistics for relevant columns, particulary 'age' and 'year.' This includes calculating the mean and median for these columns and explaining their significance in the context of the dataset.\n",
    "\n",
    "**Visualizations**: \n",
    "We will introduce different ways in which to understand the data with appropriate visualization tools, such as histograms, line plots, bar charts, and box plots. We will also specifically dive into *\"Time Series Analysis\"*, analyzing and visualizing police stops trends over time. By the end of the section, student should gain understanding of creating visualizations on discrete, continuous, and time-specific data. "
   ]
  },
  {
   "cell_type": "markdown",
   "metadata": {},
   "source": [
    "<br/>\n",
    "\n",
    "<hr style=\"border: 1px solid #fdb515;\" />"
   ]
  },
  {
   "cell_type": "markdown",
   "metadata": {},
   "source": [
    "## Summary Statistics"
   ]
  },
  {
   "cell_type": "markdown",
   "metadata": {},
   "source": [
    "### Part 1: Acquiring Data"
   ]
  },
  {
   "cell_type": "markdown",
   "metadata": {},
   "source": [
    "To retrive the dataset, we will now load the CSV file we have into a `pandas.DataFrame` object and start exploring the data!\n",
    "We will use `path` vairable to traverse to the directory where our CSV file is located and use `pd.read_csv` to read our view our files!"
   ]
  },
  {
   "cell_type": "code",
   "execution_count": 473,
   "metadata": {},
   "outputs": [
    {
     "data": {
      "text/html": [
       "<div>\n",
       "<style scoped>\n",
       "    .dataframe tbody tr th:only-of-type {\n",
       "        vertical-align: middle;\n",
       "    }\n",
       "\n",
       "    .dataframe tbody tr th {\n",
       "        vertical-align: top;\n",
       "    }\n",
       "\n",
       "    .dataframe thead th {\n",
       "        text-align: right;\n",
       "    }\n",
       "</style>\n",
       "<table border=\"1\" class=\"dataframe\">\n",
       "  <thead>\n",
       "    <tr style=\"text-align: right;\">\n",
       "      <th></th>\n",
       "      <th>index</th>\n",
       "      <th>raw_row_number</th>\n",
       "      <th>date</th>\n",
       "      <th>time</th>\n",
       "      <th>location</th>\n",
       "      <th>lat</th>\n",
       "      <th>lng</th>\n",
       "      <th>precinct</th>\n",
       "      <th>reporting_area</th>\n",
       "      <th>zone</th>\n",
       "      <th>...</th>\n",
       "      <th>raw_traffic_citation_issued</th>\n",
       "      <th>raw_misd_state_citation_issued</th>\n",
       "      <th>raw_suspect_ethnicity</th>\n",
       "      <th>raw_driver_searched</th>\n",
       "      <th>raw_passenger_searched</th>\n",
       "      <th>raw_search_consent</th>\n",
       "      <th>raw_search_arrest</th>\n",
       "      <th>raw_search_warrant</th>\n",
       "      <th>raw_search_inventory</th>\n",
       "      <th>raw_search_plain_view</th>\n",
       "    </tr>\n",
       "  </thead>\n",
       "  <tbody>\n",
       "    <tr>\n",
       "      <th>0</th>\n",
       "      <td>1840907</td>\n",
       "      <td>93347</td>\n",
       "      <td>2010-04-18</td>\n",
       "      <td>13140.0</td>\n",
       "      <td>BURGESS AVE &amp; WHITE BRIDGE PIKE, NASHVILLE, TN...</td>\n",
       "      <td>36.145004</td>\n",
       "      <td>-86.857970</td>\n",
       "      <td>1.0</td>\n",
       "      <td>5103.0</td>\n",
       "      <td>113.0</td>\n",
       "      <td>...</td>\n",
       "      <td>False</td>\n",
       "      <td>NaN</td>\n",
       "      <td>N</td>\n",
       "      <td>False</td>\n",
       "      <td>False</td>\n",
       "      <td>False</td>\n",
       "      <td>False</td>\n",
       "      <td>False</td>\n",
       "      <td>False</td>\n",
       "      <td>False</td>\n",
       "    </tr>\n",
       "    <tr>\n",
       "      <th>1</th>\n",
       "      <td>492044</td>\n",
       "      <td>2001428</td>\n",
       "      <td>2015-01-19</td>\n",
       "      <td>19920.0</td>\n",
       "      <td>DUE WEST AVE W &amp; S GRAYCROFT AVE, MADISON, TN,...</td>\n",
       "      <td>36.249187</td>\n",
       "      <td>-86.734459</td>\n",
       "      <td>7.0</td>\n",
       "      <td>1797.0</td>\n",
       "      <td>723.0</td>\n",
       "      <td>...</td>\n",
       "      <td>False</td>\n",
       "      <td>False</td>\n",
       "      <td>N</td>\n",
       "      <td>False</td>\n",
       "      <td>False</td>\n",
       "      <td>False</td>\n",
       "      <td>False</td>\n",
       "      <td>False</td>\n",
       "      <td>False</td>\n",
       "      <td>False</td>\n",
       "    </tr>\n",
       "    <tr>\n",
       "      <th>2</th>\n",
       "      <td>431170</td>\n",
       "      <td>1996331</td>\n",
       "      <td>2015-01-15</td>\n",
       "      <td>1020.0</td>\n",
       "      <td>S GALLATIN PIKE &amp; MADISON BLVD, MADISON, TN, 3...</td>\n",
       "      <td>36.254979</td>\n",
       "      <td>-86.715246</td>\n",
       "      <td>7.0</td>\n",
       "      <td>1623.0</td>\n",
       "      <td>711.0</td>\n",
       "      <td>...</td>\n",
       "      <td>False</td>\n",
       "      <td>False</td>\n",
       "      <td>N</td>\n",
       "      <td>False</td>\n",
       "      <td>False</td>\n",
       "      <td>False</td>\n",
       "      <td>False</td>\n",
       "      <td>False</td>\n",
       "      <td>False</td>\n",
       "      <td>False</td>\n",
       "    </tr>\n",
       "    <tr>\n",
       "      <th>3</th>\n",
       "      <td>2066423</td>\n",
       "      <td>1319451</td>\n",
       "      <td>2013-05-17</td>\n",
       "      <td>62760.0</td>\n",
       "      <td>CHARLOTTE PIKE &amp; W HILLWOOD DR, NASHVILLE, TN,...</td>\n",
       "      <td>36.139093</td>\n",
       "      <td>-86.880533</td>\n",
       "      <td>1.0</td>\n",
       "      <td>5009.0</td>\n",
       "      <td>123.0</td>\n",
       "      <td>...</td>\n",
       "      <td>False</td>\n",
       "      <td>False</td>\n",
       "      <td>N</td>\n",
       "      <td>False</td>\n",
       "      <td>False</td>\n",
       "      <td>False</td>\n",
       "      <td>False</td>\n",
       "      <td>False</td>\n",
       "      <td>False</td>\n",
       "      <td>False</td>\n",
       "    </tr>\n",
       "    <tr>\n",
       "      <th>4</th>\n",
       "      <td>2899480</td>\n",
       "      <td>201349</td>\n",
       "      <td>2010-09-01</td>\n",
       "      <td>28140.0</td>\n",
       "      <td>BELL RD &amp; DODSON CHAPEL RD, HERMITAGE, TN, 37076</td>\n",
       "      <td>36.163310</td>\n",
       "      <td>-86.613147</td>\n",
       "      <td>5.0</td>\n",
       "      <td>9501.0</td>\n",
       "      <td>521.0</td>\n",
       "      <td>...</td>\n",
       "      <td>False</td>\n",
       "      <td>NaN</td>\n",
       "      <td>N</td>\n",
       "      <td>False</td>\n",
       "      <td>False</td>\n",
       "      <td>False</td>\n",
       "      <td>False</td>\n",
       "      <td>False</td>\n",
       "      <td>False</td>\n",
       "      <td>False</td>\n",
       "    </tr>\n",
       "  </tbody>\n",
       "</table>\n",
       "<p>5 rows × 43 columns</p>\n",
       "</div>"
      ],
      "text/plain": [
       "     index raw_row_number        date     time  \\\n",
       "0  1840907          93347  2010-04-18  13140.0   \n",
       "1   492044        2001428  2015-01-19  19920.0   \n",
       "2   431170        1996331  2015-01-15   1020.0   \n",
       "3  2066423        1319451  2013-05-17  62760.0   \n",
       "4  2899480         201349  2010-09-01  28140.0   \n",
       "\n",
       "                                            location        lat        lng  \\\n",
       "0  BURGESS AVE & WHITE BRIDGE PIKE, NASHVILLE, TN...  36.145004 -86.857970   \n",
       "1  DUE WEST AVE W & S GRAYCROFT AVE, MADISON, TN,...  36.249187 -86.734459   \n",
       "2  S GALLATIN PIKE & MADISON BLVD, MADISON, TN, 3...  36.254979 -86.715246   \n",
       "3  CHARLOTTE PIKE & W HILLWOOD DR, NASHVILLE, TN,...  36.139093 -86.880533   \n",
       "4   BELL RD & DODSON CHAPEL RD, HERMITAGE, TN, 37076  36.163310 -86.613147   \n",
       "\n",
       "   precinct  reporting_area   zone  ...  raw_traffic_citation_issued  \\\n",
       "0       1.0          5103.0  113.0  ...                        False   \n",
       "1       7.0          1797.0  723.0  ...                        False   \n",
       "2       7.0          1623.0  711.0  ...                        False   \n",
       "3       1.0          5009.0  123.0  ...                        False   \n",
       "4       5.0          9501.0  521.0  ...                        False   \n",
       "\n",
       "  raw_misd_state_citation_issued raw_suspect_ethnicity raw_driver_searched  \\\n",
       "0                            NaN                     N               False   \n",
       "1                          False                     N               False   \n",
       "2                          False                     N               False   \n",
       "3                          False                     N               False   \n",
       "4                            NaN                     N               False   \n",
       "\n",
       "  raw_passenger_searched raw_search_consent  raw_search_arrest  \\\n",
       "0                  False              False              False   \n",
       "1                  False              False              False   \n",
       "2                  False              False              False   \n",
       "3                  False              False              False   \n",
       "4                  False              False              False   \n",
       "\n",
       "   raw_search_warrant  raw_search_inventory raw_search_plain_view  \n",
       "0               False                 False                 False  \n",
       "1               False                 False                 False  \n",
       "2               False                 False                 False  \n",
       "3               False                 False                 False  \n",
       "4               False                 False                 False  \n",
       "\n",
       "[5 rows x 43 columns]"
      ]
     },
     "execution_count": 473,
     "metadata": {},
     "output_type": "execute_result"
    }
   ],
   "source": [
    "user = \"suminpark\" #insert your user name\n",
    "path = \"/Users/\" + user +  \"/Documents/GitHub/Modules/Legalst-123/labs/data\" #edit this later for the actual lab. \n",
    "# user = \"fionaaaaa_mei\" #insert your user name\n",
    "# path = \"/Users/\" + user +  \"/Documents/GitHub/Legalst-123/labs/data\" #edit this later for the actual lab. \n",
    "stops = pd.read_csv(path + \"/stops_sample.csv\", index_col = 0)\n",
    "stops.head()"
   ]
  },
  {
   "cell_type": "markdown",
   "metadata": {},
   "source": [
    "### Part 2: Clean and Explore the Data"
   ]
  },
  {
   "cell_type": "markdown",
   "metadata": {},
   "source": [
    "From loading our csv file and using `.head()`, we see that the fields include variables such as the longitude and latitude, the subject's race/age,  and the date and time of the offense.\n",
    "\n",
    "Let's also check some basic information about this DataFrame using the `DataFrame.info` ([documentation](https://pandas.pydata.org/pandas-docs/stable/reference/api/pandas.DataFrame.info.html)) and `DataFrame.describe` methods ([documentation](https://pandas.pydata.org/pandas-docs/stable/reference/api/pandas.DataFrame.describe.html))."
   ]
  },
  {
   "cell_type": "code",
   "execution_count": 474,
   "metadata": {},
   "outputs": [
    {
     "data": {
      "text/html": [
       "<div>\n",
       "<style scoped>\n",
       "    .dataframe tbody tr th:only-of-type {\n",
       "        vertical-align: middle;\n",
       "    }\n",
       "\n",
       "    .dataframe tbody tr th {\n",
       "        vertical-align: top;\n",
       "    }\n",
       "\n",
       "    .dataframe thead th {\n",
       "        text-align: right;\n",
       "    }\n",
       "</style>\n",
       "<table border=\"1\" class=\"dataframe\">\n",
       "  <thead>\n",
       "    <tr style=\"text-align: right;\">\n",
       "      <th></th>\n",
       "      <th>index</th>\n",
       "      <th>time</th>\n",
       "      <th>lat</th>\n",
       "      <th>lng</th>\n",
       "      <th>precinct</th>\n",
       "      <th>reporting_area</th>\n",
       "      <th>zone</th>\n",
       "      <th>subject_age</th>\n",
       "    </tr>\n",
       "  </thead>\n",
       "  <tbody>\n",
       "    <tr>\n",
       "      <th>count</th>\n",
       "      <td>1.000000e+03</td>\n",
       "      <td>996.000000</td>\n",
       "      <td>940.000000</td>\n",
       "      <td>940.000000</td>\n",
       "      <td>887.000000</td>\n",
       "      <td>903.000000</td>\n",
       "      <td>887.000000</td>\n",
       "      <td>999.000000</td>\n",
       "    </tr>\n",
       "    <tr>\n",
       "      <th>mean</th>\n",
       "      <td>1.491263e+06</td>\n",
       "      <td>47195.963855</td>\n",
       "      <td>36.146446</td>\n",
       "      <td>-86.762884</td>\n",
       "      <td>4.401353</td>\n",
       "      <td>7770.545958</td>\n",
       "      <td>460.828636</td>\n",
       "      <td>36.811812</td>\n",
       "    </tr>\n",
       "    <tr>\n",
       "      <th>std</th>\n",
       "      <td>8.823683e+05</td>\n",
       "      <td>24555.357937</td>\n",
       "      <td>0.115117</td>\n",
       "      <td>0.376956</td>\n",
       "      <td>2.248430</td>\n",
       "      <td>12490.193085</td>\n",
       "      <td>225.863415</td>\n",
       "      <td>13.748406</td>\n",
       "    </tr>\n",
       "    <tr>\n",
       "      <th>min</th>\n",
       "      <td>1.425000e+03</td>\n",
       "      <td>60.000000</td>\n",
       "      <td>33.522888</td>\n",
       "      <td>-97.407823</td>\n",
       "      <td>1.000000</td>\n",
       "      <td>889.000000</td>\n",
       "      <td>111.000000</td>\n",
       "      <td>16.000000</td>\n",
       "    </tr>\n",
       "    <tr>\n",
       "      <th>25%</th>\n",
       "      <td>7.216352e+05</td>\n",
       "      <td>30660.000000</td>\n",
       "      <td>36.109700</td>\n",
       "      <td>-86.789033</td>\n",
       "      <td>2.000000</td>\n",
       "      <td>3020.000000</td>\n",
       "      <td>227.000000</td>\n",
       "      <td>26.000000</td>\n",
       "    </tr>\n",
       "    <tr>\n",
       "      <th>50%</th>\n",
       "      <td>1.456574e+06</td>\n",
       "      <td>48810.000000</td>\n",
       "      <td>36.154908</td>\n",
       "      <td>-86.751799</td>\n",
       "      <td>4.000000</td>\n",
       "      <td>5501.000000</td>\n",
       "      <td>425.000000</td>\n",
       "      <td>34.000000</td>\n",
       "    </tr>\n",
       "    <tr>\n",
       "      <th>75%</th>\n",
       "      <td>2.282808e+06</td>\n",
       "      <td>67755.000000</td>\n",
       "      <td>36.190809</td>\n",
       "      <td>-86.703740</td>\n",
       "      <td>6.000000</td>\n",
       "      <td>8815.000000</td>\n",
       "      <td>621.000000</td>\n",
       "      <td>46.000000</td>\n",
       "    </tr>\n",
       "    <tr>\n",
       "      <th>max</th>\n",
       "      <td>3.091709e+06</td>\n",
       "      <td>86280.000000</td>\n",
       "      <td>36.373107</td>\n",
       "      <td>-84.751067</td>\n",
       "      <td>8.000000</td>\n",
       "      <td>95020.000000</td>\n",
       "      <td>835.000000</td>\n",
       "      <td>82.000000</td>\n",
       "    </tr>\n",
       "  </tbody>\n",
       "</table>\n",
       "</div>"
      ],
      "text/plain": [
       "              index          time         lat         lng    precinct  \\\n",
       "count  1.000000e+03    996.000000  940.000000  940.000000  887.000000   \n",
       "mean   1.491263e+06  47195.963855   36.146446  -86.762884    4.401353   \n",
       "std    8.823683e+05  24555.357937    0.115117    0.376956    2.248430   \n",
       "min    1.425000e+03     60.000000   33.522888  -97.407823    1.000000   \n",
       "25%    7.216352e+05  30660.000000   36.109700  -86.789033    2.000000   \n",
       "50%    1.456574e+06  48810.000000   36.154908  -86.751799    4.000000   \n",
       "75%    2.282808e+06  67755.000000   36.190809  -86.703740    6.000000   \n",
       "max    3.091709e+06  86280.000000   36.373107  -84.751067    8.000000   \n",
       "\n",
       "       reporting_area        zone  subject_age  \n",
       "count      903.000000  887.000000   999.000000  \n",
       "mean      7770.545958  460.828636    36.811812  \n",
       "std      12490.193085  225.863415    13.748406  \n",
       "min        889.000000  111.000000    16.000000  \n",
       "25%       3020.000000  227.000000    26.000000  \n",
       "50%       5501.000000  425.000000    34.000000  \n",
       "75%       8815.000000  621.000000    46.000000  \n",
       "max      95020.000000  835.000000    82.000000  "
      ]
     },
     "execution_count": 474,
     "metadata": {},
     "output_type": "execute_result"
    }
   ],
   "source": [
    "#the describe function computes summary statistics for the entire dataframe \n",
    "#indexed by the columns so we havethe case number column and we have the cv column \n",
    "#and what our you know describefunction is returning is a data frame with indices as the summary statistics of the numerical columns in our data set\n",
    "stops.describe()"
   ]
  },
  {
   "cell_type": "code",
   "execution_count": 475,
   "metadata": {},
   "outputs": [
    {
     "name": "stdout",
     "output_type": "stream",
     "text": [
      "<class 'pandas.core.frame.DataFrame'>\n",
      "Int64Index: 1000 entries, 0 to 999\n",
      "Data columns (total 43 columns):\n",
      " #   Column                          Non-Null Count  Dtype  \n",
      "---  ------                          --------------  -----  \n",
      " 0   index                           1000 non-null   int64  \n",
      " 1   raw_row_number                  1000 non-null   object \n",
      " 2   date                            1000 non-null   object \n",
      " 3   time                            996 non-null    float64\n",
      " 4   location                        1000 non-null   object \n",
      " 5   lat                             940 non-null    float64\n",
      " 6   lng                             940 non-null    float64\n",
      " 7   precinct                        887 non-null    float64\n",
      " 8   reporting_area                  903 non-null    float64\n",
      " 9   zone                            887 non-null    float64\n",
      " 10  subject_age                     999 non-null    float64\n",
      " 11  subject_race                    1000 non-null   object \n",
      " 12  subject_sex                     998 non-null    object \n",
      " 13  officer_id_hash                 1000 non-null   object \n",
      " 14  type                            1000 non-null   object \n",
      " 15  violation                       998 non-null    object \n",
      " 16  arrest_made                     1000 non-null   bool   \n",
      " 17  citation_issued                 1000 non-null   bool   \n",
      " 18  warning_issued                  1000 non-null   bool   \n",
      " 19  outcome                         999 non-null    object \n",
      " 20  contraband_found                40 non-null     object \n",
      " 21  contraband_drugs                40 non-null     object \n",
      " 22  contraband_weapons              40 non-null     object \n",
      " 23  frisk_performed                 1000 non-null   bool   \n",
      " 24  search_conducted                1000 non-null   bool   \n",
      " 25  search_person                   1000 non-null   bool   \n",
      " 26  search_vehicle                  1000 non-null   bool   \n",
      " 27  search_basis                    40 non-null     object \n",
      " 28  reason_for_stop                 998 non-null    object \n",
      " 29  vehicle_registration_state      987 non-null    object \n",
      " 30  notes                           172 non-null    object \n",
      " 31  raw_verbal_warning_issued       1000 non-null   bool   \n",
      " 32  raw_written_warning_issued      824 non-null    object \n",
      " 33  raw_traffic_citation_issued     1000 non-null   bool   \n",
      " 34  raw_misd_state_citation_issued  780 non-null    object \n",
      " 35  raw_suspect_ethnicity           1000 non-null   object \n",
      " 36  raw_driver_searched             1000 non-null   bool   \n",
      " 37  raw_passenger_searched          1000 non-null   bool   \n",
      " 38  raw_search_consent              1000 non-null   bool   \n",
      " 39  raw_search_arrest               1000 non-null   bool   \n",
      " 40  raw_search_warrant              1000 non-null   bool   \n",
      " 41  raw_search_inventory            1000 non-null   bool   \n",
      " 42  raw_search_plain_view           1000 non-null   bool   \n",
      "dtypes: bool(16), float64(7), int64(1), object(19)\n",
      "memory usage: 234.4+ KB\n"
     ]
    }
   ],
   "source": [
    "# df.info() displays\n",
    "# name and type of each column, \n",
    "# number of non-null entries, and \n",
    "# size of dataframe\n",
    "stops.info()"
   ]
  },
  {
   "cell_type": "markdown",
   "metadata": {},
   "source": [
    "Note that each columns sometimes different count of non-null counts. For instance, `raw_row_number` column has 1000 non-null counts while `zone` has only 887 non-null counts. This is because the `.info()` method only counts non-null entries. \n",
    "\n",
    "Other methods to check null values are using the `.isna()` or `.isnull()`, where you can apply them to the column Series itself or use `.sum()` after to check all columns null values."
   ]
  },
  {
   "cell_type": "code",
   "execution_count": 476,
   "metadata": {},
   "outputs": [
    {
     "data": {
      "text/plain": [
       "index                               0\n",
       "raw_row_number                      0\n",
       "date                                0\n",
       "time                                4\n",
       "location                            0\n",
       "lat                                60\n",
       "lng                                60\n",
       "precinct                          113\n",
       "reporting_area                     97\n",
       "zone                              113\n",
       "subject_age                         1\n",
       "subject_race                        0\n",
       "subject_sex                         2\n",
       "officer_id_hash                     0\n",
       "type                                0\n",
       "violation                           2\n",
       "arrest_made                         0\n",
       "citation_issued                     0\n",
       "warning_issued                      0\n",
       "outcome                             1\n",
       "contraband_found                  960\n",
       "contraband_drugs                  960\n",
       "contraband_weapons                960\n",
       "frisk_performed                     0\n",
       "search_conducted                    0\n",
       "search_person                       0\n",
       "search_vehicle                      0\n",
       "search_basis                      960\n",
       "reason_for_stop                     2\n",
       "vehicle_registration_state         13\n",
       "notes                             828\n",
       "raw_verbal_warning_issued           0\n",
       "raw_written_warning_issued        176\n",
       "raw_traffic_citation_issued         0\n",
       "raw_misd_state_citation_issued    220\n",
       "raw_suspect_ethnicity               0\n",
       "raw_driver_searched                 0\n",
       "raw_passenger_searched              0\n",
       "raw_search_consent                  0\n",
       "raw_search_arrest                   0\n",
       "raw_search_warrant                  0\n",
       "raw_search_inventory                0\n",
       "raw_search_plain_view               0\n",
       "dtype: int64"
      ]
     },
     "execution_count": 476,
     "metadata": {},
     "output_type": "execute_result"
    }
   ],
   "source": [
    "stops.isna().sum()"
   ]
  },
  {
   "cell_type": "markdown",
   "metadata": {},
   "source": [
    "We can see that there are only some columns with only a few null-values, but certain columns (`contraband_found`, `contraband_drugs`, etc) with a lot more null-values. We want to investigate this further, but first let's drop some unnessary columns so we can explore better.\n",
    "\n",
    "We won't be needing any columns with starting with \"raw_\" so let's drop all these columns using `.drop` ([documentation](https://pandas.pydata.org/docs/reference/api/pandas.DataFrame.drop.html))."
   ]
  },
  {
   "cell_type": "markdown",
   "metadata": {},
   "source": [
    "#### **Question 1.1**"
   ]
  },
  {
   "cell_type": "code",
   "execution_count": 477,
   "metadata": {},
   "outputs": [],
   "source": [
    "# You do not have to understand the code for raw_columns! It stores a list of columns names that containes \"raw_\"\n",
    "raw_columns = [col for col in stops.columns if 'raw_' in col]\n",
    "\n",
    "# YOUR CODE HERE\n",
    "# stops = ... \n",
    "\n",
    "stops = stops.drop(raw_columns, axis=1) #SOLUTION"
   ]
  },
  {
   "cell_type": "markdown",
   "metadata": {},
   "source": [
    "Now, let's look at null values of `stops` again! For convenience, we will look at columns that has\n",
    " null-values."
   ]
  },
  {
   "cell_type": "code",
   "execution_count": 478,
   "metadata": {},
   "outputs": [
    {
     "data": {
      "text/plain": [
       "time                            4\n",
       "lat                            60\n",
       "lng                            60\n",
       "precinct                      113\n",
       "reporting_area                 97\n",
       "zone                          113\n",
       "subject_sex                     2\n",
       "violation                       2\n",
       "contraband_found              960\n",
       "contraband_drugs              960\n",
       "contraband_weapons            960\n",
       "search_basis                  960\n",
       "reason_for_stop                 2\n",
       "vehicle_registration_state     13\n",
       "notes                         828\n",
       "dtype: int64"
      ]
     },
     "execution_count": 478,
     "metadata": {},
     "output_type": "execute_result"
    }
   ],
   "source": [
    "stops.isna().sum()[stops.isna().sum() > 1]"
   ]
  },
  {
   "cell_type": "markdown",
   "metadata": {},
   "source": [
    "#### **Handling Missing Values** "
   ]
  },
  {
   "cell_type": "markdown",
   "metadata": {},
   "source": [
    "It is common to encounter missing values in real-life data. Incomplete data can bias and/or reduce the \"accuracy\" of the results of your machine learning model. There many different strategies to handle missing values including:  \n",
    "* Deleting the entire row if the a row has many missing values using `.dropna() `([documentation](https://pandas.pydata.org/docs/reference/api/pandas.DataFrame.dropna.html))\n",
    "* Deleting the entire column if the column has many missing values using `.dropna() ` with `axis=1`\n",
    "* Replacing the missing values with an aribtary value \n",
    "* Replacing the missing values with mean/ median / mode using `.fillna()` ([documentation](https://pandas.pydata.org/docs/reference/api/pandas.DataFrame.fillna.html))\n",
    "* Replacing the missing values with 0\n",
    "\n",
    "Some missing values explain the process of the data collection or the pattern of the population itself. Then, it would be useful use this \"missingness\" as a feature!"
   ]
  },
  {
   "cell_type": "markdown",
   "metadata": {},
   "source": [
    "For instance, let's look at our `\"notes\"` column with 828 non-null values. If you run the code below, you would notice there are some pattern within `\"notes\" `itself and perhaps then, the missing values (having no notes) might not due to randomeness and may have some association/relationship with other variables within the dataset. "
   ]
  },
  {
   "cell_type": "code",
   "execution_count": 479,
   "metadata": {},
   "outputs": [
    {
     "data": {
      "text/plain": [
       "1                                        tail light out\n",
       "5                                         RAN STOP SIGN\n",
       "26                         PASSENGER SIDE HEADLIGHT OUT\n",
       "28                             SEATBELT WORN IMPROPERLY\n",
       "32                                                 tags\n",
       "                             ...                       \n",
       "979                     SPEEDING --MPH IN --MPH - PACED\n",
       "982                                      HEAD LIGHT OUT\n",
       "985                      passenger side tail light out.\n",
       "986    CARELESS DRIVING\\nCUT OFF VEHICLE\\nMOVE OVER LAW\n",
       "994                               headlights on in rain\n",
       "Name: notes, Length: 172, dtype: object"
      ]
     },
     "execution_count": 479,
     "metadata": {},
     "output_type": "execute_result"
    }
   ],
   "source": [
    "stops[\"notes\"][stops[\"notes\"].isna() == False] # The code checks non-null values within \"notes\" column "
   ]
  },
  {
   "cell_type": "markdown",
   "metadata": {},
   "source": [
    "We know we don't want to delete the entire column or replace the missing values `\"notes\"` because it may be important feature. We could also understand that we don't want to perform row-deletion on null-values on `\"notes\"` looking at our output. Run the cell below and see how many rows are left after we delete all the rows with null-values within the `\"notes\"` column!\n",
    "\n",
    "Note that `.shape`([documentation](https://pandas.pydata.org/docs/reference/api/pandas.DataFrame.shape.html)) returns the tuple representing the dimensionality of the DataFrame."
   ]
  },
  {
   "cell_type": "code",
   "execution_count": 480,
   "metadata": {},
   "outputs": [
    {
     "data": {
      "text/plain": [
       "(172, 30)"
      ]
     },
     "execution_count": 480,
     "metadata": {},
     "output_type": "execute_result"
    }
   ],
   "source": [
    "stops.dropna(subset = [\"notes\"]).shape"
   ]
  },
  {
   "cell_type": "markdown",
   "metadata": {},
   "source": [
    "Our 1000-row DataFrame has reduced to 172 rows. Imagine if we were to delete all rows with any null values. This will reduce our rows significantly (994 to be exact in this case), affecting our ability to analyze the data.  **Therefore, we do not want to delete all rows or columns of our null-values but to make appropriate decisions to handle each missing data accordingly**. "
   ]
  },
  {
   "cell_type": "markdown",
   "metadata": {},
   "source": [
    "#### **Question 1.2** \n",
    "Given that we did the preliminary work to find appropriate way of handling the missing values, we will drop the rows with *any* null values EXCEPT for the columns` \"contraband_found\"`, `\"contraband_drugs\"`, `\"contraband_weapons\"`, `\"search_basis\"`, and `\"notes\"`.\n",
    "\n",
    " For this question, first assign `necessary_cols` to all columns in the table other than these five columns listed above. Then, drop the rows with null-values using `.dropna()`  and update our `stops` DataFrame. \n",
    "\n",
    " Hint 1: If you want to find the columns names, you can choose to use `.columns`!\n",
    " \n",
    " Hint 2: Take a look at the parameters for `.dropna()`! "
   ]
  },
  {
   "cell_type": "code",
   "execution_count": 481,
   "metadata": {},
   "outputs": [],
   "source": [
    "# YOUR CODE HERE \n",
    "# necessary_cols = ...\n",
    "# stops = ... \n",
    "\n",
    "\n",
    "necessary_cols = stops.columns.drop([\"contraband_found\", \"contraband_drugs\", \"contraband_weapons\", \"search_basis\", \"notes\"]) #SOLUTION \n",
    "stops = stops.dropna(subset=necessary_cols,axis=0) #SOLUTION "
   ]
  },
  {
   "cell_type": "markdown",
   "metadata": {},
   "source": [
    "Let's now re-look at how the new `stops`'s `info()` and `describe()`!"
   ]
  },
  {
   "cell_type": "code",
   "execution_count": 482,
   "metadata": {},
   "outputs": [
    {
     "name": "stdout",
     "output_type": "stream",
     "text": [
      "<class 'pandas.core.frame.DataFrame'>\n",
      "Int64Index: 833 entries, 0 to 999\n",
      "Data columns (total 30 columns):\n",
      " #   Column                      Non-Null Count  Dtype  \n",
      "---  ------                      --------------  -----  \n",
      " 0   index                       833 non-null    int64  \n",
      " 1   date                        833 non-null    object \n",
      " 2   time                        833 non-null    float64\n",
      " 3   location                    833 non-null    object \n",
      " 4   lat                         833 non-null    float64\n",
      " 5   lng                         833 non-null    float64\n",
      " 6   precinct                    833 non-null    float64\n",
      " 7   reporting_area              833 non-null    float64\n",
      " 8   zone                        833 non-null    float64\n",
      " 9   subject_age                 833 non-null    float64\n",
      " 10  subject_race                833 non-null    object \n",
      " 11  subject_sex                 833 non-null    object \n",
      " 12  officer_id_hash             833 non-null    object \n",
      " 13  type                        833 non-null    object \n",
      " 14  violation                   833 non-null    object \n",
      " 15  arrest_made                 833 non-null    bool   \n",
      " 16  citation_issued             833 non-null    bool   \n",
      " 17  warning_issued              833 non-null    bool   \n",
      " 18  outcome                     833 non-null    object \n",
      " 19  contraband_found            36 non-null     object \n",
      " 20  contraband_drugs            36 non-null     object \n",
      " 21  contraband_weapons          36 non-null     object \n",
      " 22  frisk_performed             833 non-null    bool   \n",
      " 23  search_conducted            833 non-null    bool   \n",
      " 24  search_person               833 non-null    bool   \n",
      " 25  search_vehicle              833 non-null    bool   \n",
      " 26  search_basis                36 non-null     object \n",
      " 27  reason_for_stop             833 non-null    object \n",
      " 28  vehicle_registration_state  833 non-null    object \n",
      " 29  notes                       136 non-null    object \n",
      "dtypes: bool(7), float64(7), int64(1), object(15)\n",
      "memory usage: 161.9+ KB\n"
     ]
    }
   ],
   "source": [
    "# YOUR CODE HERE\n",
    "stops.info() #SOLUTION"
   ]
  },
  {
   "cell_type": "code",
   "execution_count": 483,
   "metadata": {},
   "outputs": [
    {
     "data": {
      "text/html": [
       "<div>\n",
       "<style scoped>\n",
       "    .dataframe tbody tr th:only-of-type {\n",
       "        vertical-align: middle;\n",
       "    }\n",
       "\n",
       "    .dataframe tbody tr th {\n",
       "        vertical-align: top;\n",
       "    }\n",
       "\n",
       "    .dataframe thead th {\n",
       "        text-align: right;\n",
       "    }\n",
       "</style>\n",
       "<table border=\"1\" class=\"dataframe\">\n",
       "  <thead>\n",
       "    <tr style=\"text-align: right;\">\n",
       "      <th></th>\n",
       "      <th>index</th>\n",
       "      <th>time</th>\n",
       "      <th>lat</th>\n",
       "      <th>lng</th>\n",
       "      <th>precinct</th>\n",
       "      <th>reporting_area</th>\n",
       "      <th>zone</th>\n",
       "      <th>subject_age</th>\n",
       "    </tr>\n",
       "  </thead>\n",
       "  <tbody>\n",
       "    <tr>\n",
       "      <th>count</th>\n",
       "      <td>8.330000e+02</td>\n",
       "      <td>833.000000</td>\n",
       "      <td>833.000000</td>\n",
       "      <td>833.000000</td>\n",
       "      <td>833.000000</td>\n",
       "      <td>833.000000</td>\n",
       "      <td>833.000000</td>\n",
       "      <td>833.000000</td>\n",
       "    </tr>\n",
       "    <tr>\n",
       "      <th>mean</th>\n",
       "      <td>1.490302e+06</td>\n",
       "      <td>46950.180072</td>\n",
       "      <td>36.148303</td>\n",
       "      <td>-86.750729</td>\n",
       "      <td>4.428571</td>\n",
       "      <td>7172.012005</td>\n",
       "      <td>463.638655</td>\n",
       "      <td>36.708283</td>\n",
       "    </tr>\n",
       "    <tr>\n",
       "      <th>std</th>\n",
       "      <td>8.842343e+05</td>\n",
       "      <td>24713.624164</td>\n",
       "      <td>0.111620</td>\n",
       "      <td>0.079303</td>\n",
       "      <td>2.250534</td>\n",
       "      <td>11071.543165</td>\n",
       "      <td>226.009031</td>\n",
       "      <td>13.746246</td>\n",
       "    </tr>\n",
       "    <tr>\n",
       "      <th>min</th>\n",
       "      <td>1.425000e+03</td>\n",
       "      <td>60.000000</td>\n",
       "      <td>33.522888</td>\n",
       "      <td>-87.673566</td>\n",
       "      <td>1.000000</td>\n",
       "      <td>889.000000</td>\n",
       "      <td>111.000000</td>\n",
       "      <td>16.000000</td>\n",
       "    </tr>\n",
       "    <tr>\n",
       "      <th>25%</th>\n",
       "      <td>7.152040e+05</td>\n",
       "      <td>30600.000000</td>\n",
       "      <td>36.110928</td>\n",
       "      <td>-86.788732</td>\n",
       "      <td>2.000000</td>\n",
       "      <td>3019.000000</td>\n",
       "      <td>227.000000</td>\n",
       "      <td>26.000000</td>\n",
       "    </tr>\n",
       "    <tr>\n",
       "      <th>50%</th>\n",
       "      <td>1.449810e+06</td>\n",
       "      <td>48120.000000</td>\n",
       "      <td>36.155042</td>\n",
       "      <td>-86.751992</td>\n",
       "      <td>4.000000</td>\n",
       "      <td>5405.000000</td>\n",
       "      <td>425.000000</td>\n",
       "      <td>33.000000</td>\n",
       "    </tr>\n",
       "    <tr>\n",
       "      <th>75%</th>\n",
       "      <td>2.287868e+06</td>\n",
       "      <td>68040.000000</td>\n",
       "      <td>36.188952</td>\n",
       "      <td>-86.705978</td>\n",
       "      <td>6.000000</td>\n",
       "      <td>8810.000000</td>\n",
       "      <td>621.000000</td>\n",
       "      <td>46.000000</td>\n",
       "    </tr>\n",
       "    <tr>\n",
       "      <th>max</th>\n",
       "      <td>3.082012e+06</td>\n",
       "      <td>86280.000000</td>\n",
       "      <td>36.373107</td>\n",
       "      <td>-86.588551</td>\n",
       "      <td>8.000000</td>\n",
       "      <td>92960.000000</td>\n",
       "      <td>835.000000</td>\n",
       "      <td>82.000000</td>\n",
       "    </tr>\n",
       "  </tbody>\n",
       "</table>\n",
       "</div>"
      ],
      "text/plain": [
       "              index          time         lat         lng    precinct  \\\n",
       "count  8.330000e+02    833.000000  833.000000  833.000000  833.000000   \n",
       "mean   1.490302e+06  46950.180072   36.148303  -86.750729    4.428571   \n",
       "std    8.842343e+05  24713.624164    0.111620    0.079303    2.250534   \n",
       "min    1.425000e+03     60.000000   33.522888  -87.673566    1.000000   \n",
       "25%    7.152040e+05  30600.000000   36.110928  -86.788732    2.000000   \n",
       "50%    1.449810e+06  48120.000000   36.155042  -86.751992    4.000000   \n",
       "75%    2.287868e+06  68040.000000   36.188952  -86.705978    6.000000   \n",
       "max    3.082012e+06  86280.000000   36.373107  -86.588551    8.000000   \n",
       "\n",
       "       reporting_area        zone  subject_age  \n",
       "count      833.000000  833.000000   833.000000  \n",
       "mean      7172.012005  463.638655    36.708283  \n",
       "std      11071.543165  226.009031    13.746246  \n",
       "min        889.000000  111.000000    16.000000  \n",
       "25%       3019.000000  227.000000    26.000000  \n",
       "50%       5405.000000  425.000000    33.000000  \n",
       "75%       8810.000000  621.000000    46.000000  \n",
       "max      92960.000000  835.000000    82.000000  "
      ]
     },
     "execution_count": 483,
     "metadata": {},
     "output_type": "execute_result"
    }
   ],
   "source": [
    "# YOUR CODE HERE\n",
    "stops.describe() # SOLUTION "
   ]
  },
  {
   "cell_type": "markdown",
   "metadata": {},
   "source": [
    "#### **Question 1.3** \n",
    "According to your outputs above of `stop`, what is the median and mean for `\"precinct\"`,` \"zone\" `and `\"subject_age\"`? You can round it to the nearest hundredth decimal place. \n",
    "\n",
    "Hint: 50% percentile is same as the median"
   ]
  },
  {
   "cell_type": "markdown",
   "metadata": {},
   "source": [
    "_YOUR ANSWER HERE_"
   ]
  },
  {
   "cell_type": "code",
   "execution_count": 484,
   "metadata": {},
   "outputs": [],
   "source": [
    "#SOLUTION (made in code format to make it noticable)\n",
    "\n",
    "#precinct's mean = 4.43\n",
    "#precinct's median = 4.00\n",
    "\n",
    "#zone's mean = 463.64\n",
    "#zone's median = 425.00\n",
    "\n",
    "#subject_age's mean = 36.71\n",
    "#subject_age's median = 33.00\n"
   ]
  },
  {
   "cell_type": "markdown",
   "metadata": {},
   "source": [
    "<br/>\n",
    "\n",
    "<hr style=\"border: 1px solid #fdb515;\" />"
   ]
  },
  {
   "cell_type": "markdown",
   "metadata": {},
   "source": [
    "## Data Aggregation"
   ]
  },
  {
   "cell_type": "markdown",
   "metadata": {},
   "source": [
    "You may have noticed that the functions above reveal type information for the columns, as well as some basic statistics about the numerical columns found in the DataFrame. However, we can access more information about the dataset using aggregation functions!\n",
    "\n",
    "First of all, the function value_counts() can be used to access the number of each category for each variable. Let's look at `\"search_conducted\"` column to look at how many search was conducted by the police in Nashville. "
   ]
  },
  {
   "cell_type": "code",
   "execution_count": 485,
   "metadata": {},
   "outputs": [
    {
     "data": {
      "text/plain": [
       "search_conducted\n",
       "False               797\n",
       "True                 36\n",
       "dtype: int64"
      ]
     },
     "execution_count": 485,
     "metadata": {},
     "output_type": "execute_result"
    }
   ],
   "source": [
    "stops[[\"search_conducted\"]].value_counts()"
   ]
  },
  {
   "cell_type": "markdown",
   "metadata": {},
   "source": [
    "Next, let's explore the use of the `groupby()` function ([documentation](https://pandas.pydata.org/docs/reference/api/pandas.DataFrame.groupby.html)). You might be familiar Data C8's [group method](https://www.data8.org/fa23/reference/), but the `groupby()` function from pandas is a bit more complex! \n",
    "\n",
    "The below cells is an example of how to use the groupby function to generate summary statistics of variables in the dataset. In this case we are finding statistical summary of the variable `\"subject_age\"` of each subject race/ethnicity within the `\"subject_race\"`"
   ]
  },
  {
   "cell_type": "code",
   "execution_count": 486,
   "metadata": {},
   "outputs": [
    {
     "data": {
      "text/html": [
       "<div>\n",
       "<style scoped>\n",
       "    .dataframe tbody tr th:only-of-type {\n",
       "        vertical-align: middle;\n",
       "    }\n",
       "\n",
       "    .dataframe tbody tr th {\n",
       "        vertical-align: top;\n",
       "    }\n",
       "\n",
       "    .dataframe thead th {\n",
       "        text-align: right;\n",
       "    }\n",
       "</style>\n",
       "<table border=\"1\" class=\"dataframe\">\n",
       "  <thead>\n",
       "    <tr style=\"text-align: right;\">\n",
       "      <th></th>\n",
       "      <th>subject_age</th>\n",
       "    </tr>\n",
       "    <tr>\n",
       "      <th>subject_race</th>\n",
       "      <th></th>\n",
       "    </tr>\n",
       "  </thead>\n",
       "  <tbody>\n",
       "    <tr>\n",
       "      <th>asian/pacific islander</th>\n",
       "      <td>36.823529</td>\n",
       "    </tr>\n",
       "    <tr>\n",
       "      <th>black</th>\n",
       "      <td>35.544669</td>\n",
       "    </tr>\n",
       "    <tr>\n",
       "      <th>hispanic</th>\n",
       "      <td>29.888889</td>\n",
       "    </tr>\n",
       "    <tr>\n",
       "      <th>other</th>\n",
       "      <td>31.600000</td>\n",
       "    </tr>\n",
       "    <tr>\n",
       "      <th>unknown</th>\n",
       "      <td>37.545455</td>\n",
       "    </tr>\n",
       "    <tr>\n",
       "      <th>white</th>\n",
       "      <td>38.485294</td>\n",
       "    </tr>\n",
       "  </tbody>\n",
       "</table>\n",
       "</div>"
      ],
      "text/plain": [
       "                        subject_age\n",
       "subject_race                       \n",
       "asian/pacific islander    36.823529\n",
       "black                     35.544669\n",
       "hispanic                  29.888889\n",
       "other                     31.600000\n",
       "unknown                   37.545455\n",
       "white                     38.485294"
      ]
     },
     "execution_count": 486,
     "metadata": {},
     "output_type": "execute_result"
    }
   ],
   "source": [
    "# since we only want to look at the subject_age and subject_race, let's start with extracting these two columns out of the dataset. \n",
    "stop = stops[[\"subject_age\", \"subject_race\"]] \n",
    "stop.groupby(['subject_race']).mean()"
   ]
  },
  {
   "cell_type": "code",
   "execution_count": 487,
   "metadata": {},
   "outputs": [
    {
     "data": {
      "text/html": [
       "<div>\n",
       "<style scoped>\n",
       "    .dataframe tbody tr th:only-of-type {\n",
       "        vertical-align: middle;\n",
       "    }\n",
       "\n",
       "    .dataframe tbody tr th {\n",
       "        vertical-align: top;\n",
       "    }\n",
       "\n",
       "    .dataframe thead th {\n",
       "        text-align: right;\n",
       "    }\n",
       "</style>\n",
       "<table border=\"1\" class=\"dataframe\">\n",
       "  <thead>\n",
       "    <tr style=\"text-align: right;\">\n",
       "      <th></th>\n",
       "      <th>subject_age</th>\n",
       "    </tr>\n",
       "    <tr>\n",
       "      <th>subject_race</th>\n",
       "      <th></th>\n",
       "    </tr>\n",
       "  </thead>\n",
       "  <tbody>\n",
       "    <tr>\n",
       "      <th>asian/pacific islander</th>\n",
       "      <td>33.0</td>\n",
       "    </tr>\n",
       "    <tr>\n",
       "      <th>black</th>\n",
       "      <td>33.0</td>\n",
       "    </tr>\n",
       "    <tr>\n",
       "      <th>hispanic</th>\n",
       "      <td>30.0</td>\n",
       "    </tr>\n",
       "    <tr>\n",
       "      <th>other</th>\n",
       "      <td>33.0</td>\n",
       "    </tr>\n",
       "    <tr>\n",
       "      <th>unknown</th>\n",
       "      <td>40.0</td>\n",
       "    </tr>\n",
       "    <tr>\n",
       "      <th>white</th>\n",
       "      <td>34.5</td>\n",
       "    </tr>\n",
       "  </tbody>\n",
       "</table>\n",
       "</div>"
      ],
      "text/plain": [
       "                        subject_age\n",
       "subject_race                       \n",
       "asian/pacific islander         33.0\n",
       "black                          33.0\n",
       "hispanic                       30.0\n",
       "other                          33.0\n",
       "unknown                        40.0\n",
       "white                          34.5"
      ]
     },
     "execution_count": 487,
     "metadata": {},
     "output_type": "execute_result"
    }
   ],
   "source": [
    "# Now if we want to look at the median instead of mean, we simply change the aggregation at the end. \n",
    "stop.groupby(['subject_race']).median()"
   ]
  },
  {
   "cell_type": "code",
   "execution_count": 488,
   "metadata": {},
   "outputs": [
    {
     "data": {
      "text/html": [
       "<div>\n",
       "<style scoped>\n",
       "    .dataframe tbody tr th:only-of-type {\n",
       "        vertical-align: middle;\n",
       "    }\n",
       "\n",
       "    .dataframe tbody tr th {\n",
       "        vertical-align: top;\n",
       "    }\n",
       "\n",
       "    .dataframe thead th {\n",
       "        text-align: right;\n",
       "    }\n",
       "</style>\n",
       "<table border=\"1\" class=\"dataframe\">\n",
       "  <thead>\n",
       "    <tr style=\"text-align: right;\">\n",
       "      <th></th>\n",
       "      <th>subject_age</th>\n",
       "    </tr>\n",
       "    <tr>\n",
       "      <th>subject_race</th>\n",
       "      <th></th>\n",
       "    </tr>\n",
       "  </thead>\n",
       "  <tbody>\n",
       "    <tr>\n",
       "      <th>asian/pacific islander</th>\n",
       "      <td>58.0</td>\n",
       "    </tr>\n",
       "    <tr>\n",
       "      <th>black</th>\n",
       "      <td>73.0</td>\n",
       "    </tr>\n",
       "    <tr>\n",
       "      <th>hispanic</th>\n",
       "      <td>49.0</td>\n",
       "    </tr>\n",
       "    <tr>\n",
       "      <th>other</th>\n",
       "      <td>35.0</td>\n",
       "    </tr>\n",
       "    <tr>\n",
       "      <th>unknown</th>\n",
       "      <td>47.0</td>\n",
       "    </tr>\n",
       "    <tr>\n",
       "      <th>white</th>\n",
       "      <td>82.0</td>\n",
       "    </tr>\n",
       "  </tbody>\n",
       "</table>\n",
       "</div>"
      ],
      "text/plain": [
       "                        subject_age\n",
       "subject_race                       \n",
       "asian/pacific islander         58.0\n",
       "black                          73.0\n",
       "hispanic                       49.0\n",
       "other                          35.0\n",
       "unknown                        47.0\n",
       "white                          82.0"
      ]
     },
     "execution_count": 488,
     "metadata": {},
     "output_type": "execute_result"
    }
   ],
   "source": [
    "# Here is another example with max\n",
    "stop.groupby(['subject_race']).max()"
   ]
  },
  {
   "cell_type": "markdown",
   "metadata": {},
   "source": [
    "#### **Question 2** \n",
    "\n",
    "In the cell below, set `answer2` equal to a DataFrame corresponding to the **average** subject age and **total count** of search conducted by the police on each different types of violation. Your answer doesn't have to be in one line. \n",
    "\n",
    "\n",
    " Hint 1: You should be using the `\"search_conducted\"`, `\"violation\"`, `\"subject_age\"` columns\n",
    "\n",
    " Hint 2: Looking at above example where the groupby function grouped each row by unique values within `\"subject race\"`', what column should I group by in order for rows to output different type of violation? \n",
    "\n",
    " Hint 3: You are not meant to find the average of subject age and total count for the search conducted all at on group by function. Try using the `.join `function with the optional parameter `on = ....` ([documentation](https://pandas.pydata.org/docs/reference/api/pandas.DataFrame.join.html))\n",
    "\n",
    "<!--\n",
    "BEGIN QUESTION\n",
    "name: q1\n",
    "-->"
   ]
  },
  {
   "cell_type": "code",
   "execution_count": 489,
   "metadata": {},
   "outputs": [
    {
     "data": {
      "text/html": [
       "<div>\n",
       "<style scoped>\n",
       "    .dataframe tbody tr th:only-of-type {\n",
       "        vertical-align: middle;\n",
       "    }\n",
       "\n",
       "    .dataframe tbody tr th {\n",
       "        vertical-align: top;\n",
       "    }\n",
       "\n",
       "    .dataframe thead th {\n",
       "        text-align: right;\n",
       "    }\n",
       "</style>\n",
       "<table border=\"1\" class=\"dataframe\">\n",
       "  <thead>\n",
       "    <tr style=\"text-align: right;\">\n",
       "      <th></th>\n",
       "      <th>search_conducted</th>\n",
       "      <th>subject_age</th>\n",
       "    </tr>\n",
       "    <tr>\n",
       "      <th>violation</th>\n",
       "      <th></th>\n",
       "      <th></th>\n",
       "    </tr>\n",
       "  </thead>\n",
       "  <tbody>\n",
       "    <tr>\n",
       "      <th>investigative stop</th>\n",
       "      <td>21</td>\n",
       "      <td>34.666667</td>\n",
       "    </tr>\n",
       "    <tr>\n",
       "      <th>moving traffic violation</th>\n",
       "      <td>408</td>\n",
       "      <td>36.514706</td>\n",
       "    </tr>\n",
       "    <tr>\n",
       "      <th>parking violation</th>\n",
       "      <td>1</td>\n",
       "      <td>29.000000</td>\n",
       "    </tr>\n",
       "    <tr>\n",
       "      <th>registration</th>\n",
       "      <td>44</td>\n",
       "      <td>37.318182</td>\n",
       "    </tr>\n",
       "    <tr>\n",
       "      <th>safety violation</th>\n",
       "      <td>53</td>\n",
       "      <td>36.924528</td>\n",
       "    </tr>\n",
       "    <tr>\n",
       "      <th>seatbelt violation</th>\n",
       "      <td>28</td>\n",
       "      <td>35.857143</td>\n",
       "    </tr>\n",
       "    <tr>\n",
       "      <th>vehicle equipment violation</th>\n",
       "      <td>278</td>\n",
       "      <td>37.122302</td>\n",
       "    </tr>\n",
       "  </tbody>\n",
       "</table>\n",
       "</div>"
      ],
      "text/plain": [
       "                             search_conducted  subject_age\n",
       "violation                                                 \n",
       "investigative stop                         21    34.666667\n",
       "moving traffic violation                  408    36.514706\n",
       "parking violation                           1    29.000000\n",
       "registration                               44    37.318182\n",
       "safety violation                           53    36.924528\n",
       "seatbelt violation                         28    35.857143\n",
       "vehicle equipment violation               278    37.122302"
      ]
     },
     "execution_count": 489,
     "metadata": {},
     "output_type": "execute_result"
    }
   ],
   "source": [
    "# YOUR CODE HERE \n",
    "# ... \n",
    "# answer2 = ... \n",
    "# answer2\n",
    "\n",
    "\n",
    "answer2 = stops[['search_conducted','violation']].groupby('violation').count() #SOLUTION \n",
    "answer2 = answer2.join(stops[[\"violation\", \"subject_age\"]].groupby(\"violation\").mean(), on = \"violation\") #SOLUTION \n",
    "answer2 "
   ]
  },
  {
   "cell_type": "markdown",
   "metadata": {},
   "source": [
    "<br/>\n",
    "\n",
    "<hr style=\"border: 1px solid #fdb515;\" />"
   ]
  },
  {
   "cell_type": "markdown",
   "metadata": {},
   "source": [
    "## Visualizations"
   ]
  },
  {
   "cell_type": "markdown",
   "metadata": {},
   "source": [
    "Now that we found more information about the Nashville Police stops dataset, let's use visualization to explore and analyze! Visualization is a crucial component of EDA because it allows for the intuitive understanding and interpretation of data through graphical representations. EDA involves examining datasets to summarize their main characteristics, often using statistical graphics and plots. In this section we will introduce to five different visualizations: _Histograms, Bar charts, Scatter plots, Box plots, and lastly Time Series_."
   ]
  },
  {
   "cell_type": "markdown",
   "metadata": {},
   "source": [
    "- Histogram\n",
    "    - ages \n",
    "- Bar charts \n",
    "    -  Violation Type count \n",
    "    -  Violation and age \n",
    "- Scatter Plots\n",
    "    -  precinct and zone \n",
    "- Box Plot \n",
    "    - Race and Age    \n",
    "- Time Series\n",
    "    - Police stops over time.  \n",
    "    - Police stops over time by one type of violation (using .where)\n",
    "    - Police stops over time by several type of violaition (overlaid)\n"
   ]
  },
  {
   "cell_type": "markdown",
   "metadata": {},
   "source": [
    "### Part 1:  Histograms"
   ]
  },
  {
   "cell_type": "markdown",
   "metadata": {},
   "source": [
    "A histogram is a graphical representation used to depict the distribution of a dataset. It is an estimate of the probability distribution of a continuous variable. The x-axis of a histogram represents the variable being measured, while the y-axis represents the frequency of the data points. Histograms provide a visual interpretation of numerical data by showing the number of data points that lie within a range of values, which can be useful for understanding the distribution, central tendency, and spread of data."
   ]
  },
  {
   "cell_type": "markdown",
   "metadata": {},
   "source": [
    "For our first example below, we will demonstrate creating a histogram depicting the distribution of subject age for police's stops. "
   ]
  },
  {
   "cell_type": "code",
   "execution_count": 490,
   "metadata": {},
   "outputs": [
    {
     "data": {
      "image/png": "[encoded data removed]",
      "text/plain": [
       "<Figure size 432x288 with 1 Axes>"
      ]
     },
     "metadata": {},
     "output_type": "display_data"
    }
   ],
   "source": [
    "# Assuming that we have imported matplotlib (a library you have used in Data C8 too!) above, \n",
    "# we first need to specify the number of bins or bin width and range of values of the histogram\n",
    "num_bins = np.arange(10, 90, 8)\n",
    "hist_range = (10, 90) \n",
    "\n",
    "plt.hist(stops['subject_age'], bins=num_bins, range=hist_range, edgecolor='k')\n",
    "plt.xlabel('age')\n",
    "plt.ylabel('count')\n",
    "plt.show()"
   ]
  },
  {
   "cell_type": "markdown",
   "metadata": {},
   "source": [
    "From the graph above and knowing our bin is the width of 8, we can get the information that the age interval (36, 44) has the most number of subjects. "
   ]
  },
  {
   "cell_type": "markdown",
   "metadata": {},
   "source": [
    "#### **Question 3.1**\n",
    "Let's now try to make an overlaid histogram ([documentation](https://matplotlib.org/stable/api/_as_gen/matplotlib.pyplot.hist.html)) comparing the age distribution between distinct values in` \"subject_sex\"`. First, find the distinct values within ` \"subject_sex\"`. Then, make a copy of the table that only corresponds to that distinct value and create the histogram. You may set all the optional parameters same as above for now (bins, range, and edgecolor).\n",
    "\n",
    "Hint: This problem requires you to take manipulate the table before making any visualizations! Try making new variables and setting to the new copy of the tables for convience. \n",
    "\n",
    "Hint: For overlaid histogram, it would be useful to use parameters `label` for using multiple datasets and `alpha` for changing transparency of the histogram bins."
   ]
  },
  {
   "cell_type": "code",
   "execution_count": 491,
   "metadata": {},
   "outputs": [
    {
     "data": {
      "image/png": "[encoded data removed]",
      "text/plain": [
       "<Figure size 432x288 with 1 Axes>"
      ]
     },
     "metadata": {},
     "output_type": "display_data"
    }
   ],
   "source": [
    "# YOUR CODE HERE\n",
    "# ... \n",
    "# ... \n",
    "# ... \n",
    "\n",
    "# num_bins = np.arange(10, 90, 8)\n",
    "# hist_range = (10, 90) \n",
    "\n",
    "\n",
    "# plt.hist(...) \n",
    "# plt.hist(...) \n",
    "# plt.legend(loc= 'upper right')\n",
    "# plt.xlabel('age')\n",
    "# plt.ylabel('count')\n",
    "# plt.show()\n",
    "\n",
    "stops[\"subject_sex\"].unique() #SOLUTION\n",
    "female_stops = stops[stops[\"subject_sex\"] == \"female\"] #SOLUTION \n",
    "male_stops = stops[stops[\"subject_sex\"] == \"male\"] #SOLUTION \n",
    "\n",
    "\n",
    "num_bins = np.arange(10, 90, 8)\n",
    "hist_range = (10, 90) \n",
    "\n",
    "\n",
    "plt.hist(female_stops['subject_age'], label = \"female\", alpha = 0.7, bins=num_bins, range=hist_range, edgecolor='k') #SOLUTION \n",
    "plt.hist(male_stops['subject_age'], label = \"male\", alpha = 0.5,  bins=num_bins, range=hist_range, edgecolor='k') #SOLUTOIN \n",
    "plt.legend(loc= 'upper right')\n",
    "plt.xlabel('age')\n",
    "plt.ylabel('count')\n",
    "plt.show()"
   ]
  },
  {
   "cell_type": "markdown",
   "metadata": {},
   "source": [
    "#### **Question 3.1.2** \n",
    "What differences/or similarities do you see between these two groups regarding their police stops looking at the histograms above? Please describe at least one."
   ]
  },
  {
   "cell_type": "markdown",
   "metadata": {},
   "source": [
    "_YOUR ANSWER HERE_"
   ]
  },
  {
   "cell_type": "code",
   "execution_count": 492,
   "metadata": {},
   "outputs": [],
   "source": [
    "#SOLUTION (made in code format to make it noticable)\n",
    "\n",
    "# The answer may vary. There seem to be an overall more male police stops than female. "
   ]
  },
  {
   "cell_type": "markdown",
   "metadata": {},
   "source": [
    "### Part 2: Bar Charts"
   ]
  },
  {
   "cell_type": "markdown",
   "metadata": {},
   "source": [
    "Bar chart (graph) is a graphical representation used to compare different categories of data with rectangular bars. Unlike histograms, which display continuous data and have bins, bar charts depict discrete data or distinct categories. The x-axis represents the specific categories being compared, while the y-axis represents a measured value."
   ]
  },
  {
   "cell_type": "markdown",
   "metadata": {},
   "source": [
    "Let's look at` \"violation\"` column and see how many police stops have been categorized as for each category of the violation. Look at the code below and run the code! What does the first line help us do? Is there a better way to format the x-axis so it doesn't look clutttered? "
   ]
  },
  {
   "cell_type": "code",
   "execution_count": 440,
   "metadata": {},
   "outputs": [
    {
     "data": {
      "text/plain": [
       "<BarContainer object of 7 artists>"
      ]
     },
     "execution_count": 440,
     "metadata": {},
     "output_type": "execute_result"
    },
    {
     "data": {
      "image/png": "[encoded data removed]",
      "text/plain": [
       "<Figure size 432x288 with 1 Axes>"
      ]
     },
     "metadata": {},
     "output_type": "display_data"
    }
   ],
   "source": [
    "violation_count = stops.groupby(\"violation\").count() # this line helps us find counts of each distinct values within violation column\n",
    "plt.bar(violation_count.index, height =violation_count[\"subject_age\"])"
   ]
  },
  {
   "cell_type": "markdown",
   "metadata": {},
   "source": [
    "You can easily fix this problem by plotting the bar graph horizontally! You can call `.barh` instead of `.bar`. However, one thing to remember is that `.bar `requires the positional argument `'height'` while `.barh` requires positional argument `'width'`."
   ]
  },
  {
   "cell_type": "markdown",
   "metadata": {},
   "source": [
    "#### **Question 3.2** \n",
    "Create a horizontal bar graph that compare different categorizes of` \"violation\"` counts. The code should look very similar to the one above. "
   ]
  },
  {
   "cell_type": "code",
   "execution_count": 442,
   "metadata": {},
   "outputs": [
    {
     "data": {
      "text/plain": [
       "<BarContainer object of 7 artists>"
      ]
     },
     "execution_count": 442,
     "metadata": {},
     "output_type": "execute_result"
    },
    {
     "data": {
      "image/png": "[encoded data removed]",
      "text/plain": [
       "<Figure size 432x288 with 1 Axes>"
      ]
     },
     "metadata": {},
     "output_type": "display_data"
    }
   ],
   "source": [
    "# YOUR CODE HERE\n",
    "\n",
    "violatoin_count = stops.groupby(\"violation\").count()\n",
    "plt.barh(violation_count.index, width =violation_count[\"subject_age\"])"
   ]
  },
  {
   "cell_type": "markdown",
   "metadata": {},
   "source": [
    "### Part 3. Scatter Plots"
   ]
  },
  {
   "cell_type": "markdown",
   "metadata": {},
   "source": [
    "Scatter plot is a type of data visualization that uses individual data points to represent the values of two variable. The position of each point is determined by its horizontal (x-axis) and vertical (y-axis) values, making it possible to observe relationships or patterns between the two variables. Scatter plots are particularly useful for studying the correlation or association between two numerical variables."
   ]
  },
  {
   "cell_type": "markdown",
   "metadata": {},
   "source": [
    "Let's create a scatter plot looking at correlation between the `\"zone\" `data values and `\"precinct\"` data values. "
   ]
  },
  {
   "cell_type": "code",
   "execution_count": 458,
   "metadata": {},
   "outputs": [
    {
     "data": {
      "text/plain": [
       "Text(0, 0.5, 'Precinct #')"
      ]
     },
     "execution_count": 458,
     "metadata": {},
     "output_type": "execute_result"
    },
    {
     "data": {
      "image/png": "[encoded data removed]",
      "text/plain": [
       "<Figure size 432x288 with 1 Axes>"
      ]
     },
     "metadata": {},
     "output_type": "display_data"
    }
   ],
   "source": [
    "plt.scatter( \"zone\", \"precinct\", data = stops)\n",
    "plt.title('Correation between Zone and Precinct')\n",
    "plt.xlabel('Zone')\n",
    "plt.ylabel('Precinct #')"
   ]
  },
  {
   "cell_type": "markdown",
   "metadata": {},
   "source": [
    "#### **Questoin 3.3**\n",
    "\n",
    "Looking at the sactter plot above, is there a high or low correlation betwen `\"zone\"` and `\"precinct\"`? Is it a positive or negative correlation? Explain your answer with regards to the hypothetical context if you are unsure."
   ]
  },
  {
   "cell_type": "markdown",
   "metadata": {},
   "source": [
    "_YOUR ANSWER HERE_"
   ]
  },
  {
   "cell_type": "code",
   "execution_count": 502,
   "metadata": {},
   "outputs": [],
   "source": [
    "#SOLUTION (made in code format to make it noticable)\n",
    "\n",
    "#There is a positive high correlation between \"zone\" and \"precinct\". \n",
    "#The nature of the data might inherently involve a strong relationship between zones and precincts. \n",
    "#For instance, each precinct might correspond to a specific zone, or there could be a systematic way in which zones and precincts were allocated."
   ]
  },
  {
   "cell_type": "code",
   "execution_count": 460,
   "metadata": {},
   "outputs": [],
   "source": [
    "# COMMENTED OUT FIONA's WORK BUT YOU CAN CHOOSE WHICH EVER SCATTER PLOT WOULD LOOK BETTER!\n",
    "\n",
    "# SCATTER CODE\n",
    "# import seaborn as sns\n",
    "# import matplotlib.pyplot as plt\n",
    "# stops_scatter = stops[stops['lat'] > 36]\n",
    "# plt.figure(figsize=(8, 6))\n",
    "# sns.scatterplot(data=stops_scatter, x='lat', y='precinct', color='blue', marker='o', label='Data Points')\n",
    "# plt.title('correation between Latitude and Precinct')\n",
    "# plt.xlabel('Latitude')\n",
    "# plt.ylabel('Y-axis')"
   ]
  },
  {
   "cell_type": "markdown",
   "metadata": {},
   "source": [
    "### Part 4. Box Plots"
   ]
  },
  {
   "cell_type": "markdown",
   "metadata": {},
   "source": [
    "A box plot, also known as a whisker plot or box-and-whisker plot, is a standardized way of displaying the distribution of data based on a five-number summary: the minimum, first quartile (Q1), median (second quartile, Q2), third quartile (Q3), and the maximum. Box plots provide a visual summary of key statistics from the data and are particularly useful for comparing distributions across different groups or categories. They offer insights into the central tendency, variability, and skewness of the data, as well as the presence of potential outliers."
   ]
  },
  {
   "cell_type": "markdown",
   "metadata": {},
   "source": [
    "**Box (Rectangle)**: The box represents the interquartile range (IQR), which encompasses the middle 50% of the data. The bottom and top edges of the box mark the first quartile (25th percentile, Q1) and the third quartile (75th percentile, Q3), respectively. The line inside the box represents the median (50th percentile).\n",
    "\n",
    "**Whiskers**: The whiskers extend from the box and represent the range within which most of the data falls. Data points within 1.5 times the IQR from the lower or upper quartiles are considered within the whiskers' range.\n",
    "\n",
    "**Individual Points**: Any data points that fall outside the whiskers' range are plotted individually as points. These are potential outliers and are drawn as \"white dots.\"\n"
   ]
  },
  {
   "cell_type": "markdown",
   "metadata": {},
   "source": [
    "Let's look at example down below, looking at the age distribution of all the subject races."
   ]
  },
  {
   "cell_type": "code",
   "execution_count": 471,
   "metadata": {},
   "outputs": [
    {
     "name": "stderr",
     "output_type": "stream",
     "text": [
      "/var/folders/qj/1mxrck1x3fg7s25g3g04md640000gn/T/ipykernel_6113/1767285390.py:12: FutureWarning: \n",
      "\n",
      "Passing `palette` without assigning `hue` is deprecated and will be removed in v0.14.0. Assign the `x` variable to `hue` and set `legend=False` for the same effect.\n",
      "\n",
      "  sns.boxplot(data=stops, x='subject_race', y='subject_age', palette='Set2')\n"
     ]
    },
    {
     "data": {
      "image/png": "[encoded data removed]",
      "text/plain": [
       "<Figure size 864x576 with 1 Axes>"
      ]
     },
     "metadata": {},
     "output_type": "display_data"
    }
   ],
   "source": [
    "# For this plot type we will look at the age distribution of all the subject races \n",
    "\n",
    "# First, we want to import seaborn because the library will be helpful in the future!\n",
    "import seaborn as sns\n",
    "\n",
    "plt.figure(figsize=(12, 8))\n",
    "sns.boxplot(data=stops, x='subject_race', y='subject_age', palette='Set2')\n",
    "plt.title('Age Distribute of Each Subject Race')\n",
    "plt.xlabel('Subject Race')\n",
    "plt.ylabel('Subject Age')\n",
    "plt.ylim(0, 90)\n",
    "plt.show()\n"
   ]
  },
  {
   "cell_type": "markdown",
   "metadata": {},
   "source": [
    "Using box plot from seaborn ([documentation](https://seaborn.pydata.org/generated/seaborn.boxplot.html)) we can get a sense of statistics of the subject's age for each race/ethnicity categories. Recall that we did something very similar in our data aggregation section! This just go and shows that visualizations can a be a great tool for us to understand main characteristics of certain data just like complex manipulation."
   ]
  },
  {
   "cell_type": "markdown",
   "metadata": {},
   "source": [
    "#### **Question 3.4** \n",
    "Understanding the features of box-and-whisker plot, write down at least two interest observation you made from this visualization above. "
   ]
  },
  {
   "cell_type": "markdown",
   "metadata": {},
   "source": [
    "_YOUR ANSWER HERE_"
   ]
  },
  {
   "cell_type": "code",
   "execution_count": 503,
   "metadata": {},
   "outputs": [],
   "source": [
    "#SOLUTION (made in code format to make it noticable)\n",
    "\n"
   ]
  },
  {
   "cell_type": "markdown",
   "metadata": {},
   "source": [
    "### Part 5: Time Series Analysis"
   ]
  },
  {
   "cell_type": "markdown",
   "metadata": {},
   "source": [
    "For the last part of the lab, we will introduce you to Time Series Analysis! Time Series Analysis is a method used to examine data points collected sequentially over time. These data points, plotted on a graph with time on the horizontal (x-axis) and the variable of interest on the vertical (y-axis), show how a particular variable evolves over time. By studying past patterns in this sequence, time series analysis can help predict future values. It's especially useful for understanding trends, cycles, or any recurring patterns in data over a time period."
   ]
  },
  {
   "cell_type": "markdown",
   "metadata": {},
   "source": [
    "Before going straight into time series analysis, we need to manipulate data in order for the visualization to work. In this particular section, we will learn how to do \n",
    "1. Convert column to DateTime\n",
    "2. Reindexing"
   ]
  },
  {
   "cell_type": "markdown",
   "metadata": {},
   "source": [
    "#### **Question 3.5**"
   ]
  },
  {
   "cell_type": "markdown",
   "metadata": {},
   "source": [
    "The [datetime](https://docs.python.org/3/library/datetime.html) module supplies classes for manipulating dates and times. Using pandas function, `pd.to_datetime` ([documentation](https://pandas.pydata.org/docs/reference/api/pandas.to_datetime.html)), change the `\"date\" `column of` stops` to Series containing pandas datetime object. We want to change to datetime because `\"date\" ` currently consists of strings, and this won't plot a graph over time. "
   ]
  },
  {
   "cell_type": "code",
   "execution_count": 529,
   "metadata": {},
   "outputs": [
    {
     "data": {
      "text/plain": [
       "Timestamp('2010-04-18 00:00:00')"
      ]
     },
     "execution_count": 529,
     "metadata": {},
     "output_type": "execute_result"
    }
   ],
   "source": [
    "# YOUR CODE HERE\n",
    "#  stops['date'] = ...\n",
    "# type(stops['date'][0)\n",
    "\n",
    "\n",
    "#SOLUTOIN \n",
    "stops['date'] = pd.to_datetime(stops['date'])\n",
    "stops['date'][0] #taking the first itme out from the \"date\" Series, the object should be a timestamp."
   ]
  },
  {
   "cell_type": "markdown",
   "metadata": {},
   "source": [
    "Let's try to understand datetime a bit better! Run the following line to see what it outputs!"
   ]
  },
  {
   "cell_type": "code",
   "execution_count": 533,
   "metadata": {},
   "outputs": [
    {
     "name": "stdout",
     "output_type": "stream",
     "text": [
      "For the date, 2010-04-18 00:00:00 the year is 2010 and the month is 4 .\n"
     ]
    }
   ],
   "source": [
    "print(\"For the date,\", stops['date'][0], \"the year is\", stops['date'][0].year, \"and the month is\", stops['date'][0].month, \".\")"
   ]
  },
  {
   "cell_type": "markdown",
   "metadata": {},
   "source": [
    "As you can see datetime library has some types to work with! Now let's look at `strftime()` method, shortened for \"string format time.\" The primary purpose of this method is to format datetime objects as strings. By using various format codes, you can represent the date and time in many different ways.\n",
    "\n",
    "Some common format codes used with strftime():\n",
    "* %Y: Year with century (e.g., \"2023\")\n",
    "* %m: Month as a zero-padded decimal (e.g., \"01\" for January)\n",
    "* %d: Day of the month as a zero-padded decimal (e.g., \"09\" for the 9th of the month)\n",
    "* %B: Full month name (e.g., \"January\")\n",
    "* %b: Shortened month name (e.g., \"Jan\")"
   ]
  },
  {
   "cell_type": "markdown",
   "metadata": {},
   "source": [
    "Run this code below to see how we can use `strftime()`."
   ]
  },
  {
   "cell_type": "code",
   "execution_count": 537,
   "metadata": {},
   "outputs": [
    {
     "data": {
      "text/plain": [
       "'Apr 2010'"
      ]
     },
     "execution_count": 537,
     "metadata": {},
     "output_type": "execute_result"
    }
   ],
   "source": [
    "stops['date'][0].strftime('%b %Y')"
   ]
  },
  {
   "cell_type": "markdown",
   "metadata": {},
   "source": [
    "#### **Question 3.6** \n",
    "For each of the datetime object in `\"date\"` change the value into its shortened month name and its year. (e.g. 2010-04-18 00:00:00 should be altered to Apr 2010)\n",
    "\n",
    "Hint 1: You can use for loop or use `.apply `([document](https://pandas.pydata.org/docs/reference/api/pandas.DataFrame.apply.html)). But be careful when using `.apply` as it is a bit different from Data C8! "
   ]
  },
  {
   "cell_type": "code",
   "execution_count": 541,
   "metadata": {},
   "outputs": [
    {
     "data": {
      "text/plain": [
       "date\n",
       "2010-04-18    Apr 2010\n",
       "2015-01-19    Jan 2015\n",
       "2015-01-15    Jan 2015\n",
       "2013-05-17    May 2013\n",
       "2010-09-01    Sep 2010\n",
       "                ...   \n",
       "2012-07-01    Jul 2012\n",
       "2012-01-10    Jan 2012\n",
       "2016-08-12    Aug 2016\n",
       "2011-08-24    Aug 2011\n",
       "2012-09-12    Sep 2012\n",
       "Name: date, Length: 833, dtype: object"
      ]
     },
     "execution_count": 541,
     "metadata": {},
     "output_type": "execute_result"
    }
   ],
   "source": [
    "# YOUR CODE HERE\n",
    "\n",
    "stops['date'].apply(lambda x: x.strftime('%b %Y')) #Solution"
   ]
  },
  {
   "cell_type": "markdown",
   "metadata": {},
   "source": [
    "#### **Question 3.7** "
   ]
  },
  {
   "cell_type": "markdown",
   "metadata": {},
   "source": [
    "Now that we manipulated our `\"date\"` columns, we want to make sure we have set this new datetime column to be set as our index. Using `.index` ([documendation](https://pandas.pydata.org/docs/reference/api/pandas.Index.html)), reindex our `stops` to `\"date\"` column that we have just updated above. \n",
    "\n",
    "Hint: You want to use assignment operator, \"`=`\" to set your `stops` index to a new value. "
   ]
  },
  {
   "cell_type": "code",
   "execution_count": 517,
   "metadata": {},
   "outputs": [
    {
     "data": {
      "text/plain": [
       "DatetimeIndex(['2010-04-18', '2015-01-19', '2015-01-15', '2013-05-17',\n",
       "               '2010-09-01', '2012-12-13', '2012-02-26', '2012-01-20',\n",
       "               '2017-09-25', '2017-02-24',\n",
       "               ...\n",
       "               '2014-12-02', '2014-09-24', '2013-10-11', '2012-11-16',\n",
       "               '2013-01-25', '2012-07-01', '2012-01-10', '2016-08-12',\n",
       "               '2011-08-24', '2012-09-12'],\n",
       "              dtype='datetime64[ns]', name='date', length=833, freq=None)"
      ]
     },
     "execution_count": 517,
     "metadata": {},
     "output_type": "execute_result"
    }
   ],
   "source": [
    "# YOUR CODE HERE \n",
    "# ...\n",
    "\n",
    "#SOLUTION \n",
    "stops.index = stops['date']\n",
    "stops.index"
   ]
  },
  {
   "cell_type": "markdown",
   "metadata": {},
   "source": [
    "**Question 1.5.1**: \n",
    "Can you provide a specific example from the Nashville dataset that highlights the importance of time series analysis, using columns like 'date' and 'time'? \n",
    "\n",
    "Hint: \n",
    "1. You can explore how police stops have evolved over time by focusing on the 'date' and 'time' columns. Look for temporal trends that may require time series analysis. \n",
    "2. Use column \"citation_issued\""
   ]
  },
  {
   "cell_type": "code",
   "execution_count": 60,
   "metadata": {},
   "outputs": [],
   "source": [
    "# Extract time-related columns, e.g., 'date' and 'time', and other relevant data\n",
    "time_series_data = stops[['date', 'time', 'citation_issued']]\n",
    "\n",
    "# Further data processing and analysis\n",
    "# ..."
   ]
  },
  {
   "cell_type": "markdown",
   "metadata": {},
   "source": [
    "WRITE SOMETHING ABOUT CHANGING TO DATE TIME AND PUTTING THAT TO INDEX. "
   ]
  },
  {
   "cell_type": "code",
   "execution_count": 61,
   "metadata": {},
   "outputs": [
    {
     "data": {
      "text/html": [
       "<div>\n",
       "<style scoped>\n",
       "    .dataframe tbody tr th:only-of-type {\n",
       "        vertical-align: middle;\n",
       "    }\n",
       "\n",
       "    .dataframe tbody tr th {\n",
       "        vertical-align: top;\n",
       "    }\n",
       "\n",
       "    .dataframe thead th {\n",
       "        text-align: right;\n",
       "    }\n",
       "</style>\n",
       "<table border=\"1\" class=\"dataframe\">\n",
       "  <thead>\n",
       "    <tr style=\"text-align: right;\">\n",
       "      <th></th>\n",
       "      <th>time</th>\n",
       "      <th>citation_issued</th>\n",
       "    </tr>\n",
       "    <tr>\n",
       "      <th>date</th>\n",
       "      <th></th>\n",
       "      <th></th>\n",
       "    </tr>\n",
       "  </thead>\n",
       "  <tbody>\n",
       "    <tr>\n",
       "      <th>2010-04-18</th>\n",
       "      <td>13140.0</td>\n",
       "      <td>False</td>\n",
       "    </tr>\n",
       "    <tr>\n",
       "      <th>2015-01-19</th>\n",
       "      <td>19920.0</td>\n",
       "      <td>False</td>\n",
       "    </tr>\n",
       "    <tr>\n",
       "      <th>2015-01-15</th>\n",
       "      <td>1020.0</td>\n",
       "      <td>False</td>\n",
       "    </tr>\n",
       "    <tr>\n",
       "      <th>2013-05-17</th>\n",
       "      <td>62760.0</td>\n",
       "      <td>False</td>\n",
       "    </tr>\n",
       "    <tr>\n",
       "      <th>2010-09-01</th>\n",
       "      <td>28140.0</td>\n",
       "      <td>False</td>\n",
       "    </tr>\n",
       "    <tr>\n",
       "      <th>...</th>\n",
       "      <td>...</td>\n",
       "      <td>...</td>\n",
       "    </tr>\n",
       "    <tr>\n",
       "      <th>2012-07-01</th>\n",
       "      <td>6360.0</td>\n",
       "      <td>False</td>\n",
       "    </tr>\n",
       "    <tr>\n",
       "      <th>2012-01-10</th>\n",
       "      <td>65220.0</td>\n",
       "      <td>True</td>\n",
       "    </tr>\n",
       "    <tr>\n",
       "      <th>2016-08-12</th>\n",
       "      <td>78420.0</td>\n",
       "      <td>False</td>\n",
       "    </tr>\n",
       "    <tr>\n",
       "      <th>2011-08-24</th>\n",
       "      <td>11460.0</td>\n",
       "      <td>False</td>\n",
       "    </tr>\n",
       "    <tr>\n",
       "      <th>2012-09-12</th>\n",
       "      <td>1920.0</td>\n",
       "      <td>False</td>\n",
       "    </tr>\n",
       "  </tbody>\n",
       "</table>\n",
       "<p>1000 rows × 2 columns</p>\n",
       "</div>"
      ],
      "text/plain": [
       "               time  citation_issued\n",
       "date                                \n",
       "2010-04-18  13140.0            False\n",
       "2015-01-19  19920.0            False\n",
       "2015-01-15   1020.0            False\n",
       "2013-05-17  62760.0            False\n",
       "2010-09-01  28140.0            False\n",
       "...             ...              ...\n",
       "2012-07-01   6360.0            False\n",
       "2012-01-10  65220.0             True\n",
       "2016-08-12  78420.0            False\n",
       "2011-08-24  11460.0            False\n",
       "2012-09-12   1920.0            False\n",
       "\n",
       "[1000 rows x 2 columns]"
      ]
     },
     "execution_count": 61,
     "metadata": {},
     "output_type": "execute_result"
    }
   ],
   "source": [
    "time_series_data.index = pd.to_datetime(time_series_data[\"date\"])\n",
    "time_series_data = time_series_data.drop(\"date\", axis=1)\n",
    "time_series_data"
   ]
  },
  {
   "cell_type": "markdown",
   "metadata": {},
   "source": [
    "**Question 1.5.2**: How can we effectively group the data to analyze police stop trends on a monthly or yearly basis using the 'date' column, and what insights can such analysis provide?\n",
    "\n",
    "Hint: \n",
    "1. Consider using the 'date' column to group data into monthly or yearly intervals. \n",
    "2. Create line plots to visualize how police stop trends change over time.\n",
    "3. Using column \"citation_issues\"\n"
   ]
  },
  {
   "cell_type": "code",
   "execution_count": 257,
   "metadata": {},
   "outputs": [
    {
     "data": {
      "image/png": "[encoded data removed]",
      "text/plain": [
       "<Figure size 432x288 with 1 Axes>"
      ]
     },
     "metadata": {},
     "output_type": "display_data"
    }
   ],
   "source": [
    "# Sample code to group data and create time series visualizations\n",
    "import matplotlib.pyplot as plt\n",
    "\n",
    "# Group data by month and analyze trends\n",
    "monthly_data = time_series_data.resample('M').count()  # Resample data to monthly frequency\n",
    "\n",
    "# Create a line plot to visualize monthly trends\n",
    "plt.plot(monthly_data.index, monthly_data['citation_issued'])\n",
    "plt.xlabel('Month')\n",
    "plt.ylabel('Police Stops Count')\n",
    "plt.title('Police Stop Trends Over Time')\n",
    "plt.show()"
   ]
  },
  {
   "cell_type": "markdown",
   "metadata": {},
   "source": [
    "**Question 1.5.3**: What are some key aggregation techniques that can be applied to the time-specific data in this dataset, particularly using the 'date' column, and why are they important for understanding the dataset?\n",
    "\n",
    "Hint: \n",
    "1. Consider aggregation methods such as count or mean to analyze the dataset over time, focusing on the 'date' column.\n",
    "2. Use \"citation_issued\" for 'your_column_of_interest'\n",
    "3. Use Sum as 'your_aggregation_function' with the specific variables you are interested in analyzing within your dataset."
   ]
  },
  {
   "cell_type": "code",
   "execution_count": 63,
   "metadata": {},
   "outputs": [
    {
     "ename": "KeyError",
     "evalue": "\"Column(s) ['your_column_of_interest'] do not exist\"",
     "output_type": "error",
     "traceback": [
      "\u001b[0;31m---------------------------------------------------------------------------\u001b[0m",
      "\u001b[0;31mKeyError\u001b[0m                                  Traceback (most recent call last)",
      "\u001b[1;32m/Users/fionaaaaa_mei/Documents/GitHub/Legalst-123/labs/04_Probability Distributions, Bootstrap, and Confidence Intervals/04_Visualizatio_SummaryStatistics_Aggregations.ipynb Cell 49\u001b[0m line \u001b[0;36m2\n\u001b[1;32m      <a href='vscode-notebook-cell:/Users/fionaaaaa_mei/Documents/GitHub/Legalst-123/labs/04_Probability%20Distributions%2C%20Bootstrap%2C%20and%20Confidence%20Intervals/04_Visualizatio_SummaryStatistics_Aggregations.ipynb#X60sZmlsZQ%3D%3D?line=0'>1</a>\u001b[0m \u001b[39m# Sample code for demonstrating aggregation techniques\u001b[39;00m\n\u001b[0;32m----> <a href='vscode-notebook-cell:/Users/fionaaaaa_mei/Documents/GitHub/Legalst-123/labs/04_Probability%20Distributions%2C%20Bootstrap%2C%20and%20Confidence%20Intervals/04_Visualizatio_SummaryStatistics_Aggregations.ipynb#X60sZmlsZQ%3D%3D?line=1'>2</a>\u001b[0m aggregated_data \u001b[39m=\u001b[39m time_series_data\u001b[39m.\u001b[39;49mgroupby(\u001b[39m'\u001b[39;49m\u001b[39mdate\u001b[39;49m\u001b[39m'\u001b[39;49m)\u001b[39m.\u001b[39;49magg({\u001b[39m'\u001b[39;49m\u001b[39myour_column_of_interest\u001b[39;49m\u001b[39m'\u001b[39;49m: \u001b[39m'\u001b[39;49m\u001b[39myour_aggregation_function\u001b[39;49m\u001b[39m'\u001b[39;49m})\n",
      "File \u001b[0;32m/Library/Frameworks/Python.framework/Versions/3.11/lib/python3.11/site-packages/pandas/core/groupby/generic.py:1442\u001b[0m, in \u001b[0;36mDataFrameGroupBy.aggregate\u001b[0;34m(self, func, engine, engine_kwargs, *args, **kwargs)\u001b[0m\n\u001b[1;32m   1439\u001b[0m     kwargs[\u001b[39m\"\u001b[39m\u001b[39mengine_kwargs\u001b[39m\u001b[39m\"\u001b[39m] \u001b[39m=\u001b[39m engine_kwargs\n\u001b[1;32m   1441\u001b[0m op \u001b[39m=\u001b[39m GroupByApply(\u001b[39mself\u001b[39m, func, args\u001b[39m=\u001b[39margs, kwargs\u001b[39m=\u001b[39mkwargs)\n\u001b[0;32m-> 1442\u001b[0m result \u001b[39m=\u001b[39m op\u001b[39m.\u001b[39;49magg()\n\u001b[1;32m   1443\u001b[0m \u001b[39mif\u001b[39;00m \u001b[39mnot\u001b[39;00m is_dict_like(func) \u001b[39mand\u001b[39;00m result \u001b[39mis\u001b[39;00m \u001b[39mnot\u001b[39;00m \u001b[39mNone\u001b[39;00m:\n\u001b[1;32m   1444\u001b[0m     \u001b[39m# GH #52849\u001b[39;00m\n\u001b[1;32m   1445\u001b[0m     \u001b[39mif\u001b[39;00m \u001b[39mnot\u001b[39;00m \u001b[39mself\u001b[39m\u001b[39m.\u001b[39mas_index \u001b[39mand\u001b[39;00m is_list_like(func):\n",
      "File \u001b[0;32m/Library/Frameworks/Python.framework/Versions/3.11/lib/python3.11/site-packages/pandas/core/apply.py:175\u001b[0m, in \u001b[0;36mApply.agg\u001b[0;34m(self)\u001b[0m\n\u001b[1;32m    172\u001b[0m     \u001b[39mreturn\u001b[39;00m \u001b[39mself\u001b[39m\u001b[39m.\u001b[39mapply_str()\n\u001b[1;32m    174\u001b[0m \u001b[39mif\u001b[39;00m is_dict_like(func):\n\u001b[0;32m--> 175\u001b[0m     \u001b[39mreturn\u001b[39;00m \u001b[39mself\u001b[39;49m\u001b[39m.\u001b[39;49magg_dict_like()\n\u001b[1;32m    176\u001b[0m \u001b[39melif\u001b[39;00m is_list_like(func):\n\u001b[1;32m    177\u001b[0m     \u001b[39m# we require a list, but not a 'str'\u001b[39;00m\n\u001b[1;32m    178\u001b[0m     \u001b[39mreturn\u001b[39;00m \u001b[39mself\u001b[39m\u001b[39m.\u001b[39magg_list_like()\n",
      "File \u001b[0;32m/Library/Frameworks/Python.framework/Versions/3.11/lib/python3.11/site-packages/pandas/core/apply.py:406\u001b[0m, in \u001b[0;36mApply.agg_dict_like\u001b[0;34m(self)\u001b[0m\n\u001b[1;32m    398\u001b[0m \u001b[39mdef\u001b[39;00m \u001b[39magg_dict_like\u001b[39m(\u001b[39mself\u001b[39m) \u001b[39m-\u001b[39m\u001b[39m>\u001b[39m DataFrame \u001b[39m|\u001b[39m Series:\n\u001b[1;32m    399\u001b[0m \u001b[39m    \u001b[39m\u001b[39m\"\"\"\u001b[39;00m\n\u001b[1;32m    400\u001b[0m \u001b[39m    Compute aggregation in the case of a dict-like argument.\u001b[39;00m\n\u001b[1;32m    401\u001b[0m \n\u001b[0;32m   (...)\u001b[0m\n\u001b[1;32m    404\u001b[0m \u001b[39m    Result of aggregation.\u001b[39;00m\n\u001b[1;32m    405\u001b[0m \u001b[39m    \"\"\"\u001b[39;00m\n\u001b[0;32m--> 406\u001b[0m     \u001b[39mreturn\u001b[39;00m \u001b[39mself\u001b[39;49m\u001b[39m.\u001b[39;49magg_or_apply_dict_like(op_name\u001b[39m=\u001b[39;49m\u001b[39m\"\u001b[39;49m\u001b[39magg\u001b[39;49m\u001b[39m\"\u001b[39;49m)\n",
      "File \u001b[0;32m/Library/Frameworks/Python.framework/Versions/3.11/lib/python3.11/site-packages/pandas/core/apply.py:1388\u001b[0m, in \u001b[0;36mGroupByApply.agg_or_apply_dict_like\u001b[0;34m(self, op_name)\u001b[0m\n\u001b[1;32m   1383\u001b[0m     kwargs\u001b[39m.\u001b[39mupdate({\u001b[39m\"\u001b[39m\u001b[39mengine\u001b[39m\u001b[39m\"\u001b[39m: engine, \u001b[39m\"\u001b[39m\u001b[39mengine_kwargs\u001b[39m\u001b[39m\"\u001b[39m: engine_kwargs})\n\u001b[1;32m   1385\u001b[0m \u001b[39mwith\u001b[39;00m com\u001b[39m.\u001b[39mtemp_setattr(\n\u001b[1;32m   1386\u001b[0m     obj, \u001b[39m\"\u001b[39m\u001b[39mas_index\u001b[39m\u001b[39m\"\u001b[39m, \u001b[39mTrue\u001b[39;00m, condition\u001b[39m=\u001b[39m\u001b[39mhasattr\u001b[39m(obj, \u001b[39m\"\u001b[39m\u001b[39mas_index\u001b[39m\u001b[39m\"\u001b[39m)\n\u001b[1;32m   1387\u001b[0m ):\n\u001b[0;32m-> 1388\u001b[0m     result_index, result_data \u001b[39m=\u001b[39m \u001b[39mself\u001b[39;49m\u001b[39m.\u001b[39;49mcompute_dict_like(\n\u001b[1;32m   1389\u001b[0m         op_name, selected_obj, selection, kwargs\n\u001b[1;32m   1390\u001b[0m     )\n\u001b[1;32m   1391\u001b[0m result \u001b[39m=\u001b[39m \u001b[39mself\u001b[39m\u001b[39m.\u001b[39mwrap_results_dict_like(selected_obj, result_index, result_data)\n\u001b[1;32m   1392\u001b[0m \u001b[39mreturn\u001b[39;00m result\n",
      "File \u001b[0;32m/Library/Frameworks/Python.framework/Versions/3.11/lib/python3.11/site-packages/pandas/core/apply.py:445\u001b[0m, in \u001b[0;36mApply.compute_dict_like\u001b[0;34m(self, op_name, selected_obj, selection, kwargs)\u001b[0m\n\u001b[1;32m    443\u001b[0m is_groupby \u001b[39m=\u001b[39m \u001b[39misinstance\u001b[39m(obj, (DataFrameGroupBy, SeriesGroupBy))\n\u001b[1;32m    444\u001b[0m func \u001b[39m=\u001b[39m cast(AggFuncTypeDict, \u001b[39mself\u001b[39m\u001b[39m.\u001b[39mfunc)\n\u001b[0;32m--> 445\u001b[0m func \u001b[39m=\u001b[39m \u001b[39mself\u001b[39;49m\u001b[39m.\u001b[39;49mnormalize_dictlike_arg(op_name, selected_obj, func)\n\u001b[1;32m    447\u001b[0m is_non_unique_col \u001b[39m=\u001b[39m (\n\u001b[1;32m    448\u001b[0m     selected_obj\u001b[39m.\u001b[39mndim \u001b[39m==\u001b[39m \u001b[39m2\u001b[39m\n\u001b[1;32m    449\u001b[0m     \u001b[39mand\u001b[39;00m selected_obj\u001b[39m.\u001b[39mcolumns\u001b[39m.\u001b[39mnunique() \u001b[39m<\u001b[39m \u001b[39mlen\u001b[39m(selected_obj\u001b[39m.\u001b[39mcolumns)\n\u001b[1;32m    450\u001b[0m )\n\u001b[1;32m    452\u001b[0m \u001b[39mif\u001b[39;00m selected_obj\u001b[39m.\u001b[39mndim \u001b[39m==\u001b[39m \u001b[39m1\u001b[39m:\n\u001b[1;32m    453\u001b[0m     \u001b[39m# key only used for output\u001b[39;00m\n",
      "File \u001b[0;32m/Library/Frameworks/Python.framework/Versions/3.11/lib/python3.11/site-packages/pandas/core/apply.py:639\u001b[0m, in \u001b[0;36mApply.normalize_dictlike_arg\u001b[0;34m(self, how, obj, func)\u001b[0m\n\u001b[1;32m    637\u001b[0m     cols \u001b[39m=\u001b[39m Index(\u001b[39mlist\u001b[39m(func\u001b[39m.\u001b[39mkeys()))\u001b[39m.\u001b[39mdifference(obj\u001b[39m.\u001b[39mcolumns, sort\u001b[39m=\u001b[39m\u001b[39mTrue\u001b[39;00m)\n\u001b[1;32m    638\u001b[0m     \u001b[39mif\u001b[39;00m \u001b[39mlen\u001b[39m(cols) \u001b[39m>\u001b[39m \u001b[39m0\u001b[39m:\n\u001b[0;32m--> 639\u001b[0m         \u001b[39mraise\u001b[39;00m \u001b[39mKeyError\u001b[39;00m(\u001b[39mf\u001b[39m\u001b[39m\"\u001b[39m\u001b[39mColumn(s) \u001b[39m\u001b[39m{\u001b[39;00m\u001b[39mlist\u001b[39m(cols)\u001b[39m}\u001b[39;00m\u001b[39m do not exist\u001b[39m\u001b[39m\"\u001b[39m)\n\u001b[1;32m    641\u001b[0m aggregator_types \u001b[39m=\u001b[39m (\u001b[39mlist\u001b[39m, \u001b[39mtuple\u001b[39m, \u001b[39mdict\u001b[39m)\n\u001b[1;32m    643\u001b[0m \u001b[39m# if we have a dict of any non-scalars\u001b[39;00m\n\u001b[1;32m    644\u001b[0m \u001b[39m# eg. {'A' : ['mean']}, normalize all to\u001b[39;00m\n\u001b[1;32m    645\u001b[0m \u001b[39m# be list-likes\u001b[39;00m\n\u001b[1;32m    646\u001b[0m \u001b[39m# Cannot use func.values() because arg may be a Series\u001b[39;00m\n",
      "\u001b[0;31mKeyError\u001b[0m: \"Column(s) ['your_column_of_interest'] do not exist\""
     ]
    }
   ],
   "source": [
    "# Sample code for demonstrating aggregation techniques\n",
    "aggregated_data = time_series_data.groupby('date').agg({'your_column_of_interest': 'your_aggregation_function'})"
   ]
  },
  {
   "cell_type": "markdown",
   "metadata": {},
   "source": [
    "**Question 1.5.4**: Could you explain the process of creating line plots to visualize time series data based on the 'date' column, and provide an example of what a line plot might reveal about the data over time?\n",
    "\n",
    "Hint: \n",
    "1. Use the aggregated data from Section 3 and create line plots to visually represent trends over time.\n",
    "2. Use \"citation_issued\" as 'your_column_of_interest'."
   ]
  },
  {
   "cell_type": "code",
   "execution_count": null,
   "metadata": {},
   "outputs": [
    {
     "ename": "NameError",
     "evalue": "name 'aggregated_data' is not defined",
     "output_type": "error",
     "traceback": [
      "\u001b[0;31m---------------------------------------------------------------------------\u001b[0m",
      "\u001b[0;31mNameError\u001b[0m                                 Traceback (most recent call last)",
      "\u001b[0;32m/var/folders/qj/1mxrck1x3fg7s25g3g04md640000gn/T/ipykernel_6113/2522848043.py\u001b[0m in \u001b[0;36m<module>\u001b[0;34m\u001b[0m\n\u001b[1;32m      1\u001b[0m \u001b[0;31m# Sample code for creating line plots to visualize time series data\u001b[0m\u001b[0;34m\u001b[0m\u001b[0;34m\u001b[0m\u001b[0;34m\u001b[0m\u001b[0m\n\u001b[0;32m----> 2\u001b[0;31m \u001b[0mplt\u001b[0m\u001b[0;34m.\u001b[0m\u001b[0mplot\u001b[0m\u001b[0;34m(\u001b[0m\u001b[0maggregated_data\u001b[0m\u001b[0;34m.\u001b[0m\u001b[0mindex\u001b[0m\u001b[0;34m,\u001b[0m \u001b[0maggregated_data\u001b[0m\u001b[0;34m[\u001b[0m\u001b[0;34m'your_column_of_interest'\u001b[0m\u001b[0;34m]\u001b[0m\u001b[0;34m)\u001b[0m\u001b[0;34m\u001b[0m\u001b[0;34m\u001b[0m\u001b[0m\n\u001b[0m\u001b[1;32m      3\u001b[0m \u001b[0mplt\u001b[0m\u001b[0;34m.\u001b[0m\u001b[0mxlabel\u001b[0m\u001b[0;34m(\u001b[0m\u001b[0;34m'Date'\u001b[0m\u001b[0;34m)\u001b[0m\u001b[0;34m\u001b[0m\u001b[0;34m\u001b[0m\u001b[0m\n\u001b[1;32m      4\u001b[0m \u001b[0mplt\u001b[0m\u001b[0;34m.\u001b[0m\u001b[0mylabel\u001b[0m\u001b[0;34m(\u001b[0m\u001b[0;34m'Your Y-axis Label'\u001b[0m\u001b[0;34m)\u001b[0m\u001b[0;34m\u001b[0m\u001b[0;34m\u001b[0m\u001b[0m\n\u001b[1;32m      5\u001b[0m \u001b[0mplt\u001b[0m\u001b[0;34m.\u001b[0m\u001b[0mtitle\u001b[0m\u001b[0;34m(\u001b[0m\u001b[0;34m'Time Series Data Visualization'\u001b[0m\u001b[0;34m)\u001b[0m\u001b[0;34m\u001b[0m\u001b[0;34m\u001b[0m\u001b[0m\n",
      "\u001b[0;31mNameError\u001b[0m: name 'aggregated_data' is not defined"
     ]
    }
   ],
   "source": [
    "# Sample code for creating line plots to visualize time series data\n",
    "plt.plot(aggregated_data.index, aggregated_data['your_column_of_interest'])\n",
    "plt.xlabel('Date')\n",
    "plt.ylabel('Your Y-axis Label')\n",
    "plt.title('Time Series Data Visualization')\n",
    "plt.show()"
   ]
  },
  {
   "cell_type": "markdown",
   "metadata": {},
   "source": [
    "## Conclusion "
   ]
  },
  {
   "cell_type": "markdown",
   "metadata": {},
   "source": [
    "Summarize key findings from the data analysis. Discuss insights or patterns observed during the analysis.\n",
    "\n",
    "Reflect on the importance of data cleaning, summary statistics, visualization, and data aggregation in exploratory data analysis.\n",
    "\n"
   ]
  },
  {
   "cell_type": "code",
   "execution_count": null,
   "metadata": {},
   "outputs": [],
   "source": [
    "# HERE"
   ]
  },
  {
   "cell_type": "markdown",
   "metadata": {},
   "source": [
    "## References"
   ]
  },
  {
   "cell_type": "markdown",
   "metadata": {},
   "source": [
    "Include references or data sources used in the lab, such as the Stanford traffic stop data library and relevant documents related to Nashville policing practices for traffic stops."
   ]
  },
  {
   "cell_type": "markdown",
   "metadata": {},
   "source": []
  }
 ],
 "metadata": {
  "kernelspec": {
   "display_name": "Python 3.9.0 64-bit",
   "language": "python",
   "name": "python3"
  },
  "language_info": {
   "codemirror_mode": {
    "name": "ipython",
    "version": 3
   },
   "file_extension": ".py",
   "mimetype": "text/x-python",
   "name": "python",
   "nbconvert_exporter": "python",
   "pygments_lexer": "ipython3",
   "version": "3.11.5"
  },
  "vscode": {
   "interpreter": {
    "hash": "aee8b7b246df8f9039afb4144a1f6fd8d2ca17a180786b69acc140d282b71a49"
   }
  }
 },
 "nbformat": 4,
 "nbformat_minor": 2
}
