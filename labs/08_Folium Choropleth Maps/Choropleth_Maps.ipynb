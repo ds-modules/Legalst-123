{
 "cells": [
  {
   "cell_type": "markdown",
   "source": [
    "# [LEGALST-123] Lab 08: Folium Choropleth"
   ],
   "metadata": {}
  },
  {
   "cell_type": "code",
   "execution_count": null,
   "source": [
    "!pip install folium --upgrade"
   ],
   "outputs": [],
   "metadata": {}
  },
  {
   "cell_type": "code",
   "execution_count": null,
   "source": [
    "#from datascience import *\n",
    "%matplotlib inline\n",
    "import matplotlib.pyplot as plt\n",
    "import numpy as np\n",
    "import pandas as pd\n",
    "import folium\n",
    "import json\n",
    "import os\n",
    "from branca.colormap import linear\n",
    "import branca.colormap"
   ],
   "outputs": [],
   "metadata": {}
  },
  {
   "cell_type": "markdown",
   "source": [
    "## Data"
   ],
   "metadata": {}
  },
  {
   "cell_type": "markdown",
   "source": [
    "We'll use the same \"us-states\" data from last time. For the choropleth, we'll use the \"US_Unemployment_Oct2012.csv\" dataset that contains unemployment rates by State for October 2012."
   ],
   "metadata": {}
  },
  {
   "cell_type": "code",
   "execution_count": null,
   "source": [
    "# US States GeoJSON file\n",
    "us_states = os.path.join('data', 'us-states.json')\n",
    "geo_json_data = json.load(open(us_states))\n",
    "\n",
    "# Unemployment Data\n",
    "US_Unemployment_Oct2012 = os.path.join('data', 'US_Unemployment_Oct2012.csv')\n",
    "unemployment = pd.read_csv(US_Unemployment_Oct2012)"
   ],
   "outputs": [],
   "metadata": {}
  },
  {
   "cell_type": "markdown",
   "source": [
    "## Base Map Review"
   ],
   "metadata": {}
  },
  {
   "cell_type": "markdown",
   "source": [
    "Plot a basemap of the United States, overlay it with the \"us_states\" GeoJSON file, and customize the color scheme."
   ],
   "metadata": {}
  },
  {
   "cell_type": "code",
   "execution_count": null,
   "source": [],
   "outputs": [],
   "metadata": {}
  },
  {
   "cell_type": "markdown",
   "source": [
    "## Choropleth"
   ],
   "metadata": {}
  },
  {
   "cell_type": "markdown",
   "source": [
    "Choropleths are a mapping technique that are popular among data scientists because they use color to display statistical information. Generally, choropleths shade geographic regions by intensity of some measure (in our case, unemployment rates). Consult the documentation here: https://python-visualization.github.io/folium/docs-v0.5.0/modules.html"
   ],
   "metadata": {}
  },
  {
   "cell_type": "markdown",
   "source": [
    "**Step 1**:\n",
    "\n",
    "Before we start shading states by their unemployment rates, we need to decide on a color scale! \n",
    "\n",
    "Consult the branca colormap documentation, and scroll down to ln 18: https://github.com/python-visualization/folium/blob/master/examples/Colormaps.ipynb. To generally see how colormap's syntax works, see here: https://python-visualization.github.io/branca/colormap.html\n",
    "\n",
    "Then, create an object called colormap that uses \"linear. .scale()\" to create a sliding color scale that ranges from the minimum unemployment to the maximum."
   ],
   "metadata": {}
  },
  {
   "cell_type": "code",
   "execution_count": null,
   "source": [],
   "outputs": [],
   "metadata": {}
  },
  {
   "cell_type": "markdown",
   "source": [
    "**Step 2**:\n",
    "\n",
    "Next, we need to convert our unemployment into a dictionary, which will be passed into the folium.GeoJson argument. Take a peak at the dataframe (note that we loaded it as a pandas dataframe instead of a datascience Table) by using the \"head\" method. Then, create an object called \"unemployment_dict\" by using the \"set_index\" method."
   ],
   "metadata": {}
  },
  {
   "cell_type": "code",
   "execution_count": null,
   "source": [],
   "outputs": [],
   "metadata": {}
  },
  {
   "cell_type": "code",
   "execution_count": null,
   "source": [
    "unemployment_dict = unemployment.set_index()[]"
   ],
   "outputs": [],
   "metadata": {}
  },
  {
   "cell_type": "markdown",
   "source": [
    "**Step 3**:\n",
    "\n",
    "We're ready to plot! Use folium.Map to create a base map of the U.S., then folium.GeoJson to overlay the geo_json_data and add color. Hint: For the 'fillColor' argument, try something like this: \n",
    "\n",
    "'fillColor': colormap(unemployment_dict[feature['id']]"
   ],
   "metadata": {}
  },
  {
   "cell_type": "code",
   "execution_count": null,
   "source": [],
   "outputs": [],
   "metadata": {}
  },
  {
   "cell_type": "markdown",
   "source": [
    "To wrap up, let's add a color legend. Use \"colormap.caption\" and \"colormap.add_to()\" to add the legend to the map, and call it again."
   ],
   "metadata": {}
  },
  {
   "cell_type": "code",
   "execution_count": null,
   "source": [],
   "outputs": [],
   "metadata": {}
  },
  {
   "cell_type": "markdown",
   "source": [
    "#### Question 1"
   ],
   "metadata": {}
  },
  {
   "cell_type": "markdown",
   "source": [
    "What patterns do you notice in the variation in state unemployment rates in 2012? What do you think might help explain some of these differences?"
   ],
   "metadata": {}
  },
  {
   "cell_type": "markdown",
   "source": [],
   "metadata": {}
  },
  {
   "cell_type": "markdown",
   "source": [
    "## Fun With Colors"
   ],
   "metadata": {}
  },
  {
   "cell_type": "markdown",
   "source": [
    "Let's experiment with a few different options in the \"colormap\" module. First, try filling in the code below to customize a color pallette. Fill in three colors, and indices for the color breaks:"
   ],
   "metadata": {}
  },
  {
   "cell_type": "code",
   "execution_count": null,
   "source": [],
   "outputs": [],
   "metadata": {}
  },
  {
   "cell_type": "markdown",
   "source": [
    "Now replot the map of U.S. unemployment with this new color scheme!"
   ],
   "metadata": {}
  },
  {
   "cell_type": "code",
   "execution_count": null,
   "source": [],
   "outputs": [],
   "metadata": {}
  },
  {
   "cell_type": "markdown",
   "source": [
    "Use \"branca.colormap.linear\" to explore different color scale gradients. Experiment with choropleths that use different color schemes!"
   ],
   "metadata": {}
  },
  {
   "cell_type": "code",
   "execution_count": null,
   "source": [],
   "outputs": [],
   "metadata": {}
  },
  {
   "cell_type": "code",
   "execution_count": null,
   "source": [],
   "outputs": [],
   "metadata": {}
  },
  {
   "cell_type": "markdown",
   "source": [
    "Finally, let's create a map that allows you to highlight states and zoom in on them. Use the \"highlight\" argument to add this feature."
   ],
   "metadata": {}
  },
  {
   "cell_type": "code",
   "execution_count": null,
   "source": [],
   "outputs": [],
   "metadata": {}
  },
  {
   "cell_type": "code",
   "execution_count": null,
   "source": [],
   "outputs": [],
   "metadata": {}
  }
 ],
 "metadata": {
  "kernelspec": {
   "display_name": "Python 3",
   "language": "python",
   "name": "python3"
  },
  "language_info": {
   "codemirror_mode": {
    "name": "ipython",
    "version": 3
   },
   "file_extension": ".py",
   "mimetype": "text/x-python",
   "name": "python",
   "nbconvert_exporter": "python",
   "pygments_lexer": "ipython3",
   "version": "3.6.5"
  }
 },
 "nbformat": 4,
 "nbformat_minor": 2
}