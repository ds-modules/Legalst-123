{
 "cells": [
  {
   "cell_type": "markdown",
   "source": [
    "# [LEGALST-123] Lab 09: Folium Heatmaps Lab\n",
    "\n",
    "---\n",
    "\n",
    "In this lab, students will learn how to construct a heatmap, as well as an interactive heat map. This will also be a component of the take-home problem set. This builds ontop of the folium labs from last week.\n"
   ],
   "metadata": {}
  },
  {
   "cell_type": "code",
   "execution_count": null,
   "source": [
    "# dependencies\n",
    "%matplotlib inline\n",
    "import matplotlib.pyplot as plt\n",
    "import numpy as np\n",
    "import pandas as pd\n",
    "import folium\n",
    "import json\n",
    "import os"
   ],
   "outputs": [],
   "metadata": {}
  },
  {
   "cell_type": "code",
   "execution_count": null,
   "source": [
    "!pip install folium --upgrade\n",
    "import folium.plugins # The Folium Javascript Map Library\n",
    "from folium.plugins import HeatMap\n",
    "from folium.plugins import HeatMapWithTime"
   ],
   "outputs": [],
   "metadata": {}
  },
  {
   "cell_type": "markdown",
   "source": [
    "---\n",
    "\n",
    "## The Data <a id='data'></a>\n",
    "---\n",
    "\n",
    "Today we'll be working with data on Berkeley crime calls, courtesy of the Berkeley Police department. Take a look at the metadata [here.](https://data.cityofberkeley.info/Public-Safety/Berkeley-PD-Calls-for-Service/k2nh-s5h5)\n",
    "\n",
    "Note: this data set has already undergone a fair amount of cleaning to format it for our purposes (e.g. extracting the longitude and latitude, removing null values, and dropping irrelevant columns). You can see the original data at the source website.\n",
    "\n",
    "Then, run the cell below to load the data into a Dataframe.  "
   ],
   "metadata": {}
  },
  {
   "cell_type": "code",
   "execution_count": null,
   "source": [
    "calls = ...\n"
   ],
   "outputs": [],
   "metadata": {}
  },
  {
   "cell_type": "markdown",
   "source": [
    "When working with any new data set, it's a good idea to get to know it first. Use the following cell and the information on cityofberkeley.org to answer some basic questions:\n",
    "- What information does this table contain? What are the different columns?\n",
    "- How large is the data set? \n",
    "- What kinds of questions could we answer using this data set?"
   ],
   "metadata": {}
  },
  {
   "cell_type": "markdown",
   "source": [
    "<b> Solution </b> :"
   ],
   "metadata": {}
  },
  {
   "cell_type": "code",
   "execution_count": null,
   "source": [
    "# what are dimensions of dataframe\n",
    "\n",
    "# what are the columns\n"
   ],
   "outputs": [],
   "metadata": {}
  },
  {
   "cell_type": "markdown",
   "source": [
    "## Heatmap <a id='data'></a>"
   ],
   "metadata": {}
  },
  {
   "cell_type": "markdown",
   "source": [
    "Let's see if we can figure out what heatmap does and why it is useful.But first, we're going to quickly review how to use folium.Map. Again, you should consult the [python visualizer](https://python-visualization.github.io/folium/quickstart.html) for a refresher in case you forget how folium works!"
   ],
   "metadata": {}
  },
  {
   "cell_type": "markdown",
   "source": [
    "Plot a map of the United States again using folium.Map.\n",
    "\n",
    "<b>Reminder</b>: It is in the order of lat, log and the larger the zoom_start is the closer the map is."
   ],
   "metadata": {}
  },
  {
   "cell_type": "code",
   "execution_count": null,
   "source": [
    "# First, we create a folium Map\n",
    "example_map1 = ...\n",
    "example_map1"
   ],
   "outputs": [],
   "metadata": {}
  },
  {
   "cell_type": "markdown",
   "source": [
    "### Key Note"
   ],
   "metadata": {}
  },
  {
   "cell_type": "markdown",
   "source": [
    "Heatmaps do not take Dataframes so you will need to provide a list of lat, lons, i.e. a list of lists. \n",
    "\n",
    "Imagine that it looks something like this: `[[lat, lon],[lat, lon],[lat, lon],[lat, lon],[lat, lon]]`. This means if you were given a Dataframe, there are a few steps you'd have to take.\n",
    "\n",
    "1. Make sure the lat and lon are floats.\n",
    "2. Filter the Dataframe for the correct rows and columns.\n",
    "\n",
    "What is something else you believe you'll need to check for to make sure that Heatmap will work?"
   ],
   "metadata": {
    "collapsed": true
   }
  },
  {
   "cell_type": "markdown",
   "source": [
    "<b> Solution </b> : Check for NaNs. "
   ],
   "metadata": {}
  },
  {
   "cell_type": "markdown",
   "source": [
    "Our data set today has already had the NaNs filtered out, but that might not be true for data you work with in the future...\n",
    "\n",
    "Run the next cell to generate a set of dummy `[[lat, lon]]` pairs for the HeatMap. Don't worry about the information itself. Instead, note how the array is formatted."
   ],
   "metadata": {}
  },
  {
   "cell_type": "code",
   "execution_count": null,
   "source": [
    "# The first two lines generate an array of small random numbers.\n",
    "# The third line adds the random numbers to the pair [48, 5] to get 100 latitude, longitude pairs near [48, 5]\n",
    "data = (np.random.normal(size=(100, 2)) *\n",
    "        np.array([[1, 1]]) +\n",
    "        np.array([[39.83, -98.59]])).tolist()\n",
    "\n",
    "# Print first 10 sample points\n",
    "data[:10]"
   ],
   "outputs": [],
   "metadata": {}
  },
  {
   "cell_type": "markdown",
   "source": [
    "Then we can plot it on the map! The function is pretty simple: \n",
    "1. Create a Heatmap using the function `Heatmap(your_lat_lon_data)`\n",
    "2. Add that Heatmap to your existing map with `add_to(your_map)`"
   ],
   "metadata": {}
  },
  {
   "cell_type": "code",
   "execution_count": null,
   "source": [
    "# Add the HeatMap to the map\n",
    "HeatMap(data).add_to(example_map1)\n",
    "\n",
    "example_map1"
   ],
   "outputs": [],
   "metadata": {}
  },
  {
   "cell_type": "markdown",
   "source": [
    "Play around with your new Heatmap. What is it plotting? What kinds of things would a Heatmap be useful for?"
   ],
   "metadata": {}
  },
  {
   "cell_type": "markdown",
   "source": [
    "<b> Response here </b>"
   ],
   "metadata": {}
  },
  {
   "cell_type": "markdown",
   "source": [
    "### Try It Out"
   ],
   "metadata": {}
  },
  {
   "cell_type": "markdown",
   "source": [
    "Now, try making your own Heatmap using the Berkeley PD call data. First, plot a Folium Map of the Bay Area, just like you did last week."
   ],
   "metadata": {}
  },
  {
   "cell_type": "code",
   "execution_count": null,
   "source": [
    "#Plot the map of Berkeley\n",
    "berk_coords = ...\n",
    "berk_map = folium.Map(location=berk_coords, zoom_start=13) \n",
    "berk_map"
   ],
   "outputs": [],
   "metadata": {}
  },
  {
   "cell_type": "markdown",
   "source": [
    "Next, extract your latitude and longitude data from the `calls` Dataframe and save each to the variables `lat` and `lon`. We want the data as a numpy array, so index the Dataframe by the correct column (e.g. `calls[\"Column_I_Want\"]`) to get a Series, then call `.values` to get an array."
   ],
   "metadata": {}
  },
  {
   "cell_type": "code",
   "execution_count": null,
   "source": [
    "lat = ...\n",
    "lon = ...\n",
    "lat"
   ],
   "outputs": [],
   "metadata": {}
  },
  {
   "cell_type": "markdown",
   "source": [
    "We have the right data, but it isn't in the right shape: we want an array of arrays, where the first column is latitudes, the second column is longitudes, and each row is a `[lat, lon]` pair (see the example above). We can do this by:\n",
    "1. **Stacking** the `lat` array on top of the `lon` array into one larger array with `np.vstack`\n",
    "2. **Transposing** our stacked array so the latitude and longitude are vertical columns, not horizontal rows.\n",
    "\n",
    "Hint 1: the stacking function call looks something like `np.vstack((top_array, bottom_array))`\n",
    "Hint 2: you can transpose an array by calling `.transpose()` on the array"
   ],
   "metadata": {}
  },
  {
   "cell_type": "code",
   "execution_count": null,
   "source": [
    "call_locs = ....\n",
    "call_locs[:5]"
   ],
   "outputs": [],
   "metadata": {}
  },
  {
   "cell_type": "markdown",
   "source": [
    "Now, you have everything you need to make your HeatMap! Do so in the cell below."
   ],
   "metadata": {}
  },
  {
   "cell_type": "code",
   "execution_count": null,
   "source": [
    "# Create a Heatmap with the call data.\n",
    "heatmap = ...\n",
    "\n",
    "# Add it to your Berkeley map.\n",
    "berk_map.add_child(heatmap)"
   ],
   "outputs": [],
   "metadata": {}
  },
  {
   "cell_type": "markdown",
   "source": [
    "What conclusions can you draw from this Heatmap?"
   ],
   "metadata": {}
  },
  {
   "cell_type": "markdown",
   "source": [
    "<b>Solution</b>:\n",
    "\n",
    "<b> Response here </b>"
   ],
   "metadata": {}
  },
  {
   "cell_type": "markdown",
   "source": [
    "## HeatMapwithTime <a id='data'></a>"
   ],
   "metadata": {}
  },
  {
   "cell_type": "markdown",
   "source": [
    "Now what do you think is different with HeatMapwithTime?"
   ],
   "metadata": {}
  },
  {
   "cell_type": "markdown",
   "source": [
    "<b> Solution</b>: \n",
    "\n",
    "<b> Response here </b>"
   ],
   "metadata": {}
  },
  {
   "cell_type": "markdown",
   "source": [
    "In this example, we'll again use dummy data to show how it works. It follows a similar process to HeatMap. First, create another Folium Map centered at the geographical center of the USA."
   ],
   "metadata": {}
  },
  {
   "cell_type": "code",
   "execution_count": null,
   "source": [
    "# Create a folium Map at the USA's center\n",
    "example_map2 = ...\n",
    "example_map2"
   ],
   "outputs": [],
   "metadata": {}
  },
  {
   "cell_type": "markdown",
   "source": [
    "Next, we will create more dummy location data to simulate locations associated with different dates. Don't worry too much about the code here, but you do need to understand how the output is shaped and why it needs to be shaped like that."
   ],
   "metadata": {}
  },
  {
   "cell_type": "code",
   "execution_count": null,
   "source": [
    "# This cell builds together an array of initial data to display on our HeatMapwithTime. Just as before, these are dummy \n",
    "# variables that are 100 copies of the center of the USA meant to simulate different locations in the area.\n",
    "# Again, we have to use lon and lat in addition to time.\n",
    "np.random.seed(3141592)\n",
    "initial_data = (\n",
    "    np.random.normal(size=(100, 2)) * np.array([[1, 1]]) +\n",
    "    np.array([[39.83, -98.59]])\n",
    ")\n",
    "\n",
    "# Create even more random lat/lon pairs and group into 100 lists\n",
    "# You don't need to know how to write this code\n",
    "move_data = np.random.normal(size=(100, 2)) * 0.01\n",
    "\n",
    "data = [(initial_data + move_data * i).tolist() for i in range(100)]\n",
    "data[1][:5]"
   ],
   "outputs": [],
   "metadata": {}
  },
  {
   "cell_type": "markdown",
   "source": [
    "Since we're using HeatMapWithTime, we need an extra parameter: the dates for each list of lat/lon pairs. Run the next cell to create one."
   ],
   "metadata": {}
  },
  {
   "cell_type": "code",
   "execution_count": null,
   "source": [
    "# Generate a set of dates for this dummy data.\n",
    "# Luckily for us, when you test this out for yourself, dates came with your data set.\n",
    "# You don't need to write out this code, but do look it over and see if you can understand it.\n",
    "from datetime import datetime, timedelta\n",
    "\n",
    "time_index = [\n",
    "    (datetime.now() + k * timedelta(1)).strftime('%Y-%m-%d') for\n",
    "    k in range(len(data))\n",
    "]"
   ],
   "outputs": [],
   "metadata": {}
  },
  {
   "cell_type": "markdown",
   "source": [
    "Finally, create the HeatMapWithTime by calling the constructor function on the data and settng the index to the set of dates you generated. Then, add it to your Map."
   ],
   "metadata": {}
  },
  {
   "cell_type": "code",
   "execution_count": null,
   "source": [
    "# This is the code on how to run HeatMapwithTime. Looks similar to code we saw above right?\n",
    "m = folium.Map([39.83, -98.59], zoom_start=6)\n",
    "\n",
    "hm = HeatMapWithTime(\n",
    "    data,\n",
    "    index=time_index,\n",
    "    auto_play=True,\n",
    "    max_opacity=0.3\n",
    ")\n",
    "\n",
    "hm.add_to(m)\n",
    "\n",
    "m"
   ],
   "outputs": [],
   "metadata": {}
  },
  {
   "cell_type": "markdown",
   "source": [
    "Now try for yourself using the Berkeley `calls` data set."
   ],
   "metadata": {}
  },
  {
   "cell_type": "markdown",
   "source": [
    "The first step is to get the data into the correct format. Create a new DataFrame with two columns: Date, containing the data in the calls \"timestamp\" column, and Location, containing the call location data you used to make your HeatMap (the stacked and transposed latitudes and longitudes).\n",
    "\n",
    "Note, the current timestamp objects are reported as both date and time for a filing event. It may not be interesting for the resolution on a frame to be hourly, so we may recommend chopping off the time component of the timestamp and grouping by just day."
   ],
   "metadata": {}
  },
  {
   "cell_type": "code",
   "execution_count": null,
   "source": [
    "# Create a new Dataframe with the date and call location data\n",
    "calls_loc_time = ...\n",
    "\n",
    "# Group by filing day and aggregate entries as a list\n",
    "calls_loc_time = ...\n",
    "calls_loc_time.head()"
   ],
   "outputs": [],
   "metadata": {}
  },
  {
   "cell_type": "markdown",
   "source": [
    "Next, extract the dates and the grouped locations into two variables to put in your HeatMapWithTime, the same we did above with the regular HeatMap. A minor note, above we converted Series objects to arrays by calling `.values`, this technically resolves to a specific type of array that doesn't quite work with the Heatmap object. Simply wrap the call with a `list(your_series.values)` casting to solve this."
   ],
   "metadata": {}
  },
  {
   "cell_type": "code",
   "execution_count": null,
   "source": [
    "berk_dates = ...\n",
    "berk_loc_by_date = ..."
   ],
   "outputs": [],
   "metadata": {}
  },
  {
   "cell_type": "markdown",
   "source": [
    "Finally, create a Folium map of Berkeley, then create a [HeatMapwithTime](https://python-visualization.github.io/folium/docs-v0.5.0/plugins.html) and add it to your Berkeley map. The call looks like `HeatMapWithTime(<grouped locations>, index=<dates>`). Click the link for more documentation. And, try adding the argument `auto_play=True`."
   ],
   "metadata": {}
  },
  {
   "cell_type": "code",
   "execution_count": null,
   "source": [
    "# Plot the heatmap of Berkeley crime\n",
    "berk_coords = (37.87, -122.27) # Solution\n",
    "berk_map2 = folium.Map(location=berk_coords, zoom_start=13) # Solution\n",
    "\n",
    "\n",
    "hmwt_berk = HeatMapWithTime(\n",
    "    ...\n",
    ")\n",
    "\n",
    "hmwt_berk.add_to(berk_map2)\n",
    "berk_map2"
   ],
   "outputs": [],
   "metadata": {
    "scrolled": false
   }
  },
  {
   "cell_type": "markdown",
   "source": [
    "What conclusions can you draw from this Heatmap?"
   ],
   "metadata": {}
  },
  {
   "cell_type": "markdown",
   "source": [
    "<b>Solution</b>:\n",
    "\n",
    "<b> Response here </b>"
   ],
   "metadata": {}
  },
  {
   "cell_type": "code",
   "execution_count": 1,
   "source": [
    "---\n",
    "2019 Changes developed by Adithya Girish\n",
    "\n",
    "Data Science Modules: http://data.berkeley.edu/education/modules"
   ],
   "outputs": [
    {
     "output_type": "error",
     "ename": "SyntaxError",
     "evalue": "invalid syntax (<ipython-input-1-15a8f104e0b4>, line 1)",
     "traceback": [
      "\u001b[1;36m  File \u001b[1;32m\"<ipython-input-1-15a8f104e0b4>\"\u001b[1;36m, line \u001b[1;32m1\u001b[0m\n\u001b[1;33m    ---\u001b[0m\n\u001b[1;37m       ^\u001b[0m\n\u001b[1;31mSyntaxError\u001b[0m\u001b[1;31m:\u001b[0m invalid syntax\n"
     ]
    }
   ],
   "metadata": {}
  },
  {
   "cell_type": "code",
   "execution_count": null,
   "source": [],
   "outputs": [],
   "metadata": {}
  }
 ],
 "metadata": {
  "anaconda-cloud": {},
  "kernelspec": {
   "display_name": "Python 3.9.2 64-bit",
   "name": "python392jvsc74a57bd0aee8b7b246df8f9039afb4144a1f6fd8d2ca17a180786b69acc140d282b71a49"
  },
  "language_info": {
   "name": "python",
   "version": ""
  },
  "metadata": {
   "interpreter": {
    "hash": "aee8b7b246df8f9039afb4144a1f6fd8d2ca17a180786b69acc140d282b71a49"
   }
  }
 },
 "nbformat": 4,
 "nbformat_minor": 1
}