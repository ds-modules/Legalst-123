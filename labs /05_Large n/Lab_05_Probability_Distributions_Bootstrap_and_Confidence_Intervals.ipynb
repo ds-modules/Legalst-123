{
  "cells": [
    {
      "cell_type": "markdown",
      "metadata": {
        "id": "view-in-github",
        "colab_type": "text"
      },
      "source": [
        "<a href=\"https://colab.research.google.com/github/ds-modules/Legalst-123/blob/master/labs%20/05_Large%20n/Lab_05_Probability_Distributions_Bootstrap_and_Confidence_Intervals.ipynb\" target=\"_parent\"><img src=\"https://colab.research.google.com/assets/colab-badge.svg\" alt=\"Open In Colab\"/></a>"
      ]
    },
    {
      "cell_type": "markdown",
      "metadata": {
        "id": "4Qm37b6NdXfZ"
      },
      "source": [
        "# [LEGALST-123] Lab 04: Probability Distributions, Bootstrap, and Confidence Intervals"
      ]
    },
    {
      "cell_type": "code",
      "execution_count": null,
      "metadata": {
        "id": "P1hIE75xdXff"
      },
      "outputs": [],
      "source": [
        "from datascience import *\n",
        "from collections import Counter\n",
        "import numpy as np\n",
        "import pandas as pd\n",
        "from scipy import stats\n",
        "%matplotlib inline\n",
        "import matplotlib.pyplot as plt\n",
        "plots.style.use('fivethirtyeight')"
      ]
    },
    {
      "cell_type": "markdown",
      "source": [
        "Introduction of this Lab:"
      ],
      "metadata": {
        "id": "syz26QXgmsmb"
      }
    },
    {
      "cell_type": "markdown",
      "metadata": {
        "id": "f8tfl7VTdXfg"
      },
      "source": [
        "## Data"
      ]
    },
    {
      "cell_type": "code",
      "source": [
        "anes = pd.read_csv('../data/...csv')\n",
        "anes.head()"
      ],
      "metadata": {
        "id": "ZWxN_CZRmj3x"
      },
      "execution_count": null,
      "outputs": []
    },
    {
      "cell_type": "markdown",
      "metadata": {
        "id": "J2sGRIi6dXfj"
      },
      "source": [
        "## Exploratory Data Analysis"
      ]
    },
    {
      "cell_type": "markdown",
      "metadata": {
        "id": "sHHRvKxldXfj"
      },
      "source": [
        "Refer back to lab 1 for help plotting histograms."
      ]
    },
    {
      "cell_type": "code",
      "execution_count": null,
      "metadata": {
        "collapsed": true,
        "id": "ycGcqSTHdXfk"
      },
      "outputs": [],
      "source": [
        "# Histogram code"
      ]
    },
    {
      "cell_type": "markdown",
      "metadata": {
        "id": "8fqC-YOidXfk"
      },
      "source": [
        "What is the shape of the plot?"
      ]
    },
    {
      "cell_type": "markdown",
      "metadata": {
        "id": "7zKsK9_adXfl"
      },
      "source": []
    },
    {
      "cell_type": "markdown",
      "metadata": {
        "id": "DDWSc6AxdXfl"
      },
      "source": [
        "Report the 25th, 50th, and 75th percentiles. Keep in mind that valid answers have domain [0,100]."
      ]
    },
    {
      "cell_type": "code",
      "execution_count": null,
      "metadata": {
        "collapsed": true,
        "id": "yeqChrCDdXfl"
      },
      "outputs": [],
      "source": [
        "# Save column into an object called 'obama'\n",
        "\n",
        "# Find 25th percentile"
      ]
    },
    {
      "cell_type": "code",
      "execution_count": null,
      "metadata": {
        "collapsed": true,
        "id": "25FrUhP8dXfm"
      },
      "outputs": [],
      "source": [
        "# Find 50th percentile"
      ]
    },
    {
      "cell_type": "markdown",
      "source": [],
      "metadata": {
        "id": "V7D0bvjGmXn_"
      }
    },
    {
      "cell_type": "code",
      "execution_count": null,
      "metadata": {
        "collapsed": true,
        "id": "3CTngcKKdXfm"
      },
      "outputs": [],
      "source": [
        "# Find 75th percentile"
      ]
    },
    {
      "cell_type": "markdown",
      "metadata": {
        "id": "0KkTRZ0qdXfm"
      },
      "source": []
    },
    {
      "cell_type": "code",
      "execution_count": null,
      "metadata": {
        "collapsed": true,
        "id": "M-lAIVOsdXfn"
      },
      "outputs": [],
      "source": [
        "# Find 50th percentile"
      ]
    },
    {
      "cell_type": "code",
      "execution_count": null,
      "metadata": {
        "collapsed": true,
        "id": "md6fRxmidXfo"
      },
      "outputs": [],
      "source": [
        "# Find 75th percentile"
      ]
    },
    {
      "cell_type": "markdown",
      "metadata": {
        "id": "IRsRNmKFdXfo"
      },
      "source": [
        "How do the two distributions compare?"
      ]
    },
    {
      "cell_type": "markdown",
      "metadata": {
        "id": "av7Yf5wHdXfo"
      },
      "source": []
    },
    {
      "cell_type": "markdown",
      "metadata": {
        "id": "McTohsJAdXfo"
      },
      "source": [
        "##2. Bootstrap"
      ]
    },
    {
      "cell_type": "markdown",
      "metadata": {
        "id": "RoQYnr10dXfo"
      },
      "source": [
        "##2.1 Introduction\n",
        "Bootstrapping is a resampling technique that allows us to estimate population parameters by repeatedly sampling from the data with replacement. It is a powerful method for making inferences about a population when we have a sample. In this section, we will explore how bootstrapping can be applied to our dataset to estimate population parameters.\n",
        "\n",
        "### Understanding Bootstrapping\n",
        "Bootstrapping is a statistical method that works as follows:\n",
        "1. Create a large number of resampled datasets by randomly selecting data points from the original dataset with replacement.\n",
        "2. Calculate the statistic of interest (e.g., mean, median, proportion) for each resampled dataset.\n",
        "3. Use the distribution of these statistics to estimate population parameters and their uncertainty.\n",
        "\n"
      ]
    },
    {
      "cell_type": "markdown",
      "source": [
        "\n",
        "For bootstrapping analysis, you can use various indices (columns) from your dataset as a statistic of interest. Here are a few index options that could be used for bootstrapping analysis based on the provided dataset:"
      ],
      "metadata": {
        "id": "b9DMHppQgSyL"
      }
    },
    {
      "cell_type": "markdown",
      "source": [
        "Text your answer here:\n",
        "Subject Age,Arrest Made, Violation Type,\n",
        "Location Information: You might use bootstrapping to estimate population statistics related to the geographical locations of police stops, such as latitude and longitude.\n",
        "Time Information: Bootstrapping could be applied to estimate population statistics related to time, such as the time of day or day of the week when police stops occur.\n",
        "\n",
        "Officer Information: You can estimate population statistics regarding specific officers' actions or behaviors during police stops.\n",
        "\n",
        "Demographic Information: You can use bootstrapping to estimate population statistics related to the demographics of the subjects, such as race, gender, or age."
      ],
      "metadata": {
        "id": "pc1mi60igVRc"
      }
    },
    {
      "cell_type": "markdown",
      "source": [
        "## 2.2 Bootstrapping for Estimating Population Median\n",
        "\n",
        "### Step 1: Create Resampled Datasets\n",
        "Let's start by demonstrating bootstrapping for estimating the population median of a specific variable in our dataset. We'll use the 'subject_age' column as an example."
      ],
      "metadata": {
        "id": "Ik8nt5ebgMbo"
      }
    },
    {
      "cell_type": "code",
      "execution_count": null,
      "metadata": {
        "collapsed": true,
        "id": "0RS1TojxdXfp"
      },
      "outputs": [],
      "source": [
        "# Number of resamples\n",
        "# hint: Find number of rows\n",
        "num_resamples = ..."
      ]
    },
    {
      "cell_type": "code",
      "source": [
        "# Create an empty array to store bootstrapped medians\n",
        "bootstrapped_medians = ..."
      ],
      "metadata": {
        "id": "1Cwbn3_ceYbq"
      },
      "execution_count": null,
      "outputs": []
    },
    {
      "cell_type": "code",
      "execution_count": null,
      "metadata": {
        "collapsed": true,
        "id": "LQ2RPdLbdXfp"
      },
      "outputs": [],
      "source": [
        "# Perform bootstrapping\n",
        "# hint:Resample the data\n",
        "for i in range(num_resamples):\n",
        "    # Resample the 'subject_age' column with replacement\n",
        "    resample = np.random.choice(dataset['subject_age'], size=len(dataset), replace=True)\n",
        "    # Calculate the median of the resampled data\n",
        "    bootstrapped_medians[i] = np.median(resample)\n"
      ]
    },
    {
      "cell_type": "markdown",
      "source": [
        "### Step 2: Visualize the Bootstrapped Medians\n",
        "Now, let's visualize the distribution of bootstrapped medians using a histogram."
      ],
      "metadata": {
        "id": "DWehZOXne3Uk"
      }
    },
    {
      "cell_type": "code",
      "execution_count": null,
      "metadata": {
        "collapsed": true,
        "id": "ibBHaK94dXfp"
      },
      "outputs": [],
      "source": [
        "# Create a histogram of bootstrapped medians\n",
        "plt.hist(bootstrapped_medians, bins=30, edgecolor='k')\n",
        "plt.xlabel('Bootstrapped Medians of Subject Age')\n",
        "plt.ylabel('Frequency')\n",
        "plt.title('Bootstrapped Distribution of Medians')\n",
        "plt.show()"
      ]
    },
    {
      "cell_type": "markdown",
      "source": [
        "### Step 3: Calculate Confidence Interval\n",
        "We can use the bootstrapped medians to calculate a confidence interval for the population median. Let's calculate a 95% confidence interval.\n",
        "\n",
        "review:\n",
        "\n",
        "Confidence intervals provide a range of values within which we can be reasonably certain the population parameter lies. In other words, they help us quantify the uncertainty in our estimates."
      ],
      "metadata": {
        "id": "E5bdK9K7fZTa"
      }
    },
    {
      "cell_type": "markdown",
      "source": [
        "### Transition from NumPy to Pandas for Confidence Intervals\n",
        "In Data 8, students often use NumPy for calculations related to confidence intervals. However, in a real-world data analysis setting, you may frequently work with Pandas DataFrames. Here, we'll discuss how to transition from NumPy to Pandas for calculating confidence intervals."
      ],
      "metadata": {
        "id": "z4ZwkvHL7sWx"
      }
    },
    {
      "cell_type": "markdown",
      "source": [
        "Example: Calculating a Confidence Interval\n",
        "Let's calculate a confidence interval for the mean 'subject_age' using both NumPy and Pandas. We'll start with NumPy."
      ],
      "metadata": {
        "id": "FaeXCxjU79cZ"
      }
    },
    {
      "cell_type": "code",
      "source": [
        "import numpy as np\n",
        "\n",
        "# NumPy approach for confidence interval\n",
        "data = dataset['subject_age']\n",
        "confidence_interval_np = np.percentile(data, [2.5, 97.5])\n",
        "print(f'95% Confidence Interval for Subject Age (NumPy): {confidence_interval_np}')"
      ],
      "metadata": {
        "id": "NqpvnKGU8JfO"
      },
      "execution_count": null,
      "outputs": []
    },
    {
      "cell_type": "code",
      "source": [
        "Now, let's calculate the confidence interval using Pandas."
      ],
      "metadata": {
        "id": "gEd2H2Ue8OCC"
      },
      "execution_count": null,
      "outputs": []
    },
    {
      "cell_type": "code",
      "source": [
        "import pandas as pd\n",
        "# Calculate the 95% confidence interval\n",
        "confidence_interval_prop = ... (data.quantile([0.025, 0.975]))\n",
        "\n",
        "# Do not delete or edit this following code\n",
        "print(f'95% Confidence Interval for Proportion of Arrests Made: {confidence_interval_prop}')"
      ],
      "metadata": {
        "id": "xGvDJS__BY0z"
      },
      "execution_count": null,
      "outputs": []
    },
    {
      "cell_type": "markdown",
      "source": [],
      "metadata": {
        "id": "YtENykmX8zYv"
      }
    },
    {
      "cell_type": "code",
      "execution_count": null,
      "metadata": {
        "collapsed": true,
        "id": "ypvBOOTFdXfp"
      },
      "outputs": [],
      "source": [
        "# 50th percentile/median"
      ]
    },
    {
      "cell_type": "markdown",
      "source": [
        "###Significance of Confidence Intervals\n",
        "\n",
        "Confidence intervals provide a measure of the uncertainty associated with our parameter estimates. They offer a range of values within which we can be reasonably confident that the true population parameter lies. This is crucial for making informed decisions and drawing meaningful conclusions from our data.\n",
        "By calculating confidence intervals, we can quantify the precision of our estimates and assess the reliability of our results."
      ],
      "metadata": {
        "id": "D7TMZri68tBM"
      }
    },
    {
      "cell_type": "markdown",
      "source": [
        "##2.3 Bootstrapping for Estimating Population Proportion"
      ],
      "metadata": {
        "id": "P6f40q2l9ku7"
      }
    },
    {
      "cell_type": "markdown",
      "source": [
        "Now, let's demonstrate bootstrapping for estimating a population proportion. We'll estimate the proportion of cases where 'arrest_made' is True."
      ],
      "metadata": {
        "id": "Gl7PkBWP90U1"
      }
    },
    {
      "cell_type": "code",
      "source": [
        "import numpy as np\n",
        "\n",
        "# Number of resamples\n",
        "num_resamples = 1000\n",
        "\n",
        "# Create an empty array to store bootstrapped proportions\n",
        "bootstrapped_proportions = np.empty(num_resamples)\n",
        "\n",
        "# Perform bootstrapping\n",
        "for i in range(num_resamples):\n",
        "    # Resample the 'arrest_made' column with replacement\n",
        "    resample = np.random.choice(dataset['arrest_made'], size=len(dataset), replace=True)\n",
        "    # Calculate the proportion of 'arrest"
      ],
      "metadata": {
        "id": "TPESnmvw9yBu"
      },
      "execution_count": null,
      "outputs": []
    },
    {
      "cell_type": "markdown",
      "metadata": {
        "id": "b17So5YEdXfp"
      },
      "source": [
        "### Question 1"
      ]
    },
    {
      "cell_type": "markdown",
      "metadata": {
        "id": "T8RU8N35dXfp"
      },
      "source": [
        "How does the resampled median compare to the original median? Does this result make sense?"
      ]
    },
    {
      "cell_type": "markdown",
      "metadata": {
        "id": "rU6DuUgLdXfp"
      },
      "source": []
    },
    {
      "cell_type": "markdown",
      "metadata": {
        "id": "kxvOOxYTdXfq"
      },
      "source": [
        "Now, define a function titled \"bootstrap_median\" that takes the original sample, the column name we're concerned with, and the number of resamples as arguments. The function should calculate simulated medians and return them in an array."
      ]
    },
    {
      "cell_type": "code",
      "execution_count": null,
      "metadata": {
        "collapsed": true,
        "id": "ll-buMLzdXfq"
      },
      "outputs": [],
      "source": [
        "# Define a function \"bootstrap_median\" with arguments \"original_sample\", \"label\", and \"replications\"\n",
        "# that returns an array with the medians found in replications\n",
        "def bootstrap_median(original_sample, label, replications):\n",
        "    \"\"\"Returns an array of bootstrapped sample medians:\n",
        "    original_sample: table containing the original sample\n",
        "    label: label of column containing the variable\n",
        "    replications: number of bootstrap samples\n",
        "    \"\"\"\n",
        "    just_one_column = original_sample.loc[:, label]\n",
        "    medians = []\n",
        "    for i in np.arange(replications):\n",
        "        ...\n",
        "\n",
        "    return ..."
      ]
    },
    {
      "cell_type": "markdown",
      "metadata": {
        "id": "MyljvxzddXfq"
      },
      "source": [
        "Replicate the bootstrap 10,000 times, then save the results."
      ]
    },
    {
      "cell_type": "code",
      "execution_count": null,
      "metadata": {
        "collapsed": true,
        "id": "391J88CZdXgP"
      },
      "outputs": [],
      "source": [
        "# Resample 10,000 times"
      ]
    },
    {
      "cell_type": "markdown",
      "metadata": {
        "id": "cmyJhHy-dXgP"
      },
      "source": [
        "Plot a histogram of the resampled medians, and plot the 95% confidence interval. (hint: to plot the confidence interval, try using the 2.5 percentile and 97.5 percentile values in a numpy array)"
      ]
    },
    {
      "cell_type": "code",
      "execution_count": null,
      "metadata": {
        "collapsed": true,
        "id": "6HrbZuB-dXgU"
      },
      "outputs": [],
      "source": [
        "# Plot medians\n",
        "...\n",
        "plots.plot(np.array([pd.Series(medians).quantile(q=.025), pd.Series(medians).quantile(q=.975)]), np.array([0, 0]), color='yellow', lw=10, zorder=1)"
      ]
    },
    {
      "cell_type": "markdown",
      "metadata": {
        "id": "_7ldoU1cdXgZ"
      },
      "source": [
        "### Question 2"
      ]
    },
    {
      "cell_type": "markdown",
      "metadata": {
        "id": "bgYF-cJddXgg"
      },
      "source": [
        "What can you infer about the likely population median given the above distribution?"
      ]
    },
    {
      "cell_type": "markdown",
      "metadata": {
        "id": "9itGr32gdXgj"
      },
      "source": []
    },
    {
      "cell_type": "markdown",
      "metadata": {
        "id": "mORpfPmedXgl"
      },
      "source": [
        "Finally, write a simulation that constructs 100 confidence intervals. (Remember to use the 2.5 and 97.5 percentiles!)"
      ]
    },
    {
      "cell_type": "code",
      "execution_count": null,
      "metadata": {
        "collapsed": true,
        "id": "_8t0g1aedXgs"
      },
      "outputs": [],
      "source": [
        "# Construct 100 confidence intervals\n",
        "left_ends = []\n",
        "right_ends = []\n",
        "\n",
        "for i in np.arange(100):\n",
        "    ...\n",
        "\n",
        "intervals = pd.DataFrame(data={\"Left\": left_ends, \"Right\": right_ends})"
      ]
    },
    {
      "cell_type": "markdown",
      "metadata": {
        "id": "T2LtK_gxdXgs"
      },
      "source": [
        "#### Question 3"
      ]
    },
    {
      "cell_type": "markdown",
      "metadata": {
        "id": "W5h2FYX7dXgs"
      },
      "source": [
        "Finally, plot 100 confidence intervals (stacked on top of each other). What can you conclude about the median?"
      ]
    },
    {
      "cell_type": "markdown",
      "metadata": {
        "id": "hqJebxKRdXgt"
      },
      "source": []
    },
    {
      "cell_type": "code",
      "execution_count": null,
      "metadata": {
        "collapsed": true,
        "id": "qi3we-k_dXgt"
      },
      "outputs": [],
      "source": [
        "# Plot the confidence intervals\n",
        "plots.figure(figsize=(8,8))\n",
        "for i in np.arange(100):\n",
        "    ends = ...\n",
        "    plots.plot(ends, np.array([i + 1, i + 1]), color='gold')\n",
        "plots.xlabel('Median')\n",
        "plots.ylabel('Replication')\n",
        "plots.title('Population Median and Intervals of Estimates');"
      ]
    },
    {
      "cell_type": "code",
      "execution_count": null,
      "metadata": {
        "collapsed": true,
        "id": "H6Gs8fWCdXgt"
      },
      "outputs": [],
      "source": []
    }
  ],
  "metadata": {
    "kernelspec": {
      "display_name": "Python 3",
      "language": "python",
      "name": "python3"
    },
    "language_info": {
      "codemirror_mode": {
        "name": "ipython",
        "version": 3
      },
      "file_extension": ".py",
      "mimetype": "text/x-python",
      "name": "python",
      "nbconvert_exporter": "python",
      "pygments_lexer": "ipython3",
      "version": "3.7.4"
    },
    "colab": {
      "provenance": [],
      "include_colab_link": true
    }
  },
  "nbformat": 4,
  "nbformat_minor": 0
}